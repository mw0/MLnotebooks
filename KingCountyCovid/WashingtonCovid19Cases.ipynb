{
 "cells": [
  {
   "cell_type": "markdown",
   "metadata": {},
   "source": [
    "# Washington State Covid-19 Cases\n",
    "\n",
    "## Purpose\n",
    "\n",
    "\n",
    "\n",
    "## Methodology\n",
    "\n",
    "Data are provided by the Washington State Department of Health as an XLSX spreadsheet.\n",
    "This is updated weekly on Sundays, so get the specific URL from the [Data Downloads](https://www.doh.wa.gov/Emergencies/Coronavirus#34225) section of the department's [2019 Novel Coronavirus Outbreak (COVID-19)](https://www.doh.wa.gov/Emergencies/Coronavirus) page.\n",
    "\n",
    "## Results\n",
    "\n",
    "## Suggested next steps\n"
   ]
  },
  {
   "cell_type": "markdown",
   "metadata": {},
   "source": [
    "# Setup\n",
    "\n",
    "**Next two lines are for pretty output of all output in each cell, not just the last.**"
   ]
  },
  {
   "cell_type": "code",
   "execution_count": 1,
   "metadata": {
    "ExecuteTime": {
     "end_time": "2020-07-06T19:13:21.567593Z",
     "start_time": "2020-07-06T19:13:21.564693Z"
    }
   },
   "outputs": [],
   "source": [
    "from IPython.core.interactiveshell import InteractiveShell\n",
    "InteractiveShell.ast_node_interactivity = \"all\""
   ]
  },
  {
   "cell_type": "markdown",
   "metadata": {},
   "source": [
    "## Library import\n",
    "We import all the required Python libraries"
   ]
  },
  {
   "cell_type": "code",
   "execution_count": 2,
   "metadata": {
    "ExecuteTime": {
     "end_time": "2020-07-06T19:13:23.716111Z",
     "start_time": "2020-07-06T19:13:22.586320Z"
    }
   },
   "outputs": [
    {
     "data": {
      "text/html": [
       "        <script type=\"text/javascript\">\n",
       "        window.PlotlyConfig = {MathJaxConfig: 'local'};\n",
       "        if (window.MathJax) {MathJax.Hub.Config({SVG: {font: \"STIX-Web\"}});}\n",
       "        if (typeof require !== 'undefined') {\n",
       "        require.undef(\"plotly\");\n",
       "        requirejs.config({\n",
       "            paths: {\n",
       "                'plotly': ['https://cdn.plot.ly/plotly-latest.min']\n",
       "            }\n",
       "        });\n",
       "        require(['plotly'], function(Plotly) {\n",
       "            window._Plotly = Plotly;\n",
       "        });\n",
       "        }\n",
       "        </script>\n",
       "        "
      ]
     },
     "metadata": {},
     "output_type": "display_data"
    },
    {
     "data": {
      "text/html": [
       "        <script type=\"text/javascript\">\n",
       "        window.PlotlyConfig = {MathJaxConfig: 'local'};\n",
       "        if (window.MathJax) {MathJax.Hub.Config({SVG: {font: \"STIX-Web\"}});}\n",
       "        if (typeof require !== 'undefined') {\n",
       "        require.undef(\"plotly\");\n",
       "        requirejs.config({\n",
       "            paths: {\n",
       "                'plotly': ['https://cdn.plot.ly/plotly-latest.min']\n",
       "            }\n",
       "        });\n",
       "        require(['plotly'], function(Plotly) {\n",
       "            window._Plotly = Plotly;\n",
       "        });\n",
       "        }\n",
       "        </script>\n",
       "        "
      ]
     },
     "metadata": {},
     "output_type": "display_data"
    }
   ],
   "source": [
    "# Data manipulation\n",
    "import pandas as pd\n",
    "import numpy as np\n",
    "\n",
    "# Options for pandas\n",
    "pd.options.display.max_columns = 50\n",
    "pd.options.display.max_rows = 30\n",
    "\n",
    "# Visualizations\n",
    "import plotly\n",
    "import plotly.graph_objs as go\n",
    "import plotly.offline as ply\n",
    "import plotly.express as px\n",
    "plotly.offline.init_notebook_mode(connected=True)\n",
    "\n",
    "import cufflinks as cf\n",
    "cf.go_offline(connected=True)\n",
    "cf.set_config_file(theme='white')\n",
    "\n",
    "import matplotlib as plt\n",
    "\n",
    "# Autoreload extension\n",
    "if 'autoreload' not in get_ipython().extension_manager.loaded:\n",
    "    %load_ext autoreload\n",
    "    \n",
    "%autoreload 2"
   ]
  },
  {
   "cell_type": "markdown",
   "metadata": {},
   "source": [
    "## Local library import\n",
    "We import all the required local libraries libraries"
   ]
  },
  {
   "cell_type": "code",
   "execution_count": 3,
   "metadata": {
    "ExecuteTime": {
     "end_time": "2020-07-06T19:13:24.666423Z",
     "start_time": "2020-07-06T19:13:24.647885Z"
    }
   },
   "outputs": [],
   "source": [
    "# Include local library paths\n",
    "import sys\n",
    "# sys.path.append('path/to/local/lib') # uncomment and fill to import local libraries\n",
    "\n",
    "# Import local libraries"
   ]
  },
  {
   "cell_type": "markdown",
   "metadata": {},
   "source": [
    "# Parameter definition\n",
    "We set all relevant parameters for our notebook. By convention, parameters are uppercase, while all the \n",
    "other variables follow Python's guidelines."
   ]
  },
  {
   "cell_type": "markdown",
   "metadata": {},
   "source": [
    "\n",
    "# Data import\n",
    "We retrieve all the required data for the analysis."
   ]
  },
  {
   "cell_type": "code",
   "execution_count": 59,
   "metadata": {
    "ExecuteTime": {
     "end_time": "2020-07-12T19:32:39.083862Z",
     "start_time": "2020-07-12T19:32:38.611893Z"
    }
   },
   "outputs": [],
   "source": [
    "latestData = (\"https://www.doh.wa.gov/Portals/1/Documents/1600/coronavirus/\"\n",
    "              # \"data-tables/PUBLIC_CDC_Event_Date_SARS.xlsx?ver=20200706121119\"\n",
    "              \"data-tables/PUBLIC_CDC_Event_Date_SARS.xlsx?ver=20200712123123\")\n",
    "df = pd.read_excel(latestData)"
   ]
  },
  {
   "cell_type": "code",
   "execution_count": 60,
   "metadata": {
    "ExecuteTime": {
     "end_time": "2020-07-12T19:32:39.356946Z",
     "start_time": "2020-07-12T19:32:39.300488Z"
    }
   },
   "outputs": [
    {
     "name": "stdout",
     "output_type": "stream",
     "text": [
      "<class 'pandas.core.frame.DataFrame'>\n",
      "RangeIndex: 571 entries, 0 to 570\n",
      "Data columns (total 10 columns):\n",
      " #   Column           Non-Null Count  Dtype         \n",
      "---  ------           --------------  -----         \n",
      " 0   County           571 non-null    object        \n",
      " 1   WeekStartDate    571 non-null    object        \n",
      " 2   NewPos_All       571 non-null    int64         \n",
      " 3   Age 0-19         571 non-null    int64         \n",
      " 4   Age 20-39        571 non-null    int64         \n",
      " 5   Age 40-59        571 non-null    int64         \n",
      " 6   Age 60-79        571 non-null    int64         \n",
      " 7   Age 80+          571 non-null    int64         \n",
      " 8   Positive UnkAge  571 non-null    int64         \n",
      " 9   dtm_updated      571 non-null    datetime64[ns]\n",
      "dtypes: datetime64[ns](1), int64(7), object(2)\n",
      "memory usage: 44.7+ KB\n"
     ]
    },
    {
     "data": {
      "text/html": [
       "<div>\n",
       "<style scoped>\n",
       "    .dataframe tbody tr th:only-of-type {\n",
       "        vertical-align: middle;\n",
       "    }\n",
       "\n",
       "    .dataframe tbody tr th {\n",
       "        vertical-align: top;\n",
       "    }\n",
       "\n",
       "    .dataframe thead th {\n",
       "        text-align: right;\n",
       "    }\n",
       "</style>\n",
       "<table border=\"1\" class=\"dataframe\">\n",
       "  <thead>\n",
       "    <tr style=\"text-align: right;\">\n",
       "      <th></th>\n",
       "      <th>NewPos_All</th>\n",
       "      <th>Age 0-19</th>\n",
       "      <th>Age 20-39</th>\n",
       "      <th>Age 40-59</th>\n",
       "      <th>Age 60-79</th>\n",
       "      <th>Age 80+</th>\n",
       "      <th>Positive UnkAge</th>\n",
       "    </tr>\n",
       "  </thead>\n",
       "  <tbody>\n",
       "    <tr>\n",
       "      <th>count</th>\n",
       "      <td>571.000000</td>\n",
       "      <td>571.000000</td>\n",
       "      <td>571.000000</td>\n",
       "      <td>571.000000</td>\n",
       "      <td>571.000000</td>\n",
       "      <td>571.000000</td>\n",
       "      <td>571.000000</td>\n",
       "    </tr>\n",
       "    <tr>\n",
       "      <th>mean</th>\n",
       "      <td>62.859895</td>\n",
       "      <td>5.929947</td>\n",
       "      <td>23.262697</td>\n",
       "      <td>19.371278</td>\n",
       "      <td>10.269702</td>\n",
       "      <td>3.989492</td>\n",
       "      <td>0.036778</td>\n",
       "    </tr>\n",
       "    <tr>\n",
       "      <th>std</th>\n",
       "      <td>148.238587</td>\n",
       "      <td>15.930176</td>\n",
       "      <td>56.350697</td>\n",
       "      <td>46.961262</td>\n",
       "      <td>27.085261</td>\n",
       "      <td>12.071711</td>\n",
       "      <td>0.222536</td>\n",
       "    </tr>\n",
       "    <tr>\n",
       "      <th>min</th>\n",
       "      <td>1.000000</td>\n",
       "      <td>0.000000</td>\n",
       "      <td>0.000000</td>\n",
       "      <td>0.000000</td>\n",
       "      <td>0.000000</td>\n",
       "      <td>0.000000</td>\n",
       "      <td>0.000000</td>\n",
       "    </tr>\n",
       "    <tr>\n",
       "      <th>5%</th>\n",
       "      <td>1.000000</td>\n",
       "      <td>0.000000</td>\n",
       "      <td>0.000000</td>\n",
       "      <td>0.000000</td>\n",
       "      <td>0.000000</td>\n",
       "      <td>0.000000</td>\n",
       "      <td>0.000000</td>\n",
       "    </tr>\n",
       "    <tr>\n",
       "      <th>15%</th>\n",
       "      <td>1.000000</td>\n",
       "      <td>0.000000</td>\n",
       "      <td>0.000000</td>\n",
       "      <td>0.000000</td>\n",
       "      <td>0.000000</td>\n",
       "      <td>0.000000</td>\n",
       "      <td>0.000000</td>\n",
       "    </tr>\n",
       "    <tr>\n",
       "      <th>25%</th>\n",
       "      <td>2.000000</td>\n",
       "      <td>0.000000</td>\n",
       "      <td>0.500000</td>\n",
       "      <td>1.000000</td>\n",
       "      <td>0.000000</td>\n",
       "      <td>0.000000</td>\n",
       "      <td>0.000000</td>\n",
       "    </tr>\n",
       "    <tr>\n",
       "      <th>50%</th>\n",
       "      <td>9.000000</td>\n",
       "      <td>1.000000</td>\n",
       "      <td>3.000000</td>\n",
       "      <td>3.000000</td>\n",
       "      <td>2.000000</td>\n",
       "      <td>0.000000</td>\n",
       "      <td>0.000000</td>\n",
       "    </tr>\n",
       "    <tr>\n",
       "      <th>75%</th>\n",
       "      <td>42.500000</td>\n",
       "      <td>4.000000</td>\n",
       "      <td>15.000000</td>\n",
       "      <td>13.500000</td>\n",
       "      <td>8.000000</td>\n",
       "      <td>2.000000</td>\n",
       "      <td>0.000000</td>\n",
       "    </tr>\n",
       "    <tr>\n",
       "      <th>85%</th>\n",
       "      <td>97.000000</td>\n",
       "      <td>9.000000</td>\n",
       "      <td>33.000000</td>\n",
       "      <td>28.000000</td>\n",
       "      <td>16.000000</td>\n",
       "      <td>6.000000</td>\n",
       "      <td>0.000000</td>\n",
       "    </tr>\n",
       "    <tr>\n",
       "      <th>95%</th>\n",
       "      <td>308.000000</td>\n",
       "      <td>32.500000</td>\n",
       "      <td>123.500000</td>\n",
       "      <td>93.500000</td>\n",
       "      <td>49.000000</td>\n",
       "      <td>22.000000</td>\n",
       "      <td>0.000000</td>\n",
       "    </tr>\n",
       "    <tr>\n",
       "      <th>max</th>\n",
       "      <td>1092.000000</td>\n",
       "      <td>132.000000</td>\n",
       "      <td>409.000000</td>\n",
       "      <td>400.000000</td>\n",
       "      <td>242.000000</td>\n",
       "      <td>130.000000</td>\n",
       "      <td>3.000000</td>\n",
       "    </tr>\n",
       "  </tbody>\n",
       "</table>\n",
       "</div>"
      ],
      "text/plain": [
       "        NewPos_All    Age 0-19   Age 20-39   Age 40-59   Age 60-79  \\\n",
       "count   571.000000  571.000000  571.000000  571.000000  571.000000   \n",
       "mean     62.859895    5.929947   23.262697   19.371278   10.269702   \n",
       "std     148.238587   15.930176   56.350697   46.961262   27.085261   \n",
       "min       1.000000    0.000000    0.000000    0.000000    0.000000   \n",
       "5%        1.000000    0.000000    0.000000    0.000000    0.000000   \n",
       "15%       1.000000    0.000000    0.000000    0.000000    0.000000   \n",
       "25%       2.000000    0.000000    0.500000    1.000000    0.000000   \n",
       "50%       9.000000    1.000000    3.000000    3.000000    2.000000   \n",
       "75%      42.500000    4.000000   15.000000   13.500000    8.000000   \n",
       "85%      97.000000    9.000000   33.000000   28.000000   16.000000   \n",
       "95%     308.000000   32.500000  123.500000   93.500000   49.000000   \n",
       "max    1092.000000  132.000000  409.000000  400.000000  242.000000   \n",
       "\n",
       "          Age 80+  Positive UnkAge  \n",
       "count  571.000000       571.000000  \n",
       "mean     3.989492         0.036778  \n",
       "std     12.071711         0.222536  \n",
       "min      0.000000         0.000000  \n",
       "5%       0.000000         0.000000  \n",
       "15%      0.000000         0.000000  \n",
       "25%      0.000000         0.000000  \n",
       "50%      0.000000         0.000000  \n",
       "75%      2.000000         0.000000  \n",
       "85%      6.000000         0.000000  \n",
       "95%     22.000000         0.000000  \n",
       "max    130.000000         3.000000  "
      ]
     },
     "execution_count": 60,
     "metadata": {},
     "output_type": "execute_result"
    },
    {
     "data": {
      "text/html": [
       "<div>\n",
       "<style scoped>\n",
       "    .dataframe tbody tr th:only-of-type {\n",
       "        vertical-align: middle;\n",
       "    }\n",
       "\n",
       "    .dataframe tbody tr th {\n",
       "        vertical-align: top;\n",
       "    }\n",
       "\n",
       "    .dataframe thead th {\n",
       "        text-align: right;\n",
       "    }\n",
       "</style>\n",
       "<table border=\"1\" class=\"dataframe\">\n",
       "  <thead>\n",
       "    <tr style=\"text-align: right;\">\n",
       "      <th></th>\n",
       "      <th>County</th>\n",
       "      <th>WeekStartDate</th>\n",
       "      <th>NewPos_All</th>\n",
       "      <th>Age 0-19</th>\n",
       "      <th>Age 20-39</th>\n",
       "      <th>Age 40-59</th>\n",
       "      <th>Age 60-79</th>\n",
       "      <th>Age 80+</th>\n",
       "      <th>Positive UnkAge</th>\n",
       "      <th>dtm_updated</th>\n",
       "    </tr>\n",
       "  </thead>\n",
       "  <tbody>\n",
       "    <tr>\n",
       "      <th>0</th>\n",
       "      <td>Adams County</td>\n",
       "      <td>2020-03-08</td>\n",
       "      <td>4</td>\n",
       "      <td>0</td>\n",
       "      <td>1</td>\n",
       "      <td>1</td>\n",
       "      <td>2</td>\n",
       "      <td>0</td>\n",
       "      <td>0</td>\n",
       "      <td>2020-07-05 15:36:42.278</td>\n",
       "    </tr>\n",
       "    <tr>\n",
       "      <th>1</th>\n",
       "      <td>Adams County</td>\n",
       "      <td>2020-03-15</td>\n",
       "      <td>3</td>\n",
       "      <td>0</td>\n",
       "      <td>0</td>\n",
       "      <td>3</td>\n",
       "      <td>0</td>\n",
       "      <td>0</td>\n",
       "      <td>0</td>\n",
       "      <td>2020-07-05 15:36:42.278</td>\n",
       "    </tr>\n",
       "    <tr>\n",
       "      <th>2</th>\n",
       "      <td>Adams County</td>\n",
       "      <td>2020-03-22</td>\n",
       "      <td>9</td>\n",
       "      <td>0</td>\n",
       "      <td>1</td>\n",
       "      <td>4</td>\n",
       "      <td>4</td>\n",
       "      <td>0</td>\n",
       "      <td>0</td>\n",
       "      <td>2020-07-05 15:36:42.278</td>\n",
       "    </tr>\n",
       "    <tr>\n",
       "      <th>3</th>\n",
       "      <td>Adams County</td>\n",
       "      <td>2020-03-29</td>\n",
       "      <td>17</td>\n",
       "      <td>2</td>\n",
       "      <td>8</td>\n",
       "      <td>4</td>\n",
       "      <td>3</td>\n",
       "      <td>0</td>\n",
       "      <td>0</td>\n",
       "      <td>2020-07-05 15:36:42.278</td>\n",
       "    </tr>\n",
       "    <tr>\n",
       "      <th>4</th>\n",
       "      <td>Adams County</td>\n",
       "      <td>2020-04-05</td>\n",
       "      <td>8</td>\n",
       "      <td>1</td>\n",
       "      <td>2</td>\n",
       "      <td>4</td>\n",
       "      <td>1</td>\n",
       "      <td>0</td>\n",
       "      <td>0</td>\n",
       "      <td>2020-07-05 15:36:42.278</td>\n",
       "    </tr>\n",
       "  </tbody>\n",
       "</table>\n",
       "</div>"
      ],
      "text/plain": [
       "         County WeekStartDate  NewPos_All  Age 0-19  Age 20-39  Age 40-59  \\\n",
       "0  Adams County    2020-03-08           4         0          1          1   \n",
       "1  Adams County    2020-03-15           3         0          0          3   \n",
       "2  Adams County    2020-03-22           9         0          1          4   \n",
       "3  Adams County    2020-03-29          17         2          8          4   \n",
       "4  Adams County    2020-04-05           8         1          2          4   \n",
       "\n",
       "   Age 60-79  Age 80+  Positive UnkAge             dtm_updated  \n",
       "0          2        0                0 2020-07-05 15:36:42.278  \n",
       "1          0        0                0 2020-07-05 15:36:42.278  \n",
       "2          4        0                0 2020-07-05 15:36:42.278  \n",
       "3          3        0                0 2020-07-05 15:36:42.278  \n",
       "4          1        0                0 2020-07-05 15:36:42.278  "
      ]
     },
     "execution_count": 60,
     "metadata": {},
     "output_type": "execute_result"
    },
    {
     "data": {
      "text/html": [
       "<div>\n",
       "<style scoped>\n",
       "    .dataframe tbody tr th:only-of-type {\n",
       "        vertical-align: middle;\n",
       "    }\n",
       "\n",
       "    .dataframe tbody tr th {\n",
       "        vertical-align: top;\n",
       "    }\n",
       "\n",
       "    .dataframe thead th {\n",
       "        text-align: right;\n",
       "    }\n",
       "</style>\n",
       "<table border=\"1\" class=\"dataframe\">\n",
       "  <thead>\n",
       "    <tr style=\"text-align: right;\">\n",
       "      <th></th>\n",
       "      <th>County</th>\n",
       "      <th>WeekStartDate</th>\n",
       "      <th>NewPos_All</th>\n",
       "      <th>Age 0-19</th>\n",
       "      <th>Age 20-39</th>\n",
       "      <th>Age 40-59</th>\n",
       "      <th>Age 60-79</th>\n",
       "      <th>Age 80+</th>\n",
       "      <th>Positive UnkAge</th>\n",
       "      <th>dtm_updated</th>\n",
       "    </tr>\n",
       "  </thead>\n",
       "  <tbody>\n",
       "    <tr>\n",
       "      <th>566</th>\n",
       "      <td>Unassigned</td>\n",
       "      <td>2020-05-31</td>\n",
       "      <td>3</td>\n",
       "      <td>1</td>\n",
       "      <td>1</td>\n",
       "      <td>0</td>\n",
       "      <td>0</td>\n",
       "      <td>0</td>\n",
       "      <td>1</td>\n",
       "      <td>2020-07-05 15:36:42.278</td>\n",
       "    </tr>\n",
       "    <tr>\n",
       "      <th>567</th>\n",
       "      <td>Unassigned</td>\n",
       "      <td>2020-06-07</td>\n",
       "      <td>5</td>\n",
       "      <td>1</td>\n",
       "      <td>1</td>\n",
       "      <td>3</td>\n",
       "      <td>0</td>\n",
       "      <td>0</td>\n",
       "      <td>0</td>\n",
       "      <td>2020-07-05 15:36:42.278</td>\n",
       "    </tr>\n",
       "    <tr>\n",
       "      <th>568</th>\n",
       "      <td>Unassigned</td>\n",
       "      <td>2020-06-14</td>\n",
       "      <td>9</td>\n",
       "      <td>0</td>\n",
       "      <td>7</td>\n",
       "      <td>1</td>\n",
       "      <td>0</td>\n",
       "      <td>0</td>\n",
       "      <td>1</td>\n",
       "      <td>2020-07-05 15:36:42.278</td>\n",
       "    </tr>\n",
       "    <tr>\n",
       "      <th>569</th>\n",
       "      <td>Unassigned</td>\n",
       "      <td>2020-06-21</td>\n",
       "      <td>27</td>\n",
       "      <td>2</td>\n",
       "      <td>12</td>\n",
       "      <td>8</td>\n",
       "      <td>5</td>\n",
       "      <td>0</td>\n",
       "      <td>0</td>\n",
       "      <td>2020-07-05 15:36:42.278</td>\n",
       "    </tr>\n",
       "    <tr>\n",
       "      <th>570</th>\n",
       "      <td>Unassigned</td>\n",
       "      <td>2020-06-28</td>\n",
       "      <td>81</td>\n",
       "      <td>7</td>\n",
       "      <td>40</td>\n",
       "      <td>25</td>\n",
       "      <td>7</td>\n",
       "      <td>2</td>\n",
       "      <td>0</td>\n",
       "      <td>2020-07-05 15:36:42.278</td>\n",
       "    </tr>\n",
       "  </tbody>\n",
       "</table>\n",
       "</div>"
      ],
      "text/plain": [
       "         County WeekStartDate  NewPos_All  Age 0-19  Age 20-39  Age 40-59  \\\n",
       "566  Unassigned    2020-05-31           3         1          1          0   \n",
       "567  Unassigned    2020-06-07           5         1          1          3   \n",
       "568  Unassigned    2020-06-14           9         0          7          1   \n",
       "569  Unassigned    2020-06-21          27         2         12          8   \n",
       "570  Unassigned    2020-06-28          81         7         40         25   \n",
       "\n",
       "     Age 60-79  Age 80+  Positive UnkAge             dtm_updated  \n",
       "566          0        0                1 2020-07-05 15:36:42.278  \n",
       "567          0        0                0 2020-07-05 15:36:42.278  \n",
       "568          0        0                1 2020-07-05 15:36:42.278  \n",
       "569          5        0                0 2020-07-05 15:36:42.278  \n",
       "570          7        2                0 2020-07-05 15:36:42.278  "
      ]
     },
     "execution_count": 60,
     "metadata": {},
     "output_type": "execute_result"
    }
   ],
   "source": [
    "df.info()\n",
    "df.describe(percentiles=[0.05, 0.15, 0.25, 0.50, 0.75, 0.85, 0.95])\n",
    "df.head()\n",
    "df.tail()"
   ]
  },
  {
   "cell_type": "markdown",
   "metadata": {},
   "source": [
    "# Data processing\n",
    "\n",
    "* Use pd.melt to make data tidy"
   ]
  },
  {
   "cell_type": "code",
   "execution_count": 61,
   "metadata": {
    "ExecuteTime": {
     "end_time": "2020-07-12T19:32:41.182081Z",
     "start_time": "2020-07-12T19:32:41.142436Z"
    }
   },
   "outputs": [
    {
     "name": "stdout",
     "output_type": "stream",
     "text": [
      "['Adams County' 'Asotin County' 'Benton County' 'Chelan County'\n",
      " 'Clallam County' 'Clark County' 'Columbia County' 'Cowlitz County'\n",
      " 'Douglas County' 'Franklin County' 'Grant County' 'Grays Harbor County'\n",
      " 'Island County' 'Jefferson County' 'King County' 'Kitsap County'\n",
      " 'Kittitas County' 'Klickitat County' 'Lewis County' 'Mason County'\n",
      " 'Okanogan County' 'Pacific County' 'Pend Oreille County' 'Pierce County'\n",
      " 'San Juan County' 'Skagit County' 'Skamania County' 'Snohomish County'\n",
      " 'Spokane County' 'Stevens County' 'Thurston County' 'Wahkiakum County'\n",
      " 'Walla Walla County' 'Whatcom County' 'Whitman County' 'Yakima County'\n",
      " 'Unassigned']\n"
     ]
    },
    {
     "data": {
      "text/html": [
       "<div>\n",
       "<style scoped>\n",
       "    .dataframe tbody tr th:only-of-type {\n",
       "        vertical-align: middle;\n",
       "    }\n",
       "\n",
       "    .dataframe tbody tr th {\n",
       "        vertical-align: top;\n",
       "    }\n",
       "\n",
       "    .dataframe thead th {\n",
       "        text-align: right;\n",
       "    }\n",
       "</style>\n",
       "<table border=\"1\" class=\"dataframe\">\n",
       "  <thead>\n",
       "    <tr style=\"text-align: right;\">\n",
       "      <th></th>\n",
       "      <th>WeekStartDate</th>\n",
       "      <th>NewPos_All</th>\n",
       "      <th>Age 0-19</th>\n",
       "      <th>Age 20-39</th>\n",
       "      <th>Age 40-59</th>\n",
       "      <th>Age 60-79</th>\n",
       "      <th>Age 80+</th>\n",
       "      <th>value</th>\n",
       "    </tr>\n",
       "  </thead>\n",
       "  <tbody>\n",
       "    <tr>\n",
       "      <th>0</th>\n",
       "      <td>2020-03-08</td>\n",
       "      <td>4</td>\n",
       "      <td>0</td>\n",
       "      <td>1</td>\n",
       "      <td>1</td>\n",
       "      <td>2</td>\n",
       "      <td>0</td>\n",
       "      <td>Adams County</td>\n",
       "    </tr>\n",
       "    <tr>\n",
       "      <th>1</th>\n",
       "      <td>2020-03-15</td>\n",
       "      <td>3</td>\n",
       "      <td>0</td>\n",
       "      <td>0</td>\n",
       "      <td>3</td>\n",
       "      <td>0</td>\n",
       "      <td>0</td>\n",
       "      <td>Adams County</td>\n",
       "    </tr>\n",
       "    <tr>\n",
       "      <th>2</th>\n",
       "      <td>2020-03-22</td>\n",
       "      <td>9</td>\n",
       "      <td>0</td>\n",
       "      <td>1</td>\n",
       "      <td>4</td>\n",
       "      <td>4</td>\n",
       "      <td>0</td>\n",
       "      <td>Adams County</td>\n",
       "    </tr>\n",
       "    <tr>\n",
       "      <th>3</th>\n",
       "      <td>2020-03-29</td>\n",
       "      <td>17</td>\n",
       "      <td>2</td>\n",
       "      <td>8</td>\n",
       "      <td>4</td>\n",
       "      <td>3</td>\n",
       "      <td>0</td>\n",
       "      <td>Adams County</td>\n",
       "    </tr>\n",
       "    <tr>\n",
       "      <th>4</th>\n",
       "      <td>2020-04-05</td>\n",
       "      <td>8</td>\n",
       "      <td>1</td>\n",
       "      <td>2</td>\n",
       "      <td>4</td>\n",
       "      <td>1</td>\n",
       "      <td>0</td>\n",
       "      <td>Adams County</td>\n",
       "    </tr>\n",
       "  </tbody>\n",
       "</table>\n",
       "</div>"
      ],
      "text/plain": [
       "  WeekStartDate  NewPos_All  Age 0-19  Age 20-39  Age 40-59  Age 60-79  \\\n",
       "0    2020-03-08           4         0          1          1          2   \n",
       "1    2020-03-15           3         0          0          3          0   \n",
       "2    2020-03-22           9         0          1          4          4   \n",
       "3    2020-03-29          17         2          8          4          3   \n",
       "4    2020-04-05           8         1          2          4          1   \n",
       "\n",
       "   Age 80+         value  \n",
       "0        0  Adams County  \n",
       "1        0  Adams County  \n",
       "2        0  Adams County  \n",
       "3        0  Adams County  \n",
       "4        0  Adams County  "
      ]
     },
     "execution_count": 61,
     "metadata": {},
     "output_type": "execute_result"
    },
    {
     "data": {
      "text/html": [
       "<div>\n",
       "<style scoped>\n",
       "    .dataframe tbody tr th:only-of-type {\n",
       "        vertical-align: middle;\n",
       "    }\n",
       "\n",
       "    .dataframe tbody tr th {\n",
       "        vertical-align: top;\n",
       "    }\n",
       "\n",
       "    .dataframe thead th {\n",
       "        text-align: right;\n",
       "    }\n",
       "</style>\n",
       "<table border=\"1\" class=\"dataframe\">\n",
       "  <thead>\n",
       "    <tr style=\"text-align: right;\">\n",
       "      <th></th>\n",
       "      <th>WeekStartDate</th>\n",
       "      <th>NewPos_All</th>\n",
       "      <th>Age 0-19</th>\n",
       "      <th>Age 20-39</th>\n",
       "      <th>Age 40-59</th>\n",
       "      <th>Age 60-79</th>\n",
       "      <th>Age 80+</th>\n",
       "      <th>value</th>\n",
       "    </tr>\n",
       "  </thead>\n",
       "  <tbody>\n",
       "    <tr>\n",
       "      <th>566</th>\n",
       "      <td>2020-05-31</td>\n",
       "      <td>3</td>\n",
       "      <td>1</td>\n",
       "      <td>1</td>\n",
       "      <td>0</td>\n",
       "      <td>0</td>\n",
       "      <td>0</td>\n",
       "      <td>Unassigned</td>\n",
       "    </tr>\n",
       "    <tr>\n",
       "      <th>567</th>\n",
       "      <td>2020-06-07</td>\n",
       "      <td>5</td>\n",
       "      <td>1</td>\n",
       "      <td>1</td>\n",
       "      <td>3</td>\n",
       "      <td>0</td>\n",
       "      <td>0</td>\n",
       "      <td>Unassigned</td>\n",
       "    </tr>\n",
       "    <tr>\n",
       "      <th>568</th>\n",
       "      <td>2020-06-14</td>\n",
       "      <td>9</td>\n",
       "      <td>0</td>\n",
       "      <td>7</td>\n",
       "      <td>1</td>\n",
       "      <td>0</td>\n",
       "      <td>0</td>\n",
       "      <td>Unassigned</td>\n",
       "    </tr>\n",
       "    <tr>\n",
       "      <th>569</th>\n",
       "      <td>2020-06-21</td>\n",
       "      <td>27</td>\n",
       "      <td>2</td>\n",
       "      <td>12</td>\n",
       "      <td>8</td>\n",
       "      <td>5</td>\n",
       "      <td>0</td>\n",
       "      <td>Unassigned</td>\n",
       "    </tr>\n",
       "    <tr>\n",
       "      <th>570</th>\n",
       "      <td>2020-06-28</td>\n",
       "      <td>81</td>\n",
       "      <td>7</td>\n",
       "      <td>40</td>\n",
       "      <td>25</td>\n",
       "      <td>7</td>\n",
       "      <td>2</td>\n",
       "      <td>Unassigned</td>\n",
       "    </tr>\n",
       "  </tbody>\n",
       "</table>\n",
       "</div>"
      ],
      "text/plain": [
       "    WeekStartDate  NewPos_All  Age 0-19  Age 20-39  Age 40-59  Age 60-79  \\\n",
       "566    2020-05-31           3         1          1          0          0   \n",
       "567    2020-06-07           5         1          1          3          0   \n",
       "568    2020-06-14           9         0          7          1          0   \n",
       "569    2020-06-21          27         2         12          8          5   \n",
       "570    2020-06-28          81         7         40         25          7   \n",
       "\n",
       "     Age 80+       value  \n",
       "566        0  Unassigned  \n",
       "567        0  Unassigned  \n",
       "568        0  Unassigned  \n",
       "569        0  Unassigned  \n",
       "570        2  Unassigned  "
      ]
     },
     "execution_count": 61,
     "metadata": {},
     "output_type": "execute_result"
    }
   ],
   "source": [
    "counties = df['County'].unique()\n",
    "print(counties)\n",
    "dft = pd.melt(df.reset_index(),\n",
    "              id_vars=['WeekStartDate', 'NewPos_All', 'Age 0-19', 'Age 20-39',\n",
    "                       'Age 40-59', 'Age 60-79', 'Age 80+'],\n",
    "              value_vars=['County'])\n",
    "del dft['variable']\n",
    "dft.head()\n",
    "dft.tail()"
   ]
  },
  {
   "cell_type": "code",
   "execution_count": 62,
   "metadata": {
    "ExecuteTime": {
     "end_time": "2020-07-12T19:32:42.251128Z",
     "start_time": "2020-07-12T19:32:41.836114Z"
    },
    "scrolled": false
   },
   "outputs": [
    {
     "data": {
      "application/vnd.plotly.v1+json": {
       "config": {
        "plotlyServerURL": "https://plot.ly"
       },
       "data": [
        {
         "hoverlabel": {
          "namelength": 0
         },
         "hovertemplate": "County=Adams County<br>WeekStartDate=%{x}<br>NewPos_All=%{y}",
         "legendgroup": "Adams County",
         "marker": {
          "color": "#636efa",
          "symbol": "circle"
         },
         "mode": "markers",
         "name": "Adams County",
         "showlegend": true,
         "type": "scatter",
         "x": [
          "2020-03-08",
          "2020-03-15",
          "2020-03-22",
          "2020-03-29",
          "2020-04-05",
          "2020-04-12",
          "2020-04-19",
          "2020-04-26",
          "2020-05-03",
          "2020-05-10",
          "2020-05-17",
          "2020-05-24",
          "2020-05-31",
          "2020-06-07",
          "2020-06-14",
          "2020-06-21",
          "2020-06-28"
         ],
         "xaxis": "x",
         "y": [
          4,
          3,
          9,
          17,
          8,
          2,
          4,
          2,
          1,
          2,
          5,
          17,
          15,
          11,
          13,
          30,
          23
         ],
         "yaxis": "y"
        },
        {
         "hoverlabel": {
          "namelength": 0
         },
         "hovertemplate": "County=Asotin County<br>WeekStartDate=%{x}<br>NewPos_All=%{y}",
         "legendgroup": "Asotin County",
         "marker": {
          "color": "#EF553B",
          "symbol": "circle"
         },
         "mode": "markers",
         "name": "Asotin County",
         "showlegend": true,
         "type": "scatter",
         "x": [
          "2020-03-15",
          "2020-03-29",
          "2020-04-05",
          "2020-04-12",
          "2020-04-19",
          "2020-05-17",
          "2020-05-31",
          "2020-06-21"
         ],
         "xaxis": "x",
         "y": [
          2,
          2,
          7,
          4,
          3,
          1,
          1,
          1
         ],
         "yaxis": "y"
        },
        {
         "hoverlabel": {
          "namelength": 0
         },
         "hovertemplate": "County=Benton County<br>WeekStartDate=%{x}<br>NewPos_All=%{y}",
         "legendgroup": "Benton County",
         "marker": {
          "color": "#00cc96",
          "symbol": "circle"
         },
         "mode": "markers",
         "name": "Benton County",
         "showlegend": true,
         "type": "scatter",
         "x": [
          "2020-02-16",
          "2020-03-01",
          "2020-03-08",
          "2020-03-15",
          "2020-03-22",
          "2020-03-29",
          "2020-04-05",
          "2020-04-12",
          "2020-04-19",
          "2020-04-26",
          "2020-05-03",
          "2020-05-10",
          "2020-05-17",
          "2020-05-24",
          "2020-05-31",
          "2020-06-07",
          "2020-06-14",
          "2020-06-21",
          "2020-06-28"
         ],
         "xaxis": "x",
         "y": [
          1,
          7,
          17,
          57,
          107,
          88,
          72,
          66,
          103,
          81,
          44,
          67,
          100,
          122,
          183,
          255,
          261,
          234,
          91
         ],
         "yaxis": "y"
        },
        {
         "hoverlabel": {
          "namelength": 0
         },
         "hovertemplate": "County=Chelan County<br>WeekStartDate=%{x}<br>NewPos_All=%{y}",
         "legendgroup": "Chelan County",
         "marker": {
          "color": "#ab63fa",
          "symbol": "circle"
         },
         "mode": "markers",
         "name": "Chelan County",
         "showlegend": true,
         "type": "scatter",
         "x": [
          "2020-02-09",
          "2020-03-08",
          "2020-03-15",
          "2020-03-22",
          "2020-03-29",
          "2020-04-05",
          "2020-04-12",
          "2020-04-19",
          "2020-04-26",
          "2020-05-03",
          "2020-05-10",
          "2020-05-17",
          "2020-05-24",
          "2020-05-31",
          "2020-06-07",
          "2020-06-14",
          "2020-06-21",
          "2020-06-28"
         ],
         "xaxis": "x",
         "y": [
          1,
          8,
          8,
          12,
          24,
          16,
          25,
          25,
          20,
          25,
          35,
          43,
          19,
          6,
          10,
          23,
          55,
          48
         ],
         "yaxis": "y"
        },
        {
         "hoverlabel": {
          "namelength": 0
         },
         "hovertemplate": "County=Clallam County<br>WeekStartDate=%{x}<br>NewPos_All=%{y}",
         "legendgroup": "Clallam County",
         "marker": {
          "color": "#FFA15A",
          "symbol": "circle"
         },
         "mode": "markers",
         "name": "Clallam County",
         "showlegend": true,
         "type": "scatter",
         "x": [
          "2020-03-01",
          "2020-03-08",
          "2020-03-15",
          "2020-03-29",
          "2020-04-05",
          "2020-04-19",
          "2020-04-26",
          "2020-05-10",
          "2020-05-17",
          "2020-05-24",
          "2020-05-31",
          "2020-06-07",
          "2020-06-14",
          "2020-06-21",
          "2020-06-28"
         ],
         "xaxis": "x",
         "y": [
          2,
          5,
          3,
          3,
          1,
          4,
          1,
          4,
          2,
          2,
          1,
          4,
          1,
          7,
          3
         ],
         "yaxis": "y"
        },
        {
         "hoverlabel": {
          "namelength": 0
         },
         "hovertemplate": "County=Clark County<br>WeekStartDate=%{x}<br>NewPos_All=%{y}",
         "legendgroup": "Clark County",
         "marker": {
          "color": "#19d3f3",
          "symbol": "circle"
         },
         "mode": "markers",
         "name": "Clark County",
         "showlegend": true,
         "type": "scatter",
         "x": [
          "2020-02-23",
          "2020-03-01",
          "2020-03-08",
          "2020-03-15",
          "2020-03-22",
          "2020-03-29",
          "2020-04-05",
          "2020-04-12",
          "2020-04-19",
          "2020-04-26",
          "2020-05-03",
          "2020-05-10",
          "2020-05-17",
          "2020-05-24",
          "2020-05-31",
          "2020-06-07",
          "2020-06-14",
          "2020-06-21",
          "2020-06-28"
         ],
         "xaxis": "x",
         "y": [
          3,
          5,
          29,
          57,
          66,
          53,
          62,
          46,
          22,
          18,
          21,
          19,
          68,
          77,
          57,
          39,
          61,
          150,
          69
         ],
         "yaxis": "y"
        },
        {
         "hoverlabel": {
          "namelength": 0
         },
         "hovertemplate": "County=Columbia County<br>WeekStartDate=%{x}<br>NewPos_All=%{y}",
         "legendgroup": "Columbia County",
         "marker": {
          "color": "#FF6692",
          "symbol": "circle"
         },
         "mode": "markers",
         "name": "Columbia County",
         "showlegend": true,
         "type": "scatter",
         "x": [
          "2020-03-01",
          "2020-06-07",
          "2020-06-14"
         ],
         "xaxis": "x",
         "y": [
          1,
          2,
          5
         ],
         "yaxis": "y"
        },
        {
         "hoverlabel": {
          "namelength": 0
         },
         "hovertemplate": "County=Cowlitz County<br>WeekStartDate=%{x}<br>NewPos_All=%{y}",
         "legendgroup": "Cowlitz County",
         "marker": {
          "color": "#B6E880",
          "symbol": "circle"
         },
         "mode": "markers",
         "name": "Cowlitz County",
         "showlegend": true,
         "type": "scatter",
         "x": [
          "2020-02-23",
          "2020-03-01",
          "2020-03-08",
          "2020-03-15",
          "2020-03-22",
          "2020-03-29",
          "2020-04-05",
          "2020-04-12",
          "2020-04-19",
          "2020-04-26",
          "2020-05-03",
          "2020-05-10",
          "2020-05-17",
          "2020-05-24",
          "2020-05-31",
          "2020-06-07",
          "2020-06-14",
          "2020-06-21",
          "2020-06-28"
         ],
         "xaxis": "x",
         "y": [
          1,
          1,
          8,
          8,
          3,
          7,
          6,
          10,
          5,
          14,
          5,
          5,
          2,
          3,
          34,
          23,
          32,
          24,
          17
         ],
         "yaxis": "y"
        },
        {
         "hoverlabel": {
          "namelength": 0
         },
         "hovertemplate": "County=Douglas County<br>WeekStartDate=%{x}<br>NewPos_All=%{y}",
         "legendgroup": "Douglas County",
         "marker": {
          "color": "#FF97FF",
          "symbol": "circle"
         },
         "mode": "markers",
         "name": "Douglas County",
         "showlegend": true,
         "type": "scatter",
         "x": [
          "2020-03-01",
          "2020-03-08",
          "2020-03-15",
          "2020-03-22",
          "2020-03-29",
          "2020-04-05",
          "2020-04-12",
          "2020-04-19",
          "2020-04-26",
          "2020-05-03",
          "2020-05-10",
          "2020-05-17",
          "2020-05-24",
          "2020-05-31",
          "2020-06-07",
          "2020-06-14",
          "2020-06-21",
          "2020-06-28"
         ],
         "xaxis": "x",
         "y": [
          2,
          1,
          1,
          9,
          8,
          8,
          38,
          13,
          23,
          20,
          21,
          23,
          11,
          2,
          11,
          19,
          37,
          32
         ],
         "yaxis": "y"
        },
        {
         "hoverlabel": {
          "namelength": 0
         },
         "hovertemplate": "County=Franklin County<br>WeekStartDate=%{x}<br>NewPos_All=%{y}",
         "legendgroup": "Franklin County",
         "marker": {
          "color": "#FECB52",
          "symbol": "circle"
         },
         "mode": "markers",
         "name": "Franklin County",
         "showlegend": true,
         "type": "scatter",
         "x": [
          "2020-02-09",
          "2020-02-23",
          "2020-03-01",
          "2020-03-08",
          "2020-03-15",
          "2020-03-22",
          "2020-03-29",
          "2020-04-05",
          "2020-04-12",
          "2020-04-19",
          "2020-04-26",
          "2020-05-03",
          "2020-05-10",
          "2020-05-17",
          "2020-05-24",
          "2020-05-31",
          "2020-06-07",
          "2020-06-14",
          "2020-06-21",
          "2020-06-28"
         ],
         "xaxis": "x",
         "y": [
          1,
          1,
          2,
          5,
          18,
          48,
          53,
          64,
          78,
          79,
          73,
          39,
          60,
          94,
          151,
          235,
          245,
          298,
          256,
          98
         ],
         "yaxis": "y"
        },
        {
         "hoverlabel": {
          "namelength": 0
         },
         "hovertemplate": "County=Grant County<br>WeekStartDate=%{x}<br>NewPos_All=%{y}",
         "legendgroup": "Grant County",
         "marker": {
          "color": "#636efa",
          "symbol": "circle"
         },
         "mode": "markers",
         "name": "Grant County",
         "showlegend": true,
         "type": "scatter",
         "x": [
          "2020-02-16",
          "2020-02-23",
          "2020-03-01",
          "2020-03-08",
          "2020-03-15",
          "2020-03-22",
          "2020-03-29",
          "2020-04-05",
          "2020-04-12",
          "2020-04-19",
          "2020-04-26",
          "2020-05-03",
          "2020-05-10",
          "2020-05-17",
          "2020-05-24",
          "2020-05-31",
          "2020-06-07",
          "2020-06-14",
          "2020-06-21",
          "2020-06-28"
         ],
         "xaxis": "x",
         "y": [
          1,
          1,
          4,
          36,
          33,
          22,
          18,
          28,
          13,
          11,
          15,
          4,
          6,
          18,
          32,
          15,
          91,
          108,
          74,
          22
         ],
         "yaxis": "y"
        },
        {
         "hoverlabel": {
          "namelength": 0
         },
         "hovertemplate": "County=Grays Harbor County<br>WeekStartDate=%{x}<br>NewPos_All=%{y}",
         "legendgroup": "Grays Harbor County",
         "marker": {
          "color": "#EF553B",
          "symbol": "circle"
         },
         "mode": "markers",
         "name": "Grays Harbor County",
         "showlegend": true,
         "type": "scatter",
         "x": [
          "2020-02-16",
          "2020-02-23",
          "2020-03-01",
          "2020-03-15",
          "2020-03-22",
          "2020-03-29",
          "2020-04-05",
          "2020-04-26",
          "2020-05-03",
          "2020-05-17",
          "2020-05-24",
          "2020-05-31",
          "2020-06-07",
          "2020-06-14",
          "2020-06-21",
          "2020-06-28"
         ],
         "xaxis": "x",
         "y": [
          1,
          1,
          1,
          1,
          3,
          4,
          1,
          1,
          2,
          2,
          1,
          2,
          1,
          3,
          1,
          1
         ],
         "yaxis": "y"
        },
        {
         "hoverlabel": {
          "namelength": 0
         },
         "hovertemplate": "County=Island County<br>WeekStartDate=%{x}<br>NewPos_All=%{y}",
         "legendgroup": "Island County",
         "marker": {
          "color": "#00cc96",
          "symbol": "circle"
         },
         "mode": "markers",
         "name": "Island County",
         "showlegend": true,
         "type": "scatter",
         "x": [
          "2020-02-23",
          "2020-03-01",
          "2020-03-08",
          "2020-03-15",
          "2020-03-22",
          "2020-03-29",
          "2020-04-05",
          "2020-04-12",
          "2020-04-19",
          "2020-04-26",
          "2020-05-03",
          "2020-05-10",
          "2020-05-24",
          "2020-06-07",
          "2020-06-14",
          "2020-06-21",
          "2020-06-28"
         ],
         "xaxis": "x",
         "y": [
          2,
          10,
          25,
          34,
          70,
          22,
          4,
          1,
          3,
          5,
          4,
          1,
          1,
          4,
          4,
          7,
          1
         ],
         "yaxis": "y"
        },
        {
         "hoverlabel": {
          "namelength": 0
         },
         "hovertemplate": "County=Jefferson County<br>WeekStartDate=%{x}<br>NewPos_All=%{y}",
         "legendgroup": "Jefferson County",
         "marker": {
          "color": "#ab63fa",
          "symbol": "circle"
         },
         "mode": "markers",
         "name": "Jefferson County",
         "showlegend": true,
         "type": "scatter",
         "x": [
          "2020-02-23",
          "2020-03-01",
          "2020-03-08",
          "2020-03-15",
          "2020-03-22",
          "2020-03-29",
          "2020-05-31",
          "2020-06-07",
          "2020-06-14",
          "2020-06-21",
          "2020-06-28"
         ],
         "xaxis": "x",
         "y": [
          2,
          4,
          10,
          9,
          3,
          2,
          1,
          1,
          3,
          3,
          1
         ],
         "yaxis": "y"
        },
        {
         "hoverlabel": {
          "namelength": 0
         },
         "hovertemplate": "County=King County<br>WeekStartDate=%{x}<br>NewPos_All=%{y}",
         "legendgroup": "King County",
         "marker": {
          "color": "#FFA15A",
          "symbol": "circle"
         },
         "mode": "markers",
         "name": "King County",
         "showlegend": true,
         "type": "scatter",
         "x": [
          "2020-02-02",
          "2020-02-09",
          "2020-02-16",
          "2020-02-23",
          "2020-03-01",
          "2020-03-08",
          "2020-03-15",
          "2020-03-22",
          "2020-03-29",
          "2020-04-05",
          "2020-04-12",
          "2020-04-19",
          "2020-04-26",
          "2020-05-03",
          "2020-05-10",
          "2020-05-17",
          "2020-05-24",
          "2020-05-31",
          "2020-06-07",
          "2020-06-14",
          "2020-06-21",
          "2020-06-28"
         ],
         "xaxis": "x",
         "y": [
          2,
          5,
          46,
          115,
          289,
          794,
          1035,
          1092,
          989,
          802,
          739,
          614,
          577,
          418,
          388,
          321,
          315,
          259,
          368,
          549,
          667,
          557
         ],
         "yaxis": "y"
        },
        {
         "hoverlabel": {
          "namelength": 0
         },
         "hovertemplate": "County=Kitsap County<br>WeekStartDate=%{x}<br>NewPos_All=%{y}",
         "legendgroup": "Kitsap County",
         "marker": {
          "color": "#19d3f3",
          "symbol": "circle"
         },
         "mode": "markers",
         "name": "Kitsap County",
         "showlegend": true,
         "type": "scatter",
         "x": [
          "2020-02-16",
          "2020-02-23",
          "2020-03-01",
          "2020-03-08",
          "2020-03-15",
          "2020-03-22",
          "2020-03-29",
          "2020-04-05",
          "2020-04-12",
          "2020-04-19",
          "2020-04-26",
          "2020-05-03",
          "2020-05-10",
          "2020-05-24",
          "2020-05-31",
          "2020-06-07",
          "2020-06-14",
          "2020-06-21",
          "2020-06-28"
         ],
         "xaxis": "x",
         "y": [
          1,
          1,
          6,
          22,
          34,
          36,
          27,
          11,
          9,
          3,
          3,
          2,
          6,
          4,
          11,
          10,
          22,
          22,
          13
         ],
         "yaxis": "y"
        },
        {
         "hoverlabel": {
          "namelength": 0
         },
         "hovertemplate": "County=Kittitas County<br>WeekStartDate=%{x}<br>NewPos_All=%{y}",
         "legendgroup": "Kittitas County",
         "marker": {
          "color": "#FF6692",
          "symbol": "circle"
         },
         "mode": "markers",
         "name": "Kittitas County",
         "showlegend": true,
         "type": "scatter",
         "x": [
          "2020-01-26",
          "2020-02-16",
          "2020-03-08",
          "2020-03-15",
          "2020-03-22",
          "2020-03-29",
          "2020-04-05",
          "2020-04-19",
          "2020-04-26",
          "2020-05-03",
          "2020-05-10",
          "2020-05-17",
          "2020-05-24",
          "2020-05-31",
          "2020-06-07",
          "2020-06-14",
          "2020-06-21",
          "2020-06-28"
         ],
         "xaxis": "x",
         "y": [
          1,
          3,
          2,
          5,
          2,
          2,
          1,
          1,
          3,
          30,
          18,
          17,
          6,
          1,
          5,
          16,
          31,
          2
         ],
         "yaxis": "y"
        },
        {
         "hoverlabel": {
          "namelength": 0
         },
         "hovertemplate": "County=Klickitat County<br>WeekStartDate=%{x}<br>NewPos_All=%{y}",
         "legendgroup": "Klickitat County",
         "marker": {
          "color": "#B6E880",
          "symbol": "circle"
         },
         "mode": "markers",
         "name": "Klickitat County",
         "showlegend": true,
         "type": "scatter",
         "x": [
          "2020-03-01",
          "2020-03-15",
          "2020-03-22",
          "2020-03-29",
          "2020-04-05",
          "2020-04-19",
          "2020-04-26",
          "2020-05-03",
          "2020-05-10",
          "2020-05-17",
          "2020-05-24",
          "2020-05-31",
          "2020-06-07",
          "2020-06-14",
          "2020-06-21",
          "2020-06-28"
         ],
         "xaxis": "x",
         "y": [
          2,
          6,
          2,
          2,
          4,
          2,
          3,
          3,
          1,
          1,
          3,
          15,
          8,
          5,
          8,
          2
         ],
         "yaxis": "y"
        },
        {
         "hoverlabel": {
          "namelength": 0
         },
         "hovertemplate": "County=Lewis County<br>WeekStartDate=%{x}<br>NewPos_All=%{y}",
         "legendgroup": "Lewis County",
         "marker": {
          "color": "#FF97FF",
          "symbol": "circle"
         },
         "mode": "markers",
         "name": "Lewis County",
         "showlegend": true,
         "type": "scatter",
         "x": [
          "2020-03-08",
          "2020-03-15",
          "2020-03-22",
          "2020-03-29",
          "2020-04-05",
          "2020-04-12",
          "2020-04-19",
          "2020-04-26",
          "2020-05-03",
          "2020-05-10",
          "2020-05-24",
          "2020-06-07",
          "2020-06-14",
          "2020-06-21",
          "2020-06-28"
         ],
         "xaxis": "x",
         "y": [
          3,
          10,
          4,
          2,
          3,
          1,
          5,
          1,
          1,
          4,
          2,
          5,
          16,
          17,
          1
         ],
         "yaxis": "y"
        },
        {
         "hoverlabel": {
          "namelength": 0
         },
         "hovertemplate": "County=Mason County<br>WeekStartDate=%{x}<br>NewPos_All=%{y}",
         "legendgroup": "Mason County",
         "marker": {
          "color": "#FECB52",
          "symbol": "circle"
         },
         "mode": "markers",
         "name": "Mason County",
         "showlegend": true,
         "type": "scatter",
         "x": [
          "2020-03-01",
          "2020-03-08",
          "2020-03-15",
          "2020-03-22",
          "2020-03-29",
          "2020-04-12",
          "2020-04-19",
          "2020-04-26",
          "2020-05-03",
          "2020-05-10",
          "2020-05-17",
          "2020-05-24",
          "2020-05-31",
          "2020-06-07",
          "2020-06-14",
          "2020-06-21",
          "2020-06-28"
         ],
         "xaxis": "x",
         "y": [
          1,
          1,
          7,
          6,
          5,
          3,
          2,
          4,
          2,
          3,
          2,
          2,
          2,
          2,
          3,
          6,
          2
         ],
         "yaxis": "y"
        },
        {
         "hoverlabel": {
          "namelength": 0
         },
         "hovertemplate": "County=Okanogan County<br>WeekStartDate=%{x}<br>NewPos_All=%{y}",
         "legendgroup": "Okanogan County",
         "marker": {
          "color": "#636efa",
          "symbol": "circle"
         },
         "mode": "markers",
         "name": "Okanogan County",
         "showlegend": true,
         "type": "scatter",
         "x": [
          "2020-03-08",
          "2020-03-15",
          "2020-03-22",
          "2020-03-29",
          "2020-04-05",
          "2020-04-12",
          "2020-04-19",
          "2020-04-26",
          "2020-05-03",
          "2020-05-10",
          "2020-05-17",
          "2020-05-24",
          "2020-05-31",
          "2020-06-07",
          "2020-06-14",
          "2020-06-21",
          "2020-06-28"
         ],
         "xaxis": "x",
         "y": [
          3,
          1,
          4,
          4,
          2,
          3,
          6,
          1,
          11,
          9,
          2,
          9,
          11,
          9,
          4,
          17,
          22
         ],
         "yaxis": "y"
        },
        {
         "hoverlabel": {
          "namelength": 0
         },
         "hovertemplate": "County=Pacific County<br>WeekStartDate=%{x}<br>NewPos_All=%{y}",
         "legendgroup": "Pacific County",
         "marker": {
          "color": "#EF553B",
          "symbol": "circle"
         },
         "mode": "markers",
         "name": "Pacific County",
         "showlegend": true,
         "type": "scatter",
         "x": [
          "2020-03-29",
          "2020-04-05",
          "2020-04-19",
          "2020-04-26",
          "2020-05-03",
          "2020-05-31",
          "2020-06-07",
          "2020-06-21"
         ],
         "xaxis": "x",
         "y": [
          2,
          1,
          1,
          2,
          3,
          1,
          2,
          6
         ],
         "yaxis": "y"
        },
        {
         "hoverlabel": {
          "namelength": 0
         },
         "hovertemplate": "County=Pend Oreille County<br>WeekStartDate=%{x}<br>NewPos_All=%{y}",
         "legendgroup": "Pend Oreille County",
         "marker": {
          "color": "#00cc96",
          "symbol": "circle"
         },
         "mode": "markers",
         "name": "Pend Oreille County",
         "showlegend": true,
         "type": "scatter",
         "x": [
          "2020-03-15",
          "2020-04-05",
          "2020-05-17",
          "2020-06-21",
          "2020-06-28"
         ],
         "xaxis": "x",
         "y": [
          1,
          1,
          1,
          1,
          1
         ],
         "yaxis": "y"
        },
        {
         "hoverlabel": {
          "namelength": 0
         },
         "hovertemplate": "County=Pierce County<br>WeekStartDate=%{x}<br>NewPos_All=%{y}",
         "legendgroup": "Pierce County",
         "marker": {
          "color": "#ab63fa",
          "symbol": "circle"
         },
         "mode": "markers",
         "name": "Pierce County",
         "showlegend": true,
         "type": "scatter",
         "x": [
          "2020-02-16",
          "2020-02-23",
          "2020-03-01",
          "2020-03-08",
          "2020-03-15",
          "2020-03-22",
          "2020-03-29",
          "2020-04-05",
          "2020-04-12",
          "2020-04-19",
          "2020-04-26",
          "2020-05-03",
          "2020-05-10",
          "2020-05-17",
          "2020-05-24",
          "2020-05-31",
          "2020-06-07",
          "2020-06-14",
          "2020-06-21",
          "2020-06-28"
         ],
         "xaxis": "x",
         "y": [
          2,
          11,
          38,
          104,
          224,
          241,
          281,
          188,
          198,
          162,
          154,
          144,
          98,
          81,
          88,
          90,
          103,
          185,
          214,
          198
         ],
         "yaxis": "y"
        },
        {
         "hoverlabel": {
          "namelength": 0
         },
         "hovertemplate": "County=San Juan County<br>WeekStartDate=%{x}<br>NewPos_All=%{y}",
         "legendgroup": "San Juan County",
         "marker": {
          "color": "#FFA15A",
          "symbol": "circle"
         },
         "mode": "markers",
         "name": "San Juan County",
         "showlegend": true,
         "type": "scatter",
         "x": [
          "2020-03-08",
          "2020-03-15",
          "2020-03-22",
          "2020-03-29",
          "2020-04-05",
          "2020-04-12",
          "2020-06-07",
          "2020-06-14",
          "2020-06-21"
         ],
         "xaxis": "x",
         "y": [
          1,
          3,
          2,
          7,
          1,
          1,
          1,
          2,
          1
         ],
         "yaxis": "y"
        },
        {
         "hoverlabel": {
          "namelength": 0
         },
         "hovertemplate": "County=Skagit County<br>WeekStartDate=%{x}<br>NewPos_All=%{y}",
         "legendgroup": "Skagit County",
         "marker": {
          "color": "#19d3f3",
          "symbol": "circle"
         },
         "mode": "markers",
         "name": "Skagit County",
         "showlegend": true,
         "type": "scatter",
         "x": [
          "2020-02-16",
          "2020-02-23",
          "2020-03-01",
          "2020-03-08",
          "2020-03-15",
          "2020-03-22",
          "2020-03-29",
          "2020-04-05",
          "2020-04-12",
          "2020-04-19",
          "2020-04-26",
          "2020-05-03",
          "2020-05-10",
          "2020-05-17",
          "2020-05-24",
          "2020-05-31",
          "2020-06-07",
          "2020-06-14",
          "2020-06-21",
          "2020-06-28"
         ],
         "xaxis": "x",
         "y": [
          1,
          1,
          8,
          43,
          48,
          43,
          42,
          44,
          54,
          66,
          42,
          26,
          11,
          2,
          13,
          11,
          20,
          20,
          23,
          31
         ],
         "yaxis": "y"
        },
        {
         "hoverlabel": {
          "namelength": 0
         },
         "hovertemplate": "County=Skamania County<br>WeekStartDate=%{x}<br>NewPos_All=%{y}",
         "legendgroup": "Skamania County",
         "marker": {
          "color": "#FF6692",
          "symbol": "circle"
         },
         "mode": "markers",
         "name": "Skamania County",
         "showlegend": true,
         "type": "scatter",
         "x": [
          "2020-03-22",
          "2020-04-05",
          "2020-06-14",
          "2020-06-21",
          "2020-06-28"
         ],
         "xaxis": "x",
         "y": [
          2,
          1,
          1,
          3,
          2
         ],
         "yaxis": "y"
        },
        {
         "hoverlabel": {
          "namelength": 0
         },
         "hovertemplate": "County=Snohomish County<br>WeekStartDate=%{x}<br>NewPos_All=%{y}",
         "legendgroup": "Snohomish County",
         "marker": {
          "color": "#B6E880",
          "symbol": "circle"
         },
         "mode": "markers",
         "name": "Snohomish County",
         "showlegend": true,
         "type": "scatter",
         "x": [
          "2020-01-16",
          "2020-01-26",
          "2020-02-02",
          "2020-02-09",
          "2020-02-16",
          "2020-02-23",
          "2020-03-01",
          "2020-03-08",
          "2020-03-15",
          "2020-03-22",
          "2020-03-29",
          "2020-04-05",
          "2020-04-12",
          "2020-04-19",
          "2020-04-26",
          "2020-05-03",
          "2020-05-10",
          "2020-05-17",
          "2020-05-24",
          "2020-05-31",
          "2020-06-07",
          "2020-06-14",
          "2020-06-21",
          "2020-06-28"
         ],
         "xaxis": "x",
         "y": [
          1,
          1,
          6,
          4,
          20,
          51,
          199,
          344,
          494,
          427,
          301,
          216,
          202,
          195,
          186,
          114,
          99,
          96,
          58,
          82,
          108,
          171,
          184,
          137
         ],
         "yaxis": "y"
        },
        {
         "hoverlabel": {
          "namelength": 0
         },
         "hovertemplate": "County=Spokane County<br>WeekStartDate=%{x}<br>NewPos_All=%{y}",
         "legendgroup": "Spokane County",
         "marker": {
          "color": "#FF97FF",
          "symbol": "circle"
         },
         "mode": "markers",
         "name": "Spokane County",
         "showlegend": true,
         "type": "scatter",
         "x": [
          "2020-02-16",
          "2020-02-23",
          "2020-03-01",
          "2020-03-08",
          "2020-03-15",
          "2020-03-22",
          "2020-03-29",
          "2020-04-05",
          "2020-04-12",
          "2020-04-19",
          "2020-04-26",
          "2020-05-03",
          "2020-05-10",
          "2020-05-17",
          "2020-05-24",
          "2020-05-31",
          "2020-06-07",
          "2020-06-14",
          "2020-06-21",
          "2020-06-28"
         ],
         "xaxis": "x",
         "y": [
          1,
          1,
          9,
          38,
          90,
          72,
          44,
          31,
          32,
          42,
          21,
          16,
          44,
          109,
          99,
          134,
          131,
          193,
          319,
          176
         ],
         "yaxis": "y"
        },
        {
         "hoverlabel": {
          "namelength": 0
         },
         "hovertemplate": "County=Stevens County<br>WeekStartDate=%{x}<br>NewPos_All=%{y}",
         "legendgroup": "Stevens County",
         "marker": {
          "color": "#FECB52",
          "symbol": "circle"
         },
         "mode": "markers",
         "name": "Stevens County",
         "showlegend": true,
         "type": "scatter",
         "x": [
          "2020-03-01",
          "2020-03-08",
          "2020-03-15",
          "2020-03-22",
          "2020-03-29",
          "2020-04-12",
          "2020-05-10",
          "2020-05-17",
          "2020-05-24",
          "2020-06-07",
          "2020-06-21",
          "2020-06-28"
         ],
         "xaxis": "x",
         "y": [
          1,
          1,
          1,
          3,
          1,
          2,
          1,
          2,
          1,
          3,
          2,
          2
         ],
         "yaxis": "y"
        },
        {
         "hoverlabel": {
          "namelength": 0
         },
         "hovertemplate": "County=Thurston County<br>WeekStartDate=%{x}<br>NewPos_All=%{y}",
         "legendgroup": "Thurston County",
         "marker": {
          "color": "#636efa",
          "symbol": "circle"
         },
         "mode": "markers",
         "name": "Thurston County",
         "showlegend": true,
         "type": "scatter",
         "x": [
          "2020-02-23",
          "2020-03-01",
          "2020-03-08",
          "2020-03-15",
          "2020-03-22",
          "2020-03-29",
          "2020-04-05",
          "2020-04-12",
          "2020-04-19",
          "2020-04-26",
          "2020-05-03",
          "2020-05-10",
          "2020-05-17",
          "2020-05-24",
          "2020-05-31",
          "2020-06-07",
          "2020-06-14",
          "2020-06-21",
          "2020-06-28"
         ],
         "xaxis": "x",
         "y": [
          1,
          4,
          17,
          15,
          31,
          16,
          10,
          12,
          8,
          5,
          5,
          3,
          6,
          28,
          26,
          19,
          20,
          39,
          24
         ],
         "yaxis": "y"
        },
        {
         "hoverlabel": {
          "namelength": 0
         },
         "hovertemplate": "County=Wahkiakum County<br>WeekStartDate=%{x}<br>NewPos_All=%{y}",
         "legendgroup": "Wahkiakum County",
         "marker": {
          "color": "#EF553B",
          "symbol": "circle"
         },
         "mode": "markers",
         "name": "Wahkiakum County",
         "showlegend": true,
         "type": "scatter",
         "x": [
          "2020-03-15",
          "2020-03-22",
          "2020-05-03",
          "2020-06-14"
         ],
         "xaxis": "x",
         "y": [
          1,
          1,
          2,
          1
         ],
         "yaxis": "y"
        },
        {
         "hoverlabel": {
          "namelength": 0
         },
         "hovertemplate": "County=Walla Walla County<br>WeekStartDate=%{x}<br>NewPos_All=%{y}",
         "legendgroup": "Walla Walla County",
         "marker": {
          "color": "#00cc96",
          "symbol": "circle"
         },
         "mode": "markers",
         "name": "Walla Walla County",
         "showlegend": true,
         "type": "scatter",
         "x": [
          "2020-03-08",
          "2020-03-15",
          "2020-03-22",
          "2020-03-29",
          "2020-04-05",
          "2020-04-12",
          "2020-04-19",
          "2020-04-26",
          "2020-05-03",
          "2020-05-10",
          "2020-05-17",
          "2020-05-24",
          "2020-05-31",
          "2020-06-07",
          "2020-06-14",
          "2020-06-21",
          "2020-06-28"
         ],
         "xaxis": "x",
         "y": [
          1,
          2,
          5,
          11,
          16,
          13,
          29,
          18,
          7,
          5,
          2,
          4,
          10,
          13,
          16,
          22,
          6
         ],
         "yaxis": "y"
        },
        {
         "hoverlabel": {
          "namelength": 0
         },
         "hovertemplate": "County=Whatcom County<br>WeekStartDate=%{x}<br>NewPos_All=%{y}",
         "legendgroup": "Whatcom County",
         "marker": {
          "color": "#ab63fa",
          "symbol": "circle"
         },
         "mode": "markers",
         "name": "Whatcom County",
         "showlegend": true,
         "type": "scatter",
         "x": [
          "2020-02-16",
          "2020-02-23",
          "2020-03-01",
          "2020-03-08",
          "2020-03-15",
          "2020-03-22",
          "2020-03-29",
          "2020-04-05",
          "2020-04-12",
          "2020-04-19",
          "2020-04-26",
          "2020-05-03",
          "2020-05-10",
          "2020-05-17",
          "2020-05-24",
          "2020-05-31",
          "2020-06-07",
          "2020-06-14",
          "2020-06-21",
          "2020-06-28"
         ],
         "xaxis": "x",
         "y": [
          1,
          1,
          6,
          27,
          72,
          84,
          62,
          22,
          12,
          12,
          23,
          16,
          20,
          21,
          23,
          33,
          36,
          86,
          82,
          28
         ],
         "yaxis": "y"
        },
        {
         "hoverlabel": {
          "namelength": 0
         },
         "hovertemplate": "County=Whitman County<br>WeekStartDate=%{x}<br>NewPos_All=%{y}",
         "legendgroup": "Whitman County",
         "marker": {
          "color": "#FFA15A",
          "symbol": "circle"
         },
         "mode": "markers",
         "name": "Whitman County",
         "showlegend": true,
         "type": "scatter",
         "x": [
          "2020-03-08",
          "2020-03-15",
          "2020-03-22",
          "2020-03-29",
          "2020-04-12",
          "2020-04-19",
          "2020-05-10",
          "2020-05-17",
          "2020-05-31",
          "2020-06-07",
          "2020-06-14",
          "2020-06-21",
          "2020-06-28"
         ],
         "xaxis": "x",
         "y": [
          1,
          4,
          3,
          4,
          3,
          1,
          2,
          2,
          6,
          2,
          4,
          5,
          2
         ],
         "yaxis": "y"
        },
        {
         "hoverlabel": {
          "namelength": 0
         },
         "hovertemplate": "County=Yakima County<br>WeekStartDate=%{x}<br>NewPos_All=%{y}",
         "legendgroup": "Yakima County",
         "marker": {
          "color": "#19d3f3",
          "symbol": "circle"
         },
         "mode": "markers",
         "name": "Yakima County",
         "showlegend": true,
         "type": "scatter",
         "x": [
          "2020-01-16",
          "2020-02-09",
          "2020-02-16",
          "2020-03-01",
          "2020-03-08",
          "2020-03-15",
          "2020-03-22",
          "2020-03-29",
          "2020-04-05",
          "2020-04-12",
          "2020-04-19",
          "2020-04-26",
          "2020-05-03",
          "2020-05-10",
          "2020-05-17",
          "2020-05-24",
          "2020-05-31",
          "2020-06-07",
          "2020-06-14",
          "2020-06-21",
          "2020-06-28"
         ],
         "xaxis": "x",
         "y": [
          1,
          3,
          2,
          14,
          22,
          74,
          157,
          234,
          239,
          242,
          288,
          406,
          525,
          648,
          680,
          758,
          917,
          788,
          744,
          525,
          222
         ],
         "yaxis": "y"
        },
        {
         "hoverlabel": {
          "namelength": 0
         },
         "hovertemplate": "County=Unassigned<br>WeekStartDate=%{x}<br>NewPos_All=%{y}",
         "legendgroup": "Unassigned",
         "marker": {
          "color": "#FF6692",
          "symbol": "circle"
         },
         "mode": "markers",
         "name": "Unassigned",
         "showlegend": true,
         "type": "scatter",
         "x": [
          "2020-04-12",
          "2020-04-19",
          "2020-05-10",
          "2020-05-17",
          "2020-05-24",
          "2020-05-31",
          "2020-06-07",
          "2020-06-14",
          "2020-06-21",
          "2020-06-28"
         ],
         "xaxis": "x",
         "y": [
          1,
          1,
          1,
          7,
          5,
          3,
          5,
          9,
          27,
          81
         ],
         "yaxis": "y"
        }
       ],
       "layout": {
        "legend": {
         "title": {
          "text": "County"
         },
         "tracegroupgap": 0
        },
        "margin": {
         "t": 60
        },
        "template": {
         "data": {
          "bar": [
           {
            "error_x": {
             "color": "#2a3f5f"
            },
            "error_y": {
             "color": "#2a3f5f"
            },
            "marker": {
             "line": {
              "color": "#E5ECF6",
              "width": 0.5
             }
            },
            "type": "bar"
           }
          ],
          "barpolar": [
           {
            "marker": {
             "line": {
              "color": "#E5ECF6",
              "width": 0.5
             }
            },
            "type": "barpolar"
           }
          ],
          "carpet": [
           {
            "aaxis": {
             "endlinecolor": "#2a3f5f",
             "gridcolor": "white",
             "linecolor": "white",
             "minorgridcolor": "white",
             "startlinecolor": "#2a3f5f"
            },
            "baxis": {
             "endlinecolor": "#2a3f5f",
             "gridcolor": "white",
             "linecolor": "white",
             "minorgridcolor": "white",
             "startlinecolor": "#2a3f5f"
            },
            "type": "carpet"
           }
          ],
          "choropleth": [
           {
            "colorbar": {
             "outlinewidth": 0,
             "ticks": ""
            },
            "type": "choropleth"
           }
          ],
          "contour": [
           {
            "colorbar": {
             "outlinewidth": 0,
             "ticks": ""
            },
            "colorscale": [
             [
              0,
              "#0d0887"
             ],
             [
              0.1111111111111111,
              "#46039f"
             ],
             [
              0.2222222222222222,
              "#7201a8"
             ],
             [
              0.3333333333333333,
              "#9c179e"
             ],
             [
              0.4444444444444444,
              "#bd3786"
             ],
             [
              0.5555555555555556,
              "#d8576b"
             ],
             [
              0.6666666666666666,
              "#ed7953"
             ],
             [
              0.7777777777777778,
              "#fb9f3a"
             ],
             [
              0.8888888888888888,
              "#fdca26"
             ],
             [
              1,
              "#f0f921"
             ]
            ],
            "type": "contour"
           }
          ],
          "contourcarpet": [
           {
            "colorbar": {
             "outlinewidth": 0,
             "ticks": ""
            },
            "type": "contourcarpet"
           }
          ],
          "heatmap": [
           {
            "colorbar": {
             "outlinewidth": 0,
             "ticks": ""
            },
            "colorscale": [
             [
              0,
              "#0d0887"
             ],
             [
              0.1111111111111111,
              "#46039f"
             ],
             [
              0.2222222222222222,
              "#7201a8"
             ],
             [
              0.3333333333333333,
              "#9c179e"
             ],
             [
              0.4444444444444444,
              "#bd3786"
             ],
             [
              0.5555555555555556,
              "#d8576b"
             ],
             [
              0.6666666666666666,
              "#ed7953"
             ],
             [
              0.7777777777777778,
              "#fb9f3a"
             ],
             [
              0.8888888888888888,
              "#fdca26"
             ],
             [
              1,
              "#f0f921"
             ]
            ],
            "type": "heatmap"
           }
          ],
          "heatmapgl": [
           {
            "colorbar": {
             "outlinewidth": 0,
             "ticks": ""
            },
            "colorscale": [
             [
              0,
              "#0d0887"
             ],
             [
              0.1111111111111111,
              "#46039f"
             ],
             [
              0.2222222222222222,
              "#7201a8"
             ],
             [
              0.3333333333333333,
              "#9c179e"
             ],
             [
              0.4444444444444444,
              "#bd3786"
             ],
             [
              0.5555555555555556,
              "#d8576b"
             ],
             [
              0.6666666666666666,
              "#ed7953"
             ],
             [
              0.7777777777777778,
              "#fb9f3a"
             ],
             [
              0.8888888888888888,
              "#fdca26"
             ],
             [
              1,
              "#f0f921"
             ]
            ],
            "type": "heatmapgl"
           }
          ],
          "histogram": [
           {
            "marker": {
             "colorbar": {
              "outlinewidth": 0,
              "ticks": ""
             }
            },
            "type": "histogram"
           }
          ],
          "histogram2d": [
           {
            "colorbar": {
             "outlinewidth": 0,
             "ticks": ""
            },
            "colorscale": [
             [
              0,
              "#0d0887"
             ],
             [
              0.1111111111111111,
              "#46039f"
             ],
             [
              0.2222222222222222,
              "#7201a8"
             ],
             [
              0.3333333333333333,
              "#9c179e"
             ],
             [
              0.4444444444444444,
              "#bd3786"
             ],
             [
              0.5555555555555556,
              "#d8576b"
             ],
             [
              0.6666666666666666,
              "#ed7953"
             ],
             [
              0.7777777777777778,
              "#fb9f3a"
             ],
             [
              0.8888888888888888,
              "#fdca26"
             ],
             [
              1,
              "#f0f921"
             ]
            ],
            "type": "histogram2d"
           }
          ],
          "histogram2dcontour": [
           {
            "colorbar": {
             "outlinewidth": 0,
             "ticks": ""
            },
            "colorscale": [
             [
              0,
              "#0d0887"
             ],
             [
              0.1111111111111111,
              "#46039f"
             ],
             [
              0.2222222222222222,
              "#7201a8"
             ],
             [
              0.3333333333333333,
              "#9c179e"
             ],
             [
              0.4444444444444444,
              "#bd3786"
             ],
             [
              0.5555555555555556,
              "#d8576b"
             ],
             [
              0.6666666666666666,
              "#ed7953"
             ],
             [
              0.7777777777777778,
              "#fb9f3a"
             ],
             [
              0.8888888888888888,
              "#fdca26"
             ],
             [
              1,
              "#f0f921"
             ]
            ],
            "type": "histogram2dcontour"
           }
          ],
          "mesh3d": [
           {
            "colorbar": {
             "outlinewidth": 0,
             "ticks": ""
            },
            "type": "mesh3d"
           }
          ],
          "parcoords": [
           {
            "line": {
             "colorbar": {
              "outlinewidth": 0,
              "ticks": ""
             }
            },
            "type": "parcoords"
           }
          ],
          "pie": [
           {
            "automargin": true,
            "type": "pie"
           }
          ],
          "scatter": [
           {
            "marker": {
             "colorbar": {
              "outlinewidth": 0,
              "ticks": ""
             }
            },
            "type": "scatter"
           }
          ],
          "scatter3d": [
           {
            "line": {
             "colorbar": {
              "outlinewidth": 0,
              "ticks": ""
             }
            },
            "marker": {
             "colorbar": {
              "outlinewidth": 0,
              "ticks": ""
             }
            },
            "type": "scatter3d"
           }
          ],
          "scattercarpet": [
           {
            "marker": {
             "colorbar": {
              "outlinewidth": 0,
              "ticks": ""
             }
            },
            "type": "scattercarpet"
           }
          ],
          "scattergeo": [
           {
            "marker": {
             "colorbar": {
              "outlinewidth": 0,
              "ticks": ""
             }
            },
            "type": "scattergeo"
           }
          ],
          "scattergl": [
           {
            "marker": {
             "colorbar": {
              "outlinewidth": 0,
              "ticks": ""
             }
            },
            "type": "scattergl"
           }
          ],
          "scattermapbox": [
           {
            "marker": {
             "colorbar": {
              "outlinewidth": 0,
              "ticks": ""
             }
            },
            "type": "scattermapbox"
           }
          ],
          "scatterpolar": [
           {
            "marker": {
             "colorbar": {
              "outlinewidth": 0,
              "ticks": ""
             }
            },
            "type": "scatterpolar"
           }
          ],
          "scatterpolargl": [
           {
            "marker": {
             "colorbar": {
              "outlinewidth": 0,
              "ticks": ""
             }
            },
            "type": "scatterpolargl"
           }
          ],
          "scatterternary": [
           {
            "marker": {
             "colorbar": {
              "outlinewidth": 0,
              "ticks": ""
             }
            },
            "type": "scatterternary"
           }
          ],
          "surface": [
           {
            "colorbar": {
             "outlinewidth": 0,
             "ticks": ""
            },
            "colorscale": [
             [
              0,
              "#0d0887"
             ],
             [
              0.1111111111111111,
              "#46039f"
             ],
             [
              0.2222222222222222,
              "#7201a8"
             ],
             [
              0.3333333333333333,
              "#9c179e"
             ],
             [
              0.4444444444444444,
              "#bd3786"
             ],
             [
              0.5555555555555556,
              "#d8576b"
             ],
             [
              0.6666666666666666,
              "#ed7953"
             ],
             [
              0.7777777777777778,
              "#fb9f3a"
             ],
             [
              0.8888888888888888,
              "#fdca26"
             ],
             [
              1,
              "#f0f921"
             ]
            ],
            "type": "surface"
           }
          ],
          "table": [
           {
            "cells": {
             "fill": {
              "color": "#EBF0F8"
             },
             "line": {
              "color": "white"
             }
            },
            "header": {
             "fill": {
              "color": "#C8D4E3"
             },
             "line": {
              "color": "white"
             }
            },
            "type": "table"
           }
          ]
         },
         "layout": {
          "annotationdefaults": {
           "arrowcolor": "#2a3f5f",
           "arrowhead": 0,
           "arrowwidth": 1
          },
          "coloraxis": {
           "colorbar": {
            "outlinewidth": 0,
            "ticks": ""
           }
          },
          "colorscale": {
           "diverging": [
            [
             0,
             "#8e0152"
            ],
            [
             0.1,
             "#c51b7d"
            ],
            [
             0.2,
             "#de77ae"
            ],
            [
             0.3,
             "#f1b6da"
            ],
            [
             0.4,
             "#fde0ef"
            ],
            [
             0.5,
             "#f7f7f7"
            ],
            [
             0.6,
             "#e6f5d0"
            ],
            [
             0.7,
             "#b8e186"
            ],
            [
             0.8,
             "#7fbc41"
            ],
            [
             0.9,
             "#4d9221"
            ],
            [
             1,
             "#276419"
            ]
           ],
           "sequential": [
            [
             0,
             "#0d0887"
            ],
            [
             0.1111111111111111,
             "#46039f"
            ],
            [
             0.2222222222222222,
             "#7201a8"
            ],
            [
             0.3333333333333333,
             "#9c179e"
            ],
            [
             0.4444444444444444,
             "#bd3786"
            ],
            [
             0.5555555555555556,
             "#d8576b"
            ],
            [
             0.6666666666666666,
             "#ed7953"
            ],
            [
             0.7777777777777778,
             "#fb9f3a"
            ],
            [
             0.8888888888888888,
             "#fdca26"
            ],
            [
             1,
             "#f0f921"
            ]
           ],
           "sequentialminus": [
            [
             0,
             "#0d0887"
            ],
            [
             0.1111111111111111,
             "#46039f"
            ],
            [
             0.2222222222222222,
             "#7201a8"
            ],
            [
             0.3333333333333333,
             "#9c179e"
            ],
            [
             0.4444444444444444,
             "#bd3786"
            ],
            [
             0.5555555555555556,
             "#d8576b"
            ],
            [
             0.6666666666666666,
             "#ed7953"
            ],
            [
             0.7777777777777778,
             "#fb9f3a"
            ],
            [
             0.8888888888888888,
             "#fdca26"
            ],
            [
             1,
             "#f0f921"
            ]
           ]
          },
          "colorway": [
           "#636efa",
           "#EF553B",
           "#00cc96",
           "#ab63fa",
           "#FFA15A",
           "#19d3f3",
           "#FF6692",
           "#B6E880",
           "#FF97FF",
           "#FECB52"
          ],
          "font": {
           "color": "#2a3f5f"
          },
          "geo": {
           "bgcolor": "white",
           "lakecolor": "white",
           "landcolor": "#E5ECF6",
           "showlakes": true,
           "showland": true,
           "subunitcolor": "white"
          },
          "hoverlabel": {
           "align": "left"
          },
          "hovermode": "closest",
          "mapbox": {
           "style": "light"
          },
          "paper_bgcolor": "white",
          "plot_bgcolor": "#E5ECF6",
          "polar": {
           "angularaxis": {
            "gridcolor": "white",
            "linecolor": "white",
            "ticks": ""
           },
           "bgcolor": "#E5ECF6",
           "radialaxis": {
            "gridcolor": "white",
            "linecolor": "white",
            "ticks": ""
           }
          },
          "scene": {
           "xaxis": {
            "backgroundcolor": "#E5ECF6",
            "gridcolor": "white",
            "gridwidth": 2,
            "linecolor": "white",
            "showbackground": true,
            "ticks": "",
            "zerolinecolor": "white"
           },
           "yaxis": {
            "backgroundcolor": "#E5ECF6",
            "gridcolor": "white",
            "gridwidth": 2,
            "linecolor": "white",
            "showbackground": true,
            "ticks": "",
            "zerolinecolor": "white"
           },
           "zaxis": {
            "backgroundcolor": "#E5ECF6",
            "gridcolor": "white",
            "gridwidth": 2,
            "linecolor": "white",
            "showbackground": true,
            "ticks": "",
            "zerolinecolor": "white"
           }
          },
          "shapedefaults": {
           "line": {
            "color": "#2a3f5f"
           }
          },
          "ternary": {
           "aaxis": {
            "gridcolor": "white",
            "linecolor": "white",
            "ticks": ""
           },
           "baxis": {
            "gridcolor": "white",
            "linecolor": "white",
            "ticks": ""
           },
           "bgcolor": "#E5ECF6",
           "caxis": {
            "gridcolor": "white",
            "linecolor": "white",
            "ticks": ""
           }
          },
          "title": {
           "x": 0.05
          },
          "xaxis": {
           "automargin": true,
           "gridcolor": "white",
           "linecolor": "white",
           "ticks": "",
           "title": {
            "standoff": 15
           },
           "zerolinecolor": "white",
           "zerolinewidth": 2
          },
          "yaxis": {
           "automargin": true,
           "gridcolor": "white",
           "linecolor": "white",
           "ticks": "",
           "title": {
            "standoff": 15
           },
           "zerolinecolor": "white",
           "zerolinewidth": 2
          }
         }
        },
        "xaxis": {
         "anchor": "y",
         "domain": [
          0,
          1
         ],
         "title": {
          "text": "WeekStartDate"
         }
        },
        "yaxis": {
         "anchor": "x",
         "domain": [
          0,
          1
         ],
         "title": {
          "text": "NewPos_All"
         }
        }
       }
      },
      "text/html": [
       "<div>\n",
       "        \n",
       "        \n",
       "            <div id=\"efa7195a-cef1-4578-9481-08aac07a478c\" class=\"plotly-graph-div\" style=\"height:525px; width:100%;\"></div>\n",
       "            <script type=\"text/javascript\">\n",
       "                require([\"plotly\"], function(Plotly) {\n",
       "                    window.PLOTLYENV=window.PLOTLYENV || {};\n",
       "                    \n",
       "                if (document.getElementById(\"efa7195a-cef1-4578-9481-08aac07a478c\")) {\n",
       "                    Plotly.newPlot(\n",
       "                        'efa7195a-cef1-4578-9481-08aac07a478c',\n",
       "                        [{\"hoverlabel\": {\"namelength\": 0}, \"hovertemplate\": \"County=Adams County<br>WeekStartDate=%{x}<br>NewPos_All=%{y}\", \"legendgroup\": \"Adams County\", \"marker\": {\"color\": \"#636efa\", \"symbol\": \"circle\"}, \"mode\": \"markers\", \"name\": \"Adams County\", \"showlegend\": true, \"type\": \"scatter\", \"x\": [\"2020-03-08\", \"2020-03-15\", \"2020-03-22\", \"2020-03-29\", \"2020-04-05\", \"2020-04-12\", \"2020-04-19\", \"2020-04-26\", \"2020-05-03\", \"2020-05-10\", \"2020-05-17\", \"2020-05-24\", \"2020-05-31\", \"2020-06-07\", \"2020-06-14\", \"2020-06-21\", \"2020-06-28\"], \"xaxis\": \"x\", \"y\": [4, 3, 9, 17, 8, 2, 4, 2, 1, 2, 5, 17, 15, 11, 13, 30, 23], \"yaxis\": \"y\"}, {\"hoverlabel\": {\"namelength\": 0}, \"hovertemplate\": \"County=Asotin County<br>WeekStartDate=%{x}<br>NewPos_All=%{y}\", \"legendgroup\": \"Asotin County\", \"marker\": {\"color\": \"#EF553B\", \"symbol\": \"circle\"}, \"mode\": \"markers\", \"name\": \"Asotin County\", \"showlegend\": true, \"type\": \"scatter\", \"x\": [\"2020-03-15\", \"2020-03-29\", \"2020-04-05\", \"2020-04-12\", \"2020-04-19\", \"2020-05-17\", \"2020-05-31\", \"2020-06-21\"], \"xaxis\": \"x\", \"y\": [2, 2, 7, 4, 3, 1, 1, 1], \"yaxis\": \"y\"}, {\"hoverlabel\": {\"namelength\": 0}, \"hovertemplate\": \"County=Benton County<br>WeekStartDate=%{x}<br>NewPos_All=%{y}\", \"legendgroup\": \"Benton County\", \"marker\": {\"color\": \"#00cc96\", \"symbol\": \"circle\"}, \"mode\": \"markers\", \"name\": \"Benton County\", \"showlegend\": true, \"type\": \"scatter\", \"x\": [\"2020-02-16\", \"2020-03-01\", \"2020-03-08\", \"2020-03-15\", \"2020-03-22\", \"2020-03-29\", \"2020-04-05\", \"2020-04-12\", \"2020-04-19\", \"2020-04-26\", \"2020-05-03\", \"2020-05-10\", \"2020-05-17\", \"2020-05-24\", \"2020-05-31\", \"2020-06-07\", \"2020-06-14\", \"2020-06-21\", \"2020-06-28\"], \"xaxis\": \"x\", \"y\": [1, 7, 17, 57, 107, 88, 72, 66, 103, 81, 44, 67, 100, 122, 183, 255, 261, 234, 91], \"yaxis\": \"y\"}, {\"hoverlabel\": {\"namelength\": 0}, \"hovertemplate\": \"County=Chelan County<br>WeekStartDate=%{x}<br>NewPos_All=%{y}\", \"legendgroup\": \"Chelan County\", \"marker\": {\"color\": \"#ab63fa\", \"symbol\": \"circle\"}, \"mode\": \"markers\", \"name\": \"Chelan County\", \"showlegend\": true, \"type\": \"scatter\", \"x\": [\"2020-02-09\", \"2020-03-08\", \"2020-03-15\", \"2020-03-22\", \"2020-03-29\", \"2020-04-05\", \"2020-04-12\", \"2020-04-19\", \"2020-04-26\", \"2020-05-03\", \"2020-05-10\", \"2020-05-17\", \"2020-05-24\", \"2020-05-31\", \"2020-06-07\", \"2020-06-14\", \"2020-06-21\", \"2020-06-28\"], \"xaxis\": \"x\", \"y\": [1, 8, 8, 12, 24, 16, 25, 25, 20, 25, 35, 43, 19, 6, 10, 23, 55, 48], \"yaxis\": \"y\"}, {\"hoverlabel\": {\"namelength\": 0}, \"hovertemplate\": \"County=Clallam County<br>WeekStartDate=%{x}<br>NewPos_All=%{y}\", \"legendgroup\": \"Clallam County\", \"marker\": {\"color\": \"#FFA15A\", \"symbol\": \"circle\"}, \"mode\": \"markers\", \"name\": \"Clallam County\", \"showlegend\": true, \"type\": \"scatter\", \"x\": [\"2020-03-01\", \"2020-03-08\", \"2020-03-15\", \"2020-03-29\", \"2020-04-05\", \"2020-04-19\", \"2020-04-26\", \"2020-05-10\", \"2020-05-17\", \"2020-05-24\", \"2020-05-31\", \"2020-06-07\", \"2020-06-14\", \"2020-06-21\", \"2020-06-28\"], \"xaxis\": \"x\", \"y\": [2, 5, 3, 3, 1, 4, 1, 4, 2, 2, 1, 4, 1, 7, 3], \"yaxis\": \"y\"}, {\"hoverlabel\": {\"namelength\": 0}, \"hovertemplate\": \"County=Clark County<br>WeekStartDate=%{x}<br>NewPos_All=%{y}\", \"legendgroup\": \"Clark County\", \"marker\": {\"color\": \"#19d3f3\", \"symbol\": \"circle\"}, \"mode\": \"markers\", \"name\": \"Clark County\", \"showlegend\": true, \"type\": \"scatter\", \"x\": [\"2020-02-23\", \"2020-03-01\", \"2020-03-08\", \"2020-03-15\", \"2020-03-22\", \"2020-03-29\", \"2020-04-05\", \"2020-04-12\", \"2020-04-19\", \"2020-04-26\", \"2020-05-03\", \"2020-05-10\", \"2020-05-17\", \"2020-05-24\", \"2020-05-31\", \"2020-06-07\", \"2020-06-14\", \"2020-06-21\", \"2020-06-28\"], \"xaxis\": \"x\", \"y\": [3, 5, 29, 57, 66, 53, 62, 46, 22, 18, 21, 19, 68, 77, 57, 39, 61, 150, 69], \"yaxis\": \"y\"}, {\"hoverlabel\": {\"namelength\": 0}, \"hovertemplate\": \"County=Columbia County<br>WeekStartDate=%{x}<br>NewPos_All=%{y}\", \"legendgroup\": \"Columbia County\", \"marker\": {\"color\": \"#FF6692\", \"symbol\": \"circle\"}, \"mode\": \"markers\", \"name\": \"Columbia County\", \"showlegend\": true, \"type\": \"scatter\", \"x\": [\"2020-03-01\", \"2020-06-07\", \"2020-06-14\"], \"xaxis\": \"x\", \"y\": [1, 2, 5], \"yaxis\": \"y\"}, {\"hoverlabel\": {\"namelength\": 0}, \"hovertemplate\": \"County=Cowlitz County<br>WeekStartDate=%{x}<br>NewPos_All=%{y}\", \"legendgroup\": \"Cowlitz County\", \"marker\": {\"color\": \"#B6E880\", \"symbol\": \"circle\"}, \"mode\": \"markers\", \"name\": \"Cowlitz County\", \"showlegend\": true, \"type\": \"scatter\", \"x\": [\"2020-02-23\", \"2020-03-01\", \"2020-03-08\", \"2020-03-15\", \"2020-03-22\", \"2020-03-29\", \"2020-04-05\", \"2020-04-12\", \"2020-04-19\", \"2020-04-26\", \"2020-05-03\", \"2020-05-10\", \"2020-05-17\", \"2020-05-24\", \"2020-05-31\", \"2020-06-07\", \"2020-06-14\", \"2020-06-21\", \"2020-06-28\"], \"xaxis\": \"x\", \"y\": [1, 1, 8, 8, 3, 7, 6, 10, 5, 14, 5, 5, 2, 3, 34, 23, 32, 24, 17], \"yaxis\": \"y\"}, {\"hoverlabel\": {\"namelength\": 0}, \"hovertemplate\": \"County=Douglas County<br>WeekStartDate=%{x}<br>NewPos_All=%{y}\", \"legendgroup\": \"Douglas County\", \"marker\": {\"color\": \"#FF97FF\", \"symbol\": \"circle\"}, \"mode\": \"markers\", \"name\": \"Douglas County\", \"showlegend\": true, \"type\": \"scatter\", \"x\": [\"2020-03-01\", \"2020-03-08\", \"2020-03-15\", \"2020-03-22\", \"2020-03-29\", \"2020-04-05\", \"2020-04-12\", \"2020-04-19\", \"2020-04-26\", \"2020-05-03\", \"2020-05-10\", \"2020-05-17\", \"2020-05-24\", \"2020-05-31\", \"2020-06-07\", \"2020-06-14\", \"2020-06-21\", \"2020-06-28\"], \"xaxis\": \"x\", \"y\": [2, 1, 1, 9, 8, 8, 38, 13, 23, 20, 21, 23, 11, 2, 11, 19, 37, 32], \"yaxis\": \"y\"}, {\"hoverlabel\": {\"namelength\": 0}, \"hovertemplate\": \"County=Franklin County<br>WeekStartDate=%{x}<br>NewPos_All=%{y}\", \"legendgroup\": \"Franklin County\", \"marker\": {\"color\": \"#FECB52\", \"symbol\": \"circle\"}, \"mode\": \"markers\", \"name\": \"Franklin County\", \"showlegend\": true, \"type\": \"scatter\", \"x\": [\"2020-02-09\", \"2020-02-23\", \"2020-03-01\", \"2020-03-08\", \"2020-03-15\", \"2020-03-22\", \"2020-03-29\", \"2020-04-05\", \"2020-04-12\", \"2020-04-19\", \"2020-04-26\", \"2020-05-03\", \"2020-05-10\", \"2020-05-17\", \"2020-05-24\", \"2020-05-31\", \"2020-06-07\", \"2020-06-14\", \"2020-06-21\", \"2020-06-28\"], \"xaxis\": \"x\", \"y\": [1, 1, 2, 5, 18, 48, 53, 64, 78, 79, 73, 39, 60, 94, 151, 235, 245, 298, 256, 98], \"yaxis\": \"y\"}, {\"hoverlabel\": {\"namelength\": 0}, \"hovertemplate\": \"County=Grant County<br>WeekStartDate=%{x}<br>NewPos_All=%{y}\", \"legendgroup\": \"Grant County\", \"marker\": {\"color\": \"#636efa\", \"symbol\": \"circle\"}, \"mode\": \"markers\", \"name\": \"Grant County\", \"showlegend\": true, \"type\": \"scatter\", \"x\": [\"2020-02-16\", \"2020-02-23\", \"2020-03-01\", \"2020-03-08\", \"2020-03-15\", \"2020-03-22\", \"2020-03-29\", \"2020-04-05\", \"2020-04-12\", \"2020-04-19\", \"2020-04-26\", \"2020-05-03\", \"2020-05-10\", \"2020-05-17\", \"2020-05-24\", \"2020-05-31\", \"2020-06-07\", \"2020-06-14\", \"2020-06-21\", \"2020-06-28\"], \"xaxis\": \"x\", \"y\": [1, 1, 4, 36, 33, 22, 18, 28, 13, 11, 15, 4, 6, 18, 32, 15, 91, 108, 74, 22], \"yaxis\": \"y\"}, {\"hoverlabel\": {\"namelength\": 0}, \"hovertemplate\": \"County=Grays Harbor County<br>WeekStartDate=%{x}<br>NewPos_All=%{y}\", \"legendgroup\": \"Grays Harbor County\", \"marker\": {\"color\": \"#EF553B\", \"symbol\": \"circle\"}, \"mode\": \"markers\", \"name\": \"Grays Harbor County\", \"showlegend\": true, \"type\": \"scatter\", \"x\": [\"2020-02-16\", \"2020-02-23\", \"2020-03-01\", \"2020-03-15\", \"2020-03-22\", \"2020-03-29\", \"2020-04-05\", \"2020-04-26\", \"2020-05-03\", \"2020-05-17\", \"2020-05-24\", \"2020-05-31\", \"2020-06-07\", \"2020-06-14\", \"2020-06-21\", \"2020-06-28\"], \"xaxis\": \"x\", \"y\": [1, 1, 1, 1, 3, 4, 1, 1, 2, 2, 1, 2, 1, 3, 1, 1], \"yaxis\": \"y\"}, {\"hoverlabel\": {\"namelength\": 0}, \"hovertemplate\": \"County=Island County<br>WeekStartDate=%{x}<br>NewPos_All=%{y}\", \"legendgroup\": \"Island County\", \"marker\": {\"color\": \"#00cc96\", \"symbol\": \"circle\"}, \"mode\": \"markers\", \"name\": \"Island County\", \"showlegend\": true, \"type\": \"scatter\", \"x\": [\"2020-02-23\", \"2020-03-01\", \"2020-03-08\", \"2020-03-15\", \"2020-03-22\", \"2020-03-29\", \"2020-04-05\", \"2020-04-12\", \"2020-04-19\", \"2020-04-26\", \"2020-05-03\", \"2020-05-10\", \"2020-05-24\", \"2020-06-07\", \"2020-06-14\", \"2020-06-21\", \"2020-06-28\"], \"xaxis\": \"x\", \"y\": [2, 10, 25, 34, 70, 22, 4, 1, 3, 5, 4, 1, 1, 4, 4, 7, 1], \"yaxis\": \"y\"}, {\"hoverlabel\": {\"namelength\": 0}, \"hovertemplate\": \"County=Jefferson County<br>WeekStartDate=%{x}<br>NewPos_All=%{y}\", \"legendgroup\": \"Jefferson County\", \"marker\": {\"color\": \"#ab63fa\", \"symbol\": \"circle\"}, \"mode\": \"markers\", \"name\": \"Jefferson County\", \"showlegend\": true, \"type\": \"scatter\", \"x\": [\"2020-02-23\", \"2020-03-01\", \"2020-03-08\", \"2020-03-15\", \"2020-03-22\", \"2020-03-29\", \"2020-05-31\", \"2020-06-07\", \"2020-06-14\", \"2020-06-21\", \"2020-06-28\"], \"xaxis\": \"x\", \"y\": [2, 4, 10, 9, 3, 2, 1, 1, 3, 3, 1], \"yaxis\": \"y\"}, {\"hoverlabel\": {\"namelength\": 0}, \"hovertemplate\": \"County=King County<br>WeekStartDate=%{x}<br>NewPos_All=%{y}\", \"legendgroup\": \"King County\", \"marker\": {\"color\": \"#FFA15A\", \"symbol\": \"circle\"}, \"mode\": \"markers\", \"name\": \"King County\", \"showlegend\": true, \"type\": \"scatter\", \"x\": [\"2020-02-02\", \"2020-02-09\", \"2020-02-16\", \"2020-02-23\", \"2020-03-01\", \"2020-03-08\", \"2020-03-15\", \"2020-03-22\", \"2020-03-29\", \"2020-04-05\", \"2020-04-12\", \"2020-04-19\", \"2020-04-26\", \"2020-05-03\", \"2020-05-10\", \"2020-05-17\", \"2020-05-24\", \"2020-05-31\", \"2020-06-07\", \"2020-06-14\", \"2020-06-21\", \"2020-06-28\"], \"xaxis\": \"x\", \"y\": [2, 5, 46, 115, 289, 794, 1035, 1092, 989, 802, 739, 614, 577, 418, 388, 321, 315, 259, 368, 549, 667, 557], \"yaxis\": \"y\"}, {\"hoverlabel\": {\"namelength\": 0}, \"hovertemplate\": \"County=Kitsap County<br>WeekStartDate=%{x}<br>NewPos_All=%{y}\", \"legendgroup\": \"Kitsap County\", \"marker\": {\"color\": \"#19d3f3\", \"symbol\": \"circle\"}, \"mode\": \"markers\", \"name\": \"Kitsap County\", \"showlegend\": true, \"type\": \"scatter\", \"x\": [\"2020-02-16\", \"2020-02-23\", \"2020-03-01\", \"2020-03-08\", \"2020-03-15\", \"2020-03-22\", \"2020-03-29\", \"2020-04-05\", \"2020-04-12\", \"2020-04-19\", \"2020-04-26\", \"2020-05-03\", \"2020-05-10\", \"2020-05-24\", \"2020-05-31\", \"2020-06-07\", \"2020-06-14\", \"2020-06-21\", \"2020-06-28\"], \"xaxis\": \"x\", \"y\": [1, 1, 6, 22, 34, 36, 27, 11, 9, 3, 3, 2, 6, 4, 11, 10, 22, 22, 13], \"yaxis\": \"y\"}, {\"hoverlabel\": {\"namelength\": 0}, \"hovertemplate\": \"County=Kittitas County<br>WeekStartDate=%{x}<br>NewPos_All=%{y}\", \"legendgroup\": \"Kittitas County\", \"marker\": {\"color\": \"#FF6692\", \"symbol\": \"circle\"}, \"mode\": \"markers\", \"name\": \"Kittitas County\", \"showlegend\": true, \"type\": \"scatter\", \"x\": [\"2020-01-26\", \"2020-02-16\", \"2020-03-08\", \"2020-03-15\", \"2020-03-22\", \"2020-03-29\", \"2020-04-05\", \"2020-04-19\", \"2020-04-26\", \"2020-05-03\", \"2020-05-10\", \"2020-05-17\", \"2020-05-24\", \"2020-05-31\", \"2020-06-07\", \"2020-06-14\", \"2020-06-21\", \"2020-06-28\"], \"xaxis\": \"x\", \"y\": [1, 3, 2, 5, 2, 2, 1, 1, 3, 30, 18, 17, 6, 1, 5, 16, 31, 2], \"yaxis\": \"y\"}, {\"hoverlabel\": {\"namelength\": 0}, \"hovertemplate\": \"County=Klickitat County<br>WeekStartDate=%{x}<br>NewPos_All=%{y}\", \"legendgroup\": \"Klickitat County\", \"marker\": {\"color\": \"#B6E880\", \"symbol\": \"circle\"}, \"mode\": \"markers\", \"name\": \"Klickitat County\", \"showlegend\": true, \"type\": \"scatter\", \"x\": [\"2020-03-01\", \"2020-03-15\", \"2020-03-22\", \"2020-03-29\", \"2020-04-05\", \"2020-04-19\", \"2020-04-26\", \"2020-05-03\", \"2020-05-10\", \"2020-05-17\", \"2020-05-24\", \"2020-05-31\", \"2020-06-07\", \"2020-06-14\", \"2020-06-21\", \"2020-06-28\"], \"xaxis\": \"x\", \"y\": [2, 6, 2, 2, 4, 2, 3, 3, 1, 1, 3, 15, 8, 5, 8, 2], \"yaxis\": \"y\"}, {\"hoverlabel\": {\"namelength\": 0}, \"hovertemplate\": \"County=Lewis County<br>WeekStartDate=%{x}<br>NewPos_All=%{y}\", \"legendgroup\": \"Lewis County\", \"marker\": {\"color\": \"#FF97FF\", \"symbol\": \"circle\"}, \"mode\": \"markers\", \"name\": \"Lewis County\", \"showlegend\": true, \"type\": \"scatter\", \"x\": [\"2020-03-08\", \"2020-03-15\", \"2020-03-22\", \"2020-03-29\", \"2020-04-05\", \"2020-04-12\", \"2020-04-19\", \"2020-04-26\", \"2020-05-03\", \"2020-05-10\", \"2020-05-24\", \"2020-06-07\", \"2020-06-14\", \"2020-06-21\", \"2020-06-28\"], \"xaxis\": \"x\", \"y\": [3, 10, 4, 2, 3, 1, 5, 1, 1, 4, 2, 5, 16, 17, 1], \"yaxis\": \"y\"}, {\"hoverlabel\": {\"namelength\": 0}, \"hovertemplate\": \"County=Mason County<br>WeekStartDate=%{x}<br>NewPos_All=%{y}\", \"legendgroup\": \"Mason County\", \"marker\": {\"color\": \"#FECB52\", \"symbol\": \"circle\"}, \"mode\": \"markers\", \"name\": \"Mason County\", \"showlegend\": true, \"type\": \"scatter\", \"x\": [\"2020-03-01\", \"2020-03-08\", \"2020-03-15\", \"2020-03-22\", \"2020-03-29\", \"2020-04-12\", \"2020-04-19\", \"2020-04-26\", \"2020-05-03\", \"2020-05-10\", \"2020-05-17\", \"2020-05-24\", \"2020-05-31\", \"2020-06-07\", \"2020-06-14\", \"2020-06-21\", \"2020-06-28\"], \"xaxis\": \"x\", \"y\": [1, 1, 7, 6, 5, 3, 2, 4, 2, 3, 2, 2, 2, 2, 3, 6, 2], \"yaxis\": \"y\"}, {\"hoverlabel\": {\"namelength\": 0}, \"hovertemplate\": \"County=Okanogan County<br>WeekStartDate=%{x}<br>NewPos_All=%{y}\", \"legendgroup\": \"Okanogan County\", \"marker\": {\"color\": \"#636efa\", \"symbol\": \"circle\"}, \"mode\": \"markers\", \"name\": \"Okanogan County\", \"showlegend\": true, \"type\": \"scatter\", \"x\": [\"2020-03-08\", \"2020-03-15\", \"2020-03-22\", \"2020-03-29\", \"2020-04-05\", \"2020-04-12\", \"2020-04-19\", \"2020-04-26\", \"2020-05-03\", \"2020-05-10\", \"2020-05-17\", \"2020-05-24\", \"2020-05-31\", \"2020-06-07\", \"2020-06-14\", \"2020-06-21\", \"2020-06-28\"], \"xaxis\": \"x\", \"y\": [3, 1, 4, 4, 2, 3, 6, 1, 11, 9, 2, 9, 11, 9, 4, 17, 22], \"yaxis\": \"y\"}, {\"hoverlabel\": {\"namelength\": 0}, \"hovertemplate\": \"County=Pacific County<br>WeekStartDate=%{x}<br>NewPos_All=%{y}\", \"legendgroup\": \"Pacific County\", \"marker\": {\"color\": \"#EF553B\", \"symbol\": \"circle\"}, \"mode\": \"markers\", \"name\": \"Pacific County\", \"showlegend\": true, \"type\": \"scatter\", \"x\": [\"2020-03-29\", \"2020-04-05\", \"2020-04-19\", \"2020-04-26\", \"2020-05-03\", \"2020-05-31\", \"2020-06-07\", \"2020-06-21\"], \"xaxis\": \"x\", \"y\": [2, 1, 1, 2, 3, 1, 2, 6], \"yaxis\": \"y\"}, {\"hoverlabel\": {\"namelength\": 0}, \"hovertemplate\": \"County=Pend Oreille County<br>WeekStartDate=%{x}<br>NewPos_All=%{y}\", \"legendgroup\": \"Pend Oreille County\", \"marker\": {\"color\": \"#00cc96\", \"symbol\": \"circle\"}, \"mode\": \"markers\", \"name\": \"Pend Oreille County\", \"showlegend\": true, \"type\": \"scatter\", \"x\": [\"2020-03-15\", \"2020-04-05\", \"2020-05-17\", \"2020-06-21\", \"2020-06-28\"], \"xaxis\": \"x\", \"y\": [1, 1, 1, 1, 1], \"yaxis\": \"y\"}, {\"hoverlabel\": {\"namelength\": 0}, \"hovertemplate\": \"County=Pierce County<br>WeekStartDate=%{x}<br>NewPos_All=%{y}\", \"legendgroup\": \"Pierce County\", \"marker\": {\"color\": \"#ab63fa\", \"symbol\": \"circle\"}, \"mode\": \"markers\", \"name\": \"Pierce County\", \"showlegend\": true, \"type\": \"scatter\", \"x\": [\"2020-02-16\", \"2020-02-23\", \"2020-03-01\", \"2020-03-08\", \"2020-03-15\", \"2020-03-22\", \"2020-03-29\", \"2020-04-05\", \"2020-04-12\", \"2020-04-19\", \"2020-04-26\", \"2020-05-03\", \"2020-05-10\", \"2020-05-17\", \"2020-05-24\", \"2020-05-31\", \"2020-06-07\", \"2020-06-14\", \"2020-06-21\", \"2020-06-28\"], \"xaxis\": \"x\", \"y\": [2, 11, 38, 104, 224, 241, 281, 188, 198, 162, 154, 144, 98, 81, 88, 90, 103, 185, 214, 198], \"yaxis\": \"y\"}, {\"hoverlabel\": {\"namelength\": 0}, \"hovertemplate\": \"County=San Juan County<br>WeekStartDate=%{x}<br>NewPos_All=%{y}\", \"legendgroup\": \"San Juan County\", \"marker\": {\"color\": \"#FFA15A\", \"symbol\": \"circle\"}, \"mode\": \"markers\", \"name\": \"San Juan County\", \"showlegend\": true, \"type\": \"scatter\", \"x\": [\"2020-03-08\", \"2020-03-15\", \"2020-03-22\", \"2020-03-29\", \"2020-04-05\", \"2020-04-12\", \"2020-06-07\", \"2020-06-14\", \"2020-06-21\"], \"xaxis\": \"x\", \"y\": [1, 3, 2, 7, 1, 1, 1, 2, 1], \"yaxis\": \"y\"}, {\"hoverlabel\": {\"namelength\": 0}, \"hovertemplate\": \"County=Skagit County<br>WeekStartDate=%{x}<br>NewPos_All=%{y}\", \"legendgroup\": \"Skagit County\", \"marker\": {\"color\": \"#19d3f3\", \"symbol\": \"circle\"}, \"mode\": \"markers\", \"name\": \"Skagit County\", \"showlegend\": true, \"type\": \"scatter\", \"x\": [\"2020-02-16\", \"2020-02-23\", \"2020-03-01\", \"2020-03-08\", \"2020-03-15\", \"2020-03-22\", \"2020-03-29\", \"2020-04-05\", \"2020-04-12\", \"2020-04-19\", \"2020-04-26\", \"2020-05-03\", \"2020-05-10\", \"2020-05-17\", \"2020-05-24\", \"2020-05-31\", \"2020-06-07\", \"2020-06-14\", \"2020-06-21\", \"2020-06-28\"], \"xaxis\": \"x\", \"y\": [1, 1, 8, 43, 48, 43, 42, 44, 54, 66, 42, 26, 11, 2, 13, 11, 20, 20, 23, 31], \"yaxis\": \"y\"}, {\"hoverlabel\": {\"namelength\": 0}, \"hovertemplate\": \"County=Skamania County<br>WeekStartDate=%{x}<br>NewPos_All=%{y}\", \"legendgroup\": \"Skamania County\", \"marker\": {\"color\": \"#FF6692\", \"symbol\": \"circle\"}, \"mode\": \"markers\", \"name\": \"Skamania County\", \"showlegend\": true, \"type\": \"scatter\", \"x\": [\"2020-03-22\", \"2020-04-05\", \"2020-06-14\", \"2020-06-21\", \"2020-06-28\"], \"xaxis\": \"x\", \"y\": [2, 1, 1, 3, 2], \"yaxis\": \"y\"}, {\"hoverlabel\": {\"namelength\": 0}, \"hovertemplate\": \"County=Snohomish County<br>WeekStartDate=%{x}<br>NewPos_All=%{y}\", \"legendgroup\": \"Snohomish County\", \"marker\": {\"color\": \"#B6E880\", \"symbol\": \"circle\"}, \"mode\": \"markers\", \"name\": \"Snohomish County\", \"showlegend\": true, \"type\": \"scatter\", \"x\": [\"2020-01-16\", \"2020-01-26\", \"2020-02-02\", \"2020-02-09\", \"2020-02-16\", \"2020-02-23\", \"2020-03-01\", \"2020-03-08\", \"2020-03-15\", \"2020-03-22\", \"2020-03-29\", \"2020-04-05\", \"2020-04-12\", \"2020-04-19\", \"2020-04-26\", \"2020-05-03\", \"2020-05-10\", \"2020-05-17\", \"2020-05-24\", \"2020-05-31\", \"2020-06-07\", \"2020-06-14\", \"2020-06-21\", \"2020-06-28\"], \"xaxis\": \"x\", \"y\": [1, 1, 6, 4, 20, 51, 199, 344, 494, 427, 301, 216, 202, 195, 186, 114, 99, 96, 58, 82, 108, 171, 184, 137], \"yaxis\": \"y\"}, {\"hoverlabel\": {\"namelength\": 0}, \"hovertemplate\": \"County=Spokane County<br>WeekStartDate=%{x}<br>NewPos_All=%{y}\", \"legendgroup\": \"Spokane County\", \"marker\": {\"color\": \"#FF97FF\", \"symbol\": \"circle\"}, \"mode\": \"markers\", \"name\": \"Spokane County\", \"showlegend\": true, \"type\": \"scatter\", \"x\": [\"2020-02-16\", \"2020-02-23\", \"2020-03-01\", \"2020-03-08\", \"2020-03-15\", \"2020-03-22\", \"2020-03-29\", \"2020-04-05\", \"2020-04-12\", \"2020-04-19\", \"2020-04-26\", \"2020-05-03\", \"2020-05-10\", \"2020-05-17\", \"2020-05-24\", \"2020-05-31\", \"2020-06-07\", \"2020-06-14\", \"2020-06-21\", \"2020-06-28\"], \"xaxis\": \"x\", \"y\": [1, 1, 9, 38, 90, 72, 44, 31, 32, 42, 21, 16, 44, 109, 99, 134, 131, 193, 319, 176], \"yaxis\": \"y\"}, {\"hoverlabel\": {\"namelength\": 0}, \"hovertemplate\": \"County=Stevens County<br>WeekStartDate=%{x}<br>NewPos_All=%{y}\", \"legendgroup\": \"Stevens County\", \"marker\": {\"color\": \"#FECB52\", \"symbol\": \"circle\"}, \"mode\": \"markers\", \"name\": \"Stevens County\", \"showlegend\": true, \"type\": \"scatter\", \"x\": [\"2020-03-01\", \"2020-03-08\", \"2020-03-15\", \"2020-03-22\", \"2020-03-29\", \"2020-04-12\", \"2020-05-10\", \"2020-05-17\", \"2020-05-24\", \"2020-06-07\", \"2020-06-21\", \"2020-06-28\"], \"xaxis\": \"x\", \"y\": [1, 1, 1, 3, 1, 2, 1, 2, 1, 3, 2, 2], \"yaxis\": \"y\"}, {\"hoverlabel\": {\"namelength\": 0}, \"hovertemplate\": \"County=Thurston County<br>WeekStartDate=%{x}<br>NewPos_All=%{y}\", \"legendgroup\": \"Thurston County\", \"marker\": {\"color\": \"#636efa\", \"symbol\": \"circle\"}, \"mode\": \"markers\", \"name\": \"Thurston County\", \"showlegend\": true, \"type\": \"scatter\", \"x\": [\"2020-02-23\", \"2020-03-01\", \"2020-03-08\", \"2020-03-15\", \"2020-03-22\", \"2020-03-29\", \"2020-04-05\", \"2020-04-12\", \"2020-04-19\", \"2020-04-26\", \"2020-05-03\", \"2020-05-10\", \"2020-05-17\", \"2020-05-24\", \"2020-05-31\", \"2020-06-07\", \"2020-06-14\", \"2020-06-21\", \"2020-06-28\"], \"xaxis\": \"x\", \"y\": [1, 4, 17, 15, 31, 16, 10, 12, 8, 5, 5, 3, 6, 28, 26, 19, 20, 39, 24], \"yaxis\": \"y\"}, {\"hoverlabel\": {\"namelength\": 0}, \"hovertemplate\": \"County=Wahkiakum County<br>WeekStartDate=%{x}<br>NewPos_All=%{y}\", \"legendgroup\": \"Wahkiakum County\", \"marker\": {\"color\": \"#EF553B\", \"symbol\": \"circle\"}, \"mode\": \"markers\", \"name\": \"Wahkiakum County\", \"showlegend\": true, \"type\": \"scatter\", \"x\": [\"2020-03-15\", \"2020-03-22\", \"2020-05-03\", \"2020-06-14\"], \"xaxis\": \"x\", \"y\": [1, 1, 2, 1], \"yaxis\": \"y\"}, {\"hoverlabel\": {\"namelength\": 0}, \"hovertemplate\": \"County=Walla Walla County<br>WeekStartDate=%{x}<br>NewPos_All=%{y}\", \"legendgroup\": \"Walla Walla County\", \"marker\": {\"color\": \"#00cc96\", \"symbol\": \"circle\"}, \"mode\": \"markers\", \"name\": \"Walla Walla County\", \"showlegend\": true, \"type\": \"scatter\", \"x\": [\"2020-03-08\", \"2020-03-15\", \"2020-03-22\", \"2020-03-29\", \"2020-04-05\", \"2020-04-12\", \"2020-04-19\", \"2020-04-26\", \"2020-05-03\", \"2020-05-10\", \"2020-05-17\", \"2020-05-24\", \"2020-05-31\", \"2020-06-07\", \"2020-06-14\", \"2020-06-21\", \"2020-06-28\"], \"xaxis\": \"x\", \"y\": [1, 2, 5, 11, 16, 13, 29, 18, 7, 5, 2, 4, 10, 13, 16, 22, 6], \"yaxis\": \"y\"}, {\"hoverlabel\": {\"namelength\": 0}, \"hovertemplate\": \"County=Whatcom County<br>WeekStartDate=%{x}<br>NewPos_All=%{y}\", \"legendgroup\": \"Whatcom County\", \"marker\": {\"color\": \"#ab63fa\", \"symbol\": \"circle\"}, \"mode\": \"markers\", \"name\": \"Whatcom County\", \"showlegend\": true, \"type\": \"scatter\", \"x\": [\"2020-02-16\", \"2020-02-23\", \"2020-03-01\", \"2020-03-08\", \"2020-03-15\", \"2020-03-22\", \"2020-03-29\", \"2020-04-05\", \"2020-04-12\", \"2020-04-19\", \"2020-04-26\", \"2020-05-03\", \"2020-05-10\", \"2020-05-17\", \"2020-05-24\", \"2020-05-31\", \"2020-06-07\", \"2020-06-14\", \"2020-06-21\", \"2020-06-28\"], \"xaxis\": \"x\", \"y\": [1, 1, 6, 27, 72, 84, 62, 22, 12, 12, 23, 16, 20, 21, 23, 33, 36, 86, 82, 28], \"yaxis\": \"y\"}, {\"hoverlabel\": {\"namelength\": 0}, \"hovertemplate\": \"County=Whitman County<br>WeekStartDate=%{x}<br>NewPos_All=%{y}\", \"legendgroup\": \"Whitman County\", \"marker\": {\"color\": \"#FFA15A\", \"symbol\": \"circle\"}, \"mode\": \"markers\", \"name\": \"Whitman County\", \"showlegend\": true, \"type\": \"scatter\", \"x\": [\"2020-03-08\", \"2020-03-15\", \"2020-03-22\", \"2020-03-29\", \"2020-04-12\", \"2020-04-19\", \"2020-05-10\", \"2020-05-17\", \"2020-05-31\", \"2020-06-07\", \"2020-06-14\", \"2020-06-21\", \"2020-06-28\"], \"xaxis\": \"x\", \"y\": [1, 4, 3, 4, 3, 1, 2, 2, 6, 2, 4, 5, 2], \"yaxis\": \"y\"}, {\"hoverlabel\": {\"namelength\": 0}, \"hovertemplate\": \"County=Yakima County<br>WeekStartDate=%{x}<br>NewPos_All=%{y}\", \"legendgroup\": \"Yakima County\", \"marker\": {\"color\": \"#19d3f3\", \"symbol\": \"circle\"}, \"mode\": \"markers\", \"name\": \"Yakima County\", \"showlegend\": true, \"type\": \"scatter\", \"x\": [\"2020-01-16\", \"2020-02-09\", \"2020-02-16\", \"2020-03-01\", \"2020-03-08\", \"2020-03-15\", \"2020-03-22\", \"2020-03-29\", \"2020-04-05\", \"2020-04-12\", \"2020-04-19\", \"2020-04-26\", \"2020-05-03\", \"2020-05-10\", \"2020-05-17\", \"2020-05-24\", \"2020-05-31\", \"2020-06-07\", \"2020-06-14\", \"2020-06-21\", \"2020-06-28\"], \"xaxis\": \"x\", \"y\": [1, 3, 2, 14, 22, 74, 157, 234, 239, 242, 288, 406, 525, 648, 680, 758, 917, 788, 744, 525, 222], \"yaxis\": \"y\"}, {\"hoverlabel\": {\"namelength\": 0}, \"hovertemplate\": \"County=Unassigned<br>WeekStartDate=%{x}<br>NewPos_All=%{y}\", \"legendgroup\": \"Unassigned\", \"marker\": {\"color\": \"#FF6692\", \"symbol\": \"circle\"}, \"mode\": \"markers\", \"name\": \"Unassigned\", \"showlegend\": true, \"type\": \"scatter\", \"x\": [\"2020-04-12\", \"2020-04-19\", \"2020-05-10\", \"2020-05-17\", \"2020-05-24\", \"2020-05-31\", \"2020-06-07\", \"2020-06-14\", \"2020-06-21\", \"2020-06-28\"], \"xaxis\": \"x\", \"y\": [1, 1, 1, 7, 5, 3, 5, 9, 27, 81], \"yaxis\": \"y\"}],\n",
       "                        {\"legend\": {\"title\": {\"text\": \"County\"}, \"tracegroupgap\": 0}, \"margin\": {\"t\": 60}, \"template\": {\"data\": {\"bar\": [{\"error_x\": {\"color\": \"#2a3f5f\"}, \"error_y\": {\"color\": \"#2a3f5f\"}, \"marker\": {\"line\": {\"color\": \"#E5ECF6\", \"width\": 0.5}}, \"type\": \"bar\"}], \"barpolar\": [{\"marker\": {\"line\": {\"color\": \"#E5ECF6\", \"width\": 0.5}}, \"type\": \"barpolar\"}], \"carpet\": [{\"aaxis\": {\"endlinecolor\": \"#2a3f5f\", \"gridcolor\": \"white\", \"linecolor\": \"white\", \"minorgridcolor\": \"white\", \"startlinecolor\": \"#2a3f5f\"}, \"baxis\": {\"endlinecolor\": \"#2a3f5f\", \"gridcolor\": \"white\", \"linecolor\": \"white\", \"minorgridcolor\": \"white\", \"startlinecolor\": \"#2a3f5f\"}, \"type\": \"carpet\"}], \"choropleth\": [{\"colorbar\": {\"outlinewidth\": 0, \"ticks\": \"\"}, \"type\": \"choropleth\"}], \"contour\": [{\"colorbar\": {\"outlinewidth\": 0, \"ticks\": \"\"}, \"colorscale\": [[0.0, \"#0d0887\"], [0.1111111111111111, \"#46039f\"], [0.2222222222222222, \"#7201a8\"], [0.3333333333333333, \"#9c179e\"], [0.4444444444444444, \"#bd3786\"], [0.5555555555555556, \"#d8576b\"], [0.6666666666666666, \"#ed7953\"], [0.7777777777777778, \"#fb9f3a\"], [0.8888888888888888, \"#fdca26\"], [1.0, \"#f0f921\"]], \"type\": \"contour\"}], \"contourcarpet\": [{\"colorbar\": {\"outlinewidth\": 0, \"ticks\": \"\"}, \"type\": \"contourcarpet\"}], \"heatmap\": [{\"colorbar\": {\"outlinewidth\": 0, \"ticks\": \"\"}, \"colorscale\": [[0.0, \"#0d0887\"], [0.1111111111111111, \"#46039f\"], [0.2222222222222222, \"#7201a8\"], [0.3333333333333333, \"#9c179e\"], [0.4444444444444444, \"#bd3786\"], [0.5555555555555556, \"#d8576b\"], [0.6666666666666666, \"#ed7953\"], [0.7777777777777778, \"#fb9f3a\"], [0.8888888888888888, \"#fdca26\"], [1.0, \"#f0f921\"]], \"type\": \"heatmap\"}], \"heatmapgl\": [{\"colorbar\": {\"outlinewidth\": 0, \"ticks\": \"\"}, \"colorscale\": [[0.0, \"#0d0887\"], [0.1111111111111111, \"#46039f\"], [0.2222222222222222, \"#7201a8\"], [0.3333333333333333, \"#9c179e\"], [0.4444444444444444, \"#bd3786\"], [0.5555555555555556, \"#d8576b\"], [0.6666666666666666, \"#ed7953\"], [0.7777777777777778, \"#fb9f3a\"], [0.8888888888888888, \"#fdca26\"], [1.0, \"#f0f921\"]], \"type\": \"heatmapgl\"}], \"histogram\": [{\"marker\": {\"colorbar\": {\"outlinewidth\": 0, \"ticks\": \"\"}}, \"type\": \"histogram\"}], \"histogram2d\": [{\"colorbar\": {\"outlinewidth\": 0, \"ticks\": \"\"}, \"colorscale\": [[0.0, \"#0d0887\"], [0.1111111111111111, \"#46039f\"], [0.2222222222222222, \"#7201a8\"], [0.3333333333333333, \"#9c179e\"], [0.4444444444444444, \"#bd3786\"], [0.5555555555555556, \"#d8576b\"], [0.6666666666666666, \"#ed7953\"], [0.7777777777777778, \"#fb9f3a\"], [0.8888888888888888, \"#fdca26\"], [1.0, \"#f0f921\"]], \"type\": \"histogram2d\"}], \"histogram2dcontour\": [{\"colorbar\": {\"outlinewidth\": 0, \"ticks\": \"\"}, \"colorscale\": [[0.0, \"#0d0887\"], [0.1111111111111111, \"#46039f\"], [0.2222222222222222, \"#7201a8\"], [0.3333333333333333, \"#9c179e\"], [0.4444444444444444, \"#bd3786\"], [0.5555555555555556, \"#d8576b\"], [0.6666666666666666, \"#ed7953\"], [0.7777777777777778, \"#fb9f3a\"], [0.8888888888888888, \"#fdca26\"], [1.0, \"#f0f921\"]], \"type\": \"histogram2dcontour\"}], \"mesh3d\": [{\"colorbar\": {\"outlinewidth\": 0, \"ticks\": \"\"}, \"type\": \"mesh3d\"}], \"parcoords\": [{\"line\": {\"colorbar\": {\"outlinewidth\": 0, \"ticks\": \"\"}}, \"type\": \"parcoords\"}], \"pie\": [{\"automargin\": true, \"type\": \"pie\"}], \"scatter\": [{\"marker\": {\"colorbar\": {\"outlinewidth\": 0, \"ticks\": \"\"}}, \"type\": \"scatter\"}], \"scatter3d\": [{\"line\": {\"colorbar\": {\"outlinewidth\": 0, \"ticks\": \"\"}}, \"marker\": {\"colorbar\": {\"outlinewidth\": 0, \"ticks\": \"\"}}, \"type\": \"scatter3d\"}], \"scattercarpet\": [{\"marker\": {\"colorbar\": {\"outlinewidth\": 0, \"ticks\": \"\"}}, \"type\": \"scattercarpet\"}], \"scattergeo\": [{\"marker\": {\"colorbar\": {\"outlinewidth\": 0, \"ticks\": \"\"}}, \"type\": \"scattergeo\"}], \"scattergl\": [{\"marker\": {\"colorbar\": {\"outlinewidth\": 0, \"ticks\": \"\"}}, \"type\": \"scattergl\"}], \"scattermapbox\": [{\"marker\": {\"colorbar\": {\"outlinewidth\": 0, \"ticks\": \"\"}}, \"type\": \"scattermapbox\"}], \"scatterpolar\": [{\"marker\": {\"colorbar\": {\"outlinewidth\": 0, \"ticks\": \"\"}}, \"type\": \"scatterpolar\"}], \"scatterpolargl\": [{\"marker\": {\"colorbar\": {\"outlinewidth\": 0, \"ticks\": \"\"}}, \"type\": \"scatterpolargl\"}], \"scatterternary\": [{\"marker\": {\"colorbar\": {\"outlinewidth\": 0, \"ticks\": \"\"}}, \"type\": \"scatterternary\"}], \"surface\": [{\"colorbar\": {\"outlinewidth\": 0, \"ticks\": \"\"}, \"colorscale\": [[0.0, \"#0d0887\"], [0.1111111111111111, \"#46039f\"], [0.2222222222222222, \"#7201a8\"], [0.3333333333333333, \"#9c179e\"], [0.4444444444444444, \"#bd3786\"], [0.5555555555555556, \"#d8576b\"], [0.6666666666666666, \"#ed7953\"], [0.7777777777777778, \"#fb9f3a\"], [0.8888888888888888, \"#fdca26\"], [1.0, \"#f0f921\"]], \"type\": \"surface\"}], \"table\": [{\"cells\": {\"fill\": {\"color\": \"#EBF0F8\"}, \"line\": {\"color\": \"white\"}}, \"header\": {\"fill\": {\"color\": \"#C8D4E3\"}, \"line\": {\"color\": \"white\"}}, \"type\": \"table\"}]}, \"layout\": {\"annotationdefaults\": {\"arrowcolor\": \"#2a3f5f\", \"arrowhead\": 0, \"arrowwidth\": 1}, \"coloraxis\": {\"colorbar\": {\"outlinewidth\": 0, \"ticks\": \"\"}}, \"colorscale\": {\"diverging\": [[0, \"#8e0152\"], [0.1, \"#c51b7d\"], [0.2, \"#de77ae\"], [0.3, \"#f1b6da\"], [0.4, \"#fde0ef\"], [0.5, \"#f7f7f7\"], [0.6, \"#e6f5d0\"], [0.7, \"#b8e186\"], [0.8, \"#7fbc41\"], [0.9, \"#4d9221\"], [1, \"#276419\"]], \"sequential\": [[0.0, \"#0d0887\"], [0.1111111111111111, \"#46039f\"], [0.2222222222222222, \"#7201a8\"], [0.3333333333333333, \"#9c179e\"], [0.4444444444444444, \"#bd3786\"], [0.5555555555555556, \"#d8576b\"], [0.6666666666666666, \"#ed7953\"], [0.7777777777777778, \"#fb9f3a\"], [0.8888888888888888, \"#fdca26\"], [1.0, \"#f0f921\"]], \"sequentialminus\": [[0.0, \"#0d0887\"], [0.1111111111111111, \"#46039f\"], [0.2222222222222222, \"#7201a8\"], [0.3333333333333333, \"#9c179e\"], [0.4444444444444444, \"#bd3786\"], [0.5555555555555556, \"#d8576b\"], [0.6666666666666666, \"#ed7953\"], [0.7777777777777778, \"#fb9f3a\"], [0.8888888888888888, \"#fdca26\"], [1.0, \"#f0f921\"]]}, \"colorway\": [\"#636efa\", \"#EF553B\", \"#00cc96\", \"#ab63fa\", \"#FFA15A\", \"#19d3f3\", \"#FF6692\", \"#B6E880\", \"#FF97FF\", \"#FECB52\"], \"font\": {\"color\": \"#2a3f5f\"}, \"geo\": {\"bgcolor\": \"white\", \"lakecolor\": \"white\", \"landcolor\": \"#E5ECF6\", \"showlakes\": true, \"showland\": true, \"subunitcolor\": \"white\"}, \"hoverlabel\": {\"align\": \"left\"}, \"hovermode\": \"closest\", \"mapbox\": {\"style\": \"light\"}, \"paper_bgcolor\": \"white\", \"plot_bgcolor\": \"#E5ECF6\", \"polar\": {\"angularaxis\": {\"gridcolor\": \"white\", \"linecolor\": \"white\", \"ticks\": \"\"}, \"bgcolor\": \"#E5ECF6\", \"radialaxis\": {\"gridcolor\": \"white\", \"linecolor\": \"white\", \"ticks\": \"\"}}, \"scene\": {\"xaxis\": {\"backgroundcolor\": \"#E5ECF6\", \"gridcolor\": \"white\", \"gridwidth\": 2, \"linecolor\": \"white\", \"showbackground\": true, \"ticks\": \"\", \"zerolinecolor\": \"white\"}, \"yaxis\": {\"backgroundcolor\": \"#E5ECF6\", \"gridcolor\": \"white\", \"gridwidth\": 2, \"linecolor\": \"white\", \"showbackground\": true, \"ticks\": \"\", \"zerolinecolor\": \"white\"}, \"zaxis\": {\"backgroundcolor\": \"#E5ECF6\", \"gridcolor\": \"white\", \"gridwidth\": 2, \"linecolor\": \"white\", \"showbackground\": true, \"ticks\": \"\", \"zerolinecolor\": \"white\"}}, \"shapedefaults\": {\"line\": {\"color\": \"#2a3f5f\"}}, \"ternary\": {\"aaxis\": {\"gridcolor\": \"white\", \"linecolor\": \"white\", \"ticks\": \"\"}, \"baxis\": {\"gridcolor\": \"white\", \"linecolor\": \"white\", \"ticks\": \"\"}, \"bgcolor\": \"#E5ECF6\", \"caxis\": {\"gridcolor\": \"white\", \"linecolor\": \"white\", \"ticks\": \"\"}}, \"title\": {\"x\": 0.05}, \"xaxis\": {\"automargin\": true, \"gridcolor\": \"white\", \"linecolor\": \"white\", \"ticks\": \"\", \"title\": {\"standoff\": 15}, \"zerolinecolor\": \"white\", \"zerolinewidth\": 2}, \"yaxis\": {\"automargin\": true, \"gridcolor\": \"white\", \"linecolor\": \"white\", \"ticks\": \"\", \"title\": {\"standoff\": 15}, \"zerolinecolor\": \"white\", \"zerolinewidth\": 2}}}, \"xaxis\": {\"anchor\": \"y\", \"domain\": [0.0, 1.0], \"title\": {\"text\": \"WeekStartDate\"}}, \"yaxis\": {\"anchor\": \"x\", \"domain\": [0.0, 1.0], \"title\": {\"text\": \"NewPos_All\"}}},\n",
       "                        {\"responsive\": true}\n",
       "                    ).then(function(){\n",
       "                            \n",
       "var gd = document.getElementById('efa7195a-cef1-4578-9481-08aac07a478c');\n",
       "var x = new MutationObserver(function (mutations, observer) {{\n",
       "        var display = window.getComputedStyle(gd).display;\n",
       "        if (!display || display === 'none') {{\n",
       "            console.log([gd, 'removed!']);\n",
       "            Plotly.purge(gd);\n",
       "            observer.disconnect();\n",
       "        }}\n",
       "}});\n",
       "\n",
       "// Listen for the removal of the full notebook cells\n",
       "var notebookContainer = gd.closest('#notebook-container');\n",
       "if (notebookContainer) {{\n",
       "    x.observe(notebookContainer, {childList: true});\n",
       "}}\n",
       "\n",
       "// Listen for the clearing of the current output cell\n",
       "var outputEl = gd.closest('.output');\n",
       "if (outputEl) {{\n",
       "    x.observe(outputEl, {childList: true});\n",
       "}}\n",
       "\n",
       "                        })\n",
       "                };\n",
       "                });\n",
       "            </script>\n",
       "        </div>"
      ]
     },
     "metadata": {},
     "output_type": "display_data"
    }
   ],
   "source": [
    "px.scatter(df, x=\"WeekStartDate\", y='NewPos_All', color='County')"
   ]
  },
  {
   "cell_type": "code",
   "execution_count": 63,
   "metadata": {
    "ExecuteTime": {
     "end_time": "2020-07-12T19:32:45.745622Z",
     "start_time": "2020-07-12T19:32:45.004163Z"
    }
   },
   "outputs": [
    {
     "data": {
      "application/vnd.plotly.v1+json": {
       "config": {
        "plotlyServerURL": "https://plot.ly"
       },
       "data": [
        {
         "hoverlabel": {
          "namelength": 0
         },
         "hovertemplate": "County=Adams County<br>WeekStartDate=%{x}<br>Age 0-19=%{y}",
         "legendgroup": "Adams County",
         "marker": {
          "color": "#636efa",
          "symbol": "circle"
         },
         "mode": "markers",
         "name": "Adams County",
         "showlegend": true,
         "type": "scatter",
         "x": [
          "2020-03-08",
          "2020-03-15",
          "2020-03-22",
          "2020-03-29",
          "2020-04-05",
          "2020-04-12",
          "2020-04-19",
          "2020-04-26",
          "2020-05-03",
          "2020-05-10",
          "2020-05-17",
          "2020-05-24",
          "2020-05-31",
          "2020-06-07",
          "2020-06-14",
          "2020-06-21",
          "2020-06-28"
         ],
         "xaxis": "x",
         "y": [
          0,
          0,
          0,
          2,
          1,
          0,
          0,
          0,
          1,
          0,
          0,
          2,
          6,
          1,
          1,
          1,
          2
         ],
         "yaxis": "y"
        },
        {
         "hoverlabel": {
          "namelength": 0
         },
         "hovertemplate": "County=Asotin County<br>WeekStartDate=%{x}<br>Age 0-19=%{y}",
         "legendgroup": "Asotin County",
         "marker": {
          "color": "#EF553B",
          "symbol": "circle"
         },
         "mode": "markers",
         "name": "Asotin County",
         "showlegend": true,
         "type": "scatter",
         "x": [
          "2020-03-15",
          "2020-03-29",
          "2020-04-05",
          "2020-04-12",
          "2020-04-19",
          "2020-05-17",
          "2020-05-31",
          "2020-06-21"
         ],
         "xaxis": "x",
         "y": [
          0,
          0,
          0,
          1,
          0,
          0,
          0,
          0
         ],
         "yaxis": "y"
        },
        {
         "hoverlabel": {
          "namelength": 0
         },
         "hovertemplate": "County=Benton County<br>WeekStartDate=%{x}<br>Age 0-19=%{y}",
         "legendgroup": "Benton County",
         "marker": {
          "color": "#00cc96",
          "symbol": "circle"
         },
         "mode": "markers",
         "name": "Benton County",
         "showlegend": true,
         "type": "scatter",
         "x": [
          "2020-02-16",
          "2020-03-01",
          "2020-03-08",
          "2020-03-15",
          "2020-03-22",
          "2020-03-29",
          "2020-04-05",
          "2020-04-12",
          "2020-04-19",
          "2020-04-26",
          "2020-05-03",
          "2020-05-10",
          "2020-05-17",
          "2020-05-24",
          "2020-05-31",
          "2020-06-07",
          "2020-06-14",
          "2020-06-21",
          "2020-06-28"
         ],
         "xaxis": "x",
         "y": [
          0,
          0,
          0,
          2,
          3,
          2,
          7,
          3,
          6,
          7,
          2,
          4,
          13,
          12,
          18,
          31,
          30,
          32,
          13
         ],
         "yaxis": "y"
        },
        {
         "hoverlabel": {
          "namelength": 0
         },
         "hovertemplate": "County=Chelan County<br>WeekStartDate=%{x}<br>Age 0-19=%{y}",
         "legendgroup": "Chelan County",
         "marker": {
          "color": "#ab63fa",
          "symbol": "circle"
         },
         "mode": "markers",
         "name": "Chelan County",
         "showlegend": true,
         "type": "scatter",
         "x": [
          "2020-02-09",
          "2020-03-08",
          "2020-03-15",
          "2020-03-22",
          "2020-03-29",
          "2020-04-05",
          "2020-04-12",
          "2020-04-19",
          "2020-04-26",
          "2020-05-03",
          "2020-05-10",
          "2020-05-17",
          "2020-05-24",
          "2020-05-31",
          "2020-06-07",
          "2020-06-14",
          "2020-06-21",
          "2020-06-28"
         ],
         "xaxis": "x",
         "y": [
          0,
          0,
          0,
          0,
          1,
          0,
          1,
          5,
          1,
          6,
          6,
          5,
          4,
          2,
          4,
          0,
          5,
          7
         ],
         "yaxis": "y"
        },
        {
         "hoverlabel": {
          "namelength": 0
         },
         "hovertemplate": "County=Clallam County<br>WeekStartDate=%{x}<br>Age 0-19=%{y}",
         "legendgroup": "Clallam County",
         "marker": {
          "color": "#FFA15A",
          "symbol": "circle"
         },
         "mode": "markers",
         "name": "Clallam County",
         "showlegend": true,
         "type": "scatter",
         "x": [
          "2020-03-01",
          "2020-03-08",
          "2020-03-15",
          "2020-03-29",
          "2020-04-05",
          "2020-04-19",
          "2020-04-26",
          "2020-05-10",
          "2020-05-17",
          "2020-05-24",
          "2020-05-31",
          "2020-06-07",
          "2020-06-14",
          "2020-06-21",
          "2020-06-28"
         ],
         "xaxis": "x",
         "y": [
          0,
          0,
          0,
          0,
          0,
          0,
          0,
          2,
          2,
          0,
          0,
          0,
          0,
          2,
          0
         ],
         "yaxis": "y"
        },
        {
         "hoverlabel": {
          "namelength": 0
         },
         "hovertemplate": "County=Clark County<br>WeekStartDate=%{x}<br>Age 0-19=%{y}",
         "legendgroup": "Clark County",
         "marker": {
          "color": "#19d3f3",
          "symbol": "circle"
         },
         "mode": "markers",
         "name": "Clark County",
         "showlegend": true,
         "type": "scatter",
         "x": [
          "2020-02-23",
          "2020-03-01",
          "2020-03-08",
          "2020-03-15",
          "2020-03-22",
          "2020-03-29",
          "2020-04-05",
          "2020-04-12",
          "2020-04-19",
          "2020-04-26",
          "2020-05-03",
          "2020-05-10",
          "2020-05-17",
          "2020-05-24",
          "2020-05-31",
          "2020-06-07",
          "2020-06-14",
          "2020-06-21",
          "2020-06-28"
         ],
         "xaxis": "x",
         "y": [
          0,
          0,
          0,
          2,
          0,
          1,
          2,
          2,
          3,
          3,
          6,
          2,
          4,
          27,
          10,
          3,
          10,
          12,
          7
         ],
         "yaxis": "y"
        },
        {
         "hoverlabel": {
          "namelength": 0
         },
         "hovertemplate": "County=Columbia County<br>WeekStartDate=%{x}<br>Age 0-19=%{y}",
         "legendgroup": "Columbia County",
         "marker": {
          "color": "#FF6692",
          "symbol": "circle"
         },
         "mode": "markers",
         "name": "Columbia County",
         "showlegend": true,
         "type": "scatter",
         "x": [
          "2020-03-01",
          "2020-06-07",
          "2020-06-14"
         ],
         "xaxis": "x",
         "y": [
          0,
          0,
          4
         ],
         "yaxis": "y"
        },
        {
         "hoverlabel": {
          "namelength": 0
         },
         "hovertemplate": "County=Cowlitz County<br>WeekStartDate=%{x}<br>Age 0-19=%{y}",
         "legendgroup": "Cowlitz County",
         "marker": {
          "color": "#B6E880",
          "symbol": "circle"
         },
         "mode": "markers",
         "name": "Cowlitz County",
         "showlegend": true,
         "type": "scatter",
         "x": [
          "2020-02-23",
          "2020-03-01",
          "2020-03-08",
          "2020-03-15",
          "2020-03-22",
          "2020-03-29",
          "2020-04-05",
          "2020-04-12",
          "2020-04-19",
          "2020-04-26",
          "2020-05-03",
          "2020-05-10",
          "2020-05-17",
          "2020-05-24",
          "2020-05-31",
          "2020-06-07",
          "2020-06-14",
          "2020-06-21",
          "2020-06-28"
         ],
         "xaxis": "x",
         "y": [
          0,
          0,
          0,
          0,
          0,
          1,
          0,
          0,
          0,
          5,
          1,
          0,
          0,
          0,
          2,
          4,
          5,
          4,
          2
         ],
         "yaxis": "y"
        },
        {
         "hoverlabel": {
          "namelength": 0
         },
         "hovertemplate": "County=Douglas County<br>WeekStartDate=%{x}<br>Age 0-19=%{y}",
         "legendgroup": "Douglas County",
         "marker": {
          "color": "#FF97FF",
          "symbol": "circle"
         },
         "mode": "markers",
         "name": "Douglas County",
         "showlegend": true,
         "type": "scatter",
         "x": [
          "2020-03-01",
          "2020-03-08",
          "2020-03-15",
          "2020-03-22",
          "2020-03-29",
          "2020-04-05",
          "2020-04-12",
          "2020-04-19",
          "2020-04-26",
          "2020-05-03",
          "2020-05-10",
          "2020-05-17",
          "2020-05-24",
          "2020-05-31",
          "2020-06-07",
          "2020-06-14",
          "2020-06-21",
          "2020-06-28"
         ],
         "xaxis": "x",
         "y": [
          0,
          0,
          0,
          3,
          1,
          0,
          2,
          0,
          1,
          3,
          2,
          4,
          1,
          0,
          5,
          4,
          6,
          8
         ],
         "yaxis": "y"
        },
        {
         "hoverlabel": {
          "namelength": 0
         },
         "hovertemplate": "County=Franklin County<br>WeekStartDate=%{x}<br>Age 0-19=%{y}",
         "legendgroup": "Franklin County",
         "marker": {
          "color": "#FECB52",
          "symbol": "circle"
         },
         "mode": "markers",
         "name": "Franklin County",
         "showlegend": true,
         "type": "scatter",
         "x": [
          "2020-02-09",
          "2020-02-23",
          "2020-03-01",
          "2020-03-08",
          "2020-03-15",
          "2020-03-22",
          "2020-03-29",
          "2020-04-05",
          "2020-04-12",
          "2020-04-19",
          "2020-04-26",
          "2020-05-03",
          "2020-05-10",
          "2020-05-17",
          "2020-05-24",
          "2020-05-31",
          "2020-06-07",
          "2020-06-14",
          "2020-06-21",
          "2020-06-28"
         ],
         "xaxis": "x",
         "y": [
          0,
          0,
          0,
          0,
          0,
          1,
          3,
          1,
          3,
          3,
          3,
          0,
          3,
          14,
          22,
          28,
          32,
          34,
          41,
          12
         ],
         "yaxis": "y"
        },
        {
         "hoverlabel": {
          "namelength": 0
         },
         "hovertemplate": "County=Grant County<br>WeekStartDate=%{x}<br>Age 0-19=%{y}",
         "legendgroup": "Grant County",
         "marker": {
          "color": "#636efa",
          "symbol": "circle"
         },
         "mode": "markers",
         "name": "Grant County",
         "showlegend": true,
         "type": "scatter",
         "x": [
          "2020-02-16",
          "2020-02-23",
          "2020-03-01",
          "2020-03-08",
          "2020-03-15",
          "2020-03-22",
          "2020-03-29",
          "2020-04-05",
          "2020-04-12",
          "2020-04-19",
          "2020-04-26",
          "2020-05-03",
          "2020-05-10",
          "2020-05-17",
          "2020-05-24",
          "2020-05-31",
          "2020-06-07",
          "2020-06-14",
          "2020-06-21",
          "2020-06-28"
         ],
         "xaxis": "x",
         "y": [
          0,
          0,
          0,
          4,
          1,
          2,
          1,
          3,
          3,
          2,
          1,
          0,
          2,
          3,
          9,
          2,
          20,
          14,
          13,
          2
         ],
         "yaxis": "y"
        },
        {
         "hoverlabel": {
          "namelength": 0
         },
         "hovertemplate": "County=Grays Harbor County<br>WeekStartDate=%{x}<br>Age 0-19=%{y}",
         "legendgroup": "Grays Harbor County",
         "marker": {
          "color": "#EF553B",
          "symbol": "circle"
         },
         "mode": "markers",
         "name": "Grays Harbor County",
         "showlegend": true,
         "type": "scatter",
         "x": [
          "2020-02-16",
          "2020-02-23",
          "2020-03-01",
          "2020-03-15",
          "2020-03-22",
          "2020-03-29",
          "2020-04-05",
          "2020-04-26",
          "2020-05-03",
          "2020-05-17",
          "2020-05-24",
          "2020-05-31",
          "2020-06-07",
          "2020-06-14",
          "2020-06-21",
          "2020-06-28"
         ],
         "xaxis": "x",
         "y": [
          0,
          0,
          0,
          0,
          0,
          0,
          0,
          0,
          0,
          1,
          0,
          0,
          0,
          1,
          0,
          0
         ],
         "yaxis": "y"
        },
        {
         "hoverlabel": {
          "namelength": 0
         },
         "hovertemplate": "County=Island County<br>WeekStartDate=%{x}<br>Age 0-19=%{y}",
         "legendgroup": "Island County",
         "marker": {
          "color": "#00cc96",
          "symbol": "circle"
         },
         "mode": "markers",
         "name": "Island County",
         "showlegend": true,
         "type": "scatter",
         "x": [
          "2020-02-23",
          "2020-03-01",
          "2020-03-08",
          "2020-03-15",
          "2020-03-22",
          "2020-03-29",
          "2020-04-05",
          "2020-04-12",
          "2020-04-19",
          "2020-04-26",
          "2020-05-03",
          "2020-05-10",
          "2020-05-24",
          "2020-06-07",
          "2020-06-14",
          "2020-06-21",
          "2020-06-28"
         ],
         "xaxis": "x",
         "y": [
          0,
          0,
          0,
          0,
          3,
          0,
          0,
          0,
          0,
          0,
          0,
          0,
          0,
          1,
          0,
          2,
          0
         ],
         "yaxis": "y"
        },
        {
         "hoverlabel": {
          "namelength": 0
         },
         "hovertemplate": "County=Jefferson County<br>WeekStartDate=%{x}<br>Age 0-19=%{y}",
         "legendgroup": "Jefferson County",
         "marker": {
          "color": "#ab63fa",
          "symbol": "circle"
         },
         "mode": "markers",
         "name": "Jefferson County",
         "showlegend": true,
         "type": "scatter",
         "x": [
          "2020-02-23",
          "2020-03-01",
          "2020-03-08",
          "2020-03-15",
          "2020-03-22",
          "2020-03-29",
          "2020-05-31",
          "2020-06-07",
          "2020-06-14",
          "2020-06-21",
          "2020-06-28"
         ],
         "xaxis": "x",
         "y": [
          0,
          0,
          0,
          0,
          0,
          0,
          1,
          0,
          0,
          1,
          0
         ],
         "yaxis": "y"
        },
        {
         "hoverlabel": {
          "namelength": 0
         },
         "hovertemplate": "County=King County<br>WeekStartDate=%{x}<br>Age 0-19=%{y}",
         "legendgroup": "King County",
         "marker": {
          "color": "#FFA15A",
          "symbol": "circle"
         },
         "mode": "markers",
         "name": "King County",
         "showlegend": true,
         "type": "scatter",
         "x": [
          "2020-02-02",
          "2020-02-09",
          "2020-02-16",
          "2020-02-23",
          "2020-03-01",
          "2020-03-08",
          "2020-03-15",
          "2020-03-22",
          "2020-03-29",
          "2020-04-05",
          "2020-04-12",
          "2020-04-19",
          "2020-04-26",
          "2020-05-03",
          "2020-05-10",
          "2020-05-17",
          "2020-05-24",
          "2020-05-31",
          "2020-06-07",
          "2020-06-14",
          "2020-06-21",
          "2020-06-28"
         ],
         "xaxis": "x",
         "y": [
          0,
          0,
          1,
          2,
          1,
          19,
          12,
          19,
          36,
          33,
          41,
          34,
          43,
          41,
          48,
          50,
          41,
          39,
          39,
          68,
          121,
          123
         ],
         "yaxis": "y"
        },
        {
         "hoverlabel": {
          "namelength": 0
         },
         "hovertemplate": "County=Kitsap County<br>WeekStartDate=%{x}<br>Age 0-19=%{y}",
         "legendgroup": "Kitsap County",
         "marker": {
          "color": "#19d3f3",
          "symbol": "circle"
         },
         "mode": "markers",
         "name": "Kitsap County",
         "showlegend": true,
         "type": "scatter",
         "x": [
          "2020-02-16",
          "2020-02-23",
          "2020-03-01",
          "2020-03-08",
          "2020-03-15",
          "2020-03-22",
          "2020-03-29",
          "2020-04-05",
          "2020-04-12",
          "2020-04-19",
          "2020-04-26",
          "2020-05-03",
          "2020-05-10",
          "2020-05-24",
          "2020-05-31",
          "2020-06-07",
          "2020-06-14",
          "2020-06-21",
          "2020-06-28"
         ],
         "xaxis": "x",
         "y": [
          0,
          0,
          0,
          2,
          1,
          1,
          1,
          0,
          1,
          0,
          1,
          0,
          0,
          0,
          3,
          1,
          1,
          3,
          2
         ],
         "yaxis": "y"
        },
        {
         "hoverlabel": {
          "namelength": 0
         },
         "hovertemplate": "County=Kittitas County<br>WeekStartDate=%{x}<br>Age 0-19=%{y}",
         "legendgroup": "Kittitas County",
         "marker": {
          "color": "#FF6692",
          "symbol": "circle"
         },
         "mode": "markers",
         "name": "Kittitas County",
         "showlegend": true,
         "type": "scatter",
         "x": [
          "2020-01-26",
          "2020-02-16",
          "2020-03-08",
          "2020-03-15",
          "2020-03-22",
          "2020-03-29",
          "2020-04-05",
          "2020-04-19",
          "2020-04-26",
          "2020-05-03",
          "2020-05-10",
          "2020-05-17",
          "2020-05-24",
          "2020-05-31",
          "2020-06-07",
          "2020-06-14",
          "2020-06-21",
          "2020-06-28"
         ],
         "xaxis": "x",
         "y": [
          0,
          0,
          0,
          0,
          0,
          0,
          0,
          0,
          0,
          1,
          5,
          7,
          2,
          0,
          1,
          2,
          1,
          0
         ],
         "yaxis": "y"
        },
        {
         "hoverlabel": {
          "namelength": 0
         },
         "hovertemplate": "County=Klickitat County<br>WeekStartDate=%{x}<br>Age 0-19=%{y}",
         "legendgroup": "Klickitat County",
         "marker": {
          "color": "#B6E880",
          "symbol": "circle"
         },
         "mode": "markers",
         "name": "Klickitat County",
         "showlegend": true,
         "type": "scatter",
         "x": [
          "2020-03-01",
          "2020-03-15",
          "2020-03-22",
          "2020-03-29",
          "2020-04-05",
          "2020-04-19",
          "2020-04-26",
          "2020-05-03",
          "2020-05-10",
          "2020-05-17",
          "2020-05-24",
          "2020-05-31",
          "2020-06-07",
          "2020-06-14",
          "2020-06-21",
          "2020-06-28"
         ],
         "xaxis": "x",
         "y": [
          0,
          0,
          0,
          1,
          0,
          0,
          0,
          1,
          0,
          0,
          1,
          1,
          3,
          1,
          3,
          0
         ],
         "yaxis": "y"
        },
        {
         "hoverlabel": {
          "namelength": 0
         },
         "hovertemplate": "County=Lewis County<br>WeekStartDate=%{x}<br>Age 0-19=%{y}",
         "legendgroup": "Lewis County",
         "marker": {
          "color": "#FF97FF",
          "symbol": "circle"
         },
         "mode": "markers",
         "name": "Lewis County",
         "showlegend": true,
         "type": "scatter",
         "x": [
          "2020-03-08",
          "2020-03-15",
          "2020-03-22",
          "2020-03-29",
          "2020-04-05",
          "2020-04-12",
          "2020-04-19",
          "2020-04-26",
          "2020-05-03",
          "2020-05-10",
          "2020-05-24",
          "2020-06-07",
          "2020-06-14",
          "2020-06-21",
          "2020-06-28"
         ],
         "xaxis": "x",
         "y": [
          0,
          0,
          0,
          0,
          0,
          0,
          0,
          0,
          0,
          0,
          0,
          0,
          0,
          1,
          0
         ],
         "yaxis": "y"
        },
        {
         "hoverlabel": {
          "namelength": 0
         },
         "hovertemplate": "County=Mason County<br>WeekStartDate=%{x}<br>Age 0-19=%{y}",
         "legendgroup": "Mason County",
         "marker": {
          "color": "#FECB52",
          "symbol": "circle"
         },
         "mode": "markers",
         "name": "Mason County",
         "showlegend": true,
         "type": "scatter",
         "x": [
          "2020-03-01",
          "2020-03-08",
          "2020-03-15",
          "2020-03-22",
          "2020-03-29",
          "2020-04-12",
          "2020-04-19",
          "2020-04-26",
          "2020-05-03",
          "2020-05-10",
          "2020-05-17",
          "2020-05-24",
          "2020-05-31",
          "2020-06-07",
          "2020-06-14",
          "2020-06-21",
          "2020-06-28"
         ],
         "xaxis": "x",
         "y": [
          0,
          0,
          0,
          0,
          0,
          0,
          0,
          0,
          0,
          0,
          0,
          0,
          1,
          0,
          0,
          0,
          0
         ],
         "yaxis": "y"
        },
        {
         "hoverlabel": {
          "namelength": 0
         },
         "hovertemplate": "County=Okanogan County<br>WeekStartDate=%{x}<br>Age 0-19=%{y}",
         "legendgroup": "Okanogan County",
         "marker": {
          "color": "#636efa",
          "symbol": "circle"
         },
         "mode": "markers",
         "name": "Okanogan County",
         "showlegend": true,
         "type": "scatter",
         "x": [
          "2020-03-08",
          "2020-03-15",
          "2020-03-22",
          "2020-03-29",
          "2020-04-05",
          "2020-04-12",
          "2020-04-19",
          "2020-04-26",
          "2020-05-03",
          "2020-05-10",
          "2020-05-17",
          "2020-05-24",
          "2020-05-31",
          "2020-06-07",
          "2020-06-14",
          "2020-06-21",
          "2020-06-28"
         ],
         "xaxis": "x",
         "y": [
          0,
          0,
          1,
          2,
          1,
          0,
          0,
          1,
          0,
          4,
          1,
          1,
          3,
          1,
          0,
          1,
          4
         ],
         "yaxis": "y"
        },
        {
         "hoverlabel": {
          "namelength": 0
         },
         "hovertemplate": "County=Pacific County<br>WeekStartDate=%{x}<br>Age 0-19=%{y}",
         "legendgroup": "Pacific County",
         "marker": {
          "color": "#EF553B",
          "symbol": "circle"
         },
         "mode": "markers",
         "name": "Pacific County",
         "showlegend": true,
         "type": "scatter",
         "x": [
          "2020-03-29",
          "2020-04-05",
          "2020-04-19",
          "2020-04-26",
          "2020-05-03",
          "2020-05-31",
          "2020-06-07",
          "2020-06-21"
         ],
         "xaxis": "x",
         "y": [
          0,
          0,
          0,
          0,
          0,
          0,
          0,
          2
         ],
         "yaxis": "y"
        },
        {
         "hoverlabel": {
          "namelength": 0
         },
         "hovertemplate": "County=Pend Oreille County<br>WeekStartDate=%{x}<br>Age 0-19=%{y}",
         "legendgroup": "Pend Oreille County",
         "marker": {
          "color": "#00cc96",
          "symbol": "circle"
         },
         "mode": "markers",
         "name": "Pend Oreille County",
         "showlegend": true,
         "type": "scatter",
         "x": [
          "2020-03-15",
          "2020-04-05",
          "2020-05-17",
          "2020-06-21",
          "2020-06-28"
         ],
         "xaxis": "x",
         "y": [
          0,
          0,
          0,
          0,
          1
         ],
         "yaxis": "y"
        },
        {
         "hoverlabel": {
          "namelength": 0
         },
         "hovertemplate": "County=Pierce County<br>WeekStartDate=%{x}<br>Age 0-19=%{y}",
         "legendgroup": "Pierce County",
         "marker": {
          "color": "#ab63fa",
          "symbol": "circle"
         },
         "mode": "markers",
         "name": "Pierce County",
         "showlegend": true,
         "type": "scatter",
         "x": [
          "2020-02-16",
          "2020-02-23",
          "2020-03-01",
          "2020-03-08",
          "2020-03-15",
          "2020-03-22",
          "2020-03-29",
          "2020-04-05",
          "2020-04-12",
          "2020-04-19",
          "2020-04-26",
          "2020-05-03",
          "2020-05-10",
          "2020-05-17",
          "2020-05-24",
          "2020-05-31",
          "2020-06-07",
          "2020-06-14",
          "2020-06-21",
          "2020-06-28"
         ],
         "xaxis": "x",
         "y": [
          0,
          2,
          0,
          4,
          7,
          6,
          10,
          13,
          3,
          12,
          15,
          11,
          12,
          7,
          9,
          13,
          9,
          20,
          13,
          23
         ],
         "yaxis": "y"
        },
        {
         "hoverlabel": {
          "namelength": 0
         },
         "hovertemplate": "County=San Juan County<br>WeekStartDate=%{x}<br>Age 0-19=%{y}",
         "legendgroup": "San Juan County",
         "marker": {
          "color": "#FFA15A",
          "symbol": "circle"
         },
         "mode": "markers",
         "name": "San Juan County",
         "showlegend": true,
         "type": "scatter",
         "x": [
          "2020-03-08",
          "2020-03-15",
          "2020-03-22",
          "2020-03-29",
          "2020-04-05",
          "2020-04-12",
          "2020-06-07",
          "2020-06-14",
          "2020-06-21"
         ],
         "xaxis": "x",
         "y": [
          0,
          0,
          0,
          0,
          1,
          0,
          0,
          1,
          0
         ],
         "yaxis": "y"
        },
        {
         "hoverlabel": {
          "namelength": 0
         },
         "hovertemplate": "County=Skagit County<br>WeekStartDate=%{x}<br>Age 0-19=%{y}",
         "legendgroup": "Skagit County",
         "marker": {
          "color": "#19d3f3",
          "symbol": "circle"
         },
         "mode": "markers",
         "name": "Skagit County",
         "showlegend": true,
         "type": "scatter",
         "x": [
          "2020-02-16",
          "2020-02-23",
          "2020-03-01",
          "2020-03-08",
          "2020-03-15",
          "2020-03-22",
          "2020-03-29",
          "2020-04-05",
          "2020-04-12",
          "2020-04-19",
          "2020-04-26",
          "2020-05-03",
          "2020-05-10",
          "2020-05-17",
          "2020-05-24",
          "2020-05-31",
          "2020-06-07",
          "2020-06-14",
          "2020-06-21",
          "2020-06-28"
         ],
         "xaxis": "x",
         "y": [
          0,
          0,
          0,
          1,
          3,
          3,
          0,
          3,
          4,
          10,
          7,
          1,
          4,
          0,
          2,
          3,
          1,
          5,
          4,
          4
         ],
         "yaxis": "y"
        },
        {
         "hoverlabel": {
          "namelength": 0
         },
         "hovertemplate": "County=Skamania County<br>WeekStartDate=%{x}<br>Age 0-19=%{y}",
         "legendgroup": "Skamania County",
         "marker": {
          "color": "#FF6692",
          "symbol": "circle"
         },
         "mode": "markers",
         "name": "Skamania County",
         "showlegend": true,
         "type": "scatter",
         "x": [
          "2020-03-22",
          "2020-04-05",
          "2020-06-14",
          "2020-06-21",
          "2020-06-28"
         ],
         "xaxis": "x",
         "y": [
          0,
          0,
          0,
          0,
          1
         ],
         "yaxis": "y"
        },
        {
         "hoverlabel": {
          "namelength": 0
         },
         "hovertemplate": "County=Snohomish County<br>WeekStartDate=%{x}<br>Age 0-19=%{y}",
         "legendgroup": "Snohomish County",
         "marker": {
          "color": "#B6E880",
          "symbol": "circle"
         },
         "mode": "markers",
         "name": "Snohomish County",
         "showlegend": true,
         "type": "scatter",
         "x": [
          "2020-01-16",
          "2020-01-26",
          "2020-02-02",
          "2020-02-09",
          "2020-02-16",
          "2020-02-23",
          "2020-03-01",
          "2020-03-08",
          "2020-03-15",
          "2020-03-22",
          "2020-03-29",
          "2020-04-05",
          "2020-04-12",
          "2020-04-19",
          "2020-04-26",
          "2020-05-03",
          "2020-05-10",
          "2020-05-17",
          "2020-05-24",
          "2020-05-31",
          "2020-06-07",
          "2020-06-14",
          "2020-06-21",
          "2020-06-28"
         ],
         "xaxis": "x",
         "y": [
          0,
          0,
          0,
          0,
          1,
          1,
          3,
          5,
          6,
          16,
          15,
          9,
          16,
          10,
          14,
          6,
          9,
          8,
          7,
          13,
          17,
          39,
          31,
          30
         ],
         "yaxis": "y"
        },
        {
         "hoverlabel": {
          "namelength": 0
         },
         "hovertemplate": "County=Spokane County<br>WeekStartDate=%{x}<br>Age 0-19=%{y}",
         "legendgroup": "Spokane County",
         "marker": {
          "color": "#FF97FF",
          "symbol": "circle"
         },
         "mode": "markers",
         "name": "Spokane County",
         "showlegend": true,
         "type": "scatter",
         "x": [
          "2020-02-16",
          "2020-02-23",
          "2020-03-01",
          "2020-03-08",
          "2020-03-15",
          "2020-03-22",
          "2020-03-29",
          "2020-04-05",
          "2020-04-12",
          "2020-04-19",
          "2020-04-26",
          "2020-05-03",
          "2020-05-10",
          "2020-05-17",
          "2020-05-24",
          "2020-05-31",
          "2020-06-07",
          "2020-06-14",
          "2020-06-21",
          "2020-06-28"
         ],
         "xaxis": "x",
         "y": [
          0,
          0,
          0,
          0,
          1,
          2,
          3,
          0,
          0,
          4,
          0,
          7,
          7,
          18,
          15,
          32,
          16,
          34,
          48,
          22
         ],
         "yaxis": "y"
        },
        {
         "hoverlabel": {
          "namelength": 0
         },
         "hovertemplate": "County=Stevens County<br>WeekStartDate=%{x}<br>Age 0-19=%{y}",
         "legendgroup": "Stevens County",
         "marker": {
          "color": "#FECB52",
          "symbol": "circle"
         },
         "mode": "markers",
         "name": "Stevens County",
         "showlegend": true,
         "type": "scatter",
         "x": [
          "2020-03-01",
          "2020-03-08",
          "2020-03-15",
          "2020-03-22",
          "2020-03-29",
          "2020-04-12",
          "2020-05-10",
          "2020-05-17",
          "2020-05-24",
          "2020-06-07",
          "2020-06-21",
          "2020-06-28"
         ],
         "xaxis": "x",
         "y": [
          0,
          0,
          0,
          0,
          0,
          1,
          0,
          0,
          0,
          1,
          0,
          0
         ],
         "yaxis": "y"
        },
        {
         "hoverlabel": {
          "namelength": 0
         },
         "hovertemplate": "County=Thurston County<br>WeekStartDate=%{x}<br>Age 0-19=%{y}",
         "legendgroup": "Thurston County",
         "marker": {
          "color": "#636efa",
          "symbol": "circle"
         },
         "mode": "markers",
         "name": "Thurston County",
         "showlegend": true,
         "type": "scatter",
         "x": [
          "2020-02-23",
          "2020-03-01",
          "2020-03-08",
          "2020-03-15",
          "2020-03-22",
          "2020-03-29",
          "2020-04-05",
          "2020-04-12",
          "2020-04-19",
          "2020-04-26",
          "2020-05-03",
          "2020-05-10",
          "2020-05-17",
          "2020-05-24",
          "2020-05-31",
          "2020-06-07",
          "2020-06-14",
          "2020-06-21",
          "2020-06-28"
         ],
         "xaxis": "x",
         "y": [
          0,
          0,
          0,
          0,
          1,
          1,
          0,
          1,
          1,
          3,
          0,
          0,
          0,
          1,
          0,
          1,
          4,
          5,
          2
         ],
         "yaxis": "y"
        },
        {
         "hoverlabel": {
          "namelength": 0
         },
         "hovertemplate": "County=Wahkiakum County<br>WeekStartDate=%{x}<br>Age 0-19=%{y}",
         "legendgroup": "Wahkiakum County",
         "marker": {
          "color": "#EF553B",
          "symbol": "circle"
         },
         "mode": "markers",
         "name": "Wahkiakum County",
         "showlegend": true,
         "type": "scatter",
         "x": [
          "2020-03-15",
          "2020-03-22",
          "2020-05-03",
          "2020-06-14"
         ],
         "xaxis": "x",
         "y": [
          0,
          0,
          0,
          0
         ],
         "yaxis": "y"
        },
        {
         "hoverlabel": {
          "namelength": 0
         },
         "hovertemplate": "County=Walla Walla County<br>WeekStartDate=%{x}<br>Age 0-19=%{y}",
         "legendgroup": "Walla Walla County",
         "marker": {
          "color": "#00cc96",
          "symbol": "circle"
         },
         "mode": "markers",
         "name": "Walla Walla County",
         "showlegend": true,
         "type": "scatter",
         "x": [
          "2020-03-08",
          "2020-03-15",
          "2020-03-22",
          "2020-03-29",
          "2020-04-05",
          "2020-04-12",
          "2020-04-19",
          "2020-04-26",
          "2020-05-03",
          "2020-05-10",
          "2020-05-17",
          "2020-05-24",
          "2020-05-31",
          "2020-06-07",
          "2020-06-14",
          "2020-06-21",
          "2020-06-28"
         ],
         "xaxis": "x",
         "y": [
          0,
          0,
          0,
          1,
          0,
          1,
          3,
          3,
          0,
          0,
          0,
          2,
          1,
          0,
          3,
          1,
          0
         ],
         "yaxis": "y"
        },
        {
         "hoverlabel": {
          "namelength": 0
         },
         "hovertemplate": "County=Whatcom County<br>WeekStartDate=%{x}<br>Age 0-19=%{y}",
         "legendgroup": "Whatcom County",
         "marker": {
          "color": "#ab63fa",
          "symbol": "circle"
         },
         "mode": "markers",
         "name": "Whatcom County",
         "showlegend": true,
         "type": "scatter",
         "x": [
          "2020-02-16",
          "2020-02-23",
          "2020-03-01",
          "2020-03-08",
          "2020-03-15",
          "2020-03-22",
          "2020-03-29",
          "2020-04-05",
          "2020-04-12",
          "2020-04-19",
          "2020-04-26",
          "2020-05-03",
          "2020-05-10",
          "2020-05-17",
          "2020-05-24",
          "2020-05-31",
          "2020-06-07",
          "2020-06-14",
          "2020-06-21",
          "2020-06-28"
         ],
         "xaxis": "x",
         "y": [
          0,
          0,
          0,
          1,
          1,
          1,
          4,
          1,
          0,
          2,
          5,
          3,
          3,
          6,
          9,
          12,
          5,
          17,
          26,
          5
         ],
         "yaxis": "y"
        },
        {
         "hoverlabel": {
          "namelength": 0
         },
         "hovertemplate": "County=Whitman County<br>WeekStartDate=%{x}<br>Age 0-19=%{y}",
         "legendgroup": "Whitman County",
         "marker": {
          "color": "#FFA15A",
          "symbol": "circle"
         },
         "mode": "markers",
         "name": "Whitman County",
         "showlegend": true,
         "type": "scatter",
         "x": [
          "2020-03-08",
          "2020-03-15",
          "2020-03-22",
          "2020-03-29",
          "2020-04-12",
          "2020-04-19",
          "2020-05-10",
          "2020-05-17",
          "2020-05-31",
          "2020-06-07",
          "2020-06-14",
          "2020-06-21",
          "2020-06-28"
         ],
         "xaxis": "x",
         "y": [
          0,
          0,
          1,
          0,
          0,
          0,
          0,
          0,
          2,
          1,
          0,
          0,
          0
         ],
         "yaxis": "y"
        },
        {
         "hoverlabel": {
          "namelength": 0
         },
         "hovertemplate": "County=Yakima County<br>WeekStartDate=%{x}<br>Age 0-19=%{y}",
         "legendgroup": "Yakima County",
         "marker": {
          "color": "#19d3f3",
          "symbol": "circle"
         },
         "mode": "markers",
         "name": "Yakima County",
         "showlegend": true,
         "type": "scatter",
         "x": [
          "2020-01-16",
          "2020-02-09",
          "2020-02-16",
          "2020-03-01",
          "2020-03-08",
          "2020-03-15",
          "2020-03-22",
          "2020-03-29",
          "2020-04-05",
          "2020-04-12",
          "2020-04-19",
          "2020-04-26",
          "2020-05-03",
          "2020-05-10",
          "2020-05-17",
          "2020-05-24",
          "2020-05-31",
          "2020-06-07",
          "2020-06-14",
          "2020-06-21",
          "2020-06-28"
         ],
         "xaxis": "x",
         "y": [
          0,
          0,
          0,
          0,
          1,
          3,
          2,
          16,
          14,
          29,
          22,
          38,
          58,
          71,
          85,
          95,
          132,
          112,
          130,
          87,
          33
         ],
         "yaxis": "y"
        },
        {
         "hoverlabel": {
          "namelength": 0
         },
         "hovertemplate": "County=Unassigned<br>WeekStartDate=%{x}<br>Age 0-19=%{y}",
         "legendgroup": "Unassigned",
         "marker": {
          "color": "#FF6692",
          "symbol": "circle"
         },
         "mode": "markers",
         "name": "Unassigned",
         "showlegend": true,
         "type": "scatter",
         "x": [
          "2020-04-12",
          "2020-04-19",
          "2020-05-10",
          "2020-05-17",
          "2020-05-24",
          "2020-05-31",
          "2020-06-07",
          "2020-06-14",
          "2020-06-21",
          "2020-06-28"
         ],
         "xaxis": "x",
         "y": [
          0,
          0,
          0,
          0,
          0,
          1,
          1,
          0,
          2,
          7
         ],
         "yaxis": "y"
        }
       ],
       "layout": {
        "legend": {
         "title": {
          "text": "County"
         },
         "tracegroupgap": 0
        },
        "margin": {
         "t": 60
        },
        "template": {
         "data": {
          "bar": [
           {
            "error_x": {
             "color": "#2a3f5f"
            },
            "error_y": {
             "color": "#2a3f5f"
            },
            "marker": {
             "line": {
              "color": "#E5ECF6",
              "width": 0.5
             }
            },
            "type": "bar"
           }
          ],
          "barpolar": [
           {
            "marker": {
             "line": {
              "color": "#E5ECF6",
              "width": 0.5
             }
            },
            "type": "barpolar"
           }
          ],
          "carpet": [
           {
            "aaxis": {
             "endlinecolor": "#2a3f5f",
             "gridcolor": "white",
             "linecolor": "white",
             "minorgridcolor": "white",
             "startlinecolor": "#2a3f5f"
            },
            "baxis": {
             "endlinecolor": "#2a3f5f",
             "gridcolor": "white",
             "linecolor": "white",
             "minorgridcolor": "white",
             "startlinecolor": "#2a3f5f"
            },
            "type": "carpet"
           }
          ],
          "choropleth": [
           {
            "colorbar": {
             "outlinewidth": 0,
             "ticks": ""
            },
            "type": "choropleth"
           }
          ],
          "contour": [
           {
            "colorbar": {
             "outlinewidth": 0,
             "ticks": ""
            },
            "colorscale": [
             [
              0,
              "#0d0887"
             ],
             [
              0.1111111111111111,
              "#46039f"
             ],
             [
              0.2222222222222222,
              "#7201a8"
             ],
             [
              0.3333333333333333,
              "#9c179e"
             ],
             [
              0.4444444444444444,
              "#bd3786"
             ],
             [
              0.5555555555555556,
              "#d8576b"
             ],
             [
              0.6666666666666666,
              "#ed7953"
             ],
             [
              0.7777777777777778,
              "#fb9f3a"
             ],
             [
              0.8888888888888888,
              "#fdca26"
             ],
             [
              1,
              "#f0f921"
             ]
            ],
            "type": "contour"
           }
          ],
          "contourcarpet": [
           {
            "colorbar": {
             "outlinewidth": 0,
             "ticks": ""
            },
            "type": "contourcarpet"
           }
          ],
          "heatmap": [
           {
            "colorbar": {
             "outlinewidth": 0,
             "ticks": ""
            },
            "colorscale": [
             [
              0,
              "#0d0887"
             ],
             [
              0.1111111111111111,
              "#46039f"
             ],
             [
              0.2222222222222222,
              "#7201a8"
             ],
             [
              0.3333333333333333,
              "#9c179e"
             ],
             [
              0.4444444444444444,
              "#bd3786"
             ],
             [
              0.5555555555555556,
              "#d8576b"
             ],
             [
              0.6666666666666666,
              "#ed7953"
             ],
             [
              0.7777777777777778,
              "#fb9f3a"
             ],
             [
              0.8888888888888888,
              "#fdca26"
             ],
             [
              1,
              "#f0f921"
             ]
            ],
            "type": "heatmap"
           }
          ],
          "heatmapgl": [
           {
            "colorbar": {
             "outlinewidth": 0,
             "ticks": ""
            },
            "colorscale": [
             [
              0,
              "#0d0887"
             ],
             [
              0.1111111111111111,
              "#46039f"
             ],
             [
              0.2222222222222222,
              "#7201a8"
             ],
             [
              0.3333333333333333,
              "#9c179e"
             ],
             [
              0.4444444444444444,
              "#bd3786"
             ],
             [
              0.5555555555555556,
              "#d8576b"
             ],
             [
              0.6666666666666666,
              "#ed7953"
             ],
             [
              0.7777777777777778,
              "#fb9f3a"
             ],
             [
              0.8888888888888888,
              "#fdca26"
             ],
             [
              1,
              "#f0f921"
             ]
            ],
            "type": "heatmapgl"
           }
          ],
          "histogram": [
           {
            "marker": {
             "colorbar": {
              "outlinewidth": 0,
              "ticks": ""
             }
            },
            "type": "histogram"
           }
          ],
          "histogram2d": [
           {
            "colorbar": {
             "outlinewidth": 0,
             "ticks": ""
            },
            "colorscale": [
             [
              0,
              "#0d0887"
             ],
             [
              0.1111111111111111,
              "#46039f"
             ],
             [
              0.2222222222222222,
              "#7201a8"
             ],
             [
              0.3333333333333333,
              "#9c179e"
             ],
             [
              0.4444444444444444,
              "#bd3786"
             ],
             [
              0.5555555555555556,
              "#d8576b"
             ],
             [
              0.6666666666666666,
              "#ed7953"
             ],
             [
              0.7777777777777778,
              "#fb9f3a"
             ],
             [
              0.8888888888888888,
              "#fdca26"
             ],
             [
              1,
              "#f0f921"
             ]
            ],
            "type": "histogram2d"
           }
          ],
          "histogram2dcontour": [
           {
            "colorbar": {
             "outlinewidth": 0,
             "ticks": ""
            },
            "colorscale": [
             [
              0,
              "#0d0887"
             ],
             [
              0.1111111111111111,
              "#46039f"
             ],
             [
              0.2222222222222222,
              "#7201a8"
             ],
             [
              0.3333333333333333,
              "#9c179e"
             ],
             [
              0.4444444444444444,
              "#bd3786"
             ],
             [
              0.5555555555555556,
              "#d8576b"
             ],
             [
              0.6666666666666666,
              "#ed7953"
             ],
             [
              0.7777777777777778,
              "#fb9f3a"
             ],
             [
              0.8888888888888888,
              "#fdca26"
             ],
             [
              1,
              "#f0f921"
             ]
            ],
            "type": "histogram2dcontour"
           }
          ],
          "mesh3d": [
           {
            "colorbar": {
             "outlinewidth": 0,
             "ticks": ""
            },
            "type": "mesh3d"
           }
          ],
          "parcoords": [
           {
            "line": {
             "colorbar": {
              "outlinewidth": 0,
              "ticks": ""
             }
            },
            "type": "parcoords"
           }
          ],
          "pie": [
           {
            "automargin": true,
            "type": "pie"
           }
          ],
          "scatter": [
           {
            "marker": {
             "colorbar": {
              "outlinewidth": 0,
              "ticks": ""
             }
            },
            "type": "scatter"
           }
          ],
          "scatter3d": [
           {
            "line": {
             "colorbar": {
              "outlinewidth": 0,
              "ticks": ""
             }
            },
            "marker": {
             "colorbar": {
              "outlinewidth": 0,
              "ticks": ""
             }
            },
            "type": "scatter3d"
           }
          ],
          "scattercarpet": [
           {
            "marker": {
             "colorbar": {
              "outlinewidth": 0,
              "ticks": ""
             }
            },
            "type": "scattercarpet"
           }
          ],
          "scattergeo": [
           {
            "marker": {
             "colorbar": {
              "outlinewidth": 0,
              "ticks": ""
             }
            },
            "type": "scattergeo"
           }
          ],
          "scattergl": [
           {
            "marker": {
             "colorbar": {
              "outlinewidth": 0,
              "ticks": ""
             }
            },
            "type": "scattergl"
           }
          ],
          "scattermapbox": [
           {
            "marker": {
             "colorbar": {
              "outlinewidth": 0,
              "ticks": ""
             }
            },
            "type": "scattermapbox"
           }
          ],
          "scatterpolar": [
           {
            "marker": {
             "colorbar": {
              "outlinewidth": 0,
              "ticks": ""
             }
            },
            "type": "scatterpolar"
           }
          ],
          "scatterpolargl": [
           {
            "marker": {
             "colorbar": {
              "outlinewidth": 0,
              "ticks": ""
             }
            },
            "type": "scatterpolargl"
           }
          ],
          "scatterternary": [
           {
            "marker": {
             "colorbar": {
              "outlinewidth": 0,
              "ticks": ""
             }
            },
            "type": "scatterternary"
           }
          ],
          "surface": [
           {
            "colorbar": {
             "outlinewidth": 0,
             "ticks": ""
            },
            "colorscale": [
             [
              0,
              "#0d0887"
             ],
             [
              0.1111111111111111,
              "#46039f"
             ],
             [
              0.2222222222222222,
              "#7201a8"
             ],
             [
              0.3333333333333333,
              "#9c179e"
             ],
             [
              0.4444444444444444,
              "#bd3786"
             ],
             [
              0.5555555555555556,
              "#d8576b"
             ],
             [
              0.6666666666666666,
              "#ed7953"
             ],
             [
              0.7777777777777778,
              "#fb9f3a"
             ],
             [
              0.8888888888888888,
              "#fdca26"
             ],
             [
              1,
              "#f0f921"
             ]
            ],
            "type": "surface"
           }
          ],
          "table": [
           {
            "cells": {
             "fill": {
              "color": "#EBF0F8"
             },
             "line": {
              "color": "white"
             }
            },
            "header": {
             "fill": {
              "color": "#C8D4E3"
             },
             "line": {
              "color": "white"
             }
            },
            "type": "table"
           }
          ]
         },
         "layout": {
          "annotationdefaults": {
           "arrowcolor": "#2a3f5f",
           "arrowhead": 0,
           "arrowwidth": 1
          },
          "coloraxis": {
           "colorbar": {
            "outlinewidth": 0,
            "ticks": ""
           }
          },
          "colorscale": {
           "diverging": [
            [
             0,
             "#8e0152"
            ],
            [
             0.1,
             "#c51b7d"
            ],
            [
             0.2,
             "#de77ae"
            ],
            [
             0.3,
             "#f1b6da"
            ],
            [
             0.4,
             "#fde0ef"
            ],
            [
             0.5,
             "#f7f7f7"
            ],
            [
             0.6,
             "#e6f5d0"
            ],
            [
             0.7,
             "#b8e186"
            ],
            [
             0.8,
             "#7fbc41"
            ],
            [
             0.9,
             "#4d9221"
            ],
            [
             1,
             "#276419"
            ]
           ],
           "sequential": [
            [
             0,
             "#0d0887"
            ],
            [
             0.1111111111111111,
             "#46039f"
            ],
            [
             0.2222222222222222,
             "#7201a8"
            ],
            [
             0.3333333333333333,
             "#9c179e"
            ],
            [
             0.4444444444444444,
             "#bd3786"
            ],
            [
             0.5555555555555556,
             "#d8576b"
            ],
            [
             0.6666666666666666,
             "#ed7953"
            ],
            [
             0.7777777777777778,
             "#fb9f3a"
            ],
            [
             0.8888888888888888,
             "#fdca26"
            ],
            [
             1,
             "#f0f921"
            ]
           ],
           "sequentialminus": [
            [
             0,
             "#0d0887"
            ],
            [
             0.1111111111111111,
             "#46039f"
            ],
            [
             0.2222222222222222,
             "#7201a8"
            ],
            [
             0.3333333333333333,
             "#9c179e"
            ],
            [
             0.4444444444444444,
             "#bd3786"
            ],
            [
             0.5555555555555556,
             "#d8576b"
            ],
            [
             0.6666666666666666,
             "#ed7953"
            ],
            [
             0.7777777777777778,
             "#fb9f3a"
            ],
            [
             0.8888888888888888,
             "#fdca26"
            ],
            [
             1,
             "#f0f921"
            ]
           ]
          },
          "colorway": [
           "#636efa",
           "#EF553B",
           "#00cc96",
           "#ab63fa",
           "#FFA15A",
           "#19d3f3",
           "#FF6692",
           "#B6E880",
           "#FF97FF",
           "#FECB52"
          ],
          "font": {
           "color": "#2a3f5f"
          },
          "geo": {
           "bgcolor": "white",
           "lakecolor": "white",
           "landcolor": "#E5ECF6",
           "showlakes": true,
           "showland": true,
           "subunitcolor": "white"
          },
          "hoverlabel": {
           "align": "left"
          },
          "hovermode": "closest",
          "mapbox": {
           "style": "light"
          },
          "paper_bgcolor": "white",
          "plot_bgcolor": "#E5ECF6",
          "polar": {
           "angularaxis": {
            "gridcolor": "white",
            "linecolor": "white",
            "ticks": ""
           },
           "bgcolor": "#E5ECF6",
           "radialaxis": {
            "gridcolor": "white",
            "linecolor": "white",
            "ticks": ""
           }
          },
          "scene": {
           "xaxis": {
            "backgroundcolor": "#E5ECF6",
            "gridcolor": "white",
            "gridwidth": 2,
            "linecolor": "white",
            "showbackground": true,
            "ticks": "",
            "zerolinecolor": "white"
           },
           "yaxis": {
            "backgroundcolor": "#E5ECF6",
            "gridcolor": "white",
            "gridwidth": 2,
            "linecolor": "white",
            "showbackground": true,
            "ticks": "",
            "zerolinecolor": "white"
           },
           "zaxis": {
            "backgroundcolor": "#E5ECF6",
            "gridcolor": "white",
            "gridwidth": 2,
            "linecolor": "white",
            "showbackground": true,
            "ticks": "",
            "zerolinecolor": "white"
           }
          },
          "shapedefaults": {
           "line": {
            "color": "#2a3f5f"
           }
          },
          "ternary": {
           "aaxis": {
            "gridcolor": "white",
            "linecolor": "white",
            "ticks": ""
           },
           "baxis": {
            "gridcolor": "white",
            "linecolor": "white",
            "ticks": ""
           },
           "bgcolor": "#E5ECF6",
           "caxis": {
            "gridcolor": "white",
            "linecolor": "white",
            "ticks": ""
           }
          },
          "title": {
           "x": 0.05
          },
          "xaxis": {
           "automargin": true,
           "gridcolor": "white",
           "linecolor": "white",
           "ticks": "",
           "title": {
            "standoff": 15
           },
           "zerolinecolor": "white",
           "zerolinewidth": 2
          },
          "yaxis": {
           "automargin": true,
           "gridcolor": "white",
           "linecolor": "white",
           "ticks": "",
           "title": {
            "standoff": 15
           },
           "zerolinecolor": "white",
           "zerolinewidth": 2
          }
         }
        },
        "xaxis": {
         "anchor": "y",
         "domain": [
          0,
          1
         ],
         "title": {
          "text": "WeekStartDate"
         }
        },
        "yaxis": {
         "anchor": "x",
         "domain": [
          0,
          1
         ],
         "title": {
          "text": "Age 0-19"
         }
        }
       }
      },
      "text/html": [
       "<div>\n",
       "        \n",
       "        \n",
       "            <div id=\"051624c7-b3b8-4732-b997-09056518ca95\" class=\"plotly-graph-div\" style=\"height:525px; width:100%;\"></div>\n",
       "            <script type=\"text/javascript\">\n",
       "                require([\"plotly\"], function(Plotly) {\n",
       "                    window.PLOTLYENV=window.PLOTLYENV || {};\n",
       "                    \n",
       "                if (document.getElementById(\"051624c7-b3b8-4732-b997-09056518ca95\")) {\n",
       "                    Plotly.newPlot(\n",
       "                        '051624c7-b3b8-4732-b997-09056518ca95',\n",
       "                        [{\"hoverlabel\": {\"namelength\": 0}, \"hovertemplate\": \"County=Adams County<br>WeekStartDate=%{x}<br>Age 0-19=%{y}\", \"legendgroup\": \"Adams County\", \"marker\": {\"color\": \"#636efa\", \"symbol\": \"circle\"}, \"mode\": \"markers\", \"name\": \"Adams County\", \"showlegend\": true, \"type\": \"scatter\", \"x\": [\"2020-03-08\", \"2020-03-15\", \"2020-03-22\", \"2020-03-29\", \"2020-04-05\", \"2020-04-12\", \"2020-04-19\", \"2020-04-26\", \"2020-05-03\", \"2020-05-10\", \"2020-05-17\", \"2020-05-24\", \"2020-05-31\", \"2020-06-07\", \"2020-06-14\", \"2020-06-21\", \"2020-06-28\"], \"xaxis\": \"x\", \"y\": [0, 0, 0, 2, 1, 0, 0, 0, 1, 0, 0, 2, 6, 1, 1, 1, 2], \"yaxis\": \"y\"}, {\"hoverlabel\": {\"namelength\": 0}, \"hovertemplate\": \"County=Asotin County<br>WeekStartDate=%{x}<br>Age 0-19=%{y}\", \"legendgroup\": \"Asotin County\", \"marker\": {\"color\": \"#EF553B\", \"symbol\": \"circle\"}, \"mode\": \"markers\", \"name\": \"Asotin County\", \"showlegend\": true, \"type\": \"scatter\", \"x\": [\"2020-03-15\", \"2020-03-29\", \"2020-04-05\", \"2020-04-12\", \"2020-04-19\", \"2020-05-17\", \"2020-05-31\", \"2020-06-21\"], \"xaxis\": \"x\", \"y\": [0, 0, 0, 1, 0, 0, 0, 0], \"yaxis\": \"y\"}, {\"hoverlabel\": {\"namelength\": 0}, \"hovertemplate\": \"County=Benton County<br>WeekStartDate=%{x}<br>Age 0-19=%{y}\", \"legendgroup\": \"Benton County\", \"marker\": {\"color\": \"#00cc96\", \"symbol\": \"circle\"}, \"mode\": \"markers\", \"name\": \"Benton County\", \"showlegend\": true, \"type\": \"scatter\", \"x\": [\"2020-02-16\", \"2020-03-01\", \"2020-03-08\", \"2020-03-15\", \"2020-03-22\", \"2020-03-29\", \"2020-04-05\", \"2020-04-12\", \"2020-04-19\", \"2020-04-26\", \"2020-05-03\", \"2020-05-10\", \"2020-05-17\", \"2020-05-24\", \"2020-05-31\", \"2020-06-07\", \"2020-06-14\", \"2020-06-21\", \"2020-06-28\"], \"xaxis\": \"x\", \"y\": [0, 0, 0, 2, 3, 2, 7, 3, 6, 7, 2, 4, 13, 12, 18, 31, 30, 32, 13], \"yaxis\": \"y\"}, {\"hoverlabel\": {\"namelength\": 0}, \"hovertemplate\": \"County=Chelan County<br>WeekStartDate=%{x}<br>Age 0-19=%{y}\", \"legendgroup\": \"Chelan County\", \"marker\": {\"color\": \"#ab63fa\", \"symbol\": \"circle\"}, \"mode\": \"markers\", \"name\": \"Chelan County\", \"showlegend\": true, \"type\": \"scatter\", \"x\": [\"2020-02-09\", \"2020-03-08\", \"2020-03-15\", \"2020-03-22\", \"2020-03-29\", \"2020-04-05\", \"2020-04-12\", \"2020-04-19\", \"2020-04-26\", \"2020-05-03\", \"2020-05-10\", \"2020-05-17\", \"2020-05-24\", \"2020-05-31\", \"2020-06-07\", \"2020-06-14\", \"2020-06-21\", \"2020-06-28\"], \"xaxis\": \"x\", \"y\": [0, 0, 0, 0, 1, 0, 1, 5, 1, 6, 6, 5, 4, 2, 4, 0, 5, 7], \"yaxis\": \"y\"}, {\"hoverlabel\": {\"namelength\": 0}, \"hovertemplate\": \"County=Clallam County<br>WeekStartDate=%{x}<br>Age 0-19=%{y}\", \"legendgroup\": \"Clallam County\", \"marker\": {\"color\": \"#FFA15A\", \"symbol\": \"circle\"}, \"mode\": \"markers\", \"name\": \"Clallam County\", \"showlegend\": true, \"type\": \"scatter\", \"x\": [\"2020-03-01\", \"2020-03-08\", \"2020-03-15\", \"2020-03-29\", \"2020-04-05\", \"2020-04-19\", \"2020-04-26\", \"2020-05-10\", \"2020-05-17\", \"2020-05-24\", \"2020-05-31\", \"2020-06-07\", \"2020-06-14\", \"2020-06-21\", \"2020-06-28\"], \"xaxis\": \"x\", \"y\": [0, 0, 0, 0, 0, 0, 0, 2, 2, 0, 0, 0, 0, 2, 0], \"yaxis\": \"y\"}, {\"hoverlabel\": {\"namelength\": 0}, \"hovertemplate\": \"County=Clark County<br>WeekStartDate=%{x}<br>Age 0-19=%{y}\", \"legendgroup\": \"Clark County\", \"marker\": {\"color\": \"#19d3f3\", \"symbol\": \"circle\"}, \"mode\": \"markers\", \"name\": \"Clark County\", \"showlegend\": true, \"type\": \"scatter\", \"x\": [\"2020-02-23\", \"2020-03-01\", \"2020-03-08\", \"2020-03-15\", \"2020-03-22\", \"2020-03-29\", \"2020-04-05\", \"2020-04-12\", \"2020-04-19\", \"2020-04-26\", \"2020-05-03\", \"2020-05-10\", \"2020-05-17\", \"2020-05-24\", \"2020-05-31\", \"2020-06-07\", \"2020-06-14\", \"2020-06-21\", \"2020-06-28\"], \"xaxis\": \"x\", \"y\": [0, 0, 0, 2, 0, 1, 2, 2, 3, 3, 6, 2, 4, 27, 10, 3, 10, 12, 7], \"yaxis\": \"y\"}, {\"hoverlabel\": {\"namelength\": 0}, \"hovertemplate\": \"County=Columbia County<br>WeekStartDate=%{x}<br>Age 0-19=%{y}\", \"legendgroup\": \"Columbia County\", \"marker\": {\"color\": \"#FF6692\", \"symbol\": \"circle\"}, \"mode\": \"markers\", \"name\": \"Columbia County\", \"showlegend\": true, \"type\": \"scatter\", \"x\": [\"2020-03-01\", \"2020-06-07\", \"2020-06-14\"], \"xaxis\": \"x\", \"y\": [0, 0, 4], \"yaxis\": \"y\"}, {\"hoverlabel\": {\"namelength\": 0}, \"hovertemplate\": \"County=Cowlitz County<br>WeekStartDate=%{x}<br>Age 0-19=%{y}\", \"legendgroup\": \"Cowlitz County\", \"marker\": {\"color\": \"#B6E880\", \"symbol\": \"circle\"}, \"mode\": \"markers\", \"name\": \"Cowlitz County\", \"showlegend\": true, \"type\": \"scatter\", \"x\": [\"2020-02-23\", \"2020-03-01\", \"2020-03-08\", \"2020-03-15\", \"2020-03-22\", \"2020-03-29\", \"2020-04-05\", \"2020-04-12\", \"2020-04-19\", \"2020-04-26\", \"2020-05-03\", \"2020-05-10\", \"2020-05-17\", \"2020-05-24\", \"2020-05-31\", \"2020-06-07\", \"2020-06-14\", \"2020-06-21\", \"2020-06-28\"], \"xaxis\": \"x\", \"y\": [0, 0, 0, 0, 0, 1, 0, 0, 0, 5, 1, 0, 0, 0, 2, 4, 5, 4, 2], \"yaxis\": \"y\"}, {\"hoverlabel\": {\"namelength\": 0}, \"hovertemplate\": \"County=Douglas County<br>WeekStartDate=%{x}<br>Age 0-19=%{y}\", \"legendgroup\": \"Douglas County\", \"marker\": {\"color\": \"#FF97FF\", \"symbol\": \"circle\"}, \"mode\": \"markers\", \"name\": \"Douglas County\", \"showlegend\": true, \"type\": \"scatter\", \"x\": [\"2020-03-01\", \"2020-03-08\", \"2020-03-15\", \"2020-03-22\", \"2020-03-29\", \"2020-04-05\", \"2020-04-12\", \"2020-04-19\", \"2020-04-26\", \"2020-05-03\", \"2020-05-10\", \"2020-05-17\", \"2020-05-24\", \"2020-05-31\", \"2020-06-07\", \"2020-06-14\", \"2020-06-21\", \"2020-06-28\"], \"xaxis\": \"x\", \"y\": [0, 0, 0, 3, 1, 0, 2, 0, 1, 3, 2, 4, 1, 0, 5, 4, 6, 8], \"yaxis\": \"y\"}, {\"hoverlabel\": {\"namelength\": 0}, \"hovertemplate\": \"County=Franklin County<br>WeekStartDate=%{x}<br>Age 0-19=%{y}\", \"legendgroup\": \"Franklin County\", \"marker\": {\"color\": \"#FECB52\", \"symbol\": \"circle\"}, \"mode\": \"markers\", \"name\": \"Franklin County\", \"showlegend\": true, \"type\": \"scatter\", \"x\": [\"2020-02-09\", \"2020-02-23\", \"2020-03-01\", \"2020-03-08\", \"2020-03-15\", \"2020-03-22\", \"2020-03-29\", \"2020-04-05\", \"2020-04-12\", \"2020-04-19\", \"2020-04-26\", \"2020-05-03\", \"2020-05-10\", \"2020-05-17\", \"2020-05-24\", \"2020-05-31\", \"2020-06-07\", \"2020-06-14\", \"2020-06-21\", \"2020-06-28\"], \"xaxis\": \"x\", \"y\": [0, 0, 0, 0, 0, 1, 3, 1, 3, 3, 3, 0, 3, 14, 22, 28, 32, 34, 41, 12], \"yaxis\": \"y\"}, {\"hoverlabel\": {\"namelength\": 0}, \"hovertemplate\": \"County=Grant County<br>WeekStartDate=%{x}<br>Age 0-19=%{y}\", \"legendgroup\": \"Grant County\", \"marker\": {\"color\": \"#636efa\", \"symbol\": \"circle\"}, \"mode\": \"markers\", \"name\": \"Grant County\", \"showlegend\": true, \"type\": \"scatter\", \"x\": [\"2020-02-16\", \"2020-02-23\", \"2020-03-01\", \"2020-03-08\", \"2020-03-15\", \"2020-03-22\", \"2020-03-29\", \"2020-04-05\", \"2020-04-12\", \"2020-04-19\", \"2020-04-26\", \"2020-05-03\", \"2020-05-10\", \"2020-05-17\", \"2020-05-24\", \"2020-05-31\", \"2020-06-07\", \"2020-06-14\", \"2020-06-21\", \"2020-06-28\"], \"xaxis\": \"x\", \"y\": [0, 0, 0, 4, 1, 2, 1, 3, 3, 2, 1, 0, 2, 3, 9, 2, 20, 14, 13, 2], \"yaxis\": \"y\"}, {\"hoverlabel\": {\"namelength\": 0}, \"hovertemplate\": \"County=Grays Harbor County<br>WeekStartDate=%{x}<br>Age 0-19=%{y}\", \"legendgroup\": \"Grays Harbor County\", \"marker\": {\"color\": \"#EF553B\", \"symbol\": \"circle\"}, \"mode\": \"markers\", \"name\": \"Grays Harbor County\", \"showlegend\": true, \"type\": \"scatter\", \"x\": [\"2020-02-16\", \"2020-02-23\", \"2020-03-01\", \"2020-03-15\", \"2020-03-22\", \"2020-03-29\", \"2020-04-05\", \"2020-04-26\", \"2020-05-03\", \"2020-05-17\", \"2020-05-24\", \"2020-05-31\", \"2020-06-07\", \"2020-06-14\", \"2020-06-21\", \"2020-06-28\"], \"xaxis\": \"x\", \"y\": [0, 0, 0, 0, 0, 0, 0, 0, 0, 1, 0, 0, 0, 1, 0, 0], \"yaxis\": \"y\"}, {\"hoverlabel\": {\"namelength\": 0}, \"hovertemplate\": \"County=Island County<br>WeekStartDate=%{x}<br>Age 0-19=%{y}\", \"legendgroup\": \"Island County\", \"marker\": {\"color\": \"#00cc96\", \"symbol\": \"circle\"}, \"mode\": \"markers\", \"name\": \"Island County\", \"showlegend\": true, \"type\": \"scatter\", \"x\": [\"2020-02-23\", \"2020-03-01\", \"2020-03-08\", \"2020-03-15\", \"2020-03-22\", \"2020-03-29\", \"2020-04-05\", \"2020-04-12\", \"2020-04-19\", \"2020-04-26\", \"2020-05-03\", \"2020-05-10\", \"2020-05-24\", \"2020-06-07\", \"2020-06-14\", \"2020-06-21\", \"2020-06-28\"], \"xaxis\": \"x\", \"y\": [0, 0, 0, 0, 3, 0, 0, 0, 0, 0, 0, 0, 0, 1, 0, 2, 0], \"yaxis\": \"y\"}, {\"hoverlabel\": {\"namelength\": 0}, \"hovertemplate\": \"County=Jefferson County<br>WeekStartDate=%{x}<br>Age 0-19=%{y}\", \"legendgroup\": \"Jefferson County\", \"marker\": {\"color\": \"#ab63fa\", \"symbol\": \"circle\"}, \"mode\": \"markers\", \"name\": \"Jefferson County\", \"showlegend\": true, \"type\": \"scatter\", \"x\": [\"2020-02-23\", \"2020-03-01\", \"2020-03-08\", \"2020-03-15\", \"2020-03-22\", \"2020-03-29\", \"2020-05-31\", \"2020-06-07\", \"2020-06-14\", \"2020-06-21\", \"2020-06-28\"], \"xaxis\": \"x\", \"y\": [0, 0, 0, 0, 0, 0, 1, 0, 0, 1, 0], \"yaxis\": \"y\"}, {\"hoverlabel\": {\"namelength\": 0}, \"hovertemplate\": \"County=King County<br>WeekStartDate=%{x}<br>Age 0-19=%{y}\", \"legendgroup\": \"King County\", \"marker\": {\"color\": \"#FFA15A\", \"symbol\": \"circle\"}, \"mode\": \"markers\", \"name\": \"King County\", \"showlegend\": true, \"type\": \"scatter\", \"x\": [\"2020-02-02\", \"2020-02-09\", \"2020-02-16\", \"2020-02-23\", \"2020-03-01\", \"2020-03-08\", \"2020-03-15\", \"2020-03-22\", \"2020-03-29\", \"2020-04-05\", \"2020-04-12\", \"2020-04-19\", \"2020-04-26\", \"2020-05-03\", \"2020-05-10\", \"2020-05-17\", \"2020-05-24\", \"2020-05-31\", \"2020-06-07\", \"2020-06-14\", \"2020-06-21\", \"2020-06-28\"], \"xaxis\": \"x\", \"y\": [0, 0, 1, 2, 1, 19, 12, 19, 36, 33, 41, 34, 43, 41, 48, 50, 41, 39, 39, 68, 121, 123], \"yaxis\": \"y\"}, {\"hoverlabel\": {\"namelength\": 0}, \"hovertemplate\": \"County=Kitsap County<br>WeekStartDate=%{x}<br>Age 0-19=%{y}\", \"legendgroup\": \"Kitsap County\", \"marker\": {\"color\": \"#19d3f3\", \"symbol\": \"circle\"}, \"mode\": \"markers\", \"name\": \"Kitsap County\", \"showlegend\": true, \"type\": \"scatter\", \"x\": [\"2020-02-16\", \"2020-02-23\", \"2020-03-01\", \"2020-03-08\", \"2020-03-15\", \"2020-03-22\", \"2020-03-29\", \"2020-04-05\", \"2020-04-12\", \"2020-04-19\", \"2020-04-26\", \"2020-05-03\", \"2020-05-10\", \"2020-05-24\", \"2020-05-31\", \"2020-06-07\", \"2020-06-14\", \"2020-06-21\", \"2020-06-28\"], \"xaxis\": \"x\", \"y\": [0, 0, 0, 2, 1, 1, 1, 0, 1, 0, 1, 0, 0, 0, 3, 1, 1, 3, 2], \"yaxis\": \"y\"}, {\"hoverlabel\": {\"namelength\": 0}, \"hovertemplate\": \"County=Kittitas County<br>WeekStartDate=%{x}<br>Age 0-19=%{y}\", \"legendgroup\": \"Kittitas County\", \"marker\": {\"color\": \"#FF6692\", \"symbol\": \"circle\"}, \"mode\": \"markers\", \"name\": \"Kittitas County\", \"showlegend\": true, \"type\": \"scatter\", \"x\": [\"2020-01-26\", \"2020-02-16\", \"2020-03-08\", \"2020-03-15\", \"2020-03-22\", \"2020-03-29\", \"2020-04-05\", \"2020-04-19\", \"2020-04-26\", \"2020-05-03\", \"2020-05-10\", \"2020-05-17\", \"2020-05-24\", \"2020-05-31\", \"2020-06-07\", \"2020-06-14\", \"2020-06-21\", \"2020-06-28\"], \"xaxis\": \"x\", \"y\": [0, 0, 0, 0, 0, 0, 0, 0, 0, 1, 5, 7, 2, 0, 1, 2, 1, 0], \"yaxis\": \"y\"}, {\"hoverlabel\": {\"namelength\": 0}, \"hovertemplate\": \"County=Klickitat County<br>WeekStartDate=%{x}<br>Age 0-19=%{y}\", \"legendgroup\": \"Klickitat County\", \"marker\": {\"color\": \"#B6E880\", \"symbol\": \"circle\"}, \"mode\": \"markers\", \"name\": \"Klickitat County\", \"showlegend\": true, \"type\": \"scatter\", \"x\": [\"2020-03-01\", \"2020-03-15\", \"2020-03-22\", \"2020-03-29\", \"2020-04-05\", \"2020-04-19\", \"2020-04-26\", \"2020-05-03\", \"2020-05-10\", \"2020-05-17\", \"2020-05-24\", \"2020-05-31\", \"2020-06-07\", \"2020-06-14\", \"2020-06-21\", \"2020-06-28\"], \"xaxis\": \"x\", \"y\": [0, 0, 0, 1, 0, 0, 0, 1, 0, 0, 1, 1, 3, 1, 3, 0], \"yaxis\": \"y\"}, {\"hoverlabel\": {\"namelength\": 0}, \"hovertemplate\": \"County=Lewis County<br>WeekStartDate=%{x}<br>Age 0-19=%{y}\", \"legendgroup\": \"Lewis County\", \"marker\": {\"color\": \"#FF97FF\", \"symbol\": \"circle\"}, \"mode\": \"markers\", \"name\": \"Lewis County\", \"showlegend\": true, \"type\": \"scatter\", \"x\": [\"2020-03-08\", \"2020-03-15\", \"2020-03-22\", \"2020-03-29\", \"2020-04-05\", \"2020-04-12\", \"2020-04-19\", \"2020-04-26\", \"2020-05-03\", \"2020-05-10\", \"2020-05-24\", \"2020-06-07\", \"2020-06-14\", \"2020-06-21\", \"2020-06-28\"], \"xaxis\": \"x\", \"y\": [0, 0, 0, 0, 0, 0, 0, 0, 0, 0, 0, 0, 0, 1, 0], \"yaxis\": \"y\"}, {\"hoverlabel\": {\"namelength\": 0}, \"hovertemplate\": \"County=Mason County<br>WeekStartDate=%{x}<br>Age 0-19=%{y}\", \"legendgroup\": \"Mason County\", \"marker\": {\"color\": \"#FECB52\", \"symbol\": \"circle\"}, \"mode\": \"markers\", \"name\": \"Mason County\", \"showlegend\": true, \"type\": \"scatter\", \"x\": [\"2020-03-01\", \"2020-03-08\", \"2020-03-15\", \"2020-03-22\", \"2020-03-29\", \"2020-04-12\", \"2020-04-19\", \"2020-04-26\", \"2020-05-03\", \"2020-05-10\", \"2020-05-17\", \"2020-05-24\", \"2020-05-31\", \"2020-06-07\", \"2020-06-14\", \"2020-06-21\", \"2020-06-28\"], \"xaxis\": \"x\", \"y\": [0, 0, 0, 0, 0, 0, 0, 0, 0, 0, 0, 0, 1, 0, 0, 0, 0], \"yaxis\": \"y\"}, {\"hoverlabel\": {\"namelength\": 0}, \"hovertemplate\": \"County=Okanogan County<br>WeekStartDate=%{x}<br>Age 0-19=%{y}\", \"legendgroup\": \"Okanogan County\", \"marker\": {\"color\": \"#636efa\", \"symbol\": \"circle\"}, \"mode\": \"markers\", \"name\": \"Okanogan County\", \"showlegend\": true, \"type\": \"scatter\", \"x\": [\"2020-03-08\", \"2020-03-15\", \"2020-03-22\", \"2020-03-29\", \"2020-04-05\", \"2020-04-12\", \"2020-04-19\", \"2020-04-26\", \"2020-05-03\", \"2020-05-10\", \"2020-05-17\", \"2020-05-24\", \"2020-05-31\", \"2020-06-07\", \"2020-06-14\", \"2020-06-21\", \"2020-06-28\"], \"xaxis\": \"x\", \"y\": [0, 0, 1, 2, 1, 0, 0, 1, 0, 4, 1, 1, 3, 1, 0, 1, 4], \"yaxis\": \"y\"}, {\"hoverlabel\": {\"namelength\": 0}, \"hovertemplate\": \"County=Pacific County<br>WeekStartDate=%{x}<br>Age 0-19=%{y}\", \"legendgroup\": \"Pacific County\", \"marker\": {\"color\": \"#EF553B\", \"symbol\": \"circle\"}, \"mode\": \"markers\", \"name\": \"Pacific County\", \"showlegend\": true, \"type\": \"scatter\", \"x\": [\"2020-03-29\", \"2020-04-05\", \"2020-04-19\", \"2020-04-26\", \"2020-05-03\", \"2020-05-31\", \"2020-06-07\", \"2020-06-21\"], \"xaxis\": \"x\", \"y\": [0, 0, 0, 0, 0, 0, 0, 2], \"yaxis\": \"y\"}, {\"hoverlabel\": {\"namelength\": 0}, \"hovertemplate\": \"County=Pend Oreille County<br>WeekStartDate=%{x}<br>Age 0-19=%{y}\", \"legendgroup\": \"Pend Oreille County\", \"marker\": {\"color\": \"#00cc96\", \"symbol\": \"circle\"}, \"mode\": \"markers\", \"name\": \"Pend Oreille County\", \"showlegend\": true, \"type\": \"scatter\", \"x\": [\"2020-03-15\", \"2020-04-05\", \"2020-05-17\", \"2020-06-21\", \"2020-06-28\"], \"xaxis\": \"x\", \"y\": [0, 0, 0, 0, 1], \"yaxis\": \"y\"}, {\"hoverlabel\": {\"namelength\": 0}, \"hovertemplate\": \"County=Pierce County<br>WeekStartDate=%{x}<br>Age 0-19=%{y}\", \"legendgroup\": \"Pierce County\", \"marker\": {\"color\": \"#ab63fa\", \"symbol\": \"circle\"}, \"mode\": \"markers\", \"name\": \"Pierce County\", \"showlegend\": true, \"type\": \"scatter\", \"x\": [\"2020-02-16\", \"2020-02-23\", \"2020-03-01\", \"2020-03-08\", \"2020-03-15\", \"2020-03-22\", \"2020-03-29\", \"2020-04-05\", \"2020-04-12\", \"2020-04-19\", \"2020-04-26\", \"2020-05-03\", \"2020-05-10\", \"2020-05-17\", \"2020-05-24\", \"2020-05-31\", \"2020-06-07\", \"2020-06-14\", \"2020-06-21\", \"2020-06-28\"], \"xaxis\": \"x\", \"y\": [0, 2, 0, 4, 7, 6, 10, 13, 3, 12, 15, 11, 12, 7, 9, 13, 9, 20, 13, 23], \"yaxis\": \"y\"}, {\"hoverlabel\": {\"namelength\": 0}, \"hovertemplate\": \"County=San Juan County<br>WeekStartDate=%{x}<br>Age 0-19=%{y}\", \"legendgroup\": \"San Juan County\", \"marker\": {\"color\": \"#FFA15A\", \"symbol\": \"circle\"}, \"mode\": \"markers\", \"name\": \"San Juan County\", \"showlegend\": true, \"type\": \"scatter\", \"x\": [\"2020-03-08\", \"2020-03-15\", \"2020-03-22\", \"2020-03-29\", \"2020-04-05\", \"2020-04-12\", \"2020-06-07\", \"2020-06-14\", \"2020-06-21\"], \"xaxis\": \"x\", \"y\": [0, 0, 0, 0, 1, 0, 0, 1, 0], \"yaxis\": \"y\"}, {\"hoverlabel\": {\"namelength\": 0}, \"hovertemplate\": \"County=Skagit County<br>WeekStartDate=%{x}<br>Age 0-19=%{y}\", \"legendgroup\": \"Skagit County\", \"marker\": {\"color\": \"#19d3f3\", \"symbol\": \"circle\"}, \"mode\": \"markers\", \"name\": \"Skagit County\", \"showlegend\": true, \"type\": \"scatter\", \"x\": [\"2020-02-16\", \"2020-02-23\", \"2020-03-01\", \"2020-03-08\", \"2020-03-15\", \"2020-03-22\", \"2020-03-29\", \"2020-04-05\", \"2020-04-12\", \"2020-04-19\", \"2020-04-26\", \"2020-05-03\", \"2020-05-10\", \"2020-05-17\", \"2020-05-24\", \"2020-05-31\", \"2020-06-07\", \"2020-06-14\", \"2020-06-21\", \"2020-06-28\"], \"xaxis\": \"x\", \"y\": [0, 0, 0, 1, 3, 3, 0, 3, 4, 10, 7, 1, 4, 0, 2, 3, 1, 5, 4, 4], \"yaxis\": \"y\"}, {\"hoverlabel\": {\"namelength\": 0}, \"hovertemplate\": \"County=Skamania County<br>WeekStartDate=%{x}<br>Age 0-19=%{y}\", \"legendgroup\": \"Skamania County\", \"marker\": {\"color\": \"#FF6692\", \"symbol\": \"circle\"}, \"mode\": \"markers\", \"name\": \"Skamania County\", \"showlegend\": true, \"type\": \"scatter\", \"x\": [\"2020-03-22\", \"2020-04-05\", \"2020-06-14\", \"2020-06-21\", \"2020-06-28\"], \"xaxis\": \"x\", \"y\": [0, 0, 0, 0, 1], \"yaxis\": \"y\"}, {\"hoverlabel\": {\"namelength\": 0}, \"hovertemplate\": \"County=Snohomish County<br>WeekStartDate=%{x}<br>Age 0-19=%{y}\", \"legendgroup\": \"Snohomish County\", \"marker\": {\"color\": \"#B6E880\", \"symbol\": \"circle\"}, \"mode\": \"markers\", \"name\": \"Snohomish County\", \"showlegend\": true, \"type\": \"scatter\", \"x\": [\"2020-01-16\", \"2020-01-26\", \"2020-02-02\", \"2020-02-09\", \"2020-02-16\", \"2020-02-23\", \"2020-03-01\", \"2020-03-08\", \"2020-03-15\", \"2020-03-22\", \"2020-03-29\", \"2020-04-05\", \"2020-04-12\", \"2020-04-19\", \"2020-04-26\", \"2020-05-03\", \"2020-05-10\", \"2020-05-17\", \"2020-05-24\", \"2020-05-31\", \"2020-06-07\", \"2020-06-14\", \"2020-06-21\", \"2020-06-28\"], \"xaxis\": \"x\", \"y\": [0, 0, 0, 0, 1, 1, 3, 5, 6, 16, 15, 9, 16, 10, 14, 6, 9, 8, 7, 13, 17, 39, 31, 30], \"yaxis\": \"y\"}, {\"hoverlabel\": {\"namelength\": 0}, \"hovertemplate\": \"County=Spokane County<br>WeekStartDate=%{x}<br>Age 0-19=%{y}\", \"legendgroup\": \"Spokane County\", \"marker\": {\"color\": \"#FF97FF\", \"symbol\": \"circle\"}, \"mode\": \"markers\", \"name\": \"Spokane County\", \"showlegend\": true, \"type\": \"scatter\", \"x\": [\"2020-02-16\", \"2020-02-23\", \"2020-03-01\", \"2020-03-08\", \"2020-03-15\", \"2020-03-22\", \"2020-03-29\", \"2020-04-05\", \"2020-04-12\", \"2020-04-19\", \"2020-04-26\", \"2020-05-03\", \"2020-05-10\", \"2020-05-17\", \"2020-05-24\", \"2020-05-31\", \"2020-06-07\", \"2020-06-14\", \"2020-06-21\", \"2020-06-28\"], \"xaxis\": \"x\", \"y\": [0, 0, 0, 0, 1, 2, 3, 0, 0, 4, 0, 7, 7, 18, 15, 32, 16, 34, 48, 22], \"yaxis\": \"y\"}, {\"hoverlabel\": {\"namelength\": 0}, \"hovertemplate\": \"County=Stevens County<br>WeekStartDate=%{x}<br>Age 0-19=%{y}\", \"legendgroup\": \"Stevens County\", \"marker\": {\"color\": \"#FECB52\", \"symbol\": \"circle\"}, \"mode\": \"markers\", \"name\": \"Stevens County\", \"showlegend\": true, \"type\": \"scatter\", \"x\": [\"2020-03-01\", \"2020-03-08\", \"2020-03-15\", \"2020-03-22\", \"2020-03-29\", \"2020-04-12\", \"2020-05-10\", \"2020-05-17\", \"2020-05-24\", \"2020-06-07\", \"2020-06-21\", \"2020-06-28\"], \"xaxis\": \"x\", \"y\": [0, 0, 0, 0, 0, 1, 0, 0, 0, 1, 0, 0], \"yaxis\": \"y\"}, {\"hoverlabel\": {\"namelength\": 0}, \"hovertemplate\": \"County=Thurston County<br>WeekStartDate=%{x}<br>Age 0-19=%{y}\", \"legendgroup\": \"Thurston County\", \"marker\": {\"color\": \"#636efa\", \"symbol\": \"circle\"}, \"mode\": \"markers\", \"name\": \"Thurston County\", \"showlegend\": true, \"type\": \"scatter\", \"x\": [\"2020-02-23\", \"2020-03-01\", \"2020-03-08\", \"2020-03-15\", \"2020-03-22\", \"2020-03-29\", \"2020-04-05\", \"2020-04-12\", \"2020-04-19\", \"2020-04-26\", \"2020-05-03\", \"2020-05-10\", \"2020-05-17\", \"2020-05-24\", \"2020-05-31\", \"2020-06-07\", \"2020-06-14\", \"2020-06-21\", \"2020-06-28\"], \"xaxis\": \"x\", \"y\": [0, 0, 0, 0, 1, 1, 0, 1, 1, 3, 0, 0, 0, 1, 0, 1, 4, 5, 2], \"yaxis\": \"y\"}, {\"hoverlabel\": {\"namelength\": 0}, \"hovertemplate\": \"County=Wahkiakum County<br>WeekStartDate=%{x}<br>Age 0-19=%{y}\", \"legendgroup\": \"Wahkiakum County\", \"marker\": {\"color\": \"#EF553B\", \"symbol\": \"circle\"}, \"mode\": \"markers\", \"name\": \"Wahkiakum County\", \"showlegend\": true, \"type\": \"scatter\", \"x\": [\"2020-03-15\", \"2020-03-22\", \"2020-05-03\", \"2020-06-14\"], \"xaxis\": \"x\", \"y\": [0, 0, 0, 0], \"yaxis\": \"y\"}, {\"hoverlabel\": {\"namelength\": 0}, \"hovertemplate\": \"County=Walla Walla County<br>WeekStartDate=%{x}<br>Age 0-19=%{y}\", \"legendgroup\": \"Walla Walla County\", \"marker\": {\"color\": \"#00cc96\", \"symbol\": \"circle\"}, \"mode\": \"markers\", \"name\": \"Walla Walla County\", \"showlegend\": true, \"type\": \"scatter\", \"x\": [\"2020-03-08\", \"2020-03-15\", \"2020-03-22\", \"2020-03-29\", \"2020-04-05\", \"2020-04-12\", \"2020-04-19\", \"2020-04-26\", \"2020-05-03\", \"2020-05-10\", \"2020-05-17\", \"2020-05-24\", \"2020-05-31\", \"2020-06-07\", \"2020-06-14\", \"2020-06-21\", \"2020-06-28\"], \"xaxis\": \"x\", \"y\": [0, 0, 0, 1, 0, 1, 3, 3, 0, 0, 0, 2, 1, 0, 3, 1, 0], \"yaxis\": \"y\"}, {\"hoverlabel\": {\"namelength\": 0}, \"hovertemplate\": \"County=Whatcom County<br>WeekStartDate=%{x}<br>Age 0-19=%{y}\", \"legendgroup\": \"Whatcom County\", \"marker\": {\"color\": \"#ab63fa\", \"symbol\": \"circle\"}, \"mode\": \"markers\", \"name\": \"Whatcom County\", \"showlegend\": true, \"type\": \"scatter\", \"x\": [\"2020-02-16\", \"2020-02-23\", \"2020-03-01\", \"2020-03-08\", \"2020-03-15\", \"2020-03-22\", \"2020-03-29\", \"2020-04-05\", \"2020-04-12\", \"2020-04-19\", \"2020-04-26\", \"2020-05-03\", \"2020-05-10\", \"2020-05-17\", \"2020-05-24\", \"2020-05-31\", \"2020-06-07\", \"2020-06-14\", \"2020-06-21\", \"2020-06-28\"], \"xaxis\": \"x\", \"y\": [0, 0, 0, 1, 1, 1, 4, 1, 0, 2, 5, 3, 3, 6, 9, 12, 5, 17, 26, 5], \"yaxis\": \"y\"}, {\"hoverlabel\": {\"namelength\": 0}, \"hovertemplate\": \"County=Whitman County<br>WeekStartDate=%{x}<br>Age 0-19=%{y}\", \"legendgroup\": \"Whitman County\", \"marker\": {\"color\": \"#FFA15A\", \"symbol\": \"circle\"}, \"mode\": \"markers\", \"name\": \"Whitman County\", \"showlegend\": true, \"type\": \"scatter\", \"x\": [\"2020-03-08\", \"2020-03-15\", \"2020-03-22\", \"2020-03-29\", \"2020-04-12\", \"2020-04-19\", \"2020-05-10\", \"2020-05-17\", \"2020-05-31\", \"2020-06-07\", \"2020-06-14\", \"2020-06-21\", \"2020-06-28\"], \"xaxis\": \"x\", \"y\": [0, 0, 1, 0, 0, 0, 0, 0, 2, 1, 0, 0, 0], \"yaxis\": \"y\"}, {\"hoverlabel\": {\"namelength\": 0}, \"hovertemplate\": \"County=Yakima County<br>WeekStartDate=%{x}<br>Age 0-19=%{y}\", \"legendgroup\": \"Yakima County\", \"marker\": {\"color\": \"#19d3f3\", \"symbol\": \"circle\"}, \"mode\": \"markers\", \"name\": \"Yakima County\", \"showlegend\": true, \"type\": \"scatter\", \"x\": [\"2020-01-16\", \"2020-02-09\", \"2020-02-16\", \"2020-03-01\", \"2020-03-08\", \"2020-03-15\", \"2020-03-22\", \"2020-03-29\", \"2020-04-05\", \"2020-04-12\", \"2020-04-19\", \"2020-04-26\", \"2020-05-03\", \"2020-05-10\", \"2020-05-17\", \"2020-05-24\", \"2020-05-31\", \"2020-06-07\", \"2020-06-14\", \"2020-06-21\", \"2020-06-28\"], \"xaxis\": \"x\", \"y\": [0, 0, 0, 0, 1, 3, 2, 16, 14, 29, 22, 38, 58, 71, 85, 95, 132, 112, 130, 87, 33], \"yaxis\": \"y\"}, {\"hoverlabel\": {\"namelength\": 0}, \"hovertemplate\": \"County=Unassigned<br>WeekStartDate=%{x}<br>Age 0-19=%{y}\", \"legendgroup\": \"Unassigned\", \"marker\": {\"color\": \"#FF6692\", \"symbol\": \"circle\"}, \"mode\": \"markers\", \"name\": \"Unassigned\", \"showlegend\": true, \"type\": \"scatter\", \"x\": [\"2020-04-12\", \"2020-04-19\", \"2020-05-10\", \"2020-05-17\", \"2020-05-24\", \"2020-05-31\", \"2020-06-07\", \"2020-06-14\", \"2020-06-21\", \"2020-06-28\"], \"xaxis\": \"x\", \"y\": [0, 0, 0, 0, 0, 1, 1, 0, 2, 7], \"yaxis\": \"y\"}],\n",
       "                        {\"legend\": {\"title\": {\"text\": \"County\"}, \"tracegroupgap\": 0}, \"margin\": {\"t\": 60}, \"template\": {\"data\": {\"bar\": [{\"error_x\": {\"color\": \"#2a3f5f\"}, \"error_y\": {\"color\": \"#2a3f5f\"}, \"marker\": {\"line\": {\"color\": \"#E5ECF6\", \"width\": 0.5}}, \"type\": \"bar\"}], \"barpolar\": [{\"marker\": {\"line\": {\"color\": \"#E5ECF6\", \"width\": 0.5}}, \"type\": \"barpolar\"}], \"carpet\": [{\"aaxis\": {\"endlinecolor\": \"#2a3f5f\", \"gridcolor\": \"white\", \"linecolor\": \"white\", \"minorgridcolor\": \"white\", \"startlinecolor\": \"#2a3f5f\"}, \"baxis\": {\"endlinecolor\": \"#2a3f5f\", \"gridcolor\": \"white\", \"linecolor\": \"white\", \"minorgridcolor\": \"white\", \"startlinecolor\": \"#2a3f5f\"}, \"type\": \"carpet\"}], \"choropleth\": [{\"colorbar\": {\"outlinewidth\": 0, \"ticks\": \"\"}, \"type\": \"choropleth\"}], \"contour\": [{\"colorbar\": {\"outlinewidth\": 0, \"ticks\": \"\"}, \"colorscale\": [[0.0, \"#0d0887\"], [0.1111111111111111, \"#46039f\"], [0.2222222222222222, \"#7201a8\"], [0.3333333333333333, \"#9c179e\"], [0.4444444444444444, \"#bd3786\"], [0.5555555555555556, \"#d8576b\"], [0.6666666666666666, \"#ed7953\"], [0.7777777777777778, \"#fb9f3a\"], [0.8888888888888888, \"#fdca26\"], [1.0, \"#f0f921\"]], \"type\": \"contour\"}], \"contourcarpet\": [{\"colorbar\": {\"outlinewidth\": 0, \"ticks\": \"\"}, \"type\": \"contourcarpet\"}], \"heatmap\": [{\"colorbar\": {\"outlinewidth\": 0, \"ticks\": \"\"}, \"colorscale\": [[0.0, \"#0d0887\"], [0.1111111111111111, \"#46039f\"], [0.2222222222222222, \"#7201a8\"], [0.3333333333333333, \"#9c179e\"], [0.4444444444444444, \"#bd3786\"], [0.5555555555555556, \"#d8576b\"], [0.6666666666666666, \"#ed7953\"], [0.7777777777777778, \"#fb9f3a\"], [0.8888888888888888, \"#fdca26\"], [1.0, \"#f0f921\"]], \"type\": \"heatmap\"}], \"heatmapgl\": [{\"colorbar\": {\"outlinewidth\": 0, \"ticks\": \"\"}, \"colorscale\": [[0.0, \"#0d0887\"], [0.1111111111111111, \"#46039f\"], [0.2222222222222222, \"#7201a8\"], [0.3333333333333333, \"#9c179e\"], [0.4444444444444444, \"#bd3786\"], [0.5555555555555556, \"#d8576b\"], [0.6666666666666666, \"#ed7953\"], [0.7777777777777778, \"#fb9f3a\"], [0.8888888888888888, \"#fdca26\"], [1.0, \"#f0f921\"]], \"type\": \"heatmapgl\"}], \"histogram\": [{\"marker\": {\"colorbar\": {\"outlinewidth\": 0, \"ticks\": \"\"}}, \"type\": \"histogram\"}], \"histogram2d\": [{\"colorbar\": {\"outlinewidth\": 0, \"ticks\": \"\"}, \"colorscale\": [[0.0, \"#0d0887\"], [0.1111111111111111, \"#46039f\"], [0.2222222222222222, \"#7201a8\"], [0.3333333333333333, \"#9c179e\"], [0.4444444444444444, \"#bd3786\"], [0.5555555555555556, \"#d8576b\"], [0.6666666666666666, \"#ed7953\"], [0.7777777777777778, \"#fb9f3a\"], [0.8888888888888888, \"#fdca26\"], [1.0, \"#f0f921\"]], \"type\": \"histogram2d\"}], \"histogram2dcontour\": [{\"colorbar\": {\"outlinewidth\": 0, \"ticks\": \"\"}, \"colorscale\": [[0.0, \"#0d0887\"], [0.1111111111111111, \"#46039f\"], [0.2222222222222222, \"#7201a8\"], [0.3333333333333333, \"#9c179e\"], [0.4444444444444444, \"#bd3786\"], [0.5555555555555556, \"#d8576b\"], [0.6666666666666666, \"#ed7953\"], [0.7777777777777778, \"#fb9f3a\"], [0.8888888888888888, \"#fdca26\"], [1.0, \"#f0f921\"]], \"type\": \"histogram2dcontour\"}], \"mesh3d\": [{\"colorbar\": {\"outlinewidth\": 0, \"ticks\": \"\"}, \"type\": \"mesh3d\"}], \"parcoords\": [{\"line\": {\"colorbar\": {\"outlinewidth\": 0, \"ticks\": \"\"}}, \"type\": \"parcoords\"}], \"pie\": [{\"automargin\": true, \"type\": \"pie\"}], \"scatter\": [{\"marker\": {\"colorbar\": {\"outlinewidth\": 0, \"ticks\": \"\"}}, \"type\": \"scatter\"}], \"scatter3d\": [{\"line\": {\"colorbar\": {\"outlinewidth\": 0, \"ticks\": \"\"}}, \"marker\": {\"colorbar\": {\"outlinewidth\": 0, \"ticks\": \"\"}}, \"type\": \"scatter3d\"}], \"scattercarpet\": [{\"marker\": {\"colorbar\": {\"outlinewidth\": 0, \"ticks\": \"\"}}, \"type\": \"scattercarpet\"}], \"scattergeo\": [{\"marker\": {\"colorbar\": {\"outlinewidth\": 0, \"ticks\": \"\"}}, \"type\": \"scattergeo\"}], \"scattergl\": [{\"marker\": {\"colorbar\": {\"outlinewidth\": 0, \"ticks\": \"\"}}, \"type\": \"scattergl\"}], \"scattermapbox\": [{\"marker\": {\"colorbar\": {\"outlinewidth\": 0, \"ticks\": \"\"}}, \"type\": \"scattermapbox\"}], \"scatterpolar\": [{\"marker\": {\"colorbar\": {\"outlinewidth\": 0, \"ticks\": \"\"}}, \"type\": \"scatterpolar\"}], \"scatterpolargl\": [{\"marker\": {\"colorbar\": {\"outlinewidth\": 0, \"ticks\": \"\"}}, \"type\": \"scatterpolargl\"}], \"scatterternary\": [{\"marker\": {\"colorbar\": {\"outlinewidth\": 0, \"ticks\": \"\"}}, \"type\": \"scatterternary\"}], \"surface\": [{\"colorbar\": {\"outlinewidth\": 0, \"ticks\": \"\"}, \"colorscale\": [[0.0, \"#0d0887\"], [0.1111111111111111, \"#46039f\"], [0.2222222222222222, \"#7201a8\"], [0.3333333333333333, \"#9c179e\"], [0.4444444444444444, \"#bd3786\"], [0.5555555555555556, \"#d8576b\"], [0.6666666666666666, \"#ed7953\"], [0.7777777777777778, \"#fb9f3a\"], [0.8888888888888888, \"#fdca26\"], [1.0, \"#f0f921\"]], \"type\": \"surface\"}], \"table\": [{\"cells\": {\"fill\": {\"color\": \"#EBF0F8\"}, \"line\": {\"color\": \"white\"}}, \"header\": {\"fill\": {\"color\": \"#C8D4E3\"}, \"line\": {\"color\": \"white\"}}, \"type\": \"table\"}]}, \"layout\": {\"annotationdefaults\": {\"arrowcolor\": \"#2a3f5f\", \"arrowhead\": 0, \"arrowwidth\": 1}, \"coloraxis\": {\"colorbar\": {\"outlinewidth\": 0, \"ticks\": \"\"}}, \"colorscale\": {\"diverging\": [[0, \"#8e0152\"], [0.1, \"#c51b7d\"], [0.2, \"#de77ae\"], [0.3, \"#f1b6da\"], [0.4, \"#fde0ef\"], [0.5, \"#f7f7f7\"], [0.6, \"#e6f5d0\"], [0.7, \"#b8e186\"], [0.8, \"#7fbc41\"], [0.9, \"#4d9221\"], [1, \"#276419\"]], \"sequential\": [[0.0, \"#0d0887\"], [0.1111111111111111, \"#46039f\"], [0.2222222222222222, \"#7201a8\"], [0.3333333333333333, \"#9c179e\"], [0.4444444444444444, \"#bd3786\"], [0.5555555555555556, \"#d8576b\"], [0.6666666666666666, \"#ed7953\"], [0.7777777777777778, \"#fb9f3a\"], [0.8888888888888888, \"#fdca26\"], [1.0, \"#f0f921\"]], \"sequentialminus\": [[0.0, \"#0d0887\"], [0.1111111111111111, \"#46039f\"], [0.2222222222222222, \"#7201a8\"], [0.3333333333333333, \"#9c179e\"], [0.4444444444444444, \"#bd3786\"], [0.5555555555555556, \"#d8576b\"], [0.6666666666666666, \"#ed7953\"], [0.7777777777777778, \"#fb9f3a\"], [0.8888888888888888, \"#fdca26\"], [1.0, \"#f0f921\"]]}, \"colorway\": [\"#636efa\", \"#EF553B\", \"#00cc96\", \"#ab63fa\", \"#FFA15A\", \"#19d3f3\", \"#FF6692\", \"#B6E880\", \"#FF97FF\", \"#FECB52\"], \"font\": {\"color\": \"#2a3f5f\"}, \"geo\": {\"bgcolor\": \"white\", \"lakecolor\": \"white\", \"landcolor\": \"#E5ECF6\", \"showlakes\": true, \"showland\": true, \"subunitcolor\": \"white\"}, \"hoverlabel\": {\"align\": \"left\"}, \"hovermode\": \"closest\", \"mapbox\": {\"style\": \"light\"}, \"paper_bgcolor\": \"white\", \"plot_bgcolor\": \"#E5ECF6\", \"polar\": {\"angularaxis\": {\"gridcolor\": \"white\", \"linecolor\": \"white\", \"ticks\": \"\"}, \"bgcolor\": \"#E5ECF6\", \"radialaxis\": {\"gridcolor\": \"white\", \"linecolor\": \"white\", \"ticks\": \"\"}}, \"scene\": {\"xaxis\": {\"backgroundcolor\": \"#E5ECF6\", \"gridcolor\": \"white\", \"gridwidth\": 2, \"linecolor\": \"white\", \"showbackground\": true, \"ticks\": \"\", \"zerolinecolor\": \"white\"}, \"yaxis\": {\"backgroundcolor\": \"#E5ECF6\", \"gridcolor\": \"white\", \"gridwidth\": 2, \"linecolor\": \"white\", \"showbackground\": true, \"ticks\": \"\", \"zerolinecolor\": \"white\"}, \"zaxis\": {\"backgroundcolor\": \"#E5ECF6\", \"gridcolor\": \"white\", \"gridwidth\": 2, \"linecolor\": \"white\", \"showbackground\": true, \"ticks\": \"\", \"zerolinecolor\": \"white\"}}, \"shapedefaults\": {\"line\": {\"color\": \"#2a3f5f\"}}, \"ternary\": {\"aaxis\": {\"gridcolor\": \"white\", \"linecolor\": \"white\", \"ticks\": \"\"}, \"baxis\": {\"gridcolor\": \"white\", \"linecolor\": \"white\", \"ticks\": \"\"}, \"bgcolor\": \"#E5ECF6\", \"caxis\": {\"gridcolor\": \"white\", \"linecolor\": \"white\", \"ticks\": \"\"}}, \"title\": {\"x\": 0.05}, \"xaxis\": {\"automargin\": true, \"gridcolor\": \"white\", \"linecolor\": \"white\", \"ticks\": \"\", \"title\": {\"standoff\": 15}, \"zerolinecolor\": \"white\", \"zerolinewidth\": 2}, \"yaxis\": {\"automargin\": true, \"gridcolor\": \"white\", \"linecolor\": \"white\", \"ticks\": \"\", \"title\": {\"standoff\": 15}, \"zerolinecolor\": \"white\", \"zerolinewidth\": 2}}}, \"xaxis\": {\"anchor\": \"y\", \"domain\": [0.0, 1.0], \"title\": {\"text\": \"WeekStartDate\"}}, \"yaxis\": {\"anchor\": \"x\", \"domain\": [0.0, 1.0], \"title\": {\"text\": \"Age 0-19\"}}},\n",
       "                        {\"responsive\": true}\n",
       "                    ).then(function(){\n",
       "                            \n",
       "var gd = document.getElementById('051624c7-b3b8-4732-b997-09056518ca95');\n",
       "var x = new MutationObserver(function (mutations, observer) {{\n",
       "        var display = window.getComputedStyle(gd).display;\n",
       "        if (!display || display === 'none') {{\n",
       "            console.log([gd, 'removed!']);\n",
       "            Plotly.purge(gd);\n",
       "            observer.disconnect();\n",
       "        }}\n",
       "}});\n",
       "\n",
       "// Listen for the removal of the full notebook cells\n",
       "var notebookContainer = gd.closest('#notebook-container');\n",
       "if (notebookContainer) {{\n",
       "    x.observe(notebookContainer, {childList: true});\n",
       "}}\n",
       "\n",
       "// Listen for the clearing of the current output cell\n",
       "var outputEl = gd.closest('.output');\n",
       "if (outputEl) {{\n",
       "    x.observe(outputEl, {childList: true});\n",
       "}}\n",
       "\n",
       "                        })\n",
       "                };\n",
       "                });\n",
       "            </script>\n",
       "        </div>"
      ]
     },
     "metadata": {},
     "output_type": "display_data"
    }
   ],
   "source": [
    "px.scatter(df, x=\"WeekStartDate\", y=\"Age 0-19\", color='County')"
   ]
  },
  {
   "cell_type": "code",
   "execution_count": 64,
   "metadata": {
    "ExecuteTime": {
     "end_time": "2020-07-12T19:32:55.970402Z",
     "start_time": "2020-07-12T19:32:55.562760Z"
    }
   },
   "outputs": [
    {
     "data": {
      "application/vnd.plotly.v1+json": {
       "config": {
        "plotlyServerURL": "https://plot.ly"
       },
       "data": [
        {
         "hoverlabel": {
          "namelength": 0
         },
         "hovertemplate": "County=Adams County<br>WeekStartDate=%{x}<br>Age 20-39=%{y}",
         "legendgroup": "Adams County",
         "marker": {
          "color": "#636efa",
          "symbol": "circle"
         },
         "mode": "markers",
         "name": "Adams County",
         "showlegend": true,
         "type": "scatter",
         "x": [
          "2020-03-08",
          "2020-03-15",
          "2020-03-22",
          "2020-03-29",
          "2020-04-05",
          "2020-04-12",
          "2020-04-19",
          "2020-04-26",
          "2020-05-03",
          "2020-05-10",
          "2020-05-17",
          "2020-05-24",
          "2020-05-31",
          "2020-06-07",
          "2020-06-14",
          "2020-06-21",
          "2020-06-28"
         ],
         "xaxis": "x",
         "y": [
          1,
          0,
          1,
          8,
          2,
          1,
          4,
          1,
          0,
          1,
          1,
          9,
          6,
          1,
          4,
          15,
          8
         ],
         "yaxis": "y"
        },
        {
         "hoverlabel": {
          "namelength": 0
         },
         "hovertemplate": "County=Asotin County<br>WeekStartDate=%{x}<br>Age 20-39=%{y}",
         "legendgroup": "Asotin County",
         "marker": {
          "color": "#EF553B",
          "symbol": "circle"
         },
         "mode": "markers",
         "name": "Asotin County",
         "showlegend": true,
         "type": "scatter",
         "x": [
          "2020-03-15",
          "2020-03-29",
          "2020-04-05",
          "2020-04-12",
          "2020-04-19",
          "2020-05-17",
          "2020-05-31",
          "2020-06-21"
         ],
         "xaxis": "x",
         "y": [
          0,
          0,
          1,
          0,
          0,
          0,
          0,
          0
         ],
         "yaxis": "y"
        },
        {
         "hoverlabel": {
          "namelength": 0
         },
         "hovertemplate": "County=Benton County<br>WeekStartDate=%{x}<br>Age 20-39=%{y}",
         "legendgroup": "Benton County",
         "marker": {
          "color": "#00cc96",
          "symbol": "circle"
         },
         "mode": "markers",
         "name": "Benton County",
         "showlegend": true,
         "type": "scatter",
         "x": [
          "2020-02-16",
          "2020-03-01",
          "2020-03-08",
          "2020-03-15",
          "2020-03-22",
          "2020-03-29",
          "2020-04-05",
          "2020-04-12",
          "2020-04-19",
          "2020-04-26",
          "2020-05-03",
          "2020-05-10",
          "2020-05-17",
          "2020-05-24",
          "2020-05-31",
          "2020-06-07",
          "2020-06-14",
          "2020-06-21",
          "2020-06-28"
         ],
         "xaxis": "x",
         "y": [
          1,
          0,
          3,
          14,
          21,
          24,
          21,
          30,
          39,
          24,
          21,
          32,
          37,
          48,
          75,
          118,
          97,
          111,
          31
         ],
         "yaxis": "y"
        },
        {
         "hoverlabel": {
          "namelength": 0
         },
         "hovertemplate": "County=Chelan County<br>WeekStartDate=%{x}<br>Age 20-39=%{y}",
         "legendgroup": "Chelan County",
         "marker": {
          "color": "#ab63fa",
          "symbol": "circle"
         },
         "mode": "markers",
         "name": "Chelan County",
         "showlegend": true,
         "type": "scatter",
         "x": [
          "2020-02-09",
          "2020-03-08",
          "2020-03-15",
          "2020-03-22",
          "2020-03-29",
          "2020-04-05",
          "2020-04-12",
          "2020-04-19",
          "2020-04-26",
          "2020-05-03",
          "2020-05-10",
          "2020-05-17",
          "2020-05-24",
          "2020-05-31",
          "2020-06-07",
          "2020-06-14",
          "2020-06-21",
          "2020-06-28"
         ],
         "xaxis": "x",
         "y": [
          0,
          1,
          4,
          3,
          7,
          10,
          18,
          7,
          6,
          11,
          18,
          16,
          8,
          3,
          5,
          13,
          23,
          22
         ],
         "yaxis": "y"
        },
        {
         "hoverlabel": {
          "namelength": 0
         },
         "hovertemplate": "County=Clallam County<br>WeekStartDate=%{x}<br>Age 20-39=%{y}",
         "legendgroup": "Clallam County",
         "marker": {
          "color": "#FFA15A",
          "symbol": "circle"
         },
         "mode": "markers",
         "name": "Clallam County",
         "showlegend": true,
         "type": "scatter",
         "x": [
          "2020-03-01",
          "2020-03-08",
          "2020-03-15",
          "2020-03-29",
          "2020-04-05",
          "2020-04-19",
          "2020-04-26",
          "2020-05-10",
          "2020-05-17",
          "2020-05-24",
          "2020-05-31",
          "2020-06-07",
          "2020-06-14",
          "2020-06-21",
          "2020-06-28"
         ],
         "xaxis": "x",
         "y": [
          0,
          0,
          2,
          2,
          0,
          3,
          1,
          0,
          0,
          1,
          0,
          2,
          1,
          2,
          1
         ],
         "yaxis": "y"
        },
        {
         "hoverlabel": {
          "namelength": 0
         },
         "hovertemplate": "County=Clark County<br>WeekStartDate=%{x}<br>Age 20-39=%{y}",
         "legendgroup": "Clark County",
         "marker": {
          "color": "#19d3f3",
          "symbol": "circle"
         },
         "mode": "markers",
         "name": "Clark County",
         "showlegend": true,
         "type": "scatter",
         "x": [
          "2020-02-23",
          "2020-03-01",
          "2020-03-08",
          "2020-03-15",
          "2020-03-22",
          "2020-03-29",
          "2020-04-05",
          "2020-04-12",
          "2020-04-19",
          "2020-04-26",
          "2020-05-03",
          "2020-05-10",
          "2020-05-17",
          "2020-05-24",
          "2020-05-31",
          "2020-06-07",
          "2020-06-14",
          "2020-06-21",
          "2020-06-28"
         ],
         "xaxis": "x",
         "y": [
          0,
          0,
          3,
          10,
          21,
          11,
          19,
          8,
          3,
          6,
          8,
          8,
          33,
          26,
          20,
          18,
          30,
          79,
          32
         ],
         "yaxis": "y"
        },
        {
         "hoverlabel": {
          "namelength": 0
         },
         "hovertemplate": "County=Columbia County<br>WeekStartDate=%{x}<br>Age 20-39=%{y}",
         "legendgroup": "Columbia County",
         "marker": {
          "color": "#FF6692",
          "symbol": "circle"
         },
         "mode": "markers",
         "name": "Columbia County",
         "showlegend": true,
         "type": "scatter",
         "x": [
          "2020-03-01",
          "2020-06-07",
          "2020-06-14"
         ],
         "xaxis": "x",
         "y": [
          0,
          0,
          1
         ],
         "yaxis": "y"
        },
        {
         "hoverlabel": {
          "namelength": 0
         },
         "hovertemplate": "County=Cowlitz County<br>WeekStartDate=%{x}<br>Age 20-39=%{y}",
         "legendgroup": "Cowlitz County",
         "marker": {
          "color": "#B6E880",
          "symbol": "circle"
         },
         "mode": "markers",
         "name": "Cowlitz County",
         "showlegend": true,
         "type": "scatter",
         "x": [
          "2020-02-23",
          "2020-03-01",
          "2020-03-08",
          "2020-03-15",
          "2020-03-22",
          "2020-03-29",
          "2020-04-05",
          "2020-04-12",
          "2020-04-19",
          "2020-04-26",
          "2020-05-03",
          "2020-05-10",
          "2020-05-17",
          "2020-05-24",
          "2020-05-31",
          "2020-06-07",
          "2020-06-14",
          "2020-06-21",
          "2020-06-28"
         ],
         "xaxis": "x",
         "y": [
          0,
          0,
          2,
          3,
          2,
          1,
          0,
          2,
          3,
          6,
          1,
          2,
          0,
          0,
          18,
          11,
          15,
          9,
          8
         ],
         "yaxis": "y"
        },
        {
         "hoverlabel": {
          "namelength": 0
         },
         "hovertemplate": "County=Douglas County<br>WeekStartDate=%{x}<br>Age 20-39=%{y}",
         "legendgroup": "Douglas County",
         "marker": {
          "color": "#FF97FF",
          "symbol": "circle"
         },
         "mode": "markers",
         "name": "Douglas County",
         "showlegend": true,
         "type": "scatter",
         "x": [
          "2020-03-01",
          "2020-03-08",
          "2020-03-15",
          "2020-03-22",
          "2020-03-29",
          "2020-04-05",
          "2020-04-12",
          "2020-04-19",
          "2020-04-26",
          "2020-05-03",
          "2020-05-10",
          "2020-05-17",
          "2020-05-24",
          "2020-05-31",
          "2020-06-07",
          "2020-06-14",
          "2020-06-21",
          "2020-06-28"
         ],
         "xaxis": "x",
         "y": [
          0,
          0,
          0,
          1,
          6,
          4,
          31,
          6,
          7,
          10,
          6,
          5,
          4,
          1,
          2,
          7,
          16,
          14
         ],
         "yaxis": "y"
        },
        {
         "hoverlabel": {
          "namelength": 0
         },
         "hovertemplate": "County=Franklin County<br>WeekStartDate=%{x}<br>Age 20-39=%{y}",
         "legendgroup": "Franklin County",
         "marker": {
          "color": "#FECB52",
          "symbol": "circle"
         },
         "mode": "markers",
         "name": "Franklin County",
         "showlegend": true,
         "type": "scatter",
         "x": [
          "2020-02-09",
          "2020-02-23",
          "2020-03-01",
          "2020-03-08",
          "2020-03-15",
          "2020-03-22",
          "2020-03-29",
          "2020-04-05",
          "2020-04-12",
          "2020-04-19",
          "2020-04-26",
          "2020-05-03",
          "2020-05-10",
          "2020-05-17",
          "2020-05-24",
          "2020-05-31",
          "2020-06-07",
          "2020-06-14",
          "2020-06-21",
          "2020-06-28"
         ],
         "xaxis": "x",
         "y": [
          0,
          0,
          1,
          1,
          10,
          10,
          16,
          21,
          27,
          21,
          31,
          12,
          26,
          39,
          57,
          80,
          105,
          135,
          103,
          32
         ],
         "yaxis": "y"
        },
        {
         "hoverlabel": {
          "namelength": 0
         },
         "hovertemplate": "County=Grant County<br>WeekStartDate=%{x}<br>Age 20-39=%{y}",
         "legendgroup": "Grant County",
         "marker": {
          "color": "#636efa",
          "symbol": "circle"
         },
         "mode": "markers",
         "name": "Grant County",
         "showlegend": true,
         "type": "scatter",
         "x": [
          "2020-02-16",
          "2020-02-23",
          "2020-03-01",
          "2020-03-08",
          "2020-03-15",
          "2020-03-22",
          "2020-03-29",
          "2020-04-05",
          "2020-04-12",
          "2020-04-19",
          "2020-04-26",
          "2020-05-03",
          "2020-05-10",
          "2020-05-17",
          "2020-05-24",
          "2020-05-31",
          "2020-06-07",
          "2020-06-14",
          "2020-06-21",
          "2020-06-28"
         ],
         "xaxis": "x",
         "y": [
          0,
          0,
          1,
          12,
          8,
          9,
          11,
          8,
          4,
          7,
          12,
          0,
          1,
          9,
          13,
          9,
          33,
          47,
          29,
          9
         ],
         "yaxis": "y"
        },
        {
         "hoverlabel": {
          "namelength": 0
         },
         "hovertemplate": "County=Grays Harbor County<br>WeekStartDate=%{x}<br>Age 20-39=%{y}",
         "legendgroup": "Grays Harbor County",
         "marker": {
          "color": "#EF553B",
          "symbol": "circle"
         },
         "mode": "markers",
         "name": "Grays Harbor County",
         "showlegend": true,
         "type": "scatter",
         "x": [
          "2020-02-16",
          "2020-02-23",
          "2020-03-01",
          "2020-03-15",
          "2020-03-22",
          "2020-03-29",
          "2020-04-05",
          "2020-04-26",
          "2020-05-03",
          "2020-05-17",
          "2020-05-24",
          "2020-05-31",
          "2020-06-07",
          "2020-06-14",
          "2020-06-21",
          "2020-06-28"
         ],
         "xaxis": "x",
         "y": [
          0,
          0,
          0,
          0,
          1,
          0,
          0,
          0,
          0,
          1,
          1,
          2,
          0,
          0,
          1,
          1
         ],
         "yaxis": "y"
        },
        {
         "hoverlabel": {
          "namelength": 0
         },
         "hovertemplate": "County=Island County<br>WeekStartDate=%{x}<br>Age 20-39=%{y}",
         "legendgroup": "Island County",
         "marker": {
          "color": "#00cc96",
          "symbol": "circle"
         },
         "mode": "markers",
         "name": "Island County",
         "showlegend": true,
         "type": "scatter",
         "x": [
          "2020-02-23",
          "2020-03-01",
          "2020-03-08",
          "2020-03-15",
          "2020-03-22",
          "2020-03-29",
          "2020-04-05",
          "2020-04-12",
          "2020-04-19",
          "2020-04-26",
          "2020-05-03",
          "2020-05-10",
          "2020-05-24",
          "2020-06-07",
          "2020-06-14",
          "2020-06-21",
          "2020-06-28"
         ],
         "xaxis": "x",
         "y": [
          0,
          0,
          6,
          9,
          15,
          2,
          1,
          1,
          0,
          1,
          2,
          0,
          0,
          0,
          2,
          2,
          0
         ],
         "yaxis": "y"
        },
        {
         "hoverlabel": {
          "namelength": 0
         },
         "hovertemplate": "County=Jefferson County<br>WeekStartDate=%{x}<br>Age 20-39=%{y}",
         "legendgroup": "Jefferson County",
         "marker": {
          "color": "#ab63fa",
          "symbol": "circle"
         },
         "mode": "markers",
         "name": "Jefferson County",
         "showlegend": true,
         "type": "scatter",
         "x": [
          "2020-02-23",
          "2020-03-01",
          "2020-03-08",
          "2020-03-15",
          "2020-03-22",
          "2020-03-29",
          "2020-05-31",
          "2020-06-07",
          "2020-06-14",
          "2020-06-21",
          "2020-06-28"
         ],
         "xaxis": "x",
         "y": [
          0,
          2,
          3,
          2,
          0,
          0,
          0,
          0,
          1,
          0,
          0
         ],
         "yaxis": "y"
        },
        {
         "hoverlabel": {
          "namelength": 0
         },
         "hovertemplate": "County=King County<br>WeekStartDate=%{x}<br>Age 20-39=%{y}",
         "legendgroup": "King County",
         "marker": {
          "color": "#FFA15A",
          "symbol": "circle"
         },
         "mode": "markers",
         "name": "King County",
         "showlegend": true,
         "type": "scatter",
         "x": [
          "2020-02-02",
          "2020-02-09",
          "2020-02-16",
          "2020-02-23",
          "2020-03-01",
          "2020-03-08",
          "2020-03-15",
          "2020-03-22",
          "2020-03-29",
          "2020-04-05",
          "2020-04-12",
          "2020-04-19",
          "2020-04-26",
          "2020-05-03",
          "2020-05-10",
          "2020-05-17",
          "2020-05-24",
          "2020-05-31",
          "2020-06-07",
          "2020-06-14",
          "2020-06-21",
          "2020-06-28"
         ],
         "xaxis": "x",
         "y": [
          1,
          1,
          8,
          17,
          59,
          202,
          324,
          310,
          291,
          213,
          250,
          213,
          203,
          157,
          133,
          108,
          140,
          109,
          172,
          269,
          346,
          324
         ],
         "yaxis": "y"
        },
        {
         "hoverlabel": {
          "namelength": 0
         },
         "hovertemplate": "County=Kitsap County<br>WeekStartDate=%{x}<br>Age 20-39=%{y}",
         "legendgroup": "Kitsap County",
         "marker": {
          "color": "#19d3f3",
          "symbol": "circle"
         },
         "mode": "markers",
         "name": "Kitsap County",
         "showlegend": true,
         "type": "scatter",
         "x": [
          "2020-02-16",
          "2020-02-23",
          "2020-03-01",
          "2020-03-08",
          "2020-03-15",
          "2020-03-22",
          "2020-03-29",
          "2020-04-05",
          "2020-04-12",
          "2020-04-19",
          "2020-04-26",
          "2020-05-03",
          "2020-05-10",
          "2020-05-24",
          "2020-05-31",
          "2020-06-07",
          "2020-06-14",
          "2020-06-21",
          "2020-06-28"
         ],
         "xaxis": "x",
         "y": [
          1,
          0,
          1,
          5,
          7,
          10,
          11,
          2,
          4,
          2,
          1,
          0,
          4,
          1,
          4,
          4,
          9,
          8,
          4
         ],
         "yaxis": "y"
        },
        {
         "hoverlabel": {
          "namelength": 0
         },
         "hovertemplate": "County=Kittitas County<br>WeekStartDate=%{x}<br>Age 20-39=%{y}",
         "legendgroup": "Kittitas County",
         "marker": {
          "color": "#FF6692",
          "symbol": "circle"
         },
         "mode": "markers",
         "name": "Kittitas County",
         "showlegend": true,
         "type": "scatter",
         "x": [
          "2020-01-26",
          "2020-02-16",
          "2020-03-08",
          "2020-03-15",
          "2020-03-22",
          "2020-03-29",
          "2020-04-05",
          "2020-04-19",
          "2020-04-26",
          "2020-05-03",
          "2020-05-10",
          "2020-05-17",
          "2020-05-24",
          "2020-05-31",
          "2020-06-07",
          "2020-06-14",
          "2020-06-21",
          "2020-06-28"
         ],
         "xaxis": "x",
         "y": [
          0,
          0,
          0,
          2,
          1,
          1,
          0,
          1,
          1,
          17,
          5,
          4,
          3,
          1,
          3,
          5,
          18,
          1
         ],
         "yaxis": "y"
        },
        {
         "hoverlabel": {
          "namelength": 0
         },
         "hovertemplate": "County=Klickitat County<br>WeekStartDate=%{x}<br>Age 20-39=%{y}",
         "legendgroup": "Klickitat County",
         "marker": {
          "color": "#B6E880",
          "symbol": "circle"
         },
         "mode": "markers",
         "name": "Klickitat County",
         "showlegend": true,
         "type": "scatter",
         "x": [
          "2020-03-01",
          "2020-03-15",
          "2020-03-22",
          "2020-03-29",
          "2020-04-05",
          "2020-04-19",
          "2020-04-26",
          "2020-05-03",
          "2020-05-10",
          "2020-05-17",
          "2020-05-24",
          "2020-05-31",
          "2020-06-07",
          "2020-06-14",
          "2020-06-21",
          "2020-06-28"
         ],
         "xaxis": "x",
         "y": [
          0,
          0,
          1,
          0,
          1,
          0,
          1,
          0,
          0,
          1,
          1,
          7,
          3,
          0,
          3,
          0
         ],
         "yaxis": "y"
        },
        {
         "hoverlabel": {
          "namelength": 0
         },
         "hovertemplate": "County=Lewis County<br>WeekStartDate=%{x}<br>Age 20-39=%{y}",
         "legendgroup": "Lewis County",
         "marker": {
          "color": "#FF97FF",
          "symbol": "circle"
         },
         "mode": "markers",
         "name": "Lewis County",
         "showlegend": true,
         "type": "scatter",
         "x": [
          "2020-03-08",
          "2020-03-15",
          "2020-03-22",
          "2020-03-29",
          "2020-04-05",
          "2020-04-12",
          "2020-04-19",
          "2020-04-26",
          "2020-05-03",
          "2020-05-10",
          "2020-05-24",
          "2020-06-07",
          "2020-06-14",
          "2020-06-21",
          "2020-06-28"
         ],
         "xaxis": "x",
         "y": [
          1,
          2,
          1,
          0,
          1,
          1,
          0,
          0,
          0,
          1,
          1,
          1,
          11,
          5,
          1
         ],
         "yaxis": "y"
        },
        {
         "hoverlabel": {
          "namelength": 0
         },
         "hovertemplate": "County=Mason County<br>WeekStartDate=%{x}<br>Age 20-39=%{y}",
         "legendgroup": "Mason County",
         "marker": {
          "color": "#FECB52",
          "symbol": "circle"
         },
         "mode": "markers",
         "name": "Mason County",
         "showlegend": true,
         "type": "scatter",
         "x": [
          "2020-03-01",
          "2020-03-08",
          "2020-03-15",
          "2020-03-22",
          "2020-03-29",
          "2020-04-12",
          "2020-04-19",
          "2020-04-26",
          "2020-05-03",
          "2020-05-10",
          "2020-05-17",
          "2020-05-24",
          "2020-05-31",
          "2020-06-07",
          "2020-06-14",
          "2020-06-21",
          "2020-06-28"
         ],
         "xaxis": "x",
         "y": [
          0,
          0,
          1,
          0,
          1,
          0,
          2,
          2,
          1,
          1,
          1,
          0,
          0,
          0,
          2,
          3,
          0
         ],
         "yaxis": "y"
        },
        {
         "hoverlabel": {
          "namelength": 0
         },
         "hovertemplate": "County=Okanogan County<br>WeekStartDate=%{x}<br>Age 20-39=%{y}",
         "legendgroup": "Okanogan County",
         "marker": {
          "color": "#636efa",
          "symbol": "circle"
         },
         "mode": "markers",
         "name": "Okanogan County",
         "showlegend": true,
         "type": "scatter",
         "x": [
          "2020-03-08",
          "2020-03-15",
          "2020-03-22",
          "2020-03-29",
          "2020-04-05",
          "2020-04-12",
          "2020-04-19",
          "2020-04-26",
          "2020-05-03",
          "2020-05-10",
          "2020-05-17",
          "2020-05-24",
          "2020-05-31",
          "2020-06-07",
          "2020-06-14",
          "2020-06-21",
          "2020-06-28"
         ],
         "xaxis": "x",
         "y": [
          0,
          0,
          1,
          1,
          0,
          0,
          2,
          0,
          7,
          4,
          1,
          5,
          2,
          1,
          1,
          13,
          13
         ],
         "yaxis": "y"
        },
        {
         "hoverlabel": {
          "namelength": 0
         },
         "hovertemplate": "County=Pacific County<br>WeekStartDate=%{x}<br>Age 20-39=%{y}",
         "legendgroup": "Pacific County",
         "marker": {
          "color": "#EF553B",
          "symbol": "circle"
         },
         "mode": "markers",
         "name": "Pacific County",
         "showlegend": true,
         "type": "scatter",
         "x": [
          "2020-03-29",
          "2020-04-05",
          "2020-04-19",
          "2020-04-26",
          "2020-05-03",
          "2020-05-31",
          "2020-06-07",
          "2020-06-21"
         ],
         "xaxis": "x",
         "y": [
          1,
          0,
          0,
          0,
          1,
          0,
          2,
          3
         ],
         "yaxis": "y"
        },
        {
         "hoverlabel": {
          "namelength": 0
         },
         "hovertemplate": "County=Pend Oreille County<br>WeekStartDate=%{x}<br>Age 20-39=%{y}",
         "legendgroup": "Pend Oreille County",
         "marker": {
          "color": "#00cc96",
          "symbol": "circle"
         },
         "mode": "markers",
         "name": "Pend Oreille County",
         "showlegend": true,
         "type": "scatter",
         "x": [
          "2020-03-15",
          "2020-04-05",
          "2020-05-17",
          "2020-06-21",
          "2020-06-28"
         ],
         "xaxis": "x",
         "y": [
          0,
          0,
          1,
          0,
          0
         ],
         "yaxis": "y"
        },
        {
         "hoverlabel": {
          "namelength": 0
         },
         "hovertemplate": "County=Pierce County<br>WeekStartDate=%{x}<br>Age 20-39=%{y}",
         "legendgroup": "Pierce County",
         "marker": {
          "color": "#ab63fa",
          "symbol": "circle"
         },
         "mode": "markers",
         "name": "Pierce County",
         "showlegend": true,
         "type": "scatter",
         "x": [
          "2020-02-16",
          "2020-02-23",
          "2020-03-01",
          "2020-03-08",
          "2020-03-15",
          "2020-03-22",
          "2020-03-29",
          "2020-04-05",
          "2020-04-12",
          "2020-04-19",
          "2020-04-26",
          "2020-05-03",
          "2020-05-10",
          "2020-05-17",
          "2020-05-24",
          "2020-05-31",
          "2020-06-07",
          "2020-06-14",
          "2020-06-21",
          "2020-06-28"
         ],
         "xaxis": "x",
         "y": [
          1,
          1,
          7,
          26,
          67,
          61,
          87,
          55,
          52,
          50,
          57,
          47,
          33,
          27,
          39,
          37,
          51,
          97,
          129,
          112
         ],
         "yaxis": "y"
        },
        {
         "hoverlabel": {
          "namelength": 0
         },
         "hovertemplate": "County=San Juan County<br>WeekStartDate=%{x}<br>Age 20-39=%{y}",
         "legendgroup": "San Juan County",
         "marker": {
          "color": "#FFA15A",
          "symbol": "circle"
         },
         "mode": "markers",
         "name": "San Juan County",
         "showlegend": true,
         "type": "scatter",
         "x": [
          "2020-03-08",
          "2020-03-15",
          "2020-03-22",
          "2020-03-29",
          "2020-04-05",
          "2020-04-12",
          "2020-06-07",
          "2020-06-14",
          "2020-06-21"
         ],
         "xaxis": "x",
         "y": [
          0,
          0,
          0,
          0,
          0,
          0,
          1,
          0,
          1
         ],
         "yaxis": "y"
        },
        {
         "hoverlabel": {
          "namelength": 0
         },
         "hovertemplate": "County=Skagit County<br>WeekStartDate=%{x}<br>Age 20-39=%{y}",
         "legendgroup": "Skagit County",
         "marker": {
          "color": "#19d3f3",
          "symbol": "circle"
         },
         "mode": "markers",
         "name": "Skagit County",
         "showlegend": true,
         "type": "scatter",
         "x": [
          "2020-02-16",
          "2020-02-23",
          "2020-03-01",
          "2020-03-08",
          "2020-03-15",
          "2020-03-22",
          "2020-03-29",
          "2020-04-05",
          "2020-04-12",
          "2020-04-19",
          "2020-04-26",
          "2020-05-03",
          "2020-05-10",
          "2020-05-17",
          "2020-05-24",
          "2020-05-31",
          "2020-06-07",
          "2020-06-14",
          "2020-06-21",
          "2020-06-28"
         ],
         "xaxis": "x",
         "y": [
          0,
          1,
          3,
          8,
          9,
          13,
          8,
          13,
          17,
          25,
          19,
          9,
          2,
          2,
          7,
          5,
          8,
          11,
          10,
          8
         ],
         "yaxis": "y"
        },
        {
         "hoverlabel": {
          "namelength": 0
         },
         "hovertemplate": "County=Skamania County<br>WeekStartDate=%{x}<br>Age 20-39=%{y}",
         "legendgroup": "Skamania County",
         "marker": {
          "color": "#FF6692",
          "symbol": "circle"
         },
         "mode": "markers",
         "name": "Skamania County",
         "showlegend": true,
         "type": "scatter",
         "x": [
          "2020-03-22",
          "2020-04-05",
          "2020-06-14",
          "2020-06-21",
          "2020-06-28"
         ],
         "xaxis": "x",
         "y": [
          0,
          0,
          1,
          0,
          0
         ],
         "yaxis": "y"
        },
        {
         "hoverlabel": {
          "namelength": 0
         },
         "hovertemplate": "County=Snohomish County<br>WeekStartDate=%{x}<br>Age 20-39=%{y}",
         "legendgroup": "Snohomish County",
         "marker": {
          "color": "#B6E880",
          "symbol": "circle"
         },
         "mode": "markers",
         "name": "Snohomish County",
         "showlegend": true,
         "type": "scatter",
         "x": [
          "2020-01-16",
          "2020-01-26",
          "2020-02-02",
          "2020-02-09",
          "2020-02-16",
          "2020-02-23",
          "2020-03-01",
          "2020-03-08",
          "2020-03-15",
          "2020-03-22",
          "2020-03-29",
          "2020-04-05",
          "2020-04-12",
          "2020-04-19",
          "2020-04-26",
          "2020-05-03",
          "2020-05-10",
          "2020-05-17",
          "2020-05-24",
          "2020-05-31",
          "2020-06-07",
          "2020-06-14",
          "2020-06-21",
          "2020-06-28"
         ],
         "xaxis": "x",
         "y": [
          1,
          1,
          1,
          1,
          3,
          11,
          35,
          86,
          159,
          145,
          100,
          71,
          63,
          58,
          57,
          43,
          34,
          27,
          21,
          28,
          39,
          61,
          91,
          71
         ],
         "yaxis": "y"
        },
        {
         "hoverlabel": {
          "namelength": 0
         },
         "hovertemplate": "County=Spokane County<br>WeekStartDate=%{x}<br>Age 20-39=%{y}",
         "legendgroup": "Spokane County",
         "marker": {
          "color": "#FF97FF",
          "symbol": "circle"
         },
         "mode": "markers",
         "name": "Spokane County",
         "showlegend": true,
         "type": "scatter",
         "x": [
          "2020-02-16",
          "2020-02-23",
          "2020-03-01",
          "2020-03-08",
          "2020-03-15",
          "2020-03-22",
          "2020-03-29",
          "2020-04-05",
          "2020-04-12",
          "2020-04-19",
          "2020-04-26",
          "2020-05-03",
          "2020-05-10",
          "2020-05-17",
          "2020-05-24",
          "2020-05-31",
          "2020-06-07",
          "2020-06-14",
          "2020-06-21",
          "2020-06-28"
         ],
         "xaxis": "x",
         "y": [
          0,
          0,
          4,
          8,
          19,
          23,
          10,
          6,
          8,
          15,
          5,
          3,
          17,
          53,
          59,
          52,
          67,
          91,
          181,
          91
         ],
         "yaxis": "y"
        },
        {
         "hoverlabel": {
          "namelength": 0
         },
         "hovertemplate": "County=Stevens County<br>WeekStartDate=%{x}<br>Age 20-39=%{y}",
         "legendgroup": "Stevens County",
         "marker": {
          "color": "#FECB52",
          "symbol": "circle"
         },
         "mode": "markers",
         "name": "Stevens County",
         "showlegend": true,
         "type": "scatter",
         "x": [
          "2020-03-01",
          "2020-03-08",
          "2020-03-15",
          "2020-03-22",
          "2020-03-29",
          "2020-04-12",
          "2020-05-10",
          "2020-05-17",
          "2020-05-24",
          "2020-06-07",
          "2020-06-21",
          "2020-06-28"
         ],
         "xaxis": "x",
         "y": [
          0,
          0,
          0,
          0,
          0,
          0,
          0,
          0,
          0,
          0,
          0,
          0
         ],
         "yaxis": "y"
        },
        {
         "hoverlabel": {
          "namelength": 0
         },
         "hovertemplate": "County=Thurston County<br>WeekStartDate=%{x}<br>Age 20-39=%{y}",
         "legendgroup": "Thurston County",
         "marker": {
          "color": "#636efa",
          "symbol": "circle"
         },
         "mode": "markers",
         "name": "Thurston County",
         "showlegend": true,
         "type": "scatter",
         "x": [
          "2020-02-23",
          "2020-03-01",
          "2020-03-08",
          "2020-03-15",
          "2020-03-22",
          "2020-03-29",
          "2020-04-05",
          "2020-04-12",
          "2020-04-19",
          "2020-04-26",
          "2020-05-03",
          "2020-05-10",
          "2020-05-17",
          "2020-05-24",
          "2020-05-31",
          "2020-06-07",
          "2020-06-14",
          "2020-06-21",
          "2020-06-28"
         ],
         "xaxis": "x",
         "y": [
          0,
          0,
          4,
          1,
          6,
          6,
          4,
          2,
          1,
          0,
          2,
          0,
          1,
          5,
          7,
          7,
          9,
          21,
          13
         ],
         "yaxis": "y"
        },
        {
         "hoverlabel": {
          "namelength": 0
         },
         "hovertemplate": "County=Wahkiakum County<br>WeekStartDate=%{x}<br>Age 20-39=%{y}",
         "legendgroup": "Wahkiakum County",
         "marker": {
          "color": "#EF553B",
          "symbol": "circle"
         },
         "mode": "markers",
         "name": "Wahkiakum County",
         "showlegend": true,
         "type": "scatter",
         "x": [
          "2020-03-15",
          "2020-03-22",
          "2020-05-03",
          "2020-06-14"
         ],
         "xaxis": "x",
         "y": [
          0,
          0,
          0,
          0
         ],
         "yaxis": "y"
        },
        {
         "hoverlabel": {
          "namelength": 0
         },
         "hovertemplate": "County=Walla Walla County<br>WeekStartDate=%{x}<br>Age 20-39=%{y}",
         "legendgroup": "Walla Walla County",
         "marker": {
          "color": "#00cc96",
          "symbol": "circle"
         },
         "mode": "markers",
         "name": "Walla Walla County",
         "showlegend": true,
         "type": "scatter",
         "x": [
          "2020-03-08",
          "2020-03-15",
          "2020-03-22",
          "2020-03-29",
          "2020-04-05",
          "2020-04-12",
          "2020-04-19",
          "2020-04-26",
          "2020-05-03",
          "2020-05-10",
          "2020-05-17",
          "2020-05-24",
          "2020-05-31",
          "2020-06-07",
          "2020-06-14",
          "2020-06-21",
          "2020-06-28"
         ],
         "xaxis": "x",
         "y": [
          0,
          1,
          2,
          4,
          8,
          5,
          7,
          11,
          4,
          0,
          0,
          1,
          1,
          7,
          7,
          10,
          2
         ],
         "yaxis": "y"
        },
        {
         "hoverlabel": {
          "namelength": 0
         },
         "hovertemplate": "County=Whatcom County<br>WeekStartDate=%{x}<br>Age 20-39=%{y}",
         "legendgroup": "Whatcom County",
         "marker": {
          "color": "#ab63fa",
          "symbol": "circle"
         },
         "mode": "markers",
         "name": "Whatcom County",
         "showlegend": true,
         "type": "scatter",
         "x": [
          "2020-02-16",
          "2020-02-23",
          "2020-03-01",
          "2020-03-08",
          "2020-03-15",
          "2020-03-22",
          "2020-03-29",
          "2020-04-05",
          "2020-04-12",
          "2020-04-19",
          "2020-04-26",
          "2020-05-03",
          "2020-05-10",
          "2020-05-17",
          "2020-05-24",
          "2020-05-31",
          "2020-06-07",
          "2020-06-14",
          "2020-06-21",
          "2020-06-28"
         ],
         "xaxis": "x",
         "y": [
          0,
          0,
          0,
          8,
          22,
          20,
          15,
          4,
          6,
          4,
          13,
          3,
          10,
          10,
          7,
          15,
          20,
          28,
          26,
          14
         ],
         "yaxis": "y"
        },
        {
         "hoverlabel": {
          "namelength": 0
         },
         "hovertemplate": "County=Whitman County<br>WeekStartDate=%{x}<br>Age 20-39=%{y}",
         "legendgroup": "Whitman County",
         "marker": {
          "color": "#FFA15A",
          "symbol": "circle"
         },
         "mode": "markers",
         "name": "Whitman County",
         "showlegend": true,
         "type": "scatter",
         "x": [
          "2020-03-08",
          "2020-03-15",
          "2020-03-22",
          "2020-03-29",
          "2020-04-12",
          "2020-04-19",
          "2020-05-10",
          "2020-05-17",
          "2020-05-31",
          "2020-06-07",
          "2020-06-14",
          "2020-06-21",
          "2020-06-28"
         ],
         "xaxis": "x",
         "y": [
          1,
          1,
          0,
          2,
          2,
          1,
          2,
          2,
          2,
          1,
          1,
          2,
          1
         ],
         "yaxis": "y"
        },
        {
         "hoverlabel": {
          "namelength": 0
         },
         "hovertemplate": "County=Yakima County<br>WeekStartDate=%{x}<br>Age 20-39=%{y}",
         "legendgroup": "Yakima County",
         "marker": {
          "color": "#19d3f3",
          "symbol": "circle"
         },
         "mode": "markers",
         "name": "Yakima County",
         "showlegend": true,
         "type": "scatter",
         "x": [
          "2020-01-16",
          "2020-02-09",
          "2020-02-16",
          "2020-03-01",
          "2020-03-08",
          "2020-03-15",
          "2020-03-22",
          "2020-03-29",
          "2020-04-05",
          "2020-04-12",
          "2020-04-19",
          "2020-04-26",
          "2020-05-03",
          "2020-05-10",
          "2020-05-17",
          "2020-05-24",
          "2020-05-31",
          "2020-06-07",
          "2020-06-14",
          "2020-06-21",
          "2020-06-28"
         ],
         "xaxis": "x",
         "y": [
          1,
          1,
          0,
          0,
          10,
          32,
          41,
          61,
          81,
          88,
          103,
          140,
          206,
          277,
          299,
          324,
          409,
          321,
          318,
          225,
          88
         ],
         "yaxis": "y"
        },
        {
         "hoverlabel": {
          "namelength": 0
         },
         "hovertemplate": "County=Unassigned<br>WeekStartDate=%{x}<br>Age 20-39=%{y}",
         "legendgroup": "Unassigned",
         "marker": {
          "color": "#FF6692",
          "symbol": "circle"
         },
         "mode": "markers",
         "name": "Unassigned",
         "showlegend": true,
         "type": "scatter",
         "x": [
          "2020-04-12",
          "2020-04-19",
          "2020-05-10",
          "2020-05-17",
          "2020-05-24",
          "2020-05-31",
          "2020-06-07",
          "2020-06-14",
          "2020-06-21",
          "2020-06-28"
         ],
         "xaxis": "x",
         "y": [
          0,
          0,
          0,
          3,
          3,
          1,
          1,
          7,
          12,
          40
         ],
         "yaxis": "y"
        }
       ],
       "layout": {
        "legend": {
         "title": {
          "text": "County"
         },
         "tracegroupgap": 0
        },
        "margin": {
         "t": 60
        },
        "template": {
         "data": {
          "bar": [
           {
            "error_x": {
             "color": "#2a3f5f"
            },
            "error_y": {
             "color": "#2a3f5f"
            },
            "marker": {
             "line": {
              "color": "#E5ECF6",
              "width": 0.5
             }
            },
            "type": "bar"
           }
          ],
          "barpolar": [
           {
            "marker": {
             "line": {
              "color": "#E5ECF6",
              "width": 0.5
             }
            },
            "type": "barpolar"
           }
          ],
          "carpet": [
           {
            "aaxis": {
             "endlinecolor": "#2a3f5f",
             "gridcolor": "white",
             "linecolor": "white",
             "minorgridcolor": "white",
             "startlinecolor": "#2a3f5f"
            },
            "baxis": {
             "endlinecolor": "#2a3f5f",
             "gridcolor": "white",
             "linecolor": "white",
             "minorgridcolor": "white",
             "startlinecolor": "#2a3f5f"
            },
            "type": "carpet"
           }
          ],
          "choropleth": [
           {
            "colorbar": {
             "outlinewidth": 0,
             "ticks": ""
            },
            "type": "choropleth"
           }
          ],
          "contour": [
           {
            "colorbar": {
             "outlinewidth": 0,
             "ticks": ""
            },
            "colorscale": [
             [
              0,
              "#0d0887"
             ],
             [
              0.1111111111111111,
              "#46039f"
             ],
             [
              0.2222222222222222,
              "#7201a8"
             ],
             [
              0.3333333333333333,
              "#9c179e"
             ],
             [
              0.4444444444444444,
              "#bd3786"
             ],
             [
              0.5555555555555556,
              "#d8576b"
             ],
             [
              0.6666666666666666,
              "#ed7953"
             ],
             [
              0.7777777777777778,
              "#fb9f3a"
             ],
             [
              0.8888888888888888,
              "#fdca26"
             ],
             [
              1,
              "#f0f921"
             ]
            ],
            "type": "contour"
           }
          ],
          "contourcarpet": [
           {
            "colorbar": {
             "outlinewidth": 0,
             "ticks": ""
            },
            "type": "contourcarpet"
           }
          ],
          "heatmap": [
           {
            "colorbar": {
             "outlinewidth": 0,
             "ticks": ""
            },
            "colorscale": [
             [
              0,
              "#0d0887"
             ],
             [
              0.1111111111111111,
              "#46039f"
             ],
             [
              0.2222222222222222,
              "#7201a8"
             ],
             [
              0.3333333333333333,
              "#9c179e"
             ],
             [
              0.4444444444444444,
              "#bd3786"
             ],
             [
              0.5555555555555556,
              "#d8576b"
             ],
             [
              0.6666666666666666,
              "#ed7953"
             ],
             [
              0.7777777777777778,
              "#fb9f3a"
             ],
             [
              0.8888888888888888,
              "#fdca26"
             ],
             [
              1,
              "#f0f921"
             ]
            ],
            "type": "heatmap"
           }
          ],
          "heatmapgl": [
           {
            "colorbar": {
             "outlinewidth": 0,
             "ticks": ""
            },
            "colorscale": [
             [
              0,
              "#0d0887"
             ],
             [
              0.1111111111111111,
              "#46039f"
             ],
             [
              0.2222222222222222,
              "#7201a8"
             ],
             [
              0.3333333333333333,
              "#9c179e"
             ],
             [
              0.4444444444444444,
              "#bd3786"
             ],
             [
              0.5555555555555556,
              "#d8576b"
             ],
             [
              0.6666666666666666,
              "#ed7953"
             ],
             [
              0.7777777777777778,
              "#fb9f3a"
             ],
             [
              0.8888888888888888,
              "#fdca26"
             ],
             [
              1,
              "#f0f921"
             ]
            ],
            "type": "heatmapgl"
           }
          ],
          "histogram": [
           {
            "marker": {
             "colorbar": {
              "outlinewidth": 0,
              "ticks": ""
             }
            },
            "type": "histogram"
           }
          ],
          "histogram2d": [
           {
            "colorbar": {
             "outlinewidth": 0,
             "ticks": ""
            },
            "colorscale": [
             [
              0,
              "#0d0887"
             ],
             [
              0.1111111111111111,
              "#46039f"
             ],
             [
              0.2222222222222222,
              "#7201a8"
             ],
             [
              0.3333333333333333,
              "#9c179e"
             ],
             [
              0.4444444444444444,
              "#bd3786"
             ],
             [
              0.5555555555555556,
              "#d8576b"
             ],
             [
              0.6666666666666666,
              "#ed7953"
             ],
             [
              0.7777777777777778,
              "#fb9f3a"
             ],
             [
              0.8888888888888888,
              "#fdca26"
             ],
             [
              1,
              "#f0f921"
             ]
            ],
            "type": "histogram2d"
           }
          ],
          "histogram2dcontour": [
           {
            "colorbar": {
             "outlinewidth": 0,
             "ticks": ""
            },
            "colorscale": [
             [
              0,
              "#0d0887"
             ],
             [
              0.1111111111111111,
              "#46039f"
             ],
             [
              0.2222222222222222,
              "#7201a8"
             ],
             [
              0.3333333333333333,
              "#9c179e"
             ],
             [
              0.4444444444444444,
              "#bd3786"
             ],
             [
              0.5555555555555556,
              "#d8576b"
             ],
             [
              0.6666666666666666,
              "#ed7953"
             ],
             [
              0.7777777777777778,
              "#fb9f3a"
             ],
             [
              0.8888888888888888,
              "#fdca26"
             ],
             [
              1,
              "#f0f921"
             ]
            ],
            "type": "histogram2dcontour"
           }
          ],
          "mesh3d": [
           {
            "colorbar": {
             "outlinewidth": 0,
             "ticks": ""
            },
            "type": "mesh3d"
           }
          ],
          "parcoords": [
           {
            "line": {
             "colorbar": {
              "outlinewidth": 0,
              "ticks": ""
             }
            },
            "type": "parcoords"
           }
          ],
          "pie": [
           {
            "automargin": true,
            "type": "pie"
           }
          ],
          "scatter": [
           {
            "marker": {
             "colorbar": {
              "outlinewidth": 0,
              "ticks": ""
             }
            },
            "type": "scatter"
           }
          ],
          "scatter3d": [
           {
            "line": {
             "colorbar": {
              "outlinewidth": 0,
              "ticks": ""
             }
            },
            "marker": {
             "colorbar": {
              "outlinewidth": 0,
              "ticks": ""
             }
            },
            "type": "scatter3d"
           }
          ],
          "scattercarpet": [
           {
            "marker": {
             "colorbar": {
              "outlinewidth": 0,
              "ticks": ""
             }
            },
            "type": "scattercarpet"
           }
          ],
          "scattergeo": [
           {
            "marker": {
             "colorbar": {
              "outlinewidth": 0,
              "ticks": ""
             }
            },
            "type": "scattergeo"
           }
          ],
          "scattergl": [
           {
            "marker": {
             "colorbar": {
              "outlinewidth": 0,
              "ticks": ""
             }
            },
            "type": "scattergl"
           }
          ],
          "scattermapbox": [
           {
            "marker": {
             "colorbar": {
              "outlinewidth": 0,
              "ticks": ""
             }
            },
            "type": "scattermapbox"
           }
          ],
          "scatterpolar": [
           {
            "marker": {
             "colorbar": {
              "outlinewidth": 0,
              "ticks": ""
             }
            },
            "type": "scatterpolar"
           }
          ],
          "scatterpolargl": [
           {
            "marker": {
             "colorbar": {
              "outlinewidth": 0,
              "ticks": ""
             }
            },
            "type": "scatterpolargl"
           }
          ],
          "scatterternary": [
           {
            "marker": {
             "colorbar": {
              "outlinewidth": 0,
              "ticks": ""
             }
            },
            "type": "scatterternary"
           }
          ],
          "surface": [
           {
            "colorbar": {
             "outlinewidth": 0,
             "ticks": ""
            },
            "colorscale": [
             [
              0,
              "#0d0887"
             ],
             [
              0.1111111111111111,
              "#46039f"
             ],
             [
              0.2222222222222222,
              "#7201a8"
             ],
             [
              0.3333333333333333,
              "#9c179e"
             ],
             [
              0.4444444444444444,
              "#bd3786"
             ],
             [
              0.5555555555555556,
              "#d8576b"
             ],
             [
              0.6666666666666666,
              "#ed7953"
             ],
             [
              0.7777777777777778,
              "#fb9f3a"
             ],
             [
              0.8888888888888888,
              "#fdca26"
             ],
             [
              1,
              "#f0f921"
             ]
            ],
            "type": "surface"
           }
          ],
          "table": [
           {
            "cells": {
             "fill": {
              "color": "#EBF0F8"
             },
             "line": {
              "color": "white"
             }
            },
            "header": {
             "fill": {
              "color": "#C8D4E3"
             },
             "line": {
              "color": "white"
             }
            },
            "type": "table"
           }
          ]
         },
         "layout": {
          "annotationdefaults": {
           "arrowcolor": "#2a3f5f",
           "arrowhead": 0,
           "arrowwidth": 1
          },
          "coloraxis": {
           "colorbar": {
            "outlinewidth": 0,
            "ticks": ""
           }
          },
          "colorscale": {
           "diverging": [
            [
             0,
             "#8e0152"
            ],
            [
             0.1,
             "#c51b7d"
            ],
            [
             0.2,
             "#de77ae"
            ],
            [
             0.3,
             "#f1b6da"
            ],
            [
             0.4,
             "#fde0ef"
            ],
            [
             0.5,
             "#f7f7f7"
            ],
            [
             0.6,
             "#e6f5d0"
            ],
            [
             0.7,
             "#b8e186"
            ],
            [
             0.8,
             "#7fbc41"
            ],
            [
             0.9,
             "#4d9221"
            ],
            [
             1,
             "#276419"
            ]
           ],
           "sequential": [
            [
             0,
             "#0d0887"
            ],
            [
             0.1111111111111111,
             "#46039f"
            ],
            [
             0.2222222222222222,
             "#7201a8"
            ],
            [
             0.3333333333333333,
             "#9c179e"
            ],
            [
             0.4444444444444444,
             "#bd3786"
            ],
            [
             0.5555555555555556,
             "#d8576b"
            ],
            [
             0.6666666666666666,
             "#ed7953"
            ],
            [
             0.7777777777777778,
             "#fb9f3a"
            ],
            [
             0.8888888888888888,
             "#fdca26"
            ],
            [
             1,
             "#f0f921"
            ]
           ],
           "sequentialminus": [
            [
             0,
             "#0d0887"
            ],
            [
             0.1111111111111111,
             "#46039f"
            ],
            [
             0.2222222222222222,
             "#7201a8"
            ],
            [
             0.3333333333333333,
             "#9c179e"
            ],
            [
             0.4444444444444444,
             "#bd3786"
            ],
            [
             0.5555555555555556,
             "#d8576b"
            ],
            [
             0.6666666666666666,
             "#ed7953"
            ],
            [
             0.7777777777777778,
             "#fb9f3a"
            ],
            [
             0.8888888888888888,
             "#fdca26"
            ],
            [
             1,
             "#f0f921"
            ]
           ]
          },
          "colorway": [
           "#636efa",
           "#EF553B",
           "#00cc96",
           "#ab63fa",
           "#FFA15A",
           "#19d3f3",
           "#FF6692",
           "#B6E880",
           "#FF97FF",
           "#FECB52"
          ],
          "font": {
           "color": "#2a3f5f"
          },
          "geo": {
           "bgcolor": "white",
           "lakecolor": "white",
           "landcolor": "#E5ECF6",
           "showlakes": true,
           "showland": true,
           "subunitcolor": "white"
          },
          "hoverlabel": {
           "align": "left"
          },
          "hovermode": "closest",
          "mapbox": {
           "style": "light"
          },
          "paper_bgcolor": "white",
          "plot_bgcolor": "#E5ECF6",
          "polar": {
           "angularaxis": {
            "gridcolor": "white",
            "linecolor": "white",
            "ticks": ""
           },
           "bgcolor": "#E5ECF6",
           "radialaxis": {
            "gridcolor": "white",
            "linecolor": "white",
            "ticks": ""
           }
          },
          "scene": {
           "xaxis": {
            "backgroundcolor": "#E5ECF6",
            "gridcolor": "white",
            "gridwidth": 2,
            "linecolor": "white",
            "showbackground": true,
            "ticks": "",
            "zerolinecolor": "white"
           },
           "yaxis": {
            "backgroundcolor": "#E5ECF6",
            "gridcolor": "white",
            "gridwidth": 2,
            "linecolor": "white",
            "showbackground": true,
            "ticks": "",
            "zerolinecolor": "white"
           },
           "zaxis": {
            "backgroundcolor": "#E5ECF6",
            "gridcolor": "white",
            "gridwidth": 2,
            "linecolor": "white",
            "showbackground": true,
            "ticks": "",
            "zerolinecolor": "white"
           }
          },
          "shapedefaults": {
           "line": {
            "color": "#2a3f5f"
           }
          },
          "ternary": {
           "aaxis": {
            "gridcolor": "white",
            "linecolor": "white",
            "ticks": ""
           },
           "baxis": {
            "gridcolor": "white",
            "linecolor": "white",
            "ticks": ""
           },
           "bgcolor": "#E5ECF6",
           "caxis": {
            "gridcolor": "white",
            "linecolor": "white",
            "ticks": ""
           }
          },
          "title": {
           "x": 0.05
          },
          "xaxis": {
           "automargin": true,
           "gridcolor": "white",
           "linecolor": "white",
           "ticks": "",
           "title": {
            "standoff": 15
           },
           "zerolinecolor": "white",
           "zerolinewidth": 2
          },
          "yaxis": {
           "automargin": true,
           "gridcolor": "white",
           "linecolor": "white",
           "ticks": "",
           "title": {
            "standoff": 15
           },
           "zerolinecolor": "white",
           "zerolinewidth": 2
          }
         }
        },
        "xaxis": {
         "anchor": "y",
         "domain": [
          0,
          1
         ],
         "title": {
          "text": "WeekStartDate"
         }
        },
        "yaxis": {
         "anchor": "x",
         "domain": [
          0,
          1
         ],
         "title": {
          "text": "Age 20-39"
         }
        }
       }
      },
      "text/html": [
       "<div>\n",
       "        \n",
       "        \n",
       "            <div id=\"bddcd726-8f83-4e9b-873d-6b177b9abec1\" class=\"plotly-graph-div\" style=\"height:525px; width:100%;\"></div>\n",
       "            <script type=\"text/javascript\">\n",
       "                require([\"plotly\"], function(Plotly) {\n",
       "                    window.PLOTLYENV=window.PLOTLYENV || {};\n",
       "                    \n",
       "                if (document.getElementById(\"bddcd726-8f83-4e9b-873d-6b177b9abec1\")) {\n",
       "                    Plotly.newPlot(\n",
       "                        'bddcd726-8f83-4e9b-873d-6b177b9abec1',\n",
       "                        [{\"hoverlabel\": {\"namelength\": 0}, \"hovertemplate\": \"County=Adams County<br>WeekStartDate=%{x}<br>Age 20-39=%{y}\", \"legendgroup\": \"Adams County\", \"marker\": {\"color\": \"#636efa\", \"symbol\": \"circle\"}, \"mode\": \"markers\", \"name\": \"Adams County\", \"showlegend\": true, \"type\": \"scatter\", \"x\": [\"2020-03-08\", \"2020-03-15\", \"2020-03-22\", \"2020-03-29\", \"2020-04-05\", \"2020-04-12\", \"2020-04-19\", \"2020-04-26\", \"2020-05-03\", \"2020-05-10\", \"2020-05-17\", \"2020-05-24\", \"2020-05-31\", \"2020-06-07\", \"2020-06-14\", \"2020-06-21\", \"2020-06-28\"], \"xaxis\": \"x\", \"y\": [1, 0, 1, 8, 2, 1, 4, 1, 0, 1, 1, 9, 6, 1, 4, 15, 8], \"yaxis\": \"y\"}, {\"hoverlabel\": {\"namelength\": 0}, \"hovertemplate\": \"County=Asotin County<br>WeekStartDate=%{x}<br>Age 20-39=%{y}\", \"legendgroup\": \"Asotin County\", \"marker\": {\"color\": \"#EF553B\", \"symbol\": \"circle\"}, \"mode\": \"markers\", \"name\": \"Asotin County\", \"showlegend\": true, \"type\": \"scatter\", \"x\": [\"2020-03-15\", \"2020-03-29\", \"2020-04-05\", \"2020-04-12\", \"2020-04-19\", \"2020-05-17\", \"2020-05-31\", \"2020-06-21\"], \"xaxis\": \"x\", \"y\": [0, 0, 1, 0, 0, 0, 0, 0], \"yaxis\": \"y\"}, {\"hoverlabel\": {\"namelength\": 0}, \"hovertemplate\": \"County=Benton County<br>WeekStartDate=%{x}<br>Age 20-39=%{y}\", \"legendgroup\": \"Benton County\", \"marker\": {\"color\": \"#00cc96\", \"symbol\": \"circle\"}, \"mode\": \"markers\", \"name\": \"Benton County\", \"showlegend\": true, \"type\": \"scatter\", \"x\": [\"2020-02-16\", \"2020-03-01\", \"2020-03-08\", \"2020-03-15\", \"2020-03-22\", \"2020-03-29\", \"2020-04-05\", \"2020-04-12\", \"2020-04-19\", \"2020-04-26\", \"2020-05-03\", \"2020-05-10\", \"2020-05-17\", \"2020-05-24\", \"2020-05-31\", \"2020-06-07\", \"2020-06-14\", \"2020-06-21\", \"2020-06-28\"], \"xaxis\": \"x\", \"y\": [1, 0, 3, 14, 21, 24, 21, 30, 39, 24, 21, 32, 37, 48, 75, 118, 97, 111, 31], \"yaxis\": \"y\"}, {\"hoverlabel\": {\"namelength\": 0}, \"hovertemplate\": \"County=Chelan County<br>WeekStartDate=%{x}<br>Age 20-39=%{y}\", \"legendgroup\": \"Chelan County\", \"marker\": {\"color\": \"#ab63fa\", \"symbol\": \"circle\"}, \"mode\": \"markers\", \"name\": \"Chelan County\", \"showlegend\": true, \"type\": \"scatter\", \"x\": [\"2020-02-09\", \"2020-03-08\", \"2020-03-15\", \"2020-03-22\", \"2020-03-29\", \"2020-04-05\", \"2020-04-12\", \"2020-04-19\", \"2020-04-26\", \"2020-05-03\", \"2020-05-10\", \"2020-05-17\", \"2020-05-24\", \"2020-05-31\", \"2020-06-07\", \"2020-06-14\", \"2020-06-21\", \"2020-06-28\"], \"xaxis\": \"x\", \"y\": [0, 1, 4, 3, 7, 10, 18, 7, 6, 11, 18, 16, 8, 3, 5, 13, 23, 22], \"yaxis\": \"y\"}, {\"hoverlabel\": {\"namelength\": 0}, \"hovertemplate\": \"County=Clallam County<br>WeekStartDate=%{x}<br>Age 20-39=%{y}\", \"legendgroup\": \"Clallam County\", \"marker\": {\"color\": \"#FFA15A\", \"symbol\": \"circle\"}, \"mode\": \"markers\", \"name\": \"Clallam County\", \"showlegend\": true, \"type\": \"scatter\", \"x\": [\"2020-03-01\", \"2020-03-08\", \"2020-03-15\", \"2020-03-29\", \"2020-04-05\", \"2020-04-19\", \"2020-04-26\", \"2020-05-10\", \"2020-05-17\", \"2020-05-24\", \"2020-05-31\", \"2020-06-07\", \"2020-06-14\", \"2020-06-21\", \"2020-06-28\"], \"xaxis\": \"x\", \"y\": [0, 0, 2, 2, 0, 3, 1, 0, 0, 1, 0, 2, 1, 2, 1], \"yaxis\": \"y\"}, {\"hoverlabel\": {\"namelength\": 0}, \"hovertemplate\": \"County=Clark County<br>WeekStartDate=%{x}<br>Age 20-39=%{y}\", \"legendgroup\": \"Clark County\", \"marker\": {\"color\": \"#19d3f3\", \"symbol\": \"circle\"}, \"mode\": \"markers\", \"name\": \"Clark County\", \"showlegend\": true, \"type\": \"scatter\", \"x\": [\"2020-02-23\", \"2020-03-01\", \"2020-03-08\", \"2020-03-15\", \"2020-03-22\", \"2020-03-29\", \"2020-04-05\", \"2020-04-12\", \"2020-04-19\", \"2020-04-26\", \"2020-05-03\", \"2020-05-10\", \"2020-05-17\", \"2020-05-24\", \"2020-05-31\", \"2020-06-07\", \"2020-06-14\", \"2020-06-21\", \"2020-06-28\"], \"xaxis\": \"x\", \"y\": [0, 0, 3, 10, 21, 11, 19, 8, 3, 6, 8, 8, 33, 26, 20, 18, 30, 79, 32], \"yaxis\": \"y\"}, {\"hoverlabel\": {\"namelength\": 0}, \"hovertemplate\": \"County=Columbia County<br>WeekStartDate=%{x}<br>Age 20-39=%{y}\", \"legendgroup\": \"Columbia County\", \"marker\": {\"color\": \"#FF6692\", \"symbol\": \"circle\"}, \"mode\": \"markers\", \"name\": \"Columbia County\", \"showlegend\": true, \"type\": \"scatter\", \"x\": [\"2020-03-01\", \"2020-06-07\", \"2020-06-14\"], \"xaxis\": \"x\", \"y\": [0, 0, 1], \"yaxis\": \"y\"}, {\"hoverlabel\": {\"namelength\": 0}, \"hovertemplate\": \"County=Cowlitz County<br>WeekStartDate=%{x}<br>Age 20-39=%{y}\", \"legendgroup\": \"Cowlitz County\", \"marker\": {\"color\": \"#B6E880\", \"symbol\": \"circle\"}, \"mode\": \"markers\", \"name\": \"Cowlitz County\", \"showlegend\": true, \"type\": \"scatter\", \"x\": [\"2020-02-23\", \"2020-03-01\", \"2020-03-08\", \"2020-03-15\", \"2020-03-22\", \"2020-03-29\", \"2020-04-05\", \"2020-04-12\", \"2020-04-19\", \"2020-04-26\", \"2020-05-03\", \"2020-05-10\", \"2020-05-17\", \"2020-05-24\", \"2020-05-31\", \"2020-06-07\", \"2020-06-14\", \"2020-06-21\", \"2020-06-28\"], \"xaxis\": \"x\", \"y\": [0, 0, 2, 3, 2, 1, 0, 2, 3, 6, 1, 2, 0, 0, 18, 11, 15, 9, 8], \"yaxis\": \"y\"}, {\"hoverlabel\": {\"namelength\": 0}, \"hovertemplate\": \"County=Douglas County<br>WeekStartDate=%{x}<br>Age 20-39=%{y}\", \"legendgroup\": \"Douglas County\", \"marker\": {\"color\": \"#FF97FF\", \"symbol\": \"circle\"}, \"mode\": \"markers\", \"name\": \"Douglas County\", \"showlegend\": true, \"type\": \"scatter\", \"x\": [\"2020-03-01\", \"2020-03-08\", \"2020-03-15\", \"2020-03-22\", \"2020-03-29\", \"2020-04-05\", \"2020-04-12\", \"2020-04-19\", \"2020-04-26\", \"2020-05-03\", \"2020-05-10\", \"2020-05-17\", \"2020-05-24\", \"2020-05-31\", \"2020-06-07\", \"2020-06-14\", \"2020-06-21\", \"2020-06-28\"], \"xaxis\": \"x\", \"y\": [0, 0, 0, 1, 6, 4, 31, 6, 7, 10, 6, 5, 4, 1, 2, 7, 16, 14], \"yaxis\": \"y\"}, {\"hoverlabel\": {\"namelength\": 0}, \"hovertemplate\": \"County=Franklin County<br>WeekStartDate=%{x}<br>Age 20-39=%{y}\", \"legendgroup\": \"Franklin County\", \"marker\": {\"color\": \"#FECB52\", \"symbol\": \"circle\"}, \"mode\": \"markers\", \"name\": \"Franklin County\", \"showlegend\": true, \"type\": \"scatter\", \"x\": [\"2020-02-09\", \"2020-02-23\", \"2020-03-01\", \"2020-03-08\", \"2020-03-15\", \"2020-03-22\", \"2020-03-29\", \"2020-04-05\", \"2020-04-12\", \"2020-04-19\", \"2020-04-26\", \"2020-05-03\", \"2020-05-10\", \"2020-05-17\", \"2020-05-24\", \"2020-05-31\", \"2020-06-07\", \"2020-06-14\", \"2020-06-21\", \"2020-06-28\"], \"xaxis\": \"x\", \"y\": [0, 0, 1, 1, 10, 10, 16, 21, 27, 21, 31, 12, 26, 39, 57, 80, 105, 135, 103, 32], \"yaxis\": \"y\"}, {\"hoverlabel\": {\"namelength\": 0}, \"hovertemplate\": \"County=Grant County<br>WeekStartDate=%{x}<br>Age 20-39=%{y}\", \"legendgroup\": \"Grant County\", \"marker\": {\"color\": \"#636efa\", \"symbol\": \"circle\"}, \"mode\": \"markers\", \"name\": \"Grant County\", \"showlegend\": true, \"type\": \"scatter\", \"x\": [\"2020-02-16\", \"2020-02-23\", \"2020-03-01\", \"2020-03-08\", \"2020-03-15\", \"2020-03-22\", \"2020-03-29\", \"2020-04-05\", \"2020-04-12\", \"2020-04-19\", \"2020-04-26\", \"2020-05-03\", \"2020-05-10\", \"2020-05-17\", \"2020-05-24\", \"2020-05-31\", \"2020-06-07\", \"2020-06-14\", \"2020-06-21\", \"2020-06-28\"], \"xaxis\": \"x\", \"y\": [0, 0, 1, 12, 8, 9, 11, 8, 4, 7, 12, 0, 1, 9, 13, 9, 33, 47, 29, 9], \"yaxis\": \"y\"}, {\"hoverlabel\": {\"namelength\": 0}, \"hovertemplate\": \"County=Grays Harbor County<br>WeekStartDate=%{x}<br>Age 20-39=%{y}\", \"legendgroup\": \"Grays Harbor County\", \"marker\": {\"color\": \"#EF553B\", \"symbol\": \"circle\"}, \"mode\": \"markers\", \"name\": \"Grays Harbor County\", \"showlegend\": true, \"type\": \"scatter\", \"x\": [\"2020-02-16\", \"2020-02-23\", \"2020-03-01\", \"2020-03-15\", \"2020-03-22\", \"2020-03-29\", \"2020-04-05\", \"2020-04-26\", \"2020-05-03\", \"2020-05-17\", \"2020-05-24\", \"2020-05-31\", \"2020-06-07\", \"2020-06-14\", \"2020-06-21\", \"2020-06-28\"], \"xaxis\": \"x\", \"y\": [0, 0, 0, 0, 1, 0, 0, 0, 0, 1, 1, 2, 0, 0, 1, 1], \"yaxis\": \"y\"}, {\"hoverlabel\": {\"namelength\": 0}, \"hovertemplate\": \"County=Island County<br>WeekStartDate=%{x}<br>Age 20-39=%{y}\", \"legendgroup\": \"Island County\", \"marker\": {\"color\": \"#00cc96\", \"symbol\": \"circle\"}, \"mode\": \"markers\", \"name\": \"Island County\", \"showlegend\": true, \"type\": \"scatter\", \"x\": [\"2020-02-23\", \"2020-03-01\", \"2020-03-08\", \"2020-03-15\", \"2020-03-22\", \"2020-03-29\", \"2020-04-05\", \"2020-04-12\", \"2020-04-19\", \"2020-04-26\", \"2020-05-03\", \"2020-05-10\", \"2020-05-24\", \"2020-06-07\", \"2020-06-14\", \"2020-06-21\", \"2020-06-28\"], \"xaxis\": \"x\", \"y\": [0, 0, 6, 9, 15, 2, 1, 1, 0, 1, 2, 0, 0, 0, 2, 2, 0], \"yaxis\": \"y\"}, {\"hoverlabel\": {\"namelength\": 0}, \"hovertemplate\": \"County=Jefferson County<br>WeekStartDate=%{x}<br>Age 20-39=%{y}\", \"legendgroup\": \"Jefferson County\", \"marker\": {\"color\": \"#ab63fa\", \"symbol\": \"circle\"}, \"mode\": \"markers\", \"name\": \"Jefferson County\", \"showlegend\": true, \"type\": \"scatter\", \"x\": [\"2020-02-23\", \"2020-03-01\", \"2020-03-08\", \"2020-03-15\", \"2020-03-22\", \"2020-03-29\", \"2020-05-31\", \"2020-06-07\", \"2020-06-14\", \"2020-06-21\", \"2020-06-28\"], \"xaxis\": \"x\", \"y\": [0, 2, 3, 2, 0, 0, 0, 0, 1, 0, 0], \"yaxis\": \"y\"}, {\"hoverlabel\": {\"namelength\": 0}, \"hovertemplate\": \"County=King County<br>WeekStartDate=%{x}<br>Age 20-39=%{y}\", \"legendgroup\": \"King County\", \"marker\": {\"color\": \"#FFA15A\", \"symbol\": \"circle\"}, \"mode\": \"markers\", \"name\": \"King County\", \"showlegend\": true, \"type\": \"scatter\", \"x\": [\"2020-02-02\", \"2020-02-09\", \"2020-02-16\", \"2020-02-23\", \"2020-03-01\", \"2020-03-08\", \"2020-03-15\", \"2020-03-22\", \"2020-03-29\", \"2020-04-05\", \"2020-04-12\", \"2020-04-19\", \"2020-04-26\", \"2020-05-03\", \"2020-05-10\", \"2020-05-17\", \"2020-05-24\", \"2020-05-31\", \"2020-06-07\", \"2020-06-14\", \"2020-06-21\", \"2020-06-28\"], \"xaxis\": \"x\", \"y\": [1, 1, 8, 17, 59, 202, 324, 310, 291, 213, 250, 213, 203, 157, 133, 108, 140, 109, 172, 269, 346, 324], \"yaxis\": \"y\"}, {\"hoverlabel\": {\"namelength\": 0}, \"hovertemplate\": \"County=Kitsap County<br>WeekStartDate=%{x}<br>Age 20-39=%{y}\", \"legendgroup\": \"Kitsap County\", \"marker\": {\"color\": \"#19d3f3\", \"symbol\": \"circle\"}, \"mode\": \"markers\", \"name\": \"Kitsap County\", \"showlegend\": true, \"type\": \"scatter\", \"x\": [\"2020-02-16\", \"2020-02-23\", \"2020-03-01\", \"2020-03-08\", \"2020-03-15\", \"2020-03-22\", \"2020-03-29\", \"2020-04-05\", \"2020-04-12\", \"2020-04-19\", \"2020-04-26\", \"2020-05-03\", \"2020-05-10\", \"2020-05-24\", \"2020-05-31\", \"2020-06-07\", \"2020-06-14\", \"2020-06-21\", \"2020-06-28\"], \"xaxis\": \"x\", \"y\": [1, 0, 1, 5, 7, 10, 11, 2, 4, 2, 1, 0, 4, 1, 4, 4, 9, 8, 4], \"yaxis\": \"y\"}, {\"hoverlabel\": {\"namelength\": 0}, \"hovertemplate\": \"County=Kittitas County<br>WeekStartDate=%{x}<br>Age 20-39=%{y}\", \"legendgroup\": \"Kittitas County\", \"marker\": {\"color\": \"#FF6692\", \"symbol\": \"circle\"}, \"mode\": \"markers\", \"name\": \"Kittitas County\", \"showlegend\": true, \"type\": \"scatter\", \"x\": [\"2020-01-26\", \"2020-02-16\", \"2020-03-08\", \"2020-03-15\", \"2020-03-22\", \"2020-03-29\", \"2020-04-05\", \"2020-04-19\", \"2020-04-26\", \"2020-05-03\", \"2020-05-10\", \"2020-05-17\", \"2020-05-24\", \"2020-05-31\", \"2020-06-07\", \"2020-06-14\", \"2020-06-21\", \"2020-06-28\"], \"xaxis\": \"x\", \"y\": [0, 0, 0, 2, 1, 1, 0, 1, 1, 17, 5, 4, 3, 1, 3, 5, 18, 1], \"yaxis\": \"y\"}, {\"hoverlabel\": {\"namelength\": 0}, \"hovertemplate\": \"County=Klickitat County<br>WeekStartDate=%{x}<br>Age 20-39=%{y}\", \"legendgroup\": \"Klickitat County\", \"marker\": {\"color\": \"#B6E880\", \"symbol\": \"circle\"}, \"mode\": \"markers\", \"name\": \"Klickitat County\", \"showlegend\": true, \"type\": \"scatter\", \"x\": [\"2020-03-01\", \"2020-03-15\", \"2020-03-22\", \"2020-03-29\", \"2020-04-05\", \"2020-04-19\", \"2020-04-26\", \"2020-05-03\", \"2020-05-10\", \"2020-05-17\", \"2020-05-24\", \"2020-05-31\", \"2020-06-07\", \"2020-06-14\", \"2020-06-21\", \"2020-06-28\"], \"xaxis\": \"x\", \"y\": [0, 0, 1, 0, 1, 0, 1, 0, 0, 1, 1, 7, 3, 0, 3, 0], \"yaxis\": \"y\"}, {\"hoverlabel\": {\"namelength\": 0}, \"hovertemplate\": \"County=Lewis County<br>WeekStartDate=%{x}<br>Age 20-39=%{y}\", \"legendgroup\": \"Lewis County\", \"marker\": {\"color\": \"#FF97FF\", \"symbol\": \"circle\"}, \"mode\": \"markers\", \"name\": \"Lewis County\", \"showlegend\": true, \"type\": \"scatter\", \"x\": [\"2020-03-08\", \"2020-03-15\", \"2020-03-22\", \"2020-03-29\", \"2020-04-05\", \"2020-04-12\", \"2020-04-19\", \"2020-04-26\", \"2020-05-03\", \"2020-05-10\", \"2020-05-24\", \"2020-06-07\", \"2020-06-14\", \"2020-06-21\", \"2020-06-28\"], \"xaxis\": \"x\", \"y\": [1, 2, 1, 0, 1, 1, 0, 0, 0, 1, 1, 1, 11, 5, 1], \"yaxis\": \"y\"}, {\"hoverlabel\": {\"namelength\": 0}, \"hovertemplate\": \"County=Mason County<br>WeekStartDate=%{x}<br>Age 20-39=%{y}\", \"legendgroup\": \"Mason County\", \"marker\": {\"color\": \"#FECB52\", \"symbol\": \"circle\"}, \"mode\": \"markers\", \"name\": \"Mason County\", \"showlegend\": true, \"type\": \"scatter\", \"x\": [\"2020-03-01\", \"2020-03-08\", \"2020-03-15\", \"2020-03-22\", \"2020-03-29\", \"2020-04-12\", \"2020-04-19\", \"2020-04-26\", \"2020-05-03\", \"2020-05-10\", \"2020-05-17\", \"2020-05-24\", \"2020-05-31\", \"2020-06-07\", \"2020-06-14\", \"2020-06-21\", \"2020-06-28\"], \"xaxis\": \"x\", \"y\": [0, 0, 1, 0, 1, 0, 2, 2, 1, 1, 1, 0, 0, 0, 2, 3, 0], \"yaxis\": \"y\"}, {\"hoverlabel\": {\"namelength\": 0}, \"hovertemplate\": \"County=Okanogan County<br>WeekStartDate=%{x}<br>Age 20-39=%{y}\", \"legendgroup\": \"Okanogan County\", \"marker\": {\"color\": \"#636efa\", \"symbol\": \"circle\"}, \"mode\": \"markers\", \"name\": \"Okanogan County\", \"showlegend\": true, \"type\": \"scatter\", \"x\": [\"2020-03-08\", \"2020-03-15\", \"2020-03-22\", \"2020-03-29\", \"2020-04-05\", \"2020-04-12\", \"2020-04-19\", \"2020-04-26\", \"2020-05-03\", \"2020-05-10\", \"2020-05-17\", \"2020-05-24\", \"2020-05-31\", \"2020-06-07\", \"2020-06-14\", \"2020-06-21\", \"2020-06-28\"], \"xaxis\": \"x\", \"y\": [0, 0, 1, 1, 0, 0, 2, 0, 7, 4, 1, 5, 2, 1, 1, 13, 13], \"yaxis\": \"y\"}, {\"hoverlabel\": {\"namelength\": 0}, \"hovertemplate\": \"County=Pacific County<br>WeekStartDate=%{x}<br>Age 20-39=%{y}\", \"legendgroup\": \"Pacific County\", \"marker\": {\"color\": \"#EF553B\", \"symbol\": \"circle\"}, \"mode\": \"markers\", \"name\": \"Pacific County\", \"showlegend\": true, \"type\": \"scatter\", \"x\": [\"2020-03-29\", \"2020-04-05\", \"2020-04-19\", \"2020-04-26\", \"2020-05-03\", \"2020-05-31\", \"2020-06-07\", \"2020-06-21\"], \"xaxis\": \"x\", \"y\": [1, 0, 0, 0, 1, 0, 2, 3], \"yaxis\": \"y\"}, {\"hoverlabel\": {\"namelength\": 0}, \"hovertemplate\": \"County=Pend Oreille County<br>WeekStartDate=%{x}<br>Age 20-39=%{y}\", \"legendgroup\": \"Pend Oreille County\", \"marker\": {\"color\": \"#00cc96\", \"symbol\": \"circle\"}, \"mode\": \"markers\", \"name\": \"Pend Oreille County\", \"showlegend\": true, \"type\": \"scatter\", \"x\": [\"2020-03-15\", \"2020-04-05\", \"2020-05-17\", \"2020-06-21\", \"2020-06-28\"], \"xaxis\": \"x\", \"y\": [0, 0, 1, 0, 0], \"yaxis\": \"y\"}, {\"hoverlabel\": {\"namelength\": 0}, \"hovertemplate\": \"County=Pierce County<br>WeekStartDate=%{x}<br>Age 20-39=%{y}\", \"legendgroup\": \"Pierce County\", \"marker\": {\"color\": \"#ab63fa\", \"symbol\": \"circle\"}, \"mode\": \"markers\", \"name\": \"Pierce County\", \"showlegend\": true, \"type\": \"scatter\", \"x\": [\"2020-02-16\", \"2020-02-23\", \"2020-03-01\", \"2020-03-08\", \"2020-03-15\", \"2020-03-22\", \"2020-03-29\", \"2020-04-05\", \"2020-04-12\", \"2020-04-19\", \"2020-04-26\", \"2020-05-03\", \"2020-05-10\", \"2020-05-17\", \"2020-05-24\", \"2020-05-31\", \"2020-06-07\", \"2020-06-14\", \"2020-06-21\", \"2020-06-28\"], \"xaxis\": \"x\", \"y\": [1, 1, 7, 26, 67, 61, 87, 55, 52, 50, 57, 47, 33, 27, 39, 37, 51, 97, 129, 112], \"yaxis\": \"y\"}, {\"hoverlabel\": {\"namelength\": 0}, \"hovertemplate\": \"County=San Juan County<br>WeekStartDate=%{x}<br>Age 20-39=%{y}\", \"legendgroup\": \"San Juan County\", \"marker\": {\"color\": \"#FFA15A\", \"symbol\": \"circle\"}, \"mode\": \"markers\", \"name\": \"San Juan County\", \"showlegend\": true, \"type\": \"scatter\", \"x\": [\"2020-03-08\", \"2020-03-15\", \"2020-03-22\", \"2020-03-29\", \"2020-04-05\", \"2020-04-12\", \"2020-06-07\", \"2020-06-14\", \"2020-06-21\"], \"xaxis\": \"x\", \"y\": [0, 0, 0, 0, 0, 0, 1, 0, 1], \"yaxis\": \"y\"}, {\"hoverlabel\": {\"namelength\": 0}, \"hovertemplate\": \"County=Skagit County<br>WeekStartDate=%{x}<br>Age 20-39=%{y}\", \"legendgroup\": \"Skagit County\", \"marker\": {\"color\": \"#19d3f3\", \"symbol\": \"circle\"}, \"mode\": \"markers\", \"name\": \"Skagit County\", \"showlegend\": true, \"type\": \"scatter\", \"x\": [\"2020-02-16\", \"2020-02-23\", \"2020-03-01\", \"2020-03-08\", \"2020-03-15\", \"2020-03-22\", \"2020-03-29\", \"2020-04-05\", \"2020-04-12\", \"2020-04-19\", \"2020-04-26\", \"2020-05-03\", \"2020-05-10\", \"2020-05-17\", \"2020-05-24\", \"2020-05-31\", \"2020-06-07\", \"2020-06-14\", \"2020-06-21\", \"2020-06-28\"], \"xaxis\": \"x\", \"y\": [0, 1, 3, 8, 9, 13, 8, 13, 17, 25, 19, 9, 2, 2, 7, 5, 8, 11, 10, 8], \"yaxis\": \"y\"}, {\"hoverlabel\": {\"namelength\": 0}, \"hovertemplate\": \"County=Skamania County<br>WeekStartDate=%{x}<br>Age 20-39=%{y}\", \"legendgroup\": \"Skamania County\", \"marker\": {\"color\": \"#FF6692\", \"symbol\": \"circle\"}, \"mode\": \"markers\", \"name\": \"Skamania County\", \"showlegend\": true, \"type\": \"scatter\", \"x\": [\"2020-03-22\", \"2020-04-05\", \"2020-06-14\", \"2020-06-21\", \"2020-06-28\"], \"xaxis\": \"x\", \"y\": [0, 0, 1, 0, 0], \"yaxis\": \"y\"}, {\"hoverlabel\": {\"namelength\": 0}, \"hovertemplate\": \"County=Snohomish County<br>WeekStartDate=%{x}<br>Age 20-39=%{y}\", \"legendgroup\": \"Snohomish County\", \"marker\": {\"color\": \"#B6E880\", \"symbol\": \"circle\"}, \"mode\": \"markers\", \"name\": \"Snohomish County\", \"showlegend\": true, \"type\": \"scatter\", \"x\": [\"2020-01-16\", \"2020-01-26\", \"2020-02-02\", \"2020-02-09\", \"2020-02-16\", \"2020-02-23\", \"2020-03-01\", \"2020-03-08\", \"2020-03-15\", \"2020-03-22\", \"2020-03-29\", \"2020-04-05\", \"2020-04-12\", \"2020-04-19\", \"2020-04-26\", \"2020-05-03\", \"2020-05-10\", \"2020-05-17\", \"2020-05-24\", \"2020-05-31\", \"2020-06-07\", \"2020-06-14\", \"2020-06-21\", \"2020-06-28\"], \"xaxis\": \"x\", \"y\": [1, 1, 1, 1, 3, 11, 35, 86, 159, 145, 100, 71, 63, 58, 57, 43, 34, 27, 21, 28, 39, 61, 91, 71], \"yaxis\": \"y\"}, {\"hoverlabel\": {\"namelength\": 0}, \"hovertemplate\": \"County=Spokane County<br>WeekStartDate=%{x}<br>Age 20-39=%{y}\", \"legendgroup\": \"Spokane County\", \"marker\": {\"color\": \"#FF97FF\", \"symbol\": \"circle\"}, \"mode\": \"markers\", \"name\": \"Spokane County\", \"showlegend\": true, \"type\": \"scatter\", \"x\": [\"2020-02-16\", \"2020-02-23\", \"2020-03-01\", \"2020-03-08\", \"2020-03-15\", \"2020-03-22\", \"2020-03-29\", \"2020-04-05\", \"2020-04-12\", \"2020-04-19\", \"2020-04-26\", \"2020-05-03\", \"2020-05-10\", \"2020-05-17\", \"2020-05-24\", \"2020-05-31\", \"2020-06-07\", \"2020-06-14\", \"2020-06-21\", \"2020-06-28\"], \"xaxis\": \"x\", \"y\": [0, 0, 4, 8, 19, 23, 10, 6, 8, 15, 5, 3, 17, 53, 59, 52, 67, 91, 181, 91], \"yaxis\": \"y\"}, {\"hoverlabel\": {\"namelength\": 0}, \"hovertemplate\": \"County=Stevens County<br>WeekStartDate=%{x}<br>Age 20-39=%{y}\", \"legendgroup\": \"Stevens County\", \"marker\": {\"color\": \"#FECB52\", \"symbol\": \"circle\"}, \"mode\": \"markers\", \"name\": \"Stevens County\", \"showlegend\": true, \"type\": \"scatter\", \"x\": [\"2020-03-01\", \"2020-03-08\", \"2020-03-15\", \"2020-03-22\", \"2020-03-29\", \"2020-04-12\", \"2020-05-10\", \"2020-05-17\", \"2020-05-24\", \"2020-06-07\", \"2020-06-21\", \"2020-06-28\"], \"xaxis\": \"x\", \"y\": [0, 0, 0, 0, 0, 0, 0, 0, 0, 0, 0, 0], \"yaxis\": \"y\"}, {\"hoverlabel\": {\"namelength\": 0}, \"hovertemplate\": \"County=Thurston County<br>WeekStartDate=%{x}<br>Age 20-39=%{y}\", \"legendgroup\": \"Thurston County\", \"marker\": {\"color\": \"#636efa\", \"symbol\": \"circle\"}, \"mode\": \"markers\", \"name\": \"Thurston County\", \"showlegend\": true, \"type\": \"scatter\", \"x\": [\"2020-02-23\", \"2020-03-01\", \"2020-03-08\", \"2020-03-15\", \"2020-03-22\", \"2020-03-29\", \"2020-04-05\", \"2020-04-12\", \"2020-04-19\", \"2020-04-26\", \"2020-05-03\", \"2020-05-10\", \"2020-05-17\", \"2020-05-24\", \"2020-05-31\", \"2020-06-07\", \"2020-06-14\", \"2020-06-21\", \"2020-06-28\"], \"xaxis\": \"x\", \"y\": [0, 0, 4, 1, 6, 6, 4, 2, 1, 0, 2, 0, 1, 5, 7, 7, 9, 21, 13], \"yaxis\": \"y\"}, {\"hoverlabel\": {\"namelength\": 0}, \"hovertemplate\": \"County=Wahkiakum County<br>WeekStartDate=%{x}<br>Age 20-39=%{y}\", \"legendgroup\": \"Wahkiakum County\", \"marker\": {\"color\": \"#EF553B\", \"symbol\": \"circle\"}, \"mode\": \"markers\", \"name\": \"Wahkiakum County\", \"showlegend\": true, \"type\": \"scatter\", \"x\": [\"2020-03-15\", \"2020-03-22\", \"2020-05-03\", \"2020-06-14\"], \"xaxis\": \"x\", \"y\": [0, 0, 0, 0], \"yaxis\": \"y\"}, {\"hoverlabel\": {\"namelength\": 0}, \"hovertemplate\": \"County=Walla Walla County<br>WeekStartDate=%{x}<br>Age 20-39=%{y}\", \"legendgroup\": \"Walla Walla County\", \"marker\": {\"color\": \"#00cc96\", \"symbol\": \"circle\"}, \"mode\": \"markers\", \"name\": \"Walla Walla County\", \"showlegend\": true, \"type\": \"scatter\", \"x\": [\"2020-03-08\", \"2020-03-15\", \"2020-03-22\", \"2020-03-29\", \"2020-04-05\", \"2020-04-12\", \"2020-04-19\", \"2020-04-26\", \"2020-05-03\", \"2020-05-10\", \"2020-05-17\", \"2020-05-24\", \"2020-05-31\", \"2020-06-07\", \"2020-06-14\", \"2020-06-21\", \"2020-06-28\"], \"xaxis\": \"x\", \"y\": [0, 1, 2, 4, 8, 5, 7, 11, 4, 0, 0, 1, 1, 7, 7, 10, 2], \"yaxis\": \"y\"}, {\"hoverlabel\": {\"namelength\": 0}, \"hovertemplate\": \"County=Whatcom County<br>WeekStartDate=%{x}<br>Age 20-39=%{y}\", \"legendgroup\": \"Whatcom County\", \"marker\": {\"color\": \"#ab63fa\", \"symbol\": \"circle\"}, \"mode\": \"markers\", \"name\": \"Whatcom County\", \"showlegend\": true, \"type\": \"scatter\", \"x\": [\"2020-02-16\", \"2020-02-23\", \"2020-03-01\", \"2020-03-08\", \"2020-03-15\", \"2020-03-22\", \"2020-03-29\", \"2020-04-05\", \"2020-04-12\", \"2020-04-19\", \"2020-04-26\", \"2020-05-03\", \"2020-05-10\", \"2020-05-17\", \"2020-05-24\", \"2020-05-31\", \"2020-06-07\", \"2020-06-14\", \"2020-06-21\", \"2020-06-28\"], \"xaxis\": \"x\", \"y\": [0, 0, 0, 8, 22, 20, 15, 4, 6, 4, 13, 3, 10, 10, 7, 15, 20, 28, 26, 14], \"yaxis\": \"y\"}, {\"hoverlabel\": {\"namelength\": 0}, \"hovertemplate\": \"County=Whitman County<br>WeekStartDate=%{x}<br>Age 20-39=%{y}\", \"legendgroup\": \"Whitman County\", \"marker\": {\"color\": \"#FFA15A\", \"symbol\": \"circle\"}, \"mode\": \"markers\", \"name\": \"Whitman County\", \"showlegend\": true, \"type\": \"scatter\", \"x\": [\"2020-03-08\", \"2020-03-15\", \"2020-03-22\", \"2020-03-29\", \"2020-04-12\", \"2020-04-19\", \"2020-05-10\", \"2020-05-17\", \"2020-05-31\", \"2020-06-07\", \"2020-06-14\", \"2020-06-21\", \"2020-06-28\"], \"xaxis\": \"x\", \"y\": [1, 1, 0, 2, 2, 1, 2, 2, 2, 1, 1, 2, 1], \"yaxis\": \"y\"}, {\"hoverlabel\": {\"namelength\": 0}, \"hovertemplate\": \"County=Yakima County<br>WeekStartDate=%{x}<br>Age 20-39=%{y}\", \"legendgroup\": \"Yakima County\", \"marker\": {\"color\": \"#19d3f3\", \"symbol\": \"circle\"}, \"mode\": \"markers\", \"name\": \"Yakima County\", \"showlegend\": true, \"type\": \"scatter\", \"x\": [\"2020-01-16\", \"2020-02-09\", \"2020-02-16\", \"2020-03-01\", \"2020-03-08\", \"2020-03-15\", \"2020-03-22\", \"2020-03-29\", \"2020-04-05\", \"2020-04-12\", \"2020-04-19\", \"2020-04-26\", \"2020-05-03\", \"2020-05-10\", \"2020-05-17\", \"2020-05-24\", \"2020-05-31\", \"2020-06-07\", \"2020-06-14\", \"2020-06-21\", \"2020-06-28\"], \"xaxis\": \"x\", \"y\": [1, 1, 0, 0, 10, 32, 41, 61, 81, 88, 103, 140, 206, 277, 299, 324, 409, 321, 318, 225, 88], \"yaxis\": \"y\"}, {\"hoverlabel\": {\"namelength\": 0}, \"hovertemplate\": \"County=Unassigned<br>WeekStartDate=%{x}<br>Age 20-39=%{y}\", \"legendgroup\": \"Unassigned\", \"marker\": {\"color\": \"#FF6692\", \"symbol\": \"circle\"}, \"mode\": \"markers\", \"name\": \"Unassigned\", \"showlegend\": true, \"type\": \"scatter\", \"x\": [\"2020-04-12\", \"2020-04-19\", \"2020-05-10\", \"2020-05-17\", \"2020-05-24\", \"2020-05-31\", \"2020-06-07\", \"2020-06-14\", \"2020-06-21\", \"2020-06-28\"], \"xaxis\": \"x\", \"y\": [0, 0, 0, 3, 3, 1, 1, 7, 12, 40], \"yaxis\": \"y\"}],\n",
       "                        {\"legend\": {\"title\": {\"text\": \"County\"}, \"tracegroupgap\": 0}, \"margin\": {\"t\": 60}, \"template\": {\"data\": {\"bar\": [{\"error_x\": {\"color\": \"#2a3f5f\"}, \"error_y\": {\"color\": \"#2a3f5f\"}, \"marker\": {\"line\": {\"color\": \"#E5ECF6\", \"width\": 0.5}}, \"type\": \"bar\"}], \"barpolar\": [{\"marker\": {\"line\": {\"color\": \"#E5ECF6\", \"width\": 0.5}}, \"type\": \"barpolar\"}], \"carpet\": [{\"aaxis\": {\"endlinecolor\": \"#2a3f5f\", \"gridcolor\": \"white\", \"linecolor\": \"white\", \"minorgridcolor\": \"white\", \"startlinecolor\": \"#2a3f5f\"}, \"baxis\": {\"endlinecolor\": \"#2a3f5f\", \"gridcolor\": \"white\", \"linecolor\": \"white\", \"minorgridcolor\": \"white\", \"startlinecolor\": \"#2a3f5f\"}, \"type\": \"carpet\"}], \"choropleth\": [{\"colorbar\": {\"outlinewidth\": 0, \"ticks\": \"\"}, \"type\": \"choropleth\"}], \"contour\": [{\"colorbar\": {\"outlinewidth\": 0, \"ticks\": \"\"}, \"colorscale\": [[0.0, \"#0d0887\"], [0.1111111111111111, \"#46039f\"], [0.2222222222222222, \"#7201a8\"], [0.3333333333333333, \"#9c179e\"], [0.4444444444444444, \"#bd3786\"], [0.5555555555555556, \"#d8576b\"], [0.6666666666666666, \"#ed7953\"], [0.7777777777777778, \"#fb9f3a\"], [0.8888888888888888, \"#fdca26\"], [1.0, \"#f0f921\"]], \"type\": \"contour\"}], \"contourcarpet\": [{\"colorbar\": {\"outlinewidth\": 0, \"ticks\": \"\"}, \"type\": \"contourcarpet\"}], \"heatmap\": [{\"colorbar\": {\"outlinewidth\": 0, \"ticks\": \"\"}, \"colorscale\": [[0.0, \"#0d0887\"], [0.1111111111111111, \"#46039f\"], [0.2222222222222222, \"#7201a8\"], [0.3333333333333333, \"#9c179e\"], [0.4444444444444444, \"#bd3786\"], [0.5555555555555556, \"#d8576b\"], [0.6666666666666666, \"#ed7953\"], [0.7777777777777778, \"#fb9f3a\"], [0.8888888888888888, \"#fdca26\"], [1.0, \"#f0f921\"]], \"type\": \"heatmap\"}], \"heatmapgl\": [{\"colorbar\": {\"outlinewidth\": 0, \"ticks\": \"\"}, \"colorscale\": [[0.0, \"#0d0887\"], [0.1111111111111111, \"#46039f\"], [0.2222222222222222, \"#7201a8\"], [0.3333333333333333, \"#9c179e\"], [0.4444444444444444, \"#bd3786\"], [0.5555555555555556, \"#d8576b\"], [0.6666666666666666, \"#ed7953\"], [0.7777777777777778, \"#fb9f3a\"], [0.8888888888888888, \"#fdca26\"], [1.0, \"#f0f921\"]], \"type\": \"heatmapgl\"}], \"histogram\": [{\"marker\": {\"colorbar\": {\"outlinewidth\": 0, \"ticks\": \"\"}}, \"type\": \"histogram\"}], \"histogram2d\": [{\"colorbar\": {\"outlinewidth\": 0, \"ticks\": \"\"}, \"colorscale\": [[0.0, \"#0d0887\"], [0.1111111111111111, \"#46039f\"], [0.2222222222222222, \"#7201a8\"], [0.3333333333333333, \"#9c179e\"], [0.4444444444444444, \"#bd3786\"], [0.5555555555555556, \"#d8576b\"], [0.6666666666666666, \"#ed7953\"], [0.7777777777777778, \"#fb9f3a\"], [0.8888888888888888, \"#fdca26\"], [1.0, \"#f0f921\"]], \"type\": \"histogram2d\"}], \"histogram2dcontour\": [{\"colorbar\": {\"outlinewidth\": 0, \"ticks\": \"\"}, \"colorscale\": [[0.0, \"#0d0887\"], [0.1111111111111111, \"#46039f\"], [0.2222222222222222, \"#7201a8\"], [0.3333333333333333, \"#9c179e\"], [0.4444444444444444, \"#bd3786\"], [0.5555555555555556, \"#d8576b\"], [0.6666666666666666, \"#ed7953\"], [0.7777777777777778, \"#fb9f3a\"], [0.8888888888888888, \"#fdca26\"], [1.0, \"#f0f921\"]], \"type\": \"histogram2dcontour\"}], \"mesh3d\": [{\"colorbar\": {\"outlinewidth\": 0, \"ticks\": \"\"}, \"type\": \"mesh3d\"}], \"parcoords\": [{\"line\": {\"colorbar\": {\"outlinewidth\": 0, \"ticks\": \"\"}}, \"type\": \"parcoords\"}], \"pie\": [{\"automargin\": true, \"type\": \"pie\"}], \"scatter\": [{\"marker\": {\"colorbar\": {\"outlinewidth\": 0, \"ticks\": \"\"}}, \"type\": \"scatter\"}], \"scatter3d\": [{\"line\": {\"colorbar\": {\"outlinewidth\": 0, \"ticks\": \"\"}}, \"marker\": {\"colorbar\": {\"outlinewidth\": 0, \"ticks\": \"\"}}, \"type\": \"scatter3d\"}], \"scattercarpet\": [{\"marker\": {\"colorbar\": {\"outlinewidth\": 0, \"ticks\": \"\"}}, \"type\": \"scattercarpet\"}], \"scattergeo\": [{\"marker\": {\"colorbar\": {\"outlinewidth\": 0, \"ticks\": \"\"}}, \"type\": \"scattergeo\"}], \"scattergl\": [{\"marker\": {\"colorbar\": {\"outlinewidth\": 0, \"ticks\": \"\"}}, \"type\": \"scattergl\"}], \"scattermapbox\": [{\"marker\": {\"colorbar\": {\"outlinewidth\": 0, \"ticks\": \"\"}}, \"type\": \"scattermapbox\"}], \"scatterpolar\": [{\"marker\": {\"colorbar\": {\"outlinewidth\": 0, \"ticks\": \"\"}}, \"type\": \"scatterpolar\"}], \"scatterpolargl\": [{\"marker\": {\"colorbar\": {\"outlinewidth\": 0, \"ticks\": \"\"}}, \"type\": \"scatterpolargl\"}], \"scatterternary\": [{\"marker\": {\"colorbar\": {\"outlinewidth\": 0, \"ticks\": \"\"}}, \"type\": \"scatterternary\"}], \"surface\": [{\"colorbar\": {\"outlinewidth\": 0, \"ticks\": \"\"}, \"colorscale\": [[0.0, \"#0d0887\"], [0.1111111111111111, \"#46039f\"], [0.2222222222222222, \"#7201a8\"], [0.3333333333333333, \"#9c179e\"], [0.4444444444444444, \"#bd3786\"], [0.5555555555555556, \"#d8576b\"], [0.6666666666666666, \"#ed7953\"], [0.7777777777777778, \"#fb9f3a\"], [0.8888888888888888, \"#fdca26\"], [1.0, \"#f0f921\"]], \"type\": \"surface\"}], \"table\": [{\"cells\": {\"fill\": {\"color\": \"#EBF0F8\"}, \"line\": {\"color\": \"white\"}}, \"header\": {\"fill\": {\"color\": \"#C8D4E3\"}, \"line\": {\"color\": \"white\"}}, \"type\": \"table\"}]}, \"layout\": {\"annotationdefaults\": {\"arrowcolor\": \"#2a3f5f\", \"arrowhead\": 0, \"arrowwidth\": 1}, \"coloraxis\": {\"colorbar\": {\"outlinewidth\": 0, \"ticks\": \"\"}}, \"colorscale\": {\"diverging\": [[0, \"#8e0152\"], [0.1, \"#c51b7d\"], [0.2, \"#de77ae\"], [0.3, \"#f1b6da\"], [0.4, \"#fde0ef\"], [0.5, \"#f7f7f7\"], [0.6, \"#e6f5d0\"], [0.7, \"#b8e186\"], [0.8, \"#7fbc41\"], [0.9, \"#4d9221\"], [1, \"#276419\"]], \"sequential\": [[0.0, \"#0d0887\"], [0.1111111111111111, \"#46039f\"], [0.2222222222222222, \"#7201a8\"], [0.3333333333333333, \"#9c179e\"], [0.4444444444444444, \"#bd3786\"], [0.5555555555555556, \"#d8576b\"], [0.6666666666666666, \"#ed7953\"], [0.7777777777777778, \"#fb9f3a\"], [0.8888888888888888, \"#fdca26\"], [1.0, \"#f0f921\"]], \"sequentialminus\": [[0.0, \"#0d0887\"], [0.1111111111111111, \"#46039f\"], [0.2222222222222222, \"#7201a8\"], [0.3333333333333333, \"#9c179e\"], [0.4444444444444444, \"#bd3786\"], [0.5555555555555556, \"#d8576b\"], [0.6666666666666666, \"#ed7953\"], [0.7777777777777778, \"#fb9f3a\"], [0.8888888888888888, \"#fdca26\"], [1.0, \"#f0f921\"]]}, \"colorway\": [\"#636efa\", \"#EF553B\", \"#00cc96\", \"#ab63fa\", \"#FFA15A\", \"#19d3f3\", \"#FF6692\", \"#B6E880\", \"#FF97FF\", \"#FECB52\"], \"font\": {\"color\": \"#2a3f5f\"}, \"geo\": {\"bgcolor\": \"white\", \"lakecolor\": \"white\", \"landcolor\": \"#E5ECF6\", \"showlakes\": true, \"showland\": true, \"subunitcolor\": \"white\"}, \"hoverlabel\": {\"align\": \"left\"}, \"hovermode\": \"closest\", \"mapbox\": {\"style\": \"light\"}, \"paper_bgcolor\": \"white\", \"plot_bgcolor\": \"#E5ECF6\", \"polar\": {\"angularaxis\": {\"gridcolor\": \"white\", \"linecolor\": \"white\", \"ticks\": \"\"}, \"bgcolor\": \"#E5ECF6\", \"radialaxis\": {\"gridcolor\": \"white\", \"linecolor\": \"white\", \"ticks\": \"\"}}, \"scene\": {\"xaxis\": {\"backgroundcolor\": \"#E5ECF6\", \"gridcolor\": \"white\", \"gridwidth\": 2, \"linecolor\": \"white\", \"showbackground\": true, \"ticks\": \"\", \"zerolinecolor\": \"white\"}, \"yaxis\": {\"backgroundcolor\": \"#E5ECF6\", \"gridcolor\": \"white\", \"gridwidth\": 2, \"linecolor\": \"white\", \"showbackground\": true, \"ticks\": \"\", \"zerolinecolor\": \"white\"}, \"zaxis\": {\"backgroundcolor\": \"#E5ECF6\", \"gridcolor\": \"white\", \"gridwidth\": 2, \"linecolor\": \"white\", \"showbackground\": true, \"ticks\": \"\", \"zerolinecolor\": \"white\"}}, \"shapedefaults\": {\"line\": {\"color\": \"#2a3f5f\"}}, \"ternary\": {\"aaxis\": {\"gridcolor\": \"white\", \"linecolor\": \"white\", \"ticks\": \"\"}, \"baxis\": {\"gridcolor\": \"white\", \"linecolor\": \"white\", \"ticks\": \"\"}, \"bgcolor\": \"#E5ECF6\", \"caxis\": {\"gridcolor\": \"white\", \"linecolor\": \"white\", \"ticks\": \"\"}}, \"title\": {\"x\": 0.05}, \"xaxis\": {\"automargin\": true, \"gridcolor\": \"white\", \"linecolor\": \"white\", \"ticks\": \"\", \"title\": {\"standoff\": 15}, \"zerolinecolor\": \"white\", \"zerolinewidth\": 2}, \"yaxis\": {\"automargin\": true, \"gridcolor\": \"white\", \"linecolor\": \"white\", \"ticks\": \"\", \"title\": {\"standoff\": 15}, \"zerolinecolor\": \"white\", \"zerolinewidth\": 2}}}, \"xaxis\": {\"anchor\": \"y\", \"domain\": [0.0, 1.0], \"title\": {\"text\": \"WeekStartDate\"}}, \"yaxis\": {\"anchor\": \"x\", \"domain\": [0.0, 1.0], \"title\": {\"text\": \"Age 20-39\"}}},\n",
       "                        {\"responsive\": true}\n",
       "                    ).then(function(){\n",
       "                            \n",
       "var gd = document.getElementById('bddcd726-8f83-4e9b-873d-6b177b9abec1');\n",
       "var x = new MutationObserver(function (mutations, observer) {{\n",
       "        var display = window.getComputedStyle(gd).display;\n",
       "        if (!display || display === 'none') {{\n",
       "            console.log([gd, 'removed!']);\n",
       "            Plotly.purge(gd);\n",
       "            observer.disconnect();\n",
       "        }}\n",
       "}});\n",
       "\n",
       "// Listen for the removal of the full notebook cells\n",
       "var notebookContainer = gd.closest('#notebook-container');\n",
       "if (notebookContainer) {{\n",
       "    x.observe(notebookContainer, {childList: true});\n",
       "}}\n",
       "\n",
       "// Listen for the clearing of the current output cell\n",
       "var outputEl = gd.closest('.output');\n",
       "if (outputEl) {{\n",
       "    x.observe(outputEl, {childList: true});\n",
       "}}\n",
       "\n",
       "                        })\n",
       "                };\n",
       "                });\n",
       "            </script>\n",
       "        </div>"
      ]
     },
     "metadata": {},
     "output_type": "display_data"
    }
   ],
   "source": [
    "px.scatter(df, x=\"WeekStartDate\", y='Age 20-39', color='County')"
   ]
  },
  {
   "cell_type": "code",
   "execution_count": 65,
   "metadata": {
    "ExecuteTime": {
     "end_time": "2020-07-12T19:33:01.039381Z",
     "start_time": "2020-07-12T19:33:00.627463Z"
    }
   },
   "outputs": [
    {
     "data": {
      "application/vnd.plotly.v1+json": {
       "config": {
        "plotlyServerURL": "https://plot.ly"
       },
       "data": [
        {
         "hoverlabel": {
          "namelength": 0
         },
         "hovertemplate": "County=Adams County<br>WeekStartDate=%{x}<br>Age 40-59=%{y}",
         "legendgroup": "Adams County",
         "marker": {
          "color": "#636efa",
          "symbol": "circle"
         },
         "mode": "markers",
         "name": "Adams County",
         "showlegend": true,
         "type": "scatter",
         "x": [
          "2020-03-08",
          "2020-03-15",
          "2020-03-22",
          "2020-03-29",
          "2020-04-05",
          "2020-04-12",
          "2020-04-19",
          "2020-04-26",
          "2020-05-03",
          "2020-05-10",
          "2020-05-17",
          "2020-05-24",
          "2020-05-31",
          "2020-06-07",
          "2020-06-14",
          "2020-06-21",
          "2020-06-28"
         ],
         "xaxis": "x",
         "y": [
          1,
          3,
          4,
          4,
          4,
          1,
          0,
          1,
          0,
          1,
          4,
          4,
          3,
          5,
          5,
          8,
          11
         ],
         "yaxis": "y"
        },
        {
         "hoverlabel": {
          "namelength": 0
         },
         "hovertemplate": "County=Asotin County<br>WeekStartDate=%{x}<br>Age 40-59=%{y}",
         "legendgroup": "Asotin County",
         "marker": {
          "color": "#EF553B",
          "symbol": "circle"
         },
         "mode": "markers",
         "name": "Asotin County",
         "showlegend": true,
         "type": "scatter",
         "x": [
          "2020-03-15",
          "2020-03-29",
          "2020-04-05",
          "2020-04-12",
          "2020-04-19",
          "2020-05-17",
          "2020-05-31",
          "2020-06-21"
         ],
         "xaxis": "x",
         "y": [
          0,
          2,
          4,
          3,
          0,
          1,
          0,
          0
         ],
         "yaxis": "y"
        },
        {
         "hoverlabel": {
          "namelength": 0
         },
         "hovertemplate": "County=Benton County<br>WeekStartDate=%{x}<br>Age 40-59=%{y}",
         "legendgroup": "Benton County",
         "marker": {
          "color": "#00cc96",
          "symbol": "circle"
         },
         "mode": "markers",
         "name": "Benton County",
         "showlegend": true,
         "type": "scatter",
         "x": [
          "2020-02-16",
          "2020-03-01",
          "2020-03-08",
          "2020-03-15",
          "2020-03-22",
          "2020-03-29",
          "2020-04-05",
          "2020-04-12",
          "2020-04-19",
          "2020-04-26",
          "2020-05-03",
          "2020-05-10",
          "2020-05-17",
          "2020-05-24",
          "2020-05-31",
          "2020-06-07",
          "2020-06-14",
          "2020-06-21",
          "2020-06-28"
         ],
         "xaxis": "x",
         "y": [
          0,
          0,
          4,
          16,
          27,
          29,
          30,
          22,
          25,
          26,
          9,
          24,
          26,
          32,
          57,
          76,
          78,
          63,
          28
         ],
         "yaxis": "y"
        },
        {
         "hoverlabel": {
          "namelength": 0
         },
         "hovertemplate": "County=Chelan County<br>WeekStartDate=%{x}<br>Age 40-59=%{y}",
         "legendgroup": "Chelan County",
         "marker": {
          "color": "#ab63fa",
          "symbol": "circle"
         },
         "mode": "markers",
         "name": "Chelan County",
         "showlegend": true,
         "type": "scatter",
         "x": [
          "2020-02-09",
          "2020-03-08",
          "2020-03-15",
          "2020-03-22",
          "2020-03-29",
          "2020-04-05",
          "2020-04-12",
          "2020-04-19",
          "2020-04-26",
          "2020-05-03",
          "2020-05-10",
          "2020-05-17",
          "2020-05-24",
          "2020-05-31",
          "2020-06-07",
          "2020-06-14",
          "2020-06-21",
          "2020-06-28"
         ],
         "xaxis": "x",
         "y": [
          1,
          5,
          0,
          2,
          6,
          4,
          6,
          9,
          7,
          7,
          10,
          19,
          5,
          0,
          1,
          8,
          21,
          16
         ],
         "yaxis": "y"
        },
        {
         "hoverlabel": {
          "namelength": 0
         },
         "hovertemplate": "County=Clallam County<br>WeekStartDate=%{x}<br>Age 40-59=%{y}",
         "legendgroup": "Clallam County",
         "marker": {
          "color": "#FFA15A",
          "symbol": "circle"
         },
         "mode": "markers",
         "name": "Clallam County",
         "showlegend": true,
         "type": "scatter",
         "x": [
          "2020-03-01",
          "2020-03-08",
          "2020-03-15",
          "2020-03-29",
          "2020-04-05",
          "2020-04-19",
          "2020-04-26",
          "2020-05-10",
          "2020-05-17",
          "2020-05-24",
          "2020-05-31",
          "2020-06-07",
          "2020-06-14",
          "2020-06-21",
          "2020-06-28"
         ],
         "xaxis": "x",
         "y": [
          0,
          2,
          0,
          0,
          1,
          0,
          0,
          2,
          0,
          0,
          1,
          1,
          0,
          3,
          0
         ],
         "yaxis": "y"
        },
        {
         "hoverlabel": {
          "namelength": 0
         },
         "hovertemplate": "County=Clark County<br>WeekStartDate=%{x}<br>Age 40-59=%{y}",
         "legendgroup": "Clark County",
         "marker": {
          "color": "#19d3f3",
          "symbol": "circle"
         },
         "mode": "markers",
         "name": "Clark County",
         "showlegend": true,
         "type": "scatter",
         "x": [
          "2020-02-23",
          "2020-03-01",
          "2020-03-08",
          "2020-03-15",
          "2020-03-22",
          "2020-03-29",
          "2020-04-05",
          "2020-04-12",
          "2020-04-19",
          "2020-04-26",
          "2020-05-03",
          "2020-05-10",
          "2020-05-17",
          "2020-05-24",
          "2020-05-31",
          "2020-06-07",
          "2020-06-14",
          "2020-06-21",
          "2020-06-28"
         ],
         "xaxis": "x",
         "y": [
          1,
          2,
          15,
          26,
          25,
          21,
          17,
          15,
          7,
          5,
          6,
          7,
          28,
          18,
          21,
          13,
          14,
          44,
          19
         ],
         "yaxis": "y"
        },
        {
         "hoverlabel": {
          "namelength": 0
         },
         "hovertemplate": "County=Columbia County<br>WeekStartDate=%{x}<br>Age 40-59=%{y}",
         "legendgroup": "Columbia County",
         "marker": {
          "color": "#FF6692",
          "symbol": "circle"
         },
         "mode": "markers",
         "name": "Columbia County",
         "showlegend": true,
         "type": "scatter",
         "x": [
          "2020-03-01",
          "2020-06-07",
          "2020-06-14"
         ],
         "xaxis": "x",
         "y": [
          0,
          2,
          0
         ],
         "yaxis": "y"
        },
        {
         "hoverlabel": {
          "namelength": 0
         },
         "hovertemplate": "County=Cowlitz County<br>WeekStartDate=%{x}<br>Age 40-59=%{y}",
         "legendgroup": "Cowlitz County",
         "marker": {
          "color": "#B6E880",
          "symbol": "circle"
         },
         "mode": "markers",
         "name": "Cowlitz County",
         "showlegend": true,
         "type": "scatter",
         "x": [
          "2020-02-23",
          "2020-03-01",
          "2020-03-08",
          "2020-03-15",
          "2020-03-22",
          "2020-03-29",
          "2020-04-05",
          "2020-04-12",
          "2020-04-19",
          "2020-04-26",
          "2020-05-03",
          "2020-05-10",
          "2020-05-17",
          "2020-05-24",
          "2020-05-31",
          "2020-06-07",
          "2020-06-14",
          "2020-06-21",
          "2020-06-28"
         ],
         "xaxis": "x",
         "y": [
          0,
          0,
          1,
          1,
          0,
          2,
          4,
          2,
          2,
          1,
          1,
          3,
          2,
          3,
          10,
          6,
          9,
          6,
          4
         ],
         "yaxis": "y"
        },
        {
         "hoverlabel": {
          "namelength": 0
         },
         "hovertemplate": "County=Douglas County<br>WeekStartDate=%{x}<br>Age 40-59=%{y}",
         "legendgroup": "Douglas County",
         "marker": {
          "color": "#FF97FF",
          "symbol": "circle"
         },
         "mode": "markers",
         "name": "Douglas County",
         "showlegend": true,
         "type": "scatter",
         "x": [
          "2020-03-01",
          "2020-03-08",
          "2020-03-15",
          "2020-03-22",
          "2020-03-29",
          "2020-04-05",
          "2020-04-12",
          "2020-04-19",
          "2020-04-26",
          "2020-05-03",
          "2020-05-10",
          "2020-05-17",
          "2020-05-24",
          "2020-05-31",
          "2020-06-07",
          "2020-06-14",
          "2020-06-21",
          "2020-06-28"
         ],
         "xaxis": "x",
         "y": [
          1,
          0,
          0,
          2,
          1,
          1,
          4,
          5,
          8,
          7,
          9,
          12,
          5,
          1,
          3,
          7,
          13,
          9
         ],
         "yaxis": "y"
        },
        {
         "hoverlabel": {
          "namelength": 0
         },
         "hovertemplate": "County=Franklin County<br>WeekStartDate=%{x}<br>Age 40-59=%{y}",
         "legendgroup": "Franklin County",
         "marker": {
          "color": "#FECB52",
          "symbol": "circle"
         },
         "mode": "markers",
         "name": "Franklin County",
         "showlegend": true,
         "type": "scatter",
         "x": [
          "2020-02-09",
          "2020-02-23",
          "2020-03-01",
          "2020-03-08",
          "2020-03-15",
          "2020-03-22",
          "2020-03-29",
          "2020-04-05",
          "2020-04-12",
          "2020-04-19",
          "2020-04-26",
          "2020-05-03",
          "2020-05-10",
          "2020-05-17",
          "2020-05-24",
          "2020-05-31",
          "2020-06-07",
          "2020-06-14",
          "2020-06-21",
          "2020-06-28"
         ],
         "xaxis": "x",
         "y": [
          1,
          0,
          0,
          3,
          6,
          27,
          27,
          26,
          35,
          33,
          29,
          14,
          21,
          31,
          53,
          92,
          77,
          102,
          89,
          34
         ],
         "yaxis": "y"
        },
        {
         "hoverlabel": {
          "namelength": 0
         },
         "hovertemplate": "County=Grant County<br>WeekStartDate=%{x}<br>Age 40-59=%{y}",
         "legendgroup": "Grant County",
         "marker": {
          "color": "#636efa",
          "symbol": "circle"
         },
         "mode": "markers",
         "name": "Grant County",
         "showlegend": true,
         "type": "scatter",
         "x": [
          "2020-02-16",
          "2020-02-23",
          "2020-03-01",
          "2020-03-08",
          "2020-03-15",
          "2020-03-22",
          "2020-03-29",
          "2020-04-05",
          "2020-04-12",
          "2020-04-19",
          "2020-04-26",
          "2020-05-03",
          "2020-05-10",
          "2020-05-17",
          "2020-05-24",
          "2020-05-31",
          "2020-06-07",
          "2020-06-14",
          "2020-06-21",
          "2020-06-28"
         ],
         "xaxis": "x",
         "y": [
          1,
          0,
          0,
          13,
          15,
          8,
          5,
          10,
          5,
          2,
          2,
          3,
          3,
          6,
          4,
          4,
          27,
          28,
          21,
          7
         ],
         "yaxis": "y"
        },
        {
         "hoverlabel": {
          "namelength": 0
         },
         "hovertemplate": "County=Grays Harbor County<br>WeekStartDate=%{x}<br>Age 40-59=%{y}",
         "legendgroup": "Grays Harbor County",
         "marker": {
          "color": "#EF553B",
          "symbol": "circle"
         },
         "mode": "markers",
         "name": "Grays Harbor County",
         "showlegend": true,
         "type": "scatter",
         "x": [
          "2020-02-16",
          "2020-02-23",
          "2020-03-01",
          "2020-03-15",
          "2020-03-22",
          "2020-03-29",
          "2020-04-05",
          "2020-04-26",
          "2020-05-03",
          "2020-05-17",
          "2020-05-24",
          "2020-05-31",
          "2020-06-07",
          "2020-06-14",
          "2020-06-21",
          "2020-06-28"
         ],
         "xaxis": "x",
         "y": [
          0,
          0,
          0,
          1,
          2,
          2,
          0,
          0,
          0,
          0,
          0,
          0,
          1,
          0,
          0,
          0
         ],
         "yaxis": "y"
        },
        {
         "hoverlabel": {
          "namelength": 0
         },
         "hovertemplate": "County=Island County<br>WeekStartDate=%{x}<br>Age 40-59=%{y}",
         "legendgroup": "Island County",
         "marker": {
          "color": "#00cc96",
          "symbol": "circle"
         },
         "mode": "markers",
         "name": "Island County",
         "showlegend": true,
         "type": "scatter",
         "x": [
          "2020-02-23",
          "2020-03-01",
          "2020-03-08",
          "2020-03-15",
          "2020-03-22",
          "2020-03-29",
          "2020-04-05",
          "2020-04-12",
          "2020-04-19",
          "2020-04-26",
          "2020-05-03",
          "2020-05-10",
          "2020-05-24",
          "2020-06-07",
          "2020-06-14",
          "2020-06-21",
          "2020-06-28"
         ],
         "xaxis": "x",
         "y": [
          1,
          5,
          8,
          10,
          14,
          8,
          2,
          0,
          0,
          2,
          2,
          0,
          1,
          2,
          0,
          2,
          0
         ],
         "yaxis": "y"
        },
        {
         "hoverlabel": {
          "namelength": 0
         },
         "hovertemplate": "County=Jefferson County<br>WeekStartDate=%{x}<br>Age 40-59=%{y}",
         "legendgroup": "Jefferson County",
         "marker": {
          "color": "#ab63fa",
          "symbol": "circle"
         },
         "mode": "markers",
         "name": "Jefferson County",
         "showlegend": true,
         "type": "scatter",
         "x": [
          "2020-02-23",
          "2020-03-01",
          "2020-03-08",
          "2020-03-15",
          "2020-03-22",
          "2020-03-29",
          "2020-05-31",
          "2020-06-07",
          "2020-06-14",
          "2020-06-21",
          "2020-06-28"
         ],
         "xaxis": "x",
         "y": [
          1,
          0,
          3,
          1,
          1,
          0,
          0,
          0,
          1,
          0,
          0
         ],
         "yaxis": "y"
        },
        {
         "hoverlabel": {
          "namelength": 0
         },
         "hovertemplate": "County=King County<br>WeekStartDate=%{x}<br>Age 40-59=%{y}",
         "legendgroup": "King County",
         "marker": {
          "color": "#FFA15A",
          "symbol": "circle"
         },
         "mode": "markers",
         "name": "King County",
         "showlegend": true,
         "type": "scatter",
         "x": [
          "2020-02-02",
          "2020-02-09",
          "2020-02-16",
          "2020-02-23",
          "2020-03-01",
          "2020-03-08",
          "2020-03-15",
          "2020-03-22",
          "2020-03-29",
          "2020-04-05",
          "2020-04-12",
          "2020-04-19",
          "2020-04-26",
          "2020-05-03",
          "2020-05-10",
          "2020-05-17",
          "2020-05-24",
          "2020-05-31",
          "2020-06-07",
          "2020-06-14",
          "2020-06-21",
          "2020-06-28"
         ],
         "xaxis": "x",
         "y": [
          1,
          2,
          11,
          31,
          80,
          232,
          366,
          400,
          336,
          281,
          238,
          196,
          201,
          119,
          123,
          95,
          81,
          69,
          84,
          146,
          139,
          81
         ],
         "yaxis": "y"
        },
        {
         "hoverlabel": {
          "namelength": 0
         },
         "hovertemplate": "County=Kitsap County<br>WeekStartDate=%{x}<br>Age 40-59=%{y}",
         "legendgroup": "Kitsap County",
         "marker": {
          "color": "#19d3f3",
          "symbol": "circle"
         },
         "mode": "markers",
         "name": "Kitsap County",
         "showlegend": true,
         "type": "scatter",
         "x": [
          "2020-02-16",
          "2020-02-23",
          "2020-03-01",
          "2020-03-08",
          "2020-03-15",
          "2020-03-22",
          "2020-03-29",
          "2020-04-05",
          "2020-04-12",
          "2020-04-19",
          "2020-04-26",
          "2020-05-03",
          "2020-05-10",
          "2020-05-24",
          "2020-05-31",
          "2020-06-07",
          "2020-06-14",
          "2020-06-21",
          "2020-06-28"
         ],
         "xaxis": "x",
         "y": [
          0,
          0,
          5,
          9,
          17,
          17,
          7,
          6,
          3,
          1,
          0,
          1,
          2,
          3,
          3,
          2,
          9,
          4,
          2
         ],
         "yaxis": "y"
        },
        {
         "hoverlabel": {
          "namelength": 0
         },
         "hovertemplate": "County=Kittitas County<br>WeekStartDate=%{x}<br>Age 40-59=%{y}",
         "legendgroup": "Kittitas County",
         "marker": {
          "color": "#FF6692",
          "symbol": "circle"
         },
         "mode": "markers",
         "name": "Kittitas County",
         "showlegend": true,
         "type": "scatter",
         "x": [
          "2020-01-26",
          "2020-02-16",
          "2020-03-08",
          "2020-03-15",
          "2020-03-22",
          "2020-03-29",
          "2020-04-05",
          "2020-04-19",
          "2020-04-26",
          "2020-05-03",
          "2020-05-10",
          "2020-05-17",
          "2020-05-24",
          "2020-05-31",
          "2020-06-07",
          "2020-06-14",
          "2020-06-21",
          "2020-06-28"
         ],
         "xaxis": "x",
         "y": [
          0,
          0,
          2,
          2,
          1,
          0,
          0,
          0,
          2,
          8,
          8,
          5,
          0,
          0,
          0,
          8,
          6,
          0
         ],
         "yaxis": "y"
        },
        {
         "hoverlabel": {
          "namelength": 0
         },
         "hovertemplate": "County=Klickitat County<br>WeekStartDate=%{x}<br>Age 40-59=%{y}",
         "legendgroup": "Klickitat County",
         "marker": {
          "color": "#B6E880",
          "symbol": "circle"
         },
         "mode": "markers",
         "name": "Klickitat County",
         "showlegend": true,
         "type": "scatter",
         "x": [
          "2020-03-01",
          "2020-03-15",
          "2020-03-22",
          "2020-03-29",
          "2020-04-05",
          "2020-04-19",
          "2020-04-26",
          "2020-05-03",
          "2020-05-10",
          "2020-05-17",
          "2020-05-24",
          "2020-05-31",
          "2020-06-07",
          "2020-06-14",
          "2020-06-21",
          "2020-06-28"
         ],
         "xaxis": "x",
         "y": [
          1,
          0,
          0,
          0,
          0,
          1,
          1,
          2,
          0,
          0,
          1,
          3,
          2,
          3,
          1,
          1
         ],
         "yaxis": "y"
        },
        {
         "hoverlabel": {
          "namelength": 0
         },
         "hovertemplate": "County=Lewis County<br>WeekStartDate=%{x}<br>Age 40-59=%{y}",
         "legendgroup": "Lewis County",
         "marker": {
          "color": "#FF97FF",
          "symbol": "circle"
         },
         "mode": "markers",
         "name": "Lewis County",
         "showlegend": true,
         "type": "scatter",
         "x": [
          "2020-03-08",
          "2020-03-15",
          "2020-03-22",
          "2020-03-29",
          "2020-04-05",
          "2020-04-12",
          "2020-04-19",
          "2020-04-26",
          "2020-05-03",
          "2020-05-10",
          "2020-05-24",
          "2020-06-07",
          "2020-06-14",
          "2020-06-21",
          "2020-06-28"
         ],
         "xaxis": "x",
         "y": [
          1,
          2,
          0,
          1,
          1,
          0,
          2,
          1,
          1,
          3,
          1,
          1,
          5,
          9,
          0
         ],
         "yaxis": "y"
        },
        {
         "hoverlabel": {
          "namelength": 0
         },
         "hovertemplate": "County=Mason County<br>WeekStartDate=%{x}<br>Age 40-59=%{y}",
         "legendgroup": "Mason County",
         "marker": {
          "color": "#FECB52",
          "symbol": "circle"
         },
         "mode": "markers",
         "name": "Mason County",
         "showlegend": true,
         "type": "scatter",
         "x": [
          "2020-03-01",
          "2020-03-08",
          "2020-03-15",
          "2020-03-22",
          "2020-03-29",
          "2020-04-12",
          "2020-04-19",
          "2020-04-26",
          "2020-05-03",
          "2020-05-10",
          "2020-05-17",
          "2020-05-24",
          "2020-05-31",
          "2020-06-07",
          "2020-06-14",
          "2020-06-21",
          "2020-06-28"
         ],
         "xaxis": "x",
         "y": [
          0,
          0,
          3,
          3,
          2,
          2,
          0,
          1,
          0,
          2,
          0,
          2,
          1,
          0,
          1,
          3,
          1
         ],
         "yaxis": "y"
        },
        {
         "hoverlabel": {
          "namelength": 0
         },
         "hovertemplate": "County=Okanogan County<br>WeekStartDate=%{x}<br>Age 40-59=%{y}",
         "legendgroup": "Okanogan County",
         "marker": {
          "color": "#636efa",
          "symbol": "circle"
         },
         "mode": "markers",
         "name": "Okanogan County",
         "showlegend": true,
         "type": "scatter",
         "x": [
          "2020-03-08",
          "2020-03-15",
          "2020-03-22",
          "2020-03-29",
          "2020-04-05",
          "2020-04-12",
          "2020-04-19",
          "2020-04-26",
          "2020-05-03",
          "2020-05-10",
          "2020-05-17",
          "2020-05-24",
          "2020-05-31",
          "2020-06-07",
          "2020-06-14",
          "2020-06-21",
          "2020-06-28"
         ],
         "xaxis": "x",
         "y": [
          2,
          0,
          0,
          1,
          1,
          2,
          2,
          0,
          3,
          1,
          0,
          3,
          4,
          3,
          0,
          2,
          2
         ],
         "yaxis": "y"
        },
        {
         "hoverlabel": {
          "namelength": 0
         },
         "hovertemplate": "County=Pacific County<br>WeekStartDate=%{x}<br>Age 40-59=%{y}",
         "legendgroup": "Pacific County",
         "marker": {
          "color": "#EF553B",
          "symbol": "circle"
         },
         "mode": "markers",
         "name": "Pacific County",
         "showlegend": true,
         "type": "scatter",
         "x": [
          "2020-03-29",
          "2020-04-05",
          "2020-04-19",
          "2020-04-26",
          "2020-05-03",
          "2020-05-31",
          "2020-06-07",
          "2020-06-21"
         ],
         "xaxis": "x",
         "y": [
          0,
          1,
          0,
          2,
          2,
          1,
          0,
          1
         ],
         "yaxis": "y"
        },
        {
         "hoverlabel": {
          "namelength": 0
         },
         "hovertemplate": "County=Pend Oreille County<br>WeekStartDate=%{x}<br>Age 40-59=%{y}",
         "legendgroup": "Pend Oreille County",
         "marker": {
          "color": "#00cc96",
          "symbol": "circle"
         },
         "mode": "markers",
         "name": "Pend Oreille County",
         "showlegend": true,
         "type": "scatter",
         "x": [
          "2020-03-15",
          "2020-04-05",
          "2020-05-17",
          "2020-06-21",
          "2020-06-28"
         ],
         "xaxis": "x",
         "y": [
          0,
          1,
          0,
          0,
          0
         ],
         "yaxis": "y"
        },
        {
         "hoverlabel": {
          "namelength": 0
         },
         "hovertemplate": "County=Pierce County<br>WeekStartDate=%{x}<br>Age 40-59=%{y}",
         "legendgroup": "Pierce County",
         "marker": {
          "color": "#ab63fa",
          "symbol": "circle"
         },
         "mode": "markers",
         "name": "Pierce County",
         "showlegend": true,
         "type": "scatter",
         "x": [
          "2020-02-16",
          "2020-02-23",
          "2020-03-01",
          "2020-03-08",
          "2020-03-15",
          "2020-03-22",
          "2020-03-29",
          "2020-04-05",
          "2020-04-12",
          "2020-04-19",
          "2020-04-26",
          "2020-05-03",
          "2020-05-10",
          "2020-05-17",
          "2020-05-24",
          "2020-05-31",
          "2020-06-07",
          "2020-06-14",
          "2020-06-21",
          "2020-06-28"
         ],
         "xaxis": "x",
         "y": [
          1,
          6,
          14,
          36,
          86,
          101,
          92,
          72,
          86,
          63,
          57,
          51,
          32,
          22,
          25,
          24,
          31,
          40,
          47,
          37
         ],
         "yaxis": "y"
        },
        {
         "hoverlabel": {
          "namelength": 0
         },
         "hovertemplate": "County=San Juan County<br>WeekStartDate=%{x}<br>Age 40-59=%{y}",
         "legendgroup": "San Juan County",
         "marker": {
          "color": "#FFA15A",
          "symbol": "circle"
         },
         "mode": "markers",
         "name": "San Juan County",
         "showlegend": true,
         "type": "scatter",
         "x": [
          "2020-03-08",
          "2020-03-15",
          "2020-03-22",
          "2020-03-29",
          "2020-04-05",
          "2020-04-12",
          "2020-06-07",
          "2020-06-14",
          "2020-06-21"
         ],
         "xaxis": "x",
         "y": [
          1,
          2,
          2,
          4,
          0,
          1,
          0,
          0,
          0
         ],
         "yaxis": "y"
        },
        {
         "hoverlabel": {
          "namelength": 0
         },
         "hovertemplate": "County=Skagit County<br>WeekStartDate=%{x}<br>Age 40-59=%{y}",
         "legendgroup": "Skagit County",
         "marker": {
          "color": "#19d3f3",
          "symbol": "circle"
         },
         "mode": "markers",
         "name": "Skagit County",
         "showlegend": true,
         "type": "scatter",
         "x": [
          "2020-02-16",
          "2020-02-23",
          "2020-03-01",
          "2020-03-08",
          "2020-03-15",
          "2020-03-22",
          "2020-03-29",
          "2020-04-05",
          "2020-04-12",
          "2020-04-19",
          "2020-04-26",
          "2020-05-03",
          "2020-05-10",
          "2020-05-17",
          "2020-05-24",
          "2020-05-31",
          "2020-06-07",
          "2020-06-14",
          "2020-06-21",
          "2020-06-28"
         ],
         "xaxis": "x",
         "y": [
          1,
          0,
          2,
          11,
          20,
          13,
          12,
          21,
          12,
          25,
          13,
          15,
          3,
          0,
          4,
          3,
          8,
          4,
          7,
          10
         ],
         "yaxis": "y"
        },
        {
         "hoverlabel": {
          "namelength": 0
         },
         "hovertemplate": "County=Skamania County<br>WeekStartDate=%{x}<br>Age 40-59=%{y}",
         "legendgroup": "Skamania County",
         "marker": {
          "color": "#FF6692",
          "symbol": "circle"
         },
         "mode": "markers",
         "name": "Skamania County",
         "showlegend": true,
         "type": "scatter",
         "x": [
          "2020-03-22",
          "2020-04-05",
          "2020-06-14",
          "2020-06-21",
          "2020-06-28"
         ],
         "xaxis": "x",
         "y": [
          1,
          0,
          0,
          0,
          1
         ],
         "yaxis": "y"
        },
        {
         "hoverlabel": {
          "namelength": 0
         },
         "hovertemplate": "County=Snohomish County<br>WeekStartDate=%{x}<br>Age 40-59=%{y}",
         "legendgroup": "Snohomish County",
         "marker": {
          "color": "#B6E880",
          "symbol": "circle"
         },
         "mode": "markers",
         "name": "Snohomish County",
         "showlegend": true,
         "type": "scatter",
         "x": [
          "2020-01-16",
          "2020-01-26",
          "2020-02-02",
          "2020-02-09",
          "2020-02-16",
          "2020-02-23",
          "2020-03-01",
          "2020-03-08",
          "2020-03-15",
          "2020-03-22",
          "2020-03-29",
          "2020-04-05",
          "2020-04-12",
          "2020-04-19",
          "2020-04-26",
          "2020-05-03",
          "2020-05-10",
          "2020-05-17",
          "2020-05-24",
          "2020-05-31",
          "2020-06-07",
          "2020-06-14",
          "2020-06-21",
          "2020-06-28"
         ],
         "xaxis": "x",
         "y": [
          0,
          0,
          2,
          2,
          9,
          15,
          69,
          141,
          192,
          166,
          98,
          81,
          55,
          73,
          59,
          35,
          22,
          25,
          20,
          28,
          28,
          49,
          37,
          23
         ],
         "yaxis": "y"
        },
        {
         "hoverlabel": {
          "namelength": 0
         },
         "hovertemplate": "County=Spokane County<br>WeekStartDate=%{x}<br>Age 40-59=%{y}",
         "legendgroup": "Spokane County",
         "marker": {
          "color": "#FF97FF",
          "symbol": "circle"
         },
         "mode": "markers",
         "name": "Spokane County",
         "showlegend": true,
         "type": "scatter",
         "x": [
          "2020-02-16",
          "2020-02-23",
          "2020-03-01",
          "2020-03-08",
          "2020-03-15",
          "2020-03-22",
          "2020-03-29",
          "2020-04-05",
          "2020-04-12",
          "2020-04-19",
          "2020-04-26",
          "2020-05-03",
          "2020-05-10",
          "2020-05-17",
          "2020-05-24",
          "2020-05-31",
          "2020-06-07",
          "2020-06-14",
          "2020-06-21",
          "2020-06-28"
         ],
         "xaxis": "x",
         "y": [
          0,
          0,
          3,
          12,
          39,
          24,
          13,
          7,
          10,
          8,
          5,
          3,
          17,
          22,
          19,
          28,
          31,
          41,
          67,
          39
         ],
         "yaxis": "y"
        },
        {
         "hoverlabel": {
          "namelength": 0
         },
         "hovertemplate": "County=Stevens County<br>WeekStartDate=%{x}<br>Age 40-59=%{y}",
         "legendgroup": "Stevens County",
         "marker": {
          "color": "#FECB52",
          "symbol": "circle"
         },
         "mode": "markers",
         "name": "Stevens County",
         "showlegend": true,
         "type": "scatter",
         "x": [
          "2020-03-01",
          "2020-03-08",
          "2020-03-15",
          "2020-03-22",
          "2020-03-29",
          "2020-04-12",
          "2020-05-10",
          "2020-05-17",
          "2020-05-24",
          "2020-06-07",
          "2020-06-21",
          "2020-06-28"
         ],
         "xaxis": "x",
         "y": [
          1,
          0,
          0,
          1,
          0,
          0,
          1,
          2,
          1,
          2,
          0,
          1
         ],
         "yaxis": "y"
        },
        {
         "hoverlabel": {
          "namelength": 0
         },
         "hovertemplate": "County=Thurston County<br>WeekStartDate=%{x}<br>Age 40-59=%{y}",
         "legendgroup": "Thurston County",
         "marker": {
          "color": "#636efa",
          "symbol": "circle"
         },
         "mode": "markers",
         "name": "Thurston County",
         "showlegend": true,
         "type": "scatter",
         "x": [
          "2020-02-23",
          "2020-03-01",
          "2020-03-08",
          "2020-03-15",
          "2020-03-22",
          "2020-03-29",
          "2020-04-05",
          "2020-04-12",
          "2020-04-19",
          "2020-04-26",
          "2020-05-03",
          "2020-05-10",
          "2020-05-17",
          "2020-05-24",
          "2020-05-31",
          "2020-06-07",
          "2020-06-14",
          "2020-06-21",
          "2020-06-28"
         ],
         "xaxis": "x",
         "y": [
          1,
          3,
          6,
          6,
          11,
          6,
          4,
          6,
          4,
          1,
          2,
          2,
          3,
          9,
          9,
          6,
          5,
          7,
          6
         ],
         "yaxis": "y"
        },
        {
         "hoverlabel": {
          "namelength": 0
         },
         "hovertemplate": "County=Wahkiakum County<br>WeekStartDate=%{x}<br>Age 40-59=%{y}",
         "legendgroup": "Wahkiakum County",
         "marker": {
          "color": "#EF553B",
          "symbol": "circle"
         },
         "mode": "markers",
         "name": "Wahkiakum County",
         "showlegend": true,
         "type": "scatter",
         "x": [
          "2020-03-15",
          "2020-03-22",
          "2020-05-03",
          "2020-06-14"
         ],
         "xaxis": "x",
         "y": [
          1,
          1,
          1,
          1
         ],
         "yaxis": "y"
        },
        {
         "hoverlabel": {
          "namelength": 0
         },
         "hovertemplate": "County=Walla Walla County<br>WeekStartDate=%{x}<br>Age 40-59=%{y}",
         "legendgroup": "Walla Walla County",
         "marker": {
          "color": "#00cc96",
          "symbol": "circle"
         },
         "mode": "markers",
         "name": "Walla Walla County",
         "showlegend": true,
         "type": "scatter",
         "x": [
          "2020-03-08",
          "2020-03-15",
          "2020-03-22",
          "2020-03-29",
          "2020-04-05",
          "2020-04-12",
          "2020-04-19",
          "2020-04-26",
          "2020-05-03",
          "2020-05-10",
          "2020-05-17",
          "2020-05-24",
          "2020-05-31",
          "2020-06-07",
          "2020-06-14",
          "2020-06-21",
          "2020-06-28"
         ],
         "xaxis": "x",
         "y": [
          1,
          0,
          2,
          4,
          4,
          6,
          10,
          4,
          1,
          2,
          2,
          0,
          6,
          4,
          5,
          6,
          1
         ],
         "yaxis": "y"
        },
        {
         "hoverlabel": {
          "namelength": 0
         },
         "hovertemplate": "County=Whatcom County<br>WeekStartDate=%{x}<br>Age 40-59=%{y}",
         "legendgroup": "Whatcom County",
         "marker": {
          "color": "#ab63fa",
          "symbol": "circle"
         },
         "mode": "markers",
         "name": "Whatcom County",
         "showlegend": true,
         "type": "scatter",
         "x": [
          "2020-02-16",
          "2020-02-23",
          "2020-03-01",
          "2020-03-08",
          "2020-03-15",
          "2020-03-22",
          "2020-03-29",
          "2020-04-05",
          "2020-04-12",
          "2020-04-19",
          "2020-04-26",
          "2020-05-03",
          "2020-05-10",
          "2020-05-17",
          "2020-05-24",
          "2020-05-31",
          "2020-06-07",
          "2020-06-14",
          "2020-06-21",
          "2020-06-28"
         ],
         "xaxis": "x",
         "y": [
          0,
          1,
          2,
          8,
          20,
          27,
          13,
          3,
          1,
          4,
          2,
          3,
          5,
          3,
          7,
          3,
          8,
          22,
          20,
          5
         ],
         "yaxis": "y"
        },
        {
         "hoverlabel": {
          "namelength": 0
         },
         "hovertemplate": "County=Whitman County<br>WeekStartDate=%{x}<br>Age 40-59=%{y}",
         "legendgroup": "Whitman County",
         "marker": {
          "color": "#FFA15A",
          "symbol": "circle"
         },
         "mode": "markers",
         "name": "Whitman County",
         "showlegend": true,
         "type": "scatter",
         "x": [
          "2020-03-08",
          "2020-03-15",
          "2020-03-22",
          "2020-03-29",
          "2020-04-12",
          "2020-04-19",
          "2020-05-10",
          "2020-05-17",
          "2020-05-31",
          "2020-06-07",
          "2020-06-14",
          "2020-06-21",
          "2020-06-28"
         ],
         "xaxis": "x",
         "y": [
          0,
          2,
          2,
          2,
          0,
          0,
          0,
          0,
          1,
          0,
          3,
          1,
          1
         ],
         "yaxis": "y"
        },
        {
         "hoverlabel": {
          "namelength": 0
         },
         "hovertemplate": "County=Yakima County<br>WeekStartDate=%{x}<br>Age 40-59=%{y}",
         "legendgroup": "Yakima County",
         "marker": {
          "color": "#19d3f3",
          "symbol": "circle"
         },
         "mode": "markers",
         "name": "Yakima County",
         "showlegend": true,
         "type": "scatter",
         "x": [
          "2020-01-16",
          "2020-02-09",
          "2020-02-16",
          "2020-03-01",
          "2020-03-08",
          "2020-03-15",
          "2020-03-22",
          "2020-03-29",
          "2020-04-05",
          "2020-04-12",
          "2020-04-19",
          "2020-04-26",
          "2020-05-03",
          "2020-05-10",
          "2020-05-17",
          "2020-05-24",
          "2020-05-31",
          "2020-06-07",
          "2020-06-14",
          "2020-06-21",
          "2020-06-28"
         ],
         "xaxis": "x",
         "y": [
          0,
          1,
          2,
          4,
          6,
          23,
          55,
          75,
          81,
          71,
          104,
          136,
          168,
          213,
          202,
          228,
          274,
          221,
          189,
          124,
          59
         ],
         "yaxis": "y"
        },
        {
         "hoverlabel": {
          "namelength": 0
         },
         "hovertemplate": "County=Unassigned<br>WeekStartDate=%{x}<br>Age 40-59=%{y}",
         "legendgroup": "Unassigned",
         "marker": {
          "color": "#FF6692",
          "symbol": "circle"
         },
         "mode": "markers",
         "name": "Unassigned",
         "showlegend": true,
         "type": "scatter",
         "x": [
          "2020-04-12",
          "2020-04-19",
          "2020-05-10",
          "2020-05-17",
          "2020-05-24",
          "2020-05-31",
          "2020-06-07",
          "2020-06-14",
          "2020-06-21",
          "2020-06-28"
         ],
         "xaxis": "x",
         "y": [
          0,
          1,
          1,
          4,
          2,
          0,
          3,
          1,
          8,
          25
         ],
         "yaxis": "y"
        }
       ],
       "layout": {
        "legend": {
         "title": {
          "text": "County"
         },
         "tracegroupgap": 0
        },
        "margin": {
         "t": 60
        },
        "template": {
         "data": {
          "bar": [
           {
            "error_x": {
             "color": "#2a3f5f"
            },
            "error_y": {
             "color": "#2a3f5f"
            },
            "marker": {
             "line": {
              "color": "#E5ECF6",
              "width": 0.5
             }
            },
            "type": "bar"
           }
          ],
          "barpolar": [
           {
            "marker": {
             "line": {
              "color": "#E5ECF6",
              "width": 0.5
             }
            },
            "type": "barpolar"
           }
          ],
          "carpet": [
           {
            "aaxis": {
             "endlinecolor": "#2a3f5f",
             "gridcolor": "white",
             "linecolor": "white",
             "minorgridcolor": "white",
             "startlinecolor": "#2a3f5f"
            },
            "baxis": {
             "endlinecolor": "#2a3f5f",
             "gridcolor": "white",
             "linecolor": "white",
             "minorgridcolor": "white",
             "startlinecolor": "#2a3f5f"
            },
            "type": "carpet"
           }
          ],
          "choropleth": [
           {
            "colorbar": {
             "outlinewidth": 0,
             "ticks": ""
            },
            "type": "choropleth"
           }
          ],
          "contour": [
           {
            "colorbar": {
             "outlinewidth": 0,
             "ticks": ""
            },
            "colorscale": [
             [
              0,
              "#0d0887"
             ],
             [
              0.1111111111111111,
              "#46039f"
             ],
             [
              0.2222222222222222,
              "#7201a8"
             ],
             [
              0.3333333333333333,
              "#9c179e"
             ],
             [
              0.4444444444444444,
              "#bd3786"
             ],
             [
              0.5555555555555556,
              "#d8576b"
             ],
             [
              0.6666666666666666,
              "#ed7953"
             ],
             [
              0.7777777777777778,
              "#fb9f3a"
             ],
             [
              0.8888888888888888,
              "#fdca26"
             ],
             [
              1,
              "#f0f921"
             ]
            ],
            "type": "contour"
           }
          ],
          "contourcarpet": [
           {
            "colorbar": {
             "outlinewidth": 0,
             "ticks": ""
            },
            "type": "contourcarpet"
           }
          ],
          "heatmap": [
           {
            "colorbar": {
             "outlinewidth": 0,
             "ticks": ""
            },
            "colorscale": [
             [
              0,
              "#0d0887"
             ],
             [
              0.1111111111111111,
              "#46039f"
             ],
             [
              0.2222222222222222,
              "#7201a8"
             ],
             [
              0.3333333333333333,
              "#9c179e"
             ],
             [
              0.4444444444444444,
              "#bd3786"
             ],
             [
              0.5555555555555556,
              "#d8576b"
             ],
             [
              0.6666666666666666,
              "#ed7953"
             ],
             [
              0.7777777777777778,
              "#fb9f3a"
             ],
             [
              0.8888888888888888,
              "#fdca26"
             ],
             [
              1,
              "#f0f921"
             ]
            ],
            "type": "heatmap"
           }
          ],
          "heatmapgl": [
           {
            "colorbar": {
             "outlinewidth": 0,
             "ticks": ""
            },
            "colorscale": [
             [
              0,
              "#0d0887"
             ],
             [
              0.1111111111111111,
              "#46039f"
             ],
             [
              0.2222222222222222,
              "#7201a8"
             ],
             [
              0.3333333333333333,
              "#9c179e"
             ],
             [
              0.4444444444444444,
              "#bd3786"
             ],
             [
              0.5555555555555556,
              "#d8576b"
             ],
             [
              0.6666666666666666,
              "#ed7953"
             ],
             [
              0.7777777777777778,
              "#fb9f3a"
             ],
             [
              0.8888888888888888,
              "#fdca26"
             ],
             [
              1,
              "#f0f921"
             ]
            ],
            "type": "heatmapgl"
           }
          ],
          "histogram": [
           {
            "marker": {
             "colorbar": {
              "outlinewidth": 0,
              "ticks": ""
             }
            },
            "type": "histogram"
           }
          ],
          "histogram2d": [
           {
            "colorbar": {
             "outlinewidth": 0,
             "ticks": ""
            },
            "colorscale": [
             [
              0,
              "#0d0887"
             ],
             [
              0.1111111111111111,
              "#46039f"
             ],
             [
              0.2222222222222222,
              "#7201a8"
             ],
             [
              0.3333333333333333,
              "#9c179e"
             ],
             [
              0.4444444444444444,
              "#bd3786"
             ],
             [
              0.5555555555555556,
              "#d8576b"
             ],
             [
              0.6666666666666666,
              "#ed7953"
             ],
             [
              0.7777777777777778,
              "#fb9f3a"
             ],
             [
              0.8888888888888888,
              "#fdca26"
             ],
             [
              1,
              "#f0f921"
             ]
            ],
            "type": "histogram2d"
           }
          ],
          "histogram2dcontour": [
           {
            "colorbar": {
             "outlinewidth": 0,
             "ticks": ""
            },
            "colorscale": [
             [
              0,
              "#0d0887"
             ],
             [
              0.1111111111111111,
              "#46039f"
             ],
             [
              0.2222222222222222,
              "#7201a8"
             ],
             [
              0.3333333333333333,
              "#9c179e"
             ],
             [
              0.4444444444444444,
              "#bd3786"
             ],
             [
              0.5555555555555556,
              "#d8576b"
             ],
             [
              0.6666666666666666,
              "#ed7953"
             ],
             [
              0.7777777777777778,
              "#fb9f3a"
             ],
             [
              0.8888888888888888,
              "#fdca26"
             ],
             [
              1,
              "#f0f921"
             ]
            ],
            "type": "histogram2dcontour"
           }
          ],
          "mesh3d": [
           {
            "colorbar": {
             "outlinewidth": 0,
             "ticks": ""
            },
            "type": "mesh3d"
           }
          ],
          "parcoords": [
           {
            "line": {
             "colorbar": {
              "outlinewidth": 0,
              "ticks": ""
             }
            },
            "type": "parcoords"
           }
          ],
          "pie": [
           {
            "automargin": true,
            "type": "pie"
           }
          ],
          "scatter": [
           {
            "marker": {
             "colorbar": {
              "outlinewidth": 0,
              "ticks": ""
             }
            },
            "type": "scatter"
           }
          ],
          "scatter3d": [
           {
            "line": {
             "colorbar": {
              "outlinewidth": 0,
              "ticks": ""
             }
            },
            "marker": {
             "colorbar": {
              "outlinewidth": 0,
              "ticks": ""
             }
            },
            "type": "scatter3d"
           }
          ],
          "scattercarpet": [
           {
            "marker": {
             "colorbar": {
              "outlinewidth": 0,
              "ticks": ""
             }
            },
            "type": "scattercarpet"
           }
          ],
          "scattergeo": [
           {
            "marker": {
             "colorbar": {
              "outlinewidth": 0,
              "ticks": ""
             }
            },
            "type": "scattergeo"
           }
          ],
          "scattergl": [
           {
            "marker": {
             "colorbar": {
              "outlinewidth": 0,
              "ticks": ""
             }
            },
            "type": "scattergl"
           }
          ],
          "scattermapbox": [
           {
            "marker": {
             "colorbar": {
              "outlinewidth": 0,
              "ticks": ""
             }
            },
            "type": "scattermapbox"
           }
          ],
          "scatterpolar": [
           {
            "marker": {
             "colorbar": {
              "outlinewidth": 0,
              "ticks": ""
             }
            },
            "type": "scatterpolar"
           }
          ],
          "scatterpolargl": [
           {
            "marker": {
             "colorbar": {
              "outlinewidth": 0,
              "ticks": ""
             }
            },
            "type": "scatterpolargl"
           }
          ],
          "scatterternary": [
           {
            "marker": {
             "colorbar": {
              "outlinewidth": 0,
              "ticks": ""
             }
            },
            "type": "scatterternary"
           }
          ],
          "surface": [
           {
            "colorbar": {
             "outlinewidth": 0,
             "ticks": ""
            },
            "colorscale": [
             [
              0,
              "#0d0887"
             ],
             [
              0.1111111111111111,
              "#46039f"
             ],
             [
              0.2222222222222222,
              "#7201a8"
             ],
             [
              0.3333333333333333,
              "#9c179e"
             ],
             [
              0.4444444444444444,
              "#bd3786"
             ],
             [
              0.5555555555555556,
              "#d8576b"
             ],
             [
              0.6666666666666666,
              "#ed7953"
             ],
             [
              0.7777777777777778,
              "#fb9f3a"
             ],
             [
              0.8888888888888888,
              "#fdca26"
             ],
             [
              1,
              "#f0f921"
             ]
            ],
            "type": "surface"
           }
          ],
          "table": [
           {
            "cells": {
             "fill": {
              "color": "#EBF0F8"
             },
             "line": {
              "color": "white"
             }
            },
            "header": {
             "fill": {
              "color": "#C8D4E3"
             },
             "line": {
              "color": "white"
             }
            },
            "type": "table"
           }
          ]
         },
         "layout": {
          "annotationdefaults": {
           "arrowcolor": "#2a3f5f",
           "arrowhead": 0,
           "arrowwidth": 1
          },
          "coloraxis": {
           "colorbar": {
            "outlinewidth": 0,
            "ticks": ""
           }
          },
          "colorscale": {
           "diverging": [
            [
             0,
             "#8e0152"
            ],
            [
             0.1,
             "#c51b7d"
            ],
            [
             0.2,
             "#de77ae"
            ],
            [
             0.3,
             "#f1b6da"
            ],
            [
             0.4,
             "#fde0ef"
            ],
            [
             0.5,
             "#f7f7f7"
            ],
            [
             0.6,
             "#e6f5d0"
            ],
            [
             0.7,
             "#b8e186"
            ],
            [
             0.8,
             "#7fbc41"
            ],
            [
             0.9,
             "#4d9221"
            ],
            [
             1,
             "#276419"
            ]
           ],
           "sequential": [
            [
             0,
             "#0d0887"
            ],
            [
             0.1111111111111111,
             "#46039f"
            ],
            [
             0.2222222222222222,
             "#7201a8"
            ],
            [
             0.3333333333333333,
             "#9c179e"
            ],
            [
             0.4444444444444444,
             "#bd3786"
            ],
            [
             0.5555555555555556,
             "#d8576b"
            ],
            [
             0.6666666666666666,
             "#ed7953"
            ],
            [
             0.7777777777777778,
             "#fb9f3a"
            ],
            [
             0.8888888888888888,
             "#fdca26"
            ],
            [
             1,
             "#f0f921"
            ]
           ],
           "sequentialminus": [
            [
             0,
             "#0d0887"
            ],
            [
             0.1111111111111111,
             "#46039f"
            ],
            [
             0.2222222222222222,
             "#7201a8"
            ],
            [
             0.3333333333333333,
             "#9c179e"
            ],
            [
             0.4444444444444444,
             "#bd3786"
            ],
            [
             0.5555555555555556,
             "#d8576b"
            ],
            [
             0.6666666666666666,
             "#ed7953"
            ],
            [
             0.7777777777777778,
             "#fb9f3a"
            ],
            [
             0.8888888888888888,
             "#fdca26"
            ],
            [
             1,
             "#f0f921"
            ]
           ]
          },
          "colorway": [
           "#636efa",
           "#EF553B",
           "#00cc96",
           "#ab63fa",
           "#FFA15A",
           "#19d3f3",
           "#FF6692",
           "#B6E880",
           "#FF97FF",
           "#FECB52"
          ],
          "font": {
           "color": "#2a3f5f"
          },
          "geo": {
           "bgcolor": "white",
           "lakecolor": "white",
           "landcolor": "#E5ECF6",
           "showlakes": true,
           "showland": true,
           "subunitcolor": "white"
          },
          "hoverlabel": {
           "align": "left"
          },
          "hovermode": "closest",
          "mapbox": {
           "style": "light"
          },
          "paper_bgcolor": "white",
          "plot_bgcolor": "#E5ECF6",
          "polar": {
           "angularaxis": {
            "gridcolor": "white",
            "linecolor": "white",
            "ticks": ""
           },
           "bgcolor": "#E5ECF6",
           "radialaxis": {
            "gridcolor": "white",
            "linecolor": "white",
            "ticks": ""
           }
          },
          "scene": {
           "xaxis": {
            "backgroundcolor": "#E5ECF6",
            "gridcolor": "white",
            "gridwidth": 2,
            "linecolor": "white",
            "showbackground": true,
            "ticks": "",
            "zerolinecolor": "white"
           },
           "yaxis": {
            "backgroundcolor": "#E5ECF6",
            "gridcolor": "white",
            "gridwidth": 2,
            "linecolor": "white",
            "showbackground": true,
            "ticks": "",
            "zerolinecolor": "white"
           },
           "zaxis": {
            "backgroundcolor": "#E5ECF6",
            "gridcolor": "white",
            "gridwidth": 2,
            "linecolor": "white",
            "showbackground": true,
            "ticks": "",
            "zerolinecolor": "white"
           }
          },
          "shapedefaults": {
           "line": {
            "color": "#2a3f5f"
           }
          },
          "ternary": {
           "aaxis": {
            "gridcolor": "white",
            "linecolor": "white",
            "ticks": ""
           },
           "baxis": {
            "gridcolor": "white",
            "linecolor": "white",
            "ticks": ""
           },
           "bgcolor": "#E5ECF6",
           "caxis": {
            "gridcolor": "white",
            "linecolor": "white",
            "ticks": ""
           }
          },
          "title": {
           "x": 0.05
          },
          "xaxis": {
           "automargin": true,
           "gridcolor": "white",
           "linecolor": "white",
           "ticks": "",
           "title": {
            "standoff": 15
           },
           "zerolinecolor": "white",
           "zerolinewidth": 2
          },
          "yaxis": {
           "automargin": true,
           "gridcolor": "white",
           "linecolor": "white",
           "ticks": "",
           "title": {
            "standoff": 15
           },
           "zerolinecolor": "white",
           "zerolinewidth": 2
          }
         }
        },
        "xaxis": {
         "anchor": "y",
         "domain": [
          0,
          1
         ],
         "title": {
          "text": "WeekStartDate"
         }
        },
        "yaxis": {
         "anchor": "x",
         "domain": [
          0,
          1
         ],
         "title": {
          "text": "Age 40-59"
         }
        }
       }
      },
      "text/html": [
       "<div>\n",
       "        \n",
       "        \n",
       "            <div id=\"c69b00df-aac6-4fa8-a12e-bbf4aa681db4\" class=\"plotly-graph-div\" style=\"height:525px; width:100%;\"></div>\n",
       "            <script type=\"text/javascript\">\n",
       "                require([\"plotly\"], function(Plotly) {\n",
       "                    window.PLOTLYENV=window.PLOTLYENV || {};\n",
       "                    \n",
       "                if (document.getElementById(\"c69b00df-aac6-4fa8-a12e-bbf4aa681db4\")) {\n",
       "                    Plotly.newPlot(\n",
       "                        'c69b00df-aac6-4fa8-a12e-bbf4aa681db4',\n",
       "                        [{\"hoverlabel\": {\"namelength\": 0}, \"hovertemplate\": \"County=Adams County<br>WeekStartDate=%{x}<br>Age 40-59=%{y}\", \"legendgroup\": \"Adams County\", \"marker\": {\"color\": \"#636efa\", \"symbol\": \"circle\"}, \"mode\": \"markers\", \"name\": \"Adams County\", \"showlegend\": true, \"type\": \"scatter\", \"x\": [\"2020-03-08\", \"2020-03-15\", \"2020-03-22\", \"2020-03-29\", \"2020-04-05\", \"2020-04-12\", \"2020-04-19\", \"2020-04-26\", \"2020-05-03\", \"2020-05-10\", \"2020-05-17\", \"2020-05-24\", \"2020-05-31\", \"2020-06-07\", \"2020-06-14\", \"2020-06-21\", \"2020-06-28\"], \"xaxis\": \"x\", \"y\": [1, 3, 4, 4, 4, 1, 0, 1, 0, 1, 4, 4, 3, 5, 5, 8, 11], \"yaxis\": \"y\"}, {\"hoverlabel\": {\"namelength\": 0}, \"hovertemplate\": \"County=Asotin County<br>WeekStartDate=%{x}<br>Age 40-59=%{y}\", \"legendgroup\": \"Asotin County\", \"marker\": {\"color\": \"#EF553B\", \"symbol\": \"circle\"}, \"mode\": \"markers\", \"name\": \"Asotin County\", \"showlegend\": true, \"type\": \"scatter\", \"x\": [\"2020-03-15\", \"2020-03-29\", \"2020-04-05\", \"2020-04-12\", \"2020-04-19\", \"2020-05-17\", \"2020-05-31\", \"2020-06-21\"], \"xaxis\": \"x\", \"y\": [0, 2, 4, 3, 0, 1, 0, 0], \"yaxis\": \"y\"}, {\"hoverlabel\": {\"namelength\": 0}, \"hovertemplate\": \"County=Benton County<br>WeekStartDate=%{x}<br>Age 40-59=%{y}\", \"legendgroup\": \"Benton County\", \"marker\": {\"color\": \"#00cc96\", \"symbol\": \"circle\"}, \"mode\": \"markers\", \"name\": \"Benton County\", \"showlegend\": true, \"type\": \"scatter\", \"x\": [\"2020-02-16\", \"2020-03-01\", \"2020-03-08\", \"2020-03-15\", \"2020-03-22\", \"2020-03-29\", \"2020-04-05\", \"2020-04-12\", \"2020-04-19\", \"2020-04-26\", \"2020-05-03\", \"2020-05-10\", \"2020-05-17\", \"2020-05-24\", \"2020-05-31\", \"2020-06-07\", \"2020-06-14\", \"2020-06-21\", \"2020-06-28\"], \"xaxis\": \"x\", \"y\": [0, 0, 4, 16, 27, 29, 30, 22, 25, 26, 9, 24, 26, 32, 57, 76, 78, 63, 28], \"yaxis\": \"y\"}, {\"hoverlabel\": {\"namelength\": 0}, \"hovertemplate\": \"County=Chelan County<br>WeekStartDate=%{x}<br>Age 40-59=%{y}\", \"legendgroup\": \"Chelan County\", \"marker\": {\"color\": \"#ab63fa\", \"symbol\": \"circle\"}, \"mode\": \"markers\", \"name\": \"Chelan County\", \"showlegend\": true, \"type\": \"scatter\", \"x\": [\"2020-02-09\", \"2020-03-08\", \"2020-03-15\", \"2020-03-22\", \"2020-03-29\", \"2020-04-05\", \"2020-04-12\", \"2020-04-19\", \"2020-04-26\", \"2020-05-03\", \"2020-05-10\", \"2020-05-17\", \"2020-05-24\", \"2020-05-31\", \"2020-06-07\", \"2020-06-14\", \"2020-06-21\", \"2020-06-28\"], \"xaxis\": \"x\", \"y\": [1, 5, 0, 2, 6, 4, 6, 9, 7, 7, 10, 19, 5, 0, 1, 8, 21, 16], \"yaxis\": \"y\"}, {\"hoverlabel\": {\"namelength\": 0}, \"hovertemplate\": \"County=Clallam County<br>WeekStartDate=%{x}<br>Age 40-59=%{y}\", \"legendgroup\": \"Clallam County\", \"marker\": {\"color\": \"#FFA15A\", \"symbol\": \"circle\"}, \"mode\": \"markers\", \"name\": \"Clallam County\", \"showlegend\": true, \"type\": \"scatter\", \"x\": [\"2020-03-01\", \"2020-03-08\", \"2020-03-15\", \"2020-03-29\", \"2020-04-05\", \"2020-04-19\", \"2020-04-26\", \"2020-05-10\", \"2020-05-17\", \"2020-05-24\", \"2020-05-31\", \"2020-06-07\", \"2020-06-14\", \"2020-06-21\", \"2020-06-28\"], \"xaxis\": \"x\", \"y\": [0, 2, 0, 0, 1, 0, 0, 2, 0, 0, 1, 1, 0, 3, 0], \"yaxis\": \"y\"}, {\"hoverlabel\": {\"namelength\": 0}, \"hovertemplate\": \"County=Clark County<br>WeekStartDate=%{x}<br>Age 40-59=%{y}\", \"legendgroup\": \"Clark County\", \"marker\": {\"color\": \"#19d3f3\", \"symbol\": \"circle\"}, \"mode\": \"markers\", \"name\": \"Clark County\", \"showlegend\": true, \"type\": \"scatter\", \"x\": [\"2020-02-23\", \"2020-03-01\", \"2020-03-08\", \"2020-03-15\", \"2020-03-22\", \"2020-03-29\", \"2020-04-05\", \"2020-04-12\", \"2020-04-19\", \"2020-04-26\", \"2020-05-03\", \"2020-05-10\", \"2020-05-17\", \"2020-05-24\", \"2020-05-31\", \"2020-06-07\", \"2020-06-14\", \"2020-06-21\", \"2020-06-28\"], \"xaxis\": \"x\", \"y\": [1, 2, 15, 26, 25, 21, 17, 15, 7, 5, 6, 7, 28, 18, 21, 13, 14, 44, 19], \"yaxis\": \"y\"}, {\"hoverlabel\": {\"namelength\": 0}, \"hovertemplate\": \"County=Columbia County<br>WeekStartDate=%{x}<br>Age 40-59=%{y}\", \"legendgroup\": \"Columbia County\", \"marker\": {\"color\": \"#FF6692\", \"symbol\": \"circle\"}, \"mode\": \"markers\", \"name\": \"Columbia County\", \"showlegend\": true, \"type\": \"scatter\", \"x\": [\"2020-03-01\", \"2020-06-07\", \"2020-06-14\"], \"xaxis\": \"x\", \"y\": [0, 2, 0], \"yaxis\": \"y\"}, {\"hoverlabel\": {\"namelength\": 0}, \"hovertemplate\": \"County=Cowlitz County<br>WeekStartDate=%{x}<br>Age 40-59=%{y}\", \"legendgroup\": \"Cowlitz County\", \"marker\": {\"color\": \"#B6E880\", \"symbol\": \"circle\"}, \"mode\": \"markers\", \"name\": \"Cowlitz County\", \"showlegend\": true, \"type\": \"scatter\", \"x\": [\"2020-02-23\", \"2020-03-01\", \"2020-03-08\", \"2020-03-15\", \"2020-03-22\", \"2020-03-29\", \"2020-04-05\", \"2020-04-12\", \"2020-04-19\", \"2020-04-26\", \"2020-05-03\", \"2020-05-10\", \"2020-05-17\", \"2020-05-24\", \"2020-05-31\", \"2020-06-07\", \"2020-06-14\", \"2020-06-21\", \"2020-06-28\"], \"xaxis\": \"x\", \"y\": [0, 0, 1, 1, 0, 2, 4, 2, 2, 1, 1, 3, 2, 3, 10, 6, 9, 6, 4], \"yaxis\": \"y\"}, {\"hoverlabel\": {\"namelength\": 0}, \"hovertemplate\": \"County=Douglas County<br>WeekStartDate=%{x}<br>Age 40-59=%{y}\", \"legendgroup\": \"Douglas County\", \"marker\": {\"color\": \"#FF97FF\", \"symbol\": \"circle\"}, \"mode\": \"markers\", \"name\": \"Douglas County\", \"showlegend\": true, \"type\": \"scatter\", \"x\": [\"2020-03-01\", \"2020-03-08\", \"2020-03-15\", \"2020-03-22\", \"2020-03-29\", \"2020-04-05\", \"2020-04-12\", \"2020-04-19\", \"2020-04-26\", \"2020-05-03\", \"2020-05-10\", \"2020-05-17\", \"2020-05-24\", \"2020-05-31\", \"2020-06-07\", \"2020-06-14\", \"2020-06-21\", \"2020-06-28\"], \"xaxis\": \"x\", \"y\": [1, 0, 0, 2, 1, 1, 4, 5, 8, 7, 9, 12, 5, 1, 3, 7, 13, 9], \"yaxis\": \"y\"}, {\"hoverlabel\": {\"namelength\": 0}, \"hovertemplate\": \"County=Franklin County<br>WeekStartDate=%{x}<br>Age 40-59=%{y}\", \"legendgroup\": \"Franklin County\", \"marker\": {\"color\": \"#FECB52\", \"symbol\": \"circle\"}, \"mode\": \"markers\", \"name\": \"Franklin County\", \"showlegend\": true, \"type\": \"scatter\", \"x\": [\"2020-02-09\", \"2020-02-23\", \"2020-03-01\", \"2020-03-08\", \"2020-03-15\", \"2020-03-22\", \"2020-03-29\", \"2020-04-05\", \"2020-04-12\", \"2020-04-19\", \"2020-04-26\", \"2020-05-03\", \"2020-05-10\", \"2020-05-17\", \"2020-05-24\", \"2020-05-31\", \"2020-06-07\", \"2020-06-14\", \"2020-06-21\", \"2020-06-28\"], \"xaxis\": \"x\", \"y\": [1, 0, 0, 3, 6, 27, 27, 26, 35, 33, 29, 14, 21, 31, 53, 92, 77, 102, 89, 34], \"yaxis\": \"y\"}, {\"hoverlabel\": {\"namelength\": 0}, \"hovertemplate\": \"County=Grant County<br>WeekStartDate=%{x}<br>Age 40-59=%{y}\", \"legendgroup\": \"Grant County\", \"marker\": {\"color\": \"#636efa\", \"symbol\": \"circle\"}, \"mode\": \"markers\", \"name\": \"Grant County\", \"showlegend\": true, \"type\": \"scatter\", \"x\": [\"2020-02-16\", \"2020-02-23\", \"2020-03-01\", \"2020-03-08\", \"2020-03-15\", \"2020-03-22\", \"2020-03-29\", \"2020-04-05\", \"2020-04-12\", \"2020-04-19\", \"2020-04-26\", \"2020-05-03\", \"2020-05-10\", \"2020-05-17\", \"2020-05-24\", \"2020-05-31\", \"2020-06-07\", \"2020-06-14\", \"2020-06-21\", \"2020-06-28\"], \"xaxis\": \"x\", \"y\": [1, 0, 0, 13, 15, 8, 5, 10, 5, 2, 2, 3, 3, 6, 4, 4, 27, 28, 21, 7], \"yaxis\": \"y\"}, {\"hoverlabel\": {\"namelength\": 0}, \"hovertemplate\": \"County=Grays Harbor County<br>WeekStartDate=%{x}<br>Age 40-59=%{y}\", \"legendgroup\": \"Grays Harbor County\", \"marker\": {\"color\": \"#EF553B\", \"symbol\": \"circle\"}, \"mode\": \"markers\", \"name\": \"Grays Harbor County\", \"showlegend\": true, \"type\": \"scatter\", \"x\": [\"2020-02-16\", \"2020-02-23\", \"2020-03-01\", \"2020-03-15\", \"2020-03-22\", \"2020-03-29\", \"2020-04-05\", \"2020-04-26\", \"2020-05-03\", \"2020-05-17\", \"2020-05-24\", \"2020-05-31\", \"2020-06-07\", \"2020-06-14\", \"2020-06-21\", \"2020-06-28\"], \"xaxis\": \"x\", \"y\": [0, 0, 0, 1, 2, 2, 0, 0, 0, 0, 0, 0, 1, 0, 0, 0], \"yaxis\": \"y\"}, {\"hoverlabel\": {\"namelength\": 0}, \"hovertemplate\": \"County=Island County<br>WeekStartDate=%{x}<br>Age 40-59=%{y}\", \"legendgroup\": \"Island County\", \"marker\": {\"color\": \"#00cc96\", \"symbol\": \"circle\"}, \"mode\": \"markers\", \"name\": \"Island County\", \"showlegend\": true, \"type\": \"scatter\", \"x\": [\"2020-02-23\", \"2020-03-01\", \"2020-03-08\", \"2020-03-15\", \"2020-03-22\", \"2020-03-29\", \"2020-04-05\", \"2020-04-12\", \"2020-04-19\", \"2020-04-26\", \"2020-05-03\", \"2020-05-10\", \"2020-05-24\", \"2020-06-07\", \"2020-06-14\", \"2020-06-21\", \"2020-06-28\"], \"xaxis\": \"x\", \"y\": [1, 5, 8, 10, 14, 8, 2, 0, 0, 2, 2, 0, 1, 2, 0, 2, 0], \"yaxis\": \"y\"}, {\"hoverlabel\": {\"namelength\": 0}, \"hovertemplate\": \"County=Jefferson County<br>WeekStartDate=%{x}<br>Age 40-59=%{y}\", \"legendgroup\": \"Jefferson County\", \"marker\": {\"color\": \"#ab63fa\", \"symbol\": \"circle\"}, \"mode\": \"markers\", \"name\": \"Jefferson County\", \"showlegend\": true, \"type\": \"scatter\", \"x\": [\"2020-02-23\", \"2020-03-01\", \"2020-03-08\", \"2020-03-15\", \"2020-03-22\", \"2020-03-29\", \"2020-05-31\", \"2020-06-07\", \"2020-06-14\", \"2020-06-21\", \"2020-06-28\"], \"xaxis\": \"x\", \"y\": [1, 0, 3, 1, 1, 0, 0, 0, 1, 0, 0], \"yaxis\": \"y\"}, {\"hoverlabel\": {\"namelength\": 0}, \"hovertemplate\": \"County=King County<br>WeekStartDate=%{x}<br>Age 40-59=%{y}\", \"legendgroup\": \"King County\", \"marker\": {\"color\": \"#FFA15A\", \"symbol\": \"circle\"}, \"mode\": \"markers\", \"name\": \"King County\", \"showlegend\": true, \"type\": \"scatter\", \"x\": [\"2020-02-02\", \"2020-02-09\", \"2020-02-16\", \"2020-02-23\", \"2020-03-01\", \"2020-03-08\", \"2020-03-15\", \"2020-03-22\", \"2020-03-29\", \"2020-04-05\", \"2020-04-12\", \"2020-04-19\", \"2020-04-26\", \"2020-05-03\", \"2020-05-10\", \"2020-05-17\", \"2020-05-24\", \"2020-05-31\", \"2020-06-07\", \"2020-06-14\", \"2020-06-21\", \"2020-06-28\"], \"xaxis\": \"x\", \"y\": [1, 2, 11, 31, 80, 232, 366, 400, 336, 281, 238, 196, 201, 119, 123, 95, 81, 69, 84, 146, 139, 81], \"yaxis\": \"y\"}, {\"hoverlabel\": {\"namelength\": 0}, \"hovertemplate\": \"County=Kitsap County<br>WeekStartDate=%{x}<br>Age 40-59=%{y}\", \"legendgroup\": \"Kitsap County\", \"marker\": {\"color\": \"#19d3f3\", \"symbol\": \"circle\"}, \"mode\": \"markers\", \"name\": \"Kitsap County\", \"showlegend\": true, \"type\": \"scatter\", \"x\": [\"2020-02-16\", \"2020-02-23\", \"2020-03-01\", \"2020-03-08\", \"2020-03-15\", \"2020-03-22\", \"2020-03-29\", \"2020-04-05\", \"2020-04-12\", \"2020-04-19\", \"2020-04-26\", \"2020-05-03\", \"2020-05-10\", \"2020-05-24\", \"2020-05-31\", \"2020-06-07\", \"2020-06-14\", \"2020-06-21\", \"2020-06-28\"], \"xaxis\": \"x\", \"y\": [0, 0, 5, 9, 17, 17, 7, 6, 3, 1, 0, 1, 2, 3, 3, 2, 9, 4, 2], \"yaxis\": \"y\"}, {\"hoverlabel\": {\"namelength\": 0}, \"hovertemplate\": \"County=Kittitas County<br>WeekStartDate=%{x}<br>Age 40-59=%{y}\", \"legendgroup\": \"Kittitas County\", \"marker\": {\"color\": \"#FF6692\", \"symbol\": \"circle\"}, \"mode\": \"markers\", \"name\": \"Kittitas County\", \"showlegend\": true, \"type\": \"scatter\", \"x\": [\"2020-01-26\", \"2020-02-16\", \"2020-03-08\", \"2020-03-15\", \"2020-03-22\", \"2020-03-29\", \"2020-04-05\", \"2020-04-19\", \"2020-04-26\", \"2020-05-03\", \"2020-05-10\", \"2020-05-17\", \"2020-05-24\", \"2020-05-31\", \"2020-06-07\", \"2020-06-14\", \"2020-06-21\", \"2020-06-28\"], \"xaxis\": \"x\", \"y\": [0, 0, 2, 2, 1, 0, 0, 0, 2, 8, 8, 5, 0, 0, 0, 8, 6, 0], \"yaxis\": \"y\"}, {\"hoverlabel\": {\"namelength\": 0}, \"hovertemplate\": \"County=Klickitat County<br>WeekStartDate=%{x}<br>Age 40-59=%{y}\", \"legendgroup\": \"Klickitat County\", \"marker\": {\"color\": \"#B6E880\", \"symbol\": \"circle\"}, \"mode\": \"markers\", \"name\": \"Klickitat County\", \"showlegend\": true, \"type\": \"scatter\", \"x\": [\"2020-03-01\", \"2020-03-15\", \"2020-03-22\", \"2020-03-29\", \"2020-04-05\", \"2020-04-19\", \"2020-04-26\", \"2020-05-03\", \"2020-05-10\", \"2020-05-17\", \"2020-05-24\", \"2020-05-31\", \"2020-06-07\", \"2020-06-14\", \"2020-06-21\", \"2020-06-28\"], \"xaxis\": \"x\", \"y\": [1, 0, 0, 0, 0, 1, 1, 2, 0, 0, 1, 3, 2, 3, 1, 1], \"yaxis\": \"y\"}, {\"hoverlabel\": {\"namelength\": 0}, \"hovertemplate\": \"County=Lewis County<br>WeekStartDate=%{x}<br>Age 40-59=%{y}\", \"legendgroup\": \"Lewis County\", \"marker\": {\"color\": \"#FF97FF\", \"symbol\": \"circle\"}, \"mode\": \"markers\", \"name\": \"Lewis County\", \"showlegend\": true, \"type\": \"scatter\", \"x\": [\"2020-03-08\", \"2020-03-15\", \"2020-03-22\", \"2020-03-29\", \"2020-04-05\", \"2020-04-12\", \"2020-04-19\", \"2020-04-26\", \"2020-05-03\", \"2020-05-10\", \"2020-05-24\", \"2020-06-07\", \"2020-06-14\", \"2020-06-21\", \"2020-06-28\"], \"xaxis\": \"x\", \"y\": [1, 2, 0, 1, 1, 0, 2, 1, 1, 3, 1, 1, 5, 9, 0], \"yaxis\": \"y\"}, {\"hoverlabel\": {\"namelength\": 0}, \"hovertemplate\": \"County=Mason County<br>WeekStartDate=%{x}<br>Age 40-59=%{y}\", \"legendgroup\": \"Mason County\", \"marker\": {\"color\": \"#FECB52\", \"symbol\": \"circle\"}, \"mode\": \"markers\", \"name\": \"Mason County\", \"showlegend\": true, \"type\": \"scatter\", \"x\": [\"2020-03-01\", \"2020-03-08\", \"2020-03-15\", \"2020-03-22\", \"2020-03-29\", \"2020-04-12\", \"2020-04-19\", \"2020-04-26\", \"2020-05-03\", \"2020-05-10\", \"2020-05-17\", \"2020-05-24\", \"2020-05-31\", \"2020-06-07\", \"2020-06-14\", \"2020-06-21\", \"2020-06-28\"], \"xaxis\": \"x\", \"y\": [0, 0, 3, 3, 2, 2, 0, 1, 0, 2, 0, 2, 1, 0, 1, 3, 1], \"yaxis\": \"y\"}, {\"hoverlabel\": {\"namelength\": 0}, \"hovertemplate\": \"County=Okanogan County<br>WeekStartDate=%{x}<br>Age 40-59=%{y}\", \"legendgroup\": \"Okanogan County\", \"marker\": {\"color\": \"#636efa\", \"symbol\": \"circle\"}, \"mode\": \"markers\", \"name\": \"Okanogan County\", \"showlegend\": true, \"type\": \"scatter\", \"x\": [\"2020-03-08\", \"2020-03-15\", \"2020-03-22\", \"2020-03-29\", \"2020-04-05\", \"2020-04-12\", \"2020-04-19\", \"2020-04-26\", \"2020-05-03\", \"2020-05-10\", \"2020-05-17\", \"2020-05-24\", \"2020-05-31\", \"2020-06-07\", \"2020-06-14\", \"2020-06-21\", \"2020-06-28\"], \"xaxis\": \"x\", \"y\": [2, 0, 0, 1, 1, 2, 2, 0, 3, 1, 0, 3, 4, 3, 0, 2, 2], \"yaxis\": \"y\"}, {\"hoverlabel\": {\"namelength\": 0}, \"hovertemplate\": \"County=Pacific County<br>WeekStartDate=%{x}<br>Age 40-59=%{y}\", \"legendgroup\": \"Pacific County\", \"marker\": {\"color\": \"#EF553B\", \"symbol\": \"circle\"}, \"mode\": \"markers\", \"name\": \"Pacific County\", \"showlegend\": true, \"type\": \"scatter\", \"x\": [\"2020-03-29\", \"2020-04-05\", \"2020-04-19\", \"2020-04-26\", \"2020-05-03\", \"2020-05-31\", \"2020-06-07\", \"2020-06-21\"], \"xaxis\": \"x\", \"y\": [0, 1, 0, 2, 2, 1, 0, 1], \"yaxis\": \"y\"}, {\"hoverlabel\": {\"namelength\": 0}, \"hovertemplate\": \"County=Pend Oreille County<br>WeekStartDate=%{x}<br>Age 40-59=%{y}\", \"legendgroup\": \"Pend Oreille County\", \"marker\": {\"color\": \"#00cc96\", \"symbol\": \"circle\"}, \"mode\": \"markers\", \"name\": \"Pend Oreille County\", \"showlegend\": true, \"type\": \"scatter\", \"x\": [\"2020-03-15\", \"2020-04-05\", \"2020-05-17\", \"2020-06-21\", \"2020-06-28\"], \"xaxis\": \"x\", \"y\": [0, 1, 0, 0, 0], \"yaxis\": \"y\"}, {\"hoverlabel\": {\"namelength\": 0}, \"hovertemplate\": \"County=Pierce County<br>WeekStartDate=%{x}<br>Age 40-59=%{y}\", \"legendgroup\": \"Pierce County\", \"marker\": {\"color\": \"#ab63fa\", \"symbol\": \"circle\"}, \"mode\": \"markers\", \"name\": \"Pierce County\", \"showlegend\": true, \"type\": \"scatter\", \"x\": [\"2020-02-16\", \"2020-02-23\", \"2020-03-01\", \"2020-03-08\", \"2020-03-15\", \"2020-03-22\", \"2020-03-29\", \"2020-04-05\", \"2020-04-12\", \"2020-04-19\", \"2020-04-26\", \"2020-05-03\", \"2020-05-10\", \"2020-05-17\", \"2020-05-24\", \"2020-05-31\", \"2020-06-07\", \"2020-06-14\", \"2020-06-21\", \"2020-06-28\"], \"xaxis\": \"x\", \"y\": [1, 6, 14, 36, 86, 101, 92, 72, 86, 63, 57, 51, 32, 22, 25, 24, 31, 40, 47, 37], \"yaxis\": \"y\"}, {\"hoverlabel\": {\"namelength\": 0}, \"hovertemplate\": \"County=San Juan County<br>WeekStartDate=%{x}<br>Age 40-59=%{y}\", \"legendgroup\": \"San Juan County\", \"marker\": {\"color\": \"#FFA15A\", \"symbol\": \"circle\"}, \"mode\": \"markers\", \"name\": \"San Juan County\", \"showlegend\": true, \"type\": \"scatter\", \"x\": [\"2020-03-08\", \"2020-03-15\", \"2020-03-22\", \"2020-03-29\", \"2020-04-05\", \"2020-04-12\", \"2020-06-07\", \"2020-06-14\", \"2020-06-21\"], \"xaxis\": \"x\", \"y\": [1, 2, 2, 4, 0, 1, 0, 0, 0], \"yaxis\": \"y\"}, {\"hoverlabel\": {\"namelength\": 0}, \"hovertemplate\": \"County=Skagit County<br>WeekStartDate=%{x}<br>Age 40-59=%{y}\", \"legendgroup\": \"Skagit County\", \"marker\": {\"color\": \"#19d3f3\", \"symbol\": \"circle\"}, \"mode\": \"markers\", \"name\": \"Skagit County\", \"showlegend\": true, \"type\": \"scatter\", \"x\": [\"2020-02-16\", \"2020-02-23\", \"2020-03-01\", \"2020-03-08\", \"2020-03-15\", \"2020-03-22\", \"2020-03-29\", \"2020-04-05\", \"2020-04-12\", \"2020-04-19\", \"2020-04-26\", \"2020-05-03\", \"2020-05-10\", \"2020-05-17\", \"2020-05-24\", \"2020-05-31\", \"2020-06-07\", \"2020-06-14\", \"2020-06-21\", \"2020-06-28\"], \"xaxis\": \"x\", \"y\": [1, 0, 2, 11, 20, 13, 12, 21, 12, 25, 13, 15, 3, 0, 4, 3, 8, 4, 7, 10], \"yaxis\": \"y\"}, {\"hoverlabel\": {\"namelength\": 0}, \"hovertemplate\": \"County=Skamania County<br>WeekStartDate=%{x}<br>Age 40-59=%{y}\", \"legendgroup\": \"Skamania County\", \"marker\": {\"color\": \"#FF6692\", \"symbol\": \"circle\"}, \"mode\": \"markers\", \"name\": \"Skamania County\", \"showlegend\": true, \"type\": \"scatter\", \"x\": [\"2020-03-22\", \"2020-04-05\", \"2020-06-14\", \"2020-06-21\", \"2020-06-28\"], \"xaxis\": \"x\", \"y\": [1, 0, 0, 0, 1], \"yaxis\": \"y\"}, {\"hoverlabel\": {\"namelength\": 0}, \"hovertemplate\": \"County=Snohomish County<br>WeekStartDate=%{x}<br>Age 40-59=%{y}\", \"legendgroup\": \"Snohomish County\", \"marker\": {\"color\": \"#B6E880\", \"symbol\": \"circle\"}, \"mode\": \"markers\", \"name\": \"Snohomish County\", \"showlegend\": true, \"type\": \"scatter\", \"x\": [\"2020-01-16\", \"2020-01-26\", \"2020-02-02\", \"2020-02-09\", \"2020-02-16\", \"2020-02-23\", \"2020-03-01\", \"2020-03-08\", \"2020-03-15\", \"2020-03-22\", \"2020-03-29\", \"2020-04-05\", \"2020-04-12\", \"2020-04-19\", \"2020-04-26\", \"2020-05-03\", \"2020-05-10\", \"2020-05-17\", \"2020-05-24\", \"2020-05-31\", \"2020-06-07\", \"2020-06-14\", \"2020-06-21\", \"2020-06-28\"], \"xaxis\": \"x\", \"y\": [0, 0, 2, 2, 9, 15, 69, 141, 192, 166, 98, 81, 55, 73, 59, 35, 22, 25, 20, 28, 28, 49, 37, 23], \"yaxis\": \"y\"}, {\"hoverlabel\": {\"namelength\": 0}, \"hovertemplate\": \"County=Spokane County<br>WeekStartDate=%{x}<br>Age 40-59=%{y}\", \"legendgroup\": \"Spokane County\", \"marker\": {\"color\": \"#FF97FF\", \"symbol\": \"circle\"}, \"mode\": \"markers\", \"name\": \"Spokane County\", \"showlegend\": true, \"type\": \"scatter\", \"x\": [\"2020-02-16\", \"2020-02-23\", \"2020-03-01\", \"2020-03-08\", \"2020-03-15\", \"2020-03-22\", \"2020-03-29\", \"2020-04-05\", \"2020-04-12\", \"2020-04-19\", \"2020-04-26\", \"2020-05-03\", \"2020-05-10\", \"2020-05-17\", \"2020-05-24\", \"2020-05-31\", \"2020-06-07\", \"2020-06-14\", \"2020-06-21\", \"2020-06-28\"], \"xaxis\": \"x\", \"y\": [0, 0, 3, 12, 39, 24, 13, 7, 10, 8, 5, 3, 17, 22, 19, 28, 31, 41, 67, 39], \"yaxis\": \"y\"}, {\"hoverlabel\": {\"namelength\": 0}, \"hovertemplate\": \"County=Stevens County<br>WeekStartDate=%{x}<br>Age 40-59=%{y}\", \"legendgroup\": \"Stevens County\", \"marker\": {\"color\": \"#FECB52\", \"symbol\": \"circle\"}, \"mode\": \"markers\", \"name\": \"Stevens County\", \"showlegend\": true, \"type\": \"scatter\", \"x\": [\"2020-03-01\", \"2020-03-08\", \"2020-03-15\", \"2020-03-22\", \"2020-03-29\", \"2020-04-12\", \"2020-05-10\", \"2020-05-17\", \"2020-05-24\", \"2020-06-07\", \"2020-06-21\", \"2020-06-28\"], \"xaxis\": \"x\", \"y\": [1, 0, 0, 1, 0, 0, 1, 2, 1, 2, 0, 1], \"yaxis\": \"y\"}, {\"hoverlabel\": {\"namelength\": 0}, \"hovertemplate\": \"County=Thurston County<br>WeekStartDate=%{x}<br>Age 40-59=%{y}\", \"legendgroup\": \"Thurston County\", \"marker\": {\"color\": \"#636efa\", \"symbol\": \"circle\"}, \"mode\": \"markers\", \"name\": \"Thurston County\", \"showlegend\": true, \"type\": \"scatter\", \"x\": [\"2020-02-23\", \"2020-03-01\", \"2020-03-08\", \"2020-03-15\", \"2020-03-22\", \"2020-03-29\", \"2020-04-05\", \"2020-04-12\", \"2020-04-19\", \"2020-04-26\", \"2020-05-03\", \"2020-05-10\", \"2020-05-17\", \"2020-05-24\", \"2020-05-31\", \"2020-06-07\", \"2020-06-14\", \"2020-06-21\", \"2020-06-28\"], \"xaxis\": \"x\", \"y\": [1, 3, 6, 6, 11, 6, 4, 6, 4, 1, 2, 2, 3, 9, 9, 6, 5, 7, 6], \"yaxis\": \"y\"}, {\"hoverlabel\": {\"namelength\": 0}, \"hovertemplate\": \"County=Wahkiakum County<br>WeekStartDate=%{x}<br>Age 40-59=%{y}\", \"legendgroup\": \"Wahkiakum County\", \"marker\": {\"color\": \"#EF553B\", \"symbol\": \"circle\"}, \"mode\": \"markers\", \"name\": \"Wahkiakum County\", \"showlegend\": true, \"type\": \"scatter\", \"x\": [\"2020-03-15\", \"2020-03-22\", \"2020-05-03\", \"2020-06-14\"], \"xaxis\": \"x\", \"y\": [1, 1, 1, 1], \"yaxis\": \"y\"}, {\"hoverlabel\": {\"namelength\": 0}, \"hovertemplate\": \"County=Walla Walla County<br>WeekStartDate=%{x}<br>Age 40-59=%{y}\", \"legendgroup\": \"Walla Walla County\", \"marker\": {\"color\": \"#00cc96\", \"symbol\": \"circle\"}, \"mode\": \"markers\", \"name\": \"Walla Walla County\", \"showlegend\": true, \"type\": \"scatter\", \"x\": [\"2020-03-08\", \"2020-03-15\", \"2020-03-22\", \"2020-03-29\", \"2020-04-05\", \"2020-04-12\", \"2020-04-19\", \"2020-04-26\", \"2020-05-03\", \"2020-05-10\", \"2020-05-17\", \"2020-05-24\", \"2020-05-31\", \"2020-06-07\", \"2020-06-14\", \"2020-06-21\", \"2020-06-28\"], \"xaxis\": \"x\", \"y\": [1, 0, 2, 4, 4, 6, 10, 4, 1, 2, 2, 0, 6, 4, 5, 6, 1], \"yaxis\": \"y\"}, {\"hoverlabel\": {\"namelength\": 0}, \"hovertemplate\": \"County=Whatcom County<br>WeekStartDate=%{x}<br>Age 40-59=%{y}\", \"legendgroup\": \"Whatcom County\", \"marker\": {\"color\": \"#ab63fa\", \"symbol\": \"circle\"}, \"mode\": \"markers\", \"name\": \"Whatcom County\", \"showlegend\": true, \"type\": \"scatter\", \"x\": [\"2020-02-16\", \"2020-02-23\", \"2020-03-01\", \"2020-03-08\", \"2020-03-15\", \"2020-03-22\", \"2020-03-29\", \"2020-04-05\", \"2020-04-12\", \"2020-04-19\", \"2020-04-26\", \"2020-05-03\", \"2020-05-10\", \"2020-05-17\", \"2020-05-24\", \"2020-05-31\", \"2020-06-07\", \"2020-06-14\", \"2020-06-21\", \"2020-06-28\"], \"xaxis\": \"x\", \"y\": [0, 1, 2, 8, 20, 27, 13, 3, 1, 4, 2, 3, 5, 3, 7, 3, 8, 22, 20, 5], \"yaxis\": \"y\"}, {\"hoverlabel\": {\"namelength\": 0}, \"hovertemplate\": \"County=Whitman County<br>WeekStartDate=%{x}<br>Age 40-59=%{y}\", \"legendgroup\": \"Whitman County\", \"marker\": {\"color\": \"#FFA15A\", \"symbol\": \"circle\"}, \"mode\": \"markers\", \"name\": \"Whitman County\", \"showlegend\": true, \"type\": \"scatter\", \"x\": [\"2020-03-08\", \"2020-03-15\", \"2020-03-22\", \"2020-03-29\", \"2020-04-12\", \"2020-04-19\", \"2020-05-10\", \"2020-05-17\", \"2020-05-31\", \"2020-06-07\", \"2020-06-14\", \"2020-06-21\", \"2020-06-28\"], \"xaxis\": \"x\", \"y\": [0, 2, 2, 2, 0, 0, 0, 0, 1, 0, 3, 1, 1], \"yaxis\": \"y\"}, {\"hoverlabel\": {\"namelength\": 0}, \"hovertemplate\": \"County=Yakima County<br>WeekStartDate=%{x}<br>Age 40-59=%{y}\", \"legendgroup\": \"Yakima County\", \"marker\": {\"color\": \"#19d3f3\", \"symbol\": \"circle\"}, \"mode\": \"markers\", \"name\": \"Yakima County\", \"showlegend\": true, \"type\": \"scatter\", \"x\": [\"2020-01-16\", \"2020-02-09\", \"2020-02-16\", \"2020-03-01\", \"2020-03-08\", \"2020-03-15\", \"2020-03-22\", \"2020-03-29\", \"2020-04-05\", \"2020-04-12\", \"2020-04-19\", \"2020-04-26\", \"2020-05-03\", \"2020-05-10\", \"2020-05-17\", \"2020-05-24\", \"2020-05-31\", \"2020-06-07\", \"2020-06-14\", \"2020-06-21\", \"2020-06-28\"], \"xaxis\": \"x\", \"y\": [0, 1, 2, 4, 6, 23, 55, 75, 81, 71, 104, 136, 168, 213, 202, 228, 274, 221, 189, 124, 59], \"yaxis\": \"y\"}, {\"hoverlabel\": {\"namelength\": 0}, \"hovertemplate\": \"County=Unassigned<br>WeekStartDate=%{x}<br>Age 40-59=%{y}\", \"legendgroup\": \"Unassigned\", \"marker\": {\"color\": \"#FF6692\", \"symbol\": \"circle\"}, \"mode\": \"markers\", \"name\": \"Unassigned\", \"showlegend\": true, \"type\": \"scatter\", \"x\": [\"2020-04-12\", \"2020-04-19\", \"2020-05-10\", \"2020-05-17\", \"2020-05-24\", \"2020-05-31\", \"2020-06-07\", \"2020-06-14\", \"2020-06-21\", \"2020-06-28\"], \"xaxis\": \"x\", \"y\": [0, 1, 1, 4, 2, 0, 3, 1, 8, 25], \"yaxis\": \"y\"}],\n",
       "                        {\"legend\": {\"title\": {\"text\": \"County\"}, \"tracegroupgap\": 0}, \"margin\": {\"t\": 60}, \"template\": {\"data\": {\"bar\": [{\"error_x\": {\"color\": \"#2a3f5f\"}, \"error_y\": {\"color\": \"#2a3f5f\"}, \"marker\": {\"line\": {\"color\": \"#E5ECF6\", \"width\": 0.5}}, \"type\": \"bar\"}], \"barpolar\": [{\"marker\": {\"line\": {\"color\": \"#E5ECF6\", \"width\": 0.5}}, \"type\": \"barpolar\"}], \"carpet\": [{\"aaxis\": {\"endlinecolor\": \"#2a3f5f\", \"gridcolor\": \"white\", \"linecolor\": \"white\", \"minorgridcolor\": \"white\", \"startlinecolor\": \"#2a3f5f\"}, \"baxis\": {\"endlinecolor\": \"#2a3f5f\", \"gridcolor\": \"white\", \"linecolor\": \"white\", \"minorgridcolor\": \"white\", \"startlinecolor\": \"#2a3f5f\"}, \"type\": \"carpet\"}], \"choropleth\": [{\"colorbar\": {\"outlinewidth\": 0, \"ticks\": \"\"}, \"type\": \"choropleth\"}], \"contour\": [{\"colorbar\": {\"outlinewidth\": 0, \"ticks\": \"\"}, \"colorscale\": [[0.0, \"#0d0887\"], [0.1111111111111111, \"#46039f\"], [0.2222222222222222, \"#7201a8\"], [0.3333333333333333, \"#9c179e\"], [0.4444444444444444, \"#bd3786\"], [0.5555555555555556, \"#d8576b\"], [0.6666666666666666, \"#ed7953\"], [0.7777777777777778, \"#fb9f3a\"], [0.8888888888888888, \"#fdca26\"], [1.0, \"#f0f921\"]], \"type\": \"contour\"}], \"contourcarpet\": [{\"colorbar\": {\"outlinewidth\": 0, \"ticks\": \"\"}, \"type\": \"contourcarpet\"}], \"heatmap\": [{\"colorbar\": {\"outlinewidth\": 0, \"ticks\": \"\"}, \"colorscale\": [[0.0, \"#0d0887\"], [0.1111111111111111, \"#46039f\"], [0.2222222222222222, \"#7201a8\"], [0.3333333333333333, \"#9c179e\"], [0.4444444444444444, \"#bd3786\"], [0.5555555555555556, \"#d8576b\"], [0.6666666666666666, \"#ed7953\"], [0.7777777777777778, \"#fb9f3a\"], [0.8888888888888888, \"#fdca26\"], [1.0, \"#f0f921\"]], \"type\": \"heatmap\"}], \"heatmapgl\": [{\"colorbar\": {\"outlinewidth\": 0, \"ticks\": \"\"}, \"colorscale\": [[0.0, \"#0d0887\"], [0.1111111111111111, \"#46039f\"], [0.2222222222222222, \"#7201a8\"], [0.3333333333333333, \"#9c179e\"], [0.4444444444444444, \"#bd3786\"], [0.5555555555555556, \"#d8576b\"], [0.6666666666666666, \"#ed7953\"], [0.7777777777777778, \"#fb9f3a\"], [0.8888888888888888, \"#fdca26\"], [1.0, \"#f0f921\"]], \"type\": \"heatmapgl\"}], \"histogram\": [{\"marker\": {\"colorbar\": {\"outlinewidth\": 0, \"ticks\": \"\"}}, \"type\": \"histogram\"}], \"histogram2d\": [{\"colorbar\": {\"outlinewidth\": 0, \"ticks\": \"\"}, \"colorscale\": [[0.0, \"#0d0887\"], [0.1111111111111111, \"#46039f\"], [0.2222222222222222, \"#7201a8\"], [0.3333333333333333, \"#9c179e\"], [0.4444444444444444, \"#bd3786\"], [0.5555555555555556, \"#d8576b\"], [0.6666666666666666, \"#ed7953\"], [0.7777777777777778, \"#fb9f3a\"], [0.8888888888888888, \"#fdca26\"], [1.0, \"#f0f921\"]], \"type\": \"histogram2d\"}], \"histogram2dcontour\": [{\"colorbar\": {\"outlinewidth\": 0, \"ticks\": \"\"}, \"colorscale\": [[0.0, \"#0d0887\"], [0.1111111111111111, \"#46039f\"], [0.2222222222222222, \"#7201a8\"], [0.3333333333333333, \"#9c179e\"], [0.4444444444444444, \"#bd3786\"], [0.5555555555555556, \"#d8576b\"], [0.6666666666666666, \"#ed7953\"], [0.7777777777777778, \"#fb9f3a\"], [0.8888888888888888, \"#fdca26\"], [1.0, \"#f0f921\"]], \"type\": \"histogram2dcontour\"}], \"mesh3d\": [{\"colorbar\": {\"outlinewidth\": 0, \"ticks\": \"\"}, \"type\": \"mesh3d\"}], \"parcoords\": [{\"line\": {\"colorbar\": {\"outlinewidth\": 0, \"ticks\": \"\"}}, \"type\": \"parcoords\"}], \"pie\": [{\"automargin\": true, \"type\": \"pie\"}], \"scatter\": [{\"marker\": {\"colorbar\": {\"outlinewidth\": 0, \"ticks\": \"\"}}, \"type\": \"scatter\"}], \"scatter3d\": [{\"line\": {\"colorbar\": {\"outlinewidth\": 0, \"ticks\": \"\"}}, \"marker\": {\"colorbar\": {\"outlinewidth\": 0, \"ticks\": \"\"}}, \"type\": \"scatter3d\"}], \"scattercarpet\": [{\"marker\": {\"colorbar\": {\"outlinewidth\": 0, \"ticks\": \"\"}}, \"type\": \"scattercarpet\"}], \"scattergeo\": [{\"marker\": {\"colorbar\": {\"outlinewidth\": 0, \"ticks\": \"\"}}, \"type\": \"scattergeo\"}], \"scattergl\": [{\"marker\": {\"colorbar\": {\"outlinewidth\": 0, \"ticks\": \"\"}}, \"type\": \"scattergl\"}], \"scattermapbox\": [{\"marker\": {\"colorbar\": {\"outlinewidth\": 0, \"ticks\": \"\"}}, \"type\": \"scattermapbox\"}], \"scatterpolar\": [{\"marker\": {\"colorbar\": {\"outlinewidth\": 0, \"ticks\": \"\"}}, \"type\": \"scatterpolar\"}], \"scatterpolargl\": [{\"marker\": {\"colorbar\": {\"outlinewidth\": 0, \"ticks\": \"\"}}, \"type\": \"scatterpolargl\"}], \"scatterternary\": [{\"marker\": {\"colorbar\": {\"outlinewidth\": 0, \"ticks\": \"\"}}, \"type\": \"scatterternary\"}], \"surface\": [{\"colorbar\": {\"outlinewidth\": 0, \"ticks\": \"\"}, \"colorscale\": [[0.0, \"#0d0887\"], [0.1111111111111111, \"#46039f\"], [0.2222222222222222, \"#7201a8\"], [0.3333333333333333, \"#9c179e\"], [0.4444444444444444, \"#bd3786\"], [0.5555555555555556, \"#d8576b\"], [0.6666666666666666, \"#ed7953\"], [0.7777777777777778, \"#fb9f3a\"], [0.8888888888888888, \"#fdca26\"], [1.0, \"#f0f921\"]], \"type\": \"surface\"}], \"table\": [{\"cells\": {\"fill\": {\"color\": \"#EBF0F8\"}, \"line\": {\"color\": \"white\"}}, \"header\": {\"fill\": {\"color\": \"#C8D4E3\"}, \"line\": {\"color\": \"white\"}}, \"type\": \"table\"}]}, \"layout\": {\"annotationdefaults\": {\"arrowcolor\": \"#2a3f5f\", \"arrowhead\": 0, \"arrowwidth\": 1}, \"coloraxis\": {\"colorbar\": {\"outlinewidth\": 0, \"ticks\": \"\"}}, \"colorscale\": {\"diverging\": [[0, \"#8e0152\"], [0.1, \"#c51b7d\"], [0.2, \"#de77ae\"], [0.3, \"#f1b6da\"], [0.4, \"#fde0ef\"], [0.5, \"#f7f7f7\"], [0.6, \"#e6f5d0\"], [0.7, \"#b8e186\"], [0.8, \"#7fbc41\"], [0.9, \"#4d9221\"], [1, \"#276419\"]], \"sequential\": [[0.0, \"#0d0887\"], [0.1111111111111111, \"#46039f\"], [0.2222222222222222, \"#7201a8\"], [0.3333333333333333, \"#9c179e\"], [0.4444444444444444, \"#bd3786\"], [0.5555555555555556, \"#d8576b\"], [0.6666666666666666, \"#ed7953\"], [0.7777777777777778, \"#fb9f3a\"], [0.8888888888888888, \"#fdca26\"], [1.0, \"#f0f921\"]], \"sequentialminus\": [[0.0, \"#0d0887\"], [0.1111111111111111, \"#46039f\"], [0.2222222222222222, \"#7201a8\"], [0.3333333333333333, \"#9c179e\"], [0.4444444444444444, \"#bd3786\"], [0.5555555555555556, \"#d8576b\"], [0.6666666666666666, \"#ed7953\"], [0.7777777777777778, \"#fb9f3a\"], [0.8888888888888888, \"#fdca26\"], [1.0, \"#f0f921\"]]}, \"colorway\": [\"#636efa\", \"#EF553B\", \"#00cc96\", \"#ab63fa\", \"#FFA15A\", \"#19d3f3\", \"#FF6692\", \"#B6E880\", \"#FF97FF\", \"#FECB52\"], \"font\": {\"color\": \"#2a3f5f\"}, \"geo\": {\"bgcolor\": \"white\", \"lakecolor\": \"white\", \"landcolor\": \"#E5ECF6\", \"showlakes\": true, \"showland\": true, \"subunitcolor\": \"white\"}, \"hoverlabel\": {\"align\": \"left\"}, \"hovermode\": \"closest\", \"mapbox\": {\"style\": \"light\"}, \"paper_bgcolor\": \"white\", \"plot_bgcolor\": \"#E5ECF6\", \"polar\": {\"angularaxis\": {\"gridcolor\": \"white\", \"linecolor\": \"white\", \"ticks\": \"\"}, \"bgcolor\": \"#E5ECF6\", \"radialaxis\": {\"gridcolor\": \"white\", \"linecolor\": \"white\", \"ticks\": \"\"}}, \"scene\": {\"xaxis\": {\"backgroundcolor\": \"#E5ECF6\", \"gridcolor\": \"white\", \"gridwidth\": 2, \"linecolor\": \"white\", \"showbackground\": true, \"ticks\": \"\", \"zerolinecolor\": \"white\"}, \"yaxis\": {\"backgroundcolor\": \"#E5ECF6\", \"gridcolor\": \"white\", \"gridwidth\": 2, \"linecolor\": \"white\", \"showbackground\": true, \"ticks\": \"\", \"zerolinecolor\": \"white\"}, \"zaxis\": {\"backgroundcolor\": \"#E5ECF6\", \"gridcolor\": \"white\", \"gridwidth\": 2, \"linecolor\": \"white\", \"showbackground\": true, \"ticks\": \"\", \"zerolinecolor\": \"white\"}}, \"shapedefaults\": {\"line\": {\"color\": \"#2a3f5f\"}}, \"ternary\": {\"aaxis\": {\"gridcolor\": \"white\", \"linecolor\": \"white\", \"ticks\": \"\"}, \"baxis\": {\"gridcolor\": \"white\", \"linecolor\": \"white\", \"ticks\": \"\"}, \"bgcolor\": \"#E5ECF6\", \"caxis\": {\"gridcolor\": \"white\", \"linecolor\": \"white\", \"ticks\": \"\"}}, \"title\": {\"x\": 0.05}, \"xaxis\": {\"automargin\": true, \"gridcolor\": \"white\", \"linecolor\": \"white\", \"ticks\": \"\", \"title\": {\"standoff\": 15}, \"zerolinecolor\": \"white\", \"zerolinewidth\": 2}, \"yaxis\": {\"automargin\": true, \"gridcolor\": \"white\", \"linecolor\": \"white\", \"ticks\": \"\", \"title\": {\"standoff\": 15}, \"zerolinecolor\": \"white\", \"zerolinewidth\": 2}}}, \"xaxis\": {\"anchor\": \"y\", \"domain\": [0.0, 1.0], \"title\": {\"text\": \"WeekStartDate\"}}, \"yaxis\": {\"anchor\": \"x\", \"domain\": [0.0, 1.0], \"title\": {\"text\": \"Age 40-59\"}}},\n",
       "                        {\"responsive\": true}\n",
       "                    ).then(function(){\n",
       "                            \n",
       "var gd = document.getElementById('c69b00df-aac6-4fa8-a12e-bbf4aa681db4');\n",
       "var x = new MutationObserver(function (mutations, observer) {{\n",
       "        var display = window.getComputedStyle(gd).display;\n",
       "        if (!display || display === 'none') {{\n",
       "            console.log([gd, 'removed!']);\n",
       "            Plotly.purge(gd);\n",
       "            observer.disconnect();\n",
       "        }}\n",
       "}});\n",
       "\n",
       "// Listen for the removal of the full notebook cells\n",
       "var notebookContainer = gd.closest('#notebook-container');\n",
       "if (notebookContainer) {{\n",
       "    x.observe(notebookContainer, {childList: true});\n",
       "}}\n",
       "\n",
       "// Listen for the clearing of the current output cell\n",
       "var outputEl = gd.closest('.output');\n",
       "if (outputEl) {{\n",
       "    x.observe(outputEl, {childList: true});\n",
       "}}\n",
       "\n",
       "                        })\n",
       "                };\n",
       "                });\n",
       "            </script>\n",
       "        </div>"
      ]
     },
     "metadata": {},
     "output_type": "display_data"
    }
   ],
   "source": [
    "px.scatter(df, x=\"WeekStartDate\", y='Age 40-59', color='County')"
   ]
  },
  {
   "cell_type": "code",
   "execution_count": 66,
   "metadata": {
    "ExecuteTime": {
     "end_time": "2020-07-12T19:33:03.626407Z",
     "start_time": "2020-07-12T19:33:02.880067Z"
    }
   },
   "outputs": [
    {
     "data": {
      "application/vnd.plotly.v1+json": {
       "config": {
        "plotlyServerURL": "https://plot.ly"
       },
       "data": [
        {
         "hoverlabel": {
          "namelength": 0
         },
         "hovertemplate": "County=Adams County<br>WeekStartDate=%{x}<br>Age 60-79=%{y}",
         "legendgroup": "Adams County",
         "marker": {
          "color": "#636efa",
          "symbol": "circle"
         },
         "mode": "markers",
         "name": "Adams County",
         "showlegend": true,
         "type": "scatter",
         "x": [
          "2020-03-08",
          "2020-03-15",
          "2020-03-22",
          "2020-03-29",
          "2020-04-05",
          "2020-04-12",
          "2020-04-19",
          "2020-04-26",
          "2020-05-03",
          "2020-05-10",
          "2020-05-17",
          "2020-05-24",
          "2020-05-31",
          "2020-06-07",
          "2020-06-14",
          "2020-06-21",
          "2020-06-28"
         ],
         "xaxis": "x",
         "y": [
          2,
          0,
          4,
          3,
          1,
          0,
          0,
          0,
          0,
          0,
          0,
          2,
          0,
          3,
          3,
          5,
          2
         ],
         "yaxis": "y"
        },
        {
         "hoverlabel": {
          "namelength": 0
         },
         "hovertemplate": "County=Asotin County<br>WeekStartDate=%{x}<br>Age 60-79=%{y}",
         "legendgroup": "Asotin County",
         "marker": {
          "color": "#EF553B",
          "symbol": "circle"
         },
         "mode": "markers",
         "name": "Asotin County",
         "showlegend": true,
         "type": "scatter",
         "x": [
          "2020-03-15",
          "2020-03-29",
          "2020-04-05",
          "2020-04-12",
          "2020-04-19",
          "2020-05-17",
          "2020-05-31",
          "2020-06-21"
         ],
         "xaxis": "x",
         "y": [
          2,
          0,
          1,
          0,
          2,
          0,
          1,
          1
         ],
         "yaxis": "y"
        },
        {
         "hoverlabel": {
          "namelength": 0
         },
         "hovertemplate": "County=Benton County<br>WeekStartDate=%{x}<br>Age 60-79=%{y}",
         "legendgroup": "Benton County",
         "marker": {
          "color": "#00cc96",
          "symbol": "circle"
         },
         "mode": "markers",
         "name": "Benton County",
         "showlegend": true,
         "type": "scatter",
         "x": [
          "2020-02-16",
          "2020-03-01",
          "2020-03-08",
          "2020-03-15",
          "2020-03-22",
          "2020-03-29",
          "2020-04-05",
          "2020-04-12",
          "2020-04-19",
          "2020-04-26",
          "2020-05-03",
          "2020-05-10",
          "2020-05-17",
          "2020-05-24",
          "2020-05-31",
          "2020-06-07",
          "2020-06-14",
          "2020-06-21",
          "2020-06-28"
         ],
         "xaxis": "x",
         "y": [
          0,
          3,
          6,
          10,
          26,
          21,
          12,
          9,
          19,
          15,
          9,
          6,
          9,
          21,
          27,
          24,
          34,
          20,
          14
         ],
         "yaxis": "y"
        },
        {
         "hoverlabel": {
          "namelength": 0
         },
         "hovertemplate": "County=Chelan County<br>WeekStartDate=%{x}<br>Age 60-79=%{y}",
         "legendgroup": "Chelan County",
         "marker": {
          "color": "#ab63fa",
          "symbol": "circle"
         },
         "mode": "markers",
         "name": "Chelan County",
         "showlegend": true,
         "type": "scatter",
         "x": [
          "2020-02-09",
          "2020-03-08",
          "2020-03-15",
          "2020-03-22",
          "2020-03-29",
          "2020-04-05",
          "2020-04-12",
          "2020-04-19",
          "2020-04-26",
          "2020-05-03",
          "2020-05-10",
          "2020-05-17",
          "2020-05-24",
          "2020-05-31",
          "2020-06-07",
          "2020-06-14",
          "2020-06-21",
          "2020-06-28"
         ],
         "xaxis": "x",
         "y": [
          0,
          1,
          2,
          3,
          9,
          2,
          0,
          4,
          6,
          1,
          0,
          3,
          2,
          1,
          0,
          1,
          4,
          3
         ],
         "yaxis": "y"
        },
        {
         "hoverlabel": {
          "namelength": 0
         },
         "hovertemplate": "County=Clallam County<br>WeekStartDate=%{x}<br>Age 60-79=%{y}",
         "legendgroup": "Clallam County",
         "marker": {
          "color": "#FFA15A",
          "symbol": "circle"
         },
         "mode": "markers",
         "name": "Clallam County",
         "showlegend": true,
         "type": "scatter",
         "x": [
          "2020-03-01",
          "2020-03-08",
          "2020-03-15",
          "2020-03-29",
          "2020-04-05",
          "2020-04-19",
          "2020-04-26",
          "2020-05-10",
          "2020-05-17",
          "2020-05-24",
          "2020-05-31",
          "2020-06-07",
          "2020-06-14",
          "2020-06-21",
          "2020-06-28"
         ],
         "xaxis": "x",
         "y": [
          2,
          3,
          1,
          1,
          0,
          0,
          0,
          0,
          0,
          0,
          0,
          1,
          0,
          0,
          2
         ],
         "yaxis": "y"
        },
        {
         "hoverlabel": {
          "namelength": 0
         },
         "hovertemplate": "County=Clark County<br>WeekStartDate=%{x}<br>Age 60-79=%{y}",
         "legendgroup": "Clark County",
         "marker": {
          "color": "#19d3f3",
          "symbol": "circle"
         },
         "mode": "markers",
         "name": "Clark County",
         "showlegend": true,
         "type": "scatter",
         "x": [
          "2020-02-23",
          "2020-03-01",
          "2020-03-08",
          "2020-03-15",
          "2020-03-22",
          "2020-03-29",
          "2020-04-05",
          "2020-04-12",
          "2020-04-19",
          "2020-04-26",
          "2020-05-03",
          "2020-05-10",
          "2020-05-17",
          "2020-05-24",
          "2020-05-31",
          "2020-06-07",
          "2020-06-14",
          "2020-06-21",
          "2020-06-28"
         ],
         "xaxis": "x",
         "y": [
          1,
          0,
          11,
          15,
          18,
          17,
          16,
          12,
          1,
          3,
          1,
          2,
          3,
          5,
          5,
          4,
          6,
          14,
          11
         ],
         "yaxis": "y"
        },
        {
         "hoverlabel": {
          "namelength": 0
         },
         "hovertemplate": "County=Columbia County<br>WeekStartDate=%{x}<br>Age 60-79=%{y}",
         "legendgroup": "Columbia County",
         "marker": {
          "color": "#FF6692",
          "symbol": "circle"
         },
         "mode": "markers",
         "name": "Columbia County",
         "showlegend": true,
         "type": "scatter",
         "x": [
          "2020-03-01",
          "2020-06-07",
          "2020-06-14"
         ],
         "xaxis": "x",
         "y": [
          1,
          0,
          0
         ],
         "yaxis": "y"
        },
        {
         "hoverlabel": {
          "namelength": 0
         },
         "hovertemplate": "County=Cowlitz County<br>WeekStartDate=%{x}<br>Age 60-79=%{y}",
         "legendgroup": "Cowlitz County",
         "marker": {
          "color": "#B6E880",
          "symbol": "circle"
         },
         "mode": "markers",
         "name": "Cowlitz County",
         "showlegend": true,
         "type": "scatter",
         "x": [
          "2020-02-23",
          "2020-03-01",
          "2020-03-08",
          "2020-03-15",
          "2020-03-22",
          "2020-03-29",
          "2020-04-05",
          "2020-04-12",
          "2020-04-19",
          "2020-04-26",
          "2020-05-03",
          "2020-05-10",
          "2020-05-17",
          "2020-05-24",
          "2020-05-31",
          "2020-06-07",
          "2020-06-14",
          "2020-06-21",
          "2020-06-28"
         ],
         "xaxis": "x",
         "y": [
          1,
          1,
          5,
          3,
          1,
          3,
          2,
          6,
          0,
          2,
          2,
          0,
          0,
          0,
          3,
          2,
          2,
          5,
          2
         ],
         "yaxis": "y"
        },
        {
         "hoverlabel": {
          "namelength": 0
         },
         "hovertemplate": "County=Douglas County<br>WeekStartDate=%{x}<br>Age 60-79=%{y}",
         "legendgroup": "Douglas County",
         "marker": {
          "color": "#FF97FF",
          "symbol": "circle"
         },
         "mode": "markers",
         "name": "Douglas County",
         "showlegend": true,
         "type": "scatter",
         "x": [
          "2020-03-01",
          "2020-03-08",
          "2020-03-15",
          "2020-03-22",
          "2020-03-29",
          "2020-04-05",
          "2020-04-12",
          "2020-04-19",
          "2020-04-26",
          "2020-05-03",
          "2020-05-10",
          "2020-05-17",
          "2020-05-24",
          "2020-05-31",
          "2020-06-07",
          "2020-06-14",
          "2020-06-21",
          "2020-06-28"
         ],
         "xaxis": "x",
         "y": [
          0,
          0,
          1,
          1,
          0,
          2,
          0,
          2,
          5,
          0,
          4,
          2,
          1,
          0,
          1,
          1,
          2,
          0
         ],
         "yaxis": "y"
        },
        {
         "hoverlabel": {
          "namelength": 0
         },
         "hovertemplate": "County=Franklin County<br>WeekStartDate=%{x}<br>Age 60-79=%{y}",
         "legendgroup": "Franklin County",
         "marker": {
          "color": "#FECB52",
          "symbol": "circle"
         },
         "mode": "markers",
         "name": "Franklin County",
         "showlegend": true,
         "type": "scatter",
         "x": [
          "2020-02-09",
          "2020-02-23",
          "2020-03-01",
          "2020-03-08",
          "2020-03-15",
          "2020-03-22",
          "2020-03-29",
          "2020-04-05",
          "2020-04-12",
          "2020-04-19",
          "2020-04-26",
          "2020-05-03",
          "2020-05-10",
          "2020-05-17",
          "2020-05-24",
          "2020-05-31",
          "2020-06-07",
          "2020-06-14",
          "2020-06-21",
          "2020-06-28"
         ],
         "xaxis": "x",
         "y": [
          0,
          1,
          1,
          1,
          1,
          10,
          5,
          14,
          6,
          15,
          9,
          10,
          7,
          10,
          18,
          32,
          29,
          25,
          20,
          15
         ],
         "yaxis": "y"
        },
        {
         "hoverlabel": {
          "namelength": 0
         },
         "hovertemplate": "County=Grant County<br>WeekStartDate=%{x}<br>Age 60-79=%{y}",
         "legendgroup": "Grant County",
         "marker": {
          "color": "#636efa",
          "symbol": "circle"
         },
         "mode": "markers",
         "name": "Grant County",
         "showlegend": true,
         "type": "scatter",
         "x": [
          "2020-02-16",
          "2020-02-23",
          "2020-03-01",
          "2020-03-08",
          "2020-03-15",
          "2020-03-22",
          "2020-03-29",
          "2020-04-05",
          "2020-04-12",
          "2020-04-19",
          "2020-04-26",
          "2020-05-03",
          "2020-05-10",
          "2020-05-17",
          "2020-05-24",
          "2020-05-31",
          "2020-06-07",
          "2020-06-14",
          "2020-06-21",
          "2020-06-28"
         ],
         "xaxis": "x",
         "y": [
          0,
          0,
          3,
          7,
          9,
          3,
          1,
          7,
          1,
          0,
          0,
          1,
          0,
          0,
          4,
          0,
          9,
          15,
          10,
          3
         ],
         "yaxis": "y"
        },
        {
         "hoverlabel": {
          "namelength": 0
         },
         "hovertemplate": "County=Grays Harbor County<br>WeekStartDate=%{x}<br>Age 60-79=%{y}",
         "legendgroup": "Grays Harbor County",
         "marker": {
          "color": "#EF553B",
          "symbol": "circle"
         },
         "mode": "markers",
         "name": "Grays Harbor County",
         "showlegend": true,
         "type": "scatter",
         "x": [
          "2020-02-16",
          "2020-02-23",
          "2020-03-01",
          "2020-03-15",
          "2020-03-22",
          "2020-03-29",
          "2020-04-05",
          "2020-04-26",
          "2020-05-03",
          "2020-05-17",
          "2020-05-24",
          "2020-05-31",
          "2020-06-07",
          "2020-06-14",
          "2020-06-21",
          "2020-06-28"
         ],
         "xaxis": "x",
         "y": [
          1,
          1,
          1,
          0,
          0,
          2,
          1,
          0,
          2,
          0,
          0,
          0,
          0,
          2,
          0,
          0
         ],
         "yaxis": "y"
        },
        {
         "hoverlabel": {
          "namelength": 0
         },
         "hovertemplate": "County=Island County<br>WeekStartDate=%{x}<br>Age 60-79=%{y}",
         "legendgroup": "Island County",
         "marker": {
          "color": "#00cc96",
          "symbol": "circle"
         },
         "mode": "markers",
         "name": "Island County",
         "showlegend": true,
         "type": "scatter",
         "x": [
          "2020-02-23",
          "2020-03-01",
          "2020-03-08",
          "2020-03-15",
          "2020-03-22",
          "2020-03-29",
          "2020-04-05",
          "2020-04-12",
          "2020-04-19",
          "2020-04-26",
          "2020-05-03",
          "2020-05-10",
          "2020-05-24",
          "2020-06-07",
          "2020-06-14",
          "2020-06-21",
          "2020-06-28"
         ],
         "xaxis": "x",
         "y": [
          1,
          5,
          9,
          11,
          14,
          8,
          1,
          0,
          0,
          2,
          0,
          1,
          0,
          1,
          2,
          1,
          1
         ],
         "yaxis": "y"
        },
        {
         "hoverlabel": {
          "namelength": 0
         },
         "hovertemplate": "County=Jefferson County<br>WeekStartDate=%{x}<br>Age 60-79=%{y}",
         "legendgroup": "Jefferson County",
         "marker": {
          "color": "#ab63fa",
          "symbol": "circle"
         },
         "mode": "markers",
         "name": "Jefferson County",
         "showlegend": true,
         "type": "scatter",
         "x": [
          "2020-02-23",
          "2020-03-01",
          "2020-03-08",
          "2020-03-15",
          "2020-03-22",
          "2020-03-29",
          "2020-05-31",
          "2020-06-07",
          "2020-06-14",
          "2020-06-21",
          "2020-06-28"
         ],
         "xaxis": "x",
         "y": [
          1,
          2,
          4,
          5,
          1,
          2,
          0,
          1,
          1,
          2,
          1
         ],
         "yaxis": "y"
        },
        {
         "hoverlabel": {
          "namelength": 0
         },
         "hovertemplate": "County=King County<br>WeekStartDate=%{x}<br>Age 60-79=%{y}",
         "legendgroup": "King County",
         "marker": {
          "color": "#FFA15A",
          "symbol": "circle"
         },
         "mode": "markers",
         "name": "King County",
         "showlegend": true,
         "type": "scatter",
         "x": [
          "2020-02-02",
          "2020-02-09",
          "2020-02-16",
          "2020-02-23",
          "2020-03-01",
          "2020-03-08",
          "2020-03-15",
          "2020-03-22",
          "2020-03-29",
          "2020-04-05",
          "2020-04-12",
          "2020-04-19",
          "2020-04-26",
          "2020-05-03",
          "2020-05-10",
          "2020-05-17",
          "2020-05-24",
          "2020-05-31",
          "2020-06-07",
          "2020-06-14",
          "2020-06-21",
          "2020-06-28"
         ],
         "xaxis": "x",
         "y": [
          0,
          2,
          20,
          45,
          100,
          233,
          242,
          233,
          226,
          186,
          146,
          128,
          81,
          64,
          63,
          46,
          31,
          34,
          48,
          46,
          46,
          22
         ],
         "yaxis": "y"
        },
        {
         "hoverlabel": {
          "namelength": 0
         },
         "hovertemplate": "County=Kitsap County<br>WeekStartDate=%{x}<br>Age 60-79=%{y}",
         "legendgroup": "Kitsap County",
         "marker": {
          "color": "#19d3f3",
          "symbol": "circle"
         },
         "mode": "markers",
         "name": "Kitsap County",
         "showlegend": true,
         "type": "scatter",
         "x": [
          "2020-02-16",
          "2020-02-23",
          "2020-03-01",
          "2020-03-08",
          "2020-03-15",
          "2020-03-22",
          "2020-03-29",
          "2020-04-05",
          "2020-04-12",
          "2020-04-19",
          "2020-04-26",
          "2020-05-03",
          "2020-05-10",
          "2020-05-24",
          "2020-05-31",
          "2020-06-07",
          "2020-06-14",
          "2020-06-21",
          "2020-06-28"
         ],
         "xaxis": "x",
         "y": [
          0,
          1,
          0,
          6,
          8,
          6,
          6,
          3,
          0,
          0,
          1,
          1,
          0,
          0,
          1,
          2,
          2,
          5,
          5
         ],
         "yaxis": "y"
        },
        {
         "hoverlabel": {
          "namelength": 0
         },
         "hovertemplate": "County=Kittitas County<br>WeekStartDate=%{x}<br>Age 60-79=%{y}",
         "legendgroup": "Kittitas County",
         "marker": {
          "color": "#FF6692",
          "symbol": "circle"
         },
         "mode": "markers",
         "name": "Kittitas County",
         "showlegend": true,
         "type": "scatter",
         "x": [
          "2020-01-26",
          "2020-02-16",
          "2020-03-08",
          "2020-03-15",
          "2020-03-22",
          "2020-03-29",
          "2020-04-05",
          "2020-04-19",
          "2020-04-26",
          "2020-05-03",
          "2020-05-10",
          "2020-05-17",
          "2020-05-24",
          "2020-05-31",
          "2020-06-07",
          "2020-06-14",
          "2020-06-21",
          "2020-06-28"
         ],
         "xaxis": "x",
         "y": [
          1,
          3,
          0,
          1,
          0,
          1,
          1,
          0,
          0,
          4,
          0,
          1,
          1,
          0,
          1,
          1,
          5,
          1
         ],
         "yaxis": "y"
        },
        {
         "hoverlabel": {
          "namelength": 0
         },
         "hovertemplate": "County=Klickitat County<br>WeekStartDate=%{x}<br>Age 60-79=%{y}",
         "legendgroup": "Klickitat County",
         "marker": {
          "color": "#B6E880",
          "symbol": "circle"
         },
         "mode": "markers",
         "name": "Klickitat County",
         "showlegend": true,
         "type": "scatter",
         "x": [
          "2020-03-01",
          "2020-03-15",
          "2020-03-22",
          "2020-03-29",
          "2020-04-05",
          "2020-04-19",
          "2020-04-26",
          "2020-05-03",
          "2020-05-10",
          "2020-05-17",
          "2020-05-24",
          "2020-05-31",
          "2020-06-07",
          "2020-06-14",
          "2020-06-21",
          "2020-06-28"
         ],
         "xaxis": "x",
         "y": [
          1,
          6,
          0,
          1,
          1,
          1,
          1,
          0,
          1,
          0,
          0,
          4,
          0,
          1,
          1,
          0
         ],
         "yaxis": "y"
        },
        {
         "hoverlabel": {
          "namelength": 0
         },
         "hovertemplate": "County=Lewis County<br>WeekStartDate=%{x}<br>Age 60-79=%{y}",
         "legendgroup": "Lewis County",
         "marker": {
          "color": "#FF97FF",
          "symbol": "circle"
         },
         "mode": "markers",
         "name": "Lewis County",
         "showlegend": true,
         "type": "scatter",
         "x": [
          "2020-03-08",
          "2020-03-15",
          "2020-03-22",
          "2020-03-29",
          "2020-04-05",
          "2020-04-12",
          "2020-04-19",
          "2020-04-26",
          "2020-05-03",
          "2020-05-10",
          "2020-05-24",
          "2020-06-07",
          "2020-06-14",
          "2020-06-21",
          "2020-06-28"
         ],
         "xaxis": "x",
         "y": [
          0,
          4,
          2,
          1,
          1,
          0,
          3,
          0,
          0,
          0,
          0,
          2,
          0,
          2,
          0
         ],
         "yaxis": "y"
        },
        {
         "hoverlabel": {
          "namelength": 0
         },
         "hovertemplate": "County=Mason County<br>WeekStartDate=%{x}<br>Age 60-79=%{y}",
         "legendgroup": "Mason County",
         "marker": {
          "color": "#FECB52",
          "symbol": "circle"
         },
         "mode": "markers",
         "name": "Mason County",
         "showlegend": true,
         "type": "scatter",
         "x": [
          "2020-03-01",
          "2020-03-08",
          "2020-03-15",
          "2020-03-22",
          "2020-03-29",
          "2020-04-12",
          "2020-04-19",
          "2020-04-26",
          "2020-05-03",
          "2020-05-10",
          "2020-05-17",
          "2020-05-24",
          "2020-05-31",
          "2020-06-07",
          "2020-06-14",
          "2020-06-21",
          "2020-06-28"
         ],
         "xaxis": "x",
         "y": [
          1,
          1,
          2,
          3,
          2,
          1,
          0,
          0,
          1,
          0,
          1,
          0,
          0,
          2,
          0,
          0,
          1
         ],
         "yaxis": "y"
        },
        {
         "hoverlabel": {
          "namelength": 0
         },
         "hovertemplate": "County=Okanogan County<br>WeekStartDate=%{x}<br>Age 60-79=%{y}",
         "legendgroup": "Okanogan County",
         "marker": {
          "color": "#636efa",
          "symbol": "circle"
         },
         "mode": "markers",
         "name": "Okanogan County",
         "showlegend": true,
         "type": "scatter",
         "x": [
          "2020-03-08",
          "2020-03-15",
          "2020-03-22",
          "2020-03-29",
          "2020-04-05",
          "2020-04-12",
          "2020-04-19",
          "2020-04-26",
          "2020-05-03",
          "2020-05-10",
          "2020-05-17",
          "2020-05-24",
          "2020-05-31",
          "2020-06-07",
          "2020-06-14",
          "2020-06-21",
          "2020-06-28"
         ],
         "xaxis": "x",
         "y": [
          1,
          1,
          2,
          0,
          0,
          1,
          2,
          0,
          1,
          0,
          0,
          0,
          2,
          4,
          3,
          1,
          3
         ],
         "yaxis": "y"
        },
        {
         "hoverlabel": {
          "namelength": 0
         },
         "hovertemplate": "County=Pacific County<br>WeekStartDate=%{x}<br>Age 60-79=%{y}",
         "legendgroup": "Pacific County",
         "marker": {
          "color": "#EF553B",
          "symbol": "circle"
         },
         "mode": "markers",
         "name": "Pacific County",
         "showlegend": true,
         "type": "scatter",
         "x": [
          "2020-03-29",
          "2020-04-05",
          "2020-04-19",
          "2020-04-26",
          "2020-05-03",
          "2020-05-31",
          "2020-06-07",
          "2020-06-21"
         ],
         "xaxis": "x",
         "y": [
          1,
          0,
          1,
          0,
          0,
          0,
          0,
          0
         ],
         "yaxis": "y"
        },
        {
         "hoverlabel": {
          "namelength": 0
         },
         "hovertemplate": "County=Pend Oreille County<br>WeekStartDate=%{x}<br>Age 60-79=%{y}",
         "legendgroup": "Pend Oreille County",
         "marker": {
          "color": "#00cc96",
          "symbol": "circle"
         },
         "mode": "markers",
         "name": "Pend Oreille County",
         "showlegend": true,
         "type": "scatter",
         "x": [
          "2020-03-15",
          "2020-04-05",
          "2020-05-17",
          "2020-06-21",
          "2020-06-28"
         ],
         "xaxis": "x",
         "y": [
          0,
          0,
          0,
          1,
          0
         ],
         "yaxis": "y"
        },
        {
         "hoverlabel": {
          "namelength": 0
         },
         "hovertemplate": "County=Pierce County<br>WeekStartDate=%{x}<br>Age 60-79=%{y}",
         "legendgroup": "Pierce County",
         "marker": {
          "color": "#ab63fa",
          "symbol": "circle"
         },
         "mode": "markers",
         "name": "Pierce County",
         "showlegend": true,
         "type": "scatter",
         "x": [
          "2020-02-16",
          "2020-02-23",
          "2020-03-01",
          "2020-03-08",
          "2020-03-15",
          "2020-03-22",
          "2020-03-29",
          "2020-04-05",
          "2020-04-12",
          "2020-04-19",
          "2020-04-26",
          "2020-05-03",
          "2020-05-10",
          "2020-05-17",
          "2020-05-24",
          "2020-05-31",
          "2020-06-07",
          "2020-06-14",
          "2020-06-21",
          "2020-06-28"
         ],
         "xaxis": "x",
         "y": [
          0,
          2,
          16,
          31,
          58,
          62,
          68,
          35,
          47,
          26,
          19,
          24,
          11,
          17,
          8,
          12,
          9,
          18,
          17,
          15
         ],
         "yaxis": "y"
        },
        {
         "hoverlabel": {
          "namelength": 0
         },
         "hovertemplate": "County=San Juan County<br>WeekStartDate=%{x}<br>Age 60-79=%{y}",
         "legendgroup": "San Juan County",
         "marker": {
          "color": "#FFA15A",
          "symbol": "circle"
         },
         "mode": "markers",
         "name": "San Juan County",
         "showlegend": true,
         "type": "scatter",
         "x": [
          "2020-03-08",
          "2020-03-15",
          "2020-03-22",
          "2020-03-29",
          "2020-04-05",
          "2020-04-12",
          "2020-06-07",
          "2020-06-14",
          "2020-06-21"
         ],
         "xaxis": "x",
         "y": [
          0,
          1,
          0,
          2,
          0,
          0,
          0,
          0,
          0
         ],
         "yaxis": "y"
        },
        {
         "hoverlabel": {
          "namelength": 0
         },
         "hovertemplate": "County=Skagit County<br>WeekStartDate=%{x}<br>Age 60-79=%{y}",
         "legendgroup": "Skagit County",
         "marker": {
          "color": "#19d3f3",
          "symbol": "circle"
         },
         "mode": "markers",
         "name": "Skagit County",
         "showlegend": true,
         "type": "scatter",
         "x": [
          "2020-02-16",
          "2020-02-23",
          "2020-03-01",
          "2020-03-08",
          "2020-03-15",
          "2020-03-22",
          "2020-03-29",
          "2020-04-05",
          "2020-04-12",
          "2020-04-19",
          "2020-04-26",
          "2020-05-03",
          "2020-05-10",
          "2020-05-17",
          "2020-05-24",
          "2020-05-31",
          "2020-06-07",
          "2020-06-14",
          "2020-06-21",
          "2020-06-28"
         ],
         "xaxis": "x",
         "y": [
          0,
          0,
          2,
          20,
          13,
          9,
          14,
          7,
          16,
          5,
          3,
          0,
          2,
          0,
          0,
          0,
          3,
          0,
          2,
          1
         ],
         "yaxis": "y"
        },
        {
         "hoverlabel": {
          "namelength": 0
         },
         "hovertemplate": "County=Skamania County<br>WeekStartDate=%{x}<br>Age 60-79=%{y}",
         "legendgroup": "Skamania County",
         "marker": {
          "color": "#FF6692",
          "symbol": "circle"
         },
         "mode": "markers",
         "name": "Skamania County",
         "showlegend": true,
         "type": "scatter",
         "x": [
          "2020-03-22",
          "2020-04-05",
          "2020-06-14",
          "2020-06-21",
          "2020-06-28"
         ],
         "xaxis": "x",
         "y": [
          1,
          1,
          0,
          2,
          0
         ],
         "yaxis": "y"
        },
        {
         "hoverlabel": {
          "namelength": 0
         },
         "hovertemplate": "County=Snohomish County<br>WeekStartDate=%{x}<br>Age 60-79=%{y}",
         "legendgroup": "Snohomish County",
         "marker": {
          "color": "#B6E880",
          "symbol": "circle"
         },
         "mode": "markers",
         "name": "Snohomish County",
         "showlegend": true,
         "type": "scatter",
         "x": [
          "2020-01-16",
          "2020-01-26",
          "2020-02-02",
          "2020-02-09",
          "2020-02-16",
          "2020-02-23",
          "2020-03-01",
          "2020-03-08",
          "2020-03-15",
          "2020-03-22",
          "2020-03-29",
          "2020-04-05",
          "2020-04-12",
          "2020-04-19",
          "2020-04-26",
          "2020-05-03",
          "2020-05-10",
          "2020-05-17",
          "2020-05-24",
          "2020-05-31",
          "2020-06-07",
          "2020-06-14",
          "2020-06-21",
          "2020-06-28"
         ],
         "xaxis": "x",
         "y": [
          0,
          0,
          1,
          1,
          6,
          17,
          69,
          85,
          112,
          78,
          54,
          41,
          42,
          29,
          27,
          24,
          11,
          21,
          10,
          12,
          16,
          14,
          23,
          11
         ],
         "yaxis": "y"
        },
        {
         "hoverlabel": {
          "namelength": 0
         },
         "hovertemplate": "County=Spokane County<br>WeekStartDate=%{x}<br>Age 60-79=%{y}",
         "legendgroup": "Spokane County",
         "marker": {
          "color": "#FF97FF",
          "symbol": "circle"
         },
         "mode": "markers",
         "name": "Spokane County",
         "showlegend": true,
         "type": "scatter",
         "x": [
          "2020-02-16",
          "2020-02-23",
          "2020-03-01",
          "2020-03-08",
          "2020-03-15",
          "2020-03-22",
          "2020-03-29",
          "2020-04-05",
          "2020-04-12",
          "2020-04-19",
          "2020-04-26",
          "2020-05-03",
          "2020-05-10",
          "2020-05-17",
          "2020-05-24",
          "2020-05-31",
          "2020-06-07",
          "2020-06-14",
          "2020-06-21",
          "2020-06-28"
         ],
         "xaxis": "x",
         "y": [
          1,
          0,
          2,
          17,
          27,
          17,
          15,
          7,
          6,
          10,
          6,
          2,
          3,
          12,
          5,
          15,
          14,
          23,
          21,
          13
         ],
         "yaxis": "y"
        },
        {
         "hoverlabel": {
          "namelength": 0
         },
         "hovertemplate": "County=Stevens County<br>WeekStartDate=%{x}<br>Age 60-79=%{y}",
         "legendgroup": "Stevens County",
         "marker": {
          "color": "#FECB52",
          "symbol": "circle"
         },
         "mode": "markers",
         "name": "Stevens County",
         "showlegend": true,
         "type": "scatter",
         "x": [
          "2020-03-01",
          "2020-03-08",
          "2020-03-15",
          "2020-03-22",
          "2020-03-29",
          "2020-04-12",
          "2020-05-10",
          "2020-05-17",
          "2020-05-24",
          "2020-06-07",
          "2020-06-21",
          "2020-06-28"
         ],
         "xaxis": "x",
         "y": [
          0,
          1,
          1,
          2,
          1,
          1,
          0,
          0,
          0,
          0,
          2,
          1
         ],
         "yaxis": "y"
        },
        {
         "hoverlabel": {
          "namelength": 0
         },
         "hovertemplate": "County=Thurston County<br>WeekStartDate=%{x}<br>Age 60-79=%{y}",
         "legendgroup": "Thurston County",
         "marker": {
          "color": "#636efa",
          "symbol": "circle"
         },
         "mode": "markers",
         "name": "Thurston County",
         "showlegend": true,
         "type": "scatter",
         "x": [
          "2020-02-23",
          "2020-03-01",
          "2020-03-08",
          "2020-03-15",
          "2020-03-22",
          "2020-03-29",
          "2020-04-05",
          "2020-04-12",
          "2020-04-19",
          "2020-04-26",
          "2020-05-03",
          "2020-05-10",
          "2020-05-17",
          "2020-05-24",
          "2020-05-31",
          "2020-06-07",
          "2020-06-14",
          "2020-06-21",
          "2020-06-28"
         ],
         "xaxis": "x",
         "y": [
          0,
          1,
          6,
          8,
          12,
          3,
          2,
          3,
          1,
          1,
          0,
          1,
          2,
          7,
          4,
          1,
          2,
          6,
          3
         ],
         "yaxis": "y"
        },
        {
         "hoverlabel": {
          "namelength": 0
         },
         "hovertemplate": "County=Wahkiakum County<br>WeekStartDate=%{x}<br>Age 60-79=%{y}",
         "legendgroup": "Wahkiakum County",
         "marker": {
          "color": "#EF553B",
          "symbol": "circle"
         },
         "mode": "markers",
         "name": "Wahkiakum County",
         "showlegend": true,
         "type": "scatter",
         "x": [
          "2020-03-15",
          "2020-03-22",
          "2020-05-03",
          "2020-06-14"
         ],
         "xaxis": "x",
         "y": [
          0,
          0,
          1,
          0
         ],
         "yaxis": "y"
        },
        {
         "hoverlabel": {
          "namelength": 0
         },
         "hovertemplate": "County=Walla Walla County<br>WeekStartDate=%{x}<br>Age 60-79=%{y}",
         "legendgroup": "Walla Walla County",
         "marker": {
          "color": "#00cc96",
          "symbol": "circle"
         },
         "mode": "markers",
         "name": "Walla Walla County",
         "showlegend": true,
         "type": "scatter",
         "x": [
          "2020-03-08",
          "2020-03-15",
          "2020-03-22",
          "2020-03-29",
          "2020-04-05",
          "2020-04-12",
          "2020-04-19",
          "2020-04-26",
          "2020-05-03",
          "2020-05-10",
          "2020-05-17",
          "2020-05-24",
          "2020-05-31",
          "2020-06-07",
          "2020-06-14",
          "2020-06-21",
          "2020-06-28"
         ],
         "xaxis": "x",
         "y": [
          0,
          1,
          1,
          2,
          4,
          1,
          8,
          0,
          0,
          0,
          0,
          1,
          2,
          2,
          1,
          4,
          3
         ],
         "yaxis": "y"
        },
        {
         "hoverlabel": {
          "namelength": 0
         },
         "hovertemplate": "County=Whatcom County<br>WeekStartDate=%{x}<br>Age 60-79=%{y}",
         "legendgroup": "Whatcom County",
         "marker": {
          "color": "#ab63fa",
          "symbol": "circle"
         },
         "mode": "markers",
         "name": "Whatcom County",
         "showlegend": true,
         "type": "scatter",
         "x": [
          "2020-02-16",
          "2020-02-23",
          "2020-03-01",
          "2020-03-08",
          "2020-03-15",
          "2020-03-22",
          "2020-03-29",
          "2020-04-05",
          "2020-04-12",
          "2020-04-19",
          "2020-04-26",
          "2020-05-03",
          "2020-05-10",
          "2020-05-17",
          "2020-05-24",
          "2020-05-31",
          "2020-06-07",
          "2020-06-14",
          "2020-06-21",
          "2020-06-28"
         ],
         "xaxis": "x",
         "y": [
          1,
          0,
          3,
          5,
          12,
          20,
          10,
          9,
          2,
          2,
          1,
          3,
          2,
          1,
          0,
          2,
          2,
          17,
          10,
          4
         ],
         "yaxis": "y"
        },
        {
         "hoverlabel": {
          "namelength": 0
         },
         "hovertemplate": "County=Whitman County<br>WeekStartDate=%{x}<br>Age 60-79=%{y}",
         "legendgroup": "Whitman County",
         "marker": {
          "color": "#FFA15A",
          "symbol": "circle"
         },
         "mode": "markers",
         "name": "Whitman County",
         "showlegend": true,
         "type": "scatter",
         "x": [
          "2020-03-08",
          "2020-03-15",
          "2020-03-22",
          "2020-03-29",
          "2020-04-12",
          "2020-04-19",
          "2020-05-10",
          "2020-05-17",
          "2020-05-31",
          "2020-06-07",
          "2020-06-14",
          "2020-06-21",
          "2020-06-28"
         ],
         "xaxis": "x",
         "y": [
          0,
          1,
          0,
          0,
          0,
          0,
          0,
          0,
          1,
          0,
          0,
          2,
          0
         ],
         "yaxis": "y"
        },
        {
         "hoverlabel": {
          "namelength": 0
         },
         "hovertemplate": "County=Yakima County<br>WeekStartDate=%{x}<br>Age 60-79=%{y}",
         "legendgroup": "Yakima County",
         "marker": {
          "color": "#19d3f3",
          "symbol": "circle"
         },
         "mode": "markers",
         "name": "Yakima County",
         "showlegend": true,
         "type": "scatter",
         "x": [
          "2020-01-16",
          "2020-02-09",
          "2020-02-16",
          "2020-03-01",
          "2020-03-08",
          "2020-03-15",
          "2020-03-22",
          "2020-03-29",
          "2020-04-05",
          "2020-04-12",
          "2020-04-19",
          "2020-04-26",
          "2020-05-03",
          "2020-05-10",
          "2020-05-17",
          "2020-05-24",
          "2020-05-31",
          "2020-06-07",
          "2020-06-14",
          "2020-06-21",
          "2020-06-28"
         ],
         "xaxis": "x",
         "y": [
          0,
          1,
          0,
          9,
          5,
          12,
          37,
          62,
          49,
          40,
          43,
          58,
          59,
          73,
          84,
          104,
          87,
          94,
          86,
          49,
          19
         ],
         "yaxis": "y"
        },
        {
         "hoverlabel": {
          "namelength": 0
         },
         "hovertemplate": "County=Unassigned<br>WeekStartDate=%{x}<br>Age 60-79=%{y}",
         "legendgroup": "Unassigned",
         "marker": {
          "color": "#FF6692",
          "symbol": "circle"
         },
         "mode": "markers",
         "name": "Unassigned",
         "showlegend": true,
         "type": "scatter",
         "x": [
          "2020-04-12",
          "2020-04-19",
          "2020-05-10",
          "2020-05-17",
          "2020-05-24",
          "2020-05-31",
          "2020-06-07",
          "2020-06-14",
          "2020-06-21",
          "2020-06-28"
         ],
         "xaxis": "x",
         "y": [
          1,
          0,
          0,
          0,
          0,
          0,
          0,
          0,
          5,
          7
         ],
         "yaxis": "y"
        }
       ],
       "layout": {
        "legend": {
         "title": {
          "text": "County"
         },
         "tracegroupgap": 0
        },
        "margin": {
         "t": 60
        },
        "template": {
         "data": {
          "bar": [
           {
            "error_x": {
             "color": "#2a3f5f"
            },
            "error_y": {
             "color": "#2a3f5f"
            },
            "marker": {
             "line": {
              "color": "#E5ECF6",
              "width": 0.5
             }
            },
            "type": "bar"
           }
          ],
          "barpolar": [
           {
            "marker": {
             "line": {
              "color": "#E5ECF6",
              "width": 0.5
             }
            },
            "type": "barpolar"
           }
          ],
          "carpet": [
           {
            "aaxis": {
             "endlinecolor": "#2a3f5f",
             "gridcolor": "white",
             "linecolor": "white",
             "minorgridcolor": "white",
             "startlinecolor": "#2a3f5f"
            },
            "baxis": {
             "endlinecolor": "#2a3f5f",
             "gridcolor": "white",
             "linecolor": "white",
             "minorgridcolor": "white",
             "startlinecolor": "#2a3f5f"
            },
            "type": "carpet"
           }
          ],
          "choropleth": [
           {
            "colorbar": {
             "outlinewidth": 0,
             "ticks": ""
            },
            "type": "choropleth"
           }
          ],
          "contour": [
           {
            "colorbar": {
             "outlinewidth": 0,
             "ticks": ""
            },
            "colorscale": [
             [
              0,
              "#0d0887"
             ],
             [
              0.1111111111111111,
              "#46039f"
             ],
             [
              0.2222222222222222,
              "#7201a8"
             ],
             [
              0.3333333333333333,
              "#9c179e"
             ],
             [
              0.4444444444444444,
              "#bd3786"
             ],
             [
              0.5555555555555556,
              "#d8576b"
             ],
             [
              0.6666666666666666,
              "#ed7953"
             ],
             [
              0.7777777777777778,
              "#fb9f3a"
             ],
             [
              0.8888888888888888,
              "#fdca26"
             ],
             [
              1,
              "#f0f921"
             ]
            ],
            "type": "contour"
           }
          ],
          "contourcarpet": [
           {
            "colorbar": {
             "outlinewidth": 0,
             "ticks": ""
            },
            "type": "contourcarpet"
           }
          ],
          "heatmap": [
           {
            "colorbar": {
             "outlinewidth": 0,
             "ticks": ""
            },
            "colorscale": [
             [
              0,
              "#0d0887"
             ],
             [
              0.1111111111111111,
              "#46039f"
             ],
             [
              0.2222222222222222,
              "#7201a8"
             ],
             [
              0.3333333333333333,
              "#9c179e"
             ],
             [
              0.4444444444444444,
              "#bd3786"
             ],
             [
              0.5555555555555556,
              "#d8576b"
             ],
             [
              0.6666666666666666,
              "#ed7953"
             ],
             [
              0.7777777777777778,
              "#fb9f3a"
             ],
             [
              0.8888888888888888,
              "#fdca26"
             ],
             [
              1,
              "#f0f921"
             ]
            ],
            "type": "heatmap"
           }
          ],
          "heatmapgl": [
           {
            "colorbar": {
             "outlinewidth": 0,
             "ticks": ""
            },
            "colorscale": [
             [
              0,
              "#0d0887"
             ],
             [
              0.1111111111111111,
              "#46039f"
             ],
             [
              0.2222222222222222,
              "#7201a8"
             ],
             [
              0.3333333333333333,
              "#9c179e"
             ],
             [
              0.4444444444444444,
              "#bd3786"
             ],
             [
              0.5555555555555556,
              "#d8576b"
             ],
             [
              0.6666666666666666,
              "#ed7953"
             ],
             [
              0.7777777777777778,
              "#fb9f3a"
             ],
             [
              0.8888888888888888,
              "#fdca26"
             ],
             [
              1,
              "#f0f921"
             ]
            ],
            "type": "heatmapgl"
           }
          ],
          "histogram": [
           {
            "marker": {
             "colorbar": {
              "outlinewidth": 0,
              "ticks": ""
             }
            },
            "type": "histogram"
           }
          ],
          "histogram2d": [
           {
            "colorbar": {
             "outlinewidth": 0,
             "ticks": ""
            },
            "colorscale": [
             [
              0,
              "#0d0887"
             ],
             [
              0.1111111111111111,
              "#46039f"
             ],
             [
              0.2222222222222222,
              "#7201a8"
             ],
             [
              0.3333333333333333,
              "#9c179e"
             ],
             [
              0.4444444444444444,
              "#bd3786"
             ],
             [
              0.5555555555555556,
              "#d8576b"
             ],
             [
              0.6666666666666666,
              "#ed7953"
             ],
             [
              0.7777777777777778,
              "#fb9f3a"
             ],
             [
              0.8888888888888888,
              "#fdca26"
             ],
             [
              1,
              "#f0f921"
             ]
            ],
            "type": "histogram2d"
           }
          ],
          "histogram2dcontour": [
           {
            "colorbar": {
             "outlinewidth": 0,
             "ticks": ""
            },
            "colorscale": [
             [
              0,
              "#0d0887"
             ],
             [
              0.1111111111111111,
              "#46039f"
             ],
             [
              0.2222222222222222,
              "#7201a8"
             ],
             [
              0.3333333333333333,
              "#9c179e"
             ],
             [
              0.4444444444444444,
              "#bd3786"
             ],
             [
              0.5555555555555556,
              "#d8576b"
             ],
             [
              0.6666666666666666,
              "#ed7953"
             ],
             [
              0.7777777777777778,
              "#fb9f3a"
             ],
             [
              0.8888888888888888,
              "#fdca26"
             ],
             [
              1,
              "#f0f921"
             ]
            ],
            "type": "histogram2dcontour"
           }
          ],
          "mesh3d": [
           {
            "colorbar": {
             "outlinewidth": 0,
             "ticks": ""
            },
            "type": "mesh3d"
           }
          ],
          "parcoords": [
           {
            "line": {
             "colorbar": {
              "outlinewidth": 0,
              "ticks": ""
             }
            },
            "type": "parcoords"
           }
          ],
          "pie": [
           {
            "automargin": true,
            "type": "pie"
           }
          ],
          "scatter": [
           {
            "marker": {
             "colorbar": {
              "outlinewidth": 0,
              "ticks": ""
             }
            },
            "type": "scatter"
           }
          ],
          "scatter3d": [
           {
            "line": {
             "colorbar": {
              "outlinewidth": 0,
              "ticks": ""
             }
            },
            "marker": {
             "colorbar": {
              "outlinewidth": 0,
              "ticks": ""
             }
            },
            "type": "scatter3d"
           }
          ],
          "scattercarpet": [
           {
            "marker": {
             "colorbar": {
              "outlinewidth": 0,
              "ticks": ""
             }
            },
            "type": "scattercarpet"
           }
          ],
          "scattergeo": [
           {
            "marker": {
             "colorbar": {
              "outlinewidth": 0,
              "ticks": ""
             }
            },
            "type": "scattergeo"
           }
          ],
          "scattergl": [
           {
            "marker": {
             "colorbar": {
              "outlinewidth": 0,
              "ticks": ""
             }
            },
            "type": "scattergl"
           }
          ],
          "scattermapbox": [
           {
            "marker": {
             "colorbar": {
              "outlinewidth": 0,
              "ticks": ""
             }
            },
            "type": "scattermapbox"
           }
          ],
          "scatterpolar": [
           {
            "marker": {
             "colorbar": {
              "outlinewidth": 0,
              "ticks": ""
             }
            },
            "type": "scatterpolar"
           }
          ],
          "scatterpolargl": [
           {
            "marker": {
             "colorbar": {
              "outlinewidth": 0,
              "ticks": ""
             }
            },
            "type": "scatterpolargl"
           }
          ],
          "scatterternary": [
           {
            "marker": {
             "colorbar": {
              "outlinewidth": 0,
              "ticks": ""
             }
            },
            "type": "scatterternary"
           }
          ],
          "surface": [
           {
            "colorbar": {
             "outlinewidth": 0,
             "ticks": ""
            },
            "colorscale": [
             [
              0,
              "#0d0887"
             ],
             [
              0.1111111111111111,
              "#46039f"
             ],
             [
              0.2222222222222222,
              "#7201a8"
             ],
             [
              0.3333333333333333,
              "#9c179e"
             ],
             [
              0.4444444444444444,
              "#bd3786"
             ],
             [
              0.5555555555555556,
              "#d8576b"
             ],
             [
              0.6666666666666666,
              "#ed7953"
             ],
             [
              0.7777777777777778,
              "#fb9f3a"
             ],
             [
              0.8888888888888888,
              "#fdca26"
             ],
             [
              1,
              "#f0f921"
             ]
            ],
            "type": "surface"
           }
          ],
          "table": [
           {
            "cells": {
             "fill": {
              "color": "#EBF0F8"
             },
             "line": {
              "color": "white"
             }
            },
            "header": {
             "fill": {
              "color": "#C8D4E3"
             },
             "line": {
              "color": "white"
             }
            },
            "type": "table"
           }
          ]
         },
         "layout": {
          "annotationdefaults": {
           "arrowcolor": "#2a3f5f",
           "arrowhead": 0,
           "arrowwidth": 1
          },
          "coloraxis": {
           "colorbar": {
            "outlinewidth": 0,
            "ticks": ""
           }
          },
          "colorscale": {
           "diverging": [
            [
             0,
             "#8e0152"
            ],
            [
             0.1,
             "#c51b7d"
            ],
            [
             0.2,
             "#de77ae"
            ],
            [
             0.3,
             "#f1b6da"
            ],
            [
             0.4,
             "#fde0ef"
            ],
            [
             0.5,
             "#f7f7f7"
            ],
            [
             0.6,
             "#e6f5d0"
            ],
            [
             0.7,
             "#b8e186"
            ],
            [
             0.8,
             "#7fbc41"
            ],
            [
             0.9,
             "#4d9221"
            ],
            [
             1,
             "#276419"
            ]
           ],
           "sequential": [
            [
             0,
             "#0d0887"
            ],
            [
             0.1111111111111111,
             "#46039f"
            ],
            [
             0.2222222222222222,
             "#7201a8"
            ],
            [
             0.3333333333333333,
             "#9c179e"
            ],
            [
             0.4444444444444444,
             "#bd3786"
            ],
            [
             0.5555555555555556,
             "#d8576b"
            ],
            [
             0.6666666666666666,
             "#ed7953"
            ],
            [
             0.7777777777777778,
             "#fb9f3a"
            ],
            [
             0.8888888888888888,
             "#fdca26"
            ],
            [
             1,
             "#f0f921"
            ]
           ],
           "sequentialminus": [
            [
             0,
             "#0d0887"
            ],
            [
             0.1111111111111111,
             "#46039f"
            ],
            [
             0.2222222222222222,
             "#7201a8"
            ],
            [
             0.3333333333333333,
             "#9c179e"
            ],
            [
             0.4444444444444444,
             "#bd3786"
            ],
            [
             0.5555555555555556,
             "#d8576b"
            ],
            [
             0.6666666666666666,
             "#ed7953"
            ],
            [
             0.7777777777777778,
             "#fb9f3a"
            ],
            [
             0.8888888888888888,
             "#fdca26"
            ],
            [
             1,
             "#f0f921"
            ]
           ]
          },
          "colorway": [
           "#636efa",
           "#EF553B",
           "#00cc96",
           "#ab63fa",
           "#FFA15A",
           "#19d3f3",
           "#FF6692",
           "#B6E880",
           "#FF97FF",
           "#FECB52"
          ],
          "font": {
           "color": "#2a3f5f"
          },
          "geo": {
           "bgcolor": "white",
           "lakecolor": "white",
           "landcolor": "#E5ECF6",
           "showlakes": true,
           "showland": true,
           "subunitcolor": "white"
          },
          "hoverlabel": {
           "align": "left"
          },
          "hovermode": "closest",
          "mapbox": {
           "style": "light"
          },
          "paper_bgcolor": "white",
          "plot_bgcolor": "#E5ECF6",
          "polar": {
           "angularaxis": {
            "gridcolor": "white",
            "linecolor": "white",
            "ticks": ""
           },
           "bgcolor": "#E5ECF6",
           "radialaxis": {
            "gridcolor": "white",
            "linecolor": "white",
            "ticks": ""
           }
          },
          "scene": {
           "xaxis": {
            "backgroundcolor": "#E5ECF6",
            "gridcolor": "white",
            "gridwidth": 2,
            "linecolor": "white",
            "showbackground": true,
            "ticks": "",
            "zerolinecolor": "white"
           },
           "yaxis": {
            "backgroundcolor": "#E5ECF6",
            "gridcolor": "white",
            "gridwidth": 2,
            "linecolor": "white",
            "showbackground": true,
            "ticks": "",
            "zerolinecolor": "white"
           },
           "zaxis": {
            "backgroundcolor": "#E5ECF6",
            "gridcolor": "white",
            "gridwidth": 2,
            "linecolor": "white",
            "showbackground": true,
            "ticks": "",
            "zerolinecolor": "white"
           }
          },
          "shapedefaults": {
           "line": {
            "color": "#2a3f5f"
           }
          },
          "ternary": {
           "aaxis": {
            "gridcolor": "white",
            "linecolor": "white",
            "ticks": ""
           },
           "baxis": {
            "gridcolor": "white",
            "linecolor": "white",
            "ticks": ""
           },
           "bgcolor": "#E5ECF6",
           "caxis": {
            "gridcolor": "white",
            "linecolor": "white",
            "ticks": ""
           }
          },
          "title": {
           "x": 0.05
          },
          "xaxis": {
           "automargin": true,
           "gridcolor": "white",
           "linecolor": "white",
           "ticks": "",
           "title": {
            "standoff": 15
           },
           "zerolinecolor": "white",
           "zerolinewidth": 2
          },
          "yaxis": {
           "automargin": true,
           "gridcolor": "white",
           "linecolor": "white",
           "ticks": "",
           "title": {
            "standoff": 15
           },
           "zerolinecolor": "white",
           "zerolinewidth": 2
          }
         }
        },
        "xaxis": {
         "anchor": "y",
         "domain": [
          0,
          1
         ],
         "title": {
          "text": "WeekStartDate"
         }
        },
        "yaxis": {
         "anchor": "x",
         "domain": [
          0,
          1
         ],
         "title": {
          "text": "Age 60-79"
         }
        }
       }
      },
      "text/html": [
       "<div>\n",
       "        \n",
       "        \n",
       "            <div id=\"697a3fc2-d12c-4b31-a773-ad00ce8d8c54\" class=\"plotly-graph-div\" style=\"height:525px; width:100%;\"></div>\n",
       "            <script type=\"text/javascript\">\n",
       "                require([\"plotly\"], function(Plotly) {\n",
       "                    window.PLOTLYENV=window.PLOTLYENV || {};\n",
       "                    \n",
       "                if (document.getElementById(\"697a3fc2-d12c-4b31-a773-ad00ce8d8c54\")) {\n",
       "                    Plotly.newPlot(\n",
       "                        '697a3fc2-d12c-4b31-a773-ad00ce8d8c54',\n",
       "                        [{\"hoverlabel\": {\"namelength\": 0}, \"hovertemplate\": \"County=Adams County<br>WeekStartDate=%{x}<br>Age 60-79=%{y}\", \"legendgroup\": \"Adams County\", \"marker\": {\"color\": \"#636efa\", \"symbol\": \"circle\"}, \"mode\": \"markers\", \"name\": \"Adams County\", \"showlegend\": true, \"type\": \"scatter\", \"x\": [\"2020-03-08\", \"2020-03-15\", \"2020-03-22\", \"2020-03-29\", \"2020-04-05\", \"2020-04-12\", \"2020-04-19\", \"2020-04-26\", \"2020-05-03\", \"2020-05-10\", \"2020-05-17\", \"2020-05-24\", \"2020-05-31\", \"2020-06-07\", \"2020-06-14\", \"2020-06-21\", \"2020-06-28\"], \"xaxis\": \"x\", \"y\": [2, 0, 4, 3, 1, 0, 0, 0, 0, 0, 0, 2, 0, 3, 3, 5, 2], \"yaxis\": \"y\"}, {\"hoverlabel\": {\"namelength\": 0}, \"hovertemplate\": \"County=Asotin County<br>WeekStartDate=%{x}<br>Age 60-79=%{y}\", \"legendgroup\": \"Asotin County\", \"marker\": {\"color\": \"#EF553B\", \"symbol\": \"circle\"}, \"mode\": \"markers\", \"name\": \"Asotin County\", \"showlegend\": true, \"type\": \"scatter\", \"x\": [\"2020-03-15\", \"2020-03-29\", \"2020-04-05\", \"2020-04-12\", \"2020-04-19\", \"2020-05-17\", \"2020-05-31\", \"2020-06-21\"], \"xaxis\": \"x\", \"y\": [2, 0, 1, 0, 2, 0, 1, 1], \"yaxis\": \"y\"}, {\"hoverlabel\": {\"namelength\": 0}, \"hovertemplate\": \"County=Benton County<br>WeekStartDate=%{x}<br>Age 60-79=%{y}\", \"legendgroup\": \"Benton County\", \"marker\": {\"color\": \"#00cc96\", \"symbol\": \"circle\"}, \"mode\": \"markers\", \"name\": \"Benton County\", \"showlegend\": true, \"type\": \"scatter\", \"x\": [\"2020-02-16\", \"2020-03-01\", \"2020-03-08\", \"2020-03-15\", \"2020-03-22\", \"2020-03-29\", \"2020-04-05\", \"2020-04-12\", \"2020-04-19\", \"2020-04-26\", \"2020-05-03\", \"2020-05-10\", \"2020-05-17\", \"2020-05-24\", \"2020-05-31\", \"2020-06-07\", \"2020-06-14\", \"2020-06-21\", \"2020-06-28\"], \"xaxis\": \"x\", \"y\": [0, 3, 6, 10, 26, 21, 12, 9, 19, 15, 9, 6, 9, 21, 27, 24, 34, 20, 14], \"yaxis\": \"y\"}, {\"hoverlabel\": {\"namelength\": 0}, \"hovertemplate\": \"County=Chelan County<br>WeekStartDate=%{x}<br>Age 60-79=%{y}\", \"legendgroup\": \"Chelan County\", \"marker\": {\"color\": \"#ab63fa\", \"symbol\": \"circle\"}, \"mode\": \"markers\", \"name\": \"Chelan County\", \"showlegend\": true, \"type\": \"scatter\", \"x\": [\"2020-02-09\", \"2020-03-08\", \"2020-03-15\", \"2020-03-22\", \"2020-03-29\", \"2020-04-05\", \"2020-04-12\", \"2020-04-19\", \"2020-04-26\", \"2020-05-03\", \"2020-05-10\", \"2020-05-17\", \"2020-05-24\", \"2020-05-31\", \"2020-06-07\", \"2020-06-14\", \"2020-06-21\", \"2020-06-28\"], \"xaxis\": \"x\", \"y\": [0, 1, 2, 3, 9, 2, 0, 4, 6, 1, 0, 3, 2, 1, 0, 1, 4, 3], \"yaxis\": \"y\"}, {\"hoverlabel\": {\"namelength\": 0}, \"hovertemplate\": \"County=Clallam County<br>WeekStartDate=%{x}<br>Age 60-79=%{y}\", \"legendgroup\": \"Clallam County\", \"marker\": {\"color\": \"#FFA15A\", \"symbol\": \"circle\"}, \"mode\": \"markers\", \"name\": \"Clallam County\", \"showlegend\": true, \"type\": \"scatter\", \"x\": [\"2020-03-01\", \"2020-03-08\", \"2020-03-15\", \"2020-03-29\", \"2020-04-05\", \"2020-04-19\", \"2020-04-26\", \"2020-05-10\", \"2020-05-17\", \"2020-05-24\", \"2020-05-31\", \"2020-06-07\", \"2020-06-14\", \"2020-06-21\", \"2020-06-28\"], \"xaxis\": \"x\", \"y\": [2, 3, 1, 1, 0, 0, 0, 0, 0, 0, 0, 1, 0, 0, 2], \"yaxis\": \"y\"}, {\"hoverlabel\": {\"namelength\": 0}, \"hovertemplate\": \"County=Clark County<br>WeekStartDate=%{x}<br>Age 60-79=%{y}\", \"legendgroup\": \"Clark County\", \"marker\": {\"color\": \"#19d3f3\", \"symbol\": \"circle\"}, \"mode\": \"markers\", \"name\": \"Clark County\", \"showlegend\": true, \"type\": \"scatter\", \"x\": [\"2020-02-23\", \"2020-03-01\", \"2020-03-08\", \"2020-03-15\", \"2020-03-22\", \"2020-03-29\", \"2020-04-05\", \"2020-04-12\", \"2020-04-19\", \"2020-04-26\", \"2020-05-03\", \"2020-05-10\", \"2020-05-17\", \"2020-05-24\", \"2020-05-31\", \"2020-06-07\", \"2020-06-14\", \"2020-06-21\", \"2020-06-28\"], \"xaxis\": \"x\", \"y\": [1, 0, 11, 15, 18, 17, 16, 12, 1, 3, 1, 2, 3, 5, 5, 4, 6, 14, 11], \"yaxis\": \"y\"}, {\"hoverlabel\": {\"namelength\": 0}, \"hovertemplate\": \"County=Columbia County<br>WeekStartDate=%{x}<br>Age 60-79=%{y}\", \"legendgroup\": \"Columbia County\", \"marker\": {\"color\": \"#FF6692\", \"symbol\": \"circle\"}, \"mode\": \"markers\", \"name\": \"Columbia County\", \"showlegend\": true, \"type\": \"scatter\", \"x\": [\"2020-03-01\", \"2020-06-07\", \"2020-06-14\"], \"xaxis\": \"x\", \"y\": [1, 0, 0], \"yaxis\": \"y\"}, {\"hoverlabel\": {\"namelength\": 0}, \"hovertemplate\": \"County=Cowlitz County<br>WeekStartDate=%{x}<br>Age 60-79=%{y}\", \"legendgroup\": \"Cowlitz County\", \"marker\": {\"color\": \"#B6E880\", \"symbol\": \"circle\"}, \"mode\": \"markers\", \"name\": \"Cowlitz County\", \"showlegend\": true, \"type\": \"scatter\", \"x\": [\"2020-02-23\", \"2020-03-01\", \"2020-03-08\", \"2020-03-15\", \"2020-03-22\", \"2020-03-29\", \"2020-04-05\", \"2020-04-12\", \"2020-04-19\", \"2020-04-26\", \"2020-05-03\", \"2020-05-10\", \"2020-05-17\", \"2020-05-24\", \"2020-05-31\", \"2020-06-07\", \"2020-06-14\", \"2020-06-21\", \"2020-06-28\"], \"xaxis\": \"x\", \"y\": [1, 1, 5, 3, 1, 3, 2, 6, 0, 2, 2, 0, 0, 0, 3, 2, 2, 5, 2], \"yaxis\": \"y\"}, {\"hoverlabel\": {\"namelength\": 0}, \"hovertemplate\": \"County=Douglas County<br>WeekStartDate=%{x}<br>Age 60-79=%{y}\", \"legendgroup\": \"Douglas County\", \"marker\": {\"color\": \"#FF97FF\", \"symbol\": \"circle\"}, \"mode\": \"markers\", \"name\": \"Douglas County\", \"showlegend\": true, \"type\": \"scatter\", \"x\": [\"2020-03-01\", \"2020-03-08\", \"2020-03-15\", \"2020-03-22\", \"2020-03-29\", \"2020-04-05\", \"2020-04-12\", \"2020-04-19\", \"2020-04-26\", \"2020-05-03\", \"2020-05-10\", \"2020-05-17\", \"2020-05-24\", \"2020-05-31\", \"2020-06-07\", \"2020-06-14\", \"2020-06-21\", \"2020-06-28\"], \"xaxis\": \"x\", \"y\": [0, 0, 1, 1, 0, 2, 0, 2, 5, 0, 4, 2, 1, 0, 1, 1, 2, 0], \"yaxis\": \"y\"}, {\"hoverlabel\": {\"namelength\": 0}, \"hovertemplate\": \"County=Franklin County<br>WeekStartDate=%{x}<br>Age 60-79=%{y}\", \"legendgroup\": \"Franklin County\", \"marker\": {\"color\": \"#FECB52\", \"symbol\": \"circle\"}, \"mode\": \"markers\", \"name\": \"Franklin County\", \"showlegend\": true, \"type\": \"scatter\", \"x\": [\"2020-02-09\", \"2020-02-23\", \"2020-03-01\", \"2020-03-08\", \"2020-03-15\", \"2020-03-22\", \"2020-03-29\", \"2020-04-05\", \"2020-04-12\", \"2020-04-19\", \"2020-04-26\", \"2020-05-03\", \"2020-05-10\", \"2020-05-17\", \"2020-05-24\", \"2020-05-31\", \"2020-06-07\", \"2020-06-14\", \"2020-06-21\", \"2020-06-28\"], \"xaxis\": \"x\", \"y\": [0, 1, 1, 1, 1, 10, 5, 14, 6, 15, 9, 10, 7, 10, 18, 32, 29, 25, 20, 15], \"yaxis\": \"y\"}, {\"hoverlabel\": {\"namelength\": 0}, \"hovertemplate\": \"County=Grant County<br>WeekStartDate=%{x}<br>Age 60-79=%{y}\", \"legendgroup\": \"Grant County\", \"marker\": {\"color\": \"#636efa\", \"symbol\": \"circle\"}, \"mode\": \"markers\", \"name\": \"Grant County\", \"showlegend\": true, \"type\": \"scatter\", \"x\": [\"2020-02-16\", \"2020-02-23\", \"2020-03-01\", \"2020-03-08\", \"2020-03-15\", \"2020-03-22\", \"2020-03-29\", \"2020-04-05\", \"2020-04-12\", \"2020-04-19\", \"2020-04-26\", \"2020-05-03\", \"2020-05-10\", \"2020-05-17\", \"2020-05-24\", \"2020-05-31\", \"2020-06-07\", \"2020-06-14\", \"2020-06-21\", \"2020-06-28\"], \"xaxis\": \"x\", \"y\": [0, 0, 3, 7, 9, 3, 1, 7, 1, 0, 0, 1, 0, 0, 4, 0, 9, 15, 10, 3], \"yaxis\": \"y\"}, {\"hoverlabel\": {\"namelength\": 0}, \"hovertemplate\": \"County=Grays Harbor County<br>WeekStartDate=%{x}<br>Age 60-79=%{y}\", \"legendgroup\": \"Grays Harbor County\", \"marker\": {\"color\": \"#EF553B\", \"symbol\": \"circle\"}, \"mode\": \"markers\", \"name\": \"Grays Harbor County\", \"showlegend\": true, \"type\": \"scatter\", \"x\": [\"2020-02-16\", \"2020-02-23\", \"2020-03-01\", \"2020-03-15\", \"2020-03-22\", \"2020-03-29\", \"2020-04-05\", \"2020-04-26\", \"2020-05-03\", \"2020-05-17\", \"2020-05-24\", \"2020-05-31\", \"2020-06-07\", \"2020-06-14\", \"2020-06-21\", \"2020-06-28\"], \"xaxis\": \"x\", \"y\": [1, 1, 1, 0, 0, 2, 1, 0, 2, 0, 0, 0, 0, 2, 0, 0], \"yaxis\": \"y\"}, {\"hoverlabel\": {\"namelength\": 0}, \"hovertemplate\": \"County=Island County<br>WeekStartDate=%{x}<br>Age 60-79=%{y}\", \"legendgroup\": \"Island County\", \"marker\": {\"color\": \"#00cc96\", \"symbol\": \"circle\"}, \"mode\": \"markers\", \"name\": \"Island County\", \"showlegend\": true, \"type\": \"scatter\", \"x\": [\"2020-02-23\", \"2020-03-01\", \"2020-03-08\", \"2020-03-15\", \"2020-03-22\", \"2020-03-29\", \"2020-04-05\", \"2020-04-12\", \"2020-04-19\", \"2020-04-26\", \"2020-05-03\", \"2020-05-10\", \"2020-05-24\", \"2020-06-07\", \"2020-06-14\", \"2020-06-21\", \"2020-06-28\"], \"xaxis\": \"x\", \"y\": [1, 5, 9, 11, 14, 8, 1, 0, 0, 2, 0, 1, 0, 1, 2, 1, 1], \"yaxis\": \"y\"}, {\"hoverlabel\": {\"namelength\": 0}, \"hovertemplate\": \"County=Jefferson County<br>WeekStartDate=%{x}<br>Age 60-79=%{y}\", \"legendgroup\": \"Jefferson County\", \"marker\": {\"color\": \"#ab63fa\", \"symbol\": \"circle\"}, \"mode\": \"markers\", \"name\": \"Jefferson County\", \"showlegend\": true, \"type\": \"scatter\", \"x\": [\"2020-02-23\", \"2020-03-01\", \"2020-03-08\", \"2020-03-15\", \"2020-03-22\", \"2020-03-29\", \"2020-05-31\", \"2020-06-07\", \"2020-06-14\", \"2020-06-21\", \"2020-06-28\"], \"xaxis\": \"x\", \"y\": [1, 2, 4, 5, 1, 2, 0, 1, 1, 2, 1], \"yaxis\": \"y\"}, {\"hoverlabel\": {\"namelength\": 0}, \"hovertemplate\": \"County=King County<br>WeekStartDate=%{x}<br>Age 60-79=%{y}\", \"legendgroup\": \"King County\", \"marker\": {\"color\": \"#FFA15A\", \"symbol\": \"circle\"}, \"mode\": \"markers\", \"name\": \"King County\", \"showlegend\": true, \"type\": \"scatter\", \"x\": [\"2020-02-02\", \"2020-02-09\", \"2020-02-16\", \"2020-02-23\", \"2020-03-01\", \"2020-03-08\", \"2020-03-15\", \"2020-03-22\", \"2020-03-29\", \"2020-04-05\", \"2020-04-12\", \"2020-04-19\", \"2020-04-26\", \"2020-05-03\", \"2020-05-10\", \"2020-05-17\", \"2020-05-24\", \"2020-05-31\", \"2020-06-07\", \"2020-06-14\", \"2020-06-21\", \"2020-06-28\"], \"xaxis\": \"x\", \"y\": [0, 2, 20, 45, 100, 233, 242, 233, 226, 186, 146, 128, 81, 64, 63, 46, 31, 34, 48, 46, 46, 22], \"yaxis\": \"y\"}, {\"hoverlabel\": {\"namelength\": 0}, \"hovertemplate\": \"County=Kitsap County<br>WeekStartDate=%{x}<br>Age 60-79=%{y}\", \"legendgroup\": \"Kitsap County\", \"marker\": {\"color\": \"#19d3f3\", \"symbol\": \"circle\"}, \"mode\": \"markers\", \"name\": \"Kitsap County\", \"showlegend\": true, \"type\": \"scatter\", \"x\": [\"2020-02-16\", \"2020-02-23\", \"2020-03-01\", \"2020-03-08\", \"2020-03-15\", \"2020-03-22\", \"2020-03-29\", \"2020-04-05\", \"2020-04-12\", \"2020-04-19\", \"2020-04-26\", \"2020-05-03\", \"2020-05-10\", \"2020-05-24\", \"2020-05-31\", \"2020-06-07\", \"2020-06-14\", \"2020-06-21\", \"2020-06-28\"], \"xaxis\": \"x\", \"y\": [0, 1, 0, 6, 8, 6, 6, 3, 0, 0, 1, 1, 0, 0, 1, 2, 2, 5, 5], \"yaxis\": \"y\"}, {\"hoverlabel\": {\"namelength\": 0}, \"hovertemplate\": \"County=Kittitas County<br>WeekStartDate=%{x}<br>Age 60-79=%{y}\", \"legendgroup\": \"Kittitas County\", \"marker\": {\"color\": \"#FF6692\", \"symbol\": \"circle\"}, \"mode\": \"markers\", \"name\": \"Kittitas County\", \"showlegend\": true, \"type\": \"scatter\", \"x\": [\"2020-01-26\", \"2020-02-16\", \"2020-03-08\", \"2020-03-15\", \"2020-03-22\", \"2020-03-29\", \"2020-04-05\", \"2020-04-19\", \"2020-04-26\", \"2020-05-03\", \"2020-05-10\", \"2020-05-17\", \"2020-05-24\", \"2020-05-31\", \"2020-06-07\", \"2020-06-14\", \"2020-06-21\", \"2020-06-28\"], \"xaxis\": \"x\", \"y\": [1, 3, 0, 1, 0, 1, 1, 0, 0, 4, 0, 1, 1, 0, 1, 1, 5, 1], \"yaxis\": \"y\"}, {\"hoverlabel\": {\"namelength\": 0}, \"hovertemplate\": \"County=Klickitat County<br>WeekStartDate=%{x}<br>Age 60-79=%{y}\", \"legendgroup\": \"Klickitat County\", \"marker\": {\"color\": \"#B6E880\", \"symbol\": \"circle\"}, \"mode\": \"markers\", \"name\": \"Klickitat County\", \"showlegend\": true, \"type\": \"scatter\", \"x\": [\"2020-03-01\", \"2020-03-15\", \"2020-03-22\", \"2020-03-29\", \"2020-04-05\", \"2020-04-19\", \"2020-04-26\", \"2020-05-03\", \"2020-05-10\", \"2020-05-17\", \"2020-05-24\", \"2020-05-31\", \"2020-06-07\", \"2020-06-14\", \"2020-06-21\", \"2020-06-28\"], \"xaxis\": \"x\", \"y\": [1, 6, 0, 1, 1, 1, 1, 0, 1, 0, 0, 4, 0, 1, 1, 0], \"yaxis\": \"y\"}, {\"hoverlabel\": {\"namelength\": 0}, \"hovertemplate\": \"County=Lewis County<br>WeekStartDate=%{x}<br>Age 60-79=%{y}\", \"legendgroup\": \"Lewis County\", \"marker\": {\"color\": \"#FF97FF\", \"symbol\": \"circle\"}, \"mode\": \"markers\", \"name\": \"Lewis County\", \"showlegend\": true, \"type\": \"scatter\", \"x\": [\"2020-03-08\", \"2020-03-15\", \"2020-03-22\", \"2020-03-29\", \"2020-04-05\", \"2020-04-12\", \"2020-04-19\", \"2020-04-26\", \"2020-05-03\", \"2020-05-10\", \"2020-05-24\", \"2020-06-07\", \"2020-06-14\", \"2020-06-21\", \"2020-06-28\"], \"xaxis\": \"x\", \"y\": [0, 4, 2, 1, 1, 0, 3, 0, 0, 0, 0, 2, 0, 2, 0], \"yaxis\": \"y\"}, {\"hoverlabel\": {\"namelength\": 0}, \"hovertemplate\": \"County=Mason County<br>WeekStartDate=%{x}<br>Age 60-79=%{y}\", \"legendgroup\": \"Mason County\", \"marker\": {\"color\": \"#FECB52\", \"symbol\": \"circle\"}, \"mode\": \"markers\", \"name\": \"Mason County\", \"showlegend\": true, \"type\": \"scatter\", \"x\": [\"2020-03-01\", \"2020-03-08\", \"2020-03-15\", \"2020-03-22\", \"2020-03-29\", \"2020-04-12\", \"2020-04-19\", \"2020-04-26\", \"2020-05-03\", \"2020-05-10\", \"2020-05-17\", \"2020-05-24\", \"2020-05-31\", \"2020-06-07\", \"2020-06-14\", \"2020-06-21\", \"2020-06-28\"], \"xaxis\": \"x\", \"y\": [1, 1, 2, 3, 2, 1, 0, 0, 1, 0, 1, 0, 0, 2, 0, 0, 1], \"yaxis\": \"y\"}, {\"hoverlabel\": {\"namelength\": 0}, \"hovertemplate\": \"County=Okanogan County<br>WeekStartDate=%{x}<br>Age 60-79=%{y}\", \"legendgroup\": \"Okanogan County\", \"marker\": {\"color\": \"#636efa\", \"symbol\": \"circle\"}, \"mode\": \"markers\", \"name\": \"Okanogan County\", \"showlegend\": true, \"type\": \"scatter\", \"x\": [\"2020-03-08\", \"2020-03-15\", \"2020-03-22\", \"2020-03-29\", \"2020-04-05\", \"2020-04-12\", \"2020-04-19\", \"2020-04-26\", \"2020-05-03\", \"2020-05-10\", \"2020-05-17\", \"2020-05-24\", \"2020-05-31\", \"2020-06-07\", \"2020-06-14\", \"2020-06-21\", \"2020-06-28\"], \"xaxis\": \"x\", \"y\": [1, 1, 2, 0, 0, 1, 2, 0, 1, 0, 0, 0, 2, 4, 3, 1, 3], \"yaxis\": \"y\"}, {\"hoverlabel\": {\"namelength\": 0}, \"hovertemplate\": \"County=Pacific County<br>WeekStartDate=%{x}<br>Age 60-79=%{y}\", \"legendgroup\": \"Pacific County\", \"marker\": {\"color\": \"#EF553B\", \"symbol\": \"circle\"}, \"mode\": \"markers\", \"name\": \"Pacific County\", \"showlegend\": true, \"type\": \"scatter\", \"x\": [\"2020-03-29\", \"2020-04-05\", \"2020-04-19\", \"2020-04-26\", \"2020-05-03\", \"2020-05-31\", \"2020-06-07\", \"2020-06-21\"], \"xaxis\": \"x\", \"y\": [1, 0, 1, 0, 0, 0, 0, 0], \"yaxis\": \"y\"}, {\"hoverlabel\": {\"namelength\": 0}, \"hovertemplate\": \"County=Pend Oreille County<br>WeekStartDate=%{x}<br>Age 60-79=%{y}\", \"legendgroup\": \"Pend Oreille County\", \"marker\": {\"color\": \"#00cc96\", \"symbol\": \"circle\"}, \"mode\": \"markers\", \"name\": \"Pend Oreille County\", \"showlegend\": true, \"type\": \"scatter\", \"x\": [\"2020-03-15\", \"2020-04-05\", \"2020-05-17\", \"2020-06-21\", \"2020-06-28\"], \"xaxis\": \"x\", \"y\": [0, 0, 0, 1, 0], \"yaxis\": \"y\"}, {\"hoverlabel\": {\"namelength\": 0}, \"hovertemplate\": \"County=Pierce County<br>WeekStartDate=%{x}<br>Age 60-79=%{y}\", \"legendgroup\": \"Pierce County\", \"marker\": {\"color\": \"#ab63fa\", \"symbol\": \"circle\"}, \"mode\": \"markers\", \"name\": \"Pierce County\", \"showlegend\": true, \"type\": \"scatter\", \"x\": [\"2020-02-16\", \"2020-02-23\", \"2020-03-01\", \"2020-03-08\", \"2020-03-15\", \"2020-03-22\", \"2020-03-29\", \"2020-04-05\", \"2020-04-12\", \"2020-04-19\", \"2020-04-26\", \"2020-05-03\", \"2020-05-10\", \"2020-05-17\", \"2020-05-24\", \"2020-05-31\", \"2020-06-07\", \"2020-06-14\", \"2020-06-21\", \"2020-06-28\"], \"xaxis\": \"x\", \"y\": [0, 2, 16, 31, 58, 62, 68, 35, 47, 26, 19, 24, 11, 17, 8, 12, 9, 18, 17, 15], \"yaxis\": \"y\"}, {\"hoverlabel\": {\"namelength\": 0}, \"hovertemplate\": \"County=San Juan County<br>WeekStartDate=%{x}<br>Age 60-79=%{y}\", \"legendgroup\": \"San Juan County\", \"marker\": {\"color\": \"#FFA15A\", \"symbol\": \"circle\"}, \"mode\": \"markers\", \"name\": \"San Juan County\", \"showlegend\": true, \"type\": \"scatter\", \"x\": [\"2020-03-08\", \"2020-03-15\", \"2020-03-22\", \"2020-03-29\", \"2020-04-05\", \"2020-04-12\", \"2020-06-07\", \"2020-06-14\", \"2020-06-21\"], \"xaxis\": \"x\", \"y\": [0, 1, 0, 2, 0, 0, 0, 0, 0], \"yaxis\": \"y\"}, {\"hoverlabel\": {\"namelength\": 0}, \"hovertemplate\": \"County=Skagit County<br>WeekStartDate=%{x}<br>Age 60-79=%{y}\", \"legendgroup\": \"Skagit County\", \"marker\": {\"color\": \"#19d3f3\", \"symbol\": \"circle\"}, \"mode\": \"markers\", \"name\": \"Skagit County\", \"showlegend\": true, \"type\": \"scatter\", \"x\": [\"2020-02-16\", \"2020-02-23\", \"2020-03-01\", \"2020-03-08\", \"2020-03-15\", \"2020-03-22\", \"2020-03-29\", \"2020-04-05\", \"2020-04-12\", \"2020-04-19\", \"2020-04-26\", \"2020-05-03\", \"2020-05-10\", \"2020-05-17\", \"2020-05-24\", \"2020-05-31\", \"2020-06-07\", \"2020-06-14\", \"2020-06-21\", \"2020-06-28\"], \"xaxis\": \"x\", \"y\": [0, 0, 2, 20, 13, 9, 14, 7, 16, 5, 3, 0, 2, 0, 0, 0, 3, 0, 2, 1], \"yaxis\": \"y\"}, {\"hoverlabel\": {\"namelength\": 0}, \"hovertemplate\": \"County=Skamania County<br>WeekStartDate=%{x}<br>Age 60-79=%{y}\", \"legendgroup\": \"Skamania County\", \"marker\": {\"color\": \"#FF6692\", \"symbol\": \"circle\"}, \"mode\": \"markers\", \"name\": \"Skamania County\", \"showlegend\": true, \"type\": \"scatter\", \"x\": [\"2020-03-22\", \"2020-04-05\", \"2020-06-14\", \"2020-06-21\", \"2020-06-28\"], \"xaxis\": \"x\", \"y\": [1, 1, 0, 2, 0], \"yaxis\": \"y\"}, {\"hoverlabel\": {\"namelength\": 0}, \"hovertemplate\": \"County=Snohomish County<br>WeekStartDate=%{x}<br>Age 60-79=%{y}\", \"legendgroup\": \"Snohomish County\", \"marker\": {\"color\": \"#B6E880\", \"symbol\": \"circle\"}, \"mode\": \"markers\", \"name\": \"Snohomish County\", \"showlegend\": true, \"type\": \"scatter\", \"x\": [\"2020-01-16\", \"2020-01-26\", \"2020-02-02\", \"2020-02-09\", \"2020-02-16\", \"2020-02-23\", \"2020-03-01\", \"2020-03-08\", \"2020-03-15\", \"2020-03-22\", \"2020-03-29\", \"2020-04-05\", \"2020-04-12\", \"2020-04-19\", \"2020-04-26\", \"2020-05-03\", \"2020-05-10\", \"2020-05-17\", \"2020-05-24\", \"2020-05-31\", \"2020-06-07\", \"2020-06-14\", \"2020-06-21\", \"2020-06-28\"], \"xaxis\": \"x\", \"y\": [0, 0, 1, 1, 6, 17, 69, 85, 112, 78, 54, 41, 42, 29, 27, 24, 11, 21, 10, 12, 16, 14, 23, 11], \"yaxis\": \"y\"}, {\"hoverlabel\": {\"namelength\": 0}, \"hovertemplate\": \"County=Spokane County<br>WeekStartDate=%{x}<br>Age 60-79=%{y}\", \"legendgroup\": \"Spokane County\", \"marker\": {\"color\": \"#FF97FF\", \"symbol\": \"circle\"}, \"mode\": \"markers\", \"name\": \"Spokane County\", \"showlegend\": true, \"type\": \"scatter\", \"x\": [\"2020-02-16\", \"2020-02-23\", \"2020-03-01\", \"2020-03-08\", \"2020-03-15\", \"2020-03-22\", \"2020-03-29\", \"2020-04-05\", \"2020-04-12\", \"2020-04-19\", \"2020-04-26\", \"2020-05-03\", \"2020-05-10\", \"2020-05-17\", \"2020-05-24\", \"2020-05-31\", \"2020-06-07\", \"2020-06-14\", \"2020-06-21\", \"2020-06-28\"], \"xaxis\": \"x\", \"y\": [1, 0, 2, 17, 27, 17, 15, 7, 6, 10, 6, 2, 3, 12, 5, 15, 14, 23, 21, 13], \"yaxis\": \"y\"}, {\"hoverlabel\": {\"namelength\": 0}, \"hovertemplate\": \"County=Stevens County<br>WeekStartDate=%{x}<br>Age 60-79=%{y}\", \"legendgroup\": \"Stevens County\", \"marker\": {\"color\": \"#FECB52\", \"symbol\": \"circle\"}, \"mode\": \"markers\", \"name\": \"Stevens County\", \"showlegend\": true, \"type\": \"scatter\", \"x\": [\"2020-03-01\", \"2020-03-08\", \"2020-03-15\", \"2020-03-22\", \"2020-03-29\", \"2020-04-12\", \"2020-05-10\", \"2020-05-17\", \"2020-05-24\", \"2020-06-07\", \"2020-06-21\", \"2020-06-28\"], \"xaxis\": \"x\", \"y\": [0, 1, 1, 2, 1, 1, 0, 0, 0, 0, 2, 1], \"yaxis\": \"y\"}, {\"hoverlabel\": {\"namelength\": 0}, \"hovertemplate\": \"County=Thurston County<br>WeekStartDate=%{x}<br>Age 60-79=%{y}\", \"legendgroup\": \"Thurston County\", \"marker\": {\"color\": \"#636efa\", \"symbol\": \"circle\"}, \"mode\": \"markers\", \"name\": \"Thurston County\", \"showlegend\": true, \"type\": \"scatter\", \"x\": [\"2020-02-23\", \"2020-03-01\", \"2020-03-08\", \"2020-03-15\", \"2020-03-22\", \"2020-03-29\", \"2020-04-05\", \"2020-04-12\", \"2020-04-19\", \"2020-04-26\", \"2020-05-03\", \"2020-05-10\", \"2020-05-17\", \"2020-05-24\", \"2020-05-31\", \"2020-06-07\", \"2020-06-14\", \"2020-06-21\", \"2020-06-28\"], \"xaxis\": \"x\", \"y\": [0, 1, 6, 8, 12, 3, 2, 3, 1, 1, 0, 1, 2, 7, 4, 1, 2, 6, 3], \"yaxis\": \"y\"}, {\"hoverlabel\": {\"namelength\": 0}, \"hovertemplate\": \"County=Wahkiakum County<br>WeekStartDate=%{x}<br>Age 60-79=%{y}\", \"legendgroup\": \"Wahkiakum County\", \"marker\": {\"color\": \"#EF553B\", \"symbol\": \"circle\"}, \"mode\": \"markers\", \"name\": \"Wahkiakum County\", \"showlegend\": true, \"type\": \"scatter\", \"x\": [\"2020-03-15\", \"2020-03-22\", \"2020-05-03\", \"2020-06-14\"], \"xaxis\": \"x\", \"y\": [0, 0, 1, 0], \"yaxis\": \"y\"}, {\"hoverlabel\": {\"namelength\": 0}, \"hovertemplate\": \"County=Walla Walla County<br>WeekStartDate=%{x}<br>Age 60-79=%{y}\", \"legendgroup\": \"Walla Walla County\", \"marker\": {\"color\": \"#00cc96\", \"symbol\": \"circle\"}, \"mode\": \"markers\", \"name\": \"Walla Walla County\", \"showlegend\": true, \"type\": \"scatter\", \"x\": [\"2020-03-08\", \"2020-03-15\", \"2020-03-22\", \"2020-03-29\", \"2020-04-05\", \"2020-04-12\", \"2020-04-19\", \"2020-04-26\", \"2020-05-03\", \"2020-05-10\", \"2020-05-17\", \"2020-05-24\", \"2020-05-31\", \"2020-06-07\", \"2020-06-14\", \"2020-06-21\", \"2020-06-28\"], \"xaxis\": \"x\", \"y\": [0, 1, 1, 2, 4, 1, 8, 0, 0, 0, 0, 1, 2, 2, 1, 4, 3], \"yaxis\": \"y\"}, {\"hoverlabel\": {\"namelength\": 0}, \"hovertemplate\": \"County=Whatcom County<br>WeekStartDate=%{x}<br>Age 60-79=%{y}\", \"legendgroup\": \"Whatcom County\", \"marker\": {\"color\": \"#ab63fa\", \"symbol\": \"circle\"}, \"mode\": \"markers\", \"name\": \"Whatcom County\", \"showlegend\": true, \"type\": \"scatter\", \"x\": [\"2020-02-16\", \"2020-02-23\", \"2020-03-01\", \"2020-03-08\", \"2020-03-15\", \"2020-03-22\", \"2020-03-29\", \"2020-04-05\", \"2020-04-12\", \"2020-04-19\", \"2020-04-26\", \"2020-05-03\", \"2020-05-10\", \"2020-05-17\", \"2020-05-24\", \"2020-05-31\", \"2020-06-07\", \"2020-06-14\", \"2020-06-21\", \"2020-06-28\"], \"xaxis\": \"x\", \"y\": [1, 0, 3, 5, 12, 20, 10, 9, 2, 2, 1, 3, 2, 1, 0, 2, 2, 17, 10, 4], \"yaxis\": \"y\"}, {\"hoverlabel\": {\"namelength\": 0}, \"hovertemplate\": \"County=Whitman County<br>WeekStartDate=%{x}<br>Age 60-79=%{y}\", \"legendgroup\": \"Whitman County\", \"marker\": {\"color\": \"#FFA15A\", \"symbol\": \"circle\"}, \"mode\": \"markers\", \"name\": \"Whitman County\", \"showlegend\": true, \"type\": \"scatter\", \"x\": [\"2020-03-08\", \"2020-03-15\", \"2020-03-22\", \"2020-03-29\", \"2020-04-12\", \"2020-04-19\", \"2020-05-10\", \"2020-05-17\", \"2020-05-31\", \"2020-06-07\", \"2020-06-14\", \"2020-06-21\", \"2020-06-28\"], \"xaxis\": \"x\", \"y\": [0, 1, 0, 0, 0, 0, 0, 0, 1, 0, 0, 2, 0], \"yaxis\": \"y\"}, {\"hoverlabel\": {\"namelength\": 0}, \"hovertemplate\": \"County=Yakima County<br>WeekStartDate=%{x}<br>Age 60-79=%{y}\", \"legendgroup\": \"Yakima County\", \"marker\": {\"color\": \"#19d3f3\", \"symbol\": \"circle\"}, \"mode\": \"markers\", \"name\": \"Yakima County\", \"showlegend\": true, \"type\": \"scatter\", \"x\": [\"2020-01-16\", \"2020-02-09\", \"2020-02-16\", \"2020-03-01\", \"2020-03-08\", \"2020-03-15\", \"2020-03-22\", \"2020-03-29\", \"2020-04-05\", \"2020-04-12\", \"2020-04-19\", \"2020-04-26\", \"2020-05-03\", \"2020-05-10\", \"2020-05-17\", \"2020-05-24\", \"2020-05-31\", \"2020-06-07\", \"2020-06-14\", \"2020-06-21\", \"2020-06-28\"], \"xaxis\": \"x\", \"y\": [0, 1, 0, 9, 5, 12, 37, 62, 49, 40, 43, 58, 59, 73, 84, 104, 87, 94, 86, 49, 19], \"yaxis\": \"y\"}, {\"hoverlabel\": {\"namelength\": 0}, \"hovertemplate\": \"County=Unassigned<br>WeekStartDate=%{x}<br>Age 60-79=%{y}\", \"legendgroup\": \"Unassigned\", \"marker\": {\"color\": \"#FF6692\", \"symbol\": \"circle\"}, \"mode\": \"markers\", \"name\": \"Unassigned\", \"showlegend\": true, \"type\": \"scatter\", \"x\": [\"2020-04-12\", \"2020-04-19\", \"2020-05-10\", \"2020-05-17\", \"2020-05-24\", \"2020-05-31\", \"2020-06-07\", \"2020-06-14\", \"2020-06-21\", \"2020-06-28\"], \"xaxis\": \"x\", \"y\": [1, 0, 0, 0, 0, 0, 0, 0, 5, 7], \"yaxis\": \"y\"}],\n",
       "                        {\"legend\": {\"title\": {\"text\": \"County\"}, \"tracegroupgap\": 0}, \"margin\": {\"t\": 60}, \"template\": {\"data\": {\"bar\": [{\"error_x\": {\"color\": \"#2a3f5f\"}, \"error_y\": {\"color\": \"#2a3f5f\"}, \"marker\": {\"line\": {\"color\": \"#E5ECF6\", \"width\": 0.5}}, \"type\": \"bar\"}], \"barpolar\": [{\"marker\": {\"line\": {\"color\": \"#E5ECF6\", \"width\": 0.5}}, \"type\": \"barpolar\"}], \"carpet\": [{\"aaxis\": {\"endlinecolor\": \"#2a3f5f\", \"gridcolor\": \"white\", \"linecolor\": \"white\", \"minorgridcolor\": \"white\", \"startlinecolor\": \"#2a3f5f\"}, \"baxis\": {\"endlinecolor\": \"#2a3f5f\", \"gridcolor\": \"white\", \"linecolor\": \"white\", \"minorgridcolor\": \"white\", \"startlinecolor\": \"#2a3f5f\"}, \"type\": \"carpet\"}], \"choropleth\": [{\"colorbar\": {\"outlinewidth\": 0, \"ticks\": \"\"}, \"type\": \"choropleth\"}], \"contour\": [{\"colorbar\": {\"outlinewidth\": 0, \"ticks\": \"\"}, \"colorscale\": [[0.0, \"#0d0887\"], [0.1111111111111111, \"#46039f\"], [0.2222222222222222, \"#7201a8\"], [0.3333333333333333, \"#9c179e\"], [0.4444444444444444, \"#bd3786\"], [0.5555555555555556, \"#d8576b\"], [0.6666666666666666, \"#ed7953\"], [0.7777777777777778, \"#fb9f3a\"], [0.8888888888888888, \"#fdca26\"], [1.0, \"#f0f921\"]], \"type\": \"contour\"}], \"contourcarpet\": [{\"colorbar\": {\"outlinewidth\": 0, \"ticks\": \"\"}, \"type\": \"contourcarpet\"}], \"heatmap\": [{\"colorbar\": {\"outlinewidth\": 0, \"ticks\": \"\"}, \"colorscale\": [[0.0, \"#0d0887\"], [0.1111111111111111, \"#46039f\"], [0.2222222222222222, \"#7201a8\"], [0.3333333333333333, \"#9c179e\"], [0.4444444444444444, \"#bd3786\"], [0.5555555555555556, \"#d8576b\"], [0.6666666666666666, \"#ed7953\"], [0.7777777777777778, \"#fb9f3a\"], [0.8888888888888888, \"#fdca26\"], [1.0, \"#f0f921\"]], \"type\": \"heatmap\"}], \"heatmapgl\": [{\"colorbar\": {\"outlinewidth\": 0, \"ticks\": \"\"}, \"colorscale\": [[0.0, \"#0d0887\"], [0.1111111111111111, \"#46039f\"], [0.2222222222222222, \"#7201a8\"], [0.3333333333333333, \"#9c179e\"], [0.4444444444444444, \"#bd3786\"], [0.5555555555555556, \"#d8576b\"], [0.6666666666666666, \"#ed7953\"], [0.7777777777777778, \"#fb9f3a\"], [0.8888888888888888, \"#fdca26\"], [1.0, \"#f0f921\"]], \"type\": \"heatmapgl\"}], \"histogram\": [{\"marker\": {\"colorbar\": {\"outlinewidth\": 0, \"ticks\": \"\"}}, \"type\": \"histogram\"}], \"histogram2d\": [{\"colorbar\": {\"outlinewidth\": 0, \"ticks\": \"\"}, \"colorscale\": [[0.0, \"#0d0887\"], [0.1111111111111111, \"#46039f\"], [0.2222222222222222, \"#7201a8\"], [0.3333333333333333, \"#9c179e\"], [0.4444444444444444, \"#bd3786\"], [0.5555555555555556, \"#d8576b\"], [0.6666666666666666, \"#ed7953\"], [0.7777777777777778, \"#fb9f3a\"], [0.8888888888888888, \"#fdca26\"], [1.0, \"#f0f921\"]], \"type\": \"histogram2d\"}], \"histogram2dcontour\": [{\"colorbar\": {\"outlinewidth\": 0, \"ticks\": \"\"}, \"colorscale\": [[0.0, \"#0d0887\"], [0.1111111111111111, \"#46039f\"], [0.2222222222222222, \"#7201a8\"], [0.3333333333333333, \"#9c179e\"], [0.4444444444444444, \"#bd3786\"], [0.5555555555555556, \"#d8576b\"], [0.6666666666666666, \"#ed7953\"], [0.7777777777777778, \"#fb9f3a\"], [0.8888888888888888, \"#fdca26\"], [1.0, \"#f0f921\"]], \"type\": \"histogram2dcontour\"}], \"mesh3d\": [{\"colorbar\": {\"outlinewidth\": 0, \"ticks\": \"\"}, \"type\": \"mesh3d\"}], \"parcoords\": [{\"line\": {\"colorbar\": {\"outlinewidth\": 0, \"ticks\": \"\"}}, \"type\": \"parcoords\"}], \"pie\": [{\"automargin\": true, \"type\": \"pie\"}], \"scatter\": [{\"marker\": {\"colorbar\": {\"outlinewidth\": 0, \"ticks\": \"\"}}, \"type\": \"scatter\"}], \"scatter3d\": [{\"line\": {\"colorbar\": {\"outlinewidth\": 0, \"ticks\": \"\"}}, \"marker\": {\"colorbar\": {\"outlinewidth\": 0, \"ticks\": \"\"}}, \"type\": \"scatter3d\"}], \"scattercarpet\": [{\"marker\": {\"colorbar\": {\"outlinewidth\": 0, \"ticks\": \"\"}}, \"type\": \"scattercarpet\"}], \"scattergeo\": [{\"marker\": {\"colorbar\": {\"outlinewidth\": 0, \"ticks\": \"\"}}, \"type\": \"scattergeo\"}], \"scattergl\": [{\"marker\": {\"colorbar\": {\"outlinewidth\": 0, \"ticks\": \"\"}}, \"type\": \"scattergl\"}], \"scattermapbox\": [{\"marker\": {\"colorbar\": {\"outlinewidth\": 0, \"ticks\": \"\"}}, \"type\": \"scattermapbox\"}], \"scatterpolar\": [{\"marker\": {\"colorbar\": {\"outlinewidth\": 0, \"ticks\": \"\"}}, \"type\": \"scatterpolar\"}], \"scatterpolargl\": [{\"marker\": {\"colorbar\": {\"outlinewidth\": 0, \"ticks\": \"\"}}, \"type\": \"scatterpolargl\"}], \"scatterternary\": [{\"marker\": {\"colorbar\": {\"outlinewidth\": 0, \"ticks\": \"\"}}, \"type\": \"scatterternary\"}], \"surface\": [{\"colorbar\": {\"outlinewidth\": 0, \"ticks\": \"\"}, \"colorscale\": [[0.0, \"#0d0887\"], [0.1111111111111111, \"#46039f\"], [0.2222222222222222, \"#7201a8\"], [0.3333333333333333, \"#9c179e\"], [0.4444444444444444, \"#bd3786\"], [0.5555555555555556, \"#d8576b\"], [0.6666666666666666, \"#ed7953\"], [0.7777777777777778, \"#fb9f3a\"], [0.8888888888888888, \"#fdca26\"], [1.0, \"#f0f921\"]], \"type\": \"surface\"}], \"table\": [{\"cells\": {\"fill\": {\"color\": \"#EBF0F8\"}, \"line\": {\"color\": \"white\"}}, \"header\": {\"fill\": {\"color\": \"#C8D4E3\"}, \"line\": {\"color\": \"white\"}}, \"type\": \"table\"}]}, \"layout\": {\"annotationdefaults\": {\"arrowcolor\": \"#2a3f5f\", \"arrowhead\": 0, \"arrowwidth\": 1}, \"coloraxis\": {\"colorbar\": {\"outlinewidth\": 0, \"ticks\": \"\"}}, \"colorscale\": {\"diverging\": [[0, \"#8e0152\"], [0.1, \"#c51b7d\"], [0.2, \"#de77ae\"], [0.3, \"#f1b6da\"], [0.4, \"#fde0ef\"], [0.5, \"#f7f7f7\"], [0.6, \"#e6f5d0\"], [0.7, \"#b8e186\"], [0.8, \"#7fbc41\"], [0.9, \"#4d9221\"], [1, \"#276419\"]], \"sequential\": [[0.0, \"#0d0887\"], [0.1111111111111111, \"#46039f\"], [0.2222222222222222, \"#7201a8\"], [0.3333333333333333, \"#9c179e\"], [0.4444444444444444, \"#bd3786\"], [0.5555555555555556, \"#d8576b\"], [0.6666666666666666, \"#ed7953\"], [0.7777777777777778, \"#fb9f3a\"], [0.8888888888888888, \"#fdca26\"], [1.0, \"#f0f921\"]], \"sequentialminus\": [[0.0, \"#0d0887\"], [0.1111111111111111, \"#46039f\"], [0.2222222222222222, \"#7201a8\"], [0.3333333333333333, \"#9c179e\"], [0.4444444444444444, \"#bd3786\"], [0.5555555555555556, \"#d8576b\"], [0.6666666666666666, \"#ed7953\"], [0.7777777777777778, \"#fb9f3a\"], [0.8888888888888888, \"#fdca26\"], [1.0, \"#f0f921\"]]}, \"colorway\": [\"#636efa\", \"#EF553B\", \"#00cc96\", \"#ab63fa\", \"#FFA15A\", \"#19d3f3\", \"#FF6692\", \"#B6E880\", \"#FF97FF\", \"#FECB52\"], \"font\": {\"color\": \"#2a3f5f\"}, \"geo\": {\"bgcolor\": \"white\", \"lakecolor\": \"white\", \"landcolor\": \"#E5ECF6\", \"showlakes\": true, \"showland\": true, \"subunitcolor\": \"white\"}, \"hoverlabel\": {\"align\": \"left\"}, \"hovermode\": \"closest\", \"mapbox\": {\"style\": \"light\"}, \"paper_bgcolor\": \"white\", \"plot_bgcolor\": \"#E5ECF6\", \"polar\": {\"angularaxis\": {\"gridcolor\": \"white\", \"linecolor\": \"white\", \"ticks\": \"\"}, \"bgcolor\": \"#E5ECF6\", \"radialaxis\": {\"gridcolor\": \"white\", \"linecolor\": \"white\", \"ticks\": \"\"}}, \"scene\": {\"xaxis\": {\"backgroundcolor\": \"#E5ECF6\", \"gridcolor\": \"white\", \"gridwidth\": 2, \"linecolor\": \"white\", \"showbackground\": true, \"ticks\": \"\", \"zerolinecolor\": \"white\"}, \"yaxis\": {\"backgroundcolor\": \"#E5ECF6\", \"gridcolor\": \"white\", \"gridwidth\": 2, \"linecolor\": \"white\", \"showbackground\": true, \"ticks\": \"\", \"zerolinecolor\": \"white\"}, \"zaxis\": {\"backgroundcolor\": \"#E5ECF6\", \"gridcolor\": \"white\", \"gridwidth\": 2, \"linecolor\": \"white\", \"showbackground\": true, \"ticks\": \"\", \"zerolinecolor\": \"white\"}}, \"shapedefaults\": {\"line\": {\"color\": \"#2a3f5f\"}}, \"ternary\": {\"aaxis\": {\"gridcolor\": \"white\", \"linecolor\": \"white\", \"ticks\": \"\"}, \"baxis\": {\"gridcolor\": \"white\", \"linecolor\": \"white\", \"ticks\": \"\"}, \"bgcolor\": \"#E5ECF6\", \"caxis\": {\"gridcolor\": \"white\", \"linecolor\": \"white\", \"ticks\": \"\"}}, \"title\": {\"x\": 0.05}, \"xaxis\": {\"automargin\": true, \"gridcolor\": \"white\", \"linecolor\": \"white\", \"ticks\": \"\", \"title\": {\"standoff\": 15}, \"zerolinecolor\": \"white\", \"zerolinewidth\": 2}, \"yaxis\": {\"automargin\": true, \"gridcolor\": \"white\", \"linecolor\": \"white\", \"ticks\": \"\", \"title\": {\"standoff\": 15}, \"zerolinecolor\": \"white\", \"zerolinewidth\": 2}}}, \"xaxis\": {\"anchor\": \"y\", \"domain\": [0.0, 1.0], \"title\": {\"text\": \"WeekStartDate\"}}, \"yaxis\": {\"anchor\": \"x\", \"domain\": [0.0, 1.0], \"title\": {\"text\": \"Age 60-79\"}}},\n",
       "                        {\"responsive\": true}\n",
       "                    ).then(function(){\n",
       "                            \n",
       "var gd = document.getElementById('697a3fc2-d12c-4b31-a773-ad00ce8d8c54');\n",
       "var x = new MutationObserver(function (mutations, observer) {{\n",
       "        var display = window.getComputedStyle(gd).display;\n",
       "        if (!display || display === 'none') {{\n",
       "            console.log([gd, 'removed!']);\n",
       "            Plotly.purge(gd);\n",
       "            observer.disconnect();\n",
       "        }}\n",
       "}});\n",
       "\n",
       "// Listen for the removal of the full notebook cells\n",
       "var notebookContainer = gd.closest('#notebook-container');\n",
       "if (notebookContainer) {{\n",
       "    x.observe(notebookContainer, {childList: true});\n",
       "}}\n",
       "\n",
       "// Listen for the clearing of the current output cell\n",
       "var outputEl = gd.closest('.output');\n",
       "if (outputEl) {{\n",
       "    x.observe(outputEl, {childList: true});\n",
       "}}\n",
       "\n",
       "                        })\n",
       "                };\n",
       "                });\n",
       "            </script>\n",
       "        </div>"
      ]
     },
     "metadata": {},
     "output_type": "display_data"
    }
   ],
   "source": [
    "px.scatter(df, x=\"WeekStartDate\", y='Age 60-79', color='County')"
   ]
  },
  {
   "cell_type": "code",
   "execution_count": 67,
   "metadata": {
    "ExecuteTime": {
     "end_time": "2020-07-12T19:33:05.396663Z",
     "start_time": "2020-07-12T19:33:04.981627Z"
    }
   },
   "outputs": [
    {
     "data": {
      "application/vnd.plotly.v1+json": {
       "config": {
        "plotlyServerURL": "https://plot.ly"
       },
       "data": [
        {
         "hoverlabel": {
          "namelength": 0
         },
         "hovertemplate": "County=Adams County<br>WeekStartDate=%{x}<br>Age 80+=%{y}",
         "legendgroup": "Adams County",
         "marker": {
          "color": "#636efa",
          "symbol": "circle"
         },
         "mode": "markers",
         "name": "Adams County",
         "showlegend": true,
         "type": "scatter",
         "x": [
          "2020-03-08",
          "2020-03-15",
          "2020-03-22",
          "2020-03-29",
          "2020-04-05",
          "2020-04-12",
          "2020-04-19",
          "2020-04-26",
          "2020-05-03",
          "2020-05-10",
          "2020-05-17",
          "2020-05-24",
          "2020-05-31",
          "2020-06-07",
          "2020-06-14",
          "2020-06-21",
          "2020-06-28"
         ],
         "xaxis": "x",
         "y": [
          0,
          0,
          0,
          0,
          0,
          0,
          0,
          0,
          0,
          0,
          0,
          0,
          0,
          0,
          0,
          0,
          0
         ],
         "yaxis": "y"
        },
        {
         "hoverlabel": {
          "namelength": 0
         },
         "hovertemplate": "County=Asotin County<br>WeekStartDate=%{x}<br>Age 80+=%{y}",
         "legendgroup": "Asotin County",
         "marker": {
          "color": "#EF553B",
          "symbol": "circle"
         },
         "mode": "markers",
         "name": "Asotin County",
         "showlegend": true,
         "type": "scatter",
         "x": [
          "2020-03-15",
          "2020-03-29",
          "2020-04-05",
          "2020-04-12",
          "2020-04-19",
          "2020-05-17",
          "2020-05-31",
          "2020-06-21"
         ],
         "xaxis": "x",
         "y": [
          0,
          0,
          1,
          0,
          1,
          0,
          0,
          0
         ],
         "yaxis": "y"
        },
        {
         "hoverlabel": {
          "namelength": 0
         },
         "hovertemplate": "County=Benton County<br>WeekStartDate=%{x}<br>Age 80+=%{y}",
         "legendgroup": "Benton County",
         "marker": {
          "color": "#00cc96",
          "symbol": "circle"
         },
         "mode": "markers",
         "name": "Benton County",
         "showlegend": true,
         "type": "scatter",
         "x": [
          "2020-02-16",
          "2020-03-01",
          "2020-03-08",
          "2020-03-15",
          "2020-03-22",
          "2020-03-29",
          "2020-04-05",
          "2020-04-12",
          "2020-04-19",
          "2020-04-26",
          "2020-05-03",
          "2020-05-10",
          "2020-05-17",
          "2020-05-24",
          "2020-05-31",
          "2020-06-07",
          "2020-06-14",
          "2020-06-21",
          "2020-06-28"
         ],
         "xaxis": "x",
         "y": [
          0,
          4,
          4,
          14,
          30,
          12,
          2,
          2,
          14,
          9,
          3,
          1,
          15,
          9,
          6,
          6,
          22,
          8,
          5
         ],
         "yaxis": "y"
        },
        {
         "hoverlabel": {
          "namelength": 0
         },
         "hovertemplate": "County=Chelan County<br>WeekStartDate=%{x}<br>Age 80+=%{y}",
         "legendgroup": "Chelan County",
         "marker": {
          "color": "#ab63fa",
          "symbol": "circle"
         },
         "mode": "markers",
         "name": "Chelan County",
         "showlegend": true,
         "type": "scatter",
         "x": [
          "2020-02-09",
          "2020-03-08",
          "2020-03-15",
          "2020-03-22",
          "2020-03-29",
          "2020-04-05",
          "2020-04-12",
          "2020-04-19",
          "2020-04-26",
          "2020-05-03",
          "2020-05-10",
          "2020-05-17",
          "2020-05-24",
          "2020-05-31",
          "2020-06-07",
          "2020-06-14",
          "2020-06-21",
          "2020-06-28"
         ],
         "xaxis": "x",
         "y": [
          0,
          1,
          2,
          4,
          1,
          0,
          0,
          0,
          0,
          0,
          1,
          0,
          0,
          0,
          0,
          1,
          2,
          0
         ],
         "yaxis": "y"
        },
        {
         "hoverlabel": {
          "namelength": 0
         },
         "hovertemplate": "County=Clallam County<br>WeekStartDate=%{x}<br>Age 80+=%{y}",
         "legendgroup": "Clallam County",
         "marker": {
          "color": "#FFA15A",
          "symbol": "circle"
         },
         "mode": "markers",
         "name": "Clallam County",
         "showlegend": true,
         "type": "scatter",
         "x": [
          "2020-03-01",
          "2020-03-08",
          "2020-03-15",
          "2020-03-29",
          "2020-04-05",
          "2020-04-19",
          "2020-04-26",
          "2020-05-10",
          "2020-05-17",
          "2020-05-24",
          "2020-05-31",
          "2020-06-07",
          "2020-06-14",
          "2020-06-21",
          "2020-06-28"
         ],
         "xaxis": "x",
         "y": [
          0,
          0,
          0,
          0,
          0,
          1,
          0,
          0,
          0,
          1,
          0,
          0,
          0,
          0,
          0
         ],
         "yaxis": "y"
        },
        {
         "hoverlabel": {
          "namelength": 0
         },
         "hovertemplate": "County=Clark County<br>WeekStartDate=%{x}<br>Age 80+=%{y}",
         "legendgroup": "Clark County",
         "marker": {
          "color": "#19d3f3",
          "symbol": "circle"
         },
         "mode": "markers",
         "name": "Clark County",
         "showlegend": true,
         "type": "scatter",
         "x": [
          "2020-02-23",
          "2020-03-01",
          "2020-03-08",
          "2020-03-15",
          "2020-03-22",
          "2020-03-29",
          "2020-04-05",
          "2020-04-12",
          "2020-04-19",
          "2020-04-26",
          "2020-05-03",
          "2020-05-10",
          "2020-05-17",
          "2020-05-24",
          "2020-05-31",
          "2020-06-07",
          "2020-06-14",
          "2020-06-21",
          "2020-06-28"
         ],
         "xaxis": "x",
         "y": [
          1,
          3,
          0,
          4,
          2,
          3,
          8,
          9,
          8,
          1,
          0,
          0,
          0,
          1,
          1,
          1,
          1,
          1,
          0
         ],
         "yaxis": "y"
        },
        {
         "hoverlabel": {
          "namelength": 0
         },
         "hovertemplate": "County=Columbia County<br>WeekStartDate=%{x}<br>Age 80+=%{y}",
         "legendgroup": "Columbia County",
         "marker": {
          "color": "#FF6692",
          "symbol": "circle"
         },
         "mode": "markers",
         "name": "Columbia County",
         "showlegend": true,
         "type": "scatter",
         "x": [
          "2020-03-01",
          "2020-06-07",
          "2020-06-14"
         ],
         "xaxis": "x",
         "y": [
          0,
          0,
          0
         ],
         "yaxis": "y"
        },
        {
         "hoverlabel": {
          "namelength": 0
         },
         "hovertemplate": "County=Cowlitz County<br>WeekStartDate=%{x}<br>Age 80+=%{y}",
         "legendgroup": "Cowlitz County",
         "marker": {
          "color": "#B6E880",
          "symbol": "circle"
         },
         "mode": "markers",
         "name": "Cowlitz County",
         "showlegend": true,
         "type": "scatter",
         "x": [
          "2020-02-23",
          "2020-03-01",
          "2020-03-08",
          "2020-03-15",
          "2020-03-22",
          "2020-03-29",
          "2020-04-05",
          "2020-04-12",
          "2020-04-19",
          "2020-04-26",
          "2020-05-03",
          "2020-05-10",
          "2020-05-17",
          "2020-05-24",
          "2020-05-31",
          "2020-06-07",
          "2020-06-14",
          "2020-06-21",
          "2020-06-28"
         ],
         "xaxis": "x",
         "y": [
          0,
          0,
          0,
          1,
          0,
          0,
          0,
          0,
          0,
          0,
          0,
          0,
          0,
          0,
          1,
          0,
          1,
          0,
          1
         ],
         "yaxis": "y"
        },
        {
         "hoverlabel": {
          "namelength": 0
         },
         "hovertemplate": "County=Douglas County<br>WeekStartDate=%{x}<br>Age 80+=%{y}",
         "legendgroup": "Douglas County",
         "marker": {
          "color": "#FF97FF",
          "symbol": "circle"
         },
         "mode": "markers",
         "name": "Douglas County",
         "showlegend": true,
         "type": "scatter",
         "x": [
          "2020-03-01",
          "2020-03-08",
          "2020-03-15",
          "2020-03-22",
          "2020-03-29",
          "2020-04-05",
          "2020-04-12",
          "2020-04-19",
          "2020-04-26",
          "2020-05-03",
          "2020-05-10",
          "2020-05-17",
          "2020-05-24",
          "2020-05-31",
          "2020-06-07",
          "2020-06-14",
          "2020-06-21",
          "2020-06-28"
         ],
         "xaxis": "x",
         "y": [
          0,
          1,
          0,
          2,
          0,
          1,
          1,
          0,
          2,
          0,
          0,
          0,
          0,
          0,
          0,
          0,
          0,
          1
         ],
         "yaxis": "y"
        },
        {
         "hoverlabel": {
          "namelength": 0
         },
         "hovertemplate": "County=Franklin County<br>WeekStartDate=%{x}<br>Age 80+=%{y}",
         "legendgroup": "Franklin County",
         "marker": {
          "color": "#FECB52",
          "symbol": "circle"
         },
         "mode": "markers",
         "name": "Franklin County",
         "showlegend": true,
         "type": "scatter",
         "x": [
          "2020-02-09",
          "2020-02-23",
          "2020-03-01",
          "2020-03-08",
          "2020-03-15",
          "2020-03-22",
          "2020-03-29",
          "2020-04-05",
          "2020-04-12",
          "2020-04-19",
          "2020-04-26",
          "2020-05-03",
          "2020-05-10",
          "2020-05-17",
          "2020-05-24",
          "2020-05-31",
          "2020-06-07",
          "2020-06-14",
          "2020-06-21",
          "2020-06-28"
         ],
         "xaxis": "x",
         "y": [
          0,
          0,
          0,
          0,
          1,
          0,
          2,
          2,
          7,
          5,
          1,
          3,
          3,
          0,
          1,
          3,
          2,
          2,
          2,
          5
         ],
         "yaxis": "y"
        },
        {
         "hoverlabel": {
          "namelength": 0
         },
         "hovertemplate": "County=Grant County<br>WeekStartDate=%{x}<br>Age 80+=%{y}",
         "legendgroup": "Grant County",
         "marker": {
          "color": "#636efa",
          "symbol": "circle"
         },
         "mode": "markers",
         "name": "Grant County",
         "showlegend": true,
         "type": "scatter",
         "x": [
          "2020-02-16",
          "2020-02-23",
          "2020-03-01",
          "2020-03-08",
          "2020-03-15",
          "2020-03-22",
          "2020-03-29",
          "2020-04-05",
          "2020-04-12",
          "2020-04-19",
          "2020-04-26",
          "2020-05-03",
          "2020-05-10",
          "2020-05-17",
          "2020-05-24",
          "2020-05-31",
          "2020-06-07",
          "2020-06-14",
          "2020-06-21",
          "2020-06-28"
         ],
         "xaxis": "x",
         "y": [
          0,
          1,
          0,
          0,
          0,
          0,
          0,
          0,
          0,
          0,
          0,
          0,
          0,
          0,
          2,
          0,
          2,
          4,
          1,
          1
         ],
         "yaxis": "y"
        },
        {
         "hoverlabel": {
          "namelength": 0
         },
         "hovertemplate": "County=Grays Harbor County<br>WeekStartDate=%{x}<br>Age 80+=%{y}",
         "legendgroup": "Grays Harbor County",
         "marker": {
          "color": "#EF553B",
          "symbol": "circle"
         },
         "mode": "markers",
         "name": "Grays Harbor County",
         "showlegend": true,
         "type": "scatter",
         "x": [
          "2020-02-16",
          "2020-02-23",
          "2020-03-01",
          "2020-03-15",
          "2020-03-22",
          "2020-03-29",
          "2020-04-05",
          "2020-04-26",
          "2020-05-03",
          "2020-05-17",
          "2020-05-24",
          "2020-05-31",
          "2020-06-07",
          "2020-06-14",
          "2020-06-21",
          "2020-06-28"
         ],
         "xaxis": "x",
         "y": [
          0,
          0,
          0,
          0,
          0,
          0,
          0,
          1,
          0,
          0,
          0,
          0,
          0,
          0,
          0,
          0
         ],
         "yaxis": "y"
        },
        {
         "hoverlabel": {
          "namelength": 0
         },
         "hovertemplate": "County=Island County<br>WeekStartDate=%{x}<br>Age 80+=%{y}",
         "legendgroup": "Island County",
         "marker": {
          "color": "#00cc96",
          "symbol": "circle"
         },
         "mode": "markers",
         "name": "Island County",
         "showlegend": true,
         "type": "scatter",
         "x": [
          "2020-02-23",
          "2020-03-01",
          "2020-03-08",
          "2020-03-15",
          "2020-03-22",
          "2020-03-29",
          "2020-04-05",
          "2020-04-12",
          "2020-04-19",
          "2020-04-26",
          "2020-05-03",
          "2020-05-10",
          "2020-05-24",
          "2020-06-07",
          "2020-06-14",
          "2020-06-21",
          "2020-06-28"
         ],
         "xaxis": "x",
         "y": [
          0,
          0,
          2,
          4,
          24,
          4,
          0,
          0,
          3,
          0,
          0,
          0,
          0,
          0,
          0,
          0,
          0
         ],
         "yaxis": "y"
        },
        {
         "hoverlabel": {
          "namelength": 0
         },
         "hovertemplate": "County=Jefferson County<br>WeekStartDate=%{x}<br>Age 80+=%{y}",
         "legendgroup": "Jefferson County",
         "marker": {
          "color": "#ab63fa",
          "symbol": "circle"
         },
         "mode": "markers",
         "name": "Jefferson County",
         "showlegend": true,
         "type": "scatter",
         "x": [
          "2020-02-23",
          "2020-03-01",
          "2020-03-08",
          "2020-03-15",
          "2020-03-22",
          "2020-03-29",
          "2020-05-31",
          "2020-06-07",
          "2020-06-14",
          "2020-06-21",
          "2020-06-28"
         ],
         "xaxis": "x",
         "y": [
          0,
          0,
          0,
          1,
          1,
          0,
          0,
          0,
          0,
          0,
          0
         ],
         "yaxis": "y"
        },
        {
         "hoverlabel": {
          "namelength": 0
         },
         "hovertemplate": "County=King County<br>WeekStartDate=%{x}<br>Age 80+=%{y}",
         "legendgroup": "King County",
         "marker": {
          "color": "#FFA15A",
          "symbol": "circle"
         },
         "mode": "markers",
         "name": "King County",
         "showlegend": true,
         "type": "scatter",
         "x": [
          "2020-02-02",
          "2020-02-09",
          "2020-02-16",
          "2020-02-23",
          "2020-03-01",
          "2020-03-08",
          "2020-03-15",
          "2020-03-22",
          "2020-03-29",
          "2020-04-05",
          "2020-04-12",
          "2020-04-19",
          "2020-04-26",
          "2020-05-03",
          "2020-05-10",
          "2020-05-17",
          "2020-05-24",
          "2020-05-31",
          "2020-06-07",
          "2020-06-14",
          "2020-06-21",
          "2020-06-28"
         ],
         "xaxis": "x",
         "y": [
          0,
          0,
          6,
          20,
          49,
          108,
          91,
          130,
          99,
          88,
          63,
          43,
          49,
          37,
          21,
          22,
          22,
          7,
          25,
          20,
          15,
          7
         ],
         "yaxis": "y"
        },
        {
         "hoverlabel": {
          "namelength": 0
         },
         "hovertemplate": "County=Kitsap County<br>WeekStartDate=%{x}<br>Age 80+=%{y}",
         "legendgroup": "Kitsap County",
         "marker": {
          "color": "#19d3f3",
          "symbol": "circle"
         },
         "mode": "markers",
         "name": "Kitsap County",
         "showlegend": true,
         "type": "scatter",
         "x": [
          "2020-02-16",
          "2020-02-23",
          "2020-03-01",
          "2020-03-08",
          "2020-03-15",
          "2020-03-22",
          "2020-03-29",
          "2020-04-05",
          "2020-04-12",
          "2020-04-19",
          "2020-04-26",
          "2020-05-03",
          "2020-05-10",
          "2020-05-24",
          "2020-05-31",
          "2020-06-07",
          "2020-06-14",
          "2020-06-21",
          "2020-06-28"
         ],
         "xaxis": "x",
         "y": [
          0,
          0,
          0,
          0,
          1,
          2,
          2,
          0,
          1,
          0,
          0,
          0,
          0,
          0,
          0,
          1,
          1,
          2,
          0
         ],
         "yaxis": "y"
        },
        {
         "hoverlabel": {
          "namelength": 0
         },
         "hovertemplate": "County=Kittitas County<br>WeekStartDate=%{x}<br>Age 80+=%{y}",
         "legendgroup": "Kittitas County",
         "marker": {
          "color": "#FF6692",
          "symbol": "circle"
         },
         "mode": "markers",
         "name": "Kittitas County",
         "showlegend": true,
         "type": "scatter",
         "x": [
          "2020-01-26",
          "2020-02-16",
          "2020-03-08",
          "2020-03-15",
          "2020-03-22",
          "2020-03-29",
          "2020-04-05",
          "2020-04-19",
          "2020-04-26",
          "2020-05-03",
          "2020-05-10",
          "2020-05-17",
          "2020-05-24",
          "2020-05-31",
          "2020-06-07",
          "2020-06-14",
          "2020-06-21",
          "2020-06-28"
         ],
         "xaxis": "x",
         "y": [
          0,
          0,
          0,
          0,
          0,
          0,
          0,
          0,
          0,
          0,
          0,
          0,
          0,
          0,
          0,
          0,
          1,
          0
         ],
         "yaxis": "y"
        },
        {
         "hoverlabel": {
          "namelength": 0
         },
         "hovertemplate": "County=Klickitat County<br>WeekStartDate=%{x}<br>Age 80+=%{y}",
         "legendgroup": "Klickitat County",
         "marker": {
          "color": "#B6E880",
          "symbol": "circle"
         },
         "mode": "markers",
         "name": "Klickitat County",
         "showlegend": true,
         "type": "scatter",
         "x": [
          "2020-03-01",
          "2020-03-15",
          "2020-03-22",
          "2020-03-29",
          "2020-04-05",
          "2020-04-19",
          "2020-04-26",
          "2020-05-03",
          "2020-05-10",
          "2020-05-17",
          "2020-05-24",
          "2020-05-31",
          "2020-06-07",
          "2020-06-14",
          "2020-06-21",
          "2020-06-28"
         ],
         "xaxis": "x",
         "y": [
          0,
          0,
          1,
          0,
          2,
          0,
          0,
          0,
          0,
          0,
          0,
          0,
          0,
          0,
          0,
          1
         ],
         "yaxis": "y"
        },
        {
         "hoverlabel": {
          "namelength": 0
         },
         "hovertemplate": "County=Lewis County<br>WeekStartDate=%{x}<br>Age 80+=%{y}",
         "legendgroup": "Lewis County",
         "marker": {
          "color": "#FF97FF",
          "symbol": "circle"
         },
         "mode": "markers",
         "name": "Lewis County",
         "showlegend": true,
         "type": "scatter",
         "x": [
          "2020-03-08",
          "2020-03-15",
          "2020-03-22",
          "2020-03-29",
          "2020-04-05",
          "2020-04-12",
          "2020-04-19",
          "2020-04-26",
          "2020-05-03",
          "2020-05-10",
          "2020-05-24",
          "2020-06-07",
          "2020-06-14",
          "2020-06-21",
          "2020-06-28"
         ],
         "xaxis": "x",
         "y": [
          1,
          2,
          1,
          0,
          0,
          0,
          0,
          0,
          0,
          0,
          0,
          1,
          0,
          0,
          0
         ],
         "yaxis": "y"
        },
        {
         "hoverlabel": {
          "namelength": 0
         },
         "hovertemplate": "County=Mason County<br>WeekStartDate=%{x}<br>Age 80+=%{y}",
         "legendgroup": "Mason County",
         "marker": {
          "color": "#FECB52",
          "symbol": "circle"
         },
         "mode": "markers",
         "name": "Mason County",
         "showlegend": true,
         "type": "scatter",
         "x": [
          "2020-03-01",
          "2020-03-08",
          "2020-03-15",
          "2020-03-22",
          "2020-03-29",
          "2020-04-12",
          "2020-04-19",
          "2020-04-26",
          "2020-05-03",
          "2020-05-10",
          "2020-05-17",
          "2020-05-24",
          "2020-05-31",
          "2020-06-07",
          "2020-06-14",
          "2020-06-21",
          "2020-06-28"
         ],
         "xaxis": "x",
         "y": [
          0,
          0,
          1,
          0,
          0,
          0,
          0,
          1,
          0,
          0,
          0,
          0,
          0,
          0,
          0,
          0,
          0
         ],
         "yaxis": "y"
        },
        {
         "hoverlabel": {
          "namelength": 0
         },
         "hovertemplate": "County=Okanogan County<br>WeekStartDate=%{x}<br>Age 80+=%{y}",
         "legendgroup": "Okanogan County",
         "marker": {
          "color": "#636efa",
          "symbol": "circle"
         },
         "mode": "markers",
         "name": "Okanogan County",
         "showlegend": true,
         "type": "scatter",
         "x": [
          "2020-03-08",
          "2020-03-15",
          "2020-03-22",
          "2020-03-29",
          "2020-04-05",
          "2020-04-12",
          "2020-04-19",
          "2020-04-26",
          "2020-05-03",
          "2020-05-10",
          "2020-05-17",
          "2020-05-24",
          "2020-05-31",
          "2020-06-07",
          "2020-06-14",
          "2020-06-21",
          "2020-06-28"
         ],
         "xaxis": "x",
         "y": [
          0,
          0,
          0,
          0,
          0,
          0,
          0,
          0,
          0,
          0,
          0,
          0,
          0,
          0,
          0,
          0,
          0
         ],
         "yaxis": "y"
        },
        {
         "hoverlabel": {
          "namelength": 0
         },
         "hovertemplate": "County=Pacific County<br>WeekStartDate=%{x}<br>Age 80+=%{y}",
         "legendgroup": "Pacific County",
         "marker": {
          "color": "#EF553B",
          "symbol": "circle"
         },
         "mode": "markers",
         "name": "Pacific County",
         "showlegend": true,
         "type": "scatter",
         "x": [
          "2020-03-29",
          "2020-04-05",
          "2020-04-19",
          "2020-04-26",
          "2020-05-03",
          "2020-05-31",
          "2020-06-07",
          "2020-06-21"
         ],
         "xaxis": "x",
         "y": [
          0,
          0,
          0,
          0,
          0,
          0,
          0,
          0
         ],
         "yaxis": "y"
        },
        {
         "hoverlabel": {
          "namelength": 0
         },
         "hovertemplate": "County=Pend Oreille County<br>WeekStartDate=%{x}<br>Age 80+=%{y}",
         "legendgroup": "Pend Oreille County",
         "marker": {
          "color": "#00cc96",
          "symbol": "circle"
         },
         "mode": "markers",
         "name": "Pend Oreille County",
         "showlegend": true,
         "type": "scatter",
         "x": [
          "2020-03-15",
          "2020-04-05",
          "2020-05-17",
          "2020-06-21",
          "2020-06-28"
         ],
         "xaxis": "x",
         "y": [
          1,
          0,
          0,
          0,
          0
         ],
         "yaxis": "y"
        },
        {
         "hoverlabel": {
          "namelength": 0
         },
         "hovertemplate": "County=Pierce County<br>WeekStartDate=%{x}<br>Age 80+=%{y}",
         "legendgroup": "Pierce County",
         "marker": {
          "color": "#ab63fa",
          "symbol": "circle"
         },
         "mode": "markers",
         "name": "Pierce County",
         "showlegend": true,
         "type": "scatter",
         "x": [
          "2020-02-16",
          "2020-02-23",
          "2020-03-01",
          "2020-03-08",
          "2020-03-15",
          "2020-03-22",
          "2020-03-29",
          "2020-04-05",
          "2020-04-12",
          "2020-04-19",
          "2020-04-26",
          "2020-05-03",
          "2020-05-10",
          "2020-05-17",
          "2020-05-24",
          "2020-05-31",
          "2020-06-07",
          "2020-06-14",
          "2020-06-21",
          "2020-06-28"
         ],
         "xaxis": "x",
         "y": [
          0,
          0,
          1,
          7,
          6,
          11,
          24,
          13,
          10,
          11,
          6,
          11,
          10,
          8,
          7,
          4,
          3,
          10,
          8,
          8
         ],
         "yaxis": "y"
        },
        {
         "hoverlabel": {
          "namelength": 0
         },
         "hovertemplate": "County=San Juan County<br>WeekStartDate=%{x}<br>Age 80+=%{y}",
         "legendgroup": "San Juan County",
         "marker": {
          "color": "#FFA15A",
          "symbol": "circle"
         },
         "mode": "markers",
         "name": "San Juan County",
         "showlegend": true,
         "type": "scatter",
         "x": [
          "2020-03-08",
          "2020-03-15",
          "2020-03-22",
          "2020-03-29",
          "2020-04-05",
          "2020-04-12",
          "2020-06-07",
          "2020-06-14",
          "2020-06-21"
         ],
         "xaxis": "x",
         "y": [
          0,
          0,
          0,
          1,
          0,
          0,
          0,
          1,
          0
         ],
         "yaxis": "y"
        },
        {
         "hoverlabel": {
          "namelength": 0
         },
         "hovertemplate": "County=Skagit County<br>WeekStartDate=%{x}<br>Age 80+=%{y}",
         "legendgroup": "Skagit County",
         "marker": {
          "color": "#19d3f3",
          "symbol": "circle"
         },
         "mode": "markers",
         "name": "Skagit County",
         "showlegend": true,
         "type": "scatter",
         "x": [
          "2020-02-16",
          "2020-02-23",
          "2020-03-01",
          "2020-03-08",
          "2020-03-15",
          "2020-03-22",
          "2020-03-29",
          "2020-04-05",
          "2020-04-12",
          "2020-04-19",
          "2020-04-26",
          "2020-05-03",
          "2020-05-10",
          "2020-05-17",
          "2020-05-24",
          "2020-05-31",
          "2020-06-07",
          "2020-06-14",
          "2020-06-21",
          "2020-06-28"
         ],
         "xaxis": "x",
         "y": [
          0,
          0,
          1,
          3,
          3,
          5,
          8,
          0,
          5,
          1,
          0,
          1,
          0,
          0,
          0,
          0,
          0,
          0,
          0,
          7
         ],
         "yaxis": "y"
        },
        {
         "hoverlabel": {
          "namelength": 0
         },
         "hovertemplate": "County=Skamania County<br>WeekStartDate=%{x}<br>Age 80+=%{y}",
         "legendgroup": "Skamania County",
         "marker": {
          "color": "#FF6692",
          "symbol": "circle"
         },
         "mode": "markers",
         "name": "Skamania County",
         "showlegend": true,
         "type": "scatter",
         "x": [
          "2020-03-22",
          "2020-04-05",
          "2020-06-14",
          "2020-06-21",
          "2020-06-28"
         ],
         "xaxis": "x",
         "y": [
          0,
          0,
          0,
          1,
          0
         ],
         "yaxis": "y"
        },
        {
         "hoverlabel": {
          "namelength": 0
         },
         "hovertemplate": "County=Snohomish County<br>WeekStartDate=%{x}<br>Age 80+=%{y}",
         "legendgroup": "Snohomish County",
         "marker": {
          "color": "#B6E880",
          "symbol": "circle"
         },
         "mode": "markers",
         "name": "Snohomish County",
         "showlegend": true,
         "type": "scatter",
         "x": [
          "2020-01-16",
          "2020-01-26",
          "2020-02-02",
          "2020-02-09",
          "2020-02-16",
          "2020-02-23",
          "2020-03-01",
          "2020-03-08",
          "2020-03-15",
          "2020-03-22",
          "2020-03-29",
          "2020-04-05",
          "2020-04-12",
          "2020-04-19",
          "2020-04-26",
          "2020-05-03",
          "2020-05-10",
          "2020-05-17",
          "2020-05-24",
          "2020-05-31",
          "2020-06-07",
          "2020-06-14",
          "2020-06-21",
          "2020-06-28"
         ],
         "xaxis": "x",
         "y": [
          0,
          0,
          2,
          0,
          1,
          7,
          22,
          27,
          25,
          22,
          34,
          14,
          26,
          25,
          29,
          6,
          23,
          15,
          0,
          1,
          8,
          8,
          2,
          1
         ],
         "yaxis": "y"
        },
        {
         "hoverlabel": {
          "namelength": 0
         },
         "hovertemplate": "County=Spokane County<br>WeekStartDate=%{x}<br>Age 80+=%{y}",
         "legendgroup": "Spokane County",
         "marker": {
          "color": "#FF97FF",
          "symbol": "circle"
         },
         "mode": "markers",
         "name": "Spokane County",
         "showlegend": true,
         "type": "scatter",
         "x": [
          "2020-02-16",
          "2020-02-23",
          "2020-03-01",
          "2020-03-08",
          "2020-03-15",
          "2020-03-22",
          "2020-03-29",
          "2020-04-05",
          "2020-04-12",
          "2020-04-19",
          "2020-04-26",
          "2020-05-03",
          "2020-05-10",
          "2020-05-17",
          "2020-05-24",
          "2020-05-31",
          "2020-06-07",
          "2020-06-14",
          "2020-06-21",
          "2020-06-28"
         ],
         "xaxis": "x",
         "y": [
          0,
          1,
          0,
          1,
          4,
          6,
          3,
          11,
          8,
          5,
          5,
          1,
          0,
          4,
          1,
          7,
          3,
          4,
          2,
          11
         ],
         "yaxis": "y"
        },
        {
         "hoverlabel": {
          "namelength": 0
         },
         "hovertemplate": "County=Stevens County<br>WeekStartDate=%{x}<br>Age 80+=%{y}",
         "legendgroup": "Stevens County",
         "marker": {
          "color": "#FECB52",
          "symbol": "circle"
         },
         "mode": "markers",
         "name": "Stevens County",
         "showlegend": true,
         "type": "scatter",
         "x": [
          "2020-03-01",
          "2020-03-08",
          "2020-03-15",
          "2020-03-22",
          "2020-03-29",
          "2020-04-12",
          "2020-05-10",
          "2020-05-17",
          "2020-05-24",
          "2020-06-07",
          "2020-06-21",
          "2020-06-28"
         ],
         "xaxis": "x",
         "y": [
          0,
          0,
          0,
          0,
          0,
          0,
          0,
          0,
          0,
          0,
          0,
          0
         ],
         "yaxis": "y"
        },
        {
         "hoverlabel": {
          "namelength": 0
         },
         "hovertemplate": "County=Thurston County<br>WeekStartDate=%{x}<br>Age 80+=%{y}",
         "legendgroup": "Thurston County",
         "marker": {
          "color": "#636efa",
          "symbol": "circle"
         },
         "mode": "markers",
         "name": "Thurston County",
         "showlegend": true,
         "type": "scatter",
         "x": [
          "2020-02-23",
          "2020-03-01",
          "2020-03-08",
          "2020-03-15",
          "2020-03-22",
          "2020-03-29",
          "2020-04-05",
          "2020-04-12",
          "2020-04-19",
          "2020-04-26",
          "2020-05-03",
          "2020-05-10",
          "2020-05-17",
          "2020-05-24",
          "2020-05-31",
          "2020-06-07",
          "2020-06-14",
          "2020-06-21",
          "2020-06-28"
         ],
         "xaxis": "x",
         "y": [
          0,
          0,
          1,
          0,
          1,
          0,
          0,
          0,
          1,
          0,
          1,
          0,
          0,
          6,
          6,
          4,
          0,
          0,
          0
         ],
         "yaxis": "y"
        },
        {
         "hoverlabel": {
          "namelength": 0
         },
         "hovertemplate": "County=Wahkiakum County<br>WeekStartDate=%{x}<br>Age 80+=%{y}",
         "legendgroup": "Wahkiakum County",
         "marker": {
          "color": "#EF553B",
          "symbol": "circle"
         },
         "mode": "markers",
         "name": "Wahkiakum County",
         "showlegend": true,
         "type": "scatter",
         "x": [
          "2020-03-15",
          "2020-03-22",
          "2020-05-03",
          "2020-06-14"
         ],
         "xaxis": "x",
         "y": [
          0,
          0,
          0,
          0
         ],
         "yaxis": "y"
        },
        {
         "hoverlabel": {
          "namelength": 0
         },
         "hovertemplate": "County=Walla Walla County<br>WeekStartDate=%{x}<br>Age 80+=%{y}",
         "legendgroup": "Walla Walla County",
         "marker": {
          "color": "#00cc96",
          "symbol": "circle"
         },
         "mode": "markers",
         "name": "Walla Walla County",
         "showlegend": true,
         "type": "scatter",
         "x": [
          "2020-03-08",
          "2020-03-15",
          "2020-03-22",
          "2020-03-29",
          "2020-04-05",
          "2020-04-12",
          "2020-04-19",
          "2020-04-26",
          "2020-05-03",
          "2020-05-10",
          "2020-05-17",
          "2020-05-24",
          "2020-05-31",
          "2020-06-07",
          "2020-06-14",
          "2020-06-21",
          "2020-06-28"
         ],
         "xaxis": "x",
         "y": [
          0,
          0,
          0,
          0,
          0,
          0,
          1,
          0,
          2,
          3,
          0,
          0,
          0,
          0,
          0,
          1,
          0
         ],
         "yaxis": "y"
        },
        {
         "hoverlabel": {
          "namelength": 0
         },
         "hovertemplate": "County=Whatcom County<br>WeekStartDate=%{x}<br>Age 80+=%{y}",
         "legendgroup": "Whatcom County",
         "marker": {
          "color": "#ab63fa",
          "symbol": "circle"
         },
         "mode": "markers",
         "name": "Whatcom County",
         "showlegend": true,
         "type": "scatter",
         "x": [
          "2020-02-16",
          "2020-02-23",
          "2020-03-01",
          "2020-03-08",
          "2020-03-15",
          "2020-03-22",
          "2020-03-29",
          "2020-04-05",
          "2020-04-12",
          "2020-04-19",
          "2020-04-26",
          "2020-05-03",
          "2020-05-10",
          "2020-05-17",
          "2020-05-24",
          "2020-05-31",
          "2020-06-07",
          "2020-06-14",
          "2020-06-21",
          "2020-06-28"
         ],
         "xaxis": "x",
         "y": [
          0,
          0,
          1,
          5,
          17,
          16,
          20,
          5,
          3,
          0,
          2,
          4,
          0,
          1,
          0,
          1,
          1,
          2,
          0,
          0
         ],
         "yaxis": "y"
        },
        {
         "hoverlabel": {
          "namelength": 0
         },
         "hovertemplate": "County=Whitman County<br>WeekStartDate=%{x}<br>Age 80+=%{y}",
         "legendgroup": "Whitman County",
         "marker": {
          "color": "#FFA15A",
          "symbol": "circle"
         },
         "mode": "markers",
         "name": "Whitman County",
         "showlegend": true,
         "type": "scatter",
         "x": [
          "2020-03-08",
          "2020-03-15",
          "2020-03-22",
          "2020-03-29",
          "2020-04-12",
          "2020-04-19",
          "2020-05-10",
          "2020-05-17",
          "2020-05-31",
          "2020-06-07",
          "2020-06-14",
          "2020-06-21",
          "2020-06-28"
         ],
         "xaxis": "x",
         "y": [
          0,
          0,
          0,
          0,
          1,
          0,
          0,
          0,
          0,
          0,
          0,
          0,
          0
         ],
         "yaxis": "y"
        },
        {
         "hoverlabel": {
          "namelength": 0
         },
         "hovertemplate": "County=Yakima County<br>WeekStartDate=%{x}<br>Age 80+=%{y}",
         "legendgroup": "Yakima County",
         "marker": {
          "color": "#19d3f3",
          "symbol": "circle"
         },
         "mode": "markers",
         "name": "Yakima County",
         "showlegend": true,
         "type": "scatter",
         "x": [
          "2020-01-16",
          "2020-02-09",
          "2020-02-16",
          "2020-03-01",
          "2020-03-08",
          "2020-03-15",
          "2020-03-22",
          "2020-03-29",
          "2020-04-05",
          "2020-04-12",
          "2020-04-19",
          "2020-04-26",
          "2020-05-03",
          "2020-05-10",
          "2020-05-17",
          "2020-05-24",
          "2020-05-31",
          "2020-06-07",
          "2020-06-14",
          "2020-06-21",
          "2020-06-28"
         ],
         "xaxis": "x",
         "y": [
          0,
          0,
          0,
          1,
          0,
          4,
          21,
          20,
          14,
          14,
          16,
          33,
          34,
          14,
          10,
          7,
          15,
          40,
          21,
          40,
          23
         ],
         "yaxis": "y"
        },
        {
         "hoverlabel": {
          "namelength": 0
         },
         "hovertemplate": "County=Unassigned<br>WeekStartDate=%{x}<br>Age 80+=%{y}",
         "legendgroup": "Unassigned",
         "marker": {
          "color": "#FF6692",
          "symbol": "circle"
         },
         "mode": "markers",
         "name": "Unassigned",
         "showlegend": true,
         "type": "scatter",
         "x": [
          "2020-04-12",
          "2020-04-19",
          "2020-05-10",
          "2020-05-17",
          "2020-05-24",
          "2020-05-31",
          "2020-06-07",
          "2020-06-14",
          "2020-06-21",
          "2020-06-28"
         ],
         "xaxis": "x",
         "y": [
          0,
          0,
          0,
          0,
          0,
          0,
          0,
          0,
          0,
          2
         ],
         "yaxis": "y"
        }
       ],
       "layout": {
        "legend": {
         "title": {
          "text": "County"
         },
         "tracegroupgap": 0
        },
        "margin": {
         "t": 60
        },
        "template": {
         "data": {
          "bar": [
           {
            "error_x": {
             "color": "#2a3f5f"
            },
            "error_y": {
             "color": "#2a3f5f"
            },
            "marker": {
             "line": {
              "color": "#E5ECF6",
              "width": 0.5
             }
            },
            "type": "bar"
           }
          ],
          "barpolar": [
           {
            "marker": {
             "line": {
              "color": "#E5ECF6",
              "width": 0.5
             }
            },
            "type": "barpolar"
           }
          ],
          "carpet": [
           {
            "aaxis": {
             "endlinecolor": "#2a3f5f",
             "gridcolor": "white",
             "linecolor": "white",
             "minorgridcolor": "white",
             "startlinecolor": "#2a3f5f"
            },
            "baxis": {
             "endlinecolor": "#2a3f5f",
             "gridcolor": "white",
             "linecolor": "white",
             "minorgridcolor": "white",
             "startlinecolor": "#2a3f5f"
            },
            "type": "carpet"
           }
          ],
          "choropleth": [
           {
            "colorbar": {
             "outlinewidth": 0,
             "ticks": ""
            },
            "type": "choropleth"
           }
          ],
          "contour": [
           {
            "colorbar": {
             "outlinewidth": 0,
             "ticks": ""
            },
            "colorscale": [
             [
              0,
              "#0d0887"
             ],
             [
              0.1111111111111111,
              "#46039f"
             ],
             [
              0.2222222222222222,
              "#7201a8"
             ],
             [
              0.3333333333333333,
              "#9c179e"
             ],
             [
              0.4444444444444444,
              "#bd3786"
             ],
             [
              0.5555555555555556,
              "#d8576b"
             ],
             [
              0.6666666666666666,
              "#ed7953"
             ],
             [
              0.7777777777777778,
              "#fb9f3a"
             ],
             [
              0.8888888888888888,
              "#fdca26"
             ],
             [
              1,
              "#f0f921"
             ]
            ],
            "type": "contour"
           }
          ],
          "contourcarpet": [
           {
            "colorbar": {
             "outlinewidth": 0,
             "ticks": ""
            },
            "type": "contourcarpet"
           }
          ],
          "heatmap": [
           {
            "colorbar": {
             "outlinewidth": 0,
             "ticks": ""
            },
            "colorscale": [
             [
              0,
              "#0d0887"
             ],
             [
              0.1111111111111111,
              "#46039f"
             ],
             [
              0.2222222222222222,
              "#7201a8"
             ],
             [
              0.3333333333333333,
              "#9c179e"
             ],
             [
              0.4444444444444444,
              "#bd3786"
             ],
             [
              0.5555555555555556,
              "#d8576b"
             ],
             [
              0.6666666666666666,
              "#ed7953"
             ],
             [
              0.7777777777777778,
              "#fb9f3a"
             ],
             [
              0.8888888888888888,
              "#fdca26"
             ],
             [
              1,
              "#f0f921"
             ]
            ],
            "type": "heatmap"
           }
          ],
          "heatmapgl": [
           {
            "colorbar": {
             "outlinewidth": 0,
             "ticks": ""
            },
            "colorscale": [
             [
              0,
              "#0d0887"
             ],
             [
              0.1111111111111111,
              "#46039f"
             ],
             [
              0.2222222222222222,
              "#7201a8"
             ],
             [
              0.3333333333333333,
              "#9c179e"
             ],
             [
              0.4444444444444444,
              "#bd3786"
             ],
             [
              0.5555555555555556,
              "#d8576b"
             ],
             [
              0.6666666666666666,
              "#ed7953"
             ],
             [
              0.7777777777777778,
              "#fb9f3a"
             ],
             [
              0.8888888888888888,
              "#fdca26"
             ],
             [
              1,
              "#f0f921"
             ]
            ],
            "type": "heatmapgl"
           }
          ],
          "histogram": [
           {
            "marker": {
             "colorbar": {
              "outlinewidth": 0,
              "ticks": ""
             }
            },
            "type": "histogram"
           }
          ],
          "histogram2d": [
           {
            "colorbar": {
             "outlinewidth": 0,
             "ticks": ""
            },
            "colorscale": [
             [
              0,
              "#0d0887"
             ],
             [
              0.1111111111111111,
              "#46039f"
             ],
             [
              0.2222222222222222,
              "#7201a8"
             ],
             [
              0.3333333333333333,
              "#9c179e"
             ],
             [
              0.4444444444444444,
              "#bd3786"
             ],
             [
              0.5555555555555556,
              "#d8576b"
             ],
             [
              0.6666666666666666,
              "#ed7953"
             ],
             [
              0.7777777777777778,
              "#fb9f3a"
             ],
             [
              0.8888888888888888,
              "#fdca26"
             ],
             [
              1,
              "#f0f921"
             ]
            ],
            "type": "histogram2d"
           }
          ],
          "histogram2dcontour": [
           {
            "colorbar": {
             "outlinewidth": 0,
             "ticks": ""
            },
            "colorscale": [
             [
              0,
              "#0d0887"
             ],
             [
              0.1111111111111111,
              "#46039f"
             ],
             [
              0.2222222222222222,
              "#7201a8"
             ],
             [
              0.3333333333333333,
              "#9c179e"
             ],
             [
              0.4444444444444444,
              "#bd3786"
             ],
             [
              0.5555555555555556,
              "#d8576b"
             ],
             [
              0.6666666666666666,
              "#ed7953"
             ],
             [
              0.7777777777777778,
              "#fb9f3a"
             ],
             [
              0.8888888888888888,
              "#fdca26"
             ],
             [
              1,
              "#f0f921"
             ]
            ],
            "type": "histogram2dcontour"
           }
          ],
          "mesh3d": [
           {
            "colorbar": {
             "outlinewidth": 0,
             "ticks": ""
            },
            "type": "mesh3d"
           }
          ],
          "parcoords": [
           {
            "line": {
             "colorbar": {
              "outlinewidth": 0,
              "ticks": ""
             }
            },
            "type": "parcoords"
           }
          ],
          "pie": [
           {
            "automargin": true,
            "type": "pie"
           }
          ],
          "scatter": [
           {
            "marker": {
             "colorbar": {
              "outlinewidth": 0,
              "ticks": ""
             }
            },
            "type": "scatter"
           }
          ],
          "scatter3d": [
           {
            "line": {
             "colorbar": {
              "outlinewidth": 0,
              "ticks": ""
             }
            },
            "marker": {
             "colorbar": {
              "outlinewidth": 0,
              "ticks": ""
             }
            },
            "type": "scatter3d"
           }
          ],
          "scattercarpet": [
           {
            "marker": {
             "colorbar": {
              "outlinewidth": 0,
              "ticks": ""
             }
            },
            "type": "scattercarpet"
           }
          ],
          "scattergeo": [
           {
            "marker": {
             "colorbar": {
              "outlinewidth": 0,
              "ticks": ""
             }
            },
            "type": "scattergeo"
           }
          ],
          "scattergl": [
           {
            "marker": {
             "colorbar": {
              "outlinewidth": 0,
              "ticks": ""
             }
            },
            "type": "scattergl"
           }
          ],
          "scattermapbox": [
           {
            "marker": {
             "colorbar": {
              "outlinewidth": 0,
              "ticks": ""
             }
            },
            "type": "scattermapbox"
           }
          ],
          "scatterpolar": [
           {
            "marker": {
             "colorbar": {
              "outlinewidth": 0,
              "ticks": ""
             }
            },
            "type": "scatterpolar"
           }
          ],
          "scatterpolargl": [
           {
            "marker": {
             "colorbar": {
              "outlinewidth": 0,
              "ticks": ""
             }
            },
            "type": "scatterpolargl"
           }
          ],
          "scatterternary": [
           {
            "marker": {
             "colorbar": {
              "outlinewidth": 0,
              "ticks": ""
             }
            },
            "type": "scatterternary"
           }
          ],
          "surface": [
           {
            "colorbar": {
             "outlinewidth": 0,
             "ticks": ""
            },
            "colorscale": [
             [
              0,
              "#0d0887"
             ],
             [
              0.1111111111111111,
              "#46039f"
             ],
             [
              0.2222222222222222,
              "#7201a8"
             ],
             [
              0.3333333333333333,
              "#9c179e"
             ],
             [
              0.4444444444444444,
              "#bd3786"
             ],
             [
              0.5555555555555556,
              "#d8576b"
             ],
             [
              0.6666666666666666,
              "#ed7953"
             ],
             [
              0.7777777777777778,
              "#fb9f3a"
             ],
             [
              0.8888888888888888,
              "#fdca26"
             ],
             [
              1,
              "#f0f921"
             ]
            ],
            "type": "surface"
           }
          ],
          "table": [
           {
            "cells": {
             "fill": {
              "color": "#EBF0F8"
             },
             "line": {
              "color": "white"
             }
            },
            "header": {
             "fill": {
              "color": "#C8D4E3"
             },
             "line": {
              "color": "white"
             }
            },
            "type": "table"
           }
          ]
         },
         "layout": {
          "annotationdefaults": {
           "arrowcolor": "#2a3f5f",
           "arrowhead": 0,
           "arrowwidth": 1
          },
          "coloraxis": {
           "colorbar": {
            "outlinewidth": 0,
            "ticks": ""
           }
          },
          "colorscale": {
           "diverging": [
            [
             0,
             "#8e0152"
            ],
            [
             0.1,
             "#c51b7d"
            ],
            [
             0.2,
             "#de77ae"
            ],
            [
             0.3,
             "#f1b6da"
            ],
            [
             0.4,
             "#fde0ef"
            ],
            [
             0.5,
             "#f7f7f7"
            ],
            [
             0.6,
             "#e6f5d0"
            ],
            [
             0.7,
             "#b8e186"
            ],
            [
             0.8,
             "#7fbc41"
            ],
            [
             0.9,
             "#4d9221"
            ],
            [
             1,
             "#276419"
            ]
           ],
           "sequential": [
            [
             0,
             "#0d0887"
            ],
            [
             0.1111111111111111,
             "#46039f"
            ],
            [
             0.2222222222222222,
             "#7201a8"
            ],
            [
             0.3333333333333333,
             "#9c179e"
            ],
            [
             0.4444444444444444,
             "#bd3786"
            ],
            [
             0.5555555555555556,
             "#d8576b"
            ],
            [
             0.6666666666666666,
             "#ed7953"
            ],
            [
             0.7777777777777778,
             "#fb9f3a"
            ],
            [
             0.8888888888888888,
             "#fdca26"
            ],
            [
             1,
             "#f0f921"
            ]
           ],
           "sequentialminus": [
            [
             0,
             "#0d0887"
            ],
            [
             0.1111111111111111,
             "#46039f"
            ],
            [
             0.2222222222222222,
             "#7201a8"
            ],
            [
             0.3333333333333333,
             "#9c179e"
            ],
            [
             0.4444444444444444,
             "#bd3786"
            ],
            [
             0.5555555555555556,
             "#d8576b"
            ],
            [
             0.6666666666666666,
             "#ed7953"
            ],
            [
             0.7777777777777778,
             "#fb9f3a"
            ],
            [
             0.8888888888888888,
             "#fdca26"
            ],
            [
             1,
             "#f0f921"
            ]
           ]
          },
          "colorway": [
           "#636efa",
           "#EF553B",
           "#00cc96",
           "#ab63fa",
           "#FFA15A",
           "#19d3f3",
           "#FF6692",
           "#B6E880",
           "#FF97FF",
           "#FECB52"
          ],
          "font": {
           "color": "#2a3f5f"
          },
          "geo": {
           "bgcolor": "white",
           "lakecolor": "white",
           "landcolor": "#E5ECF6",
           "showlakes": true,
           "showland": true,
           "subunitcolor": "white"
          },
          "hoverlabel": {
           "align": "left"
          },
          "hovermode": "closest",
          "mapbox": {
           "style": "light"
          },
          "paper_bgcolor": "white",
          "plot_bgcolor": "#E5ECF6",
          "polar": {
           "angularaxis": {
            "gridcolor": "white",
            "linecolor": "white",
            "ticks": ""
           },
           "bgcolor": "#E5ECF6",
           "radialaxis": {
            "gridcolor": "white",
            "linecolor": "white",
            "ticks": ""
           }
          },
          "scene": {
           "xaxis": {
            "backgroundcolor": "#E5ECF6",
            "gridcolor": "white",
            "gridwidth": 2,
            "linecolor": "white",
            "showbackground": true,
            "ticks": "",
            "zerolinecolor": "white"
           },
           "yaxis": {
            "backgroundcolor": "#E5ECF6",
            "gridcolor": "white",
            "gridwidth": 2,
            "linecolor": "white",
            "showbackground": true,
            "ticks": "",
            "zerolinecolor": "white"
           },
           "zaxis": {
            "backgroundcolor": "#E5ECF6",
            "gridcolor": "white",
            "gridwidth": 2,
            "linecolor": "white",
            "showbackground": true,
            "ticks": "",
            "zerolinecolor": "white"
           }
          },
          "shapedefaults": {
           "line": {
            "color": "#2a3f5f"
           }
          },
          "ternary": {
           "aaxis": {
            "gridcolor": "white",
            "linecolor": "white",
            "ticks": ""
           },
           "baxis": {
            "gridcolor": "white",
            "linecolor": "white",
            "ticks": ""
           },
           "bgcolor": "#E5ECF6",
           "caxis": {
            "gridcolor": "white",
            "linecolor": "white",
            "ticks": ""
           }
          },
          "title": {
           "x": 0.05
          },
          "xaxis": {
           "automargin": true,
           "gridcolor": "white",
           "linecolor": "white",
           "ticks": "",
           "title": {
            "standoff": 15
           },
           "zerolinecolor": "white",
           "zerolinewidth": 2
          },
          "yaxis": {
           "automargin": true,
           "gridcolor": "white",
           "linecolor": "white",
           "ticks": "",
           "title": {
            "standoff": 15
           },
           "zerolinecolor": "white",
           "zerolinewidth": 2
          }
         }
        },
        "xaxis": {
         "anchor": "y",
         "domain": [
          0,
          1
         ],
         "title": {
          "text": "WeekStartDate"
         }
        },
        "yaxis": {
         "anchor": "x",
         "domain": [
          0,
          1
         ],
         "title": {
          "text": "Age 80+"
         }
        }
       }
      },
      "text/html": [
       "<div>\n",
       "        \n",
       "        \n",
       "            <div id=\"3639d032-f331-4443-842c-64ae5dace248\" class=\"plotly-graph-div\" style=\"height:525px; width:100%;\"></div>\n",
       "            <script type=\"text/javascript\">\n",
       "                require([\"plotly\"], function(Plotly) {\n",
       "                    window.PLOTLYENV=window.PLOTLYENV || {};\n",
       "                    \n",
       "                if (document.getElementById(\"3639d032-f331-4443-842c-64ae5dace248\")) {\n",
       "                    Plotly.newPlot(\n",
       "                        '3639d032-f331-4443-842c-64ae5dace248',\n",
       "                        [{\"hoverlabel\": {\"namelength\": 0}, \"hovertemplate\": \"County=Adams County<br>WeekStartDate=%{x}<br>Age 80+=%{y}\", \"legendgroup\": \"Adams County\", \"marker\": {\"color\": \"#636efa\", \"symbol\": \"circle\"}, \"mode\": \"markers\", \"name\": \"Adams County\", \"showlegend\": true, \"type\": \"scatter\", \"x\": [\"2020-03-08\", \"2020-03-15\", \"2020-03-22\", \"2020-03-29\", \"2020-04-05\", \"2020-04-12\", \"2020-04-19\", \"2020-04-26\", \"2020-05-03\", \"2020-05-10\", \"2020-05-17\", \"2020-05-24\", \"2020-05-31\", \"2020-06-07\", \"2020-06-14\", \"2020-06-21\", \"2020-06-28\"], \"xaxis\": \"x\", \"y\": [0, 0, 0, 0, 0, 0, 0, 0, 0, 0, 0, 0, 0, 0, 0, 0, 0], \"yaxis\": \"y\"}, {\"hoverlabel\": {\"namelength\": 0}, \"hovertemplate\": \"County=Asotin County<br>WeekStartDate=%{x}<br>Age 80+=%{y}\", \"legendgroup\": \"Asotin County\", \"marker\": {\"color\": \"#EF553B\", \"symbol\": \"circle\"}, \"mode\": \"markers\", \"name\": \"Asotin County\", \"showlegend\": true, \"type\": \"scatter\", \"x\": [\"2020-03-15\", \"2020-03-29\", \"2020-04-05\", \"2020-04-12\", \"2020-04-19\", \"2020-05-17\", \"2020-05-31\", \"2020-06-21\"], \"xaxis\": \"x\", \"y\": [0, 0, 1, 0, 1, 0, 0, 0], \"yaxis\": \"y\"}, {\"hoverlabel\": {\"namelength\": 0}, \"hovertemplate\": \"County=Benton County<br>WeekStartDate=%{x}<br>Age 80+=%{y}\", \"legendgroup\": \"Benton County\", \"marker\": {\"color\": \"#00cc96\", \"symbol\": \"circle\"}, \"mode\": \"markers\", \"name\": \"Benton County\", \"showlegend\": true, \"type\": \"scatter\", \"x\": [\"2020-02-16\", \"2020-03-01\", \"2020-03-08\", \"2020-03-15\", \"2020-03-22\", \"2020-03-29\", \"2020-04-05\", \"2020-04-12\", \"2020-04-19\", \"2020-04-26\", \"2020-05-03\", \"2020-05-10\", \"2020-05-17\", \"2020-05-24\", \"2020-05-31\", \"2020-06-07\", \"2020-06-14\", \"2020-06-21\", \"2020-06-28\"], \"xaxis\": \"x\", \"y\": [0, 4, 4, 14, 30, 12, 2, 2, 14, 9, 3, 1, 15, 9, 6, 6, 22, 8, 5], \"yaxis\": \"y\"}, {\"hoverlabel\": {\"namelength\": 0}, \"hovertemplate\": \"County=Chelan County<br>WeekStartDate=%{x}<br>Age 80+=%{y}\", \"legendgroup\": \"Chelan County\", \"marker\": {\"color\": \"#ab63fa\", \"symbol\": \"circle\"}, \"mode\": \"markers\", \"name\": \"Chelan County\", \"showlegend\": true, \"type\": \"scatter\", \"x\": [\"2020-02-09\", \"2020-03-08\", \"2020-03-15\", \"2020-03-22\", \"2020-03-29\", \"2020-04-05\", \"2020-04-12\", \"2020-04-19\", \"2020-04-26\", \"2020-05-03\", \"2020-05-10\", \"2020-05-17\", \"2020-05-24\", \"2020-05-31\", \"2020-06-07\", \"2020-06-14\", \"2020-06-21\", \"2020-06-28\"], \"xaxis\": \"x\", \"y\": [0, 1, 2, 4, 1, 0, 0, 0, 0, 0, 1, 0, 0, 0, 0, 1, 2, 0], \"yaxis\": \"y\"}, {\"hoverlabel\": {\"namelength\": 0}, \"hovertemplate\": \"County=Clallam County<br>WeekStartDate=%{x}<br>Age 80+=%{y}\", \"legendgroup\": \"Clallam County\", \"marker\": {\"color\": \"#FFA15A\", \"symbol\": \"circle\"}, \"mode\": \"markers\", \"name\": \"Clallam County\", \"showlegend\": true, \"type\": \"scatter\", \"x\": [\"2020-03-01\", \"2020-03-08\", \"2020-03-15\", \"2020-03-29\", \"2020-04-05\", \"2020-04-19\", \"2020-04-26\", \"2020-05-10\", \"2020-05-17\", \"2020-05-24\", \"2020-05-31\", \"2020-06-07\", \"2020-06-14\", \"2020-06-21\", \"2020-06-28\"], \"xaxis\": \"x\", \"y\": [0, 0, 0, 0, 0, 1, 0, 0, 0, 1, 0, 0, 0, 0, 0], \"yaxis\": \"y\"}, {\"hoverlabel\": {\"namelength\": 0}, \"hovertemplate\": \"County=Clark County<br>WeekStartDate=%{x}<br>Age 80+=%{y}\", \"legendgroup\": \"Clark County\", \"marker\": {\"color\": \"#19d3f3\", \"symbol\": \"circle\"}, \"mode\": \"markers\", \"name\": \"Clark County\", \"showlegend\": true, \"type\": \"scatter\", \"x\": [\"2020-02-23\", \"2020-03-01\", \"2020-03-08\", \"2020-03-15\", \"2020-03-22\", \"2020-03-29\", \"2020-04-05\", \"2020-04-12\", \"2020-04-19\", \"2020-04-26\", \"2020-05-03\", \"2020-05-10\", \"2020-05-17\", \"2020-05-24\", \"2020-05-31\", \"2020-06-07\", \"2020-06-14\", \"2020-06-21\", \"2020-06-28\"], \"xaxis\": \"x\", \"y\": [1, 3, 0, 4, 2, 3, 8, 9, 8, 1, 0, 0, 0, 1, 1, 1, 1, 1, 0], \"yaxis\": \"y\"}, {\"hoverlabel\": {\"namelength\": 0}, \"hovertemplate\": \"County=Columbia County<br>WeekStartDate=%{x}<br>Age 80+=%{y}\", \"legendgroup\": \"Columbia County\", \"marker\": {\"color\": \"#FF6692\", \"symbol\": \"circle\"}, \"mode\": \"markers\", \"name\": \"Columbia County\", \"showlegend\": true, \"type\": \"scatter\", \"x\": [\"2020-03-01\", \"2020-06-07\", \"2020-06-14\"], \"xaxis\": \"x\", \"y\": [0, 0, 0], \"yaxis\": \"y\"}, {\"hoverlabel\": {\"namelength\": 0}, \"hovertemplate\": \"County=Cowlitz County<br>WeekStartDate=%{x}<br>Age 80+=%{y}\", \"legendgroup\": \"Cowlitz County\", \"marker\": {\"color\": \"#B6E880\", \"symbol\": \"circle\"}, \"mode\": \"markers\", \"name\": \"Cowlitz County\", \"showlegend\": true, \"type\": \"scatter\", \"x\": [\"2020-02-23\", \"2020-03-01\", \"2020-03-08\", \"2020-03-15\", \"2020-03-22\", \"2020-03-29\", \"2020-04-05\", \"2020-04-12\", \"2020-04-19\", \"2020-04-26\", \"2020-05-03\", \"2020-05-10\", \"2020-05-17\", \"2020-05-24\", \"2020-05-31\", \"2020-06-07\", \"2020-06-14\", \"2020-06-21\", \"2020-06-28\"], \"xaxis\": \"x\", \"y\": [0, 0, 0, 1, 0, 0, 0, 0, 0, 0, 0, 0, 0, 0, 1, 0, 1, 0, 1], \"yaxis\": \"y\"}, {\"hoverlabel\": {\"namelength\": 0}, \"hovertemplate\": \"County=Douglas County<br>WeekStartDate=%{x}<br>Age 80+=%{y}\", \"legendgroup\": \"Douglas County\", \"marker\": {\"color\": \"#FF97FF\", \"symbol\": \"circle\"}, \"mode\": \"markers\", \"name\": \"Douglas County\", \"showlegend\": true, \"type\": \"scatter\", \"x\": [\"2020-03-01\", \"2020-03-08\", \"2020-03-15\", \"2020-03-22\", \"2020-03-29\", \"2020-04-05\", \"2020-04-12\", \"2020-04-19\", \"2020-04-26\", \"2020-05-03\", \"2020-05-10\", \"2020-05-17\", \"2020-05-24\", \"2020-05-31\", \"2020-06-07\", \"2020-06-14\", \"2020-06-21\", \"2020-06-28\"], \"xaxis\": \"x\", \"y\": [0, 1, 0, 2, 0, 1, 1, 0, 2, 0, 0, 0, 0, 0, 0, 0, 0, 1], \"yaxis\": \"y\"}, {\"hoverlabel\": {\"namelength\": 0}, \"hovertemplate\": \"County=Franklin County<br>WeekStartDate=%{x}<br>Age 80+=%{y}\", \"legendgroup\": \"Franklin County\", \"marker\": {\"color\": \"#FECB52\", \"symbol\": \"circle\"}, \"mode\": \"markers\", \"name\": \"Franklin County\", \"showlegend\": true, \"type\": \"scatter\", \"x\": [\"2020-02-09\", \"2020-02-23\", \"2020-03-01\", \"2020-03-08\", \"2020-03-15\", \"2020-03-22\", \"2020-03-29\", \"2020-04-05\", \"2020-04-12\", \"2020-04-19\", \"2020-04-26\", \"2020-05-03\", \"2020-05-10\", \"2020-05-17\", \"2020-05-24\", \"2020-05-31\", \"2020-06-07\", \"2020-06-14\", \"2020-06-21\", \"2020-06-28\"], \"xaxis\": \"x\", \"y\": [0, 0, 0, 0, 1, 0, 2, 2, 7, 5, 1, 3, 3, 0, 1, 3, 2, 2, 2, 5], \"yaxis\": \"y\"}, {\"hoverlabel\": {\"namelength\": 0}, \"hovertemplate\": \"County=Grant County<br>WeekStartDate=%{x}<br>Age 80+=%{y}\", \"legendgroup\": \"Grant County\", \"marker\": {\"color\": \"#636efa\", \"symbol\": \"circle\"}, \"mode\": \"markers\", \"name\": \"Grant County\", \"showlegend\": true, \"type\": \"scatter\", \"x\": [\"2020-02-16\", \"2020-02-23\", \"2020-03-01\", \"2020-03-08\", \"2020-03-15\", \"2020-03-22\", \"2020-03-29\", \"2020-04-05\", \"2020-04-12\", \"2020-04-19\", \"2020-04-26\", \"2020-05-03\", \"2020-05-10\", \"2020-05-17\", \"2020-05-24\", \"2020-05-31\", \"2020-06-07\", \"2020-06-14\", \"2020-06-21\", \"2020-06-28\"], \"xaxis\": \"x\", \"y\": [0, 1, 0, 0, 0, 0, 0, 0, 0, 0, 0, 0, 0, 0, 2, 0, 2, 4, 1, 1], \"yaxis\": \"y\"}, {\"hoverlabel\": {\"namelength\": 0}, \"hovertemplate\": \"County=Grays Harbor County<br>WeekStartDate=%{x}<br>Age 80+=%{y}\", \"legendgroup\": \"Grays Harbor County\", \"marker\": {\"color\": \"#EF553B\", \"symbol\": \"circle\"}, \"mode\": \"markers\", \"name\": \"Grays Harbor County\", \"showlegend\": true, \"type\": \"scatter\", \"x\": [\"2020-02-16\", \"2020-02-23\", \"2020-03-01\", \"2020-03-15\", \"2020-03-22\", \"2020-03-29\", \"2020-04-05\", \"2020-04-26\", \"2020-05-03\", \"2020-05-17\", \"2020-05-24\", \"2020-05-31\", \"2020-06-07\", \"2020-06-14\", \"2020-06-21\", \"2020-06-28\"], \"xaxis\": \"x\", \"y\": [0, 0, 0, 0, 0, 0, 0, 1, 0, 0, 0, 0, 0, 0, 0, 0], \"yaxis\": \"y\"}, {\"hoverlabel\": {\"namelength\": 0}, \"hovertemplate\": \"County=Island County<br>WeekStartDate=%{x}<br>Age 80+=%{y}\", \"legendgroup\": \"Island County\", \"marker\": {\"color\": \"#00cc96\", \"symbol\": \"circle\"}, \"mode\": \"markers\", \"name\": \"Island County\", \"showlegend\": true, \"type\": \"scatter\", \"x\": [\"2020-02-23\", \"2020-03-01\", \"2020-03-08\", \"2020-03-15\", \"2020-03-22\", \"2020-03-29\", \"2020-04-05\", \"2020-04-12\", \"2020-04-19\", \"2020-04-26\", \"2020-05-03\", \"2020-05-10\", \"2020-05-24\", \"2020-06-07\", \"2020-06-14\", \"2020-06-21\", \"2020-06-28\"], \"xaxis\": \"x\", \"y\": [0, 0, 2, 4, 24, 4, 0, 0, 3, 0, 0, 0, 0, 0, 0, 0, 0], \"yaxis\": \"y\"}, {\"hoverlabel\": {\"namelength\": 0}, \"hovertemplate\": \"County=Jefferson County<br>WeekStartDate=%{x}<br>Age 80+=%{y}\", \"legendgroup\": \"Jefferson County\", \"marker\": {\"color\": \"#ab63fa\", \"symbol\": \"circle\"}, \"mode\": \"markers\", \"name\": \"Jefferson County\", \"showlegend\": true, \"type\": \"scatter\", \"x\": [\"2020-02-23\", \"2020-03-01\", \"2020-03-08\", \"2020-03-15\", \"2020-03-22\", \"2020-03-29\", \"2020-05-31\", \"2020-06-07\", \"2020-06-14\", \"2020-06-21\", \"2020-06-28\"], \"xaxis\": \"x\", \"y\": [0, 0, 0, 1, 1, 0, 0, 0, 0, 0, 0], \"yaxis\": \"y\"}, {\"hoverlabel\": {\"namelength\": 0}, \"hovertemplate\": \"County=King County<br>WeekStartDate=%{x}<br>Age 80+=%{y}\", \"legendgroup\": \"King County\", \"marker\": {\"color\": \"#FFA15A\", \"symbol\": \"circle\"}, \"mode\": \"markers\", \"name\": \"King County\", \"showlegend\": true, \"type\": \"scatter\", \"x\": [\"2020-02-02\", \"2020-02-09\", \"2020-02-16\", \"2020-02-23\", \"2020-03-01\", \"2020-03-08\", \"2020-03-15\", \"2020-03-22\", \"2020-03-29\", \"2020-04-05\", \"2020-04-12\", \"2020-04-19\", \"2020-04-26\", \"2020-05-03\", \"2020-05-10\", \"2020-05-17\", \"2020-05-24\", \"2020-05-31\", \"2020-06-07\", \"2020-06-14\", \"2020-06-21\", \"2020-06-28\"], \"xaxis\": \"x\", \"y\": [0, 0, 6, 20, 49, 108, 91, 130, 99, 88, 63, 43, 49, 37, 21, 22, 22, 7, 25, 20, 15, 7], \"yaxis\": \"y\"}, {\"hoverlabel\": {\"namelength\": 0}, \"hovertemplate\": \"County=Kitsap County<br>WeekStartDate=%{x}<br>Age 80+=%{y}\", \"legendgroup\": \"Kitsap County\", \"marker\": {\"color\": \"#19d3f3\", \"symbol\": \"circle\"}, \"mode\": \"markers\", \"name\": \"Kitsap County\", \"showlegend\": true, \"type\": \"scatter\", \"x\": [\"2020-02-16\", \"2020-02-23\", \"2020-03-01\", \"2020-03-08\", \"2020-03-15\", \"2020-03-22\", \"2020-03-29\", \"2020-04-05\", \"2020-04-12\", \"2020-04-19\", \"2020-04-26\", \"2020-05-03\", \"2020-05-10\", \"2020-05-24\", \"2020-05-31\", \"2020-06-07\", \"2020-06-14\", \"2020-06-21\", \"2020-06-28\"], \"xaxis\": \"x\", \"y\": [0, 0, 0, 0, 1, 2, 2, 0, 1, 0, 0, 0, 0, 0, 0, 1, 1, 2, 0], \"yaxis\": \"y\"}, {\"hoverlabel\": {\"namelength\": 0}, \"hovertemplate\": \"County=Kittitas County<br>WeekStartDate=%{x}<br>Age 80+=%{y}\", \"legendgroup\": \"Kittitas County\", \"marker\": {\"color\": \"#FF6692\", \"symbol\": \"circle\"}, \"mode\": \"markers\", \"name\": \"Kittitas County\", \"showlegend\": true, \"type\": \"scatter\", \"x\": [\"2020-01-26\", \"2020-02-16\", \"2020-03-08\", \"2020-03-15\", \"2020-03-22\", \"2020-03-29\", \"2020-04-05\", \"2020-04-19\", \"2020-04-26\", \"2020-05-03\", \"2020-05-10\", \"2020-05-17\", \"2020-05-24\", \"2020-05-31\", \"2020-06-07\", \"2020-06-14\", \"2020-06-21\", \"2020-06-28\"], \"xaxis\": \"x\", \"y\": [0, 0, 0, 0, 0, 0, 0, 0, 0, 0, 0, 0, 0, 0, 0, 0, 1, 0], \"yaxis\": \"y\"}, {\"hoverlabel\": {\"namelength\": 0}, \"hovertemplate\": \"County=Klickitat County<br>WeekStartDate=%{x}<br>Age 80+=%{y}\", \"legendgroup\": \"Klickitat County\", \"marker\": {\"color\": \"#B6E880\", \"symbol\": \"circle\"}, \"mode\": \"markers\", \"name\": \"Klickitat County\", \"showlegend\": true, \"type\": \"scatter\", \"x\": [\"2020-03-01\", \"2020-03-15\", \"2020-03-22\", \"2020-03-29\", \"2020-04-05\", \"2020-04-19\", \"2020-04-26\", \"2020-05-03\", \"2020-05-10\", \"2020-05-17\", \"2020-05-24\", \"2020-05-31\", \"2020-06-07\", \"2020-06-14\", \"2020-06-21\", \"2020-06-28\"], \"xaxis\": \"x\", \"y\": [0, 0, 1, 0, 2, 0, 0, 0, 0, 0, 0, 0, 0, 0, 0, 1], \"yaxis\": \"y\"}, {\"hoverlabel\": {\"namelength\": 0}, \"hovertemplate\": \"County=Lewis County<br>WeekStartDate=%{x}<br>Age 80+=%{y}\", \"legendgroup\": \"Lewis County\", \"marker\": {\"color\": \"#FF97FF\", \"symbol\": \"circle\"}, \"mode\": \"markers\", \"name\": \"Lewis County\", \"showlegend\": true, \"type\": \"scatter\", \"x\": [\"2020-03-08\", \"2020-03-15\", \"2020-03-22\", \"2020-03-29\", \"2020-04-05\", \"2020-04-12\", \"2020-04-19\", \"2020-04-26\", \"2020-05-03\", \"2020-05-10\", \"2020-05-24\", \"2020-06-07\", \"2020-06-14\", \"2020-06-21\", \"2020-06-28\"], \"xaxis\": \"x\", \"y\": [1, 2, 1, 0, 0, 0, 0, 0, 0, 0, 0, 1, 0, 0, 0], \"yaxis\": \"y\"}, {\"hoverlabel\": {\"namelength\": 0}, \"hovertemplate\": \"County=Mason County<br>WeekStartDate=%{x}<br>Age 80+=%{y}\", \"legendgroup\": \"Mason County\", \"marker\": {\"color\": \"#FECB52\", \"symbol\": \"circle\"}, \"mode\": \"markers\", \"name\": \"Mason County\", \"showlegend\": true, \"type\": \"scatter\", \"x\": [\"2020-03-01\", \"2020-03-08\", \"2020-03-15\", \"2020-03-22\", \"2020-03-29\", \"2020-04-12\", \"2020-04-19\", \"2020-04-26\", \"2020-05-03\", \"2020-05-10\", \"2020-05-17\", \"2020-05-24\", \"2020-05-31\", \"2020-06-07\", \"2020-06-14\", \"2020-06-21\", \"2020-06-28\"], \"xaxis\": \"x\", \"y\": [0, 0, 1, 0, 0, 0, 0, 1, 0, 0, 0, 0, 0, 0, 0, 0, 0], \"yaxis\": \"y\"}, {\"hoverlabel\": {\"namelength\": 0}, \"hovertemplate\": \"County=Okanogan County<br>WeekStartDate=%{x}<br>Age 80+=%{y}\", \"legendgroup\": \"Okanogan County\", \"marker\": {\"color\": \"#636efa\", \"symbol\": \"circle\"}, \"mode\": \"markers\", \"name\": \"Okanogan County\", \"showlegend\": true, \"type\": \"scatter\", \"x\": [\"2020-03-08\", \"2020-03-15\", \"2020-03-22\", \"2020-03-29\", \"2020-04-05\", \"2020-04-12\", \"2020-04-19\", \"2020-04-26\", \"2020-05-03\", \"2020-05-10\", \"2020-05-17\", \"2020-05-24\", \"2020-05-31\", \"2020-06-07\", \"2020-06-14\", \"2020-06-21\", \"2020-06-28\"], \"xaxis\": \"x\", \"y\": [0, 0, 0, 0, 0, 0, 0, 0, 0, 0, 0, 0, 0, 0, 0, 0, 0], \"yaxis\": \"y\"}, {\"hoverlabel\": {\"namelength\": 0}, \"hovertemplate\": \"County=Pacific County<br>WeekStartDate=%{x}<br>Age 80+=%{y}\", \"legendgroup\": \"Pacific County\", \"marker\": {\"color\": \"#EF553B\", \"symbol\": \"circle\"}, \"mode\": \"markers\", \"name\": \"Pacific County\", \"showlegend\": true, \"type\": \"scatter\", \"x\": [\"2020-03-29\", \"2020-04-05\", \"2020-04-19\", \"2020-04-26\", \"2020-05-03\", \"2020-05-31\", \"2020-06-07\", \"2020-06-21\"], \"xaxis\": \"x\", \"y\": [0, 0, 0, 0, 0, 0, 0, 0], \"yaxis\": \"y\"}, {\"hoverlabel\": {\"namelength\": 0}, \"hovertemplate\": \"County=Pend Oreille County<br>WeekStartDate=%{x}<br>Age 80+=%{y}\", \"legendgroup\": \"Pend Oreille County\", \"marker\": {\"color\": \"#00cc96\", \"symbol\": \"circle\"}, \"mode\": \"markers\", \"name\": \"Pend Oreille County\", \"showlegend\": true, \"type\": \"scatter\", \"x\": [\"2020-03-15\", \"2020-04-05\", \"2020-05-17\", \"2020-06-21\", \"2020-06-28\"], \"xaxis\": \"x\", \"y\": [1, 0, 0, 0, 0], \"yaxis\": \"y\"}, {\"hoverlabel\": {\"namelength\": 0}, \"hovertemplate\": \"County=Pierce County<br>WeekStartDate=%{x}<br>Age 80+=%{y}\", \"legendgroup\": \"Pierce County\", \"marker\": {\"color\": \"#ab63fa\", \"symbol\": \"circle\"}, \"mode\": \"markers\", \"name\": \"Pierce County\", \"showlegend\": true, \"type\": \"scatter\", \"x\": [\"2020-02-16\", \"2020-02-23\", \"2020-03-01\", \"2020-03-08\", \"2020-03-15\", \"2020-03-22\", \"2020-03-29\", \"2020-04-05\", \"2020-04-12\", \"2020-04-19\", \"2020-04-26\", \"2020-05-03\", \"2020-05-10\", \"2020-05-17\", \"2020-05-24\", \"2020-05-31\", \"2020-06-07\", \"2020-06-14\", \"2020-06-21\", \"2020-06-28\"], \"xaxis\": \"x\", \"y\": [0, 0, 1, 7, 6, 11, 24, 13, 10, 11, 6, 11, 10, 8, 7, 4, 3, 10, 8, 8], \"yaxis\": \"y\"}, {\"hoverlabel\": {\"namelength\": 0}, \"hovertemplate\": \"County=San Juan County<br>WeekStartDate=%{x}<br>Age 80+=%{y}\", \"legendgroup\": \"San Juan County\", \"marker\": {\"color\": \"#FFA15A\", \"symbol\": \"circle\"}, \"mode\": \"markers\", \"name\": \"San Juan County\", \"showlegend\": true, \"type\": \"scatter\", \"x\": [\"2020-03-08\", \"2020-03-15\", \"2020-03-22\", \"2020-03-29\", \"2020-04-05\", \"2020-04-12\", \"2020-06-07\", \"2020-06-14\", \"2020-06-21\"], \"xaxis\": \"x\", \"y\": [0, 0, 0, 1, 0, 0, 0, 1, 0], \"yaxis\": \"y\"}, {\"hoverlabel\": {\"namelength\": 0}, \"hovertemplate\": \"County=Skagit County<br>WeekStartDate=%{x}<br>Age 80+=%{y}\", \"legendgroup\": \"Skagit County\", \"marker\": {\"color\": \"#19d3f3\", \"symbol\": \"circle\"}, \"mode\": \"markers\", \"name\": \"Skagit County\", \"showlegend\": true, \"type\": \"scatter\", \"x\": [\"2020-02-16\", \"2020-02-23\", \"2020-03-01\", \"2020-03-08\", \"2020-03-15\", \"2020-03-22\", \"2020-03-29\", \"2020-04-05\", \"2020-04-12\", \"2020-04-19\", \"2020-04-26\", \"2020-05-03\", \"2020-05-10\", \"2020-05-17\", \"2020-05-24\", \"2020-05-31\", \"2020-06-07\", \"2020-06-14\", \"2020-06-21\", \"2020-06-28\"], \"xaxis\": \"x\", \"y\": [0, 0, 1, 3, 3, 5, 8, 0, 5, 1, 0, 1, 0, 0, 0, 0, 0, 0, 0, 7], \"yaxis\": \"y\"}, {\"hoverlabel\": {\"namelength\": 0}, \"hovertemplate\": \"County=Skamania County<br>WeekStartDate=%{x}<br>Age 80+=%{y}\", \"legendgroup\": \"Skamania County\", \"marker\": {\"color\": \"#FF6692\", \"symbol\": \"circle\"}, \"mode\": \"markers\", \"name\": \"Skamania County\", \"showlegend\": true, \"type\": \"scatter\", \"x\": [\"2020-03-22\", \"2020-04-05\", \"2020-06-14\", \"2020-06-21\", \"2020-06-28\"], \"xaxis\": \"x\", \"y\": [0, 0, 0, 1, 0], \"yaxis\": \"y\"}, {\"hoverlabel\": {\"namelength\": 0}, \"hovertemplate\": \"County=Snohomish County<br>WeekStartDate=%{x}<br>Age 80+=%{y}\", \"legendgroup\": \"Snohomish County\", \"marker\": {\"color\": \"#B6E880\", \"symbol\": \"circle\"}, \"mode\": \"markers\", \"name\": \"Snohomish County\", \"showlegend\": true, \"type\": \"scatter\", \"x\": [\"2020-01-16\", \"2020-01-26\", \"2020-02-02\", \"2020-02-09\", \"2020-02-16\", \"2020-02-23\", \"2020-03-01\", \"2020-03-08\", \"2020-03-15\", \"2020-03-22\", \"2020-03-29\", \"2020-04-05\", \"2020-04-12\", \"2020-04-19\", \"2020-04-26\", \"2020-05-03\", \"2020-05-10\", \"2020-05-17\", \"2020-05-24\", \"2020-05-31\", \"2020-06-07\", \"2020-06-14\", \"2020-06-21\", \"2020-06-28\"], \"xaxis\": \"x\", \"y\": [0, 0, 2, 0, 1, 7, 22, 27, 25, 22, 34, 14, 26, 25, 29, 6, 23, 15, 0, 1, 8, 8, 2, 1], \"yaxis\": \"y\"}, {\"hoverlabel\": {\"namelength\": 0}, \"hovertemplate\": \"County=Spokane County<br>WeekStartDate=%{x}<br>Age 80+=%{y}\", \"legendgroup\": \"Spokane County\", \"marker\": {\"color\": \"#FF97FF\", \"symbol\": \"circle\"}, \"mode\": \"markers\", \"name\": \"Spokane County\", \"showlegend\": true, \"type\": \"scatter\", \"x\": [\"2020-02-16\", \"2020-02-23\", \"2020-03-01\", \"2020-03-08\", \"2020-03-15\", \"2020-03-22\", \"2020-03-29\", \"2020-04-05\", \"2020-04-12\", \"2020-04-19\", \"2020-04-26\", \"2020-05-03\", \"2020-05-10\", \"2020-05-17\", \"2020-05-24\", \"2020-05-31\", \"2020-06-07\", \"2020-06-14\", \"2020-06-21\", \"2020-06-28\"], \"xaxis\": \"x\", \"y\": [0, 1, 0, 1, 4, 6, 3, 11, 8, 5, 5, 1, 0, 4, 1, 7, 3, 4, 2, 11], \"yaxis\": \"y\"}, {\"hoverlabel\": {\"namelength\": 0}, \"hovertemplate\": \"County=Stevens County<br>WeekStartDate=%{x}<br>Age 80+=%{y}\", \"legendgroup\": \"Stevens County\", \"marker\": {\"color\": \"#FECB52\", \"symbol\": \"circle\"}, \"mode\": \"markers\", \"name\": \"Stevens County\", \"showlegend\": true, \"type\": \"scatter\", \"x\": [\"2020-03-01\", \"2020-03-08\", \"2020-03-15\", \"2020-03-22\", \"2020-03-29\", \"2020-04-12\", \"2020-05-10\", \"2020-05-17\", \"2020-05-24\", \"2020-06-07\", \"2020-06-21\", \"2020-06-28\"], \"xaxis\": \"x\", \"y\": [0, 0, 0, 0, 0, 0, 0, 0, 0, 0, 0, 0], \"yaxis\": \"y\"}, {\"hoverlabel\": {\"namelength\": 0}, \"hovertemplate\": \"County=Thurston County<br>WeekStartDate=%{x}<br>Age 80+=%{y}\", \"legendgroup\": \"Thurston County\", \"marker\": {\"color\": \"#636efa\", \"symbol\": \"circle\"}, \"mode\": \"markers\", \"name\": \"Thurston County\", \"showlegend\": true, \"type\": \"scatter\", \"x\": [\"2020-02-23\", \"2020-03-01\", \"2020-03-08\", \"2020-03-15\", \"2020-03-22\", \"2020-03-29\", \"2020-04-05\", \"2020-04-12\", \"2020-04-19\", \"2020-04-26\", \"2020-05-03\", \"2020-05-10\", \"2020-05-17\", \"2020-05-24\", \"2020-05-31\", \"2020-06-07\", \"2020-06-14\", \"2020-06-21\", \"2020-06-28\"], \"xaxis\": \"x\", \"y\": [0, 0, 1, 0, 1, 0, 0, 0, 1, 0, 1, 0, 0, 6, 6, 4, 0, 0, 0], \"yaxis\": \"y\"}, {\"hoverlabel\": {\"namelength\": 0}, \"hovertemplate\": \"County=Wahkiakum County<br>WeekStartDate=%{x}<br>Age 80+=%{y}\", \"legendgroup\": \"Wahkiakum County\", \"marker\": {\"color\": \"#EF553B\", \"symbol\": \"circle\"}, \"mode\": \"markers\", \"name\": \"Wahkiakum County\", \"showlegend\": true, \"type\": \"scatter\", \"x\": [\"2020-03-15\", \"2020-03-22\", \"2020-05-03\", \"2020-06-14\"], \"xaxis\": \"x\", \"y\": [0, 0, 0, 0], \"yaxis\": \"y\"}, {\"hoverlabel\": {\"namelength\": 0}, \"hovertemplate\": \"County=Walla Walla County<br>WeekStartDate=%{x}<br>Age 80+=%{y}\", \"legendgroup\": \"Walla Walla County\", \"marker\": {\"color\": \"#00cc96\", \"symbol\": \"circle\"}, \"mode\": \"markers\", \"name\": \"Walla Walla County\", \"showlegend\": true, \"type\": \"scatter\", \"x\": [\"2020-03-08\", \"2020-03-15\", \"2020-03-22\", \"2020-03-29\", \"2020-04-05\", \"2020-04-12\", \"2020-04-19\", \"2020-04-26\", \"2020-05-03\", \"2020-05-10\", \"2020-05-17\", \"2020-05-24\", \"2020-05-31\", \"2020-06-07\", \"2020-06-14\", \"2020-06-21\", \"2020-06-28\"], \"xaxis\": \"x\", \"y\": [0, 0, 0, 0, 0, 0, 1, 0, 2, 3, 0, 0, 0, 0, 0, 1, 0], \"yaxis\": \"y\"}, {\"hoverlabel\": {\"namelength\": 0}, \"hovertemplate\": \"County=Whatcom County<br>WeekStartDate=%{x}<br>Age 80+=%{y}\", \"legendgroup\": \"Whatcom County\", \"marker\": {\"color\": \"#ab63fa\", \"symbol\": \"circle\"}, \"mode\": \"markers\", \"name\": \"Whatcom County\", \"showlegend\": true, \"type\": \"scatter\", \"x\": [\"2020-02-16\", \"2020-02-23\", \"2020-03-01\", \"2020-03-08\", \"2020-03-15\", \"2020-03-22\", \"2020-03-29\", \"2020-04-05\", \"2020-04-12\", \"2020-04-19\", \"2020-04-26\", \"2020-05-03\", \"2020-05-10\", \"2020-05-17\", \"2020-05-24\", \"2020-05-31\", \"2020-06-07\", \"2020-06-14\", \"2020-06-21\", \"2020-06-28\"], \"xaxis\": \"x\", \"y\": [0, 0, 1, 5, 17, 16, 20, 5, 3, 0, 2, 4, 0, 1, 0, 1, 1, 2, 0, 0], \"yaxis\": \"y\"}, {\"hoverlabel\": {\"namelength\": 0}, \"hovertemplate\": \"County=Whitman County<br>WeekStartDate=%{x}<br>Age 80+=%{y}\", \"legendgroup\": \"Whitman County\", \"marker\": {\"color\": \"#FFA15A\", \"symbol\": \"circle\"}, \"mode\": \"markers\", \"name\": \"Whitman County\", \"showlegend\": true, \"type\": \"scatter\", \"x\": [\"2020-03-08\", \"2020-03-15\", \"2020-03-22\", \"2020-03-29\", \"2020-04-12\", \"2020-04-19\", \"2020-05-10\", \"2020-05-17\", \"2020-05-31\", \"2020-06-07\", \"2020-06-14\", \"2020-06-21\", \"2020-06-28\"], \"xaxis\": \"x\", \"y\": [0, 0, 0, 0, 1, 0, 0, 0, 0, 0, 0, 0, 0], \"yaxis\": \"y\"}, {\"hoverlabel\": {\"namelength\": 0}, \"hovertemplate\": \"County=Yakima County<br>WeekStartDate=%{x}<br>Age 80+=%{y}\", \"legendgroup\": \"Yakima County\", \"marker\": {\"color\": \"#19d3f3\", \"symbol\": \"circle\"}, \"mode\": \"markers\", \"name\": \"Yakima County\", \"showlegend\": true, \"type\": \"scatter\", \"x\": [\"2020-01-16\", \"2020-02-09\", \"2020-02-16\", \"2020-03-01\", \"2020-03-08\", \"2020-03-15\", \"2020-03-22\", \"2020-03-29\", \"2020-04-05\", \"2020-04-12\", \"2020-04-19\", \"2020-04-26\", \"2020-05-03\", \"2020-05-10\", \"2020-05-17\", \"2020-05-24\", \"2020-05-31\", \"2020-06-07\", \"2020-06-14\", \"2020-06-21\", \"2020-06-28\"], \"xaxis\": \"x\", \"y\": [0, 0, 0, 1, 0, 4, 21, 20, 14, 14, 16, 33, 34, 14, 10, 7, 15, 40, 21, 40, 23], \"yaxis\": \"y\"}, {\"hoverlabel\": {\"namelength\": 0}, \"hovertemplate\": \"County=Unassigned<br>WeekStartDate=%{x}<br>Age 80+=%{y}\", \"legendgroup\": \"Unassigned\", \"marker\": {\"color\": \"#FF6692\", \"symbol\": \"circle\"}, \"mode\": \"markers\", \"name\": \"Unassigned\", \"showlegend\": true, \"type\": \"scatter\", \"x\": [\"2020-04-12\", \"2020-04-19\", \"2020-05-10\", \"2020-05-17\", \"2020-05-24\", \"2020-05-31\", \"2020-06-07\", \"2020-06-14\", \"2020-06-21\", \"2020-06-28\"], \"xaxis\": \"x\", \"y\": [0, 0, 0, 0, 0, 0, 0, 0, 0, 2], \"yaxis\": \"y\"}],\n",
       "                        {\"legend\": {\"title\": {\"text\": \"County\"}, \"tracegroupgap\": 0}, \"margin\": {\"t\": 60}, \"template\": {\"data\": {\"bar\": [{\"error_x\": {\"color\": \"#2a3f5f\"}, \"error_y\": {\"color\": \"#2a3f5f\"}, \"marker\": {\"line\": {\"color\": \"#E5ECF6\", \"width\": 0.5}}, \"type\": \"bar\"}], \"barpolar\": [{\"marker\": {\"line\": {\"color\": \"#E5ECF6\", \"width\": 0.5}}, \"type\": \"barpolar\"}], \"carpet\": [{\"aaxis\": {\"endlinecolor\": \"#2a3f5f\", \"gridcolor\": \"white\", \"linecolor\": \"white\", \"minorgridcolor\": \"white\", \"startlinecolor\": \"#2a3f5f\"}, \"baxis\": {\"endlinecolor\": \"#2a3f5f\", \"gridcolor\": \"white\", \"linecolor\": \"white\", \"minorgridcolor\": \"white\", \"startlinecolor\": \"#2a3f5f\"}, \"type\": \"carpet\"}], \"choropleth\": [{\"colorbar\": {\"outlinewidth\": 0, \"ticks\": \"\"}, \"type\": \"choropleth\"}], \"contour\": [{\"colorbar\": {\"outlinewidth\": 0, \"ticks\": \"\"}, \"colorscale\": [[0.0, \"#0d0887\"], [0.1111111111111111, \"#46039f\"], [0.2222222222222222, \"#7201a8\"], [0.3333333333333333, \"#9c179e\"], [0.4444444444444444, \"#bd3786\"], [0.5555555555555556, \"#d8576b\"], [0.6666666666666666, \"#ed7953\"], [0.7777777777777778, \"#fb9f3a\"], [0.8888888888888888, \"#fdca26\"], [1.0, \"#f0f921\"]], \"type\": \"contour\"}], \"contourcarpet\": [{\"colorbar\": {\"outlinewidth\": 0, \"ticks\": \"\"}, \"type\": \"contourcarpet\"}], \"heatmap\": [{\"colorbar\": {\"outlinewidth\": 0, \"ticks\": \"\"}, \"colorscale\": [[0.0, \"#0d0887\"], [0.1111111111111111, \"#46039f\"], [0.2222222222222222, \"#7201a8\"], [0.3333333333333333, \"#9c179e\"], [0.4444444444444444, \"#bd3786\"], [0.5555555555555556, \"#d8576b\"], [0.6666666666666666, \"#ed7953\"], [0.7777777777777778, \"#fb9f3a\"], [0.8888888888888888, \"#fdca26\"], [1.0, \"#f0f921\"]], \"type\": \"heatmap\"}], \"heatmapgl\": [{\"colorbar\": {\"outlinewidth\": 0, \"ticks\": \"\"}, \"colorscale\": [[0.0, \"#0d0887\"], [0.1111111111111111, \"#46039f\"], [0.2222222222222222, \"#7201a8\"], [0.3333333333333333, \"#9c179e\"], [0.4444444444444444, \"#bd3786\"], [0.5555555555555556, \"#d8576b\"], [0.6666666666666666, \"#ed7953\"], [0.7777777777777778, \"#fb9f3a\"], [0.8888888888888888, \"#fdca26\"], [1.0, \"#f0f921\"]], \"type\": \"heatmapgl\"}], \"histogram\": [{\"marker\": {\"colorbar\": {\"outlinewidth\": 0, \"ticks\": \"\"}}, \"type\": \"histogram\"}], \"histogram2d\": [{\"colorbar\": {\"outlinewidth\": 0, \"ticks\": \"\"}, \"colorscale\": [[0.0, \"#0d0887\"], [0.1111111111111111, \"#46039f\"], [0.2222222222222222, \"#7201a8\"], [0.3333333333333333, \"#9c179e\"], [0.4444444444444444, \"#bd3786\"], [0.5555555555555556, \"#d8576b\"], [0.6666666666666666, \"#ed7953\"], [0.7777777777777778, \"#fb9f3a\"], [0.8888888888888888, \"#fdca26\"], [1.0, \"#f0f921\"]], \"type\": \"histogram2d\"}], \"histogram2dcontour\": [{\"colorbar\": {\"outlinewidth\": 0, \"ticks\": \"\"}, \"colorscale\": [[0.0, \"#0d0887\"], [0.1111111111111111, \"#46039f\"], [0.2222222222222222, \"#7201a8\"], [0.3333333333333333, \"#9c179e\"], [0.4444444444444444, \"#bd3786\"], [0.5555555555555556, \"#d8576b\"], [0.6666666666666666, \"#ed7953\"], [0.7777777777777778, \"#fb9f3a\"], [0.8888888888888888, \"#fdca26\"], [1.0, \"#f0f921\"]], \"type\": \"histogram2dcontour\"}], \"mesh3d\": [{\"colorbar\": {\"outlinewidth\": 0, \"ticks\": \"\"}, \"type\": \"mesh3d\"}], \"parcoords\": [{\"line\": {\"colorbar\": {\"outlinewidth\": 0, \"ticks\": \"\"}}, \"type\": \"parcoords\"}], \"pie\": [{\"automargin\": true, \"type\": \"pie\"}], \"scatter\": [{\"marker\": {\"colorbar\": {\"outlinewidth\": 0, \"ticks\": \"\"}}, \"type\": \"scatter\"}], \"scatter3d\": [{\"line\": {\"colorbar\": {\"outlinewidth\": 0, \"ticks\": \"\"}}, \"marker\": {\"colorbar\": {\"outlinewidth\": 0, \"ticks\": \"\"}}, \"type\": \"scatter3d\"}], \"scattercarpet\": [{\"marker\": {\"colorbar\": {\"outlinewidth\": 0, \"ticks\": \"\"}}, \"type\": \"scattercarpet\"}], \"scattergeo\": [{\"marker\": {\"colorbar\": {\"outlinewidth\": 0, \"ticks\": \"\"}}, \"type\": \"scattergeo\"}], \"scattergl\": [{\"marker\": {\"colorbar\": {\"outlinewidth\": 0, \"ticks\": \"\"}}, \"type\": \"scattergl\"}], \"scattermapbox\": [{\"marker\": {\"colorbar\": {\"outlinewidth\": 0, \"ticks\": \"\"}}, \"type\": \"scattermapbox\"}], \"scatterpolar\": [{\"marker\": {\"colorbar\": {\"outlinewidth\": 0, \"ticks\": \"\"}}, \"type\": \"scatterpolar\"}], \"scatterpolargl\": [{\"marker\": {\"colorbar\": {\"outlinewidth\": 0, \"ticks\": \"\"}}, \"type\": \"scatterpolargl\"}], \"scatterternary\": [{\"marker\": {\"colorbar\": {\"outlinewidth\": 0, \"ticks\": \"\"}}, \"type\": \"scatterternary\"}], \"surface\": [{\"colorbar\": {\"outlinewidth\": 0, \"ticks\": \"\"}, \"colorscale\": [[0.0, \"#0d0887\"], [0.1111111111111111, \"#46039f\"], [0.2222222222222222, \"#7201a8\"], [0.3333333333333333, \"#9c179e\"], [0.4444444444444444, \"#bd3786\"], [0.5555555555555556, \"#d8576b\"], [0.6666666666666666, \"#ed7953\"], [0.7777777777777778, \"#fb9f3a\"], [0.8888888888888888, \"#fdca26\"], [1.0, \"#f0f921\"]], \"type\": \"surface\"}], \"table\": [{\"cells\": {\"fill\": {\"color\": \"#EBF0F8\"}, \"line\": {\"color\": \"white\"}}, \"header\": {\"fill\": {\"color\": \"#C8D4E3\"}, \"line\": {\"color\": \"white\"}}, \"type\": \"table\"}]}, \"layout\": {\"annotationdefaults\": {\"arrowcolor\": \"#2a3f5f\", \"arrowhead\": 0, \"arrowwidth\": 1}, \"coloraxis\": {\"colorbar\": {\"outlinewidth\": 0, \"ticks\": \"\"}}, \"colorscale\": {\"diverging\": [[0, \"#8e0152\"], [0.1, \"#c51b7d\"], [0.2, \"#de77ae\"], [0.3, \"#f1b6da\"], [0.4, \"#fde0ef\"], [0.5, \"#f7f7f7\"], [0.6, \"#e6f5d0\"], [0.7, \"#b8e186\"], [0.8, \"#7fbc41\"], [0.9, \"#4d9221\"], [1, \"#276419\"]], \"sequential\": [[0.0, \"#0d0887\"], [0.1111111111111111, \"#46039f\"], [0.2222222222222222, \"#7201a8\"], [0.3333333333333333, \"#9c179e\"], [0.4444444444444444, \"#bd3786\"], [0.5555555555555556, \"#d8576b\"], [0.6666666666666666, \"#ed7953\"], [0.7777777777777778, \"#fb9f3a\"], [0.8888888888888888, \"#fdca26\"], [1.0, \"#f0f921\"]], \"sequentialminus\": [[0.0, \"#0d0887\"], [0.1111111111111111, \"#46039f\"], [0.2222222222222222, \"#7201a8\"], [0.3333333333333333, \"#9c179e\"], [0.4444444444444444, \"#bd3786\"], [0.5555555555555556, \"#d8576b\"], [0.6666666666666666, \"#ed7953\"], [0.7777777777777778, \"#fb9f3a\"], [0.8888888888888888, \"#fdca26\"], [1.0, \"#f0f921\"]]}, \"colorway\": [\"#636efa\", \"#EF553B\", \"#00cc96\", \"#ab63fa\", \"#FFA15A\", \"#19d3f3\", \"#FF6692\", \"#B6E880\", \"#FF97FF\", \"#FECB52\"], \"font\": {\"color\": \"#2a3f5f\"}, \"geo\": {\"bgcolor\": \"white\", \"lakecolor\": \"white\", \"landcolor\": \"#E5ECF6\", \"showlakes\": true, \"showland\": true, \"subunitcolor\": \"white\"}, \"hoverlabel\": {\"align\": \"left\"}, \"hovermode\": \"closest\", \"mapbox\": {\"style\": \"light\"}, \"paper_bgcolor\": \"white\", \"plot_bgcolor\": \"#E5ECF6\", \"polar\": {\"angularaxis\": {\"gridcolor\": \"white\", \"linecolor\": \"white\", \"ticks\": \"\"}, \"bgcolor\": \"#E5ECF6\", \"radialaxis\": {\"gridcolor\": \"white\", \"linecolor\": \"white\", \"ticks\": \"\"}}, \"scene\": {\"xaxis\": {\"backgroundcolor\": \"#E5ECF6\", \"gridcolor\": \"white\", \"gridwidth\": 2, \"linecolor\": \"white\", \"showbackground\": true, \"ticks\": \"\", \"zerolinecolor\": \"white\"}, \"yaxis\": {\"backgroundcolor\": \"#E5ECF6\", \"gridcolor\": \"white\", \"gridwidth\": 2, \"linecolor\": \"white\", \"showbackground\": true, \"ticks\": \"\", \"zerolinecolor\": \"white\"}, \"zaxis\": {\"backgroundcolor\": \"#E5ECF6\", \"gridcolor\": \"white\", \"gridwidth\": 2, \"linecolor\": \"white\", \"showbackground\": true, \"ticks\": \"\", \"zerolinecolor\": \"white\"}}, \"shapedefaults\": {\"line\": {\"color\": \"#2a3f5f\"}}, \"ternary\": {\"aaxis\": {\"gridcolor\": \"white\", \"linecolor\": \"white\", \"ticks\": \"\"}, \"baxis\": {\"gridcolor\": \"white\", \"linecolor\": \"white\", \"ticks\": \"\"}, \"bgcolor\": \"#E5ECF6\", \"caxis\": {\"gridcolor\": \"white\", \"linecolor\": \"white\", \"ticks\": \"\"}}, \"title\": {\"x\": 0.05}, \"xaxis\": {\"automargin\": true, \"gridcolor\": \"white\", \"linecolor\": \"white\", \"ticks\": \"\", \"title\": {\"standoff\": 15}, \"zerolinecolor\": \"white\", \"zerolinewidth\": 2}, \"yaxis\": {\"automargin\": true, \"gridcolor\": \"white\", \"linecolor\": \"white\", \"ticks\": \"\", \"title\": {\"standoff\": 15}, \"zerolinecolor\": \"white\", \"zerolinewidth\": 2}}}, \"xaxis\": {\"anchor\": \"y\", \"domain\": [0.0, 1.0], \"title\": {\"text\": \"WeekStartDate\"}}, \"yaxis\": {\"anchor\": \"x\", \"domain\": [0.0, 1.0], \"title\": {\"text\": \"Age 80+\"}}},\n",
       "                        {\"responsive\": true}\n",
       "                    ).then(function(){\n",
       "                            \n",
       "var gd = document.getElementById('3639d032-f331-4443-842c-64ae5dace248');\n",
       "var x = new MutationObserver(function (mutations, observer) {{\n",
       "        var display = window.getComputedStyle(gd).display;\n",
       "        if (!display || display === 'none') {{\n",
       "            console.log([gd, 'removed!']);\n",
       "            Plotly.purge(gd);\n",
       "            observer.disconnect();\n",
       "        }}\n",
       "}});\n",
       "\n",
       "// Listen for the removal of the full notebook cells\n",
       "var notebookContainer = gd.closest('#notebook-container');\n",
       "if (notebookContainer) {{\n",
       "    x.observe(notebookContainer, {childList: true});\n",
       "}}\n",
       "\n",
       "// Listen for the clearing of the current output cell\n",
       "var outputEl = gd.closest('.output');\n",
       "if (outputEl) {{\n",
       "    x.observe(outputEl, {childList: true});\n",
       "}}\n",
       "\n",
       "                        })\n",
       "                };\n",
       "                });\n",
       "            </script>\n",
       "        </div>"
      ]
     },
     "metadata": {},
     "output_type": "display_data"
    }
   ],
   "source": [
    "px.scatter(df, x=\"WeekStartDate\", y='Age 80+', color='County')"
   ]
  }
 ],
 "metadata": {
  "kernelspec": {
   "display_name": "Python 3",
   "language": "python",
   "name": "python3"
  },
  "language_info": {
   "codemirror_mode": {
    "name": "ipython",
    "version": 3
   },
   "file_extension": ".py",
   "mimetype": "text/x-python",
   "name": "python",
   "nbconvert_exporter": "python",
   "pygments_lexer": "ipython3",
   "version": "3.6.9"
  },
  "toc": {
   "base_numbering": 1,
   "nav_menu": {},
   "number_sections": true,
   "sideBar": true,
   "skip_h1_title": true,
   "title_cell": "Table of Contents",
   "title_sidebar": "Contents",
   "toc_cell": false,
   "toc_position": {},
   "toc_section_display": true,
   "toc_window_display": true
  },
  "varInspector": {
   "cols": {
    "lenName": 16,
    "lenType": 16,
    "lenVar": 40
   },
   "kernels_config": {
    "python": {
     "delete_cmd_postfix": "",
     "delete_cmd_prefix": "del ",
     "library": "var_list.py",
     "varRefreshCmd": "print(var_dic_list())"
    },
    "r": {
     "delete_cmd_postfix": ") ",
     "delete_cmd_prefix": "rm(",
     "library": "var_list.r",
     "varRefreshCmd": "cat(var_dic_list()) "
    }
   },
   "types_to_exclude": [
    "module",
    "function",
    "builtin_function_or_method",
    "instance",
    "_Feature"
   ],
   "window_display": false
  }
 },
 "nbformat": 4,
 "nbformat_minor": 2
}
