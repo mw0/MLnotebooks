{
 "cells": [
  {
   "cell_type": "markdown",
   "metadata": {},
   "source": [
    "# Washington State Covid-19 Cases\n",
    "\n",
    "## Purpose\n",
    "\n",
    "\n",
    "\n",
    "## Methodology\n",
    "\n",
    "Data are provided by the Washington State Department of Health as an XLSX spreadsheet.\n",
    "This is updated weekley on Sundays, so get the specific URL from the [Data Downloads](https://www.doh.wa.gov/Emergencies/Coronavirus#34225) section of the department's [2019 Novel Coronavirus Outbreak (COVID-19)](https://www.doh.wa.gov/Emergencies/Coronavirus) page.\n",
    "\n",
    "## Results\n",
    "\n",
    "## Suggested next steps\n"
   ]
  },
  {
   "cell_type": "markdown",
   "metadata": {},
   "source": [
    "# Setup\n",
    "\n",
    "**Next two lines are for pretty output of all output in each cell, not just the last.**"
   ]
  },
  {
   "cell_type": "code",
   "execution_count": 6,
   "metadata": {},
   "outputs": [],
   "source": [
    "from IPython.core.interactiveshell import InteractiveShell\n",
    "InteractiveShell.ast_node_interactivity = \"all\""
   ]
  },
  {
   "cell_type": "markdown",
   "metadata": {},
   "source": [
    "## Library import\n",
    "We import all the required Python libraries"
   ]
  },
  {
   "cell_type": "code",
   "execution_count": 13,
   "metadata": {},
   "outputs": [
    {
     "data": {
      "text/html": [
       "        <script type=\"text/javascript\">\n",
       "        window.PlotlyConfig = {MathJaxConfig: 'local'};\n",
       "        if (window.MathJax) {MathJax.Hub.Config({SVG: {font: \"STIX-Web\"}});}\n",
       "        if (typeof require !== 'undefined') {\n",
       "        require.undef(\"plotly\");\n",
       "        requirejs.config({\n",
       "            paths: {\n",
       "                'plotly': ['https://cdn.plot.ly/plotly-latest.min']\n",
       "            }\n",
       "        });\n",
       "        require(['plotly'], function(Plotly) {\n",
       "            window._Plotly = Plotly;\n",
       "        });\n",
       "        }\n",
       "        </script>\n",
       "        "
      ]
     },
     "metadata": {},
     "output_type": "display_data"
    },
    {
     "data": {
      "text/html": [
       "        <script type=\"text/javascript\">\n",
       "        window.PlotlyConfig = {MathJaxConfig: 'local'};\n",
       "        if (window.MathJax) {MathJax.Hub.Config({SVG: {font: \"STIX-Web\"}});}\n",
       "        if (typeof require !== 'undefined') {\n",
       "        require.undef(\"plotly\");\n",
       "        requirejs.config({\n",
       "            paths: {\n",
       "                'plotly': ['https://cdn.plot.ly/plotly-latest.min']\n",
       "            }\n",
       "        });\n",
       "        require(['plotly'], function(Plotly) {\n",
       "            window._Plotly = Plotly;\n",
       "        });\n",
       "        }\n",
       "        </script>\n",
       "        "
      ]
     },
     "metadata": {},
     "output_type": "display_data"
    }
   ],
   "source": [
    "# Data manipulation\n",
    "import pandas as pd\n",
    "import numpy as np\n",
    "\n",
    "# Options for pandas\n",
    "pd.options.display.max_columns = 50\n",
    "pd.options.display.max_rows = 30\n",
    "\n",
    "# Visualizations\n",
    "import plotly\n",
    "import plotly.graph_objs as go\n",
    "import plotly.offline as ply\n",
    "import plotly.express as px\n",
    "plotly.offline.init_notebook_mode(connected=True)\n",
    "\n",
    "import cufflinks as cf\n",
    "cf.go_offline(connected=True)\n",
    "cf.set_config_file(theme='white')\n",
    "\n",
    "import matplotlib as plt\n",
    "\n",
    "# Autoreload extension\n",
    "if 'autoreload' not in get_ipython().extension_manager.loaded:\n",
    "    %load_ext autoreload\n",
    "    \n",
    "%autoreload 2"
   ]
  },
  {
   "cell_type": "markdown",
   "metadata": {},
   "source": [
    "## Local library import\n",
    "We import all the required local libraries libraries"
   ]
  },
  {
   "cell_type": "code",
   "execution_count": 4,
   "metadata": {},
   "outputs": [],
   "source": [
    "# Include local library paths\n",
    "import sys\n",
    "# sys.path.append('path/to/local/lib') # uncomment and fill to import local libraries\n",
    "\n",
    "# Import local libraries"
   ]
  },
  {
   "cell_type": "markdown",
   "metadata": {},
   "source": [
    "# Parameter definition\n",
    "We set all relevant parameters for our notebook. By convention, parameters are uppercase, while all the \n",
    "other variables follow Python's guidelines."
   ]
  },
  {
   "cell_type": "markdown",
   "metadata": {},
   "source": [
    "\n",
    "# Data import\n",
    "We retrieve all the required data for the analysis."
   ]
  },
  {
   "cell_type": "code",
   "execution_count": 5,
   "metadata": {},
   "outputs": [],
   "source": [
    "df = pd.read_excel(\"https://www.doh.wa.gov/Portals/1/Documents/1600/coronavirus/data-tables/PUBLIC_CDC_Event_Date_SARS.xlsx?ver=20200610134713\")"
   ]
  },
  {
   "cell_type": "code",
   "execution_count": 11,
   "metadata": {},
   "outputs": [
    {
     "name": "stdout",
     "output_type": "stream",
     "text": [
      "<class 'pandas.core.frame.DataFrame'>\n",
      "RangeIndex: 423 entries, 0 to 422\n",
      "Data columns (total 10 columns):\n",
      " #   Column           Non-Null Count  Dtype         \n",
      "---  ------           --------------  -----         \n",
      " 0   County           423 non-null    object        \n",
      " 1   WeekStartDate    423 non-null    object        \n",
      " 2   NewPos_All       423 non-null    int64         \n",
      " 3   Age 0-19         423 non-null    int64         \n",
      " 4   Age 20-39        423 non-null    int64         \n",
      " 5   Age 40-59        423 non-null    int64         \n",
      " 6   Age 60-79        423 non-null    int64         \n",
      " 7   Age 80+          423 non-null    int64         \n",
      " 8   Positive UnkAge  423 non-null    int64         \n",
      " 9   dtm_updated      423 non-null    datetime64[ns]\n",
      "dtypes: datetime64[ns](1), int64(7), object(2)\n",
      "memory usage: 33.2+ KB\n"
     ]
    },
    {
     "data": {
      "text/html": [
       "<div>\n",
       "<style scoped>\n",
       "    .dataframe tbody tr th:only-of-type {\n",
       "        vertical-align: middle;\n",
       "    }\n",
       "\n",
       "    .dataframe tbody tr th {\n",
       "        vertical-align: top;\n",
       "    }\n",
       "\n",
       "    .dataframe thead th {\n",
       "        text-align: right;\n",
       "    }\n",
       "</style>\n",
       "<table border=\"1\" class=\"dataframe\">\n",
       "  <thead>\n",
       "    <tr style=\"text-align: right;\">\n",
       "      <th></th>\n",
       "      <th>NewPos_All</th>\n",
       "      <th>Age 0-19</th>\n",
       "      <th>Age 20-39</th>\n",
       "      <th>Age 40-59</th>\n",
       "      <th>Age 60-79</th>\n",
       "      <th>Age 80+</th>\n",
       "      <th>Positive UnkAge</th>\n",
       "    </tr>\n",
       "  </thead>\n",
       "  <tbody>\n",
       "    <tr>\n",
       "      <th>count</th>\n",
       "      <td>423.00000</td>\n",
       "      <td>423.000000</td>\n",
       "      <td>423.000000</td>\n",
       "      <td>423.000000</td>\n",
       "      <td>423.000000</td>\n",
       "      <td>423.000000</td>\n",
       "      <td>423.000000</td>\n",
       "    </tr>\n",
       "    <tr>\n",
       "      <th>mean</th>\n",
       "      <td>56.06383</td>\n",
       "      <td>3.747045</td>\n",
       "      <td>18.442080</td>\n",
       "      <td>18.550827</td>\n",
       "      <td>10.910165</td>\n",
       "      <td>4.385343</td>\n",
       "      <td>0.028369</td>\n",
       "    </tr>\n",
       "    <tr>\n",
       "      <th>std</th>\n",
       "      <td>141.69085</td>\n",
       "      <td>9.771553</td>\n",
       "      <td>47.159363</td>\n",
       "      <td>48.012801</td>\n",
       "      <td>29.764024</td>\n",
       "      <td>13.240949</td>\n",
       "      <td>0.179913</td>\n",
       "    </tr>\n",
       "    <tr>\n",
       "      <th>min</th>\n",
       "      <td>1.00000</td>\n",
       "      <td>0.000000</td>\n",
       "      <td>0.000000</td>\n",
       "      <td>0.000000</td>\n",
       "      <td>0.000000</td>\n",
       "      <td>0.000000</td>\n",
       "      <td>0.000000</td>\n",
       "    </tr>\n",
       "    <tr>\n",
       "      <th>5%</th>\n",
       "      <td>1.00000</td>\n",
       "      <td>0.000000</td>\n",
       "      <td>0.000000</td>\n",
       "      <td>0.000000</td>\n",
       "      <td>0.000000</td>\n",
       "      <td>0.000000</td>\n",
       "      <td>0.000000</td>\n",
       "    </tr>\n",
       "    <tr>\n",
       "      <th>15%</th>\n",
       "      <td>1.00000</td>\n",
       "      <td>0.000000</td>\n",
       "      <td>0.000000</td>\n",
       "      <td>0.000000</td>\n",
       "      <td>0.000000</td>\n",
       "      <td>0.000000</td>\n",
       "      <td>0.000000</td>\n",
       "    </tr>\n",
       "    <tr>\n",
       "      <th>25%</th>\n",
       "      <td>2.00000</td>\n",
       "      <td>0.000000</td>\n",
       "      <td>0.000000</td>\n",
       "      <td>1.000000</td>\n",
       "      <td>0.000000</td>\n",
       "      <td>0.000000</td>\n",
       "      <td>0.000000</td>\n",
       "    </tr>\n",
       "    <tr>\n",
       "      <th>50%</th>\n",
       "      <td>7.00000</td>\n",
       "      <td>0.000000</td>\n",
       "      <td>2.000000</td>\n",
       "      <td>2.000000</td>\n",
       "      <td>1.000000</td>\n",
       "      <td>0.000000</td>\n",
       "      <td>0.000000</td>\n",
       "    </tr>\n",
       "    <tr>\n",
       "      <th>75%</th>\n",
       "      <td>38.50000</td>\n",
       "      <td>3.000000</td>\n",
       "      <td>11.000000</td>\n",
       "      <td>12.500000</td>\n",
       "      <td>7.000000</td>\n",
       "      <td>2.000000</td>\n",
       "      <td>0.000000</td>\n",
       "    </tr>\n",
       "    <tr>\n",
       "      <th>85%</th>\n",
       "      <td>75.70000</td>\n",
       "      <td>6.000000</td>\n",
       "      <td>26.000000</td>\n",
       "      <td>24.000000</td>\n",
       "      <td>15.000000</td>\n",
       "      <td>6.700000</td>\n",
       "      <td>0.000000</td>\n",
       "    </tr>\n",
       "    <tr>\n",
       "      <th>95%</th>\n",
       "      <td>285.60000</td>\n",
       "      <td>18.900000</td>\n",
       "      <td>88.900000</td>\n",
       "      <td>96.400000</td>\n",
       "      <td>58.900000</td>\n",
       "      <td>23.800000</td>\n",
       "      <td>0.000000</td>\n",
       "    </tr>\n",
       "    <tr>\n",
       "      <th>max</th>\n",
       "      <td>1085.00000</td>\n",
       "      <td>83.000000</td>\n",
       "      <td>322.000000</td>\n",
       "      <td>398.000000</td>\n",
       "      <td>241.000000</td>\n",
       "      <td>128.000000</td>\n",
       "      <td>2.000000</td>\n",
       "    </tr>\n",
       "  </tbody>\n",
       "</table>\n",
       "</div>"
      ],
      "text/plain": [
       "       NewPos_All    Age 0-19   Age 20-39   Age 40-59   Age 60-79     Age 80+  \\\n",
       "count   423.00000  423.000000  423.000000  423.000000  423.000000  423.000000   \n",
       "mean     56.06383    3.747045   18.442080   18.550827   10.910165    4.385343   \n",
       "std     141.69085    9.771553   47.159363   48.012801   29.764024   13.240949   \n",
       "min       1.00000    0.000000    0.000000    0.000000    0.000000    0.000000   \n",
       "5%        1.00000    0.000000    0.000000    0.000000    0.000000    0.000000   \n",
       "15%       1.00000    0.000000    0.000000    0.000000    0.000000    0.000000   \n",
       "25%       2.00000    0.000000    0.000000    1.000000    0.000000    0.000000   \n",
       "50%       7.00000    0.000000    2.000000    2.000000    1.000000    0.000000   \n",
       "75%      38.50000    3.000000   11.000000   12.500000    7.000000    2.000000   \n",
       "85%      75.70000    6.000000   26.000000   24.000000   15.000000    6.700000   \n",
       "95%     285.60000   18.900000   88.900000   96.400000   58.900000   23.800000   \n",
       "max    1085.00000   83.000000  322.000000  398.000000  241.000000  128.000000   \n",
       "\n",
       "       Positive UnkAge  \n",
       "count       423.000000  \n",
       "mean          0.028369  \n",
       "std           0.179913  \n",
       "min           0.000000  \n",
       "5%            0.000000  \n",
       "15%           0.000000  \n",
       "25%           0.000000  \n",
       "50%           0.000000  \n",
       "75%           0.000000  \n",
       "85%           0.000000  \n",
       "95%           0.000000  \n",
       "max           2.000000  "
      ]
     },
     "execution_count": 11,
     "metadata": {},
     "output_type": "execute_result"
    },
    {
     "data": {
      "text/html": [
       "<div>\n",
       "<style scoped>\n",
       "    .dataframe tbody tr th:only-of-type {\n",
       "        vertical-align: middle;\n",
       "    }\n",
       "\n",
       "    .dataframe tbody tr th {\n",
       "        vertical-align: top;\n",
       "    }\n",
       "\n",
       "    .dataframe thead th {\n",
       "        text-align: right;\n",
       "    }\n",
       "</style>\n",
       "<table border=\"1\" class=\"dataframe\">\n",
       "  <thead>\n",
       "    <tr style=\"text-align: right;\">\n",
       "      <th></th>\n",
       "      <th>County</th>\n",
       "      <th>WeekStartDate</th>\n",
       "      <th>NewPos_All</th>\n",
       "      <th>Age 0-19</th>\n",
       "      <th>Age 20-39</th>\n",
       "      <th>Age 40-59</th>\n",
       "      <th>Age 60-79</th>\n",
       "      <th>Age 80+</th>\n",
       "      <th>Positive UnkAge</th>\n",
       "      <th>dtm_updated</th>\n",
       "    </tr>\n",
       "  </thead>\n",
       "  <tbody>\n",
       "    <tr>\n",
       "      <th>0</th>\n",
       "      <td>Adams County</td>\n",
       "      <td>2020-03-08</td>\n",
       "      <td>4</td>\n",
       "      <td>0</td>\n",
       "      <td>1</td>\n",
       "      <td>1</td>\n",
       "      <td>2</td>\n",
       "      <td>0</td>\n",
       "      <td>0</td>\n",
       "      <td>2020-06-07 14:32:42.117</td>\n",
       "    </tr>\n",
       "    <tr>\n",
       "      <th>1</th>\n",
       "      <td>Adams County</td>\n",
       "      <td>2020-03-15</td>\n",
       "      <td>3</td>\n",
       "      <td>0</td>\n",
       "      <td>0</td>\n",
       "      <td>3</td>\n",
       "      <td>0</td>\n",
       "      <td>0</td>\n",
       "      <td>0</td>\n",
       "      <td>2020-06-07 14:32:42.117</td>\n",
       "    </tr>\n",
       "    <tr>\n",
       "      <th>2</th>\n",
       "      <td>Adams County</td>\n",
       "      <td>2020-03-22</td>\n",
       "      <td>9</td>\n",
       "      <td>0</td>\n",
       "      <td>1</td>\n",
       "      <td>4</td>\n",
       "      <td>4</td>\n",
       "      <td>0</td>\n",
       "      <td>0</td>\n",
       "      <td>2020-06-07 14:32:42.117</td>\n",
       "    </tr>\n",
       "    <tr>\n",
       "      <th>3</th>\n",
       "      <td>Adams County</td>\n",
       "      <td>2020-03-29</td>\n",
       "      <td>17</td>\n",
       "      <td>2</td>\n",
       "      <td>8</td>\n",
       "      <td>4</td>\n",
       "      <td>3</td>\n",
       "      <td>0</td>\n",
       "      <td>0</td>\n",
       "      <td>2020-06-07 14:32:42.117</td>\n",
       "    </tr>\n",
       "    <tr>\n",
       "      <th>4</th>\n",
       "      <td>Adams County</td>\n",
       "      <td>2020-04-05</td>\n",
       "      <td>8</td>\n",
       "      <td>1</td>\n",
       "      <td>2</td>\n",
       "      <td>4</td>\n",
       "      <td>1</td>\n",
       "      <td>0</td>\n",
       "      <td>0</td>\n",
       "      <td>2020-06-07 14:32:42.117</td>\n",
       "    </tr>\n",
       "  </tbody>\n",
       "</table>\n",
       "</div>"
      ],
      "text/plain": [
       "         County WeekStartDate  NewPos_All  Age 0-19  Age 20-39  Age 40-59  \\\n",
       "0  Adams County    2020-03-08           4         0          1          1   \n",
       "1  Adams County    2020-03-15           3         0          0          3   \n",
       "2  Adams County    2020-03-22           9         0          1          4   \n",
       "3  Adams County    2020-03-29          17         2          8          4   \n",
       "4  Adams County    2020-04-05           8         1          2          4   \n",
       "\n",
       "   Age 60-79  Age 80+  Positive UnkAge             dtm_updated  \n",
       "0          2        0                0 2020-06-07 14:32:42.117  \n",
       "1          0        0                0 2020-06-07 14:32:42.117  \n",
       "2          4        0                0 2020-06-07 14:32:42.117  \n",
       "3          3        0                0 2020-06-07 14:32:42.117  \n",
       "4          1        0                0 2020-06-07 14:32:42.117  "
      ]
     },
     "execution_count": 11,
     "metadata": {},
     "output_type": "execute_result"
    },
    {
     "data": {
      "text/html": [
       "<div>\n",
       "<style scoped>\n",
       "    .dataframe tbody tr th:only-of-type {\n",
       "        vertical-align: middle;\n",
       "    }\n",
       "\n",
       "    .dataframe tbody tr th {\n",
       "        vertical-align: top;\n",
       "    }\n",
       "\n",
       "    .dataframe thead th {\n",
       "        text-align: right;\n",
       "    }\n",
       "</style>\n",
       "<table border=\"1\" class=\"dataframe\">\n",
       "  <thead>\n",
       "    <tr style=\"text-align: right;\">\n",
       "      <th></th>\n",
       "      <th>County</th>\n",
       "      <th>WeekStartDate</th>\n",
       "      <th>NewPos_All</th>\n",
       "      <th>Age 0-19</th>\n",
       "      <th>Age 20-39</th>\n",
       "      <th>Age 40-59</th>\n",
       "      <th>Age 60-79</th>\n",
       "      <th>Age 80+</th>\n",
       "      <th>Positive UnkAge</th>\n",
       "      <th>dtm_updated</th>\n",
       "    </tr>\n",
       "  </thead>\n",
       "  <tbody>\n",
       "    <tr>\n",
       "      <th>418</th>\n",
       "      <td>Unassigned</td>\n",
       "      <td>2020-04-19</td>\n",
       "      <td>1</td>\n",
       "      <td>0</td>\n",
       "      <td>0</td>\n",
       "      <td>1</td>\n",
       "      <td>0</td>\n",
       "      <td>0</td>\n",
       "      <td>0</td>\n",
       "      <td>2020-06-07 14:32:42.117</td>\n",
       "    </tr>\n",
       "    <tr>\n",
       "      <th>419</th>\n",
       "      <td>Unassigned</td>\n",
       "      <td>2020-05-10</td>\n",
       "      <td>2</td>\n",
       "      <td>0</td>\n",
       "      <td>0</td>\n",
       "      <td>2</td>\n",
       "      <td>0</td>\n",
       "      <td>0</td>\n",
       "      <td>0</td>\n",
       "      <td>2020-06-07 14:32:42.117</td>\n",
       "    </tr>\n",
       "    <tr>\n",
       "      <th>420</th>\n",
       "      <td>Unassigned</td>\n",
       "      <td>2020-05-17</td>\n",
       "      <td>7</td>\n",
       "      <td>0</td>\n",
       "      <td>3</td>\n",
       "      <td>4</td>\n",
       "      <td>0</td>\n",
       "      <td>0</td>\n",
       "      <td>0</td>\n",
       "      <td>2020-06-07 14:32:42.117</td>\n",
       "    </tr>\n",
       "    <tr>\n",
       "      <th>421</th>\n",
       "      <td>Unassigned</td>\n",
       "      <td>2020-05-24</td>\n",
       "      <td>5</td>\n",
       "      <td>0</td>\n",
       "      <td>3</td>\n",
       "      <td>2</td>\n",
       "      <td>0</td>\n",
       "      <td>0</td>\n",
       "      <td>0</td>\n",
       "      <td>2020-06-07 14:32:42.117</td>\n",
       "    </tr>\n",
       "    <tr>\n",
       "      <th>422</th>\n",
       "      <td>Unassigned</td>\n",
       "      <td>2020-05-31</td>\n",
       "      <td>17</td>\n",
       "      <td>1</td>\n",
       "      <td>8</td>\n",
       "      <td>4</td>\n",
       "      <td>2</td>\n",
       "      <td>1</td>\n",
       "      <td>1</td>\n",
       "      <td>2020-06-07 14:32:42.117</td>\n",
       "    </tr>\n",
       "  </tbody>\n",
       "</table>\n",
       "</div>"
      ],
      "text/plain": [
       "         County WeekStartDate  NewPos_All  Age 0-19  Age 20-39  Age 40-59  \\\n",
       "418  Unassigned    2020-04-19           1         0          0          1   \n",
       "419  Unassigned    2020-05-10           2         0          0          2   \n",
       "420  Unassigned    2020-05-17           7         0          3          4   \n",
       "421  Unassigned    2020-05-24           5         0          3          2   \n",
       "422  Unassigned    2020-05-31          17         1          8          4   \n",
       "\n",
       "     Age 60-79  Age 80+  Positive UnkAge             dtm_updated  \n",
       "418          0        0                0 2020-06-07 14:32:42.117  \n",
       "419          0        0                0 2020-06-07 14:32:42.117  \n",
       "420          0        0                0 2020-06-07 14:32:42.117  \n",
       "421          0        0                0 2020-06-07 14:32:42.117  \n",
       "422          2        1                1 2020-06-07 14:32:42.117  "
      ]
     },
     "execution_count": 11,
     "metadata": {},
     "output_type": "execute_result"
    }
   ],
   "source": [
    "df.info()\n",
    "df.describe(percentiles=[0.05, 0.15, 0.25, 0.50, 0.75, 0.85, 0.95])\n",
    "df.head()\n",
    "df.tail()"
   ]
  },
  {
   "cell_type": "markdown",
   "metadata": {},
   "source": [
    "# Data processing\n",
    "Put here the core of the notebook. Feel free di further split this section into subsections."
   ]
  },
  {
   "cell_type": "code",
   "execution_count": 23,
   "metadata": {},
   "outputs": [
    {
     "name": "stdout",
     "output_type": "stream",
     "text": [
      "['Adams County' 'Asotin County' 'Benton County' 'Chelan County'\n",
      " 'Clallam County' 'Clark County' 'Cowlitz County' 'Douglas County'\n",
      " 'Franklin County' 'Grant County' 'Grays Harbor County' 'Island County'\n",
      " 'Jefferson County' 'King County' 'Kitsap County' 'Kittitas County'\n",
      " 'Klickitat County' 'Lewis County' 'Mason County' 'Okanogan County'\n",
      " 'Pacific County' 'Pierce County' 'San Juan County' 'Skagit County'\n",
      " 'Snohomish County' 'Spokane County' 'Stevens County' 'Thurston County'\n",
      " 'Walla Walla County' 'Whatcom County' 'Whitman County' 'Yakima County'\n",
      " 'Unassigned']\n"
     ]
    },
    {
     "data": {
      "text/html": [
       "<div>\n",
       "<style scoped>\n",
       "    .dataframe tbody tr th:only-of-type {\n",
       "        vertical-align: middle;\n",
       "    }\n",
       "\n",
       "    .dataframe tbody tr th {\n",
       "        vertical-align: top;\n",
       "    }\n",
       "\n",
       "    .dataframe thead th {\n",
       "        text-align: right;\n",
       "    }\n",
       "</style>\n",
       "<table border=\"1\" class=\"dataframe\">\n",
       "  <thead>\n",
       "    <tr style=\"text-align: right;\">\n",
       "      <th></th>\n",
       "      <th>WeekStartDate</th>\n",
       "      <th>NewPos_All</th>\n",
       "      <th>Age 0-19</th>\n",
       "      <th>Age 20-39</th>\n",
       "      <th>Age 40-59</th>\n",
       "      <th>Age 60-79</th>\n",
       "      <th>Age 80+</th>\n",
       "      <th>variable</th>\n",
       "      <th>value</th>\n",
       "    </tr>\n",
       "  </thead>\n",
       "  <tbody>\n",
       "    <tr>\n",
       "      <th>0</th>\n",
       "      <td>2020-03-08</td>\n",
       "      <td>4</td>\n",
       "      <td>0</td>\n",
       "      <td>1</td>\n",
       "      <td>1</td>\n",
       "      <td>2</td>\n",
       "      <td>0</td>\n",
       "      <td>County</td>\n",
       "      <td>Adams County</td>\n",
       "    </tr>\n",
       "    <tr>\n",
       "      <th>1</th>\n",
       "      <td>2020-03-15</td>\n",
       "      <td>3</td>\n",
       "      <td>0</td>\n",
       "      <td>0</td>\n",
       "      <td>3</td>\n",
       "      <td>0</td>\n",
       "      <td>0</td>\n",
       "      <td>County</td>\n",
       "      <td>Adams County</td>\n",
       "    </tr>\n",
       "    <tr>\n",
       "      <th>2</th>\n",
       "      <td>2020-03-22</td>\n",
       "      <td>9</td>\n",
       "      <td>0</td>\n",
       "      <td>1</td>\n",
       "      <td>4</td>\n",
       "      <td>4</td>\n",
       "      <td>0</td>\n",
       "      <td>County</td>\n",
       "      <td>Adams County</td>\n",
       "    </tr>\n",
       "    <tr>\n",
       "      <th>3</th>\n",
       "      <td>2020-03-29</td>\n",
       "      <td>17</td>\n",
       "      <td>2</td>\n",
       "      <td>8</td>\n",
       "      <td>4</td>\n",
       "      <td>3</td>\n",
       "      <td>0</td>\n",
       "      <td>County</td>\n",
       "      <td>Adams County</td>\n",
       "    </tr>\n",
       "    <tr>\n",
       "      <th>4</th>\n",
       "      <td>2020-04-05</td>\n",
       "      <td>8</td>\n",
       "      <td>1</td>\n",
       "      <td>2</td>\n",
       "      <td>4</td>\n",
       "      <td>1</td>\n",
       "      <td>0</td>\n",
       "      <td>County</td>\n",
       "      <td>Adams County</td>\n",
       "    </tr>\n",
       "  </tbody>\n",
       "</table>\n",
       "</div>"
      ],
      "text/plain": [
       "  WeekStartDate  NewPos_All  Age 0-19  Age 20-39  Age 40-59  Age 60-79  \\\n",
       "0    2020-03-08           4         0          1          1          2   \n",
       "1    2020-03-15           3         0          0          3          0   \n",
       "2    2020-03-22           9         0          1          4          4   \n",
       "3    2020-03-29          17         2          8          4          3   \n",
       "4    2020-04-05           8         1          2          4          1   \n",
       "\n",
       "   Age 80+ variable         value  \n",
       "0        0   County  Adams County  \n",
       "1        0   County  Adams County  \n",
       "2        0   County  Adams County  \n",
       "3        0   County  Adams County  \n",
       "4        0   County  Adams County  "
      ]
     },
     "execution_count": 23,
     "metadata": {},
     "output_type": "execute_result"
    },
    {
     "data": {
      "text/html": [
       "<div>\n",
       "<style scoped>\n",
       "    .dataframe tbody tr th:only-of-type {\n",
       "        vertical-align: middle;\n",
       "    }\n",
       "\n",
       "    .dataframe tbody tr th {\n",
       "        vertical-align: top;\n",
       "    }\n",
       "\n",
       "    .dataframe thead th {\n",
       "        text-align: right;\n",
       "    }\n",
       "</style>\n",
       "<table border=\"1\" class=\"dataframe\">\n",
       "  <thead>\n",
       "    <tr style=\"text-align: right;\">\n",
       "      <th></th>\n",
       "      <th>WeekStartDate</th>\n",
       "      <th>NewPos_All</th>\n",
       "      <th>Age 0-19</th>\n",
       "      <th>Age 20-39</th>\n",
       "      <th>Age 40-59</th>\n",
       "      <th>Age 60-79</th>\n",
       "      <th>Age 80+</th>\n",
       "      <th>variable</th>\n",
       "      <th>value</th>\n",
       "    </tr>\n",
       "  </thead>\n",
       "  <tbody>\n",
       "    <tr>\n",
       "      <th>418</th>\n",
       "      <td>2020-04-19</td>\n",
       "      <td>1</td>\n",
       "      <td>0</td>\n",
       "      <td>0</td>\n",
       "      <td>1</td>\n",
       "      <td>0</td>\n",
       "      <td>0</td>\n",
       "      <td>County</td>\n",
       "      <td>Unassigned</td>\n",
       "    </tr>\n",
       "    <tr>\n",
       "      <th>419</th>\n",
       "      <td>2020-05-10</td>\n",
       "      <td>2</td>\n",
       "      <td>0</td>\n",
       "      <td>0</td>\n",
       "      <td>2</td>\n",
       "      <td>0</td>\n",
       "      <td>0</td>\n",
       "      <td>County</td>\n",
       "      <td>Unassigned</td>\n",
       "    </tr>\n",
       "    <tr>\n",
       "      <th>420</th>\n",
       "      <td>2020-05-17</td>\n",
       "      <td>7</td>\n",
       "      <td>0</td>\n",
       "      <td>3</td>\n",
       "      <td>4</td>\n",
       "      <td>0</td>\n",
       "      <td>0</td>\n",
       "      <td>County</td>\n",
       "      <td>Unassigned</td>\n",
       "    </tr>\n",
       "    <tr>\n",
       "      <th>421</th>\n",
       "      <td>2020-05-24</td>\n",
       "      <td>5</td>\n",
       "      <td>0</td>\n",
       "      <td>3</td>\n",
       "      <td>2</td>\n",
       "      <td>0</td>\n",
       "      <td>0</td>\n",
       "      <td>County</td>\n",
       "      <td>Unassigned</td>\n",
       "    </tr>\n",
       "    <tr>\n",
       "      <th>422</th>\n",
       "      <td>2020-05-31</td>\n",
       "      <td>17</td>\n",
       "      <td>1</td>\n",
       "      <td>8</td>\n",
       "      <td>4</td>\n",
       "      <td>2</td>\n",
       "      <td>1</td>\n",
       "      <td>County</td>\n",
       "      <td>Unassigned</td>\n",
       "    </tr>\n",
       "  </tbody>\n",
       "</table>\n",
       "</div>"
      ],
      "text/plain": [
       "    WeekStartDate  NewPos_All  Age 0-19  Age 20-39  Age 40-59  Age 60-79  \\\n",
       "418    2020-04-19           1         0          0          1          0   \n",
       "419    2020-05-10           2         0          0          2          0   \n",
       "420    2020-05-17           7         0          3          4          0   \n",
       "421    2020-05-24           5         0          3          2          0   \n",
       "422    2020-05-31          17         1          8          4          2   \n",
       "\n",
       "     Age 80+ variable       value  \n",
       "418        0   County  Unassigned  \n",
       "419        0   County  Unassigned  \n",
       "420        0   County  Unassigned  \n",
       "421        0   County  Unassigned  \n",
       "422        1   County  Unassigned  "
      ]
     },
     "execution_count": 23,
     "metadata": {},
     "output_type": "execute_result"
    }
   ],
   "source": [
    "counties = df['County'].unique()\n",
    "print(counties)\n",
    "dft = pd.melt(df.reset_index(),\n",
    "              id_vars=['WeekStartDate', 'NewPos_All', 'Age 0-19', 'Age 20-39', 'Age 40-59', 'Age 60-79', 'Age 80+'],\n",
    "              value_vars=['County'])\n",
    "dft.head()\n",
    "dft.tail()"
   ]
  },
  {
   "cell_type": "code",
   "execution_count": 25,
   "metadata": {},
   "outputs": [
    {
     "data": {
      "application/vnd.plotly.v1+json": {
       "config": {
        "plotlyServerURL": "https://plot.ly"
       },
       "data": [
        {
         "hovertemplate": "County=Adams County<br>WeekStartDate=%{x}<br>NewPos_All=%{y}<extra></extra>",
         "legendgroup": "Adams County",
         "marker": {
          "color": "#636efa",
          "symbol": "circle"
         },
         "mode": "markers",
         "name": "Adams County",
         "orientation": "v",
         "showlegend": true,
         "type": "scatter",
         "x": [
          "2020-03-08",
          "2020-03-15",
          "2020-03-22",
          "2020-03-29",
          "2020-04-05",
          "2020-04-12",
          "2020-04-19",
          "2020-04-26",
          "2020-05-03",
          "2020-05-10",
          "2020-05-17",
          "2020-05-24",
          "2020-05-31"
         ],
         "xaxis": "x",
         "y": [
          4,
          3,
          9,
          17,
          8,
          2,
          4,
          2,
          1,
          2,
          4,
          17,
          6
         ],
         "yaxis": "y"
        },
        {
         "hovertemplate": "County=Asotin County<br>WeekStartDate=%{x}<br>NewPos_All=%{y}<extra></extra>",
         "legendgroup": "Asotin County",
         "marker": {
          "color": "#EF553B",
          "symbol": "circle"
         },
         "mode": "markers",
         "name": "Asotin County",
         "orientation": "v",
         "showlegend": true,
         "type": "scatter",
         "x": [
          "2020-03-15",
          "2020-03-29",
          "2020-04-05",
          "2020-04-12",
          "2020-04-19",
          "2020-05-17"
         ],
         "xaxis": "x",
         "y": [
          2,
          2,
          7,
          4,
          3,
          1
         ],
         "yaxis": "y"
        },
        {
         "hovertemplate": "County=Benton County<br>WeekStartDate=%{x}<br>NewPos_All=%{y}<extra></extra>",
         "legendgroup": "Benton County",
         "marker": {
          "color": "#00cc96",
          "symbol": "circle"
         },
         "mode": "markers",
         "name": "Benton County",
         "orientation": "v",
         "showlegend": true,
         "type": "scatter",
         "x": [
          "2020-02-16",
          "2020-03-01",
          "2020-03-08",
          "2020-03-15",
          "2020-03-22",
          "2020-03-29",
          "2020-04-05",
          "2020-04-12",
          "2020-04-19",
          "2020-04-26",
          "2020-05-03",
          "2020-05-10",
          "2020-05-17",
          "2020-05-24",
          "2020-05-31"
         ],
         "xaxis": "x",
         "y": [
          1,
          6,
          17,
          55,
          104,
          88,
          70,
          65,
          101,
          80,
          41,
          62,
          87,
          64,
          89
         ],
         "yaxis": "y"
        },
        {
         "hovertemplate": "County=Chelan County<br>WeekStartDate=%{x}<br>NewPos_All=%{y}<extra></extra>",
         "legendgroup": "Chelan County",
         "marker": {
          "color": "#ab63fa",
          "symbol": "circle"
         },
         "mode": "markers",
         "name": "Chelan County",
         "orientation": "v",
         "showlegend": true,
         "type": "scatter",
         "x": [
          "2020-02-09",
          "2020-03-08",
          "2020-03-15",
          "2020-03-22",
          "2020-03-29",
          "2020-04-05",
          "2020-04-12",
          "2020-04-19",
          "2020-04-26",
          "2020-05-03",
          "2020-05-10",
          "2020-05-17",
          "2020-05-24",
          "2020-05-31"
         ],
         "xaxis": "x",
         "y": [
          1,
          8,
          7,
          12,
          24,
          15,
          25,
          26,
          21,
          24,
          35,
          42,
          15,
          7
         ],
         "yaxis": "y"
        },
        {
         "hovertemplate": "County=Clallam County<br>WeekStartDate=%{x}<br>NewPos_All=%{y}<extra></extra>",
         "legendgroup": "Clallam County",
         "marker": {
          "color": "#FFA15A",
          "symbol": "circle"
         },
         "mode": "markers",
         "name": "Clallam County",
         "orientation": "v",
         "showlegend": true,
         "type": "scatter",
         "x": [
          "2020-03-01",
          "2020-03-08",
          "2020-03-15",
          "2020-03-29",
          "2020-04-05",
          "2020-04-19",
          "2020-04-26",
          "2020-05-10",
          "2020-05-17",
          "2020-05-24"
         ],
         "xaxis": "x",
         "y": [
          2,
          5,
          3,
          3,
          1,
          4,
          1,
          4,
          2,
          2
         ],
         "yaxis": "y"
        },
        {
         "hovertemplate": "County=Clark County<br>WeekStartDate=%{x}<br>NewPos_All=%{y}<extra></extra>",
         "legendgroup": "Clark County",
         "marker": {
          "color": "#19d3f3",
          "symbol": "circle"
         },
         "mode": "markers",
         "name": "Clark County",
         "orientation": "v",
         "showlegend": true,
         "type": "scatter",
         "x": [
          "2020-02-23",
          "2020-03-01",
          "2020-03-08",
          "2020-03-15",
          "2020-03-22",
          "2020-03-29",
          "2020-04-05",
          "2020-04-12",
          "2020-04-19",
          "2020-04-26",
          "2020-05-03",
          "2020-05-10",
          "2020-05-17",
          "2020-05-24",
          "2020-05-31"
         ],
         "xaxis": "x",
         "y": [
          3,
          5,
          29,
          57,
          66,
          52,
          61,
          46,
          22,
          18,
          21,
          20,
          70,
          78,
          14
         ],
         "yaxis": "y"
        },
        {
         "hovertemplate": "County=Cowlitz County<br>WeekStartDate=%{x}<br>NewPos_All=%{y}<extra></extra>",
         "legendgroup": "Cowlitz County",
         "marker": {
          "color": "#FF6692",
          "symbol": "circle"
         },
         "mode": "markers",
         "name": "Cowlitz County",
         "orientation": "v",
         "showlegend": true,
         "type": "scatter",
         "x": [
          "2020-02-23",
          "2020-03-01",
          "2020-03-08",
          "2020-03-15",
          "2020-03-22",
          "2020-03-29",
          "2020-04-05",
          "2020-04-12",
          "2020-04-19",
          "2020-04-26",
          "2020-05-03",
          "2020-05-10",
          "2020-05-17",
          "2020-05-24",
          "2020-05-31"
         ],
         "xaxis": "x",
         "y": [
          1,
          1,
          8,
          8,
          3,
          7,
          6,
          10,
          5,
          14,
          5,
          5,
          2,
          3,
          3
         ],
         "yaxis": "y"
        },
        {
         "hovertemplate": "County=Douglas County<br>WeekStartDate=%{x}<br>NewPos_All=%{y}<extra></extra>",
         "legendgroup": "Douglas County",
         "marker": {
          "color": "#B6E880",
          "symbol": "circle"
         },
         "mode": "markers",
         "name": "Douglas County",
         "orientation": "v",
         "showlegend": true,
         "type": "scatter",
         "x": [
          "2020-03-01",
          "2020-03-08",
          "2020-03-15",
          "2020-03-22",
          "2020-03-29",
          "2020-04-05",
          "2020-04-12",
          "2020-04-19",
          "2020-04-26",
          "2020-05-03",
          "2020-05-10",
          "2020-05-17",
          "2020-05-24",
          "2020-05-31"
         ],
         "xaxis": "x",
         "y": [
          2,
          1,
          1,
          9,
          8,
          8,
          38,
          14,
          22,
          18,
          21,
          23,
          9,
          4
         ],
         "yaxis": "y"
        },
        {
         "hovertemplate": "County=Franklin County<br>WeekStartDate=%{x}<br>NewPos_All=%{y}<extra></extra>",
         "legendgroup": "Franklin County",
         "marker": {
          "color": "#FF97FF",
          "symbol": "circle"
         },
         "mode": "markers",
         "name": "Franklin County",
         "orientation": "v",
         "showlegend": true,
         "type": "scatter",
         "x": [
          "2020-02-09",
          "2020-02-23",
          "2020-03-01",
          "2020-03-08",
          "2020-03-15",
          "2020-03-22",
          "2020-03-29",
          "2020-04-05",
          "2020-04-12",
          "2020-04-19",
          "2020-04-26",
          "2020-05-03",
          "2020-05-10",
          "2020-05-17",
          "2020-05-24",
          "2020-05-31"
         ],
         "xaxis": "x",
         "y": [
          1,
          1,
          2,
          5,
          18,
          48,
          52,
          63,
          76,
          79,
          68,
          33,
          48,
          76,
          77,
          75
         ],
         "yaxis": "y"
        },
        {
         "hovertemplate": "County=Grant County<br>WeekStartDate=%{x}<br>NewPos_All=%{y}<extra></extra>",
         "legendgroup": "Grant County",
         "marker": {
          "color": "#FECB52",
          "symbol": "circle"
         },
         "mode": "markers",
         "name": "Grant County",
         "orientation": "v",
         "showlegend": true,
         "type": "scatter",
         "x": [
          "2020-02-16",
          "2020-02-23",
          "2020-03-01",
          "2020-03-08",
          "2020-03-15",
          "2020-03-22",
          "2020-03-29",
          "2020-04-05",
          "2020-04-12",
          "2020-04-19",
          "2020-04-26",
          "2020-05-03",
          "2020-05-10",
          "2020-05-17",
          "2020-05-24",
          "2020-05-31"
         ],
         "xaxis": "x",
         "y": [
          1,
          1,
          4,
          36,
          32,
          22,
          18,
          26,
          13,
          8,
          21,
          4,
          5,
          9,
          13,
          3
         ],
         "yaxis": "y"
        },
        {
         "hovertemplate": "County=Grays Harbor County<br>WeekStartDate=%{x}<br>NewPos_All=%{y}<extra></extra>",
         "legendgroup": "Grays Harbor County",
         "marker": {
          "color": "#636efa",
          "symbol": "circle"
         },
         "mode": "markers",
         "name": "Grays Harbor County",
         "orientation": "v",
         "showlegend": true,
         "type": "scatter",
         "x": [
          "2020-02-16",
          "2020-02-23",
          "2020-03-01",
          "2020-03-15",
          "2020-03-22",
          "2020-03-29",
          "2020-04-05",
          "2020-04-26",
          "2020-05-03",
          "2020-05-17",
          "2020-05-24",
          "2020-05-31"
         ],
         "xaxis": "x",
         "y": [
          1,
          1,
          1,
          1,
          3,
          4,
          1,
          1,
          2,
          2,
          1,
          1
         ],
         "yaxis": "y"
        },
        {
         "hovertemplate": "County=Island County<br>WeekStartDate=%{x}<br>NewPos_All=%{y}<extra></extra>",
         "legendgroup": "Island County",
         "marker": {
          "color": "#EF553B",
          "symbol": "circle"
         },
         "mode": "markers",
         "name": "Island County",
         "orientation": "v",
         "showlegend": true,
         "type": "scatter",
         "x": [
          "2020-02-23",
          "2020-03-01",
          "2020-03-08",
          "2020-03-15",
          "2020-03-22",
          "2020-03-29",
          "2020-04-05",
          "2020-04-12",
          "2020-04-19",
          "2020-04-26",
          "2020-05-03",
          "2020-05-10",
          "2020-05-24"
         ],
         "xaxis": "x",
         "y": [
          2,
          10,
          25,
          33,
          70,
          22,
          5,
          1,
          3,
          4,
          4,
          1,
          1
         ],
         "yaxis": "y"
        },
        {
         "hovertemplate": "County=Jefferson County<br>WeekStartDate=%{x}<br>NewPos_All=%{y}<extra></extra>",
         "legendgroup": "Jefferson County",
         "marker": {
          "color": "#00cc96",
          "symbol": "circle"
         },
         "mode": "markers",
         "name": "Jefferson County",
         "orientation": "v",
         "showlegend": true,
         "type": "scatter",
         "x": [
          "2020-02-23",
          "2020-03-01",
          "2020-03-08",
          "2020-03-15",
          "2020-03-22",
          "2020-03-29",
          "2020-05-31"
         ],
         "xaxis": "x",
         "y": [
          2,
          4,
          10,
          9,
          3,
          2,
          1
         ],
         "yaxis": "y"
        },
        {
         "hovertemplate": "County=King County<br>WeekStartDate=%{x}<br>NewPos_All=%{y}<extra></extra>",
         "legendgroup": "King County",
         "marker": {
          "color": "#ab63fa",
          "symbol": "circle"
         },
         "mode": "markers",
         "name": "King County",
         "orientation": "v",
         "showlegend": true,
         "type": "scatter",
         "x": [
          "2020-02-02",
          "2020-02-09",
          "2020-02-16",
          "2020-02-23",
          "2020-03-01",
          "2020-03-08",
          "2020-03-15",
          "2020-03-22",
          "2020-03-29",
          "2020-04-05",
          "2020-04-12",
          "2020-04-19",
          "2020-04-26",
          "2020-05-03",
          "2020-05-10",
          "2020-05-17",
          "2020-05-24",
          "2020-05-31"
         ],
         "xaxis": "x",
         "y": [
          3,
          6,
          44,
          114,
          286,
          794,
          1031,
          1085,
          974,
          801,
          725,
          599,
          568,
          402,
          370,
          255,
          239,
          161
         ],
         "yaxis": "y"
        },
        {
         "hovertemplate": "County=Kitsap County<br>WeekStartDate=%{x}<br>NewPos_All=%{y}<extra></extra>",
         "legendgroup": "Kitsap County",
         "marker": {
          "color": "#FFA15A",
          "symbol": "circle"
         },
         "mode": "markers",
         "name": "Kitsap County",
         "orientation": "v",
         "showlegend": true,
         "type": "scatter",
         "x": [
          "2020-02-16",
          "2020-02-23",
          "2020-03-01",
          "2020-03-08",
          "2020-03-15",
          "2020-03-22",
          "2020-03-29",
          "2020-04-05",
          "2020-04-12",
          "2020-04-19",
          "2020-04-26",
          "2020-05-03",
          "2020-05-10",
          "2020-05-24",
          "2020-05-31"
         ],
         "xaxis": "x",
         "y": [
          1,
          1,
          6,
          22,
          34,
          36,
          27,
          11,
          9,
          3,
          3,
          2,
          6,
          2,
          2
         ],
         "yaxis": "y"
        },
        {
         "hovertemplate": "County=Kittitas County<br>WeekStartDate=%{x}<br>NewPos_All=%{y}<extra></extra>",
         "legendgroup": "Kittitas County",
         "marker": {
          "color": "#19d3f3",
          "symbol": "circle"
         },
         "mode": "markers",
         "name": "Kittitas County",
         "orientation": "v",
         "showlegend": true,
         "type": "scatter",
         "x": [
          "2020-01-26",
          "2020-02-16",
          "2020-03-08",
          "2020-03-15",
          "2020-03-22",
          "2020-03-29",
          "2020-04-05",
          "2020-04-19",
          "2020-04-26",
          "2020-05-03",
          "2020-05-10",
          "2020-05-17",
          "2020-05-24",
          "2020-05-31"
         ],
         "xaxis": "x",
         "y": [
          1,
          3,
          2,
          5,
          2,
          2,
          1,
          1,
          2,
          30,
          18,
          17,
          4,
          1
         ],
         "yaxis": "y"
        },
        {
         "hovertemplate": "County=Klickitat County<br>WeekStartDate=%{x}<br>NewPos_All=%{y}<extra></extra>",
         "legendgroup": "Klickitat County",
         "marker": {
          "color": "#FF6692",
          "symbol": "circle"
         },
         "mode": "markers",
         "name": "Klickitat County",
         "orientation": "v",
         "showlegend": true,
         "type": "scatter",
         "x": [
          "2020-03-01",
          "2020-03-15",
          "2020-03-22",
          "2020-03-29",
          "2020-04-05",
          "2020-04-19",
          "2020-04-26",
          "2020-05-03",
          "2020-05-10",
          "2020-05-17",
          "2020-05-24",
          "2020-05-31"
         ],
         "xaxis": "x",
         "y": [
          2,
          6,
          2,
          2,
          4,
          2,
          3,
          3,
          1,
          1,
          3,
          4
         ],
         "yaxis": "y"
        },
        {
         "hovertemplate": "County=Lewis County<br>WeekStartDate=%{x}<br>NewPos_All=%{y}<extra></extra>",
         "legendgroup": "Lewis County",
         "marker": {
          "color": "#B6E880",
          "symbol": "circle"
         },
         "mode": "markers",
         "name": "Lewis County",
         "orientation": "v",
         "showlegend": true,
         "type": "scatter",
         "x": [
          "2020-03-08",
          "2020-03-15",
          "2020-03-22",
          "2020-03-29",
          "2020-04-05",
          "2020-04-12",
          "2020-04-19",
          "2020-04-26",
          "2020-05-03",
          "2020-05-10",
          "2020-05-24"
         ],
         "xaxis": "x",
         "y": [
          3,
          10,
          4,
          2,
          3,
          1,
          6,
          1,
          1,
          4,
          2
         ],
         "yaxis": "y"
        },
        {
         "hovertemplate": "County=Mason County<br>WeekStartDate=%{x}<br>NewPos_All=%{y}<extra></extra>",
         "legendgroup": "Mason County",
         "marker": {
          "color": "#FF97FF",
          "symbol": "circle"
         },
         "mode": "markers",
         "name": "Mason County",
         "orientation": "v",
         "showlegend": true,
         "type": "scatter",
         "x": [
          "2020-03-08",
          "2020-03-15",
          "2020-03-22",
          "2020-03-29",
          "2020-04-12",
          "2020-04-19",
          "2020-04-26",
          "2020-05-03",
          "2020-05-10",
          "2020-05-17",
          "2020-05-24",
          "2020-05-31"
         ],
         "xaxis": "x",
         "y": [
          2,
          1,
          6,
          11,
          2,
          2,
          4,
          2,
          3,
          2,
          1,
          2
         ],
         "yaxis": "y"
        },
        {
         "hovertemplate": "County=Okanogan County<br>WeekStartDate=%{x}<br>NewPos_All=%{y}<extra></extra>",
         "legendgroup": "Okanogan County",
         "marker": {
          "color": "#FECB52",
          "symbol": "circle"
         },
         "mode": "markers",
         "name": "Okanogan County",
         "orientation": "v",
         "showlegend": true,
         "type": "scatter",
         "x": [
          "2020-03-08",
          "2020-03-15",
          "2020-03-22",
          "2020-03-29",
          "2020-04-05",
          "2020-04-12",
          "2020-04-19",
          "2020-04-26",
          "2020-05-03",
          "2020-05-10",
          "2020-05-17",
          "2020-05-24",
          "2020-05-31"
         ],
         "xaxis": "x",
         "y": [
          3,
          1,
          5,
          4,
          2,
          3,
          6,
          1,
          11,
          9,
          2,
          6,
          3
         ],
         "yaxis": "y"
        },
        {
         "hovertemplate": "County=Pacific County<br>WeekStartDate=%{x}<br>NewPos_All=%{y}<extra></extra>",
         "legendgroup": "Pacific County",
         "marker": {
          "color": "#636efa",
          "symbol": "circle"
         },
         "mode": "markers",
         "name": "Pacific County",
         "orientation": "v",
         "showlegend": true,
         "type": "scatter",
         "x": [
          "2020-03-29",
          "2020-04-05",
          "2020-04-19",
          "2020-04-26",
          "2020-05-03"
         ],
         "xaxis": "x",
         "y": [
          2,
          1,
          1,
          2,
          3
         ],
         "yaxis": "y"
        },
        {
         "hovertemplate": "County=Pierce County<br>WeekStartDate=%{x}<br>NewPos_All=%{y}<extra></extra>",
         "legendgroup": "Pierce County",
         "marker": {
          "color": "#EF553B",
          "symbol": "circle"
         },
         "mode": "markers",
         "name": "Pierce County",
         "orientation": "v",
         "showlegend": true,
         "type": "scatter",
         "x": [
          "2020-02-16",
          "2020-02-23",
          "2020-03-01",
          "2020-03-08",
          "2020-03-15",
          "2020-03-22",
          "2020-03-29",
          "2020-04-05",
          "2020-04-12",
          "2020-04-19",
          "2020-04-26",
          "2020-05-03",
          "2020-05-10",
          "2020-05-17",
          "2020-05-24",
          "2020-05-31"
         ],
         "xaxis": "x",
         "y": [
          1,
          11,
          38,
          105,
          224,
          239,
          282,
          189,
          199,
          161,
          151,
          144,
          95,
          71,
          62,
          62
         ],
         "yaxis": "y"
        },
        {
         "hovertemplate": "County=San Juan County<br>WeekStartDate=%{x}<br>NewPos_All=%{y}<extra></extra>",
         "legendgroup": "San Juan County",
         "marker": {
          "color": "#00cc96",
          "symbol": "circle"
         },
         "mode": "markers",
         "name": "San Juan County",
         "orientation": "v",
         "showlegend": true,
         "type": "scatter",
         "x": [
          "2020-03-08",
          "2020-03-15",
          "2020-03-22",
          "2020-03-29",
          "2020-04-05",
          "2020-04-12"
         ],
         "xaxis": "x",
         "y": [
          1,
          3,
          2,
          7,
          1,
          1
         ],
         "yaxis": "y"
        },
        {
         "hovertemplate": "County=Skagit County<br>WeekStartDate=%{x}<br>NewPos_All=%{y}<extra></extra>",
         "legendgroup": "Skagit County",
         "marker": {
          "color": "#ab63fa",
          "symbol": "circle"
         },
         "mode": "markers",
         "name": "Skagit County",
         "orientation": "v",
         "showlegend": true,
         "type": "scatter",
         "x": [
          "2020-02-16",
          "2020-02-23",
          "2020-03-01",
          "2020-03-08",
          "2020-03-15",
          "2020-03-22",
          "2020-03-29",
          "2020-04-05",
          "2020-04-12",
          "2020-04-19",
          "2020-04-26",
          "2020-05-03",
          "2020-05-10",
          "2020-05-17",
          "2020-05-24",
          "2020-05-31"
         ],
         "xaxis": "x",
         "y": [
          1,
          1,
          8,
          42,
          49,
          44,
          39,
          44,
          55,
          66,
          42,
          26,
          11,
          2,
          13,
          6
         ],
         "yaxis": "y"
        },
        {
         "hovertemplate": "County=Snohomish County<br>WeekStartDate=%{x}<br>NewPos_All=%{y}<extra></extra>",
         "legendgroup": "Snohomish County",
         "marker": {
          "color": "#FFA15A",
          "symbol": "circle"
         },
         "mode": "markers",
         "name": "Snohomish County",
         "orientation": "v",
         "showlegend": true,
         "type": "scatter",
         "x": [
          "2020-01-16",
          "2020-01-26",
          "2020-02-02",
          "2020-02-09",
          "2020-02-16",
          "2020-02-23",
          "2020-03-01",
          "2020-03-08",
          "2020-03-15",
          "2020-03-22",
          "2020-03-29",
          "2020-04-05",
          "2020-04-12",
          "2020-04-19",
          "2020-04-26",
          "2020-05-03",
          "2020-05-10",
          "2020-05-17",
          "2020-05-24",
          "2020-05-31"
         ],
         "xaxis": "x",
         "y": [
          1,
          1,
          6,
          4,
          20,
          51,
          199,
          343,
          494,
          426,
          298,
          217,
          202,
          197,
          187,
          112,
          91,
          89,
          54,
          41
         ],
         "yaxis": "y"
        },
        {
         "hovertemplate": "County=Spokane County<br>WeekStartDate=%{x}<br>NewPos_All=%{y}<extra></extra>",
         "legendgroup": "Spokane County",
         "marker": {
          "color": "#19d3f3",
          "symbol": "circle"
         },
         "mode": "markers",
         "name": "Spokane County",
         "orientation": "v",
         "showlegend": true,
         "type": "scatter",
         "x": [
          "2020-02-16",
          "2020-02-23",
          "2020-03-01",
          "2020-03-08",
          "2020-03-15",
          "2020-03-22",
          "2020-03-29",
          "2020-04-05",
          "2020-04-12",
          "2020-04-19",
          "2020-04-26",
          "2020-05-03",
          "2020-05-10",
          "2020-05-17",
          "2020-05-24",
          "2020-05-31"
         ],
         "xaxis": "x",
         "y": [
          1,
          1,
          9,
          38,
          89,
          72,
          44,
          31,
          33,
          40,
          20,
          16,
          43,
          111,
          89,
          90
         ],
         "yaxis": "y"
        },
        {
         "hovertemplate": "County=Stevens County<br>WeekStartDate=%{x}<br>NewPos_All=%{y}<extra></extra>",
         "legendgroup": "Stevens County",
         "marker": {
          "color": "#FF6692",
          "symbol": "circle"
         },
         "mode": "markers",
         "name": "Stevens County",
         "orientation": "v",
         "showlegend": true,
         "type": "scatter",
         "x": [
          "2020-03-01",
          "2020-03-08",
          "2020-03-15",
          "2020-03-22",
          "2020-03-29",
          "2020-04-12",
          "2020-05-10",
          "2020-05-17",
          "2020-05-24"
         ],
         "xaxis": "x",
         "y": [
          1,
          1,
          1,
          3,
          1,
          2,
          1,
          2,
          1
         ],
         "yaxis": "y"
        },
        {
         "hovertemplate": "County=Thurston County<br>WeekStartDate=%{x}<br>NewPos_All=%{y}<extra></extra>",
         "legendgroup": "Thurston County",
         "marker": {
          "color": "#B6E880",
          "symbol": "circle"
         },
         "mode": "markers",
         "name": "Thurston County",
         "orientation": "v",
         "showlegend": true,
         "type": "scatter",
         "x": [
          "2020-02-23",
          "2020-03-01",
          "2020-03-08",
          "2020-03-15",
          "2020-03-22",
          "2020-03-29",
          "2020-04-05",
          "2020-04-12",
          "2020-04-19",
          "2020-04-26",
          "2020-05-03",
          "2020-05-10",
          "2020-05-17",
          "2020-05-24",
          "2020-05-31"
         ],
         "xaxis": "x",
         "y": [
          1,
          4,
          17,
          15,
          31,
          16,
          10,
          12,
          6,
          5,
          5,
          3,
          4,
          24,
          13
         ],
         "yaxis": "y"
        },
        {
         "hovertemplate": "County=Walla Walla County<br>WeekStartDate=%{x}<br>NewPos_All=%{y}<extra></extra>",
         "legendgroup": "Walla Walla County",
         "marker": {
          "color": "#FF97FF",
          "symbol": "circle"
         },
         "mode": "markers",
         "name": "Walla Walla County",
         "orientation": "v",
         "showlegend": true,
         "type": "scatter",
         "x": [
          "2020-03-08",
          "2020-03-15",
          "2020-03-22",
          "2020-03-29",
          "2020-04-05",
          "2020-04-12",
          "2020-04-19",
          "2020-04-26",
          "2020-05-03",
          "2020-05-10",
          "2020-05-17",
          "2020-05-24",
          "2020-05-31"
         ],
         "xaxis": "x",
         "y": [
          1,
          2,
          5,
          11,
          16,
          11,
          30,
          18,
          7,
          5,
          2,
          3,
          5
         ],
         "yaxis": "y"
        },
        {
         "hovertemplate": "County=Whatcom County<br>WeekStartDate=%{x}<br>NewPos_All=%{y}<extra></extra>",
         "legendgroup": "Whatcom County",
         "marker": {
          "color": "#FECB52",
          "symbol": "circle"
         },
         "mode": "markers",
         "name": "Whatcom County",
         "orientation": "v",
         "showlegend": true,
         "type": "scatter",
         "x": [
          "2020-02-16",
          "2020-02-23",
          "2020-03-01",
          "2020-03-08",
          "2020-03-15",
          "2020-03-22",
          "2020-03-29",
          "2020-04-05",
          "2020-04-12",
          "2020-04-19",
          "2020-04-26",
          "2020-05-03",
          "2020-05-10",
          "2020-05-17",
          "2020-05-24",
          "2020-05-31"
         ],
         "xaxis": "x",
         "y": [
          1,
          1,
          6,
          27,
          72,
          84,
          65,
          21,
          12,
          13,
          24,
          15,
          22,
          21,
          19,
          7
         ],
         "yaxis": "y"
        },
        {
         "hovertemplate": "County=Whitman County<br>WeekStartDate=%{x}<br>NewPos_All=%{y}<extra></extra>",
         "legendgroup": "Whitman County",
         "marker": {
          "color": "#636efa",
          "symbol": "circle"
         },
         "mode": "markers",
         "name": "Whitman County",
         "orientation": "v",
         "showlegend": true,
         "type": "scatter",
         "x": [
          "2020-03-08",
          "2020-03-15",
          "2020-03-22",
          "2020-03-29",
          "2020-04-12",
          "2020-04-19",
          "2020-05-10",
          "2020-05-17"
         ],
         "xaxis": "x",
         "y": [
          1,
          4,
          3,
          4,
          3,
          1,
          2,
          2
         ],
         "yaxis": "y"
        },
        {
         "hovertemplate": "County=Yakima County<br>WeekStartDate=%{x}<br>NewPos_All=%{y}<extra></extra>",
         "legendgroup": "Yakima County",
         "marker": {
          "color": "#EF553B",
          "symbol": "circle"
         },
         "mode": "markers",
         "name": "Yakima County",
         "orientation": "v",
         "showlegend": true,
         "type": "scatter",
         "x": [
          "2020-01-16",
          "2020-02-09",
          "2020-02-16",
          "2020-03-01",
          "2020-03-08",
          "2020-03-15",
          "2020-03-22",
          "2020-03-29",
          "2020-04-05",
          "2020-04-12",
          "2020-04-19",
          "2020-04-26",
          "2020-05-03",
          "2020-05-10",
          "2020-05-17",
          "2020-05-24",
          "2020-05-31"
         ],
         "xaxis": "x",
         "y": [
          1,
          3,
          2,
          14,
          22,
          74,
          156,
          228,
          235,
          242,
          287,
          399,
          518,
          615,
          638,
          606,
          469
         ],
         "yaxis": "y"
        },
        {
         "hovertemplate": "County=Unassigned<br>WeekStartDate=%{x}<br>NewPos_All=%{y}<extra></extra>",
         "legendgroup": "Unassigned",
         "marker": {
          "color": "#00cc96",
          "symbol": "circle"
         },
         "mode": "markers",
         "name": "Unassigned",
         "orientation": "v",
         "showlegend": true,
         "type": "scatter",
         "x": [
          "2020-04-19",
          "2020-05-10",
          "2020-05-17",
          "2020-05-24",
          "2020-05-31"
         ],
         "xaxis": "x",
         "y": [
          1,
          2,
          7,
          5,
          17
         ],
         "yaxis": "y"
        }
       ],
       "layout": {
        "legend": {
         "title": {
          "text": "County"
         },
         "tracegroupgap": 0
        },
        "margin": {
         "t": 60
        },
        "template": {
         "data": {
          "bar": [
           {
            "error_x": {
             "color": "#2a3f5f"
            },
            "error_y": {
             "color": "#2a3f5f"
            },
            "marker": {
             "line": {
              "color": "#E5ECF6",
              "width": 0.5
             }
            },
            "type": "bar"
           }
          ],
          "barpolar": [
           {
            "marker": {
             "line": {
              "color": "#E5ECF6",
              "width": 0.5
             }
            },
            "type": "barpolar"
           }
          ],
          "carpet": [
           {
            "aaxis": {
             "endlinecolor": "#2a3f5f",
             "gridcolor": "white",
             "linecolor": "white",
             "minorgridcolor": "white",
             "startlinecolor": "#2a3f5f"
            },
            "baxis": {
             "endlinecolor": "#2a3f5f",
             "gridcolor": "white",
             "linecolor": "white",
             "minorgridcolor": "white",
             "startlinecolor": "#2a3f5f"
            },
            "type": "carpet"
           }
          ],
          "choropleth": [
           {
            "colorbar": {
             "outlinewidth": 0,
             "ticks": ""
            },
            "type": "choropleth"
           }
          ],
          "contour": [
           {
            "colorbar": {
             "outlinewidth": 0,
             "ticks": ""
            },
            "colorscale": [
             [
              0,
              "#0d0887"
             ],
             [
              0.1111111111111111,
              "#46039f"
             ],
             [
              0.2222222222222222,
              "#7201a8"
             ],
             [
              0.3333333333333333,
              "#9c179e"
             ],
             [
              0.4444444444444444,
              "#bd3786"
             ],
             [
              0.5555555555555556,
              "#d8576b"
             ],
             [
              0.6666666666666666,
              "#ed7953"
             ],
             [
              0.7777777777777778,
              "#fb9f3a"
             ],
             [
              0.8888888888888888,
              "#fdca26"
             ],
             [
              1,
              "#f0f921"
             ]
            ],
            "type": "contour"
           }
          ],
          "contourcarpet": [
           {
            "colorbar": {
             "outlinewidth": 0,
             "ticks": ""
            },
            "type": "contourcarpet"
           }
          ],
          "heatmap": [
           {
            "colorbar": {
             "outlinewidth": 0,
             "ticks": ""
            },
            "colorscale": [
             [
              0,
              "#0d0887"
             ],
             [
              0.1111111111111111,
              "#46039f"
             ],
             [
              0.2222222222222222,
              "#7201a8"
             ],
             [
              0.3333333333333333,
              "#9c179e"
             ],
             [
              0.4444444444444444,
              "#bd3786"
             ],
             [
              0.5555555555555556,
              "#d8576b"
             ],
             [
              0.6666666666666666,
              "#ed7953"
             ],
             [
              0.7777777777777778,
              "#fb9f3a"
             ],
             [
              0.8888888888888888,
              "#fdca26"
             ],
             [
              1,
              "#f0f921"
             ]
            ],
            "type": "heatmap"
           }
          ],
          "heatmapgl": [
           {
            "colorbar": {
             "outlinewidth": 0,
             "ticks": ""
            },
            "colorscale": [
             [
              0,
              "#0d0887"
             ],
             [
              0.1111111111111111,
              "#46039f"
             ],
             [
              0.2222222222222222,
              "#7201a8"
             ],
             [
              0.3333333333333333,
              "#9c179e"
             ],
             [
              0.4444444444444444,
              "#bd3786"
             ],
             [
              0.5555555555555556,
              "#d8576b"
             ],
             [
              0.6666666666666666,
              "#ed7953"
             ],
             [
              0.7777777777777778,
              "#fb9f3a"
             ],
             [
              0.8888888888888888,
              "#fdca26"
             ],
             [
              1,
              "#f0f921"
             ]
            ],
            "type": "heatmapgl"
           }
          ],
          "histogram": [
           {
            "marker": {
             "colorbar": {
              "outlinewidth": 0,
              "ticks": ""
             }
            },
            "type": "histogram"
           }
          ],
          "histogram2d": [
           {
            "colorbar": {
             "outlinewidth": 0,
             "ticks": ""
            },
            "colorscale": [
             [
              0,
              "#0d0887"
             ],
             [
              0.1111111111111111,
              "#46039f"
             ],
             [
              0.2222222222222222,
              "#7201a8"
             ],
             [
              0.3333333333333333,
              "#9c179e"
             ],
             [
              0.4444444444444444,
              "#bd3786"
             ],
             [
              0.5555555555555556,
              "#d8576b"
             ],
             [
              0.6666666666666666,
              "#ed7953"
             ],
             [
              0.7777777777777778,
              "#fb9f3a"
             ],
             [
              0.8888888888888888,
              "#fdca26"
             ],
             [
              1,
              "#f0f921"
             ]
            ],
            "type": "histogram2d"
           }
          ],
          "histogram2dcontour": [
           {
            "colorbar": {
             "outlinewidth": 0,
             "ticks": ""
            },
            "colorscale": [
             [
              0,
              "#0d0887"
             ],
             [
              0.1111111111111111,
              "#46039f"
             ],
             [
              0.2222222222222222,
              "#7201a8"
             ],
             [
              0.3333333333333333,
              "#9c179e"
             ],
             [
              0.4444444444444444,
              "#bd3786"
             ],
             [
              0.5555555555555556,
              "#d8576b"
             ],
             [
              0.6666666666666666,
              "#ed7953"
             ],
             [
              0.7777777777777778,
              "#fb9f3a"
             ],
             [
              0.8888888888888888,
              "#fdca26"
             ],
             [
              1,
              "#f0f921"
             ]
            ],
            "type": "histogram2dcontour"
           }
          ],
          "mesh3d": [
           {
            "colorbar": {
             "outlinewidth": 0,
             "ticks": ""
            },
            "type": "mesh3d"
           }
          ],
          "parcoords": [
           {
            "line": {
             "colorbar": {
              "outlinewidth": 0,
              "ticks": ""
             }
            },
            "type": "parcoords"
           }
          ],
          "pie": [
           {
            "automargin": true,
            "type": "pie"
           }
          ],
          "scatter": [
           {
            "marker": {
             "colorbar": {
              "outlinewidth": 0,
              "ticks": ""
             }
            },
            "type": "scatter"
           }
          ],
          "scatter3d": [
           {
            "line": {
             "colorbar": {
              "outlinewidth": 0,
              "ticks": ""
             }
            },
            "marker": {
             "colorbar": {
              "outlinewidth": 0,
              "ticks": ""
             }
            },
            "type": "scatter3d"
           }
          ],
          "scattercarpet": [
           {
            "marker": {
             "colorbar": {
              "outlinewidth": 0,
              "ticks": ""
             }
            },
            "type": "scattercarpet"
           }
          ],
          "scattergeo": [
           {
            "marker": {
             "colorbar": {
              "outlinewidth": 0,
              "ticks": ""
             }
            },
            "type": "scattergeo"
           }
          ],
          "scattergl": [
           {
            "marker": {
             "colorbar": {
              "outlinewidth": 0,
              "ticks": ""
             }
            },
            "type": "scattergl"
           }
          ],
          "scattermapbox": [
           {
            "marker": {
             "colorbar": {
              "outlinewidth": 0,
              "ticks": ""
             }
            },
            "type": "scattermapbox"
           }
          ],
          "scatterpolar": [
           {
            "marker": {
             "colorbar": {
              "outlinewidth": 0,
              "ticks": ""
             }
            },
            "type": "scatterpolar"
           }
          ],
          "scatterpolargl": [
           {
            "marker": {
             "colorbar": {
              "outlinewidth": 0,
              "ticks": ""
             }
            },
            "type": "scatterpolargl"
           }
          ],
          "scatterternary": [
           {
            "marker": {
             "colorbar": {
              "outlinewidth": 0,
              "ticks": ""
             }
            },
            "type": "scatterternary"
           }
          ],
          "surface": [
           {
            "colorbar": {
             "outlinewidth": 0,
             "ticks": ""
            },
            "colorscale": [
             [
              0,
              "#0d0887"
             ],
             [
              0.1111111111111111,
              "#46039f"
             ],
             [
              0.2222222222222222,
              "#7201a8"
             ],
             [
              0.3333333333333333,
              "#9c179e"
             ],
             [
              0.4444444444444444,
              "#bd3786"
             ],
             [
              0.5555555555555556,
              "#d8576b"
             ],
             [
              0.6666666666666666,
              "#ed7953"
             ],
             [
              0.7777777777777778,
              "#fb9f3a"
             ],
             [
              0.8888888888888888,
              "#fdca26"
             ],
             [
              1,
              "#f0f921"
             ]
            ],
            "type": "surface"
           }
          ],
          "table": [
           {
            "cells": {
             "fill": {
              "color": "#EBF0F8"
             },
             "line": {
              "color": "white"
             }
            },
            "header": {
             "fill": {
              "color": "#C8D4E3"
             },
             "line": {
              "color": "white"
             }
            },
            "type": "table"
           }
          ]
         },
         "layout": {
          "annotationdefaults": {
           "arrowcolor": "#2a3f5f",
           "arrowhead": 0,
           "arrowwidth": 1
          },
          "coloraxis": {
           "colorbar": {
            "outlinewidth": 0,
            "ticks": ""
           }
          },
          "colorscale": {
           "diverging": [
            [
             0,
             "#8e0152"
            ],
            [
             0.1,
             "#c51b7d"
            ],
            [
             0.2,
             "#de77ae"
            ],
            [
             0.3,
             "#f1b6da"
            ],
            [
             0.4,
             "#fde0ef"
            ],
            [
             0.5,
             "#f7f7f7"
            ],
            [
             0.6,
             "#e6f5d0"
            ],
            [
             0.7,
             "#b8e186"
            ],
            [
             0.8,
             "#7fbc41"
            ],
            [
             0.9,
             "#4d9221"
            ],
            [
             1,
             "#276419"
            ]
           ],
           "sequential": [
            [
             0,
             "#0d0887"
            ],
            [
             0.1111111111111111,
             "#46039f"
            ],
            [
             0.2222222222222222,
             "#7201a8"
            ],
            [
             0.3333333333333333,
             "#9c179e"
            ],
            [
             0.4444444444444444,
             "#bd3786"
            ],
            [
             0.5555555555555556,
             "#d8576b"
            ],
            [
             0.6666666666666666,
             "#ed7953"
            ],
            [
             0.7777777777777778,
             "#fb9f3a"
            ],
            [
             0.8888888888888888,
             "#fdca26"
            ],
            [
             1,
             "#f0f921"
            ]
           ],
           "sequentialminus": [
            [
             0,
             "#0d0887"
            ],
            [
             0.1111111111111111,
             "#46039f"
            ],
            [
             0.2222222222222222,
             "#7201a8"
            ],
            [
             0.3333333333333333,
             "#9c179e"
            ],
            [
             0.4444444444444444,
             "#bd3786"
            ],
            [
             0.5555555555555556,
             "#d8576b"
            ],
            [
             0.6666666666666666,
             "#ed7953"
            ],
            [
             0.7777777777777778,
             "#fb9f3a"
            ],
            [
             0.8888888888888888,
             "#fdca26"
            ],
            [
             1,
             "#f0f921"
            ]
           ]
          },
          "colorway": [
           "#636efa",
           "#EF553B",
           "#00cc96",
           "#ab63fa",
           "#FFA15A",
           "#19d3f3",
           "#FF6692",
           "#B6E880",
           "#FF97FF",
           "#FECB52"
          ],
          "font": {
           "color": "#2a3f5f"
          },
          "geo": {
           "bgcolor": "white",
           "lakecolor": "white",
           "landcolor": "#E5ECF6",
           "showlakes": true,
           "showland": true,
           "subunitcolor": "white"
          },
          "hoverlabel": {
           "align": "left"
          },
          "hovermode": "closest",
          "mapbox": {
           "style": "light"
          },
          "paper_bgcolor": "white",
          "plot_bgcolor": "#E5ECF6",
          "polar": {
           "angularaxis": {
            "gridcolor": "white",
            "linecolor": "white",
            "ticks": ""
           },
           "bgcolor": "#E5ECF6",
           "radialaxis": {
            "gridcolor": "white",
            "linecolor": "white",
            "ticks": ""
           }
          },
          "scene": {
           "xaxis": {
            "backgroundcolor": "#E5ECF6",
            "gridcolor": "white",
            "gridwidth": 2,
            "linecolor": "white",
            "showbackground": true,
            "ticks": "",
            "zerolinecolor": "white"
           },
           "yaxis": {
            "backgroundcolor": "#E5ECF6",
            "gridcolor": "white",
            "gridwidth": 2,
            "linecolor": "white",
            "showbackground": true,
            "ticks": "",
            "zerolinecolor": "white"
           },
           "zaxis": {
            "backgroundcolor": "#E5ECF6",
            "gridcolor": "white",
            "gridwidth": 2,
            "linecolor": "white",
            "showbackground": true,
            "ticks": "",
            "zerolinecolor": "white"
           }
          },
          "shapedefaults": {
           "line": {
            "color": "#2a3f5f"
           }
          },
          "ternary": {
           "aaxis": {
            "gridcolor": "white",
            "linecolor": "white",
            "ticks": ""
           },
           "baxis": {
            "gridcolor": "white",
            "linecolor": "white",
            "ticks": ""
           },
           "bgcolor": "#E5ECF6",
           "caxis": {
            "gridcolor": "white",
            "linecolor": "white",
            "ticks": ""
           }
          },
          "title": {
           "x": 0.05
          },
          "xaxis": {
           "automargin": true,
           "gridcolor": "white",
           "linecolor": "white",
           "ticks": "",
           "title": {
            "standoff": 15
           },
           "zerolinecolor": "white",
           "zerolinewidth": 2
          },
          "yaxis": {
           "automargin": true,
           "gridcolor": "white",
           "linecolor": "white",
           "ticks": "",
           "title": {
            "standoff": 15
           },
           "zerolinecolor": "white",
           "zerolinewidth": 2
          }
         }
        },
        "xaxis": {
         "anchor": "y",
         "domain": [
          0,
          1
         ],
         "title": {
          "text": "WeekStartDate"
         }
        },
        "yaxis": {
         "anchor": "x",
         "domain": [
          0,
          1
         ],
         "title": {
          "text": "NewPos_All"
         }
        }
       }
      },
      "text/html": [
       "<div>\n",
       "        \n",
       "        \n",
       "            <div id=\"771c99de-111f-45a7-afbd-75d1c24cbed2\" class=\"plotly-graph-div\" style=\"height:525px; width:100%;\"></div>\n",
       "            <script type=\"text/javascript\">\n",
       "                require([\"plotly\"], function(Plotly) {\n",
       "                    window.PLOTLYENV=window.PLOTLYENV || {};\n",
       "                    \n",
       "                if (document.getElementById(\"771c99de-111f-45a7-afbd-75d1c24cbed2\")) {\n",
       "                    Plotly.newPlot(\n",
       "                        '771c99de-111f-45a7-afbd-75d1c24cbed2',\n",
       "                        [{\"hovertemplate\": \"County=Adams County<br>WeekStartDate=%{x}<br>NewPos_All=%{y}<extra></extra>\", \"legendgroup\": \"Adams County\", \"marker\": {\"color\": \"#636efa\", \"symbol\": \"circle\"}, \"mode\": \"markers\", \"name\": \"Adams County\", \"orientation\": \"v\", \"showlegend\": true, \"type\": \"scatter\", \"x\": [\"2020-03-08\", \"2020-03-15\", \"2020-03-22\", \"2020-03-29\", \"2020-04-05\", \"2020-04-12\", \"2020-04-19\", \"2020-04-26\", \"2020-05-03\", \"2020-05-10\", \"2020-05-17\", \"2020-05-24\", \"2020-05-31\"], \"xaxis\": \"x\", \"y\": [4, 3, 9, 17, 8, 2, 4, 2, 1, 2, 4, 17, 6], \"yaxis\": \"y\"}, {\"hovertemplate\": \"County=Asotin County<br>WeekStartDate=%{x}<br>NewPos_All=%{y}<extra></extra>\", \"legendgroup\": \"Asotin County\", \"marker\": {\"color\": \"#EF553B\", \"symbol\": \"circle\"}, \"mode\": \"markers\", \"name\": \"Asotin County\", \"orientation\": \"v\", \"showlegend\": true, \"type\": \"scatter\", \"x\": [\"2020-03-15\", \"2020-03-29\", \"2020-04-05\", \"2020-04-12\", \"2020-04-19\", \"2020-05-17\"], \"xaxis\": \"x\", \"y\": [2, 2, 7, 4, 3, 1], \"yaxis\": \"y\"}, {\"hovertemplate\": \"County=Benton County<br>WeekStartDate=%{x}<br>NewPos_All=%{y}<extra></extra>\", \"legendgroup\": \"Benton County\", \"marker\": {\"color\": \"#00cc96\", \"symbol\": \"circle\"}, \"mode\": \"markers\", \"name\": \"Benton County\", \"orientation\": \"v\", \"showlegend\": true, \"type\": \"scatter\", \"x\": [\"2020-02-16\", \"2020-03-01\", \"2020-03-08\", \"2020-03-15\", \"2020-03-22\", \"2020-03-29\", \"2020-04-05\", \"2020-04-12\", \"2020-04-19\", \"2020-04-26\", \"2020-05-03\", \"2020-05-10\", \"2020-05-17\", \"2020-05-24\", \"2020-05-31\"], \"xaxis\": \"x\", \"y\": [1, 6, 17, 55, 104, 88, 70, 65, 101, 80, 41, 62, 87, 64, 89], \"yaxis\": \"y\"}, {\"hovertemplate\": \"County=Chelan County<br>WeekStartDate=%{x}<br>NewPos_All=%{y}<extra></extra>\", \"legendgroup\": \"Chelan County\", \"marker\": {\"color\": \"#ab63fa\", \"symbol\": \"circle\"}, \"mode\": \"markers\", \"name\": \"Chelan County\", \"orientation\": \"v\", \"showlegend\": true, \"type\": \"scatter\", \"x\": [\"2020-02-09\", \"2020-03-08\", \"2020-03-15\", \"2020-03-22\", \"2020-03-29\", \"2020-04-05\", \"2020-04-12\", \"2020-04-19\", \"2020-04-26\", \"2020-05-03\", \"2020-05-10\", \"2020-05-17\", \"2020-05-24\", \"2020-05-31\"], \"xaxis\": \"x\", \"y\": [1, 8, 7, 12, 24, 15, 25, 26, 21, 24, 35, 42, 15, 7], \"yaxis\": \"y\"}, {\"hovertemplate\": \"County=Clallam County<br>WeekStartDate=%{x}<br>NewPos_All=%{y}<extra></extra>\", \"legendgroup\": \"Clallam County\", \"marker\": {\"color\": \"#FFA15A\", \"symbol\": \"circle\"}, \"mode\": \"markers\", \"name\": \"Clallam County\", \"orientation\": \"v\", \"showlegend\": true, \"type\": \"scatter\", \"x\": [\"2020-03-01\", \"2020-03-08\", \"2020-03-15\", \"2020-03-29\", \"2020-04-05\", \"2020-04-19\", \"2020-04-26\", \"2020-05-10\", \"2020-05-17\", \"2020-05-24\"], \"xaxis\": \"x\", \"y\": [2, 5, 3, 3, 1, 4, 1, 4, 2, 2], \"yaxis\": \"y\"}, {\"hovertemplate\": \"County=Clark County<br>WeekStartDate=%{x}<br>NewPos_All=%{y}<extra></extra>\", \"legendgroup\": \"Clark County\", \"marker\": {\"color\": \"#19d3f3\", \"symbol\": \"circle\"}, \"mode\": \"markers\", \"name\": \"Clark County\", \"orientation\": \"v\", \"showlegend\": true, \"type\": \"scatter\", \"x\": [\"2020-02-23\", \"2020-03-01\", \"2020-03-08\", \"2020-03-15\", \"2020-03-22\", \"2020-03-29\", \"2020-04-05\", \"2020-04-12\", \"2020-04-19\", \"2020-04-26\", \"2020-05-03\", \"2020-05-10\", \"2020-05-17\", \"2020-05-24\", \"2020-05-31\"], \"xaxis\": \"x\", \"y\": [3, 5, 29, 57, 66, 52, 61, 46, 22, 18, 21, 20, 70, 78, 14], \"yaxis\": \"y\"}, {\"hovertemplate\": \"County=Cowlitz County<br>WeekStartDate=%{x}<br>NewPos_All=%{y}<extra></extra>\", \"legendgroup\": \"Cowlitz County\", \"marker\": {\"color\": \"#FF6692\", \"symbol\": \"circle\"}, \"mode\": \"markers\", \"name\": \"Cowlitz County\", \"orientation\": \"v\", \"showlegend\": true, \"type\": \"scatter\", \"x\": [\"2020-02-23\", \"2020-03-01\", \"2020-03-08\", \"2020-03-15\", \"2020-03-22\", \"2020-03-29\", \"2020-04-05\", \"2020-04-12\", \"2020-04-19\", \"2020-04-26\", \"2020-05-03\", \"2020-05-10\", \"2020-05-17\", \"2020-05-24\", \"2020-05-31\"], \"xaxis\": \"x\", \"y\": [1, 1, 8, 8, 3, 7, 6, 10, 5, 14, 5, 5, 2, 3, 3], \"yaxis\": \"y\"}, {\"hovertemplate\": \"County=Douglas County<br>WeekStartDate=%{x}<br>NewPos_All=%{y}<extra></extra>\", \"legendgroup\": \"Douglas County\", \"marker\": {\"color\": \"#B6E880\", \"symbol\": \"circle\"}, \"mode\": \"markers\", \"name\": \"Douglas County\", \"orientation\": \"v\", \"showlegend\": true, \"type\": \"scatter\", \"x\": [\"2020-03-01\", \"2020-03-08\", \"2020-03-15\", \"2020-03-22\", \"2020-03-29\", \"2020-04-05\", \"2020-04-12\", \"2020-04-19\", \"2020-04-26\", \"2020-05-03\", \"2020-05-10\", \"2020-05-17\", \"2020-05-24\", \"2020-05-31\"], \"xaxis\": \"x\", \"y\": [2, 1, 1, 9, 8, 8, 38, 14, 22, 18, 21, 23, 9, 4], \"yaxis\": \"y\"}, {\"hovertemplate\": \"County=Franklin County<br>WeekStartDate=%{x}<br>NewPos_All=%{y}<extra></extra>\", \"legendgroup\": \"Franklin County\", \"marker\": {\"color\": \"#FF97FF\", \"symbol\": \"circle\"}, \"mode\": \"markers\", \"name\": \"Franklin County\", \"orientation\": \"v\", \"showlegend\": true, \"type\": \"scatter\", \"x\": [\"2020-02-09\", \"2020-02-23\", \"2020-03-01\", \"2020-03-08\", \"2020-03-15\", \"2020-03-22\", \"2020-03-29\", \"2020-04-05\", \"2020-04-12\", \"2020-04-19\", \"2020-04-26\", \"2020-05-03\", \"2020-05-10\", \"2020-05-17\", \"2020-05-24\", \"2020-05-31\"], \"xaxis\": \"x\", \"y\": [1, 1, 2, 5, 18, 48, 52, 63, 76, 79, 68, 33, 48, 76, 77, 75], \"yaxis\": \"y\"}, {\"hovertemplate\": \"County=Grant County<br>WeekStartDate=%{x}<br>NewPos_All=%{y}<extra></extra>\", \"legendgroup\": \"Grant County\", \"marker\": {\"color\": \"#FECB52\", \"symbol\": \"circle\"}, \"mode\": \"markers\", \"name\": \"Grant County\", \"orientation\": \"v\", \"showlegend\": true, \"type\": \"scatter\", \"x\": [\"2020-02-16\", \"2020-02-23\", \"2020-03-01\", \"2020-03-08\", \"2020-03-15\", \"2020-03-22\", \"2020-03-29\", \"2020-04-05\", \"2020-04-12\", \"2020-04-19\", \"2020-04-26\", \"2020-05-03\", \"2020-05-10\", \"2020-05-17\", \"2020-05-24\", \"2020-05-31\"], \"xaxis\": \"x\", \"y\": [1, 1, 4, 36, 32, 22, 18, 26, 13, 8, 21, 4, 5, 9, 13, 3], \"yaxis\": \"y\"}, {\"hovertemplate\": \"County=Grays Harbor County<br>WeekStartDate=%{x}<br>NewPos_All=%{y}<extra></extra>\", \"legendgroup\": \"Grays Harbor County\", \"marker\": {\"color\": \"#636efa\", \"symbol\": \"circle\"}, \"mode\": \"markers\", \"name\": \"Grays Harbor County\", \"orientation\": \"v\", \"showlegend\": true, \"type\": \"scatter\", \"x\": [\"2020-02-16\", \"2020-02-23\", \"2020-03-01\", \"2020-03-15\", \"2020-03-22\", \"2020-03-29\", \"2020-04-05\", \"2020-04-26\", \"2020-05-03\", \"2020-05-17\", \"2020-05-24\", \"2020-05-31\"], \"xaxis\": \"x\", \"y\": [1, 1, 1, 1, 3, 4, 1, 1, 2, 2, 1, 1], \"yaxis\": \"y\"}, {\"hovertemplate\": \"County=Island County<br>WeekStartDate=%{x}<br>NewPos_All=%{y}<extra></extra>\", \"legendgroup\": \"Island County\", \"marker\": {\"color\": \"#EF553B\", \"symbol\": \"circle\"}, \"mode\": \"markers\", \"name\": \"Island County\", \"orientation\": \"v\", \"showlegend\": true, \"type\": \"scatter\", \"x\": [\"2020-02-23\", \"2020-03-01\", \"2020-03-08\", \"2020-03-15\", \"2020-03-22\", \"2020-03-29\", \"2020-04-05\", \"2020-04-12\", \"2020-04-19\", \"2020-04-26\", \"2020-05-03\", \"2020-05-10\", \"2020-05-24\"], \"xaxis\": \"x\", \"y\": [2, 10, 25, 33, 70, 22, 5, 1, 3, 4, 4, 1, 1], \"yaxis\": \"y\"}, {\"hovertemplate\": \"County=Jefferson County<br>WeekStartDate=%{x}<br>NewPos_All=%{y}<extra></extra>\", \"legendgroup\": \"Jefferson County\", \"marker\": {\"color\": \"#00cc96\", \"symbol\": \"circle\"}, \"mode\": \"markers\", \"name\": \"Jefferson County\", \"orientation\": \"v\", \"showlegend\": true, \"type\": \"scatter\", \"x\": [\"2020-02-23\", \"2020-03-01\", \"2020-03-08\", \"2020-03-15\", \"2020-03-22\", \"2020-03-29\", \"2020-05-31\"], \"xaxis\": \"x\", \"y\": [2, 4, 10, 9, 3, 2, 1], \"yaxis\": \"y\"}, {\"hovertemplate\": \"County=King County<br>WeekStartDate=%{x}<br>NewPos_All=%{y}<extra></extra>\", \"legendgroup\": \"King County\", \"marker\": {\"color\": \"#ab63fa\", \"symbol\": \"circle\"}, \"mode\": \"markers\", \"name\": \"King County\", \"orientation\": \"v\", \"showlegend\": true, \"type\": \"scatter\", \"x\": [\"2020-02-02\", \"2020-02-09\", \"2020-02-16\", \"2020-02-23\", \"2020-03-01\", \"2020-03-08\", \"2020-03-15\", \"2020-03-22\", \"2020-03-29\", \"2020-04-05\", \"2020-04-12\", \"2020-04-19\", \"2020-04-26\", \"2020-05-03\", \"2020-05-10\", \"2020-05-17\", \"2020-05-24\", \"2020-05-31\"], \"xaxis\": \"x\", \"y\": [3, 6, 44, 114, 286, 794, 1031, 1085, 974, 801, 725, 599, 568, 402, 370, 255, 239, 161], \"yaxis\": \"y\"}, {\"hovertemplate\": \"County=Kitsap County<br>WeekStartDate=%{x}<br>NewPos_All=%{y}<extra></extra>\", \"legendgroup\": \"Kitsap County\", \"marker\": {\"color\": \"#FFA15A\", \"symbol\": \"circle\"}, \"mode\": \"markers\", \"name\": \"Kitsap County\", \"orientation\": \"v\", \"showlegend\": true, \"type\": \"scatter\", \"x\": [\"2020-02-16\", \"2020-02-23\", \"2020-03-01\", \"2020-03-08\", \"2020-03-15\", \"2020-03-22\", \"2020-03-29\", \"2020-04-05\", \"2020-04-12\", \"2020-04-19\", \"2020-04-26\", \"2020-05-03\", \"2020-05-10\", \"2020-05-24\", \"2020-05-31\"], \"xaxis\": \"x\", \"y\": [1, 1, 6, 22, 34, 36, 27, 11, 9, 3, 3, 2, 6, 2, 2], \"yaxis\": \"y\"}, {\"hovertemplate\": \"County=Kittitas County<br>WeekStartDate=%{x}<br>NewPos_All=%{y}<extra></extra>\", \"legendgroup\": \"Kittitas County\", \"marker\": {\"color\": \"#19d3f3\", \"symbol\": \"circle\"}, \"mode\": \"markers\", \"name\": \"Kittitas County\", \"orientation\": \"v\", \"showlegend\": true, \"type\": \"scatter\", \"x\": [\"2020-01-26\", \"2020-02-16\", \"2020-03-08\", \"2020-03-15\", \"2020-03-22\", \"2020-03-29\", \"2020-04-05\", \"2020-04-19\", \"2020-04-26\", \"2020-05-03\", \"2020-05-10\", \"2020-05-17\", \"2020-05-24\", \"2020-05-31\"], \"xaxis\": \"x\", \"y\": [1, 3, 2, 5, 2, 2, 1, 1, 2, 30, 18, 17, 4, 1], \"yaxis\": \"y\"}, {\"hovertemplate\": \"County=Klickitat County<br>WeekStartDate=%{x}<br>NewPos_All=%{y}<extra></extra>\", \"legendgroup\": \"Klickitat County\", \"marker\": {\"color\": \"#FF6692\", \"symbol\": \"circle\"}, \"mode\": \"markers\", \"name\": \"Klickitat County\", \"orientation\": \"v\", \"showlegend\": true, \"type\": \"scatter\", \"x\": [\"2020-03-01\", \"2020-03-15\", \"2020-03-22\", \"2020-03-29\", \"2020-04-05\", \"2020-04-19\", \"2020-04-26\", \"2020-05-03\", \"2020-05-10\", \"2020-05-17\", \"2020-05-24\", \"2020-05-31\"], \"xaxis\": \"x\", \"y\": [2, 6, 2, 2, 4, 2, 3, 3, 1, 1, 3, 4], \"yaxis\": \"y\"}, {\"hovertemplate\": \"County=Lewis County<br>WeekStartDate=%{x}<br>NewPos_All=%{y}<extra></extra>\", \"legendgroup\": \"Lewis County\", \"marker\": {\"color\": \"#B6E880\", \"symbol\": \"circle\"}, \"mode\": \"markers\", \"name\": \"Lewis County\", \"orientation\": \"v\", \"showlegend\": true, \"type\": \"scatter\", \"x\": [\"2020-03-08\", \"2020-03-15\", \"2020-03-22\", \"2020-03-29\", \"2020-04-05\", \"2020-04-12\", \"2020-04-19\", \"2020-04-26\", \"2020-05-03\", \"2020-05-10\", \"2020-05-24\"], \"xaxis\": \"x\", \"y\": [3, 10, 4, 2, 3, 1, 6, 1, 1, 4, 2], \"yaxis\": \"y\"}, {\"hovertemplate\": \"County=Mason County<br>WeekStartDate=%{x}<br>NewPos_All=%{y}<extra></extra>\", \"legendgroup\": \"Mason County\", \"marker\": {\"color\": \"#FF97FF\", \"symbol\": \"circle\"}, \"mode\": \"markers\", \"name\": \"Mason County\", \"orientation\": \"v\", \"showlegend\": true, \"type\": \"scatter\", \"x\": [\"2020-03-08\", \"2020-03-15\", \"2020-03-22\", \"2020-03-29\", \"2020-04-12\", \"2020-04-19\", \"2020-04-26\", \"2020-05-03\", \"2020-05-10\", \"2020-05-17\", \"2020-05-24\", \"2020-05-31\"], \"xaxis\": \"x\", \"y\": [2, 1, 6, 11, 2, 2, 4, 2, 3, 2, 1, 2], \"yaxis\": \"y\"}, {\"hovertemplate\": \"County=Okanogan County<br>WeekStartDate=%{x}<br>NewPos_All=%{y}<extra></extra>\", \"legendgroup\": \"Okanogan County\", \"marker\": {\"color\": \"#FECB52\", \"symbol\": \"circle\"}, \"mode\": \"markers\", \"name\": \"Okanogan County\", \"orientation\": \"v\", \"showlegend\": true, \"type\": \"scatter\", \"x\": [\"2020-03-08\", \"2020-03-15\", \"2020-03-22\", \"2020-03-29\", \"2020-04-05\", \"2020-04-12\", \"2020-04-19\", \"2020-04-26\", \"2020-05-03\", \"2020-05-10\", \"2020-05-17\", \"2020-05-24\", \"2020-05-31\"], \"xaxis\": \"x\", \"y\": [3, 1, 5, 4, 2, 3, 6, 1, 11, 9, 2, 6, 3], \"yaxis\": \"y\"}, {\"hovertemplate\": \"County=Pacific County<br>WeekStartDate=%{x}<br>NewPos_All=%{y}<extra></extra>\", \"legendgroup\": \"Pacific County\", \"marker\": {\"color\": \"#636efa\", \"symbol\": \"circle\"}, \"mode\": \"markers\", \"name\": \"Pacific County\", \"orientation\": \"v\", \"showlegend\": true, \"type\": \"scatter\", \"x\": [\"2020-03-29\", \"2020-04-05\", \"2020-04-19\", \"2020-04-26\", \"2020-05-03\"], \"xaxis\": \"x\", \"y\": [2, 1, 1, 2, 3], \"yaxis\": \"y\"}, {\"hovertemplate\": \"County=Pierce County<br>WeekStartDate=%{x}<br>NewPos_All=%{y}<extra></extra>\", \"legendgroup\": \"Pierce County\", \"marker\": {\"color\": \"#EF553B\", \"symbol\": \"circle\"}, \"mode\": \"markers\", \"name\": \"Pierce County\", \"orientation\": \"v\", \"showlegend\": true, \"type\": \"scatter\", \"x\": [\"2020-02-16\", \"2020-02-23\", \"2020-03-01\", \"2020-03-08\", \"2020-03-15\", \"2020-03-22\", \"2020-03-29\", \"2020-04-05\", \"2020-04-12\", \"2020-04-19\", \"2020-04-26\", \"2020-05-03\", \"2020-05-10\", \"2020-05-17\", \"2020-05-24\", \"2020-05-31\"], \"xaxis\": \"x\", \"y\": [1, 11, 38, 105, 224, 239, 282, 189, 199, 161, 151, 144, 95, 71, 62, 62], \"yaxis\": \"y\"}, {\"hovertemplate\": \"County=San Juan County<br>WeekStartDate=%{x}<br>NewPos_All=%{y}<extra></extra>\", \"legendgroup\": \"San Juan County\", \"marker\": {\"color\": \"#00cc96\", \"symbol\": \"circle\"}, \"mode\": \"markers\", \"name\": \"San Juan County\", \"orientation\": \"v\", \"showlegend\": true, \"type\": \"scatter\", \"x\": [\"2020-03-08\", \"2020-03-15\", \"2020-03-22\", \"2020-03-29\", \"2020-04-05\", \"2020-04-12\"], \"xaxis\": \"x\", \"y\": [1, 3, 2, 7, 1, 1], \"yaxis\": \"y\"}, {\"hovertemplate\": \"County=Skagit County<br>WeekStartDate=%{x}<br>NewPos_All=%{y}<extra></extra>\", \"legendgroup\": \"Skagit County\", \"marker\": {\"color\": \"#ab63fa\", \"symbol\": \"circle\"}, \"mode\": \"markers\", \"name\": \"Skagit County\", \"orientation\": \"v\", \"showlegend\": true, \"type\": \"scatter\", \"x\": [\"2020-02-16\", \"2020-02-23\", \"2020-03-01\", \"2020-03-08\", \"2020-03-15\", \"2020-03-22\", \"2020-03-29\", \"2020-04-05\", \"2020-04-12\", \"2020-04-19\", \"2020-04-26\", \"2020-05-03\", \"2020-05-10\", \"2020-05-17\", \"2020-05-24\", \"2020-05-31\"], \"xaxis\": \"x\", \"y\": [1, 1, 8, 42, 49, 44, 39, 44, 55, 66, 42, 26, 11, 2, 13, 6], \"yaxis\": \"y\"}, {\"hovertemplate\": \"County=Snohomish County<br>WeekStartDate=%{x}<br>NewPos_All=%{y}<extra></extra>\", \"legendgroup\": \"Snohomish County\", \"marker\": {\"color\": \"#FFA15A\", \"symbol\": \"circle\"}, \"mode\": \"markers\", \"name\": \"Snohomish County\", \"orientation\": \"v\", \"showlegend\": true, \"type\": \"scatter\", \"x\": [\"2020-01-16\", \"2020-01-26\", \"2020-02-02\", \"2020-02-09\", \"2020-02-16\", \"2020-02-23\", \"2020-03-01\", \"2020-03-08\", \"2020-03-15\", \"2020-03-22\", \"2020-03-29\", \"2020-04-05\", \"2020-04-12\", \"2020-04-19\", \"2020-04-26\", \"2020-05-03\", \"2020-05-10\", \"2020-05-17\", \"2020-05-24\", \"2020-05-31\"], \"xaxis\": \"x\", \"y\": [1, 1, 6, 4, 20, 51, 199, 343, 494, 426, 298, 217, 202, 197, 187, 112, 91, 89, 54, 41], \"yaxis\": \"y\"}, {\"hovertemplate\": \"County=Spokane County<br>WeekStartDate=%{x}<br>NewPos_All=%{y}<extra></extra>\", \"legendgroup\": \"Spokane County\", \"marker\": {\"color\": \"#19d3f3\", \"symbol\": \"circle\"}, \"mode\": \"markers\", \"name\": \"Spokane County\", \"orientation\": \"v\", \"showlegend\": true, \"type\": \"scatter\", \"x\": [\"2020-02-16\", \"2020-02-23\", \"2020-03-01\", \"2020-03-08\", \"2020-03-15\", \"2020-03-22\", \"2020-03-29\", \"2020-04-05\", \"2020-04-12\", \"2020-04-19\", \"2020-04-26\", \"2020-05-03\", \"2020-05-10\", \"2020-05-17\", \"2020-05-24\", \"2020-05-31\"], \"xaxis\": \"x\", \"y\": [1, 1, 9, 38, 89, 72, 44, 31, 33, 40, 20, 16, 43, 111, 89, 90], \"yaxis\": \"y\"}, {\"hovertemplate\": \"County=Stevens County<br>WeekStartDate=%{x}<br>NewPos_All=%{y}<extra></extra>\", \"legendgroup\": \"Stevens County\", \"marker\": {\"color\": \"#FF6692\", \"symbol\": \"circle\"}, \"mode\": \"markers\", \"name\": \"Stevens County\", \"orientation\": \"v\", \"showlegend\": true, \"type\": \"scatter\", \"x\": [\"2020-03-01\", \"2020-03-08\", \"2020-03-15\", \"2020-03-22\", \"2020-03-29\", \"2020-04-12\", \"2020-05-10\", \"2020-05-17\", \"2020-05-24\"], \"xaxis\": \"x\", \"y\": [1, 1, 1, 3, 1, 2, 1, 2, 1], \"yaxis\": \"y\"}, {\"hovertemplate\": \"County=Thurston County<br>WeekStartDate=%{x}<br>NewPos_All=%{y}<extra></extra>\", \"legendgroup\": \"Thurston County\", \"marker\": {\"color\": \"#B6E880\", \"symbol\": \"circle\"}, \"mode\": \"markers\", \"name\": \"Thurston County\", \"orientation\": \"v\", \"showlegend\": true, \"type\": \"scatter\", \"x\": [\"2020-02-23\", \"2020-03-01\", \"2020-03-08\", \"2020-03-15\", \"2020-03-22\", \"2020-03-29\", \"2020-04-05\", \"2020-04-12\", \"2020-04-19\", \"2020-04-26\", \"2020-05-03\", \"2020-05-10\", \"2020-05-17\", \"2020-05-24\", \"2020-05-31\"], \"xaxis\": \"x\", \"y\": [1, 4, 17, 15, 31, 16, 10, 12, 6, 5, 5, 3, 4, 24, 13], \"yaxis\": \"y\"}, {\"hovertemplate\": \"County=Walla Walla County<br>WeekStartDate=%{x}<br>NewPos_All=%{y}<extra></extra>\", \"legendgroup\": \"Walla Walla County\", \"marker\": {\"color\": \"#FF97FF\", \"symbol\": \"circle\"}, \"mode\": \"markers\", \"name\": \"Walla Walla County\", \"orientation\": \"v\", \"showlegend\": true, \"type\": \"scatter\", \"x\": [\"2020-03-08\", \"2020-03-15\", \"2020-03-22\", \"2020-03-29\", \"2020-04-05\", \"2020-04-12\", \"2020-04-19\", \"2020-04-26\", \"2020-05-03\", \"2020-05-10\", \"2020-05-17\", \"2020-05-24\", \"2020-05-31\"], \"xaxis\": \"x\", \"y\": [1, 2, 5, 11, 16, 11, 30, 18, 7, 5, 2, 3, 5], \"yaxis\": \"y\"}, {\"hovertemplate\": \"County=Whatcom County<br>WeekStartDate=%{x}<br>NewPos_All=%{y}<extra></extra>\", \"legendgroup\": \"Whatcom County\", \"marker\": {\"color\": \"#FECB52\", \"symbol\": \"circle\"}, \"mode\": \"markers\", \"name\": \"Whatcom County\", \"orientation\": \"v\", \"showlegend\": true, \"type\": \"scatter\", \"x\": [\"2020-02-16\", \"2020-02-23\", \"2020-03-01\", \"2020-03-08\", \"2020-03-15\", \"2020-03-22\", \"2020-03-29\", \"2020-04-05\", \"2020-04-12\", \"2020-04-19\", \"2020-04-26\", \"2020-05-03\", \"2020-05-10\", \"2020-05-17\", \"2020-05-24\", \"2020-05-31\"], \"xaxis\": \"x\", \"y\": [1, 1, 6, 27, 72, 84, 65, 21, 12, 13, 24, 15, 22, 21, 19, 7], \"yaxis\": \"y\"}, {\"hovertemplate\": \"County=Whitman County<br>WeekStartDate=%{x}<br>NewPos_All=%{y}<extra></extra>\", \"legendgroup\": \"Whitman County\", \"marker\": {\"color\": \"#636efa\", \"symbol\": \"circle\"}, \"mode\": \"markers\", \"name\": \"Whitman County\", \"orientation\": \"v\", \"showlegend\": true, \"type\": \"scatter\", \"x\": [\"2020-03-08\", \"2020-03-15\", \"2020-03-22\", \"2020-03-29\", \"2020-04-12\", \"2020-04-19\", \"2020-05-10\", \"2020-05-17\"], \"xaxis\": \"x\", \"y\": [1, 4, 3, 4, 3, 1, 2, 2], \"yaxis\": \"y\"}, {\"hovertemplate\": \"County=Yakima County<br>WeekStartDate=%{x}<br>NewPos_All=%{y}<extra></extra>\", \"legendgroup\": \"Yakima County\", \"marker\": {\"color\": \"#EF553B\", \"symbol\": \"circle\"}, \"mode\": \"markers\", \"name\": \"Yakima County\", \"orientation\": \"v\", \"showlegend\": true, \"type\": \"scatter\", \"x\": [\"2020-01-16\", \"2020-02-09\", \"2020-02-16\", \"2020-03-01\", \"2020-03-08\", \"2020-03-15\", \"2020-03-22\", \"2020-03-29\", \"2020-04-05\", \"2020-04-12\", \"2020-04-19\", \"2020-04-26\", \"2020-05-03\", \"2020-05-10\", \"2020-05-17\", \"2020-05-24\", \"2020-05-31\"], \"xaxis\": \"x\", \"y\": [1, 3, 2, 14, 22, 74, 156, 228, 235, 242, 287, 399, 518, 615, 638, 606, 469], \"yaxis\": \"y\"}, {\"hovertemplate\": \"County=Unassigned<br>WeekStartDate=%{x}<br>NewPos_All=%{y}<extra></extra>\", \"legendgroup\": \"Unassigned\", \"marker\": {\"color\": \"#00cc96\", \"symbol\": \"circle\"}, \"mode\": \"markers\", \"name\": \"Unassigned\", \"orientation\": \"v\", \"showlegend\": true, \"type\": \"scatter\", \"x\": [\"2020-04-19\", \"2020-05-10\", \"2020-05-17\", \"2020-05-24\", \"2020-05-31\"], \"xaxis\": \"x\", \"y\": [1, 2, 7, 5, 17], \"yaxis\": \"y\"}],\n",
       "                        {\"legend\": {\"title\": {\"text\": \"County\"}, \"tracegroupgap\": 0}, \"margin\": {\"t\": 60}, \"template\": {\"data\": {\"bar\": [{\"error_x\": {\"color\": \"#2a3f5f\"}, \"error_y\": {\"color\": \"#2a3f5f\"}, \"marker\": {\"line\": {\"color\": \"#E5ECF6\", \"width\": 0.5}}, \"type\": \"bar\"}], \"barpolar\": [{\"marker\": {\"line\": {\"color\": \"#E5ECF6\", \"width\": 0.5}}, \"type\": \"barpolar\"}], \"carpet\": [{\"aaxis\": {\"endlinecolor\": \"#2a3f5f\", \"gridcolor\": \"white\", \"linecolor\": \"white\", \"minorgridcolor\": \"white\", \"startlinecolor\": \"#2a3f5f\"}, \"baxis\": {\"endlinecolor\": \"#2a3f5f\", \"gridcolor\": \"white\", \"linecolor\": \"white\", \"minorgridcolor\": \"white\", \"startlinecolor\": \"#2a3f5f\"}, \"type\": \"carpet\"}], \"choropleth\": [{\"colorbar\": {\"outlinewidth\": 0, \"ticks\": \"\"}, \"type\": \"choropleth\"}], \"contour\": [{\"colorbar\": {\"outlinewidth\": 0, \"ticks\": \"\"}, \"colorscale\": [[0.0, \"#0d0887\"], [0.1111111111111111, \"#46039f\"], [0.2222222222222222, \"#7201a8\"], [0.3333333333333333, \"#9c179e\"], [0.4444444444444444, \"#bd3786\"], [0.5555555555555556, \"#d8576b\"], [0.6666666666666666, \"#ed7953\"], [0.7777777777777778, \"#fb9f3a\"], [0.8888888888888888, \"#fdca26\"], [1.0, \"#f0f921\"]], \"type\": \"contour\"}], \"contourcarpet\": [{\"colorbar\": {\"outlinewidth\": 0, \"ticks\": \"\"}, \"type\": \"contourcarpet\"}], \"heatmap\": [{\"colorbar\": {\"outlinewidth\": 0, \"ticks\": \"\"}, \"colorscale\": [[0.0, \"#0d0887\"], [0.1111111111111111, \"#46039f\"], [0.2222222222222222, \"#7201a8\"], [0.3333333333333333, \"#9c179e\"], [0.4444444444444444, \"#bd3786\"], [0.5555555555555556, \"#d8576b\"], [0.6666666666666666, \"#ed7953\"], [0.7777777777777778, \"#fb9f3a\"], [0.8888888888888888, \"#fdca26\"], [1.0, \"#f0f921\"]], \"type\": \"heatmap\"}], \"heatmapgl\": [{\"colorbar\": {\"outlinewidth\": 0, \"ticks\": \"\"}, \"colorscale\": [[0.0, \"#0d0887\"], [0.1111111111111111, \"#46039f\"], [0.2222222222222222, \"#7201a8\"], [0.3333333333333333, \"#9c179e\"], [0.4444444444444444, \"#bd3786\"], [0.5555555555555556, \"#d8576b\"], [0.6666666666666666, \"#ed7953\"], [0.7777777777777778, \"#fb9f3a\"], [0.8888888888888888, \"#fdca26\"], [1.0, \"#f0f921\"]], \"type\": \"heatmapgl\"}], \"histogram\": [{\"marker\": {\"colorbar\": {\"outlinewidth\": 0, \"ticks\": \"\"}}, \"type\": \"histogram\"}], \"histogram2d\": [{\"colorbar\": {\"outlinewidth\": 0, \"ticks\": \"\"}, \"colorscale\": [[0.0, \"#0d0887\"], [0.1111111111111111, \"#46039f\"], [0.2222222222222222, \"#7201a8\"], [0.3333333333333333, \"#9c179e\"], [0.4444444444444444, \"#bd3786\"], [0.5555555555555556, \"#d8576b\"], [0.6666666666666666, \"#ed7953\"], [0.7777777777777778, \"#fb9f3a\"], [0.8888888888888888, \"#fdca26\"], [1.0, \"#f0f921\"]], \"type\": \"histogram2d\"}], \"histogram2dcontour\": [{\"colorbar\": {\"outlinewidth\": 0, \"ticks\": \"\"}, \"colorscale\": [[0.0, \"#0d0887\"], [0.1111111111111111, \"#46039f\"], [0.2222222222222222, \"#7201a8\"], [0.3333333333333333, \"#9c179e\"], [0.4444444444444444, \"#bd3786\"], [0.5555555555555556, \"#d8576b\"], [0.6666666666666666, \"#ed7953\"], [0.7777777777777778, \"#fb9f3a\"], [0.8888888888888888, \"#fdca26\"], [1.0, \"#f0f921\"]], \"type\": \"histogram2dcontour\"}], \"mesh3d\": [{\"colorbar\": {\"outlinewidth\": 0, \"ticks\": \"\"}, \"type\": \"mesh3d\"}], \"parcoords\": [{\"line\": {\"colorbar\": {\"outlinewidth\": 0, \"ticks\": \"\"}}, \"type\": \"parcoords\"}], \"pie\": [{\"automargin\": true, \"type\": \"pie\"}], \"scatter\": [{\"marker\": {\"colorbar\": {\"outlinewidth\": 0, \"ticks\": \"\"}}, \"type\": \"scatter\"}], \"scatter3d\": [{\"line\": {\"colorbar\": {\"outlinewidth\": 0, \"ticks\": \"\"}}, \"marker\": {\"colorbar\": {\"outlinewidth\": 0, \"ticks\": \"\"}}, \"type\": \"scatter3d\"}], \"scattercarpet\": [{\"marker\": {\"colorbar\": {\"outlinewidth\": 0, \"ticks\": \"\"}}, \"type\": \"scattercarpet\"}], \"scattergeo\": [{\"marker\": {\"colorbar\": {\"outlinewidth\": 0, \"ticks\": \"\"}}, \"type\": \"scattergeo\"}], \"scattergl\": [{\"marker\": {\"colorbar\": {\"outlinewidth\": 0, \"ticks\": \"\"}}, \"type\": \"scattergl\"}], \"scattermapbox\": [{\"marker\": {\"colorbar\": {\"outlinewidth\": 0, \"ticks\": \"\"}}, \"type\": \"scattermapbox\"}], \"scatterpolar\": [{\"marker\": {\"colorbar\": {\"outlinewidth\": 0, \"ticks\": \"\"}}, \"type\": \"scatterpolar\"}], \"scatterpolargl\": [{\"marker\": {\"colorbar\": {\"outlinewidth\": 0, \"ticks\": \"\"}}, \"type\": \"scatterpolargl\"}], \"scatterternary\": [{\"marker\": {\"colorbar\": {\"outlinewidth\": 0, \"ticks\": \"\"}}, \"type\": \"scatterternary\"}], \"surface\": [{\"colorbar\": {\"outlinewidth\": 0, \"ticks\": \"\"}, \"colorscale\": [[0.0, \"#0d0887\"], [0.1111111111111111, \"#46039f\"], [0.2222222222222222, \"#7201a8\"], [0.3333333333333333, \"#9c179e\"], [0.4444444444444444, \"#bd3786\"], [0.5555555555555556, \"#d8576b\"], [0.6666666666666666, \"#ed7953\"], [0.7777777777777778, \"#fb9f3a\"], [0.8888888888888888, \"#fdca26\"], [1.0, \"#f0f921\"]], \"type\": \"surface\"}], \"table\": [{\"cells\": {\"fill\": {\"color\": \"#EBF0F8\"}, \"line\": {\"color\": \"white\"}}, \"header\": {\"fill\": {\"color\": \"#C8D4E3\"}, \"line\": {\"color\": \"white\"}}, \"type\": \"table\"}]}, \"layout\": {\"annotationdefaults\": {\"arrowcolor\": \"#2a3f5f\", \"arrowhead\": 0, \"arrowwidth\": 1}, \"coloraxis\": {\"colorbar\": {\"outlinewidth\": 0, \"ticks\": \"\"}}, \"colorscale\": {\"diverging\": [[0, \"#8e0152\"], [0.1, \"#c51b7d\"], [0.2, \"#de77ae\"], [0.3, \"#f1b6da\"], [0.4, \"#fde0ef\"], [0.5, \"#f7f7f7\"], [0.6, \"#e6f5d0\"], [0.7, \"#b8e186\"], [0.8, \"#7fbc41\"], [0.9, \"#4d9221\"], [1, \"#276419\"]], \"sequential\": [[0.0, \"#0d0887\"], [0.1111111111111111, \"#46039f\"], [0.2222222222222222, \"#7201a8\"], [0.3333333333333333, \"#9c179e\"], [0.4444444444444444, \"#bd3786\"], [0.5555555555555556, \"#d8576b\"], [0.6666666666666666, \"#ed7953\"], [0.7777777777777778, \"#fb9f3a\"], [0.8888888888888888, \"#fdca26\"], [1.0, \"#f0f921\"]], \"sequentialminus\": [[0.0, \"#0d0887\"], [0.1111111111111111, \"#46039f\"], [0.2222222222222222, \"#7201a8\"], [0.3333333333333333, \"#9c179e\"], [0.4444444444444444, \"#bd3786\"], [0.5555555555555556, \"#d8576b\"], [0.6666666666666666, \"#ed7953\"], [0.7777777777777778, \"#fb9f3a\"], [0.8888888888888888, \"#fdca26\"], [1.0, \"#f0f921\"]]}, \"colorway\": [\"#636efa\", \"#EF553B\", \"#00cc96\", \"#ab63fa\", \"#FFA15A\", \"#19d3f3\", \"#FF6692\", \"#B6E880\", \"#FF97FF\", \"#FECB52\"], \"font\": {\"color\": \"#2a3f5f\"}, \"geo\": {\"bgcolor\": \"white\", \"lakecolor\": \"white\", \"landcolor\": \"#E5ECF6\", \"showlakes\": true, \"showland\": true, \"subunitcolor\": \"white\"}, \"hoverlabel\": {\"align\": \"left\"}, \"hovermode\": \"closest\", \"mapbox\": {\"style\": \"light\"}, \"paper_bgcolor\": \"white\", \"plot_bgcolor\": \"#E5ECF6\", \"polar\": {\"angularaxis\": {\"gridcolor\": \"white\", \"linecolor\": \"white\", \"ticks\": \"\"}, \"bgcolor\": \"#E5ECF6\", \"radialaxis\": {\"gridcolor\": \"white\", \"linecolor\": \"white\", \"ticks\": \"\"}}, \"scene\": {\"xaxis\": {\"backgroundcolor\": \"#E5ECF6\", \"gridcolor\": \"white\", \"gridwidth\": 2, \"linecolor\": \"white\", \"showbackground\": true, \"ticks\": \"\", \"zerolinecolor\": \"white\"}, \"yaxis\": {\"backgroundcolor\": \"#E5ECF6\", \"gridcolor\": \"white\", \"gridwidth\": 2, \"linecolor\": \"white\", \"showbackground\": true, \"ticks\": \"\", \"zerolinecolor\": \"white\"}, \"zaxis\": {\"backgroundcolor\": \"#E5ECF6\", \"gridcolor\": \"white\", \"gridwidth\": 2, \"linecolor\": \"white\", \"showbackground\": true, \"ticks\": \"\", \"zerolinecolor\": \"white\"}}, \"shapedefaults\": {\"line\": {\"color\": \"#2a3f5f\"}}, \"ternary\": {\"aaxis\": {\"gridcolor\": \"white\", \"linecolor\": \"white\", \"ticks\": \"\"}, \"baxis\": {\"gridcolor\": \"white\", \"linecolor\": \"white\", \"ticks\": \"\"}, \"bgcolor\": \"#E5ECF6\", \"caxis\": {\"gridcolor\": \"white\", \"linecolor\": \"white\", \"ticks\": \"\"}}, \"title\": {\"x\": 0.05}, \"xaxis\": {\"automargin\": true, \"gridcolor\": \"white\", \"linecolor\": \"white\", \"ticks\": \"\", \"title\": {\"standoff\": 15}, \"zerolinecolor\": \"white\", \"zerolinewidth\": 2}, \"yaxis\": {\"automargin\": true, \"gridcolor\": \"white\", \"linecolor\": \"white\", \"ticks\": \"\", \"title\": {\"standoff\": 15}, \"zerolinecolor\": \"white\", \"zerolinewidth\": 2}}}, \"xaxis\": {\"anchor\": \"y\", \"domain\": [0.0, 1.0], \"title\": {\"text\": \"WeekStartDate\"}}, \"yaxis\": {\"anchor\": \"x\", \"domain\": [0.0, 1.0], \"title\": {\"text\": \"NewPos_All\"}}},\n",
       "                        {\"responsive\": true}\n",
       "                    ).then(function(){\n",
       "                            \n",
       "var gd = document.getElementById('771c99de-111f-45a7-afbd-75d1c24cbed2');\n",
       "var x = new MutationObserver(function (mutations, observer) {{\n",
       "        var display = window.getComputedStyle(gd).display;\n",
       "        if (!display || display === 'none') {{\n",
       "            console.log([gd, 'removed!']);\n",
       "            Plotly.purge(gd);\n",
       "            observer.disconnect();\n",
       "        }}\n",
       "}});\n",
       "\n",
       "// Listen for the removal of the full notebook cells\n",
       "var notebookContainer = gd.closest('#notebook-container');\n",
       "if (notebookContainer) {{\n",
       "    x.observe(notebookContainer, {childList: true});\n",
       "}}\n",
       "\n",
       "// Listen for the clearing of the current output cell\n",
       "var outputEl = gd.closest('.output');\n",
       "if (outputEl) {{\n",
       "    x.observe(outputEl, {childList: true});\n",
       "}}\n",
       "\n",
       "                        })\n",
       "                };\n",
       "                });\n",
       "            </script>\n",
       "        </div>"
      ]
     },
     "metadata": {},
     "output_type": "display_data"
    }
   ],
   "source": [
    "px.scatter(df, x=\"WeekStartDate\", y=\"NewPos_All\", color='County')"
   ]
  },
  {
   "cell_type": "code",
   "execution_count": 26,
   "metadata": {},
   "outputs": [
    {
     "data": {
      "application/vnd.plotly.v1+json": {
       "config": {
        "plotlyServerURL": "https://plot.ly"
       },
       "data": [
        {
         "hovertemplate": "County=Adams County<br>WeekStartDate=%{x}<br>Age 0-19=%{y}<extra></extra>",
         "legendgroup": "Adams County",
         "marker": {
          "color": "#636efa",
          "symbol": "circle"
         },
         "mode": "markers",
         "name": "Adams County",
         "orientation": "v",
         "showlegend": true,
         "type": "scatter",
         "x": [
          "2020-03-08",
          "2020-03-15",
          "2020-03-22",
          "2020-03-29",
          "2020-04-05",
          "2020-04-12",
          "2020-04-19",
          "2020-04-26",
          "2020-05-03",
          "2020-05-10",
          "2020-05-17",
          "2020-05-24",
          "2020-05-31"
         ],
         "xaxis": "x",
         "y": [
          0,
          0,
          0,
          2,
          1,
          0,
          0,
          0,
          1,
          0,
          0,
          2,
          1
         ],
         "yaxis": "y"
        },
        {
         "hovertemplate": "County=Asotin County<br>WeekStartDate=%{x}<br>Age 0-19=%{y}<extra></extra>",
         "legendgroup": "Asotin County",
         "marker": {
          "color": "#EF553B",
          "symbol": "circle"
         },
         "mode": "markers",
         "name": "Asotin County",
         "orientation": "v",
         "showlegend": true,
         "type": "scatter",
         "x": [
          "2020-03-15",
          "2020-03-29",
          "2020-04-05",
          "2020-04-12",
          "2020-04-19",
          "2020-05-17"
         ],
         "xaxis": "x",
         "y": [
          0,
          0,
          0,
          1,
          0,
          0
         ],
         "yaxis": "y"
        },
        {
         "hovertemplate": "County=Benton County<br>WeekStartDate=%{x}<br>Age 0-19=%{y}<extra></extra>",
         "legendgroup": "Benton County",
         "marker": {
          "color": "#00cc96",
          "symbol": "circle"
         },
         "mode": "markers",
         "name": "Benton County",
         "orientation": "v",
         "showlegend": true,
         "type": "scatter",
         "x": [
          "2020-02-16",
          "2020-03-01",
          "2020-03-08",
          "2020-03-15",
          "2020-03-22",
          "2020-03-29",
          "2020-04-05",
          "2020-04-12",
          "2020-04-19",
          "2020-04-26",
          "2020-05-03",
          "2020-05-10",
          "2020-05-17",
          "2020-05-24",
          "2020-05-31"
         ],
         "xaxis": "x",
         "y": [
          0,
          0,
          0,
          2,
          3,
          2,
          7,
          3,
          6,
          7,
          2,
          2,
          11,
          5,
          10
         ],
         "yaxis": "y"
        },
        {
         "hovertemplate": "County=Chelan County<br>WeekStartDate=%{x}<br>Age 0-19=%{y}<extra></extra>",
         "legendgroup": "Chelan County",
         "marker": {
          "color": "#ab63fa",
          "symbol": "circle"
         },
         "mode": "markers",
         "name": "Chelan County",
         "orientation": "v",
         "showlegend": true,
         "type": "scatter",
         "x": [
          "2020-02-09",
          "2020-03-08",
          "2020-03-15",
          "2020-03-22",
          "2020-03-29",
          "2020-04-05",
          "2020-04-12",
          "2020-04-19",
          "2020-04-26",
          "2020-05-03",
          "2020-05-10",
          "2020-05-17",
          "2020-05-24",
          "2020-05-31"
         ],
         "xaxis": "x",
         "y": [
          0,
          0,
          0,
          0,
          1,
          0,
          1,
          5,
          2,
          5,
          7,
          5,
          3,
          1
         ],
         "yaxis": "y"
        },
        {
         "hovertemplate": "County=Clallam County<br>WeekStartDate=%{x}<br>Age 0-19=%{y}<extra></extra>",
         "legendgroup": "Clallam County",
         "marker": {
          "color": "#FFA15A",
          "symbol": "circle"
         },
         "mode": "markers",
         "name": "Clallam County",
         "orientation": "v",
         "showlegend": true,
         "type": "scatter",
         "x": [
          "2020-03-01",
          "2020-03-08",
          "2020-03-15",
          "2020-03-29",
          "2020-04-05",
          "2020-04-19",
          "2020-04-26",
          "2020-05-10",
          "2020-05-17",
          "2020-05-24"
         ],
         "xaxis": "x",
         "y": [
          0,
          0,
          0,
          0,
          0,
          0,
          0,
          2,
          2,
          0
         ],
         "yaxis": "y"
        },
        {
         "hovertemplate": "County=Clark County<br>WeekStartDate=%{x}<br>Age 0-19=%{y}<extra></extra>",
         "legendgroup": "Clark County",
         "marker": {
          "color": "#19d3f3",
          "symbol": "circle"
         },
         "mode": "markers",
         "name": "Clark County",
         "orientation": "v",
         "showlegend": true,
         "type": "scatter",
         "x": [
          "2020-02-23",
          "2020-03-01",
          "2020-03-08",
          "2020-03-15",
          "2020-03-22",
          "2020-03-29",
          "2020-04-05",
          "2020-04-12",
          "2020-04-19",
          "2020-04-26",
          "2020-05-03",
          "2020-05-10",
          "2020-05-17",
          "2020-05-24",
          "2020-05-31"
         ],
         "xaxis": "x",
         "y": [
          0,
          0,
          0,
          2,
          0,
          1,
          2,
          2,
          3,
          3,
          6,
          2,
          4,
          27,
          2
         ],
         "yaxis": "y"
        },
        {
         "hovertemplate": "County=Cowlitz County<br>WeekStartDate=%{x}<br>Age 0-19=%{y}<extra></extra>",
         "legendgroup": "Cowlitz County",
         "marker": {
          "color": "#FF6692",
          "symbol": "circle"
         },
         "mode": "markers",
         "name": "Cowlitz County",
         "orientation": "v",
         "showlegend": true,
         "type": "scatter",
         "x": [
          "2020-02-23",
          "2020-03-01",
          "2020-03-08",
          "2020-03-15",
          "2020-03-22",
          "2020-03-29",
          "2020-04-05",
          "2020-04-12",
          "2020-04-19",
          "2020-04-26",
          "2020-05-03",
          "2020-05-10",
          "2020-05-17",
          "2020-05-24",
          "2020-05-31"
         ],
         "xaxis": "x",
         "y": [
          0,
          0,
          0,
          0,
          0,
          1,
          0,
          0,
          0,
          5,
          1,
          0,
          0,
          0,
          0
         ],
         "yaxis": "y"
        },
        {
         "hovertemplate": "County=Douglas County<br>WeekStartDate=%{x}<br>Age 0-19=%{y}<extra></extra>",
         "legendgroup": "Douglas County",
         "marker": {
          "color": "#B6E880",
          "symbol": "circle"
         },
         "mode": "markers",
         "name": "Douglas County",
         "orientation": "v",
         "showlegend": true,
         "type": "scatter",
         "x": [
          "2020-03-01",
          "2020-03-08",
          "2020-03-15",
          "2020-03-22",
          "2020-03-29",
          "2020-04-05",
          "2020-04-12",
          "2020-04-19",
          "2020-04-26",
          "2020-05-03",
          "2020-05-10",
          "2020-05-17",
          "2020-05-24",
          "2020-05-31"
         ],
         "xaxis": "x",
         "y": [
          0,
          0,
          0,
          3,
          1,
          0,
          2,
          0,
          1,
          3,
          2,
          4,
          1,
          0
         ],
         "yaxis": "y"
        },
        {
         "hovertemplate": "County=Franklin County<br>WeekStartDate=%{x}<br>Age 0-19=%{y}<extra></extra>",
         "legendgroup": "Franklin County",
         "marker": {
          "color": "#FF97FF",
          "symbol": "circle"
         },
         "mode": "markers",
         "name": "Franklin County",
         "orientation": "v",
         "showlegend": true,
         "type": "scatter",
         "x": [
          "2020-02-09",
          "2020-02-23",
          "2020-03-01",
          "2020-03-08",
          "2020-03-15",
          "2020-03-22",
          "2020-03-29",
          "2020-04-05",
          "2020-04-12",
          "2020-04-19",
          "2020-04-26",
          "2020-05-03",
          "2020-05-10",
          "2020-05-17",
          "2020-05-24",
          "2020-05-31"
         ],
         "xaxis": "x",
         "y": [
          0,
          0,
          0,
          0,
          0,
          1,
          3,
          1,
          3,
          3,
          2,
          0,
          3,
          13,
          17,
          8
         ],
         "yaxis": "y"
        },
        {
         "hovertemplate": "County=Grant County<br>WeekStartDate=%{x}<br>Age 0-19=%{y}<extra></extra>",
         "legendgroup": "Grant County",
         "marker": {
          "color": "#FECB52",
          "symbol": "circle"
         },
         "mode": "markers",
         "name": "Grant County",
         "orientation": "v",
         "showlegend": true,
         "type": "scatter",
         "x": [
          "2020-02-16",
          "2020-02-23",
          "2020-03-01",
          "2020-03-08",
          "2020-03-15",
          "2020-03-22",
          "2020-03-29",
          "2020-04-05",
          "2020-04-12",
          "2020-04-19",
          "2020-04-26",
          "2020-05-03",
          "2020-05-10",
          "2020-05-17",
          "2020-05-24",
          "2020-05-31"
         ],
         "xaxis": "x",
         "y": [
          0,
          0,
          0,
          4,
          1,
          2,
          1,
          3,
          3,
          1,
          2,
          0,
          2,
          2,
          3,
          0
         ],
         "yaxis": "y"
        },
        {
         "hovertemplate": "County=Grays Harbor County<br>WeekStartDate=%{x}<br>Age 0-19=%{y}<extra></extra>",
         "legendgroup": "Grays Harbor County",
         "marker": {
          "color": "#636efa",
          "symbol": "circle"
         },
         "mode": "markers",
         "name": "Grays Harbor County",
         "orientation": "v",
         "showlegend": true,
         "type": "scatter",
         "x": [
          "2020-02-16",
          "2020-02-23",
          "2020-03-01",
          "2020-03-15",
          "2020-03-22",
          "2020-03-29",
          "2020-04-05",
          "2020-04-26",
          "2020-05-03",
          "2020-05-17",
          "2020-05-24",
          "2020-05-31"
         ],
         "xaxis": "x",
         "y": [
          0,
          0,
          0,
          0,
          0,
          0,
          0,
          0,
          0,
          1,
          0,
          0
         ],
         "yaxis": "y"
        },
        {
         "hovertemplate": "County=Island County<br>WeekStartDate=%{x}<br>Age 0-19=%{y}<extra></extra>",
         "legendgroup": "Island County",
         "marker": {
          "color": "#EF553B",
          "symbol": "circle"
         },
         "mode": "markers",
         "name": "Island County",
         "orientation": "v",
         "showlegend": true,
         "type": "scatter",
         "x": [
          "2020-02-23",
          "2020-03-01",
          "2020-03-08",
          "2020-03-15",
          "2020-03-22",
          "2020-03-29",
          "2020-04-05",
          "2020-04-12",
          "2020-04-19",
          "2020-04-26",
          "2020-05-03",
          "2020-05-10",
          "2020-05-24"
         ],
         "xaxis": "x",
         "y": [
          0,
          0,
          0,
          0,
          3,
          0,
          0,
          0,
          0,
          0,
          0,
          0,
          0
         ],
         "yaxis": "y"
        },
        {
         "hovertemplate": "County=Jefferson County<br>WeekStartDate=%{x}<br>Age 0-19=%{y}<extra></extra>",
         "legendgroup": "Jefferson County",
         "marker": {
          "color": "#00cc96",
          "symbol": "circle"
         },
         "mode": "markers",
         "name": "Jefferson County",
         "orientation": "v",
         "showlegend": true,
         "type": "scatter",
         "x": [
          "2020-02-23",
          "2020-03-01",
          "2020-03-08",
          "2020-03-15",
          "2020-03-22",
          "2020-03-29",
          "2020-05-31"
         ],
         "xaxis": "x",
         "y": [
          0,
          0,
          0,
          0,
          0,
          0,
          1
         ],
         "yaxis": "y"
        },
        {
         "hovertemplate": "County=King County<br>WeekStartDate=%{x}<br>Age 0-19=%{y}<extra></extra>",
         "legendgroup": "King County",
         "marker": {
          "color": "#ab63fa",
          "symbol": "circle"
         },
         "mode": "markers",
         "name": "King County",
         "orientation": "v",
         "showlegend": true,
         "type": "scatter",
         "x": [
          "2020-02-02",
          "2020-02-09",
          "2020-02-16",
          "2020-02-23",
          "2020-03-01",
          "2020-03-08",
          "2020-03-15",
          "2020-03-22",
          "2020-03-29",
          "2020-04-05",
          "2020-04-12",
          "2020-04-19",
          "2020-04-26",
          "2020-05-03",
          "2020-05-10",
          "2020-05-17",
          "2020-05-24",
          "2020-05-31"
         ],
         "xaxis": "x",
         "y": [
          0,
          0,
          1,
          2,
          1,
          19,
          12,
          19,
          36,
          33,
          41,
          33,
          41,
          41,
          43,
          41,
          21,
          31
         ],
         "yaxis": "y"
        },
        {
         "hovertemplate": "County=Kitsap County<br>WeekStartDate=%{x}<br>Age 0-19=%{y}<extra></extra>",
         "legendgroup": "Kitsap County",
         "marker": {
          "color": "#FFA15A",
          "symbol": "circle"
         },
         "mode": "markers",
         "name": "Kitsap County",
         "orientation": "v",
         "showlegend": true,
         "type": "scatter",
         "x": [
          "2020-02-16",
          "2020-02-23",
          "2020-03-01",
          "2020-03-08",
          "2020-03-15",
          "2020-03-22",
          "2020-03-29",
          "2020-04-05",
          "2020-04-12",
          "2020-04-19",
          "2020-04-26",
          "2020-05-03",
          "2020-05-10",
          "2020-05-24",
          "2020-05-31"
         ],
         "xaxis": "x",
         "y": [
          0,
          0,
          0,
          2,
          1,
          1,
          1,
          0,
          1,
          0,
          1,
          0,
          0,
          0,
          0
         ],
         "yaxis": "y"
        },
        {
         "hovertemplate": "County=Kittitas County<br>WeekStartDate=%{x}<br>Age 0-19=%{y}<extra></extra>",
         "legendgroup": "Kittitas County",
         "marker": {
          "color": "#19d3f3",
          "symbol": "circle"
         },
         "mode": "markers",
         "name": "Kittitas County",
         "orientation": "v",
         "showlegend": true,
         "type": "scatter",
         "x": [
          "2020-01-26",
          "2020-02-16",
          "2020-03-08",
          "2020-03-15",
          "2020-03-22",
          "2020-03-29",
          "2020-04-05",
          "2020-04-19",
          "2020-04-26",
          "2020-05-03",
          "2020-05-10",
          "2020-05-17",
          "2020-05-24",
          "2020-05-31"
         ],
         "xaxis": "x",
         "y": [
          0,
          0,
          0,
          0,
          0,
          0,
          0,
          0,
          0,
          1,
          5,
          7,
          2,
          0
         ],
         "yaxis": "y"
        },
        {
         "hovertemplate": "County=Klickitat County<br>WeekStartDate=%{x}<br>Age 0-19=%{y}<extra></extra>",
         "legendgroup": "Klickitat County",
         "marker": {
          "color": "#FF6692",
          "symbol": "circle"
         },
         "mode": "markers",
         "name": "Klickitat County",
         "orientation": "v",
         "showlegend": true,
         "type": "scatter",
         "x": [
          "2020-03-01",
          "2020-03-15",
          "2020-03-22",
          "2020-03-29",
          "2020-04-05",
          "2020-04-19",
          "2020-04-26",
          "2020-05-03",
          "2020-05-10",
          "2020-05-17",
          "2020-05-24",
          "2020-05-31"
         ],
         "xaxis": "x",
         "y": [
          0,
          0,
          0,
          1,
          0,
          0,
          0,
          1,
          0,
          0,
          1,
          0
         ],
         "yaxis": "y"
        },
        {
         "hovertemplate": "County=Lewis County<br>WeekStartDate=%{x}<br>Age 0-19=%{y}<extra></extra>",
         "legendgroup": "Lewis County",
         "marker": {
          "color": "#B6E880",
          "symbol": "circle"
         },
         "mode": "markers",
         "name": "Lewis County",
         "orientation": "v",
         "showlegend": true,
         "type": "scatter",
         "x": [
          "2020-03-08",
          "2020-03-15",
          "2020-03-22",
          "2020-03-29",
          "2020-04-05",
          "2020-04-12",
          "2020-04-19",
          "2020-04-26",
          "2020-05-03",
          "2020-05-10",
          "2020-05-24"
         ],
         "xaxis": "x",
         "y": [
          0,
          0,
          0,
          0,
          0,
          0,
          0,
          0,
          0,
          0,
          0
         ],
         "yaxis": "y"
        },
        {
         "hovertemplate": "County=Mason County<br>WeekStartDate=%{x}<br>Age 0-19=%{y}<extra></extra>",
         "legendgroup": "Mason County",
         "marker": {
          "color": "#FF97FF",
          "symbol": "circle"
         },
         "mode": "markers",
         "name": "Mason County",
         "orientation": "v",
         "showlegend": true,
         "type": "scatter",
         "x": [
          "2020-03-08",
          "2020-03-15",
          "2020-03-22",
          "2020-03-29",
          "2020-04-12",
          "2020-04-19",
          "2020-04-26",
          "2020-05-03",
          "2020-05-10",
          "2020-05-17",
          "2020-05-24",
          "2020-05-31"
         ],
         "xaxis": "x",
         "y": [
          0,
          0,
          0,
          0,
          0,
          0,
          0,
          0,
          0,
          0,
          0,
          0
         ],
         "yaxis": "y"
        },
        {
         "hovertemplate": "County=Okanogan County<br>WeekStartDate=%{x}<br>Age 0-19=%{y}<extra></extra>",
         "legendgroup": "Okanogan County",
         "marker": {
          "color": "#FECB52",
          "symbol": "circle"
         },
         "mode": "markers",
         "name": "Okanogan County",
         "orientation": "v",
         "showlegend": true,
         "type": "scatter",
         "x": [
          "2020-03-08",
          "2020-03-15",
          "2020-03-22",
          "2020-03-29",
          "2020-04-05",
          "2020-04-12",
          "2020-04-19",
          "2020-04-26",
          "2020-05-03",
          "2020-05-10",
          "2020-05-17",
          "2020-05-24",
          "2020-05-31"
         ],
         "xaxis": "x",
         "y": [
          0,
          0,
          1,
          2,
          1,
          0,
          0,
          1,
          0,
          4,
          1,
          1,
          0
         ],
         "yaxis": "y"
        },
        {
         "hovertemplate": "County=Pacific County<br>WeekStartDate=%{x}<br>Age 0-19=%{y}<extra></extra>",
         "legendgroup": "Pacific County",
         "marker": {
          "color": "#636efa",
          "symbol": "circle"
         },
         "mode": "markers",
         "name": "Pacific County",
         "orientation": "v",
         "showlegend": true,
         "type": "scatter",
         "x": [
          "2020-03-29",
          "2020-04-05",
          "2020-04-19",
          "2020-04-26",
          "2020-05-03"
         ],
         "xaxis": "x",
         "y": [
          0,
          0,
          0,
          0,
          0
         ],
         "yaxis": "y"
        },
        {
         "hovertemplate": "County=Pierce County<br>WeekStartDate=%{x}<br>Age 0-19=%{y}<extra></extra>",
         "legendgroup": "Pierce County",
         "marker": {
          "color": "#EF553B",
          "symbol": "circle"
         },
         "mode": "markers",
         "name": "Pierce County",
         "orientation": "v",
         "showlegend": true,
         "type": "scatter",
         "x": [
          "2020-02-16",
          "2020-02-23",
          "2020-03-01",
          "2020-03-08",
          "2020-03-15",
          "2020-03-22",
          "2020-03-29",
          "2020-04-05",
          "2020-04-12",
          "2020-04-19",
          "2020-04-26",
          "2020-05-03",
          "2020-05-10",
          "2020-05-17",
          "2020-05-24",
          "2020-05-31"
         ],
         "xaxis": "x",
         "y": [
          0,
          2,
          0,
          4,
          7,
          6,
          10,
          13,
          3,
          11,
          15,
          11,
          12,
          6,
          6,
          7
         ],
         "yaxis": "y"
        },
        {
         "hovertemplate": "County=San Juan County<br>WeekStartDate=%{x}<br>Age 0-19=%{y}<extra></extra>",
         "legendgroup": "San Juan County",
         "marker": {
          "color": "#00cc96",
          "symbol": "circle"
         },
         "mode": "markers",
         "name": "San Juan County",
         "orientation": "v",
         "showlegend": true,
         "type": "scatter",
         "x": [
          "2020-03-08",
          "2020-03-15",
          "2020-03-22",
          "2020-03-29",
          "2020-04-05",
          "2020-04-12"
         ],
         "xaxis": "x",
         "y": [
          0,
          0,
          0,
          0,
          1,
          0
         ],
         "yaxis": "y"
        },
        {
         "hovertemplate": "County=Skagit County<br>WeekStartDate=%{x}<br>Age 0-19=%{y}<extra></extra>",
         "legendgroup": "Skagit County",
         "marker": {
          "color": "#ab63fa",
          "symbol": "circle"
         },
         "mode": "markers",
         "name": "Skagit County",
         "orientation": "v",
         "showlegend": true,
         "type": "scatter",
         "x": [
          "2020-02-16",
          "2020-02-23",
          "2020-03-01",
          "2020-03-08",
          "2020-03-15",
          "2020-03-22",
          "2020-03-29",
          "2020-04-05",
          "2020-04-12",
          "2020-04-19",
          "2020-04-26",
          "2020-05-03",
          "2020-05-10",
          "2020-05-17",
          "2020-05-24",
          "2020-05-31"
         ],
         "xaxis": "x",
         "y": [
          0,
          0,
          0,
          1,
          3,
          3,
          0,
          3,
          4,
          10,
          7,
          1,
          4,
          0,
          2,
          3
         ],
         "yaxis": "y"
        },
        {
         "hovertemplate": "County=Snohomish County<br>WeekStartDate=%{x}<br>Age 0-19=%{y}<extra></extra>",
         "legendgroup": "Snohomish County",
         "marker": {
          "color": "#FFA15A",
          "symbol": "circle"
         },
         "mode": "markers",
         "name": "Snohomish County",
         "orientation": "v",
         "showlegend": true,
         "type": "scatter",
         "x": [
          "2020-01-16",
          "2020-01-26",
          "2020-02-02",
          "2020-02-09",
          "2020-02-16",
          "2020-02-23",
          "2020-03-01",
          "2020-03-08",
          "2020-03-15",
          "2020-03-22",
          "2020-03-29",
          "2020-04-05",
          "2020-04-12",
          "2020-04-19",
          "2020-04-26",
          "2020-05-03",
          "2020-05-10",
          "2020-05-17",
          "2020-05-24",
          "2020-05-31"
         ],
         "xaxis": "x",
         "y": [
          0,
          0,
          0,
          0,
          1,
          1,
          3,
          5,
          6,
          16,
          15,
          9,
          16,
          10,
          13,
          6,
          9,
          7,
          6,
          7
         ],
         "yaxis": "y"
        },
        {
         "hovertemplate": "County=Spokane County<br>WeekStartDate=%{x}<br>Age 0-19=%{y}<extra></extra>",
         "legendgroup": "Spokane County",
         "marker": {
          "color": "#19d3f3",
          "symbol": "circle"
         },
         "mode": "markers",
         "name": "Spokane County",
         "orientation": "v",
         "showlegend": true,
         "type": "scatter",
         "x": [
          "2020-02-16",
          "2020-02-23",
          "2020-03-01",
          "2020-03-08",
          "2020-03-15",
          "2020-03-22",
          "2020-03-29",
          "2020-04-05",
          "2020-04-12",
          "2020-04-19",
          "2020-04-26",
          "2020-05-03",
          "2020-05-10",
          "2020-05-17",
          "2020-05-24",
          "2020-05-31"
         ],
         "xaxis": "x",
         "y": [
          0,
          0,
          0,
          0,
          1,
          2,
          3,
          0,
          0,
          4,
          0,
          7,
          6,
          20,
          12,
          18
         ],
         "yaxis": "y"
        },
        {
         "hovertemplate": "County=Stevens County<br>WeekStartDate=%{x}<br>Age 0-19=%{y}<extra></extra>",
         "legendgroup": "Stevens County",
         "marker": {
          "color": "#FF6692",
          "symbol": "circle"
         },
         "mode": "markers",
         "name": "Stevens County",
         "orientation": "v",
         "showlegend": true,
         "type": "scatter",
         "x": [
          "2020-03-01",
          "2020-03-08",
          "2020-03-15",
          "2020-03-22",
          "2020-03-29",
          "2020-04-12",
          "2020-05-10",
          "2020-05-17",
          "2020-05-24"
         ],
         "xaxis": "x",
         "y": [
          0,
          0,
          0,
          0,
          0,
          1,
          0,
          0,
          0
         ],
         "yaxis": "y"
        },
        {
         "hovertemplate": "County=Thurston County<br>WeekStartDate=%{x}<br>Age 0-19=%{y}<extra></extra>",
         "legendgroup": "Thurston County",
         "marker": {
          "color": "#B6E880",
          "symbol": "circle"
         },
         "mode": "markers",
         "name": "Thurston County",
         "orientation": "v",
         "showlegend": true,
         "type": "scatter",
         "x": [
          "2020-02-23",
          "2020-03-01",
          "2020-03-08",
          "2020-03-15",
          "2020-03-22",
          "2020-03-29",
          "2020-04-05",
          "2020-04-12",
          "2020-04-19",
          "2020-04-26",
          "2020-05-03",
          "2020-05-10",
          "2020-05-17",
          "2020-05-24",
          "2020-05-31"
         ],
         "xaxis": "x",
         "y": [
          0,
          0,
          0,
          0,
          1,
          1,
          0,
          1,
          1,
          3,
          0,
          0,
          0,
          0,
          1
         ],
         "yaxis": "y"
        },
        {
         "hovertemplate": "County=Walla Walla County<br>WeekStartDate=%{x}<br>Age 0-19=%{y}<extra></extra>",
         "legendgroup": "Walla Walla County",
         "marker": {
          "color": "#FF97FF",
          "symbol": "circle"
         },
         "mode": "markers",
         "name": "Walla Walla County",
         "orientation": "v",
         "showlegend": true,
         "type": "scatter",
         "x": [
          "2020-03-08",
          "2020-03-15",
          "2020-03-22",
          "2020-03-29",
          "2020-04-05",
          "2020-04-12",
          "2020-04-19",
          "2020-04-26",
          "2020-05-03",
          "2020-05-10",
          "2020-05-17",
          "2020-05-24",
          "2020-05-31"
         ],
         "xaxis": "x",
         "y": [
          0,
          0,
          0,
          1,
          0,
          1,
          3,
          3,
          0,
          0,
          0,
          1,
          0
         ],
         "yaxis": "y"
        },
        {
         "hovertemplate": "County=Whatcom County<br>WeekStartDate=%{x}<br>Age 0-19=%{y}<extra></extra>",
         "legendgroup": "Whatcom County",
         "marker": {
          "color": "#FECB52",
          "symbol": "circle"
         },
         "mode": "markers",
         "name": "Whatcom County",
         "orientation": "v",
         "showlegend": true,
         "type": "scatter",
         "x": [
          "2020-02-16",
          "2020-02-23",
          "2020-03-01",
          "2020-03-08",
          "2020-03-15",
          "2020-03-22",
          "2020-03-29",
          "2020-04-05",
          "2020-04-12",
          "2020-04-19",
          "2020-04-26",
          "2020-05-03",
          "2020-05-10",
          "2020-05-17",
          "2020-05-24",
          "2020-05-31"
         ],
         "xaxis": "x",
         "y": [
          0,
          0,
          0,
          1,
          1,
          1,
          4,
          1,
          0,
          2,
          5,
          2,
          5,
          6,
          8,
          2
         ],
         "yaxis": "y"
        },
        {
         "hovertemplate": "County=Whitman County<br>WeekStartDate=%{x}<br>Age 0-19=%{y}<extra></extra>",
         "legendgroup": "Whitman County",
         "marker": {
          "color": "#636efa",
          "symbol": "circle"
         },
         "mode": "markers",
         "name": "Whitman County",
         "orientation": "v",
         "showlegend": true,
         "type": "scatter",
         "x": [
          "2020-03-08",
          "2020-03-15",
          "2020-03-22",
          "2020-03-29",
          "2020-04-12",
          "2020-04-19",
          "2020-05-10",
          "2020-05-17"
         ],
         "xaxis": "x",
         "y": [
          0,
          0,
          1,
          0,
          0,
          0,
          0,
          0
         ],
         "yaxis": "y"
        },
        {
         "hovertemplate": "County=Yakima County<br>WeekStartDate=%{x}<br>Age 0-19=%{y}<extra></extra>",
         "legendgroup": "Yakima County",
         "marker": {
          "color": "#EF553B",
          "symbol": "circle"
         },
         "mode": "markers",
         "name": "Yakima County",
         "orientation": "v",
         "showlegend": true,
         "type": "scatter",
         "x": [
          "2020-01-16",
          "2020-02-09",
          "2020-02-16",
          "2020-03-01",
          "2020-03-08",
          "2020-03-15",
          "2020-03-22",
          "2020-03-29",
          "2020-04-05",
          "2020-04-12",
          "2020-04-19",
          "2020-04-26",
          "2020-05-03",
          "2020-05-10",
          "2020-05-17",
          "2020-05-24",
          "2020-05-31"
         ],
         "xaxis": "x",
         "y": [
          0,
          0,
          0,
          0,
          1,
          3,
          2,
          14,
          14,
          29,
          22,
          36,
          58,
          66,
          83,
          68,
          59
         ],
         "yaxis": "y"
        },
        {
         "hovertemplate": "County=Unassigned<br>WeekStartDate=%{x}<br>Age 0-19=%{y}<extra></extra>",
         "legendgroup": "Unassigned",
         "marker": {
          "color": "#00cc96",
          "symbol": "circle"
         },
         "mode": "markers",
         "name": "Unassigned",
         "orientation": "v",
         "showlegend": true,
         "type": "scatter",
         "x": [
          "2020-04-19",
          "2020-05-10",
          "2020-05-17",
          "2020-05-24",
          "2020-05-31"
         ],
         "xaxis": "x",
         "y": [
          0,
          0,
          0,
          0,
          1
         ],
         "yaxis": "y"
        }
       ],
       "layout": {
        "legend": {
         "title": {
          "text": "County"
         },
         "tracegroupgap": 0
        },
        "margin": {
         "t": 60
        },
        "template": {
         "data": {
          "bar": [
           {
            "error_x": {
             "color": "#2a3f5f"
            },
            "error_y": {
             "color": "#2a3f5f"
            },
            "marker": {
             "line": {
              "color": "#E5ECF6",
              "width": 0.5
             }
            },
            "type": "bar"
           }
          ],
          "barpolar": [
           {
            "marker": {
             "line": {
              "color": "#E5ECF6",
              "width": 0.5
             }
            },
            "type": "barpolar"
           }
          ],
          "carpet": [
           {
            "aaxis": {
             "endlinecolor": "#2a3f5f",
             "gridcolor": "white",
             "linecolor": "white",
             "minorgridcolor": "white",
             "startlinecolor": "#2a3f5f"
            },
            "baxis": {
             "endlinecolor": "#2a3f5f",
             "gridcolor": "white",
             "linecolor": "white",
             "minorgridcolor": "white",
             "startlinecolor": "#2a3f5f"
            },
            "type": "carpet"
           }
          ],
          "choropleth": [
           {
            "colorbar": {
             "outlinewidth": 0,
             "ticks": ""
            },
            "type": "choropleth"
           }
          ],
          "contour": [
           {
            "colorbar": {
             "outlinewidth": 0,
             "ticks": ""
            },
            "colorscale": [
             [
              0,
              "#0d0887"
             ],
             [
              0.1111111111111111,
              "#46039f"
             ],
             [
              0.2222222222222222,
              "#7201a8"
             ],
             [
              0.3333333333333333,
              "#9c179e"
             ],
             [
              0.4444444444444444,
              "#bd3786"
             ],
             [
              0.5555555555555556,
              "#d8576b"
             ],
             [
              0.6666666666666666,
              "#ed7953"
             ],
             [
              0.7777777777777778,
              "#fb9f3a"
             ],
             [
              0.8888888888888888,
              "#fdca26"
             ],
             [
              1,
              "#f0f921"
             ]
            ],
            "type": "contour"
           }
          ],
          "contourcarpet": [
           {
            "colorbar": {
             "outlinewidth": 0,
             "ticks": ""
            },
            "type": "contourcarpet"
           }
          ],
          "heatmap": [
           {
            "colorbar": {
             "outlinewidth": 0,
             "ticks": ""
            },
            "colorscale": [
             [
              0,
              "#0d0887"
             ],
             [
              0.1111111111111111,
              "#46039f"
             ],
             [
              0.2222222222222222,
              "#7201a8"
             ],
             [
              0.3333333333333333,
              "#9c179e"
             ],
             [
              0.4444444444444444,
              "#bd3786"
             ],
             [
              0.5555555555555556,
              "#d8576b"
             ],
             [
              0.6666666666666666,
              "#ed7953"
             ],
             [
              0.7777777777777778,
              "#fb9f3a"
             ],
             [
              0.8888888888888888,
              "#fdca26"
             ],
             [
              1,
              "#f0f921"
             ]
            ],
            "type": "heatmap"
           }
          ],
          "heatmapgl": [
           {
            "colorbar": {
             "outlinewidth": 0,
             "ticks": ""
            },
            "colorscale": [
             [
              0,
              "#0d0887"
             ],
             [
              0.1111111111111111,
              "#46039f"
             ],
             [
              0.2222222222222222,
              "#7201a8"
             ],
             [
              0.3333333333333333,
              "#9c179e"
             ],
             [
              0.4444444444444444,
              "#bd3786"
             ],
             [
              0.5555555555555556,
              "#d8576b"
             ],
             [
              0.6666666666666666,
              "#ed7953"
             ],
             [
              0.7777777777777778,
              "#fb9f3a"
             ],
             [
              0.8888888888888888,
              "#fdca26"
             ],
             [
              1,
              "#f0f921"
             ]
            ],
            "type": "heatmapgl"
           }
          ],
          "histogram": [
           {
            "marker": {
             "colorbar": {
              "outlinewidth": 0,
              "ticks": ""
             }
            },
            "type": "histogram"
           }
          ],
          "histogram2d": [
           {
            "colorbar": {
             "outlinewidth": 0,
             "ticks": ""
            },
            "colorscale": [
             [
              0,
              "#0d0887"
             ],
             [
              0.1111111111111111,
              "#46039f"
             ],
             [
              0.2222222222222222,
              "#7201a8"
             ],
             [
              0.3333333333333333,
              "#9c179e"
             ],
             [
              0.4444444444444444,
              "#bd3786"
             ],
             [
              0.5555555555555556,
              "#d8576b"
             ],
             [
              0.6666666666666666,
              "#ed7953"
             ],
             [
              0.7777777777777778,
              "#fb9f3a"
             ],
             [
              0.8888888888888888,
              "#fdca26"
             ],
             [
              1,
              "#f0f921"
             ]
            ],
            "type": "histogram2d"
           }
          ],
          "histogram2dcontour": [
           {
            "colorbar": {
             "outlinewidth": 0,
             "ticks": ""
            },
            "colorscale": [
             [
              0,
              "#0d0887"
             ],
             [
              0.1111111111111111,
              "#46039f"
             ],
             [
              0.2222222222222222,
              "#7201a8"
             ],
             [
              0.3333333333333333,
              "#9c179e"
             ],
             [
              0.4444444444444444,
              "#bd3786"
             ],
             [
              0.5555555555555556,
              "#d8576b"
             ],
             [
              0.6666666666666666,
              "#ed7953"
             ],
             [
              0.7777777777777778,
              "#fb9f3a"
             ],
             [
              0.8888888888888888,
              "#fdca26"
             ],
             [
              1,
              "#f0f921"
             ]
            ],
            "type": "histogram2dcontour"
           }
          ],
          "mesh3d": [
           {
            "colorbar": {
             "outlinewidth": 0,
             "ticks": ""
            },
            "type": "mesh3d"
           }
          ],
          "parcoords": [
           {
            "line": {
             "colorbar": {
              "outlinewidth": 0,
              "ticks": ""
             }
            },
            "type": "parcoords"
           }
          ],
          "pie": [
           {
            "automargin": true,
            "type": "pie"
           }
          ],
          "scatter": [
           {
            "marker": {
             "colorbar": {
              "outlinewidth": 0,
              "ticks": ""
             }
            },
            "type": "scatter"
           }
          ],
          "scatter3d": [
           {
            "line": {
             "colorbar": {
              "outlinewidth": 0,
              "ticks": ""
             }
            },
            "marker": {
             "colorbar": {
              "outlinewidth": 0,
              "ticks": ""
             }
            },
            "type": "scatter3d"
           }
          ],
          "scattercarpet": [
           {
            "marker": {
             "colorbar": {
              "outlinewidth": 0,
              "ticks": ""
             }
            },
            "type": "scattercarpet"
           }
          ],
          "scattergeo": [
           {
            "marker": {
             "colorbar": {
              "outlinewidth": 0,
              "ticks": ""
             }
            },
            "type": "scattergeo"
           }
          ],
          "scattergl": [
           {
            "marker": {
             "colorbar": {
              "outlinewidth": 0,
              "ticks": ""
             }
            },
            "type": "scattergl"
           }
          ],
          "scattermapbox": [
           {
            "marker": {
             "colorbar": {
              "outlinewidth": 0,
              "ticks": ""
             }
            },
            "type": "scattermapbox"
           }
          ],
          "scatterpolar": [
           {
            "marker": {
             "colorbar": {
              "outlinewidth": 0,
              "ticks": ""
             }
            },
            "type": "scatterpolar"
           }
          ],
          "scatterpolargl": [
           {
            "marker": {
             "colorbar": {
              "outlinewidth": 0,
              "ticks": ""
             }
            },
            "type": "scatterpolargl"
           }
          ],
          "scatterternary": [
           {
            "marker": {
             "colorbar": {
              "outlinewidth": 0,
              "ticks": ""
             }
            },
            "type": "scatterternary"
           }
          ],
          "surface": [
           {
            "colorbar": {
             "outlinewidth": 0,
             "ticks": ""
            },
            "colorscale": [
             [
              0,
              "#0d0887"
             ],
             [
              0.1111111111111111,
              "#46039f"
             ],
             [
              0.2222222222222222,
              "#7201a8"
             ],
             [
              0.3333333333333333,
              "#9c179e"
             ],
             [
              0.4444444444444444,
              "#bd3786"
             ],
             [
              0.5555555555555556,
              "#d8576b"
             ],
             [
              0.6666666666666666,
              "#ed7953"
             ],
             [
              0.7777777777777778,
              "#fb9f3a"
             ],
             [
              0.8888888888888888,
              "#fdca26"
             ],
             [
              1,
              "#f0f921"
             ]
            ],
            "type": "surface"
           }
          ],
          "table": [
           {
            "cells": {
             "fill": {
              "color": "#EBF0F8"
             },
             "line": {
              "color": "white"
             }
            },
            "header": {
             "fill": {
              "color": "#C8D4E3"
             },
             "line": {
              "color": "white"
             }
            },
            "type": "table"
           }
          ]
         },
         "layout": {
          "annotationdefaults": {
           "arrowcolor": "#2a3f5f",
           "arrowhead": 0,
           "arrowwidth": 1
          },
          "coloraxis": {
           "colorbar": {
            "outlinewidth": 0,
            "ticks": ""
           }
          },
          "colorscale": {
           "diverging": [
            [
             0,
             "#8e0152"
            ],
            [
             0.1,
             "#c51b7d"
            ],
            [
             0.2,
             "#de77ae"
            ],
            [
             0.3,
             "#f1b6da"
            ],
            [
             0.4,
             "#fde0ef"
            ],
            [
             0.5,
             "#f7f7f7"
            ],
            [
             0.6,
             "#e6f5d0"
            ],
            [
             0.7,
             "#b8e186"
            ],
            [
             0.8,
             "#7fbc41"
            ],
            [
             0.9,
             "#4d9221"
            ],
            [
             1,
             "#276419"
            ]
           ],
           "sequential": [
            [
             0,
             "#0d0887"
            ],
            [
             0.1111111111111111,
             "#46039f"
            ],
            [
             0.2222222222222222,
             "#7201a8"
            ],
            [
             0.3333333333333333,
             "#9c179e"
            ],
            [
             0.4444444444444444,
             "#bd3786"
            ],
            [
             0.5555555555555556,
             "#d8576b"
            ],
            [
             0.6666666666666666,
             "#ed7953"
            ],
            [
             0.7777777777777778,
             "#fb9f3a"
            ],
            [
             0.8888888888888888,
             "#fdca26"
            ],
            [
             1,
             "#f0f921"
            ]
           ],
           "sequentialminus": [
            [
             0,
             "#0d0887"
            ],
            [
             0.1111111111111111,
             "#46039f"
            ],
            [
             0.2222222222222222,
             "#7201a8"
            ],
            [
             0.3333333333333333,
             "#9c179e"
            ],
            [
             0.4444444444444444,
             "#bd3786"
            ],
            [
             0.5555555555555556,
             "#d8576b"
            ],
            [
             0.6666666666666666,
             "#ed7953"
            ],
            [
             0.7777777777777778,
             "#fb9f3a"
            ],
            [
             0.8888888888888888,
             "#fdca26"
            ],
            [
             1,
             "#f0f921"
            ]
           ]
          },
          "colorway": [
           "#636efa",
           "#EF553B",
           "#00cc96",
           "#ab63fa",
           "#FFA15A",
           "#19d3f3",
           "#FF6692",
           "#B6E880",
           "#FF97FF",
           "#FECB52"
          ],
          "font": {
           "color": "#2a3f5f"
          },
          "geo": {
           "bgcolor": "white",
           "lakecolor": "white",
           "landcolor": "#E5ECF6",
           "showlakes": true,
           "showland": true,
           "subunitcolor": "white"
          },
          "hoverlabel": {
           "align": "left"
          },
          "hovermode": "closest",
          "mapbox": {
           "style": "light"
          },
          "paper_bgcolor": "white",
          "plot_bgcolor": "#E5ECF6",
          "polar": {
           "angularaxis": {
            "gridcolor": "white",
            "linecolor": "white",
            "ticks": ""
           },
           "bgcolor": "#E5ECF6",
           "radialaxis": {
            "gridcolor": "white",
            "linecolor": "white",
            "ticks": ""
           }
          },
          "scene": {
           "xaxis": {
            "backgroundcolor": "#E5ECF6",
            "gridcolor": "white",
            "gridwidth": 2,
            "linecolor": "white",
            "showbackground": true,
            "ticks": "",
            "zerolinecolor": "white"
           },
           "yaxis": {
            "backgroundcolor": "#E5ECF6",
            "gridcolor": "white",
            "gridwidth": 2,
            "linecolor": "white",
            "showbackground": true,
            "ticks": "",
            "zerolinecolor": "white"
           },
           "zaxis": {
            "backgroundcolor": "#E5ECF6",
            "gridcolor": "white",
            "gridwidth": 2,
            "linecolor": "white",
            "showbackground": true,
            "ticks": "",
            "zerolinecolor": "white"
           }
          },
          "shapedefaults": {
           "line": {
            "color": "#2a3f5f"
           }
          },
          "ternary": {
           "aaxis": {
            "gridcolor": "white",
            "linecolor": "white",
            "ticks": ""
           },
           "baxis": {
            "gridcolor": "white",
            "linecolor": "white",
            "ticks": ""
           },
           "bgcolor": "#E5ECF6",
           "caxis": {
            "gridcolor": "white",
            "linecolor": "white",
            "ticks": ""
           }
          },
          "title": {
           "x": 0.05
          },
          "xaxis": {
           "automargin": true,
           "gridcolor": "white",
           "linecolor": "white",
           "ticks": "",
           "title": {
            "standoff": 15
           },
           "zerolinecolor": "white",
           "zerolinewidth": 2
          },
          "yaxis": {
           "automargin": true,
           "gridcolor": "white",
           "linecolor": "white",
           "ticks": "",
           "title": {
            "standoff": 15
           },
           "zerolinecolor": "white",
           "zerolinewidth": 2
          }
         }
        },
        "xaxis": {
         "anchor": "y",
         "domain": [
          0,
          1
         ],
         "title": {
          "text": "WeekStartDate"
         }
        },
        "yaxis": {
         "anchor": "x",
         "domain": [
          0,
          1
         ],
         "title": {
          "text": "Age 0-19"
         }
        }
       }
      },
      "text/html": [
       "<div>\n",
       "        \n",
       "        \n",
       "            <div id=\"1a66871a-e7a7-4a88-87d4-6bc47696c145\" class=\"plotly-graph-div\" style=\"height:525px; width:100%;\"></div>\n",
       "            <script type=\"text/javascript\">\n",
       "                require([\"plotly\"], function(Plotly) {\n",
       "                    window.PLOTLYENV=window.PLOTLYENV || {};\n",
       "                    \n",
       "                if (document.getElementById(\"1a66871a-e7a7-4a88-87d4-6bc47696c145\")) {\n",
       "                    Plotly.newPlot(\n",
       "                        '1a66871a-e7a7-4a88-87d4-6bc47696c145',\n",
       "                        [{\"hovertemplate\": \"County=Adams County<br>WeekStartDate=%{x}<br>Age 0-19=%{y}<extra></extra>\", \"legendgroup\": \"Adams County\", \"marker\": {\"color\": \"#636efa\", \"symbol\": \"circle\"}, \"mode\": \"markers\", \"name\": \"Adams County\", \"orientation\": \"v\", \"showlegend\": true, \"type\": \"scatter\", \"x\": [\"2020-03-08\", \"2020-03-15\", \"2020-03-22\", \"2020-03-29\", \"2020-04-05\", \"2020-04-12\", \"2020-04-19\", \"2020-04-26\", \"2020-05-03\", \"2020-05-10\", \"2020-05-17\", \"2020-05-24\", \"2020-05-31\"], \"xaxis\": \"x\", \"y\": [0, 0, 0, 2, 1, 0, 0, 0, 1, 0, 0, 2, 1], \"yaxis\": \"y\"}, {\"hovertemplate\": \"County=Asotin County<br>WeekStartDate=%{x}<br>Age 0-19=%{y}<extra></extra>\", \"legendgroup\": \"Asotin County\", \"marker\": {\"color\": \"#EF553B\", \"symbol\": \"circle\"}, \"mode\": \"markers\", \"name\": \"Asotin County\", \"orientation\": \"v\", \"showlegend\": true, \"type\": \"scatter\", \"x\": [\"2020-03-15\", \"2020-03-29\", \"2020-04-05\", \"2020-04-12\", \"2020-04-19\", \"2020-05-17\"], \"xaxis\": \"x\", \"y\": [0, 0, 0, 1, 0, 0], \"yaxis\": \"y\"}, {\"hovertemplate\": \"County=Benton County<br>WeekStartDate=%{x}<br>Age 0-19=%{y}<extra></extra>\", \"legendgroup\": \"Benton County\", \"marker\": {\"color\": \"#00cc96\", \"symbol\": \"circle\"}, \"mode\": \"markers\", \"name\": \"Benton County\", \"orientation\": \"v\", \"showlegend\": true, \"type\": \"scatter\", \"x\": [\"2020-02-16\", \"2020-03-01\", \"2020-03-08\", \"2020-03-15\", \"2020-03-22\", \"2020-03-29\", \"2020-04-05\", \"2020-04-12\", \"2020-04-19\", \"2020-04-26\", \"2020-05-03\", \"2020-05-10\", \"2020-05-17\", \"2020-05-24\", \"2020-05-31\"], \"xaxis\": \"x\", \"y\": [0, 0, 0, 2, 3, 2, 7, 3, 6, 7, 2, 2, 11, 5, 10], \"yaxis\": \"y\"}, {\"hovertemplate\": \"County=Chelan County<br>WeekStartDate=%{x}<br>Age 0-19=%{y}<extra></extra>\", \"legendgroup\": \"Chelan County\", \"marker\": {\"color\": \"#ab63fa\", \"symbol\": \"circle\"}, \"mode\": \"markers\", \"name\": \"Chelan County\", \"orientation\": \"v\", \"showlegend\": true, \"type\": \"scatter\", \"x\": [\"2020-02-09\", \"2020-03-08\", \"2020-03-15\", \"2020-03-22\", \"2020-03-29\", \"2020-04-05\", \"2020-04-12\", \"2020-04-19\", \"2020-04-26\", \"2020-05-03\", \"2020-05-10\", \"2020-05-17\", \"2020-05-24\", \"2020-05-31\"], \"xaxis\": \"x\", \"y\": [0, 0, 0, 0, 1, 0, 1, 5, 2, 5, 7, 5, 3, 1], \"yaxis\": \"y\"}, {\"hovertemplate\": \"County=Clallam County<br>WeekStartDate=%{x}<br>Age 0-19=%{y}<extra></extra>\", \"legendgroup\": \"Clallam County\", \"marker\": {\"color\": \"#FFA15A\", \"symbol\": \"circle\"}, \"mode\": \"markers\", \"name\": \"Clallam County\", \"orientation\": \"v\", \"showlegend\": true, \"type\": \"scatter\", \"x\": [\"2020-03-01\", \"2020-03-08\", \"2020-03-15\", \"2020-03-29\", \"2020-04-05\", \"2020-04-19\", \"2020-04-26\", \"2020-05-10\", \"2020-05-17\", \"2020-05-24\"], \"xaxis\": \"x\", \"y\": [0, 0, 0, 0, 0, 0, 0, 2, 2, 0], \"yaxis\": \"y\"}, {\"hovertemplate\": \"County=Clark County<br>WeekStartDate=%{x}<br>Age 0-19=%{y}<extra></extra>\", \"legendgroup\": \"Clark County\", \"marker\": {\"color\": \"#19d3f3\", \"symbol\": \"circle\"}, \"mode\": \"markers\", \"name\": \"Clark County\", \"orientation\": \"v\", \"showlegend\": true, \"type\": \"scatter\", \"x\": [\"2020-02-23\", \"2020-03-01\", \"2020-03-08\", \"2020-03-15\", \"2020-03-22\", \"2020-03-29\", \"2020-04-05\", \"2020-04-12\", \"2020-04-19\", \"2020-04-26\", \"2020-05-03\", \"2020-05-10\", \"2020-05-17\", \"2020-05-24\", \"2020-05-31\"], \"xaxis\": \"x\", \"y\": [0, 0, 0, 2, 0, 1, 2, 2, 3, 3, 6, 2, 4, 27, 2], \"yaxis\": \"y\"}, {\"hovertemplate\": \"County=Cowlitz County<br>WeekStartDate=%{x}<br>Age 0-19=%{y}<extra></extra>\", \"legendgroup\": \"Cowlitz County\", \"marker\": {\"color\": \"#FF6692\", \"symbol\": \"circle\"}, \"mode\": \"markers\", \"name\": \"Cowlitz County\", \"orientation\": \"v\", \"showlegend\": true, \"type\": \"scatter\", \"x\": [\"2020-02-23\", \"2020-03-01\", \"2020-03-08\", \"2020-03-15\", \"2020-03-22\", \"2020-03-29\", \"2020-04-05\", \"2020-04-12\", \"2020-04-19\", \"2020-04-26\", \"2020-05-03\", \"2020-05-10\", \"2020-05-17\", \"2020-05-24\", \"2020-05-31\"], \"xaxis\": \"x\", \"y\": [0, 0, 0, 0, 0, 1, 0, 0, 0, 5, 1, 0, 0, 0, 0], \"yaxis\": \"y\"}, {\"hovertemplate\": \"County=Douglas County<br>WeekStartDate=%{x}<br>Age 0-19=%{y}<extra></extra>\", \"legendgroup\": \"Douglas County\", \"marker\": {\"color\": \"#B6E880\", \"symbol\": \"circle\"}, \"mode\": \"markers\", \"name\": \"Douglas County\", \"orientation\": \"v\", \"showlegend\": true, \"type\": \"scatter\", \"x\": [\"2020-03-01\", \"2020-03-08\", \"2020-03-15\", \"2020-03-22\", \"2020-03-29\", \"2020-04-05\", \"2020-04-12\", \"2020-04-19\", \"2020-04-26\", \"2020-05-03\", \"2020-05-10\", \"2020-05-17\", \"2020-05-24\", \"2020-05-31\"], \"xaxis\": \"x\", \"y\": [0, 0, 0, 3, 1, 0, 2, 0, 1, 3, 2, 4, 1, 0], \"yaxis\": \"y\"}, {\"hovertemplate\": \"County=Franklin County<br>WeekStartDate=%{x}<br>Age 0-19=%{y}<extra></extra>\", \"legendgroup\": \"Franklin County\", \"marker\": {\"color\": \"#FF97FF\", \"symbol\": \"circle\"}, \"mode\": \"markers\", \"name\": \"Franklin County\", \"orientation\": \"v\", \"showlegend\": true, \"type\": \"scatter\", \"x\": [\"2020-02-09\", \"2020-02-23\", \"2020-03-01\", \"2020-03-08\", \"2020-03-15\", \"2020-03-22\", \"2020-03-29\", \"2020-04-05\", \"2020-04-12\", \"2020-04-19\", \"2020-04-26\", \"2020-05-03\", \"2020-05-10\", \"2020-05-17\", \"2020-05-24\", \"2020-05-31\"], \"xaxis\": \"x\", \"y\": [0, 0, 0, 0, 0, 1, 3, 1, 3, 3, 2, 0, 3, 13, 17, 8], \"yaxis\": \"y\"}, {\"hovertemplate\": \"County=Grant County<br>WeekStartDate=%{x}<br>Age 0-19=%{y}<extra></extra>\", \"legendgroup\": \"Grant County\", \"marker\": {\"color\": \"#FECB52\", \"symbol\": \"circle\"}, \"mode\": \"markers\", \"name\": \"Grant County\", \"orientation\": \"v\", \"showlegend\": true, \"type\": \"scatter\", \"x\": [\"2020-02-16\", \"2020-02-23\", \"2020-03-01\", \"2020-03-08\", \"2020-03-15\", \"2020-03-22\", \"2020-03-29\", \"2020-04-05\", \"2020-04-12\", \"2020-04-19\", \"2020-04-26\", \"2020-05-03\", \"2020-05-10\", \"2020-05-17\", \"2020-05-24\", \"2020-05-31\"], \"xaxis\": \"x\", \"y\": [0, 0, 0, 4, 1, 2, 1, 3, 3, 1, 2, 0, 2, 2, 3, 0], \"yaxis\": \"y\"}, {\"hovertemplate\": \"County=Grays Harbor County<br>WeekStartDate=%{x}<br>Age 0-19=%{y}<extra></extra>\", \"legendgroup\": \"Grays Harbor County\", \"marker\": {\"color\": \"#636efa\", \"symbol\": \"circle\"}, \"mode\": \"markers\", \"name\": \"Grays Harbor County\", \"orientation\": \"v\", \"showlegend\": true, \"type\": \"scatter\", \"x\": [\"2020-02-16\", \"2020-02-23\", \"2020-03-01\", \"2020-03-15\", \"2020-03-22\", \"2020-03-29\", \"2020-04-05\", \"2020-04-26\", \"2020-05-03\", \"2020-05-17\", \"2020-05-24\", \"2020-05-31\"], \"xaxis\": \"x\", \"y\": [0, 0, 0, 0, 0, 0, 0, 0, 0, 1, 0, 0], \"yaxis\": \"y\"}, {\"hovertemplate\": \"County=Island County<br>WeekStartDate=%{x}<br>Age 0-19=%{y}<extra></extra>\", \"legendgroup\": \"Island County\", \"marker\": {\"color\": \"#EF553B\", \"symbol\": \"circle\"}, \"mode\": \"markers\", \"name\": \"Island County\", \"orientation\": \"v\", \"showlegend\": true, \"type\": \"scatter\", \"x\": [\"2020-02-23\", \"2020-03-01\", \"2020-03-08\", \"2020-03-15\", \"2020-03-22\", \"2020-03-29\", \"2020-04-05\", \"2020-04-12\", \"2020-04-19\", \"2020-04-26\", \"2020-05-03\", \"2020-05-10\", \"2020-05-24\"], \"xaxis\": \"x\", \"y\": [0, 0, 0, 0, 3, 0, 0, 0, 0, 0, 0, 0, 0], \"yaxis\": \"y\"}, {\"hovertemplate\": \"County=Jefferson County<br>WeekStartDate=%{x}<br>Age 0-19=%{y}<extra></extra>\", \"legendgroup\": \"Jefferson County\", \"marker\": {\"color\": \"#00cc96\", \"symbol\": \"circle\"}, \"mode\": \"markers\", \"name\": \"Jefferson County\", \"orientation\": \"v\", \"showlegend\": true, \"type\": \"scatter\", \"x\": [\"2020-02-23\", \"2020-03-01\", \"2020-03-08\", \"2020-03-15\", \"2020-03-22\", \"2020-03-29\", \"2020-05-31\"], \"xaxis\": \"x\", \"y\": [0, 0, 0, 0, 0, 0, 1], \"yaxis\": \"y\"}, {\"hovertemplate\": \"County=King County<br>WeekStartDate=%{x}<br>Age 0-19=%{y}<extra></extra>\", \"legendgroup\": \"King County\", \"marker\": {\"color\": \"#ab63fa\", \"symbol\": \"circle\"}, \"mode\": \"markers\", \"name\": \"King County\", \"orientation\": \"v\", \"showlegend\": true, \"type\": \"scatter\", \"x\": [\"2020-02-02\", \"2020-02-09\", \"2020-02-16\", \"2020-02-23\", \"2020-03-01\", \"2020-03-08\", \"2020-03-15\", \"2020-03-22\", \"2020-03-29\", \"2020-04-05\", \"2020-04-12\", \"2020-04-19\", \"2020-04-26\", \"2020-05-03\", \"2020-05-10\", \"2020-05-17\", \"2020-05-24\", \"2020-05-31\"], \"xaxis\": \"x\", \"y\": [0, 0, 1, 2, 1, 19, 12, 19, 36, 33, 41, 33, 41, 41, 43, 41, 21, 31], \"yaxis\": \"y\"}, {\"hovertemplate\": \"County=Kitsap County<br>WeekStartDate=%{x}<br>Age 0-19=%{y}<extra></extra>\", \"legendgroup\": \"Kitsap County\", \"marker\": {\"color\": \"#FFA15A\", \"symbol\": \"circle\"}, \"mode\": \"markers\", \"name\": \"Kitsap County\", \"orientation\": \"v\", \"showlegend\": true, \"type\": \"scatter\", \"x\": [\"2020-02-16\", \"2020-02-23\", \"2020-03-01\", \"2020-03-08\", \"2020-03-15\", \"2020-03-22\", \"2020-03-29\", \"2020-04-05\", \"2020-04-12\", \"2020-04-19\", \"2020-04-26\", \"2020-05-03\", \"2020-05-10\", \"2020-05-24\", \"2020-05-31\"], \"xaxis\": \"x\", \"y\": [0, 0, 0, 2, 1, 1, 1, 0, 1, 0, 1, 0, 0, 0, 0], \"yaxis\": \"y\"}, {\"hovertemplate\": \"County=Kittitas County<br>WeekStartDate=%{x}<br>Age 0-19=%{y}<extra></extra>\", \"legendgroup\": \"Kittitas County\", \"marker\": {\"color\": \"#19d3f3\", \"symbol\": \"circle\"}, \"mode\": \"markers\", \"name\": \"Kittitas County\", \"orientation\": \"v\", \"showlegend\": true, \"type\": \"scatter\", \"x\": [\"2020-01-26\", \"2020-02-16\", \"2020-03-08\", \"2020-03-15\", \"2020-03-22\", \"2020-03-29\", \"2020-04-05\", \"2020-04-19\", \"2020-04-26\", \"2020-05-03\", \"2020-05-10\", \"2020-05-17\", \"2020-05-24\", \"2020-05-31\"], \"xaxis\": \"x\", \"y\": [0, 0, 0, 0, 0, 0, 0, 0, 0, 1, 5, 7, 2, 0], \"yaxis\": \"y\"}, {\"hovertemplate\": \"County=Klickitat County<br>WeekStartDate=%{x}<br>Age 0-19=%{y}<extra></extra>\", \"legendgroup\": \"Klickitat County\", \"marker\": {\"color\": \"#FF6692\", \"symbol\": \"circle\"}, \"mode\": \"markers\", \"name\": \"Klickitat County\", \"orientation\": \"v\", \"showlegend\": true, \"type\": \"scatter\", \"x\": [\"2020-03-01\", \"2020-03-15\", \"2020-03-22\", \"2020-03-29\", \"2020-04-05\", \"2020-04-19\", \"2020-04-26\", \"2020-05-03\", \"2020-05-10\", \"2020-05-17\", \"2020-05-24\", \"2020-05-31\"], \"xaxis\": \"x\", \"y\": [0, 0, 0, 1, 0, 0, 0, 1, 0, 0, 1, 0], \"yaxis\": \"y\"}, {\"hovertemplate\": \"County=Lewis County<br>WeekStartDate=%{x}<br>Age 0-19=%{y}<extra></extra>\", \"legendgroup\": \"Lewis County\", \"marker\": {\"color\": \"#B6E880\", \"symbol\": \"circle\"}, \"mode\": \"markers\", \"name\": \"Lewis County\", \"orientation\": \"v\", \"showlegend\": true, \"type\": \"scatter\", \"x\": [\"2020-03-08\", \"2020-03-15\", \"2020-03-22\", \"2020-03-29\", \"2020-04-05\", \"2020-04-12\", \"2020-04-19\", \"2020-04-26\", \"2020-05-03\", \"2020-05-10\", \"2020-05-24\"], \"xaxis\": \"x\", \"y\": [0, 0, 0, 0, 0, 0, 0, 0, 0, 0, 0], \"yaxis\": \"y\"}, {\"hovertemplate\": \"County=Mason County<br>WeekStartDate=%{x}<br>Age 0-19=%{y}<extra></extra>\", \"legendgroup\": \"Mason County\", \"marker\": {\"color\": \"#FF97FF\", \"symbol\": \"circle\"}, \"mode\": \"markers\", \"name\": \"Mason County\", \"orientation\": \"v\", \"showlegend\": true, \"type\": \"scatter\", \"x\": [\"2020-03-08\", \"2020-03-15\", \"2020-03-22\", \"2020-03-29\", \"2020-04-12\", \"2020-04-19\", \"2020-04-26\", \"2020-05-03\", \"2020-05-10\", \"2020-05-17\", \"2020-05-24\", \"2020-05-31\"], \"xaxis\": \"x\", \"y\": [0, 0, 0, 0, 0, 0, 0, 0, 0, 0, 0, 0], \"yaxis\": \"y\"}, {\"hovertemplate\": \"County=Okanogan County<br>WeekStartDate=%{x}<br>Age 0-19=%{y}<extra></extra>\", \"legendgroup\": \"Okanogan County\", \"marker\": {\"color\": \"#FECB52\", \"symbol\": \"circle\"}, \"mode\": \"markers\", \"name\": \"Okanogan County\", \"orientation\": \"v\", \"showlegend\": true, \"type\": \"scatter\", \"x\": [\"2020-03-08\", \"2020-03-15\", \"2020-03-22\", \"2020-03-29\", \"2020-04-05\", \"2020-04-12\", \"2020-04-19\", \"2020-04-26\", \"2020-05-03\", \"2020-05-10\", \"2020-05-17\", \"2020-05-24\", \"2020-05-31\"], \"xaxis\": \"x\", \"y\": [0, 0, 1, 2, 1, 0, 0, 1, 0, 4, 1, 1, 0], \"yaxis\": \"y\"}, {\"hovertemplate\": \"County=Pacific County<br>WeekStartDate=%{x}<br>Age 0-19=%{y}<extra></extra>\", \"legendgroup\": \"Pacific County\", \"marker\": {\"color\": \"#636efa\", \"symbol\": \"circle\"}, \"mode\": \"markers\", \"name\": \"Pacific County\", \"orientation\": \"v\", \"showlegend\": true, \"type\": \"scatter\", \"x\": [\"2020-03-29\", \"2020-04-05\", \"2020-04-19\", \"2020-04-26\", \"2020-05-03\"], \"xaxis\": \"x\", \"y\": [0, 0, 0, 0, 0], \"yaxis\": \"y\"}, {\"hovertemplate\": \"County=Pierce County<br>WeekStartDate=%{x}<br>Age 0-19=%{y}<extra></extra>\", \"legendgroup\": \"Pierce County\", \"marker\": {\"color\": \"#EF553B\", \"symbol\": \"circle\"}, \"mode\": \"markers\", \"name\": \"Pierce County\", \"orientation\": \"v\", \"showlegend\": true, \"type\": \"scatter\", \"x\": [\"2020-02-16\", \"2020-02-23\", \"2020-03-01\", \"2020-03-08\", \"2020-03-15\", \"2020-03-22\", \"2020-03-29\", \"2020-04-05\", \"2020-04-12\", \"2020-04-19\", \"2020-04-26\", \"2020-05-03\", \"2020-05-10\", \"2020-05-17\", \"2020-05-24\", \"2020-05-31\"], \"xaxis\": \"x\", \"y\": [0, 2, 0, 4, 7, 6, 10, 13, 3, 11, 15, 11, 12, 6, 6, 7], \"yaxis\": \"y\"}, {\"hovertemplate\": \"County=San Juan County<br>WeekStartDate=%{x}<br>Age 0-19=%{y}<extra></extra>\", \"legendgroup\": \"San Juan County\", \"marker\": {\"color\": \"#00cc96\", \"symbol\": \"circle\"}, \"mode\": \"markers\", \"name\": \"San Juan County\", \"orientation\": \"v\", \"showlegend\": true, \"type\": \"scatter\", \"x\": [\"2020-03-08\", \"2020-03-15\", \"2020-03-22\", \"2020-03-29\", \"2020-04-05\", \"2020-04-12\"], \"xaxis\": \"x\", \"y\": [0, 0, 0, 0, 1, 0], \"yaxis\": \"y\"}, {\"hovertemplate\": \"County=Skagit County<br>WeekStartDate=%{x}<br>Age 0-19=%{y}<extra></extra>\", \"legendgroup\": \"Skagit County\", \"marker\": {\"color\": \"#ab63fa\", \"symbol\": \"circle\"}, \"mode\": \"markers\", \"name\": \"Skagit County\", \"orientation\": \"v\", \"showlegend\": true, \"type\": \"scatter\", \"x\": [\"2020-02-16\", \"2020-02-23\", \"2020-03-01\", \"2020-03-08\", \"2020-03-15\", \"2020-03-22\", \"2020-03-29\", \"2020-04-05\", \"2020-04-12\", \"2020-04-19\", \"2020-04-26\", \"2020-05-03\", \"2020-05-10\", \"2020-05-17\", \"2020-05-24\", \"2020-05-31\"], \"xaxis\": \"x\", \"y\": [0, 0, 0, 1, 3, 3, 0, 3, 4, 10, 7, 1, 4, 0, 2, 3], \"yaxis\": \"y\"}, {\"hovertemplate\": \"County=Snohomish County<br>WeekStartDate=%{x}<br>Age 0-19=%{y}<extra></extra>\", \"legendgroup\": \"Snohomish County\", \"marker\": {\"color\": \"#FFA15A\", \"symbol\": \"circle\"}, \"mode\": \"markers\", \"name\": \"Snohomish County\", \"orientation\": \"v\", \"showlegend\": true, \"type\": \"scatter\", \"x\": [\"2020-01-16\", \"2020-01-26\", \"2020-02-02\", \"2020-02-09\", \"2020-02-16\", \"2020-02-23\", \"2020-03-01\", \"2020-03-08\", \"2020-03-15\", \"2020-03-22\", \"2020-03-29\", \"2020-04-05\", \"2020-04-12\", \"2020-04-19\", \"2020-04-26\", \"2020-05-03\", \"2020-05-10\", \"2020-05-17\", \"2020-05-24\", \"2020-05-31\"], \"xaxis\": \"x\", \"y\": [0, 0, 0, 0, 1, 1, 3, 5, 6, 16, 15, 9, 16, 10, 13, 6, 9, 7, 6, 7], \"yaxis\": \"y\"}, {\"hovertemplate\": \"County=Spokane County<br>WeekStartDate=%{x}<br>Age 0-19=%{y}<extra></extra>\", \"legendgroup\": \"Spokane County\", \"marker\": {\"color\": \"#19d3f3\", \"symbol\": \"circle\"}, \"mode\": \"markers\", \"name\": \"Spokane County\", \"orientation\": \"v\", \"showlegend\": true, \"type\": \"scatter\", \"x\": [\"2020-02-16\", \"2020-02-23\", \"2020-03-01\", \"2020-03-08\", \"2020-03-15\", \"2020-03-22\", \"2020-03-29\", \"2020-04-05\", \"2020-04-12\", \"2020-04-19\", \"2020-04-26\", \"2020-05-03\", \"2020-05-10\", \"2020-05-17\", \"2020-05-24\", \"2020-05-31\"], \"xaxis\": \"x\", \"y\": [0, 0, 0, 0, 1, 2, 3, 0, 0, 4, 0, 7, 6, 20, 12, 18], \"yaxis\": \"y\"}, {\"hovertemplate\": \"County=Stevens County<br>WeekStartDate=%{x}<br>Age 0-19=%{y}<extra></extra>\", \"legendgroup\": \"Stevens County\", \"marker\": {\"color\": \"#FF6692\", \"symbol\": \"circle\"}, \"mode\": \"markers\", \"name\": \"Stevens County\", \"orientation\": \"v\", \"showlegend\": true, \"type\": \"scatter\", \"x\": [\"2020-03-01\", \"2020-03-08\", \"2020-03-15\", \"2020-03-22\", \"2020-03-29\", \"2020-04-12\", \"2020-05-10\", \"2020-05-17\", \"2020-05-24\"], \"xaxis\": \"x\", \"y\": [0, 0, 0, 0, 0, 1, 0, 0, 0], \"yaxis\": \"y\"}, {\"hovertemplate\": \"County=Thurston County<br>WeekStartDate=%{x}<br>Age 0-19=%{y}<extra></extra>\", \"legendgroup\": \"Thurston County\", \"marker\": {\"color\": \"#B6E880\", \"symbol\": \"circle\"}, \"mode\": \"markers\", \"name\": \"Thurston County\", \"orientation\": \"v\", \"showlegend\": true, \"type\": \"scatter\", \"x\": [\"2020-02-23\", \"2020-03-01\", \"2020-03-08\", \"2020-03-15\", \"2020-03-22\", \"2020-03-29\", \"2020-04-05\", \"2020-04-12\", \"2020-04-19\", \"2020-04-26\", \"2020-05-03\", \"2020-05-10\", \"2020-05-17\", \"2020-05-24\", \"2020-05-31\"], \"xaxis\": \"x\", \"y\": [0, 0, 0, 0, 1, 1, 0, 1, 1, 3, 0, 0, 0, 0, 1], \"yaxis\": \"y\"}, {\"hovertemplate\": \"County=Walla Walla County<br>WeekStartDate=%{x}<br>Age 0-19=%{y}<extra></extra>\", \"legendgroup\": \"Walla Walla County\", \"marker\": {\"color\": \"#FF97FF\", \"symbol\": \"circle\"}, \"mode\": \"markers\", \"name\": \"Walla Walla County\", \"orientation\": \"v\", \"showlegend\": true, \"type\": \"scatter\", \"x\": [\"2020-03-08\", \"2020-03-15\", \"2020-03-22\", \"2020-03-29\", \"2020-04-05\", \"2020-04-12\", \"2020-04-19\", \"2020-04-26\", \"2020-05-03\", \"2020-05-10\", \"2020-05-17\", \"2020-05-24\", \"2020-05-31\"], \"xaxis\": \"x\", \"y\": [0, 0, 0, 1, 0, 1, 3, 3, 0, 0, 0, 1, 0], \"yaxis\": \"y\"}, {\"hovertemplate\": \"County=Whatcom County<br>WeekStartDate=%{x}<br>Age 0-19=%{y}<extra></extra>\", \"legendgroup\": \"Whatcom County\", \"marker\": {\"color\": \"#FECB52\", \"symbol\": \"circle\"}, \"mode\": \"markers\", \"name\": \"Whatcom County\", \"orientation\": \"v\", \"showlegend\": true, \"type\": \"scatter\", \"x\": [\"2020-02-16\", \"2020-02-23\", \"2020-03-01\", \"2020-03-08\", \"2020-03-15\", \"2020-03-22\", \"2020-03-29\", \"2020-04-05\", \"2020-04-12\", \"2020-04-19\", \"2020-04-26\", \"2020-05-03\", \"2020-05-10\", \"2020-05-17\", \"2020-05-24\", \"2020-05-31\"], \"xaxis\": \"x\", \"y\": [0, 0, 0, 1, 1, 1, 4, 1, 0, 2, 5, 2, 5, 6, 8, 2], \"yaxis\": \"y\"}, {\"hovertemplate\": \"County=Whitman County<br>WeekStartDate=%{x}<br>Age 0-19=%{y}<extra></extra>\", \"legendgroup\": \"Whitman County\", \"marker\": {\"color\": \"#636efa\", \"symbol\": \"circle\"}, \"mode\": \"markers\", \"name\": \"Whitman County\", \"orientation\": \"v\", \"showlegend\": true, \"type\": \"scatter\", \"x\": [\"2020-03-08\", \"2020-03-15\", \"2020-03-22\", \"2020-03-29\", \"2020-04-12\", \"2020-04-19\", \"2020-05-10\", \"2020-05-17\"], \"xaxis\": \"x\", \"y\": [0, 0, 1, 0, 0, 0, 0, 0], \"yaxis\": \"y\"}, {\"hovertemplate\": \"County=Yakima County<br>WeekStartDate=%{x}<br>Age 0-19=%{y}<extra></extra>\", \"legendgroup\": \"Yakima County\", \"marker\": {\"color\": \"#EF553B\", \"symbol\": \"circle\"}, \"mode\": \"markers\", \"name\": \"Yakima County\", \"orientation\": \"v\", \"showlegend\": true, \"type\": \"scatter\", \"x\": [\"2020-01-16\", \"2020-02-09\", \"2020-02-16\", \"2020-03-01\", \"2020-03-08\", \"2020-03-15\", \"2020-03-22\", \"2020-03-29\", \"2020-04-05\", \"2020-04-12\", \"2020-04-19\", \"2020-04-26\", \"2020-05-03\", \"2020-05-10\", \"2020-05-17\", \"2020-05-24\", \"2020-05-31\"], \"xaxis\": \"x\", \"y\": [0, 0, 0, 0, 1, 3, 2, 14, 14, 29, 22, 36, 58, 66, 83, 68, 59], \"yaxis\": \"y\"}, {\"hovertemplate\": \"County=Unassigned<br>WeekStartDate=%{x}<br>Age 0-19=%{y}<extra></extra>\", \"legendgroup\": \"Unassigned\", \"marker\": {\"color\": \"#00cc96\", \"symbol\": \"circle\"}, \"mode\": \"markers\", \"name\": \"Unassigned\", \"orientation\": \"v\", \"showlegend\": true, \"type\": \"scatter\", \"x\": [\"2020-04-19\", \"2020-05-10\", \"2020-05-17\", \"2020-05-24\", \"2020-05-31\"], \"xaxis\": \"x\", \"y\": [0, 0, 0, 0, 1], \"yaxis\": \"y\"}],\n",
       "                        {\"legend\": {\"title\": {\"text\": \"County\"}, \"tracegroupgap\": 0}, \"margin\": {\"t\": 60}, \"template\": {\"data\": {\"bar\": [{\"error_x\": {\"color\": \"#2a3f5f\"}, \"error_y\": {\"color\": \"#2a3f5f\"}, \"marker\": {\"line\": {\"color\": \"#E5ECF6\", \"width\": 0.5}}, \"type\": \"bar\"}], \"barpolar\": [{\"marker\": {\"line\": {\"color\": \"#E5ECF6\", \"width\": 0.5}}, \"type\": \"barpolar\"}], \"carpet\": [{\"aaxis\": {\"endlinecolor\": \"#2a3f5f\", \"gridcolor\": \"white\", \"linecolor\": \"white\", \"minorgridcolor\": \"white\", \"startlinecolor\": \"#2a3f5f\"}, \"baxis\": {\"endlinecolor\": \"#2a3f5f\", \"gridcolor\": \"white\", \"linecolor\": \"white\", \"minorgridcolor\": \"white\", \"startlinecolor\": \"#2a3f5f\"}, \"type\": \"carpet\"}], \"choropleth\": [{\"colorbar\": {\"outlinewidth\": 0, \"ticks\": \"\"}, \"type\": \"choropleth\"}], \"contour\": [{\"colorbar\": {\"outlinewidth\": 0, \"ticks\": \"\"}, \"colorscale\": [[0.0, \"#0d0887\"], [0.1111111111111111, \"#46039f\"], [0.2222222222222222, \"#7201a8\"], [0.3333333333333333, \"#9c179e\"], [0.4444444444444444, \"#bd3786\"], [0.5555555555555556, \"#d8576b\"], [0.6666666666666666, \"#ed7953\"], [0.7777777777777778, \"#fb9f3a\"], [0.8888888888888888, \"#fdca26\"], [1.0, \"#f0f921\"]], \"type\": \"contour\"}], \"contourcarpet\": [{\"colorbar\": {\"outlinewidth\": 0, \"ticks\": \"\"}, \"type\": \"contourcarpet\"}], \"heatmap\": [{\"colorbar\": {\"outlinewidth\": 0, \"ticks\": \"\"}, \"colorscale\": [[0.0, \"#0d0887\"], [0.1111111111111111, \"#46039f\"], [0.2222222222222222, \"#7201a8\"], [0.3333333333333333, \"#9c179e\"], [0.4444444444444444, \"#bd3786\"], [0.5555555555555556, \"#d8576b\"], [0.6666666666666666, \"#ed7953\"], [0.7777777777777778, \"#fb9f3a\"], [0.8888888888888888, \"#fdca26\"], [1.0, \"#f0f921\"]], \"type\": \"heatmap\"}], \"heatmapgl\": [{\"colorbar\": {\"outlinewidth\": 0, \"ticks\": \"\"}, \"colorscale\": [[0.0, \"#0d0887\"], [0.1111111111111111, \"#46039f\"], [0.2222222222222222, \"#7201a8\"], [0.3333333333333333, \"#9c179e\"], [0.4444444444444444, \"#bd3786\"], [0.5555555555555556, \"#d8576b\"], [0.6666666666666666, \"#ed7953\"], [0.7777777777777778, \"#fb9f3a\"], [0.8888888888888888, \"#fdca26\"], [1.0, \"#f0f921\"]], \"type\": \"heatmapgl\"}], \"histogram\": [{\"marker\": {\"colorbar\": {\"outlinewidth\": 0, \"ticks\": \"\"}}, \"type\": \"histogram\"}], \"histogram2d\": [{\"colorbar\": {\"outlinewidth\": 0, \"ticks\": \"\"}, \"colorscale\": [[0.0, \"#0d0887\"], [0.1111111111111111, \"#46039f\"], [0.2222222222222222, \"#7201a8\"], [0.3333333333333333, \"#9c179e\"], [0.4444444444444444, \"#bd3786\"], [0.5555555555555556, \"#d8576b\"], [0.6666666666666666, \"#ed7953\"], [0.7777777777777778, \"#fb9f3a\"], [0.8888888888888888, \"#fdca26\"], [1.0, \"#f0f921\"]], \"type\": \"histogram2d\"}], \"histogram2dcontour\": [{\"colorbar\": {\"outlinewidth\": 0, \"ticks\": \"\"}, \"colorscale\": [[0.0, \"#0d0887\"], [0.1111111111111111, \"#46039f\"], [0.2222222222222222, \"#7201a8\"], [0.3333333333333333, \"#9c179e\"], [0.4444444444444444, \"#bd3786\"], [0.5555555555555556, \"#d8576b\"], [0.6666666666666666, \"#ed7953\"], [0.7777777777777778, \"#fb9f3a\"], [0.8888888888888888, \"#fdca26\"], [1.0, \"#f0f921\"]], \"type\": \"histogram2dcontour\"}], \"mesh3d\": [{\"colorbar\": {\"outlinewidth\": 0, \"ticks\": \"\"}, \"type\": \"mesh3d\"}], \"parcoords\": [{\"line\": {\"colorbar\": {\"outlinewidth\": 0, \"ticks\": \"\"}}, \"type\": \"parcoords\"}], \"pie\": [{\"automargin\": true, \"type\": \"pie\"}], \"scatter\": [{\"marker\": {\"colorbar\": {\"outlinewidth\": 0, \"ticks\": \"\"}}, \"type\": \"scatter\"}], \"scatter3d\": [{\"line\": {\"colorbar\": {\"outlinewidth\": 0, \"ticks\": \"\"}}, \"marker\": {\"colorbar\": {\"outlinewidth\": 0, \"ticks\": \"\"}}, \"type\": \"scatter3d\"}], \"scattercarpet\": [{\"marker\": {\"colorbar\": {\"outlinewidth\": 0, \"ticks\": \"\"}}, \"type\": \"scattercarpet\"}], \"scattergeo\": [{\"marker\": {\"colorbar\": {\"outlinewidth\": 0, \"ticks\": \"\"}}, \"type\": \"scattergeo\"}], \"scattergl\": [{\"marker\": {\"colorbar\": {\"outlinewidth\": 0, \"ticks\": \"\"}}, \"type\": \"scattergl\"}], \"scattermapbox\": [{\"marker\": {\"colorbar\": {\"outlinewidth\": 0, \"ticks\": \"\"}}, \"type\": \"scattermapbox\"}], \"scatterpolar\": [{\"marker\": {\"colorbar\": {\"outlinewidth\": 0, \"ticks\": \"\"}}, \"type\": \"scatterpolar\"}], \"scatterpolargl\": [{\"marker\": {\"colorbar\": {\"outlinewidth\": 0, \"ticks\": \"\"}}, \"type\": \"scatterpolargl\"}], \"scatterternary\": [{\"marker\": {\"colorbar\": {\"outlinewidth\": 0, \"ticks\": \"\"}}, \"type\": \"scatterternary\"}], \"surface\": [{\"colorbar\": {\"outlinewidth\": 0, \"ticks\": \"\"}, \"colorscale\": [[0.0, \"#0d0887\"], [0.1111111111111111, \"#46039f\"], [0.2222222222222222, \"#7201a8\"], [0.3333333333333333, \"#9c179e\"], [0.4444444444444444, \"#bd3786\"], [0.5555555555555556, \"#d8576b\"], [0.6666666666666666, \"#ed7953\"], [0.7777777777777778, \"#fb9f3a\"], [0.8888888888888888, \"#fdca26\"], [1.0, \"#f0f921\"]], \"type\": \"surface\"}], \"table\": [{\"cells\": {\"fill\": {\"color\": \"#EBF0F8\"}, \"line\": {\"color\": \"white\"}}, \"header\": {\"fill\": {\"color\": \"#C8D4E3\"}, \"line\": {\"color\": \"white\"}}, \"type\": \"table\"}]}, \"layout\": {\"annotationdefaults\": {\"arrowcolor\": \"#2a3f5f\", \"arrowhead\": 0, \"arrowwidth\": 1}, \"coloraxis\": {\"colorbar\": {\"outlinewidth\": 0, \"ticks\": \"\"}}, \"colorscale\": {\"diverging\": [[0, \"#8e0152\"], [0.1, \"#c51b7d\"], [0.2, \"#de77ae\"], [0.3, \"#f1b6da\"], [0.4, \"#fde0ef\"], [0.5, \"#f7f7f7\"], [0.6, \"#e6f5d0\"], [0.7, \"#b8e186\"], [0.8, \"#7fbc41\"], [0.9, \"#4d9221\"], [1, \"#276419\"]], \"sequential\": [[0.0, \"#0d0887\"], [0.1111111111111111, \"#46039f\"], [0.2222222222222222, \"#7201a8\"], [0.3333333333333333, \"#9c179e\"], [0.4444444444444444, \"#bd3786\"], [0.5555555555555556, \"#d8576b\"], [0.6666666666666666, \"#ed7953\"], [0.7777777777777778, \"#fb9f3a\"], [0.8888888888888888, \"#fdca26\"], [1.0, \"#f0f921\"]], \"sequentialminus\": [[0.0, \"#0d0887\"], [0.1111111111111111, \"#46039f\"], [0.2222222222222222, \"#7201a8\"], [0.3333333333333333, \"#9c179e\"], [0.4444444444444444, \"#bd3786\"], [0.5555555555555556, \"#d8576b\"], [0.6666666666666666, \"#ed7953\"], [0.7777777777777778, \"#fb9f3a\"], [0.8888888888888888, \"#fdca26\"], [1.0, \"#f0f921\"]]}, \"colorway\": [\"#636efa\", \"#EF553B\", \"#00cc96\", \"#ab63fa\", \"#FFA15A\", \"#19d3f3\", \"#FF6692\", \"#B6E880\", \"#FF97FF\", \"#FECB52\"], \"font\": {\"color\": \"#2a3f5f\"}, \"geo\": {\"bgcolor\": \"white\", \"lakecolor\": \"white\", \"landcolor\": \"#E5ECF6\", \"showlakes\": true, \"showland\": true, \"subunitcolor\": \"white\"}, \"hoverlabel\": {\"align\": \"left\"}, \"hovermode\": \"closest\", \"mapbox\": {\"style\": \"light\"}, \"paper_bgcolor\": \"white\", \"plot_bgcolor\": \"#E5ECF6\", \"polar\": {\"angularaxis\": {\"gridcolor\": \"white\", \"linecolor\": \"white\", \"ticks\": \"\"}, \"bgcolor\": \"#E5ECF6\", \"radialaxis\": {\"gridcolor\": \"white\", \"linecolor\": \"white\", \"ticks\": \"\"}}, \"scene\": {\"xaxis\": {\"backgroundcolor\": \"#E5ECF6\", \"gridcolor\": \"white\", \"gridwidth\": 2, \"linecolor\": \"white\", \"showbackground\": true, \"ticks\": \"\", \"zerolinecolor\": \"white\"}, \"yaxis\": {\"backgroundcolor\": \"#E5ECF6\", \"gridcolor\": \"white\", \"gridwidth\": 2, \"linecolor\": \"white\", \"showbackground\": true, \"ticks\": \"\", \"zerolinecolor\": \"white\"}, \"zaxis\": {\"backgroundcolor\": \"#E5ECF6\", \"gridcolor\": \"white\", \"gridwidth\": 2, \"linecolor\": \"white\", \"showbackground\": true, \"ticks\": \"\", \"zerolinecolor\": \"white\"}}, \"shapedefaults\": {\"line\": {\"color\": \"#2a3f5f\"}}, \"ternary\": {\"aaxis\": {\"gridcolor\": \"white\", \"linecolor\": \"white\", \"ticks\": \"\"}, \"baxis\": {\"gridcolor\": \"white\", \"linecolor\": \"white\", \"ticks\": \"\"}, \"bgcolor\": \"#E5ECF6\", \"caxis\": {\"gridcolor\": \"white\", \"linecolor\": \"white\", \"ticks\": \"\"}}, \"title\": {\"x\": 0.05}, \"xaxis\": {\"automargin\": true, \"gridcolor\": \"white\", \"linecolor\": \"white\", \"ticks\": \"\", \"title\": {\"standoff\": 15}, \"zerolinecolor\": \"white\", \"zerolinewidth\": 2}, \"yaxis\": {\"automargin\": true, \"gridcolor\": \"white\", \"linecolor\": \"white\", \"ticks\": \"\", \"title\": {\"standoff\": 15}, \"zerolinecolor\": \"white\", \"zerolinewidth\": 2}}}, \"xaxis\": {\"anchor\": \"y\", \"domain\": [0.0, 1.0], \"title\": {\"text\": \"WeekStartDate\"}}, \"yaxis\": {\"anchor\": \"x\", \"domain\": [0.0, 1.0], \"title\": {\"text\": \"Age 0-19\"}}},\n",
       "                        {\"responsive\": true}\n",
       "                    ).then(function(){\n",
       "                            \n",
       "var gd = document.getElementById('1a66871a-e7a7-4a88-87d4-6bc47696c145');\n",
       "var x = new MutationObserver(function (mutations, observer) {{\n",
       "        var display = window.getComputedStyle(gd).display;\n",
       "        if (!display || display === 'none') {{\n",
       "            console.log([gd, 'removed!']);\n",
       "            Plotly.purge(gd);\n",
       "            observer.disconnect();\n",
       "        }}\n",
       "}});\n",
       "\n",
       "// Listen for the removal of the full notebook cells\n",
       "var notebookContainer = gd.closest('#notebook-container');\n",
       "if (notebookContainer) {{\n",
       "    x.observe(notebookContainer, {childList: true});\n",
       "}}\n",
       "\n",
       "// Listen for the clearing of the current output cell\n",
       "var outputEl = gd.closest('.output');\n",
       "if (outputEl) {{\n",
       "    x.observe(outputEl, {childList: true});\n",
       "}}\n",
       "\n",
       "                        })\n",
       "                };\n",
       "                });\n",
       "            </script>\n",
       "        </div>"
      ]
     },
     "metadata": {},
     "output_type": "display_data"
    }
   ],
   "source": [
    "px.scatter(df, x=\"WeekStartDate\", y=\"Age 0-19\", color='County')"
   ]
  },
  {
   "cell_type": "code",
   "execution_count": 28,
   "metadata": {},
   "outputs": [
    {
     "data": {
      "application/vnd.plotly.v1+json": {
       "config": {
        "plotlyServerURL": "https://plot.ly"
       },
       "data": [
        {
         "hovertemplate": "County=Adams County<br>WeekStartDate=%{x}<br>Age 20-39=%{y}<extra></extra>",
         "legendgroup": "Adams County",
         "marker": {
          "color": "#636efa",
          "symbol": "circle"
         },
         "mode": "markers",
         "name": "Adams County",
         "orientation": "v",
         "showlegend": true,
         "type": "scatter",
         "x": [
          "2020-03-08",
          "2020-03-15",
          "2020-03-22",
          "2020-03-29",
          "2020-04-05",
          "2020-04-12",
          "2020-04-19",
          "2020-04-26",
          "2020-05-03",
          "2020-05-10",
          "2020-05-17",
          "2020-05-24",
          "2020-05-31"
         ],
         "xaxis": "x",
         "y": [
          1,
          0,
          1,
          8,
          2,
          1,
          4,
          1,
          0,
          1,
          0,
          10,
          3
         ],
         "yaxis": "y"
        },
        {
         "hovertemplate": "County=Asotin County<br>WeekStartDate=%{x}<br>Age 20-39=%{y}<extra></extra>",
         "legendgroup": "Asotin County",
         "marker": {
          "color": "#EF553B",
          "symbol": "circle"
         },
         "mode": "markers",
         "name": "Asotin County",
         "orientation": "v",
         "showlegend": true,
         "type": "scatter",
         "x": [
          "2020-03-15",
          "2020-03-29",
          "2020-04-05",
          "2020-04-12",
          "2020-04-19",
          "2020-05-17"
         ],
         "xaxis": "x",
         "y": [
          0,
          0,
          1,
          0,
          0,
          0
         ],
         "yaxis": "y"
        },
        {
         "hovertemplate": "County=Benton County<br>WeekStartDate=%{x}<br>Age 20-39=%{y}<extra></extra>",
         "legendgroup": "Benton County",
         "marker": {
          "color": "#00cc96",
          "symbol": "circle"
         },
         "mode": "markers",
         "name": "Benton County",
         "orientation": "v",
         "showlegend": true,
         "type": "scatter",
         "x": [
          "2020-02-16",
          "2020-03-01",
          "2020-03-08",
          "2020-03-15",
          "2020-03-22",
          "2020-03-29",
          "2020-04-05",
          "2020-04-12",
          "2020-04-19",
          "2020-04-26",
          "2020-05-03",
          "2020-05-10",
          "2020-05-17",
          "2020-05-24",
          "2020-05-31"
         ],
         "xaxis": "x",
         "y": [
          1,
          0,
          3,
          14,
          21,
          24,
          20,
          30,
          38,
          23,
          19,
          30,
          30,
          29,
          43
         ],
         "yaxis": "y"
        },
        {
         "hovertemplate": "County=Chelan County<br>WeekStartDate=%{x}<br>Age 20-39=%{y}<extra></extra>",
         "legendgroup": "Chelan County",
         "marker": {
          "color": "#ab63fa",
          "symbol": "circle"
         },
         "mode": "markers",
         "name": "Chelan County",
         "orientation": "v",
         "showlegend": true,
         "type": "scatter",
         "x": [
          "2020-02-09",
          "2020-03-08",
          "2020-03-15",
          "2020-03-22",
          "2020-03-29",
          "2020-04-05",
          "2020-04-12",
          "2020-04-19",
          "2020-04-26",
          "2020-05-03",
          "2020-05-10",
          "2020-05-17",
          "2020-05-24",
          "2020-05-31"
         ],
         "xaxis": "x",
         "y": [
          0,
          1,
          3,
          3,
          7,
          10,
          18,
          7,
          6,
          11,
          17,
          15,
          6,
          5
         ],
         "yaxis": "y"
        },
        {
         "hovertemplate": "County=Clallam County<br>WeekStartDate=%{x}<br>Age 20-39=%{y}<extra></extra>",
         "legendgroup": "Clallam County",
         "marker": {
          "color": "#FFA15A",
          "symbol": "circle"
         },
         "mode": "markers",
         "name": "Clallam County",
         "orientation": "v",
         "showlegend": true,
         "type": "scatter",
         "x": [
          "2020-03-01",
          "2020-03-08",
          "2020-03-15",
          "2020-03-29",
          "2020-04-05",
          "2020-04-19",
          "2020-04-26",
          "2020-05-10",
          "2020-05-17",
          "2020-05-24"
         ],
         "xaxis": "x",
         "y": [
          0,
          0,
          2,
          2,
          0,
          3,
          1,
          0,
          0,
          1
         ],
         "yaxis": "y"
        },
        {
         "hovertemplate": "County=Clark County<br>WeekStartDate=%{x}<br>Age 20-39=%{y}<extra></extra>",
         "legendgroup": "Clark County",
         "marker": {
          "color": "#19d3f3",
          "symbol": "circle"
         },
         "mode": "markers",
         "name": "Clark County",
         "orientation": "v",
         "showlegend": true,
         "type": "scatter",
         "x": [
          "2020-02-23",
          "2020-03-01",
          "2020-03-08",
          "2020-03-15",
          "2020-03-22",
          "2020-03-29",
          "2020-04-05",
          "2020-04-12",
          "2020-04-19",
          "2020-04-26",
          "2020-05-03",
          "2020-05-10",
          "2020-05-17",
          "2020-05-24",
          "2020-05-31"
         ],
         "xaxis": "x",
         "y": [
          0,
          0,
          3,
          10,
          21,
          11,
          19,
          8,
          3,
          6,
          8,
          9,
          33,
          26,
          3
         ],
         "yaxis": "y"
        },
        {
         "hovertemplate": "County=Cowlitz County<br>WeekStartDate=%{x}<br>Age 20-39=%{y}<extra></extra>",
         "legendgroup": "Cowlitz County",
         "marker": {
          "color": "#FF6692",
          "symbol": "circle"
         },
         "mode": "markers",
         "name": "Cowlitz County",
         "orientation": "v",
         "showlegend": true,
         "type": "scatter",
         "x": [
          "2020-02-23",
          "2020-03-01",
          "2020-03-08",
          "2020-03-15",
          "2020-03-22",
          "2020-03-29",
          "2020-04-05",
          "2020-04-12",
          "2020-04-19",
          "2020-04-26",
          "2020-05-03",
          "2020-05-10",
          "2020-05-17",
          "2020-05-24",
          "2020-05-31"
         ],
         "xaxis": "x",
         "y": [
          0,
          0,
          2,
          3,
          2,
          1,
          0,
          2,
          3,
          6,
          1,
          2,
          0,
          0,
          1
         ],
         "yaxis": "y"
        },
        {
         "hovertemplate": "County=Douglas County<br>WeekStartDate=%{x}<br>Age 20-39=%{y}<extra></extra>",
         "legendgroup": "Douglas County",
         "marker": {
          "color": "#B6E880",
          "symbol": "circle"
         },
         "mode": "markers",
         "name": "Douglas County",
         "orientation": "v",
         "showlegend": true,
         "type": "scatter",
         "x": [
          "2020-03-01",
          "2020-03-08",
          "2020-03-15",
          "2020-03-22",
          "2020-03-29",
          "2020-04-05",
          "2020-04-12",
          "2020-04-19",
          "2020-04-26",
          "2020-05-03",
          "2020-05-10",
          "2020-05-17",
          "2020-05-24",
          "2020-05-31"
         ],
         "xaxis": "x",
         "y": [
          0,
          0,
          0,
          1,
          6,
          4,
          31,
          7,
          7,
          10,
          6,
          5,
          3,
          2
         ],
         "yaxis": "y"
        },
        {
         "hovertemplate": "County=Franklin County<br>WeekStartDate=%{x}<br>Age 20-39=%{y}<extra></extra>",
         "legendgroup": "Franklin County",
         "marker": {
          "color": "#FF97FF",
          "symbol": "circle"
         },
         "mode": "markers",
         "name": "Franklin County",
         "orientation": "v",
         "showlegend": true,
         "type": "scatter",
         "x": [
          "2020-02-09",
          "2020-02-23",
          "2020-03-01",
          "2020-03-08",
          "2020-03-15",
          "2020-03-22",
          "2020-03-29",
          "2020-04-05",
          "2020-04-12",
          "2020-04-19",
          "2020-04-26",
          "2020-05-03",
          "2020-05-10",
          "2020-05-17",
          "2020-05-24",
          "2020-05-31"
         ],
         "xaxis": "x",
         "y": [
          0,
          0,
          1,
          1,
          10,
          10,
          16,
          21,
          26,
          22,
          29,
          12,
          22,
          33,
          29,
          30
         ],
         "yaxis": "y"
        },
        {
         "hovertemplate": "County=Grant County<br>WeekStartDate=%{x}<br>Age 20-39=%{y}<extra></extra>",
         "legendgroup": "Grant County",
         "marker": {
          "color": "#FECB52",
          "symbol": "circle"
         },
         "mode": "markers",
         "name": "Grant County",
         "orientation": "v",
         "showlegend": true,
         "type": "scatter",
         "x": [
          "2020-02-16",
          "2020-02-23",
          "2020-03-01",
          "2020-03-08",
          "2020-03-15",
          "2020-03-22",
          "2020-03-29",
          "2020-04-05",
          "2020-04-12",
          "2020-04-19",
          "2020-04-26",
          "2020-05-03",
          "2020-05-10",
          "2020-05-17",
          "2020-05-24",
          "2020-05-31"
         ],
         "xaxis": "x",
         "y": [
          0,
          0,
          1,
          12,
          8,
          9,
          11,
          7,
          4,
          5,
          15,
          0,
          1,
          4,
          5,
          2
         ],
         "yaxis": "y"
        },
        {
         "hovertemplate": "County=Grays Harbor County<br>WeekStartDate=%{x}<br>Age 20-39=%{y}<extra></extra>",
         "legendgroup": "Grays Harbor County",
         "marker": {
          "color": "#636efa",
          "symbol": "circle"
         },
         "mode": "markers",
         "name": "Grays Harbor County",
         "orientation": "v",
         "showlegend": true,
         "type": "scatter",
         "x": [
          "2020-02-16",
          "2020-02-23",
          "2020-03-01",
          "2020-03-15",
          "2020-03-22",
          "2020-03-29",
          "2020-04-05",
          "2020-04-26",
          "2020-05-03",
          "2020-05-17",
          "2020-05-24",
          "2020-05-31"
         ],
         "xaxis": "x",
         "y": [
          0,
          0,
          0,
          0,
          1,
          0,
          0,
          0,
          0,
          1,
          1,
          1
         ],
         "yaxis": "y"
        },
        {
         "hovertemplate": "County=Island County<br>WeekStartDate=%{x}<br>Age 20-39=%{y}<extra></extra>",
         "legendgroup": "Island County",
         "marker": {
          "color": "#EF553B",
          "symbol": "circle"
         },
         "mode": "markers",
         "name": "Island County",
         "orientation": "v",
         "showlegend": true,
         "type": "scatter",
         "x": [
          "2020-02-23",
          "2020-03-01",
          "2020-03-08",
          "2020-03-15",
          "2020-03-22",
          "2020-03-29",
          "2020-04-05",
          "2020-04-12",
          "2020-04-19",
          "2020-04-26",
          "2020-05-03",
          "2020-05-10",
          "2020-05-24"
         ],
         "xaxis": "x",
         "y": [
          0,
          0,
          6,
          9,
          15,
          2,
          1,
          1,
          0,
          0,
          2,
          0,
          0
         ],
         "yaxis": "y"
        },
        {
         "hovertemplate": "County=Jefferson County<br>WeekStartDate=%{x}<br>Age 20-39=%{y}<extra></extra>",
         "legendgroup": "Jefferson County",
         "marker": {
          "color": "#00cc96",
          "symbol": "circle"
         },
         "mode": "markers",
         "name": "Jefferson County",
         "orientation": "v",
         "showlegend": true,
         "type": "scatter",
         "x": [
          "2020-02-23",
          "2020-03-01",
          "2020-03-08",
          "2020-03-15",
          "2020-03-22",
          "2020-03-29",
          "2020-05-31"
         ],
         "xaxis": "x",
         "y": [
          0,
          2,
          3,
          2,
          0,
          0,
          0
         ],
         "yaxis": "y"
        },
        {
         "hovertemplate": "County=King County<br>WeekStartDate=%{x}<br>Age 20-39=%{y}<extra></extra>",
         "legendgroup": "King County",
         "marker": {
          "color": "#ab63fa",
          "symbol": "circle"
         },
         "mode": "markers",
         "name": "King County",
         "orientation": "v",
         "showlegend": true,
         "type": "scatter",
         "x": [
          "2020-02-02",
          "2020-02-09",
          "2020-02-16",
          "2020-02-23",
          "2020-03-01",
          "2020-03-08",
          "2020-03-15",
          "2020-03-22",
          "2020-03-29",
          "2020-04-05",
          "2020-04-12",
          "2020-04-19",
          "2020-04-26",
          "2020-05-03",
          "2020-05-10",
          "2020-05-17",
          "2020-05-24",
          "2020-05-31"
         ],
         "xaxis": "x",
         "y": [
          1,
          1,
          8,
          17,
          59,
          201,
          322,
          309,
          287,
          212,
          244,
          207,
          197,
          151,
          121,
          83,
          104,
          63
         ],
         "yaxis": "y"
        },
        {
         "hovertemplate": "County=Kitsap County<br>WeekStartDate=%{x}<br>Age 20-39=%{y}<extra></extra>",
         "legendgroup": "Kitsap County",
         "marker": {
          "color": "#FFA15A",
          "symbol": "circle"
         },
         "mode": "markers",
         "name": "Kitsap County",
         "orientation": "v",
         "showlegend": true,
         "type": "scatter",
         "x": [
          "2020-02-16",
          "2020-02-23",
          "2020-03-01",
          "2020-03-08",
          "2020-03-15",
          "2020-03-22",
          "2020-03-29",
          "2020-04-05",
          "2020-04-12",
          "2020-04-19",
          "2020-04-26",
          "2020-05-03",
          "2020-05-10",
          "2020-05-24",
          "2020-05-31"
         ],
         "xaxis": "x",
         "y": [
          1,
          0,
          1,
          5,
          7,
          10,
          11,
          2,
          4,
          2,
          1,
          0,
          4,
          0,
          1
         ],
         "yaxis": "y"
        },
        {
         "hovertemplate": "County=Kittitas County<br>WeekStartDate=%{x}<br>Age 20-39=%{y}<extra></extra>",
         "legendgroup": "Kittitas County",
         "marker": {
          "color": "#19d3f3",
          "symbol": "circle"
         },
         "mode": "markers",
         "name": "Kittitas County",
         "orientation": "v",
         "showlegend": true,
         "type": "scatter",
         "x": [
          "2020-01-26",
          "2020-02-16",
          "2020-03-08",
          "2020-03-15",
          "2020-03-22",
          "2020-03-29",
          "2020-04-05",
          "2020-04-19",
          "2020-04-26",
          "2020-05-03",
          "2020-05-10",
          "2020-05-17",
          "2020-05-24",
          "2020-05-31"
         ],
         "xaxis": "x",
         "y": [
          0,
          0,
          0,
          2,
          1,
          1,
          0,
          1,
          1,
          17,
          5,
          4,
          1,
          1
         ],
         "yaxis": "y"
        },
        {
         "hovertemplate": "County=Klickitat County<br>WeekStartDate=%{x}<br>Age 20-39=%{y}<extra></extra>",
         "legendgroup": "Klickitat County",
         "marker": {
          "color": "#FF6692",
          "symbol": "circle"
         },
         "mode": "markers",
         "name": "Klickitat County",
         "orientation": "v",
         "showlegend": true,
         "type": "scatter",
         "x": [
          "2020-03-01",
          "2020-03-15",
          "2020-03-22",
          "2020-03-29",
          "2020-04-05",
          "2020-04-19",
          "2020-04-26",
          "2020-05-03",
          "2020-05-10",
          "2020-05-17",
          "2020-05-24",
          "2020-05-31"
         ],
         "xaxis": "x",
         "y": [
          0,
          0,
          1,
          0,
          1,
          0,
          1,
          0,
          0,
          1,
          1,
          1
         ],
         "yaxis": "y"
        },
        {
         "hovertemplate": "County=Lewis County<br>WeekStartDate=%{x}<br>Age 20-39=%{y}<extra></extra>",
         "legendgroup": "Lewis County",
         "marker": {
          "color": "#B6E880",
          "symbol": "circle"
         },
         "mode": "markers",
         "name": "Lewis County",
         "orientation": "v",
         "showlegend": true,
         "type": "scatter",
         "x": [
          "2020-03-08",
          "2020-03-15",
          "2020-03-22",
          "2020-03-29",
          "2020-04-05",
          "2020-04-12",
          "2020-04-19",
          "2020-04-26",
          "2020-05-03",
          "2020-05-10",
          "2020-05-24"
         ],
         "xaxis": "x",
         "y": [
          1,
          2,
          1,
          0,
          1,
          1,
          0,
          0,
          0,
          1,
          1
         ],
         "yaxis": "y"
        },
        {
         "hovertemplate": "County=Mason County<br>WeekStartDate=%{x}<br>Age 20-39=%{y}<extra></extra>",
         "legendgroup": "Mason County",
         "marker": {
          "color": "#FF97FF",
          "symbol": "circle"
         },
         "mode": "markers",
         "name": "Mason County",
         "orientation": "v",
         "showlegend": true,
         "type": "scatter",
         "x": [
          "2020-03-08",
          "2020-03-15",
          "2020-03-22",
          "2020-03-29",
          "2020-04-12",
          "2020-04-19",
          "2020-04-26",
          "2020-05-03",
          "2020-05-10",
          "2020-05-17",
          "2020-05-24",
          "2020-05-31"
         ],
         "xaxis": "x",
         "y": [
          0,
          0,
          1,
          1,
          0,
          2,
          2,
          1,
          1,
          1,
          0,
          1
         ],
         "yaxis": "y"
        },
        {
         "hovertemplate": "County=Okanogan County<br>WeekStartDate=%{x}<br>Age 20-39=%{y}<extra></extra>",
         "legendgroup": "Okanogan County",
         "marker": {
          "color": "#FECB52",
          "symbol": "circle"
         },
         "mode": "markers",
         "name": "Okanogan County",
         "orientation": "v",
         "showlegend": true,
         "type": "scatter",
         "x": [
          "2020-03-08",
          "2020-03-15",
          "2020-03-22",
          "2020-03-29",
          "2020-04-05",
          "2020-04-12",
          "2020-04-19",
          "2020-04-26",
          "2020-05-03",
          "2020-05-10",
          "2020-05-17",
          "2020-05-24",
          "2020-05-31"
         ],
         "xaxis": "x",
         "y": [
          0,
          0,
          1,
          1,
          0,
          0,
          2,
          0,
          7,
          4,
          1,
          4,
          1
         ],
         "yaxis": "y"
        },
        {
         "hovertemplate": "County=Pacific County<br>WeekStartDate=%{x}<br>Age 20-39=%{y}<extra></extra>",
         "legendgroup": "Pacific County",
         "marker": {
          "color": "#636efa",
          "symbol": "circle"
         },
         "mode": "markers",
         "name": "Pacific County",
         "orientation": "v",
         "showlegend": true,
         "type": "scatter",
         "x": [
          "2020-03-29",
          "2020-04-05",
          "2020-04-19",
          "2020-04-26",
          "2020-05-03"
         ],
         "xaxis": "x",
         "y": [
          1,
          0,
          0,
          0,
          1
         ],
         "yaxis": "y"
        },
        {
         "hovertemplate": "County=Pierce County<br>WeekStartDate=%{x}<br>Age 20-39=%{y}<extra></extra>",
         "legendgroup": "Pierce County",
         "marker": {
          "color": "#EF553B",
          "symbol": "circle"
         },
         "mode": "markers",
         "name": "Pierce County",
         "orientation": "v",
         "showlegend": true,
         "type": "scatter",
         "x": [
          "2020-02-16",
          "2020-02-23",
          "2020-03-01",
          "2020-03-08",
          "2020-03-15",
          "2020-03-22",
          "2020-03-29",
          "2020-04-05",
          "2020-04-12",
          "2020-04-19",
          "2020-04-26",
          "2020-05-03",
          "2020-05-10",
          "2020-05-17",
          "2020-05-24",
          "2020-05-31"
         ],
         "xaxis": "x",
         "y": [
          1,
          1,
          7,
          26,
          67,
          60,
          89,
          56,
          52,
          50,
          55,
          47,
          33,
          24,
          21,
          29
         ],
         "yaxis": "y"
        },
        {
         "hovertemplate": "County=San Juan County<br>WeekStartDate=%{x}<br>Age 20-39=%{y}<extra></extra>",
         "legendgroup": "San Juan County",
         "marker": {
          "color": "#00cc96",
          "symbol": "circle"
         },
         "mode": "markers",
         "name": "San Juan County",
         "orientation": "v",
         "showlegend": true,
         "type": "scatter",
         "x": [
          "2020-03-08",
          "2020-03-15",
          "2020-03-22",
          "2020-03-29",
          "2020-04-05",
          "2020-04-12"
         ],
         "xaxis": "x",
         "y": [
          0,
          0,
          0,
          0,
          0,
          0
         ],
         "yaxis": "y"
        },
        {
         "hovertemplate": "County=Skagit County<br>WeekStartDate=%{x}<br>Age 20-39=%{y}<extra></extra>",
         "legendgroup": "Skagit County",
         "marker": {
          "color": "#ab63fa",
          "symbol": "circle"
         },
         "mode": "markers",
         "name": "Skagit County",
         "orientation": "v",
         "showlegend": true,
         "type": "scatter",
         "x": [
          "2020-02-16",
          "2020-02-23",
          "2020-03-01",
          "2020-03-08",
          "2020-03-15",
          "2020-03-22",
          "2020-03-29",
          "2020-04-05",
          "2020-04-12",
          "2020-04-19",
          "2020-04-26",
          "2020-05-03",
          "2020-05-10",
          "2020-05-17",
          "2020-05-24",
          "2020-05-31"
         ],
         "xaxis": "x",
         "y": [
          0,
          1,
          3,
          7,
          10,
          13,
          8,
          13,
          17,
          25,
          19,
          9,
          2,
          2,
          6,
          1
         ],
         "yaxis": "y"
        },
        {
         "hovertemplate": "County=Snohomish County<br>WeekStartDate=%{x}<br>Age 20-39=%{y}<extra></extra>",
         "legendgroup": "Snohomish County",
         "marker": {
          "color": "#FFA15A",
          "symbol": "circle"
         },
         "mode": "markers",
         "name": "Snohomish County",
         "orientation": "v",
         "showlegend": true,
         "type": "scatter",
         "x": [
          "2020-01-16",
          "2020-01-26",
          "2020-02-02",
          "2020-02-09",
          "2020-02-16",
          "2020-02-23",
          "2020-03-01",
          "2020-03-08",
          "2020-03-15",
          "2020-03-22",
          "2020-03-29",
          "2020-04-05",
          "2020-04-12",
          "2020-04-19",
          "2020-04-26",
          "2020-05-03",
          "2020-05-10",
          "2020-05-17",
          "2020-05-24",
          "2020-05-31"
         ],
         "xaxis": "x",
         "y": [
          1,
          1,
          1,
          1,
          3,
          11,
          35,
          86,
          158,
          145,
          99,
          71,
          62,
          59,
          58,
          43,
          33,
          23,
          20,
          13
         ],
         "yaxis": "y"
        },
        {
         "hovertemplate": "County=Spokane County<br>WeekStartDate=%{x}<br>Age 20-39=%{y}<extra></extra>",
         "legendgroup": "Spokane County",
         "marker": {
          "color": "#19d3f3",
          "symbol": "circle"
         },
         "mode": "markers",
         "name": "Spokane County",
         "orientation": "v",
         "showlegend": true,
         "type": "scatter",
         "x": [
          "2020-02-16",
          "2020-02-23",
          "2020-03-01",
          "2020-03-08",
          "2020-03-15",
          "2020-03-22",
          "2020-03-29",
          "2020-04-05",
          "2020-04-12",
          "2020-04-19",
          "2020-04-26",
          "2020-05-03",
          "2020-05-10",
          "2020-05-17",
          "2020-05-24",
          "2020-05-31"
         ],
         "xaxis": "x",
         "y": [
          0,
          0,
          4,
          8,
          19,
          23,
          10,
          6,
          8,
          14,
          5,
          3,
          17,
          54,
          54,
          42
         ],
         "yaxis": "y"
        },
        {
         "hovertemplate": "County=Stevens County<br>WeekStartDate=%{x}<br>Age 20-39=%{y}<extra></extra>",
         "legendgroup": "Stevens County",
         "marker": {
          "color": "#FF6692",
          "symbol": "circle"
         },
         "mode": "markers",
         "name": "Stevens County",
         "orientation": "v",
         "showlegend": true,
         "type": "scatter",
         "x": [
          "2020-03-01",
          "2020-03-08",
          "2020-03-15",
          "2020-03-22",
          "2020-03-29",
          "2020-04-12",
          "2020-05-10",
          "2020-05-17",
          "2020-05-24"
         ],
         "xaxis": "x",
         "y": [
          0,
          0,
          0,
          0,
          0,
          0,
          0,
          0,
          0
         ],
         "yaxis": "y"
        },
        {
         "hovertemplate": "County=Thurston County<br>WeekStartDate=%{x}<br>Age 20-39=%{y}<extra></extra>",
         "legendgroup": "Thurston County",
         "marker": {
          "color": "#B6E880",
          "symbol": "circle"
         },
         "mode": "markers",
         "name": "Thurston County",
         "orientation": "v",
         "showlegend": true,
         "type": "scatter",
         "x": [
          "2020-02-23",
          "2020-03-01",
          "2020-03-08",
          "2020-03-15",
          "2020-03-22",
          "2020-03-29",
          "2020-04-05",
          "2020-04-12",
          "2020-04-19",
          "2020-04-26",
          "2020-05-03",
          "2020-05-10",
          "2020-05-17",
          "2020-05-24",
          "2020-05-31"
         ],
         "xaxis": "x",
         "y": [
          0,
          0,
          4,
          1,
          6,
          6,
          4,
          2,
          1,
          0,
          2,
          0,
          1,
          3,
          2
         ],
         "yaxis": "y"
        },
        {
         "hovertemplate": "County=Walla Walla County<br>WeekStartDate=%{x}<br>Age 20-39=%{y}<extra></extra>",
         "legendgroup": "Walla Walla County",
         "marker": {
          "color": "#FF97FF",
          "symbol": "circle"
         },
         "mode": "markers",
         "name": "Walla Walla County",
         "orientation": "v",
         "showlegend": true,
         "type": "scatter",
         "x": [
          "2020-03-08",
          "2020-03-15",
          "2020-03-22",
          "2020-03-29",
          "2020-04-05",
          "2020-04-12",
          "2020-04-19",
          "2020-04-26",
          "2020-05-03",
          "2020-05-10",
          "2020-05-17",
          "2020-05-24",
          "2020-05-31"
         ],
         "xaxis": "x",
         "y": [
          0,
          1,
          2,
          4,
          8,
          4,
          8,
          10,
          3,
          2,
          0,
          1,
          2
         ],
         "yaxis": "y"
        },
        {
         "hovertemplate": "County=Whatcom County<br>WeekStartDate=%{x}<br>Age 20-39=%{y}<extra></extra>",
         "legendgroup": "Whatcom County",
         "marker": {
          "color": "#FECB52",
          "symbol": "circle"
         },
         "mode": "markers",
         "name": "Whatcom County",
         "orientation": "v",
         "showlegend": true,
         "type": "scatter",
         "x": [
          "2020-02-16",
          "2020-02-23",
          "2020-03-01",
          "2020-03-08",
          "2020-03-15",
          "2020-03-22",
          "2020-03-29",
          "2020-04-05",
          "2020-04-12",
          "2020-04-19",
          "2020-04-26",
          "2020-05-03",
          "2020-05-10",
          "2020-05-17",
          "2020-05-24",
          "2020-05-31"
         ],
         "xaxis": "x",
         "y": [
          0,
          0,
          0,
          8,
          22,
          20,
          17,
          3,
          6,
          5,
          13,
          3,
          10,
          10,
          6,
          3
         ],
         "yaxis": "y"
        },
        {
         "hovertemplate": "County=Whitman County<br>WeekStartDate=%{x}<br>Age 20-39=%{y}<extra></extra>",
         "legendgroup": "Whitman County",
         "marker": {
          "color": "#636efa",
          "symbol": "circle"
         },
         "mode": "markers",
         "name": "Whitman County",
         "orientation": "v",
         "showlegend": true,
         "type": "scatter",
         "x": [
          "2020-03-08",
          "2020-03-15",
          "2020-03-22",
          "2020-03-29",
          "2020-04-12",
          "2020-04-19",
          "2020-05-10",
          "2020-05-17"
         ],
         "xaxis": "x",
         "y": [
          1,
          1,
          0,
          2,
          2,
          1,
          2,
          2
         ],
         "yaxis": "y"
        },
        {
         "hovertemplate": "County=Yakima County<br>WeekStartDate=%{x}<br>Age 20-39=%{y}<extra></extra>",
         "legendgroup": "Yakima County",
         "marker": {
          "color": "#EF553B",
          "symbol": "circle"
         },
         "mode": "markers",
         "name": "Yakima County",
         "orientation": "v",
         "showlegend": true,
         "type": "scatter",
         "x": [
          "2020-01-16",
          "2020-02-09",
          "2020-02-16",
          "2020-03-01",
          "2020-03-08",
          "2020-03-15",
          "2020-03-22",
          "2020-03-29",
          "2020-04-05",
          "2020-04-12",
          "2020-04-19",
          "2020-04-26",
          "2020-05-03",
          "2020-05-10",
          "2020-05-17",
          "2020-05-24",
          "2020-05-31"
         ],
         "xaxis": "x",
         "y": [
          1,
          1,
          0,
          0,
          10,
          32,
          41,
          59,
          78,
          88,
          103,
          137,
          200,
          261,
          283,
          273,
          211
         ],
         "yaxis": "y"
        },
        {
         "hovertemplate": "County=Unassigned<br>WeekStartDate=%{x}<br>Age 20-39=%{y}<extra></extra>",
         "legendgroup": "Unassigned",
         "marker": {
          "color": "#00cc96",
          "symbol": "circle"
         },
         "mode": "markers",
         "name": "Unassigned",
         "orientation": "v",
         "showlegend": true,
         "type": "scatter",
         "x": [
          "2020-04-19",
          "2020-05-10",
          "2020-05-17",
          "2020-05-24",
          "2020-05-31"
         ],
         "xaxis": "x",
         "y": [
          0,
          0,
          3,
          3,
          8
         ],
         "yaxis": "y"
        }
       ],
       "layout": {
        "legend": {
         "title": {
          "text": "County"
         },
         "tracegroupgap": 0
        },
        "margin": {
         "t": 60
        },
        "template": {
         "data": {
          "bar": [
           {
            "error_x": {
             "color": "#2a3f5f"
            },
            "error_y": {
             "color": "#2a3f5f"
            },
            "marker": {
             "line": {
              "color": "#E5ECF6",
              "width": 0.5
             }
            },
            "type": "bar"
           }
          ],
          "barpolar": [
           {
            "marker": {
             "line": {
              "color": "#E5ECF6",
              "width": 0.5
             }
            },
            "type": "barpolar"
           }
          ],
          "carpet": [
           {
            "aaxis": {
             "endlinecolor": "#2a3f5f",
             "gridcolor": "white",
             "linecolor": "white",
             "minorgridcolor": "white",
             "startlinecolor": "#2a3f5f"
            },
            "baxis": {
             "endlinecolor": "#2a3f5f",
             "gridcolor": "white",
             "linecolor": "white",
             "minorgridcolor": "white",
             "startlinecolor": "#2a3f5f"
            },
            "type": "carpet"
           }
          ],
          "choropleth": [
           {
            "colorbar": {
             "outlinewidth": 0,
             "ticks": ""
            },
            "type": "choropleth"
           }
          ],
          "contour": [
           {
            "colorbar": {
             "outlinewidth": 0,
             "ticks": ""
            },
            "colorscale": [
             [
              0,
              "#0d0887"
             ],
             [
              0.1111111111111111,
              "#46039f"
             ],
             [
              0.2222222222222222,
              "#7201a8"
             ],
             [
              0.3333333333333333,
              "#9c179e"
             ],
             [
              0.4444444444444444,
              "#bd3786"
             ],
             [
              0.5555555555555556,
              "#d8576b"
             ],
             [
              0.6666666666666666,
              "#ed7953"
             ],
             [
              0.7777777777777778,
              "#fb9f3a"
             ],
             [
              0.8888888888888888,
              "#fdca26"
             ],
             [
              1,
              "#f0f921"
             ]
            ],
            "type": "contour"
           }
          ],
          "contourcarpet": [
           {
            "colorbar": {
             "outlinewidth": 0,
             "ticks": ""
            },
            "type": "contourcarpet"
           }
          ],
          "heatmap": [
           {
            "colorbar": {
             "outlinewidth": 0,
             "ticks": ""
            },
            "colorscale": [
             [
              0,
              "#0d0887"
             ],
             [
              0.1111111111111111,
              "#46039f"
             ],
             [
              0.2222222222222222,
              "#7201a8"
             ],
             [
              0.3333333333333333,
              "#9c179e"
             ],
             [
              0.4444444444444444,
              "#bd3786"
             ],
             [
              0.5555555555555556,
              "#d8576b"
             ],
             [
              0.6666666666666666,
              "#ed7953"
             ],
             [
              0.7777777777777778,
              "#fb9f3a"
             ],
             [
              0.8888888888888888,
              "#fdca26"
             ],
             [
              1,
              "#f0f921"
             ]
            ],
            "type": "heatmap"
           }
          ],
          "heatmapgl": [
           {
            "colorbar": {
             "outlinewidth": 0,
             "ticks": ""
            },
            "colorscale": [
             [
              0,
              "#0d0887"
             ],
             [
              0.1111111111111111,
              "#46039f"
             ],
             [
              0.2222222222222222,
              "#7201a8"
             ],
             [
              0.3333333333333333,
              "#9c179e"
             ],
             [
              0.4444444444444444,
              "#bd3786"
             ],
             [
              0.5555555555555556,
              "#d8576b"
             ],
             [
              0.6666666666666666,
              "#ed7953"
             ],
             [
              0.7777777777777778,
              "#fb9f3a"
             ],
             [
              0.8888888888888888,
              "#fdca26"
             ],
             [
              1,
              "#f0f921"
             ]
            ],
            "type": "heatmapgl"
           }
          ],
          "histogram": [
           {
            "marker": {
             "colorbar": {
              "outlinewidth": 0,
              "ticks": ""
             }
            },
            "type": "histogram"
           }
          ],
          "histogram2d": [
           {
            "colorbar": {
             "outlinewidth": 0,
             "ticks": ""
            },
            "colorscale": [
             [
              0,
              "#0d0887"
             ],
             [
              0.1111111111111111,
              "#46039f"
             ],
             [
              0.2222222222222222,
              "#7201a8"
             ],
             [
              0.3333333333333333,
              "#9c179e"
             ],
             [
              0.4444444444444444,
              "#bd3786"
             ],
             [
              0.5555555555555556,
              "#d8576b"
             ],
             [
              0.6666666666666666,
              "#ed7953"
             ],
             [
              0.7777777777777778,
              "#fb9f3a"
             ],
             [
              0.8888888888888888,
              "#fdca26"
             ],
             [
              1,
              "#f0f921"
             ]
            ],
            "type": "histogram2d"
           }
          ],
          "histogram2dcontour": [
           {
            "colorbar": {
             "outlinewidth": 0,
             "ticks": ""
            },
            "colorscale": [
             [
              0,
              "#0d0887"
             ],
             [
              0.1111111111111111,
              "#46039f"
             ],
             [
              0.2222222222222222,
              "#7201a8"
             ],
             [
              0.3333333333333333,
              "#9c179e"
             ],
             [
              0.4444444444444444,
              "#bd3786"
             ],
             [
              0.5555555555555556,
              "#d8576b"
             ],
             [
              0.6666666666666666,
              "#ed7953"
             ],
             [
              0.7777777777777778,
              "#fb9f3a"
             ],
             [
              0.8888888888888888,
              "#fdca26"
             ],
             [
              1,
              "#f0f921"
             ]
            ],
            "type": "histogram2dcontour"
           }
          ],
          "mesh3d": [
           {
            "colorbar": {
             "outlinewidth": 0,
             "ticks": ""
            },
            "type": "mesh3d"
           }
          ],
          "parcoords": [
           {
            "line": {
             "colorbar": {
              "outlinewidth": 0,
              "ticks": ""
             }
            },
            "type": "parcoords"
           }
          ],
          "pie": [
           {
            "automargin": true,
            "type": "pie"
           }
          ],
          "scatter": [
           {
            "marker": {
             "colorbar": {
              "outlinewidth": 0,
              "ticks": ""
             }
            },
            "type": "scatter"
           }
          ],
          "scatter3d": [
           {
            "line": {
             "colorbar": {
              "outlinewidth": 0,
              "ticks": ""
             }
            },
            "marker": {
             "colorbar": {
              "outlinewidth": 0,
              "ticks": ""
             }
            },
            "type": "scatter3d"
           }
          ],
          "scattercarpet": [
           {
            "marker": {
             "colorbar": {
              "outlinewidth": 0,
              "ticks": ""
             }
            },
            "type": "scattercarpet"
           }
          ],
          "scattergeo": [
           {
            "marker": {
             "colorbar": {
              "outlinewidth": 0,
              "ticks": ""
             }
            },
            "type": "scattergeo"
           }
          ],
          "scattergl": [
           {
            "marker": {
             "colorbar": {
              "outlinewidth": 0,
              "ticks": ""
             }
            },
            "type": "scattergl"
           }
          ],
          "scattermapbox": [
           {
            "marker": {
             "colorbar": {
              "outlinewidth": 0,
              "ticks": ""
             }
            },
            "type": "scattermapbox"
           }
          ],
          "scatterpolar": [
           {
            "marker": {
             "colorbar": {
              "outlinewidth": 0,
              "ticks": ""
             }
            },
            "type": "scatterpolar"
           }
          ],
          "scatterpolargl": [
           {
            "marker": {
             "colorbar": {
              "outlinewidth": 0,
              "ticks": ""
             }
            },
            "type": "scatterpolargl"
           }
          ],
          "scatterternary": [
           {
            "marker": {
             "colorbar": {
              "outlinewidth": 0,
              "ticks": ""
             }
            },
            "type": "scatterternary"
           }
          ],
          "surface": [
           {
            "colorbar": {
             "outlinewidth": 0,
             "ticks": ""
            },
            "colorscale": [
             [
              0,
              "#0d0887"
             ],
             [
              0.1111111111111111,
              "#46039f"
             ],
             [
              0.2222222222222222,
              "#7201a8"
             ],
             [
              0.3333333333333333,
              "#9c179e"
             ],
             [
              0.4444444444444444,
              "#bd3786"
             ],
             [
              0.5555555555555556,
              "#d8576b"
             ],
             [
              0.6666666666666666,
              "#ed7953"
             ],
             [
              0.7777777777777778,
              "#fb9f3a"
             ],
             [
              0.8888888888888888,
              "#fdca26"
             ],
             [
              1,
              "#f0f921"
             ]
            ],
            "type": "surface"
           }
          ],
          "table": [
           {
            "cells": {
             "fill": {
              "color": "#EBF0F8"
             },
             "line": {
              "color": "white"
             }
            },
            "header": {
             "fill": {
              "color": "#C8D4E3"
             },
             "line": {
              "color": "white"
             }
            },
            "type": "table"
           }
          ]
         },
         "layout": {
          "annotationdefaults": {
           "arrowcolor": "#2a3f5f",
           "arrowhead": 0,
           "arrowwidth": 1
          },
          "coloraxis": {
           "colorbar": {
            "outlinewidth": 0,
            "ticks": ""
           }
          },
          "colorscale": {
           "diverging": [
            [
             0,
             "#8e0152"
            ],
            [
             0.1,
             "#c51b7d"
            ],
            [
             0.2,
             "#de77ae"
            ],
            [
             0.3,
             "#f1b6da"
            ],
            [
             0.4,
             "#fde0ef"
            ],
            [
             0.5,
             "#f7f7f7"
            ],
            [
             0.6,
             "#e6f5d0"
            ],
            [
             0.7,
             "#b8e186"
            ],
            [
             0.8,
             "#7fbc41"
            ],
            [
             0.9,
             "#4d9221"
            ],
            [
             1,
             "#276419"
            ]
           ],
           "sequential": [
            [
             0,
             "#0d0887"
            ],
            [
             0.1111111111111111,
             "#46039f"
            ],
            [
             0.2222222222222222,
             "#7201a8"
            ],
            [
             0.3333333333333333,
             "#9c179e"
            ],
            [
             0.4444444444444444,
             "#bd3786"
            ],
            [
             0.5555555555555556,
             "#d8576b"
            ],
            [
             0.6666666666666666,
             "#ed7953"
            ],
            [
             0.7777777777777778,
             "#fb9f3a"
            ],
            [
             0.8888888888888888,
             "#fdca26"
            ],
            [
             1,
             "#f0f921"
            ]
           ],
           "sequentialminus": [
            [
             0,
             "#0d0887"
            ],
            [
             0.1111111111111111,
             "#46039f"
            ],
            [
             0.2222222222222222,
             "#7201a8"
            ],
            [
             0.3333333333333333,
             "#9c179e"
            ],
            [
             0.4444444444444444,
             "#bd3786"
            ],
            [
             0.5555555555555556,
             "#d8576b"
            ],
            [
             0.6666666666666666,
             "#ed7953"
            ],
            [
             0.7777777777777778,
             "#fb9f3a"
            ],
            [
             0.8888888888888888,
             "#fdca26"
            ],
            [
             1,
             "#f0f921"
            ]
           ]
          },
          "colorway": [
           "#636efa",
           "#EF553B",
           "#00cc96",
           "#ab63fa",
           "#FFA15A",
           "#19d3f3",
           "#FF6692",
           "#B6E880",
           "#FF97FF",
           "#FECB52"
          ],
          "font": {
           "color": "#2a3f5f"
          },
          "geo": {
           "bgcolor": "white",
           "lakecolor": "white",
           "landcolor": "#E5ECF6",
           "showlakes": true,
           "showland": true,
           "subunitcolor": "white"
          },
          "hoverlabel": {
           "align": "left"
          },
          "hovermode": "closest",
          "mapbox": {
           "style": "light"
          },
          "paper_bgcolor": "white",
          "plot_bgcolor": "#E5ECF6",
          "polar": {
           "angularaxis": {
            "gridcolor": "white",
            "linecolor": "white",
            "ticks": ""
           },
           "bgcolor": "#E5ECF6",
           "radialaxis": {
            "gridcolor": "white",
            "linecolor": "white",
            "ticks": ""
           }
          },
          "scene": {
           "xaxis": {
            "backgroundcolor": "#E5ECF6",
            "gridcolor": "white",
            "gridwidth": 2,
            "linecolor": "white",
            "showbackground": true,
            "ticks": "",
            "zerolinecolor": "white"
           },
           "yaxis": {
            "backgroundcolor": "#E5ECF6",
            "gridcolor": "white",
            "gridwidth": 2,
            "linecolor": "white",
            "showbackground": true,
            "ticks": "",
            "zerolinecolor": "white"
           },
           "zaxis": {
            "backgroundcolor": "#E5ECF6",
            "gridcolor": "white",
            "gridwidth": 2,
            "linecolor": "white",
            "showbackground": true,
            "ticks": "",
            "zerolinecolor": "white"
           }
          },
          "shapedefaults": {
           "line": {
            "color": "#2a3f5f"
           }
          },
          "ternary": {
           "aaxis": {
            "gridcolor": "white",
            "linecolor": "white",
            "ticks": ""
           },
           "baxis": {
            "gridcolor": "white",
            "linecolor": "white",
            "ticks": ""
           },
           "bgcolor": "#E5ECF6",
           "caxis": {
            "gridcolor": "white",
            "linecolor": "white",
            "ticks": ""
           }
          },
          "title": {
           "x": 0.05
          },
          "xaxis": {
           "automargin": true,
           "gridcolor": "white",
           "linecolor": "white",
           "ticks": "",
           "title": {
            "standoff": 15
           },
           "zerolinecolor": "white",
           "zerolinewidth": 2
          },
          "yaxis": {
           "automargin": true,
           "gridcolor": "white",
           "linecolor": "white",
           "ticks": "",
           "title": {
            "standoff": 15
           },
           "zerolinecolor": "white",
           "zerolinewidth": 2
          }
         }
        },
        "xaxis": {
         "anchor": "y",
         "domain": [
          0,
          1
         ],
         "title": {
          "text": "WeekStartDate"
         }
        },
        "yaxis": {
         "anchor": "x",
         "domain": [
          0,
          1
         ],
         "title": {
          "text": "Age 20-39"
         }
        }
       }
      },
      "text/html": [
       "<div>\n",
       "        \n",
       "        \n",
       "            <div id=\"34ea8eb6-ea17-42ba-b1eb-d1a98ee83c64\" class=\"plotly-graph-div\" style=\"height:525px; width:100%;\"></div>\n",
       "            <script type=\"text/javascript\">\n",
       "                require([\"plotly\"], function(Plotly) {\n",
       "                    window.PLOTLYENV=window.PLOTLYENV || {};\n",
       "                    \n",
       "                if (document.getElementById(\"34ea8eb6-ea17-42ba-b1eb-d1a98ee83c64\")) {\n",
       "                    Plotly.newPlot(\n",
       "                        '34ea8eb6-ea17-42ba-b1eb-d1a98ee83c64',\n",
       "                        [{\"hovertemplate\": \"County=Adams County<br>WeekStartDate=%{x}<br>Age 20-39=%{y}<extra></extra>\", \"legendgroup\": \"Adams County\", \"marker\": {\"color\": \"#636efa\", \"symbol\": \"circle\"}, \"mode\": \"markers\", \"name\": \"Adams County\", \"orientation\": \"v\", \"showlegend\": true, \"type\": \"scatter\", \"x\": [\"2020-03-08\", \"2020-03-15\", \"2020-03-22\", \"2020-03-29\", \"2020-04-05\", \"2020-04-12\", \"2020-04-19\", \"2020-04-26\", \"2020-05-03\", \"2020-05-10\", \"2020-05-17\", \"2020-05-24\", \"2020-05-31\"], \"xaxis\": \"x\", \"y\": [1, 0, 1, 8, 2, 1, 4, 1, 0, 1, 0, 10, 3], \"yaxis\": \"y\"}, {\"hovertemplate\": \"County=Asotin County<br>WeekStartDate=%{x}<br>Age 20-39=%{y}<extra></extra>\", \"legendgroup\": \"Asotin County\", \"marker\": {\"color\": \"#EF553B\", \"symbol\": \"circle\"}, \"mode\": \"markers\", \"name\": \"Asotin County\", \"orientation\": \"v\", \"showlegend\": true, \"type\": \"scatter\", \"x\": [\"2020-03-15\", \"2020-03-29\", \"2020-04-05\", \"2020-04-12\", \"2020-04-19\", \"2020-05-17\"], \"xaxis\": \"x\", \"y\": [0, 0, 1, 0, 0, 0], \"yaxis\": \"y\"}, {\"hovertemplate\": \"County=Benton County<br>WeekStartDate=%{x}<br>Age 20-39=%{y}<extra></extra>\", \"legendgroup\": \"Benton County\", \"marker\": {\"color\": \"#00cc96\", \"symbol\": \"circle\"}, \"mode\": \"markers\", \"name\": \"Benton County\", \"orientation\": \"v\", \"showlegend\": true, \"type\": \"scatter\", \"x\": [\"2020-02-16\", \"2020-03-01\", \"2020-03-08\", \"2020-03-15\", \"2020-03-22\", \"2020-03-29\", \"2020-04-05\", \"2020-04-12\", \"2020-04-19\", \"2020-04-26\", \"2020-05-03\", \"2020-05-10\", \"2020-05-17\", \"2020-05-24\", \"2020-05-31\"], \"xaxis\": \"x\", \"y\": [1, 0, 3, 14, 21, 24, 20, 30, 38, 23, 19, 30, 30, 29, 43], \"yaxis\": \"y\"}, {\"hovertemplate\": \"County=Chelan County<br>WeekStartDate=%{x}<br>Age 20-39=%{y}<extra></extra>\", \"legendgroup\": \"Chelan County\", \"marker\": {\"color\": \"#ab63fa\", \"symbol\": \"circle\"}, \"mode\": \"markers\", \"name\": \"Chelan County\", \"orientation\": \"v\", \"showlegend\": true, \"type\": \"scatter\", \"x\": [\"2020-02-09\", \"2020-03-08\", \"2020-03-15\", \"2020-03-22\", \"2020-03-29\", \"2020-04-05\", \"2020-04-12\", \"2020-04-19\", \"2020-04-26\", \"2020-05-03\", \"2020-05-10\", \"2020-05-17\", \"2020-05-24\", \"2020-05-31\"], \"xaxis\": \"x\", \"y\": [0, 1, 3, 3, 7, 10, 18, 7, 6, 11, 17, 15, 6, 5], \"yaxis\": \"y\"}, {\"hovertemplate\": \"County=Clallam County<br>WeekStartDate=%{x}<br>Age 20-39=%{y}<extra></extra>\", \"legendgroup\": \"Clallam County\", \"marker\": {\"color\": \"#FFA15A\", \"symbol\": \"circle\"}, \"mode\": \"markers\", \"name\": \"Clallam County\", \"orientation\": \"v\", \"showlegend\": true, \"type\": \"scatter\", \"x\": [\"2020-03-01\", \"2020-03-08\", \"2020-03-15\", \"2020-03-29\", \"2020-04-05\", \"2020-04-19\", \"2020-04-26\", \"2020-05-10\", \"2020-05-17\", \"2020-05-24\"], \"xaxis\": \"x\", \"y\": [0, 0, 2, 2, 0, 3, 1, 0, 0, 1], \"yaxis\": \"y\"}, {\"hovertemplate\": \"County=Clark County<br>WeekStartDate=%{x}<br>Age 20-39=%{y}<extra></extra>\", \"legendgroup\": \"Clark County\", \"marker\": {\"color\": \"#19d3f3\", \"symbol\": \"circle\"}, \"mode\": \"markers\", \"name\": \"Clark County\", \"orientation\": \"v\", \"showlegend\": true, \"type\": \"scatter\", \"x\": [\"2020-02-23\", \"2020-03-01\", \"2020-03-08\", \"2020-03-15\", \"2020-03-22\", \"2020-03-29\", \"2020-04-05\", \"2020-04-12\", \"2020-04-19\", \"2020-04-26\", \"2020-05-03\", \"2020-05-10\", \"2020-05-17\", \"2020-05-24\", \"2020-05-31\"], \"xaxis\": \"x\", \"y\": [0, 0, 3, 10, 21, 11, 19, 8, 3, 6, 8, 9, 33, 26, 3], \"yaxis\": \"y\"}, {\"hovertemplate\": \"County=Cowlitz County<br>WeekStartDate=%{x}<br>Age 20-39=%{y}<extra></extra>\", \"legendgroup\": \"Cowlitz County\", \"marker\": {\"color\": \"#FF6692\", \"symbol\": \"circle\"}, \"mode\": \"markers\", \"name\": \"Cowlitz County\", \"orientation\": \"v\", \"showlegend\": true, \"type\": \"scatter\", \"x\": [\"2020-02-23\", \"2020-03-01\", \"2020-03-08\", \"2020-03-15\", \"2020-03-22\", \"2020-03-29\", \"2020-04-05\", \"2020-04-12\", \"2020-04-19\", \"2020-04-26\", \"2020-05-03\", \"2020-05-10\", \"2020-05-17\", \"2020-05-24\", \"2020-05-31\"], \"xaxis\": \"x\", \"y\": [0, 0, 2, 3, 2, 1, 0, 2, 3, 6, 1, 2, 0, 0, 1], \"yaxis\": \"y\"}, {\"hovertemplate\": \"County=Douglas County<br>WeekStartDate=%{x}<br>Age 20-39=%{y}<extra></extra>\", \"legendgroup\": \"Douglas County\", \"marker\": {\"color\": \"#B6E880\", \"symbol\": \"circle\"}, \"mode\": \"markers\", \"name\": \"Douglas County\", \"orientation\": \"v\", \"showlegend\": true, \"type\": \"scatter\", \"x\": [\"2020-03-01\", \"2020-03-08\", \"2020-03-15\", \"2020-03-22\", \"2020-03-29\", \"2020-04-05\", \"2020-04-12\", \"2020-04-19\", \"2020-04-26\", \"2020-05-03\", \"2020-05-10\", \"2020-05-17\", \"2020-05-24\", \"2020-05-31\"], \"xaxis\": \"x\", \"y\": [0, 0, 0, 1, 6, 4, 31, 7, 7, 10, 6, 5, 3, 2], \"yaxis\": \"y\"}, {\"hovertemplate\": \"County=Franklin County<br>WeekStartDate=%{x}<br>Age 20-39=%{y}<extra></extra>\", \"legendgroup\": \"Franklin County\", \"marker\": {\"color\": \"#FF97FF\", \"symbol\": \"circle\"}, \"mode\": \"markers\", \"name\": \"Franklin County\", \"orientation\": \"v\", \"showlegend\": true, \"type\": \"scatter\", \"x\": [\"2020-02-09\", \"2020-02-23\", \"2020-03-01\", \"2020-03-08\", \"2020-03-15\", \"2020-03-22\", \"2020-03-29\", \"2020-04-05\", \"2020-04-12\", \"2020-04-19\", \"2020-04-26\", \"2020-05-03\", \"2020-05-10\", \"2020-05-17\", \"2020-05-24\", \"2020-05-31\"], \"xaxis\": \"x\", \"y\": [0, 0, 1, 1, 10, 10, 16, 21, 26, 22, 29, 12, 22, 33, 29, 30], \"yaxis\": \"y\"}, {\"hovertemplate\": \"County=Grant County<br>WeekStartDate=%{x}<br>Age 20-39=%{y}<extra></extra>\", \"legendgroup\": \"Grant County\", \"marker\": {\"color\": \"#FECB52\", \"symbol\": \"circle\"}, \"mode\": \"markers\", \"name\": \"Grant County\", \"orientation\": \"v\", \"showlegend\": true, \"type\": \"scatter\", \"x\": [\"2020-02-16\", \"2020-02-23\", \"2020-03-01\", \"2020-03-08\", \"2020-03-15\", \"2020-03-22\", \"2020-03-29\", \"2020-04-05\", \"2020-04-12\", \"2020-04-19\", \"2020-04-26\", \"2020-05-03\", \"2020-05-10\", \"2020-05-17\", \"2020-05-24\", \"2020-05-31\"], \"xaxis\": \"x\", \"y\": [0, 0, 1, 12, 8, 9, 11, 7, 4, 5, 15, 0, 1, 4, 5, 2], \"yaxis\": \"y\"}, {\"hovertemplate\": \"County=Grays Harbor County<br>WeekStartDate=%{x}<br>Age 20-39=%{y}<extra></extra>\", \"legendgroup\": \"Grays Harbor County\", \"marker\": {\"color\": \"#636efa\", \"symbol\": \"circle\"}, \"mode\": \"markers\", \"name\": \"Grays Harbor County\", \"orientation\": \"v\", \"showlegend\": true, \"type\": \"scatter\", \"x\": [\"2020-02-16\", \"2020-02-23\", \"2020-03-01\", \"2020-03-15\", \"2020-03-22\", \"2020-03-29\", \"2020-04-05\", \"2020-04-26\", \"2020-05-03\", \"2020-05-17\", \"2020-05-24\", \"2020-05-31\"], \"xaxis\": \"x\", \"y\": [0, 0, 0, 0, 1, 0, 0, 0, 0, 1, 1, 1], \"yaxis\": \"y\"}, {\"hovertemplate\": \"County=Island County<br>WeekStartDate=%{x}<br>Age 20-39=%{y}<extra></extra>\", \"legendgroup\": \"Island County\", \"marker\": {\"color\": \"#EF553B\", \"symbol\": \"circle\"}, \"mode\": \"markers\", \"name\": \"Island County\", \"orientation\": \"v\", \"showlegend\": true, \"type\": \"scatter\", \"x\": [\"2020-02-23\", \"2020-03-01\", \"2020-03-08\", \"2020-03-15\", \"2020-03-22\", \"2020-03-29\", \"2020-04-05\", \"2020-04-12\", \"2020-04-19\", \"2020-04-26\", \"2020-05-03\", \"2020-05-10\", \"2020-05-24\"], \"xaxis\": \"x\", \"y\": [0, 0, 6, 9, 15, 2, 1, 1, 0, 0, 2, 0, 0], \"yaxis\": \"y\"}, {\"hovertemplate\": \"County=Jefferson County<br>WeekStartDate=%{x}<br>Age 20-39=%{y}<extra></extra>\", \"legendgroup\": \"Jefferson County\", \"marker\": {\"color\": \"#00cc96\", \"symbol\": \"circle\"}, \"mode\": \"markers\", \"name\": \"Jefferson County\", \"orientation\": \"v\", \"showlegend\": true, \"type\": \"scatter\", \"x\": [\"2020-02-23\", \"2020-03-01\", \"2020-03-08\", \"2020-03-15\", \"2020-03-22\", \"2020-03-29\", \"2020-05-31\"], \"xaxis\": \"x\", \"y\": [0, 2, 3, 2, 0, 0, 0], \"yaxis\": \"y\"}, {\"hovertemplate\": \"County=King County<br>WeekStartDate=%{x}<br>Age 20-39=%{y}<extra></extra>\", \"legendgroup\": \"King County\", \"marker\": {\"color\": \"#ab63fa\", \"symbol\": \"circle\"}, \"mode\": \"markers\", \"name\": \"King County\", \"orientation\": \"v\", \"showlegend\": true, \"type\": \"scatter\", \"x\": [\"2020-02-02\", \"2020-02-09\", \"2020-02-16\", \"2020-02-23\", \"2020-03-01\", \"2020-03-08\", \"2020-03-15\", \"2020-03-22\", \"2020-03-29\", \"2020-04-05\", \"2020-04-12\", \"2020-04-19\", \"2020-04-26\", \"2020-05-03\", \"2020-05-10\", \"2020-05-17\", \"2020-05-24\", \"2020-05-31\"], \"xaxis\": \"x\", \"y\": [1, 1, 8, 17, 59, 201, 322, 309, 287, 212, 244, 207, 197, 151, 121, 83, 104, 63], \"yaxis\": \"y\"}, {\"hovertemplate\": \"County=Kitsap County<br>WeekStartDate=%{x}<br>Age 20-39=%{y}<extra></extra>\", \"legendgroup\": \"Kitsap County\", \"marker\": {\"color\": \"#FFA15A\", \"symbol\": \"circle\"}, \"mode\": \"markers\", \"name\": \"Kitsap County\", \"orientation\": \"v\", \"showlegend\": true, \"type\": \"scatter\", \"x\": [\"2020-02-16\", \"2020-02-23\", \"2020-03-01\", \"2020-03-08\", \"2020-03-15\", \"2020-03-22\", \"2020-03-29\", \"2020-04-05\", \"2020-04-12\", \"2020-04-19\", \"2020-04-26\", \"2020-05-03\", \"2020-05-10\", \"2020-05-24\", \"2020-05-31\"], \"xaxis\": \"x\", \"y\": [1, 0, 1, 5, 7, 10, 11, 2, 4, 2, 1, 0, 4, 0, 1], \"yaxis\": \"y\"}, {\"hovertemplate\": \"County=Kittitas County<br>WeekStartDate=%{x}<br>Age 20-39=%{y}<extra></extra>\", \"legendgroup\": \"Kittitas County\", \"marker\": {\"color\": \"#19d3f3\", \"symbol\": \"circle\"}, \"mode\": \"markers\", \"name\": \"Kittitas County\", \"orientation\": \"v\", \"showlegend\": true, \"type\": \"scatter\", \"x\": [\"2020-01-26\", \"2020-02-16\", \"2020-03-08\", \"2020-03-15\", \"2020-03-22\", \"2020-03-29\", \"2020-04-05\", \"2020-04-19\", \"2020-04-26\", \"2020-05-03\", \"2020-05-10\", \"2020-05-17\", \"2020-05-24\", \"2020-05-31\"], \"xaxis\": \"x\", \"y\": [0, 0, 0, 2, 1, 1, 0, 1, 1, 17, 5, 4, 1, 1], \"yaxis\": \"y\"}, {\"hovertemplate\": \"County=Klickitat County<br>WeekStartDate=%{x}<br>Age 20-39=%{y}<extra></extra>\", \"legendgroup\": \"Klickitat County\", \"marker\": {\"color\": \"#FF6692\", \"symbol\": \"circle\"}, \"mode\": \"markers\", \"name\": \"Klickitat County\", \"orientation\": \"v\", \"showlegend\": true, \"type\": \"scatter\", \"x\": [\"2020-03-01\", \"2020-03-15\", \"2020-03-22\", \"2020-03-29\", \"2020-04-05\", \"2020-04-19\", \"2020-04-26\", \"2020-05-03\", \"2020-05-10\", \"2020-05-17\", \"2020-05-24\", \"2020-05-31\"], \"xaxis\": \"x\", \"y\": [0, 0, 1, 0, 1, 0, 1, 0, 0, 1, 1, 1], \"yaxis\": \"y\"}, {\"hovertemplate\": \"County=Lewis County<br>WeekStartDate=%{x}<br>Age 20-39=%{y}<extra></extra>\", \"legendgroup\": \"Lewis County\", \"marker\": {\"color\": \"#B6E880\", \"symbol\": \"circle\"}, \"mode\": \"markers\", \"name\": \"Lewis County\", \"orientation\": \"v\", \"showlegend\": true, \"type\": \"scatter\", \"x\": [\"2020-03-08\", \"2020-03-15\", \"2020-03-22\", \"2020-03-29\", \"2020-04-05\", \"2020-04-12\", \"2020-04-19\", \"2020-04-26\", \"2020-05-03\", \"2020-05-10\", \"2020-05-24\"], \"xaxis\": \"x\", \"y\": [1, 2, 1, 0, 1, 1, 0, 0, 0, 1, 1], \"yaxis\": \"y\"}, {\"hovertemplate\": \"County=Mason County<br>WeekStartDate=%{x}<br>Age 20-39=%{y}<extra></extra>\", \"legendgroup\": \"Mason County\", \"marker\": {\"color\": \"#FF97FF\", \"symbol\": \"circle\"}, \"mode\": \"markers\", \"name\": \"Mason County\", \"orientation\": \"v\", \"showlegend\": true, \"type\": \"scatter\", \"x\": [\"2020-03-08\", \"2020-03-15\", \"2020-03-22\", \"2020-03-29\", \"2020-04-12\", \"2020-04-19\", \"2020-04-26\", \"2020-05-03\", \"2020-05-10\", \"2020-05-17\", \"2020-05-24\", \"2020-05-31\"], \"xaxis\": \"x\", \"y\": [0, 0, 1, 1, 0, 2, 2, 1, 1, 1, 0, 1], \"yaxis\": \"y\"}, {\"hovertemplate\": \"County=Okanogan County<br>WeekStartDate=%{x}<br>Age 20-39=%{y}<extra></extra>\", \"legendgroup\": \"Okanogan County\", \"marker\": {\"color\": \"#FECB52\", \"symbol\": \"circle\"}, \"mode\": \"markers\", \"name\": \"Okanogan County\", \"orientation\": \"v\", \"showlegend\": true, \"type\": \"scatter\", \"x\": [\"2020-03-08\", \"2020-03-15\", \"2020-03-22\", \"2020-03-29\", \"2020-04-05\", \"2020-04-12\", \"2020-04-19\", \"2020-04-26\", \"2020-05-03\", \"2020-05-10\", \"2020-05-17\", \"2020-05-24\", \"2020-05-31\"], \"xaxis\": \"x\", \"y\": [0, 0, 1, 1, 0, 0, 2, 0, 7, 4, 1, 4, 1], \"yaxis\": \"y\"}, {\"hovertemplate\": \"County=Pacific County<br>WeekStartDate=%{x}<br>Age 20-39=%{y}<extra></extra>\", \"legendgroup\": \"Pacific County\", \"marker\": {\"color\": \"#636efa\", \"symbol\": \"circle\"}, \"mode\": \"markers\", \"name\": \"Pacific County\", \"orientation\": \"v\", \"showlegend\": true, \"type\": \"scatter\", \"x\": [\"2020-03-29\", \"2020-04-05\", \"2020-04-19\", \"2020-04-26\", \"2020-05-03\"], \"xaxis\": \"x\", \"y\": [1, 0, 0, 0, 1], \"yaxis\": \"y\"}, {\"hovertemplate\": \"County=Pierce County<br>WeekStartDate=%{x}<br>Age 20-39=%{y}<extra></extra>\", \"legendgroup\": \"Pierce County\", \"marker\": {\"color\": \"#EF553B\", \"symbol\": \"circle\"}, \"mode\": \"markers\", \"name\": \"Pierce County\", \"orientation\": \"v\", \"showlegend\": true, \"type\": \"scatter\", \"x\": [\"2020-02-16\", \"2020-02-23\", \"2020-03-01\", \"2020-03-08\", \"2020-03-15\", \"2020-03-22\", \"2020-03-29\", \"2020-04-05\", \"2020-04-12\", \"2020-04-19\", \"2020-04-26\", \"2020-05-03\", \"2020-05-10\", \"2020-05-17\", \"2020-05-24\", \"2020-05-31\"], \"xaxis\": \"x\", \"y\": [1, 1, 7, 26, 67, 60, 89, 56, 52, 50, 55, 47, 33, 24, 21, 29], \"yaxis\": \"y\"}, {\"hovertemplate\": \"County=San Juan County<br>WeekStartDate=%{x}<br>Age 20-39=%{y}<extra></extra>\", \"legendgroup\": \"San Juan County\", \"marker\": {\"color\": \"#00cc96\", \"symbol\": \"circle\"}, \"mode\": \"markers\", \"name\": \"San Juan County\", \"orientation\": \"v\", \"showlegend\": true, \"type\": \"scatter\", \"x\": [\"2020-03-08\", \"2020-03-15\", \"2020-03-22\", \"2020-03-29\", \"2020-04-05\", \"2020-04-12\"], \"xaxis\": \"x\", \"y\": [0, 0, 0, 0, 0, 0], \"yaxis\": \"y\"}, {\"hovertemplate\": \"County=Skagit County<br>WeekStartDate=%{x}<br>Age 20-39=%{y}<extra></extra>\", \"legendgroup\": \"Skagit County\", \"marker\": {\"color\": \"#ab63fa\", \"symbol\": \"circle\"}, \"mode\": \"markers\", \"name\": \"Skagit County\", \"orientation\": \"v\", \"showlegend\": true, \"type\": \"scatter\", \"x\": [\"2020-02-16\", \"2020-02-23\", \"2020-03-01\", \"2020-03-08\", \"2020-03-15\", \"2020-03-22\", \"2020-03-29\", \"2020-04-05\", \"2020-04-12\", \"2020-04-19\", \"2020-04-26\", \"2020-05-03\", \"2020-05-10\", \"2020-05-17\", \"2020-05-24\", \"2020-05-31\"], \"xaxis\": \"x\", \"y\": [0, 1, 3, 7, 10, 13, 8, 13, 17, 25, 19, 9, 2, 2, 6, 1], \"yaxis\": \"y\"}, {\"hovertemplate\": \"County=Snohomish County<br>WeekStartDate=%{x}<br>Age 20-39=%{y}<extra></extra>\", \"legendgroup\": \"Snohomish County\", \"marker\": {\"color\": \"#FFA15A\", \"symbol\": \"circle\"}, \"mode\": \"markers\", \"name\": \"Snohomish County\", \"orientation\": \"v\", \"showlegend\": true, \"type\": \"scatter\", \"x\": [\"2020-01-16\", \"2020-01-26\", \"2020-02-02\", \"2020-02-09\", \"2020-02-16\", \"2020-02-23\", \"2020-03-01\", \"2020-03-08\", \"2020-03-15\", \"2020-03-22\", \"2020-03-29\", \"2020-04-05\", \"2020-04-12\", \"2020-04-19\", \"2020-04-26\", \"2020-05-03\", \"2020-05-10\", \"2020-05-17\", \"2020-05-24\", \"2020-05-31\"], \"xaxis\": \"x\", \"y\": [1, 1, 1, 1, 3, 11, 35, 86, 158, 145, 99, 71, 62, 59, 58, 43, 33, 23, 20, 13], \"yaxis\": \"y\"}, {\"hovertemplate\": \"County=Spokane County<br>WeekStartDate=%{x}<br>Age 20-39=%{y}<extra></extra>\", \"legendgroup\": \"Spokane County\", \"marker\": {\"color\": \"#19d3f3\", \"symbol\": \"circle\"}, \"mode\": \"markers\", \"name\": \"Spokane County\", \"orientation\": \"v\", \"showlegend\": true, \"type\": \"scatter\", \"x\": [\"2020-02-16\", \"2020-02-23\", \"2020-03-01\", \"2020-03-08\", \"2020-03-15\", \"2020-03-22\", \"2020-03-29\", \"2020-04-05\", \"2020-04-12\", \"2020-04-19\", \"2020-04-26\", \"2020-05-03\", \"2020-05-10\", \"2020-05-17\", \"2020-05-24\", \"2020-05-31\"], \"xaxis\": \"x\", \"y\": [0, 0, 4, 8, 19, 23, 10, 6, 8, 14, 5, 3, 17, 54, 54, 42], \"yaxis\": \"y\"}, {\"hovertemplate\": \"County=Stevens County<br>WeekStartDate=%{x}<br>Age 20-39=%{y}<extra></extra>\", \"legendgroup\": \"Stevens County\", \"marker\": {\"color\": \"#FF6692\", \"symbol\": \"circle\"}, \"mode\": \"markers\", \"name\": \"Stevens County\", \"orientation\": \"v\", \"showlegend\": true, \"type\": \"scatter\", \"x\": [\"2020-03-01\", \"2020-03-08\", \"2020-03-15\", \"2020-03-22\", \"2020-03-29\", \"2020-04-12\", \"2020-05-10\", \"2020-05-17\", \"2020-05-24\"], \"xaxis\": \"x\", \"y\": [0, 0, 0, 0, 0, 0, 0, 0, 0], \"yaxis\": \"y\"}, {\"hovertemplate\": \"County=Thurston County<br>WeekStartDate=%{x}<br>Age 20-39=%{y}<extra></extra>\", \"legendgroup\": \"Thurston County\", \"marker\": {\"color\": \"#B6E880\", \"symbol\": \"circle\"}, \"mode\": \"markers\", \"name\": \"Thurston County\", \"orientation\": \"v\", \"showlegend\": true, \"type\": \"scatter\", \"x\": [\"2020-02-23\", \"2020-03-01\", \"2020-03-08\", \"2020-03-15\", \"2020-03-22\", \"2020-03-29\", \"2020-04-05\", \"2020-04-12\", \"2020-04-19\", \"2020-04-26\", \"2020-05-03\", \"2020-05-10\", \"2020-05-17\", \"2020-05-24\", \"2020-05-31\"], \"xaxis\": \"x\", \"y\": [0, 0, 4, 1, 6, 6, 4, 2, 1, 0, 2, 0, 1, 3, 2], \"yaxis\": \"y\"}, {\"hovertemplate\": \"County=Walla Walla County<br>WeekStartDate=%{x}<br>Age 20-39=%{y}<extra></extra>\", \"legendgroup\": \"Walla Walla County\", \"marker\": {\"color\": \"#FF97FF\", \"symbol\": \"circle\"}, \"mode\": \"markers\", \"name\": \"Walla Walla County\", \"orientation\": \"v\", \"showlegend\": true, \"type\": \"scatter\", \"x\": [\"2020-03-08\", \"2020-03-15\", \"2020-03-22\", \"2020-03-29\", \"2020-04-05\", \"2020-04-12\", \"2020-04-19\", \"2020-04-26\", \"2020-05-03\", \"2020-05-10\", \"2020-05-17\", \"2020-05-24\", \"2020-05-31\"], \"xaxis\": \"x\", \"y\": [0, 1, 2, 4, 8, 4, 8, 10, 3, 2, 0, 1, 2], \"yaxis\": \"y\"}, {\"hovertemplate\": \"County=Whatcom County<br>WeekStartDate=%{x}<br>Age 20-39=%{y}<extra></extra>\", \"legendgroup\": \"Whatcom County\", \"marker\": {\"color\": \"#FECB52\", \"symbol\": \"circle\"}, \"mode\": \"markers\", \"name\": \"Whatcom County\", \"orientation\": \"v\", \"showlegend\": true, \"type\": \"scatter\", \"x\": [\"2020-02-16\", \"2020-02-23\", \"2020-03-01\", \"2020-03-08\", \"2020-03-15\", \"2020-03-22\", \"2020-03-29\", \"2020-04-05\", \"2020-04-12\", \"2020-04-19\", \"2020-04-26\", \"2020-05-03\", \"2020-05-10\", \"2020-05-17\", \"2020-05-24\", \"2020-05-31\"], \"xaxis\": \"x\", \"y\": [0, 0, 0, 8, 22, 20, 17, 3, 6, 5, 13, 3, 10, 10, 6, 3], \"yaxis\": \"y\"}, {\"hovertemplate\": \"County=Whitman County<br>WeekStartDate=%{x}<br>Age 20-39=%{y}<extra></extra>\", \"legendgroup\": \"Whitman County\", \"marker\": {\"color\": \"#636efa\", \"symbol\": \"circle\"}, \"mode\": \"markers\", \"name\": \"Whitman County\", \"orientation\": \"v\", \"showlegend\": true, \"type\": \"scatter\", \"x\": [\"2020-03-08\", \"2020-03-15\", \"2020-03-22\", \"2020-03-29\", \"2020-04-12\", \"2020-04-19\", \"2020-05-10\", \"2020-05-17\"], \"xaxis\": \"x\", \"y\": [1, 1, 0, 2, 2, 1, 2, 2], \"yaxis\": \"y\"}, {\"hovertemplate\": \"County=Yakima County<br>WeekStartDate=%{x}<br>Age 20-39=%{y}<extra></extra>\", \"legendgroup\": \"Yakima County\", \"marker\": {\"color\": \"#EF553B\", \"symbol\": \"circle\"}, \"mode\": \"markers\", \"name\": \"Yakima County\", \"orientation\": \"v\", \"showlegend\": true, \"type\": \"scatter\", \"x\": [\"2020-01-16\", \"2020-02-09\", \"2020-02-16\", \"2020-03-01\", \"2020-03-08\", \"2020-03-15\", \"2020-03-22\", \"2020-03-29\", \"2020-04-05\", \"2020-04-12\", \"2020-04-19\", \"2020-04-26\", \"2020-05-03\", \"2020-05-10\", \"2020-05-17\", \"2020-05-24\", \"2020-05-31\"], \"xaxis\": \"x\", \"y\": [1, 1, 0, 0, 10, 32, 41, 59, 78, 88, 103, 137, 200, 261, 283, 273, 211], \"yaxis\": \"y\"}, {\"hovertemplate\": \"County=Unassigned<br>WeekStartDate=%{x}<br>Age 20-39=%{y}<extra></extra>\", \"legendgroup\": \"Unassigned\", \"marker\": {\"color\": \"#00cc96\", \"symbol\": \"circle\"}, \"mode\": \"markers\", \"name\": \"Unassigned\", \"orientation\": \"v\", \"showlegend\": true, \"type\": \"scatter\", \"x\": [\"2020-04-19\", \"2020-05-10\", \"2020-05-17\", \"2020-05-24\", \"2020-05-31\"], \"xaxis\": \"x\", \"y\": [0, 0, 3, 3, 8], \"yaxis\": \"y\"}],\n",
       "                        {\"legend\": {\"title\": {\"text\": \"County\"}, \"tracegroupgap\": 0}, \"margin\": {\"t\": 60}, \"template\": {\"data\": {\"bar\": [{\"error_x\": {\"color\": \"#2a3f5f\"}, \"error_y\": {\"color\": \"#2a3f5f\"}, \"marker\": {\"line\": {\"color\": \"#E5ECF6\", \"width\": 0.5}}, \"type\": \"bar\"}], \"barpolar\": [{\"marker\": {\"line\": {\"color\": \"#E5ECF6\", \"width\": 0.5}}, \"type\": \"barpolar\"}], \"carpet\": [{\"aaxis\": {\"endlinecolor\": \"#2a3f5f\", \"gridcolor\": \"white\", \"linecolor\": \"white\", \"minorgridcolor\": \"white\", \"startlinecolor\": \"#2a3f5f\"}, \"baxis\": {\"endlinecolor\": \"#2a3f5f\", \"gridcolor\": \"white\", \"linecolor\": \"white\", \"minorgridcolor\": \"white\", \"startlinecolor\": \"#2a3f5f\"}, \"type\": \"carpet\"}], \"choropleth\": [{\"colorbar\": {\"outlinewidth\": 0, \"ticks\": \"\"}, \"type\": \"choropleth\"}], \"contour\": [{\"colorbar\": {\"outlinewidth\": 0, \"ticks\": \"\"}, \"colorscale\": [[0.0, \"#0d0887\"], [0.1111111111111111, \"#46039f\"], [0.2222222222222222, \"#7201a8\"], [0.3333333333333333, \"#9c179e\"], [0.4444444444444444, \"#bd3786\"], [0.5555555555555556, \"#d8576b\"], [0.6666666666666666, \"#ed7953\"], [0.7777777777777778, \"#fb9f3a\"], [0.8888888888888888, \"#fdca26\"], [1.0, \"#f0f921\"]], \"type\": \"contour\"}], \"contourcarpet\": [{\"colorbar\": {\"outlinewidth\": 0, \"ticks\": \"\"}, \"type\": \"contourcarpet\"}], \"heatmap\": [{\"colorbar\": {\"outlinewidth\": 0, \"ticks\": \"\"}, \"colorscale\": [[0.0, \"#0d0887\"], [0.1111111111111111, \"#46039f\"], [0.2222222222222222, \"#7201a8\"], [0.3333333333333333, \"#9c179e\"], [0.4444444444444444, \"#bd3786\"], [0.5555555555555556, \"#d8576b\"], [0.6666666666666666, \"#ed7953\"], [0.7777777777777778, \"#fb9f3a\"], [0.8888888888888888, \"#fdca26\"], [1.0, \"#f0f921\"]], \"type\": \"heatmap\"}], \"heatmapgl\": [{\"colorbar\": {\"outlinewidth\": 0, \"ticks\": \"\"}, \"colorscale\": [[0.0, \"#0d0887\"], [0.1111111111111111, \"#46039f\"], [0.2222222222222222, \"#7201a8\"], [0.3333333333333333, \"#9c179e\"], [0.4444444444444444, \"#bd3786\"], [0.5555555555555556, \"#d8576b\"], [0.6666666666666666, \"#ed7953\"], [0.7777777777777778, \"#fb9f3a\"], [0.8888888888888888, \"#fdca26\"], [1.0, \"#f0f921\"]], \"type\": \"heatmapgl\"}], \"histogram\": [{\"marker\": {\"colorbar\": {\"outlinewidth\": 0, \"ticks\": \"\"}}, \"type\": \"histogram\"}], \"histogram2d\": [{\"colorbar\": {\"outlinewidth\": 0, \"ticks\": \"\"}, \"colorscale\": [[0.0, \"#0d0887\"], [0.1111111111111111, \"#46039f\"], [0.2222222222222222, \"#7201a8\"], [0.3333333333333333, \"#9c179e\"], [0.4444444444444444, \"#bd3786\"], [0.5555555555555556, \"#d8576b\"], [0.6666666666666666, \"#ed7953\"], [0.7777777777777778, \"#fb9f3a\"], [0.8888888888888888, \"#fdca26\"], [1.0, \"#f0f921\"]], \"type\": \"histogram2d\"}], \"histogram2dcontour\": [{\"colorbar\": {\"outlinewidth\": 0, \"ticks\": \"\"}, \"colorscale\": [[0.0, \"#0d0887\"], [0.1111111111111111, \"#46039f\"], [0.2222222222222222, \"#7201a8\"], [0.3333333333333333, \"#9c179e\"], [0.4444444444444444, \"#bd3786\"], [0.5555555555555556, \"#d8576b\"], [0.6666666666666666, \"#ed7953\"], [0.7777777777777778, \"#fb9f3a\"], [0.8888888888888888, \"#fdca26\"], [1.0, \"#f0f921\"]], \"type\": \"histogram2dcontour\"}], \"mesh3d\": [{\"colorbar\": {\"outlinewidth\": 0, \"ticks\": \"\"}, \"type\": \"mesh3d\"}], \"parcoords\": [{\"line\": {\"colorbar\": {\"outlinewidth\": 0, \"ticks\": \"\"}}, \"type\": \"parcoords\"}], \"pie\": [{\"automargin\": true, \"type\": \"pie\"}], \"scatter\": [{\"marker\": {\"colorbar\": {\"outlinewidth\": 0, \"ticks\": \"\"}}, \"type\": \"scatter\"}], \"scatter3d\": [{\"line\": {\"colorbar\": {\"outlinewidth\": 0, \"ticks\": \"\"}}, \"marker\": {\"colorbar\": {\"outlinewidth\": 0, \"ticks\": \"\"}}, \"type\": \"scatter3d\"}], \"scattercarpet\": [{\"marker\": {\"colorbar\": {\"outlinewidth\": 0, \"ticks\": \"\"}}, \"type\": \"scattercarpet\"}], \"scattergeo\": [{\"marker\": {\"colorbar\": {\"outlinewidth\": 0, \"ticks\": \"\"}}, \"type\": \"scattergeo\"}], \"scattergl\": [{\"marker\": {\"colorbar\": {\"outlinewidth\": 0, \"ticks\": \"\"}}, \"type\": \"scattergl\"}], \"scattermapbox\": [{\"marker\": {\"colorbar\": {\"outlinewidth\": 0, \"ticks\": \"\"}}, \"type\": \"scattermapbox\"}], \"scatterpolar\": [{\"marker\": {\"colorbar\": {\"outlinewidth\": 0, \"ticks\": \"\"}}, \"type\": \"scatterpolar\"}], \"scatterpolargl\": [{\"marker\": {\"colorbar\": {\"outlinewidth\": 0, \"ticks\": \"\"}}, \"type\": \"scatterpolargl\"}], \"scatterternary\": [{\"marker\": {\"colorbar\": {\"outlinewidth\": 0, \"ticks\": \"\"}}, \"type\": \"scatterternary\"}], \"surface\": [{\"colorbar\": {\"outlinewidth\": 0, \"ticks\": \"\"}, \"colorscale\": [[0.0, \"#0d0887\"], [0.1111111111111111, \"#46039f\"], [0.2222222222222222, \"#7201a8\"], [0.3333333333333333, \"#9c179e\"], [0.4444444444444444, \"#bd3786\"], [0.5555555555555556, \"#d8576b\"], [0.6666666666666666, \"#ed7953\"], [0.7777777777777778, \"#fb9f3a\"], [0.8888888888888888, \"#fdca26\"], [1.0, \"#f0f921\"]], \"type\": \"surface\"}], \"table\": [{\"cells\": {\"fill\": {\"color\": \"#EBF0F8\"}, \"line\": {\"color\": \"white\"}}, \"header\": {\"fill\": {\"color\": \"#C8D4E3\"}, \"line\": {\"color\": \"white\"}}, \"type\": \"table\"}]}, \"layout\": {\"annotationdefaults\": {\"arrowcolor\": \"#2a3f5f\", \"arrowhead\": 0, \"arrowwidth\": 1}, \"coloraxis\": {\"colorbar\": {\"outlinewidth\": 0, \"ticks\": \"\"}}, \"colorscale\": {\"diverging\": [[0, \"#8e0152\"], [0.1, \"#c51b7d\"], [0.2, \"#de77ae\"], [0.3, \"#f1b6da\"], [0.4, \"#fde0ef\"], [0.5, \"#f7f7f7\"], [0.6, \"#e6f5d0\"], [0.7, \"#b8e186\"], [0.8, \"#7fbc41\"], [0.9, \"#4d9221\"], [1, \"#276419\"]], \"sequential\": [[0.0, \"#0d0887\"], [0.1111111111111111, \"#46039f\"], [0.2222222222222222, \"#7201a8\"], [0.3333333333333333, \"#9c179e\"], [0.4444444444444444, \"#bd3786\"], [0.5555555555555556, \"#d8576b\"], [0.6666666666666666, \"#ed7953\"], [0.7777777777777778, \"#fb9f3a\"], [0.8888888888888888, \"#fdca26\"], [1.0, \"#f0f921\"]], \"sequentialminus\": [[0.0, \"#0d0887\"], [0.1111111111111111, \"#46039f\"], [0.2222222222222222, \"#7201a8\"], [0.3333333333333333, \"#9c179e\"], [0.4444444444444444, \"#bd3786\"], [0.5555555555555556, \"#d8576b\"], [0.6666666666666666, \"#ed7953\"], [0.7777777777777778, \"#fb9f3a\"], [0.8888888888888888, \"#fdca26\"], [1.0, \"#f0f921\"]]}, \"colorway\": [\"#636efa\", \"#EF553B\", \"#00cc96\", \"#ab63fa\", \"#FFA15A\", \"#19d3f3\", \"#FF6692\", \"#B6E880\", \"#FF97FF\", \"#FECB52\"], \"font\": {\"color\": \"#2a3f5f\"}, \"geo\": {\"bgcolor\": \"white\", \"lakecolor\": \"white\", \"landcolor\": \"#E5ECF6\", \"showlakes\": true, \"showland\": true, \"subunitcolor\": \"white\"}, \"hoverlabel\": {\"align\": \"left\"}, \"hovermode\": \"closest\", \"mapbox\": {\"style\": \"light\"}, \"paper_bgcolor\": \"white\", \"plot_bgcolor\": \"#E5ECF6\", \"polar\": {\"angularaxis\": {\"gridcolor\": \"white\", \"linecolor\": \"white\", \"ticks\": \"\"}, \"bgcolor\": \"#E5ECF6\", \"radialaxis\": {\"gridcolor\": \"white\", \"linecolor\": \"white\", \"ticks\": \"\"}}, \"scene\": {\"xaxis\": {\"backgroundcolor\": \"#E5ECF6\", \"gridcolor\": \"white\", \"gridwidth\": 2, \"linecolor\": \"white\", \"showbackground\": true, \"ticks\": \"\", \"zerolinecolor\": \"white\"}, \"yaxis\": {\"backgroundcolor\": \"#E5ECF6\", \"gridcolor\": \"white\", \"gridwidth\": 2, \"linecolor\": \"white\", \"showbackground\": true, \"ticks\": \"\", \"zerolinecolor\": \"white\"}, \"zaxis\": {\"backgroundcolor\": \"#E5ECF6\", \"gridcolor\": \"white\", \"gridwidth\": 2, \"linecolor\": \"white\", \"showbackground\": true, \"ticks\": \"\", \"zerolinecolor\": \"white\"}}, \"shapedefaults\": {\"line\": {\"color\": \"#2a3f5f\"}}, \"ternary\": {\"aaxis\": {\"gridcolor\": \"white\", \"linecolor\": \"white\", \"ticks\": \"\"}, \"baxis\": {\"gridcolor\": \"white\", \"linecolor\": \"white\", \"ticks\": \"\"}, \"bgcolor\": \"#E5ECF6\", \"caxis\": {\"gridcolor\": \"white\", \"linecolor\": \"white\", \"ticks\": \"\"}}, \"title\": {\"x\": 0.05}, \"xaxis\": {\"automargin\": true, \"gridcolor\": \"white\", \"linecolor\": \"white\", \"ticks\": \"\", \"title\": {\"standoff\": 15}, \"zerolinecolor\": \"white\", \"zerolinewidth\": 2}, \"yaxis\": {\"automargin\": true, \"gridcolor\": \"white\", \"linecolor\": \"white\", \"ticks\": \"\", \"title\": {\"standoff\": 15}, \"zerolinecolor\": \"white\", \"zerolinewidth\": 2}}}, \"xaxis\": {\"anchor\": \"y\", \"domain\": [0.0, 1.0], \"title\": {\"text\": \"WeekStartDate\"}}, \"yaxis\": {\"anchor\": \"x\", \"domain\": [0.0, 1.0], \"title\": {\"text\": \"Age 20-39\"}}},\n",
       "                        {\"responsive\": true}\n",
       "                    ).then(function(){\n",
       "                            \n",
       "var gd = document.getElementById('34ea8eb6-ea17-42ba-b1eb-d1a98ee83c64');\n",
       "var x = new MutationObserver(function (mutations, observer) {{\n",
       "        var display = window.getComputedStyle(gd).display;\n",
       "        if (!display || display === 'none') {{\n",
       "            console.log([gd, 'removed!']);\n",
       "            Plotly.purge(gd);\n",
       "            observer.disconnect();\n",
       "        }}\n",
       "}});\n",
       "\n",
       "// Listen for the removal of the full notebook cells\n",
       "var notebookContainer = gd.closest('#notebook-container');\n",
       "if (notebookContainer) {{\n",
       "    x.observe(notebookContainer, {childList: true});\n",
       "}}\n",
       "\n",
       "// Listen for the clearing of the current output cell\n",
       "var outputEl = gd.closest('.output');\n",
       "if (outputEl) {{\n",
       "    x.observe(outputEl, {childList: true});\n",
       "}}\n",
       "\n",
       "                        })\n",
       "                };\n",
       "                });\n",
       "            </script>\n",
       "        </div>"
      ]
     },
     "metadata": {},
     "output_type": "display_data"
    }
   ],
   "source": [
    "px.scatter(df, x=\"WeekStartDate\", y='Age 20-39', color='County')"
   ]
  },
  {
   "cell_type": "code",
   "execution_count": 29,
   "metadata": {},
   "outputs": [
    {
     "data": {
      "application/vnd.plotly.v1+json": {
       "config": {
        "plotlyServerURL": "https://plot.ly"
       },
       "data": [
        {
         "hovertemplate": "County=Adams County<br>WeekStartDate=%{x}<br>Age 40-59=%{y}<extra></extra>",
         "legendgroup": "Adams County",
         "marker": {
          "color": "#636efa",
          "symbol": "circle"
         },
         "mode": "markers",
         "name": "Adams County",
         "orientation": "v",
         "showlegend": true,
         "type": "scatter",
         "x": [
          "2020-03-08",
          "2020-03-15",
          "2020-03-22",
          "2020-03-29",
          "2020-04-05",
          "2020-04-12",
          "2020-04-19",
          "2020-04-26",
          "2020-05-03",
          "2020-05-10",
          "2020-05-17",
          "2020-05-24",
          "2020-05-31"
         ],
         "xaxis": "x",
         "y": [
          1,
          3,
          4,
          4,
          4,
          1,
          0,
          1,
          0,
          1,
          4,
          3,
          2
         ],
         "yaxis": "y"
        },
        {
         "hovertemplate": "County=Asotin County<br>WeekStartDate=%{x}<br>Age 40-59=%{y}<extra></extra>",
         "legendgroup": "Asotin County",
         "marker": {
          "color": "#EF553B",
          "symbol": "circle"
         },
         "mode": "markers",
         "name": "Asotin County",
         "orientation": "v",
         "showlegend": true,
         "type": "scatter",
         "x": [
          "2020-03-15",
          "2020-03-29",
          "2020-04-05",
          "2020-04-12",
          "2020-04-19",
          "2020-05-17"
         ],
         "xaxis": "x",
         "y": [
          0,
          2,
          4,
          3,
          0,
          1
         ],
         "yaxis": "y"
        },
        {
         "hovertemplate": "County=Benton County<br>WeekStartDate=%{x}<br>Age 40-59=%{y}<extra></extra>",
         "legendgroup": "Benton County",
         "marker": {
          "color": "#00cc96",
          "symbol": "circle"
         },
         "mode": "markers",
         "name": "Benton County",
         "orientation": "v",
         "showlegend": true,
         "type": "scatter",
         "x": [
          "2020-02-16",
          "2020-03-01",
          "2020-03-08",
          "2020-03-15",
          "2020-03-22",
          "2020-03-29",
          "2020-04-05",
          "2020-04-12",
          "2020-04-19",
          "2020-04-26",
          "2020-05-03",
          "2020-05-10",
          "2020-05-17",
          "2020-05-24",
          "2020-05-31"
         ],
         "xaxis": "x",
         "y": [
          0,
          0,
          4,
          15,
          28,
          29,
          29,
          21,
          25,
          27,
          8,
          23,
          24,
          8,
          24
         ],
         "yaxis": "y"
        },
        {
         "hovertemplate": "County=Chelan County<br>WeekStartDate=%{x}<br>Age 40-59=%{y}<extra></extra>",
         "legendgroup": "Chelan County",
         "marker": {
          "color": "#ab63fa",
          "symbol": "circle"
         },
         "mode": "markers",
         "name": "Chelan County",
         "orientation": "v",
         "showlegend": true,
         "type": "scatter",
         "x": [
          "2020-02-09",
          "2020-03-08",
          "2020-03-15",
          "2020-03-22",
          "2020-03-29",
          "2020-04-05",
          "2020-04-12",
          "2020-04-19",
          "2020-04-26",
          "2020-05-03",
          "2020-05-10",
          "2020-05-17",
          "2020-05-24",
          "2020-05-31"
         ],
         "xaxis": "x",
         "y": [
          1,
          5,
          0,
          2,
          6,
          4,
          6,
          9,
          7,
          7,
          10,
          19,
          4,
          0
         ],
         "yaxis": "y"
        },
        {
         "hovertemplate": "County=Clallam County<br>WeekStartDate=%{x}<br>Age 40-59=%{y}<extra></extra>",
         "legendgroup": "Clallam County",
         "marker": {
          "color": "#FFA15A",
          "symbol": "circle"
         },
         "mode": "markers",
         "name": "Clallam County",
         "orientation": "v",
         "showlegend": true,
         "type": "scatter",
         "x": [
          "2020-03-01",
          "2020-03-08",
          "2020-03-15",
          "2020-03-29",
          "2020-04-05",
          "2020-04-19",
          "2020-04-26",
          "2020-05-10",
          "2020-05-17",
          "2020-05-24"
         ],
         "xaxis": "x",
         "y": [
          0,
          2,
          0,
          0,
          1,
          0,
          0,
          2,
          0,
          0
         ],
         "yaxis": "y"
        },
        {
         "hovertemplate": "County=Clark County<br>WeekStartDate=%{x}<br>Age 40-59=%{y}<extra></extra>",
         "legendgroup": "Clark County",
         "marker": {
          "color": "#19d3f3",
          "symbol": "circle"
         },
         "mode": "markers",
         "name": "Clark County",
         "orientation": "v",
         "showlegend": true,
         "type": "scatter",
         "x": [
          "2020-02-23",
          "2020-03-01",
          "2020-03-08",
          "2020-03-15",
          "2020-03-22",
          "2020-03-29",
          "2020-04-05",
          "2020-04-12",
          "2020-04-19",
          "2020-04-26",
          "2020-05-03",
          "2020-05-10",
          "2020-05-17",
          "2020-05-24",
          "2020-05-31"
         ],
         "xaxis": "x",
         "y": [
          1,
          2,
          15,
          26,
          25,
          20,
          17,
          15,
          7,
          5,
          6,
          7,
          30,
          19,
          5
         ],
         "yaxis": "y"
        },
        {
         "hovertemplate": "County=Cowlitz County<br>WeekStartDate=%{x}<br>Age 40-59=%{y}<extra></extra>",
         "legendgroup": "Cowlitz County",
         "marker": {
          "color": "#FF6692",
          "symbol": "circle"
         },
         "mode": "markers",
         "name": "Cowlitz County",
         "orientation": "v",
         "showlegend": true,
         "type": "scatter",
         "x": [
          "2020-02-23",
          "2020-03-01",
          "2020-03-08",
          "2020-03-15",
          "2020-03-22",
          "2020-03-29",
          "2020-04-05",
          "2020-04-12",
          "2020-04-19",
          "2020-04-26",
          "2020-05-03",
          "2020-05-10",
          "2020-05-17",
          "2020-05-24",
          "2020-05-31"
         ],
         "xaxis": "x",
         "y": [
          0,
          0,
          1,
          1,
          0,
          2,
          4,
          2,
          2,
          1,
          1,
          3,
          2,
          3,
          2
         ],
         "yaxis": "y"
        },
        {
         "hovertemplate": "County=Douglas County<br>WeekStartDate=%{x}<br>Age 40-59=%{y}<extra></extra>",
         "legendgroup": "Douglas County",
         "marker": {
          "color": "#B6E880",
          "symbol": "circle"
         },
         "mode": "markers",
         "name": "Douglas County",
         "orientation": "v",
         "showlegend": true,
         "type": "scatter",
         "x": [
          "2020-03-01",
          "2020-03-08",
          "2020-03-15",
          "2020-03-22",
          "2020-03-29",
          "2020-04-05",
          "2020-04-12",
          "2020-04-19",
          "2020-04-26",
          "2020-05-03",
          "2020-05-10",
          "2020-05-17",
          "2020-05-24",
          "2020-05-31"
         ],
         "xaxis": "x",
         "y": [
          1,
          0,
          0,
          2,
          1,
          1,
          4,
          5,
          8,
          5,
          9,
          12,
          4,
          2
         ],
         "yaxis": "y"
        },
        {
         "hovertemplate": "County=Franklin County<br>WeekStartDate=%{x}<br>Age 40-59=%{y}<extra></extra>",
         "legendgroup": "Franklin County",
         "marker": {
          "color": "#FF97FF",
          "symbol": "circle"
         },
         "mode": "markers",
         "name": "Franklin County",
         "orientation": "v",
         "showlegend": true,
         "type": "scatter",
         "x": [
          "2020-02-09",
          "2020-02-23",
          "2020-03-01",
          "2020-03-08",
          "2020-03-15",
          "2020-03-22",
          "2020-03-29",
          "2020-04-05",
          "2020-04-12",
          "2020-04-19",
          "2020-04-26",
          "2020-05-03",
          "2020-05-10",
          "2020-05-17",
          "2020-05-24",
          "2020-05-31"
         ],
         "xaxis": "x",
         "y": [
          1,
          0,
          0,
          3,
          6,
          27,
          26,
          25,
          34,
          33,
          28,
          10,
          17,
          23,
          20,
          20
         ],
         "yaxis": "y"
        },
        {
         "hovertemplate": "County=Grant County<br>WeekStartDate=%{x}<br>Age 40-59=%{y}<extra></extra>",
         "legendgroup": "Grant County",
         "marker": {
          "color": "#FECB52",
          "symbol": "circle"
         },
         "mode": "markers",
         "name": "Grant County",
         "orientation": "v",
         "showlegend": true,
         "type": "scatter",
         "x": [
          "2020-02-16",
          "2020-02-23",
          "2020-03-01",
          "2020-03-08",
          "2020-03-15",
          "2020-03-22",
          "2020-03-29",
          "2020-04-05",
          "2020-04-12",
          "2020-04-19",
          "2020-04-26",
          "2020-05-03",
          "2020-05-10",
          "2020-05-17",
          "2020-05-24",
          "2020-05-31"
         ],
         "xaxis": "x",
         "y": [
          1,
          0,
          0,
          13,
          14,
          8,
          5,
          10,
          5,
          2,
          3,
          3,
          2,
          3,
          1,
          1
         ],
         "yaxis": "y"
        },
        {
         "hovertemplate": "County=Grays Harbor County<br>WeekStartDate=%{x}<br>Age 40-59=%{y}<extra></extra>",
         "legendgroup": "Grays Harbor County",
         "marker": {
          "color": "#636efa",
          "symbol": "circle"
         },
         "mode": "markers",
         "name": "Grays Harbor County",
         "orientation": "v",
         "showlegend": true,
         "type": "scatter",
         "x": [
          "2020-02-16",
          "2020-02-23",
          "2020-03-01",
          "2020-03-15",
          "2020-03-22",
          "2020-03-29",
          "2020-04-05",
          "2020-04-26",
          "2020-05-03",
          "2020-05-17",
          "2020-05-24",
          "2020-05-31"
         ],
         "xaxis": "x",
         "y": [
          0,
          0,
          0,
          1,
          2,
          2,
          0,
          0,
          0,
          0,
          0,
          0
         ],
         "yaxis": "y"
        },
        {
         "hovertemplate": "County=Island County<br>WeekStartDate=%{x}<br>Age 40-59=%{y}<extra></extra>",
         "legendgroup": "Island County",
         "marker": {
          "color": "#EF553B",
          "symbol": "circle"
         },
         "mode": "markers",
         "name": "Island County",
         "orientation": "v",
         "showlegend": true,
         "type": "scatter",
         "x": [
          "2020-02-23",
          "2020-03-01",
          "2020-03-08",
          "2020-03-15",
          "2020-03-22",
          "2020-03-29",
          "2020-04-05",
          "2020-04-12",
          "2020-04-19",
          "2020-04-26",
          "2020-05-03",
          "2020-05-10",
          "2020-05-24"
         ],
         "xaxis": "x",
         "y": [
          1,
          5,
          8,
          10,
          14,
          8,
          2,
          0,
          0,
          2,
          2,
          0,
          1
         ],
         "yaxis": "y"
        },
        {
         "hovertemplate": "County=Jefferson County<br>WeekStartDate=%{x}<br>Age 40-59=%{y}<extra></extra>",
         "legendgroup": "Jefferson County",
         "marker": {
          "color": "#00cc96",
          "symbol": "circle"
         },
         "mode": "markers",
         "name": "Jefferson County",
         "orientation": "v",
         "showlegend": true,
         "type": "scatter",
         "x": [
          "2020-02-23",
          "2020-03-01",
          "2020-03-08",
          "2020-03-15",
          "2020-03-22",
          "2020-03-29",
          "2020-05-31"
         ],
         "xaxis": "x",
         "y": [
          1,
          0,
          3,
          1,
          1,
          0,
          0
         ],
         "yaxis": "y"
        },
        {
         "hovertemplate": "County=King County<br>WeekStartDate=%{x}<br>Age 40-59=%{y}<extra></extra>",
         "legendgroup": "King County",
         "marker": {
          "color": "#ab63fa",
          "symbol": "circle"
         },
         "mode": "markers",
         "name": "King County",
         "orientation": "v",
         "showlegend": true,
         "type": "scatter",
         "x": [
          "2020-02-02",
          "2020-02-09",
          "2020-02-16",
          "2020-02-23",
          "2020-03-01",
          "2020-03-08",
          "2020-03-15",
          "2020-03-22",
          "2020-03-29",
          "2020-04-05",
          "2020-04-12",
          "2020-04-19",
          "2020-04-26",
          "2020-05-03",
          "2020-05-10",
          "2020-05-17",
          "2020-05-24",
          "2020-05-31"
         ],
         "xaxis": "x",
         "y": [
          1,
          3,
          10,
          30,
          80,
          232,
          366,
          398,
          330,
          283,
          234,
          190,
          201,
          117,
          120,
          80,
          72,
          42
         ],
         "yaxis": "y"
        },
        {
         "hovertemplate": "County=Kitsap County<br>WeekStartDate=%{x}<br>Age 40-59=%{y}<extra></extra>",
         "legendgroup": "Kitsap County",
         "marker": {
          "color": "#FFA15A",
          "symbol": "circle"
         },
         "mode": "markers",
         "name": "Kitsap County",
         "orientation": "v",
         "showlegend": true,
         "type": "scatter",
         "x": [
          "2020-02-16",
          "2020-02-23",
          "2020-03-01",
          "2020-03-08",
          "2020-03-15",
          "2020-03-22",
          "2020-03-29",
          "2020-04-05",
          "2020-04-12",
          "2020-04-19",
          "2020-04-26",
          "2020-05-03",
          "2020-05-10",
          "2020-05-24",
          "2020-05-31"
         ],
         "xaxis": "x",
         "y": [
          0,
          0,
          5,
          9,
          17,
          17,
          7,
          6,
          3,
          1,
          0,
          1,
          2,
          2,
          1
         ],
         "yaxis": "y"
        },
        {
         "hovertemplate": "County=Kittitas County<br>WeekStartDate=%{x}<br>Age 40-59=%{y}<extra></extra>",
         "legendgroup": "Kittitas County",
         "marker": {
          "color": "#19d3f3",
          "symbol": "circle"
         },
         "mode": "markers",
         "name": "Kittitas County",
         "orientation": "v",
         "showlegend": true,
         "type": "scatter",
         "x": [
          "2020-01-26",
          "2020-02-16",
          "2020-03-08",
          "2020-03-15",
          "2020-03-22",
          "2020-03-29",
          "2020-04-05",
          "2020-04-19",
          "2020-04-26",
          "2020-05-03",
          "2020-05-10",
          "2020-05-17",
          "2020-05-24",
          "2020-05-31"
         ],
         "xaxis": "x",
         "y": [
          0,
          0,
          2,
          2,
          1,
          0,
          0,
          0,
          1,
          8,
          8,
          5,
          0,
          0
         ],
         "yaxis": "y"
        },
        {
         "hovertemplate": "County=Klickitat County<br>WeekStartDate=%{x}<br>Age 40-59=%{y}<extra></extra>",
         "legendgroup": "Klickitat County",
         "marker": {
          "color": "#FF6692",
          "symbol": "circle"
         },
         "mode": "markers",
         "name": "Klickitat County",
         "orientation": "v",
         "showlegend": true,
         "type": "scatter",
         "x": [
          "2020-03-01",
          "2020-03-15",
          "2020-03-22",
          "2020-03-29",
          "2020-04-05",
          "2020-04-19",
          "2020-04-26",
          "2020-05-03",
          "2020-05-10",
          "2020-05-17",
          "2020-05-24",
          "2020-05-31"
         ],
         "xaxis": "x",
         "y": [
          1,
          0,
          0,
          0,
          0,
          1,
          1,
          2,
          0,
          0,
          1,
          0
         ],
         "yaxis": "y"
        },
        {
         "hovertemplate": "County=Lewis County<br>WeekStartDate=%{x}<br>Age 40-59=%{y}<extra></extra>",
         "legendgroup": "Lewis County",
         "marker": {
          "color": "#B6E880",
          "symbol": "circle"
         },
         "mode": "markers",
         "name": "Lewis County",
         "orientation": "v",
         "showlegend": true,
         "type": "scatter",
         "x": [
          "2020-03-08",
          "2020-03-15",
          "2020-03-22",
          "2020-03-29",
          "2020-04-05",
          "2020-04-12",
          "2020-04-19",
          "2020-04-26",
          "2020-05-03",
          "2020-05-10",
          "2020-05-24"
         ],
         "xaxis": "x",
         "y": [
          1,
          2,
          0,
          1,
          1,
          0,
          2,
          1,
          1,
          3,
          1
         ],
         "yaxis": "y"
        },
        {
         "hovertemplate": "County=Mason County<br>WeekStartDate=%{x}<br>Age 40-59=%{y}<extra></extra>",
         "legendgroup": "Mason County",
         "marker": {
          "color": "#FF97FF",
          "symbol": "circle"
         },
         "mode": "markers",
         "name": "Mason County",
         "orientation": "v",
         "showlegend": true,
         "type": "scatter",
         "x": [
          "2020-03-08",
          "2020-03-15",
          "2020-03-22",
          "2020-03-29",
          "2020-04-12",
          "2020-04-19",
          "2020-04-26",
          "2020-05-03",
          "2020-05-10",
          "2020-05-17",
          "2020-05-24",
          "2020-05-31"
         ],
         "xaxis": "x",
         "y": [
          0,
          1,
          1,
          6,
          1,
          0,
          1,
          0,
          2,
          0,
          1,
          1
         ],
         "yaxis": "y"
        },
        {
         "hovertemplate": "County=Okanogan County<br>WeekStartDate=%{x}<br>Age 40-59=%{y}<extra></extra>",
         "legendgroup": "Okanogan County",
         "marker": {
          "color": "#FECB52",
          "symbol": "circle"
         },
         "mode": "markers",
         "name": "Okanogan County",
         "orientation": "v",
         "showlegend": true,
         "type": "scatter",
         "x": [
          "2020-03-08",
          "2020-03-15",
          "2020-03-22",
          "2020-03-29",
          "2020-04-05",
          "2020-04-12",
          "2020-04-19",
          "2020-04-26",
          "2020-05-03",
          "2020-05-10",
          "2020-05-17",
          "2020-05-24",
          "2020-05-31"
         ],
         "xaxis": "x",
         "y": [
          2,
          0,
          1,
          1,
          1,
          2,
          2,
          0,
          3,
          1,
          0,
          1,
          2
         ],
         "yaxis": "y"
        },
        {
         "hovertemplate": "County=Pacific County<br>WeekStartDate=%{x}<br>Age 40-59=%{y}<extra></extra>",
         "legendgroup": "Pacific County",
         "marker": {
          "color": "#636efa",
          "symbol": "circle"
         },
         "mode": "markers",
         "name": "Pacific County",
         "orientation": "v",
         "showlegend": true,
         "type": "scatter",
         "x": [
          "2020-03-29",
          "2020-04-05",
          "2020-04-19",
          "2020-04-26",
          "2020-05-03"
         ],
         "xaxis": "x",
         "y": [
          0,
          1,
          0,
          2,
          2
         ],
         "yaxis": "y"
        },
        {
         "hovertemplate": "County=Pierce County<br>WeekStartDate=%{x}<br>Age 40-59=%{y}<extra></extra>",
         "legendgroup": "Pierce County",
         "marker": {
          "color": "#EF553B",
          "symbol": "circle"
         },
         "mode": "markers",
         "name": "Pierce County",
         "orientation": "v",
         "showlegend": true,
         "type": "scatter",
         "x": [
          "2020-02-16",
          "2020-02-23",
          "2020-03-01",
          "2020-03-08",
          "2020-03-15",
          "2020-03-22",
          "2020-03-29",
          "2020-04-05",
          "2020-04-12",
          "2020-04-19",
          "2020-04-26",
          "2020-05-03",
          "2020-05-10",
          "2020-05-17",
          "2020-05-24",
          "2020-05-31"
         ],
         "xaxis": "x",
         "y": [
          0,
          6,
          14,
          37,
          86,
          100,
          91,
          72,
          87,
          63,
          56,
          51,
          30,
          19,
          20,
          19
         ],
         "yaxis": "y"
        },
        {
         "hovertemplate": "County=San Juan County<br>WeekStartDate=%{x}<br>Age 40-59=%{y}<extra></extra>",
         "legendgroup": "San Juan County",
         "marker": {
          "color": "#00cc96",
          "symbol": "circle"
         },
         "mode": "markers",
         "name": "San Juan County",
         "orientation": "v",
         "showlegend": true,
         "type": "scatter",
         "x": [
          "2020-03-08",
          "2020-03-15",
          "2020-03-22",
          "2020-03-29",
          "2020-04-05",
          "2020-04-12"
         ],
         "xaxis": "x",
         "y": [
          1,
          2,
          2,
          4,
          0,
          1
         ],
         "yaxis": "y"
        },
        {
         "hovertemplate": "County=Skagit County<br>WeekStartDate=%{x}<br>Age 40-59=%{y}<extra></extra>",
         "legendgroup": "Skagit County",
         "marker": {
          "color": "#ab63fa",
          "symbol": "circle"
         },
         "mode": "markers",
         "name": "Skagit County",
         "orientation": "v",
         "showlegend": true,
         "type": "scatter",
         "x": [
          "2020-02-16",
          "2020-02-23",
          "2020-03-01",
          "2020-03-08",
          "2020-03-15",
          "2020-03-22",
          "2020-03-29",
          "2020-04-05",
          "2020-04-12",
          "2020-04-19",
          "2020-04-26",
          "2020-05-03",
          "2020-05-10",
          "2020-05-17",
          "2020-05-24",
          "2020-05-31"
         ],
         "xaxis": "x",
         "y": [
          1,
          0,
          2,
          11,
          20,
          14,
          11,
          21,
          12,
          25,
          13,
          15,
          3,
          0,
          5,
          2
         ],
         "yaxis": "y"
        },
        {
         "hovertemplate": "County=Snohomish County<br>WeekStartDate=%{x}<br>Age 40-59=%{y}<extra></extra>",
         "legendgroup": "Snohomish County",
         "marker": {
          "color": "#FFA15A",
          "symbol": "circle"
         },
         "mode": "markers",
         "name": "Snohomish County",
         "orientation": "v",
         "showlegend": true,
         "type": "scatter",
         "x": [
          "2020-01-16",
          "2020-01-26",
          "2020-02-02",
          "2020-02-09",
          "2020-02-16",
          "2020-02-23",
          "2020-03-01",
          "2020-03-08",
          "2020-03-15",
          "2020-03-22",
          "2020-03-29",
          "2020-04-05",
          "2020-04-12",
          "2020-04-19",
          "2020-04-26",
          "2020-05-03",
          "2020-05-10",
          "2020-05-17",
          "2020-05-24",
          "2020-05-31"
         ],
         "xaxis": "x",
         "y": [
          0,
          0,
          2,
          2,
          9,
          15,
          69,
          140,
          192,
          165,
          97,
          81,
          55,
          74,
          60,
          34,
          22,
          23,
          18,
          14
         ],
         "yaxis": "y"
        },
        {
         "hovertemplate": "County=Spokane County<br>WeekStartDate=%{x}<br>Age 40-59=%{y}<extra></extra>",
         "legendgroup": "Spokane County",
         "marker": {
          "color": "#19d3f3",
          "symbol": "circle"
         },
         "mode": "markers",
         "name": "Spokane County",
         "orientation": "v",
         "showlegend": true,
         "type": "scatter",
         "x": [
          "2020-02-16",
          "2020-02-23",
          "2020-03-01",
          "2020-03-08",
          "2020-03-15",
          "2020-03-22",
          "2020-03-29",
          "2020-04-05",
          "2020-04-12",
          "2020-04-19",
          "2020-04-26",
          "2020-05-03",
          "2020-05-10",
          "2020-05-17",
          "2020-05-24",
          "2020-05-31"
         ],
         "xaxis": "x",
         "y": [
          0,
          0,
          3,
          12,
          39,
          24,
          13,
          7,
          10,
          8,
          4,
          3,
          17,
          22,
          17,
          16
         ],
         "yaxis": "y"
        },
        {
         "hovertemplate": "County=Stevens County<br>WeekStartDate=%{x}<br>Age 40-59=%{y}<extra></extra>",
         "legendgroup": "Stevens County",
         "marker": {
          "color": "#FF6692",
          "symbol": "circle"
         },
         "mode": "markers",
         "name": "Stevens County",
         "orientation": "v",
         "showlegend": true,
         "type": "scatter",
         "x": [
          "2020-03-01",
          "2020-03-08",
          "2020-03-15",
          "2020-03-22",
          "2020-03-29",
          "2020-04-12",
          "2020-05-10",
          "2020-05-17",
          "2020-05-24"
         ],
         "xaxis": "x",
         "y": [
          1,
          0,
          0,
          1,
          0,
          0,
          1,
          2,
          1
         ],
         "yaxis": "y"
        },
        {
         "hovertemplate": "County=Thurston County<br>WeekStartDate=%{x}<br>Age 40-59=%{y}<extra></extra>",
         "legendgroup": "Thurston County",
         "marker": {
          "color": "#B6E880",
          "symbol": "circle"
         },
         "mode": "markers",
         "name": "Thurston County",
         "orientation": "v",
         "showlegend": true,
         "type": "scatter",
         "x": [
          "2020-02-23",
          "2020-03-01",
          "2020-03-08",
          "2020-03-15",
          "2020-03-22",
          "2020-03-29",
          "2020-04-05",
          "2020-04-12",
          "2020-04-19",
          "2020-04-26",
          "2020-05-03",
          "2020-05-10",
          "2020-05-17",
          "2020-05-24",
          "2020-05-31"
         ],
         "xaxis": "x",
         "y": [
          1,
          3,
          6,
          6,
          11,
          6,
          4,
          6,
          4,
          1,
          2,
          2,
          2,
          8,
          4
         ],
         "yaxis": "y"
        },
        {
         "hovertemplate": "County=Walla Walla County<br>WeekStartDate=%{x}<br>Age 40-59=%{y}<extra></extra>",
         "legendgroup": "Walla Walla County",
         "marker": {
          "color": "#FF97FF",
          "symbol": "circle"
         },
         "mode": "markers",
         "name": "Walla Walla County",
         "orientation": "v",
         "showlegend": true,
         "type": "scatter",
         "x": [
          "2020-03-08",
          "2020-03-15",
          "2020-03-22",
          "2020-03-29",
          "2020-04-05",
          "2020-04-12",
          "2020-04-19",
          "2020-04-26",
          "2020-05-03",
          "2020-05-10",
          "2020-05-17",
          "2020-05-24",
          "2020-05-31"
         ],
         "xaxis": "x",
         "y": [
          1,
          0,
          2,
          4,
          4,
          6,
          9,
          5,
          2,
          0,
          2,
          0,
          2
         ],
         "yaxis": "y"
        },
        {
         "hovertemplate": "County=Whatcom County<br>WeekStartDate=%{x}<br>Age 40-59=%{y}<extra></extra>",
         "legendgroup": "Whatcom County",
         "marker": {
          "color": "#FECB52",
          "symbol": "circle"
         },
         "mode": "markers",
         "name": "Whatcom County",
         "orientation": "v",
         "showlegend": true,
         "type": "scatter",
         "x": [
          "2020-02-16",
          "2020-02-23",
          "2020-03-01",
          "2020-03-08",
          "2020-03-15",
          "2020-03-22",
          "2020-03-29",
          "2020-04-05",
          "2020-04-12",
          "2020-04-19",
          "2020-04-26",
          "2020-05-03",
          "2020-05-10",
          "2020-05-17",
          "2020-05-24",
          "2020-05-31"
         ],
         "xaxis": "x",
         "y": [
          0,
          1,
          2,
          8,
          20,
          27,
          13,
          3,
          1,
          4,
          3,
          3,
          5,
          3,
          5,
          1
         ],
         "yaxis": "y"
        },
        {
         "hovertemplate": "County=Whitman County<br>WeekStartDate=%{x}<br>Age 40-59=%{y}<extra></extra>",
         "legendgroup": "Whitman County",
         "marker": {
          "color": "#636efa",
          "symbol": "circle"
         },
         "mode": "markers",
         "name": "Whitman County",
         "orientation": "v",
         "showlegend": true,
         "type": "scatter",
         "x": [
          "2020-03-08",
          "2020-03-15",
          "2020-03-22",
          "2020-03-29",
          "2020-04-12",
          "2020-04-19",
          "2020-05-10",
          "2020-05-17"
         ],
         "xaxis": "x",
         "y": [
          0,
          2,
          2,
          2,
          0,
          0,
          0,
          0
         ],
         "yaxis": "y"
        },
        {
         "hovertemplate": "County=Yakima County<br>WeekStartDate=%{x}<br>Age 40-59=%{y}<extra></extra>",
         "legendgroup": "Yakima County",
         "marker": {
          "color": "#EF553B",
          "symbol": "circle"
         },
         "mode": "markers",
         "name": "Yakima County",
         "orientation": "v",
         "showlegend": true,
         "type": "scatter",
         "x": [
          "2020-01-16",
          "2020-02-09",
          "2020-02-16",
          "2020-03-01",
          "2020-03-08",
          "2020-03-15",
          "2020-03-22",
          "2020-03-29",
          "2020-04-05",
          "2020-04-12",
          "2020-04-19",
          "2020-04-26",
          "2020-05-03",
          "2020-05-10",
          "2020-05-17",
          "2020-05-24",
          "2020-05-31"
         ],
         "xaxis": "x",
         "y": [
          0,
          1,
          2,
          4,
          6,
          23,
          54,
          73,
          81,
          71,
          103,
          134,
          167,
          206,
          185,
          171,
          141
         ],
         "yaxis": "y"
        },
        {
         "hovertemplate": "County=Unassigned<br>WeekStartDate=%{x}<br>Age 40-59=%{y}<extra></extra>",
         "legendgroup": "Unassigned",
         "marker": {
          "color": "#00cc96",
          "symbol": "circle"
         },
         "mode": "markers",
         "name": "Unassigned",
         "orientation": "v",
         "showlegend": true,
         "type": "scatter",
         "x": [
          "2020-04-19",
          "2020-05-10",
          "2020-05-17",
          "2020-05-24",
          "2020-05-31"
         ],
         "xaxis": "x",
         "y": [
          1,
          2,
          4,
          2,
          4
         ],
         "yaxis": "y"
        }
       ],
       "layout": {
        "legend": {
         "title": {
          "text": "County"
         },
         "tracegroupgap": 0
        },
        "margin": {
         "t": 60
        },
        "template": {
         "data": {
          "bar": [
           {
            "error_x": {
             "color": "#2a3f5f"
            },
            "error_y": {
             "color": "#2a3f5f"
            },
            "marker": {
             "line": {
              "color": "#E5ECF6",
              "width": 0.5
             }
            },
            "type": "bar"
           }
          ],
          "barpolar": [
           {
            "marker": {
             "line": {
              "color": "#E5ECF6",
              "width": 0.5
             }
            },
            "type": "barpolar"
           }
          ],
          "carpet": [
           {
            "aaxis": {
             "endlinecolor": "#2a3f5f",
             "gridcolor": "white",
             "linecolor": "white",
             "minorgridcolor": "white",
             "startlinecolor": "#2a3f5f"
            },
            "baxis": {
             "endlinecolor": "#2a3f5f",
             "gridcolor": "white",
             "linecolor": "white",
             "minorgridcolor": "white",
             "startlinecolor": "#2a3f5f"
            },
            "type": "carpet"
           }
          ],
          "choropleth": [
           {
            "colorbar": {
             "outlinewidth": 0,
             "ticks": ""
            },
            "type": "choropleth"
           }
          ],
          "contour": [
           {
            "colorbar": {
             "outlinewidth": 0,
             "ticks": ""
            },
            "colorscale": [
             [
              0,
              "#0d0887"
             ],
             [
              0.1111111111111111,
              "#46039f"
             ],
             [
              0.2222222222222222,
              "#7201a8"
             ],
             [
              0.3333333333333333,
              "#9c179e"
             ],
             [
              0.4444444444444444,
              "#bd3786"
             ],
             [
              0.5555555555555556,
              "#d8576b"
             ],
             [
              0.6666666666666666,
              "#ed7953"
             ],
             [
              0.7777777777777778,
              "#fb9f3a"
             ],
             [
              0.8888888888888888,
              "#fdca26"
             ],
             [
              1,
              "#f0f921"
             ]
            ],
            "type": "contour"
           }
          ],
          "contourcarpet": [
           {
            "colorbar": {
             "outlinewidth": 0,
             "ticks": ""
            },
            "type": "contourcarpet"
           }
          ],
          "heatmap": [
           {
            "colorbar": {
             "outlinewidth": 0,
             "ticks": ""
            },
            "colorscale": [
             [
              0,
              "#0d0887"
             ],
             [
              0.1111111111111111,
              "#46039f"
             ],
             [
              0.2222222222222222,
              "#7201a8"
             ],
             [
              0.3333333333333333,
              "#9c179e"
             ],
             [
              0.4444444444444444,
              "#bd3786"
             ],
             [
              0.5555555555555556,
              "#d8576b"
             ],
             [
              0.6666666666666666,
              "#ed7953"
             ],
             [
              0.7777777777777778,
              "#fb9f3a"
             ],
             [
              0.8888888888888888,
              "#fdca26"
             ],
             [
              1,
              "#f0f921"
             ]
            ],
            "type": "heatmap"
           }
          ],
          "heatmapgl": [
           {
            "colorbar": {
             "outlinewidth": 0,
             "ticks": ""
            },
            "colorscale": [
             [
              0,
              "#0d0887"
             ],
             [
              0.1111111111111111,
              "#46039f"
             ],
             [
              0.2222222222222222,
              "#7201a8"
             ],
             [
              0.3333333333333333,
              "#9c179e"
             ],
             [
              0.4444444444444444,
              "#bd3786"
             ],
             [
              0.5555555555555556,
              "#d8576b"
             ],
             [
              0.6666666666666666,
              "#ed7953"
             ],
             [
              0.7777777777777778,
              "#fb9f3a"
             ],
             [
              0.8888888888888888,
              "#fdca26"
             ],
             [
              1,
              "#f0f921"
             ]
            ],
            "type": "heatmapgl"
           }
          ],
          "histogram": [
           {
            "marker": {
             "colorbar": {
              "outlinewidth": 0,
              "ticks": ""
             }
            },
            "type": "histogram"
           }
          ],
          "histogram2d": [
           {
            "colorbar": {
             "outlinewidth": 0,
             "ticks": ""
            },
            "colorscale": [
             [
              0,
              "#0d0887"
             ],
             [
              0.1111111111111111,
              "#46039f"
             ],
             [
              0.2222222222222222,
              "#7201a8"
             ],
             [
              0.3333333333333333,
              "#9c179e"
             ],
             [
              0.4444444444444444,
              "#bd3786"
             ],
             [
              0.5555555555555556,
              "#d8576b"
             ],
             [
              0.6666666666666666,
              "#ed7953"
             ],
             [
              0.7777777777777778,
              "#fb9f3a"
             ],
             [
              0.8888888888888888,
              "#fdca26"
             ],
             [
              1,
              "#f0f921"
             ]
            ],
            "type": "histogram2d"
           }
          ],
          "histogram2dcontour": [
           {
            "colorbar": {
             "outlinewidth": 0,
             "ticks": ""
            },
            "colorscale": [
             [
              0,
              "#0d0887"
             ],
             [
              0.1111111111111111,
              "#46039f"
             ],
             [
              0.2222222222222222,
              "#7201a8"
             ],
             [
              0.3333333333333333,
              "#9c179e"
             ],
             [
              0.4444444444444444,
              "#bd3786"
             ],
             [
              0.5555555555555556,
              "#d8576b"
             ],
             [
              0.6666666666666666,
              "#ed7953"
             ],
             [
              0.7777777777777778,
              "#fb9f3a"
             ],
             [
              0.8888888888888888,
              "#fdca26"
             ],
             [
              1,
              "#f0f921"
             ]
            ],
            "type": "histogram2dcontour"
           }
          ],
          "mesh3d": [
           {
            "colorbar": {
             "outlinewidth": 0,
             "ticks": ""
            },
            "type": "mesh3d"
           }
          ],
          "parcoords": [
           {
            "line": {
             "colorbar": {
              "outlinewidth": 0,
              "ticks": ""
             }
            },
            "type": "parcoords"
           }
          ],
          "pie": [
           {
            "automargin": true,
            "type": "pie"
           }
          ],
          "scatter": [
           {
            "marker": {
             "colorbar": {
              "outlinewidth": 0,
              "ticks": ""
             }
            },
            "type": "scatter"
           }
          ],
          "scatter3d": [
           {
            "line": {
             "colorbar": {
              "outlinewidth": 0,
              "ticks": ""
             }
            },
            "marker": {
             "colorbar": {
              "outlinewidth": 0,
              "ticks": ""
             }
            },
            "type": "scatter3d"
           }
          ],
          "scattercarpet": [
           {
            "marker": {
             "colorbar": {
              "outlinewidth": 0,
              "ticks": ""
             }
            },
            "type": "scattercarpet"
           }
          ],
          "scattergeo": [
           {
            "marker": {
             "colorbar": {
              "outlinewidth": 0,
              "ticks": ""
             }
            },
            "type": "scattergeo"
           }
          ],
          "scattergl": [
           {
            "marker": {
             "colorbar": {
              "outlinewidth": 0,
              "ticks": ""
             }
            },
            "type": "scattergl"
           }
          ],
          "scattermapbox": [
           {
            "marker": {
             "colorbar": {
              "outlinewidth": 0,
              "ticks": ""
             }
            },
            "type": "scattermapbox"
           }
          ],
          "scatterpolar": [
           {
            "marker": {
             "colorbar": {
              "outlinewidth": 0,
              "ticks": ""
             }
            },
            "type": "scatterpolar"
           }
          ],
          "scatterpolargl": [
           {
            "marker": {
             "colorbar": {
              "outlinewidth": 0,
              "ticks": ""
             }
            },
            "type": "scatterpolargl"
           }
          ],
          "scatterternary": [
           {
            "marker": {
             "colorbar": {
              "outlinewidth": 0,
              "ticks": ""
             }
            },
            "type": "scatterternary"
           }
          ],
          "surface": [
           {
            "colorbar": {
             "outlinewidth": 0,
             "ticks": ""
            },
            "colorscale": [
             [
              0,
              "#0d0887"
             ],
             [
              0.1111111111111111,
              "#46039f"
             ],
             [
              0.2222222222222222,
              "#7201a8"
             ],
             [
              0.3333333333333333,
              "#9c179e"
             ],
             [
              0.4444444444444444,
              "#bd3786"
             ],
             [
              0.5555555555555556,
              "#d8576b"
             ],
             [
              0.6666666666666666,
              "#ed7953"
             ],
             [
              0.7777777777777778,
              "#fb9f3a"
             ],
             [
              0.8888888888888888,
              "#fdca26"
             ],
             [
              1,
              "#f0f921"
             ]
            ],
            "type": "surface"
           }
          ],
          "table": [
           {
            "cells": {
             "fill": {
              "color": "#EBF0F8"
             },
             "line": {
              "color": "white"
             }
            },
            "header": {
             "fill": {
              "color": "#C8D4E3"
             },
             "line": {
              "color": "white"
             }
            },
            "type": "table"
           }
          ]
         },
         "layout": {
          "annotationdefaults": {
           "arrowcolor": "#2a3f5f",
           "arrowhead": 0,
           "arrowwidth": 1
          },
          "coloraxis": {
           "colorbar": {
            "outlinewidth": 0,
            "ticks": ""
           }
          },
          "colorscale": {
           "diverging": [
            [
             0,
             "#8e0152"
            ],
            [
             0.1,
             "#c51b7d"
            ],
            [
             0.2,
             "#de77ae"
            ],
            [
             0.3,
             "#f1b6da"
            ],
            [
             0.4,
             "#fde0ef"
            ],
            [
             0.5,
             "#f7f7f7"
            ],
            [
             0.6,
             "#e6f5d0"
            ],
            [
             0.7,
             "#b8e186"
            ],
            [
             0.8,
             "#7fbc41"
            ],
            [
             0.9,
             "#4d9221"
            ],
            [
             1,
             "#276419"
            ]
           ],
           "sequential": [
            [
             0,
             "#0d0887"
            ],
            [
             0.1111111111111111,
             "#46039f"
            ],
            [
             0.2222222222222222,
             "#7201a8"
            ],
            [
             0.3333333333333333,
             "#9c179e"
            ],
            [
             0.4444444444444444,
             "#bd3786"
            ],
            [
             0.5555555555555556,
             "#d8576b"
            ],
            [
             0.6666666666666666,
             "#ed7953"
            ],
            [
             0.7777777777777778,
             "#fb9f3a"
            ],
            [
             0.8888888888888888,
             "#fdca26"
            ],
            [
             1,
             "#f0f921"
            ]
           ],
           "sequentialminus": [
            [
             0,
             "#0d0887"
            ],
            [
             0.1111111111111111,
             "#46039f"
            ],
            [
             0.2222222222222222,
             "#7201a8"
            ],
            [
             0.3333333333333333,
             "#9c179e"
            ],
            [
             0.4444444444444444,
             "#bd3786"
            ],
            [
             0.5555555555555556,
             "#d8576b"
            ],
            [
             0.6666666666666666,
             "#ed7953"
            ],
            [
             0.7777777777777778,
             "#fb9f3a"
            ],
            [
             0.8888888888888888,
             "#fdca26"
            ],
            [
             1,
             "#f0f921"
            ]
           ]
          },
          "colorway": [
           "#636efa",
           "#EF553B",
           "#00cc96",
           "#ab63fa",
           "#FFA15A",
           "#19d3f3",
           "#FF6692",
           "#B6E880",
           "#FF97FF",
           "#FECB52"
          ],
          "font": {
           "color": "#2a3f5f"
          },
          "geo": {
           "bgcolor": "white",
           "lakecolor": "white",
           "landcolor": "#E5ECF6",
           "showlakes": true,
           "showland": true,
           "subunitcolor": "white"
          },
          "hoverlabel": {
           "align": "left"
          },
          "hovermode": "closest",
          "mapbox": {
           "style": "light"
          },
          "paper_bgcolor": "white",
          "plot_bgcolor": "#E5ECF6",
          "polar": {
           "angularaxis": {
            "gridcolor": "white",
            "linecolor": "white",
            "ticks": ""
           },
           "bgcolor": "#E5ECF6",
           "radialaxis": {
            "gridcolor": "white",
            "linecolor": "white",
            "ticks": ""
           }
          },
          "scene": {
           "xaxis": {
            "backgroundcolor": "#E5ECF6",
            "gridcolor": "white",
            "gridwidth": 2,
            "linecolor": "white",
            "showbackground": true,
            "ticks": "",
            "zerolinecolor": "white"
           },
           "yaxis": {
            "backgroundcolor": "#E5ECF6",
            "gridcolor": "white",
            "gridwidth": 2,
            "linecolor": "white",
            "showbackground": true,
            "ticks": "",
            "zerolinecolor": "white"
           },
           "zaxis": {
            "backgroundcolor": "#E5ECF6",
            "gridcolor": "white",
            "gridwidth": 2,
            "linecolor": "white",
            "showbackground": true,
            "ticks": "",
            "zerolinecolor": "white"
           }
          },
          "shapedefaults": {
           "line": {
            "color": "#2a3f5f"
           }
          },
          "ternary": {
           "aaxis": {
            "gridcolor": "white",
            "linecolor": "white",
            "ticks": ""
           },
           "baxis": {
            "gridcolor": "white",
            "linecolor": "white",
            "ticks": ""
           },
           "bgcolor": "#E5ECF6",
           "caxis": {
            "gridcolor": "white",
            "linecolor": "white",
            "ticks": ""
           }
          },
          "title": {
           "x": 0.05
          },
          "xaxis": {
           "automargin": true,
           "gridcolor": "white",
           "linecolor": "white",
           "ticks": "",
           "title": {
            "standoff": 15
           },
           "zerolinecolor": "white",
           "zerolinewidth": 2
          },
          "yaxis": {
           "automargin": true,
           "gridcolor": "white",
           "linecolor": "white",
           "ticks": "",
           "title": {
            "standoff": 15
           },
           "zerolinecolor": "white",
           "zerolinewidth": 2
          }
         }
        },
        "xaxis": {
         "anchor": "y",
         "domain": [
          0,
          1
         ],
         "title": {
          "text": "WeekStartDate"
         }
        },
        "yaxis": {
         "anchor": "x",
         "domain": [
          0,
          1
         ],
         "title": {
          "text": "Age 40-59"
         }
        }
       }
      },
      "text/html": [
       "<div>\n",
       "        \n",
       "        \n",
       "            <div id=\"b2e24c40-9d0d-4727-90d1-9c3898b2ca12\" class=\"plotly-graph-div\" style=\"height:525px; width:100%;\"></div>\n",
       "            <script type=\"text/javascript\">\n",
       "                require([\"plotly\"], function(Plotly) {\n",
       "                    window.PLOTLYENV=window.PLOTLYENV || {};\n",
       "                    \n",
       "                if (document.getElementById(\"b2e24c40-9d0d-4727-90d1-9c3898b2ca12\")) {\n",
       "                    Plotly.newPlot(\n",
       "                        'b2e24c40-9d0d-4727-90d1-9c3898b2ca12',\n",
       "                        [{\"hovertemplate\": \"County=Adams County<br>WeekStartDate=%{x}<br>Age 40-59=%{y}<extra></extra>\", \"legendgroup\": \"Adams County\", \"marker\": {\"color\": \"#636efa\", \"symbol\": \"circle\"}, \"mode\": \"markers\", \"name\": \"Adams County\", \"orientation\": \"v\", \"showlegend\": true, \"type\": \"scatter\", \"x\": [\"2020-03-08\", \"2020-03-15\", \"2020-03-22\", \"2020-03-29\", \"2020-04-05\", \"2020-04-12\", \"2020-04-19\", \"2020-04-26\", \"2020-05-03\", \"2020-05-10\", \"2020-05-17\", \"2020-05-24\", \"2020-05-31\"], \"xaxis\": \"x\", \"y\": [1, 3, 4, 4, 4, 1, 0, 1, 0, 1, 4, 3, 2], \"yaxis\": \"y\"}, {\"hovertemplate\": \"County=Asotin County<br>WeekStartDate=%{x}<br>Age 40-59=%{y}<extra></extra>\", \"legendgroup\": \"Asotin County\", \"marker\": {\"color\": \"#EF553B\", \"symbol\": \"circle\"}, \"mode\": \"markers\", \"name\": \"Asotin County\", \"orientation\": \"v\", \"showlegend\": true, \"type\": \"scatter\", \"x\": [\"2020-03-15\", \"2020-03-29\", \"2020-04-05\", \"2020-04-12\", \"2020-04-19\", \"2020-05-17\"], \"xaxis\": \"x\", \"y\": [0, 2, 4, 3, 0, 1], \"yaxis\": \"y\"}, {\"hovertemplate\": \"County=Benton County<br>WeekStartDate=%{x}<br>Age 40-59=%{y}<extra></extra>\", \"legendgroup\": \"Benton County\", \"marker\": {\"color\": \"#00cc96\", \"symbol\": \"circle\"}, \"mode\": \"markers\", \"name\": \"Benton County\", \"orientation\": \"v\", \"showlegend\": true, \"type\": \"scatter\", \"x\": [\"2020-02-16\", \"2020-03-01\", \"2020-03-08\", \"2020-03-15\", \"2020-03-22\", \"2020-03-29\", \"2020-04-05\", \"2020-04-12\", \"2020-04-19\", \"2020-04-26\", \"2020-05-03\", \"2020-05-10\", \"2020-05-17\", \"2020-05-24\", \"2020-05-31\"], \"xaxis\": \"x\", \"y\": [0, 0, 4, 15, 28, 29, 29, 21, 25, 27, 8, 23, 24, 8, 24], \"yaxis\": \"y\"}, {\"hovertemplate\": \"County=Chelan County<br>WeekStartDate=%{x}<br>Age 40-59=%{y}<extra></extra>\", \"legendgroup\": \"Chelan County\", \"marker\": {\"color\": \"#ab63fa\", \"symbol\": \"circle\"}, \"mode\": \"markers\", \"name\": \"Chelan County\", \"orientation\": \"v\", \"showlegend\": true, \"type\": \"scatter\", \"x\": [\"2020-02-09\", \"2020-03-08\", \"2020-03-15\", \"2020-03-22\", \"2020-03-29\", \"2020-04-05\", \"2020-04-12\", \"2020-04-19\", \"2020-04-26\", \"2020-05-03\", \"2020-05-10\", \"2020-05-17\", \"2020-05-24\", \"2020-05-31\"], \"xaxis\": \"x\", \"y\": [1, 5, 0, 2, 6, 4, 6, 9, 7, 7, 10, 19, 4, 0], \"yaxis\": \"y\"}, {\"hovertemplate\": \"County=Clallam County<br>WeekStartDate=%{x}<br>Age 40-59=%{y}<extra></extra>\", \"legendgroup\": \"Clallam County\", \"marker\": {\"color\": \"#FFA15A\", \"symbol\": \"circle\"}, \"mode\": \"markers\", \"name\": \"Clallam County\", \"orientation\": \"v\", \"showlegend\": true, \"type\": \"scatter\", \"x\": [\"2020-03-01\", \"2020-03-08\", \"2020-03-15\", \"2020-03-29\", \"2020-04-05\", \"2020-04-19\", \"2020-04-26\", \"2020-05-10\", \"2020-05-17\", \"2020-05-24\"], \"xaxis\": \"x\", \"y\": [0, 2, 0, 0, 1, 0, 0, 2, 0, 0], \"yaxis\": \"y\"}, {\"hovertemplate\": \"County=Clark County<br>WeekStartDate=%{x}<br>Age 40-59=%{y}<extra></extra>\", \"legendgroup\": \"Clark County\", \"marker\": {\"color\": \"#19d3f3\", \"symbol\": \"circle\"}, \"mode\": \"markers\", \"name\": \"Clark County\", \"orientation\": \"v\", \"showlegend\": true, \"type\": \"scatter\", \"x\": [\"2020-02-23\", \"2020-03-01\", \"2020-03-08\", \"2020-03-15\", \"2020-03-22\", \"2020-03-29\", \"2020-04-05\", \"2020-04-12\", \"2020-04-19\", \"2020-04-26\", \"2020-05-03\", \"2020-05-10\", \"2020-05-17\", \"2020-05-24\", \"2020-05-31\"], \"xaxis\": \"x\", \"y\": [1, 2, 15, 26, 25, 20, 17, 15, 7, 5, 6, 7, 30, 19, 5], \"yaxis\": \"y\"}, {\"hovertemplate\": \"County=Cowlitz County<br>WeekStartDate=%{x}<br>Age 40-59=%{y}<extra></extra>\", \"legendgroup\": \"Cowlitz County\", \"marker\": {\"color\": \"#FF6692\", \"symbol\": \"circle\"}, \"mode\": \"markers\", \"name\": \"Cowlitz County\", \"orientation\": \"v\", \"showlegend\": true, \"type\": \"scatter\", \"x\": [\"2020-02-23\", \"2020-03-01\", \"2020-03-08\", \"2020-03-15\", \"2020-03-22\", \"2020-03-29\", \"2020-04-05\", \"2020-04-12\", \"2020-04-19\", \"2020-04-26\", \"2020-05-03\", \"2020-05-10\", \"2020-05-17\", \"2020-05-24\", \"2020-05-31\"], \"xaxis\": \"x\", \"y\": [0, 0, 1, 1, 0, 2, 4, 2, 2, 1, 1, 3, 2, 3, 2], \"yaxis\": \"y\"}, {\"hovertemplate\": \"County=Douglas County<br>WeekStartDate=%{x}<br>Age 40-59=%{y}<extra></extra>\", \"legendgroup\": \"Douglas County\", \"marker\": {\"color\": \"#B6E880\", \"symbol\": \"circle\"}, \"mode\": \"markers\", \"name\": \"Douglas County\", \"orientation\": \"v\", \"showlegend\": true, \"type\": \"scatter\", \"x\": [\"2020-03-01\", \"2020-03-08\", \"2020-03-15\", \"2020-03-22\", \"2020-03-29\", \"2020-04-05\", \"2020-04-12\", \"2020-04-19\", \"2020-04-26\", \"2020-05-03\", \"2020-05-10\", \"2020-05-17\", \"2020-05-24\", \"2020-05-31\"], \"xaxis\": \"x\", \"y\": [1, 0, 0, 2, 1, 1, 4, 5, 8, 5, 9, 12, 4, 2], \"yaxis\": \"y\"}, {\"hovertemplate\": \"County=Franklin County<br>WeekStartDate=%{x}<br>Age 40-59=%{y}<extra></extra>\", \"legendgroup\": \"Franklin County\", \"marker\": {\"color\": \"#FF97FF\", \"symbol\": \"circle\"}, \"mode\": \"markers\", \"name\": \"Franklin County\", \"orientation\": \"v\", \"showlegend\": true, \"type\": \"scatter\", \"x\": [\"2020-02-09\", \"2020-02-23\", \"2020-03-01\", \"2020-03-08\", \"2020-03-15\", \"2020-03-22\", \"2020-03-29\", \"2020-04-05\", \"2020-04-12\", \"2020-04-19\", \"2020-04-26\", \"2020-05-03\", \"2020-05-10\", \"2020-05-17\", \"2020-05-24\", \"2020-05-31\"], \"xaxis\": \"x\", \"y\": [1, 0, 0, 3, 6, 27, 26, 25, 34, 33, 28, 10, 17, 23, 20, 20], \"yaxis\": \"y\"}, {\"hovertemplate\": \"County=Grant County<br>WeekStartDate=%{x}<br>Age 40-59=%{y}<extra></extra>\", \"legendgroup\": \"Grant County\", \"marker\": {\"color\": \"#FECB52\", \"symbol\": \"circle\"}, \"mode\": \"markers\", \"name\": \"Grant County\", \"orientation\": \"v\", \"showlegend\": true, \"type\": \"scatter\", \"x\": [\"2020-02-16\", \"2020-02-23\", \"2020-03-01\", \"2020-03-08\", \"2020-03-15\", \"2020-03-22\", \"2020-03-29\", \"2020-04-05\", \"2020-04-12\", \"2020-04-19\", \"2020-04-26\", \"2020-05-03\", \"2020-05-10\", \"2020-05-17\", \"2020-05-24\", \"2020-05-31\"], \"xaxis\": \"x\", \"y\": [1, 0, 0, 13, 14, 8, 5, 10, 5, 2, 3, 3, 2, 3, 1, 1], \"yaxis\": \"y\"}, {\"hovertemplate\": \"County=Grays Harbor County<br>WeekStartDate=%{x}<br>Age 40-59=%{y}<extra></extra>\", \"legendgroup\": \"Grays Harbor County\", \"marker\": {\"color\": \"#636efa\", \"symbol\": \"circle\"}, \"mode\": \"markers\", \"name\": \"Grays Harbor County\", \"orientation\": \"v\", \"showlegend\": true, \"type\": \"scatter\", \"x\": [\"2020-02-16\", \"2020-02-23\", \"2020-03-01\", \"2020-03-15\", \"2020-03-22\", \"2020-03-29\", \"2020-04-05\", \"2020-04-26\", \"2020-05-03\", \"2020-05-17\", \"2020-05-24\", \"2020-05-31\"], \"xaxis\": \"x\", \"y\": [0, 0, 0, 1, 2, 2, 0, 0, 0, 0, 0, 0], \"yaxis\": \"y\"}, {\"hovertemplate\": \"County=Island County<br>WeekStartDate=%{x}<br>Age 40-59=%{y}<extra></extra>\", \"legendgroup\": \"Island County\", \"marker\": {\"color\": \"#EF553B\", \"symbol\": \"circle\"}, \"mode\": \"markers\", \"name\": \"Island County\", \"orientation\": \"v\", \"showlegend\": true, \"type\": \"scatter\", \"x\": [\"2020-02-23\", \"2020-03-01\", \"2020-03-08\", \"2020-03-15\", \"2020-03-22\", \"2020-03-29\", \"2020-04-05\", \"2020-04-12\", \"2020-04-19\", \"2020-04-26\", \"2020-05-03\", \"2020-05-10\", \"2020-05-24\"], \"xaxis\": \"x\", \"y\": [1, 5, 8, 10, 14, 8, 2, 0, 0, 2, 2, 0, 1], \"yaxis\": \"y\"}, {\"hovertemplate\": \"County=Jefferson County<br>WeekStartDate=%{x}<br>Age 40-59=%{y}<extra></extra>\", \"legendgroup\": \"Jefferson County\", \"marker\": {\"color\": \"#00cc96\", \"symbol\": \"circle\"}, \"mode\": \"markers\", \"name\": \"Jefferson County\", \"orientation\": \"v\", \"showlegend\": true, \"type\": \"scatter\", \"x\": [\"2020-02-23\", \"2020-03-01\", \"2020-03-08\", \"2020-03-15\", \"2020-03-22\", \"2020-03-29\", \"2020-05-31\"], \"xaxis\": \"x\", \"y\": [1, 0, 3, 1, 1, 0, 0], \"yaxis\": \"y\"}, {\"hovertemplate\": \"County=King County<br>WeekStartDate=%{x}<br>Age 40-59=%{y}<extra></extra>\", \"legendgroup\": \"King County\", \"marker\": {\"color\": \"#ab63fa\", \"symbol\": \"circle\"}, \"mode\": \"markers\", \"name\": \"King County\", \"orientation\": \"v\", \"showlegend\": true, \"type\": \"scatter\", \"x\": [\"2020-02-02\", \"2020-02-09\", \"2020-02-16\", \"2020-02-23\", \"2020-03-01\", \"2020-03-08\", \"2020-03-15\", \"2020-03-22\", \"2020-03-29\", \"2020-04-05\", \"2020-04-12\", \"2020-04-19\", \"2020-04-26\", \"2020-05-03\", \"2020-05-10\", \"2020-05-17\", \"2020-05-24\", \"2020-05-31\"], \"xaxis\": \"x\", \"y\": [1, 3, 10, 30, 80, 232, 366, 398, 330, 283, 234, 190, 201, 117, 120, 80, 72, 42], \"yaxis\": \"y\"}, {\"hovertemplate\": \"County=Kitsap County<br>WeekStartDate=%{x}<br>Age 40-59=%{y}<extra></extra>\", \"legendgroup\": \"Kitsap County\", \"marker\": {\"color\": \"#FFA15A\", \"symbol\": \"circle\"}, \"mode\": \"markers\", \"name\": \"Kitsap County\", \"orientation\": \"v\", \"showlegend\": true, \"type\": \"scatter\", \"x\": [\"2020-02-16\", \"2020-02-23\", \"2020-03-01\", \"2020-03-08\", \"2020-03-15\", \"2020-03-22\", \"2020-03-29\", \"2020-04-05\", \"2020-04-12\", \"2020-04-19\", \"2020-04-26\", \"2020-05-03\", \"2020-05-10\", \"2020-05-24\", \"2020-05-31\"], \"xaxis\": \"x\", \"y\": [0, 0, 5, 9, 17, 17, 7, 6, 3, 1, 0, 1, 2, 2, 1], \"yaxis\": \"y\"}, {\"hovertemplate\": \"County=Kittitas County<br>WeekStartDate=%{x}<br>Age 40-59=%{y}<extra></extra>\", \"legendgroup\": \"Kittitas County\", \"marker\": {\"color\": \"#19d3f3\", \"symbol\": \"circle\"}, \"mode\": \"markers\", \"name\": \"Kittitas County\", \"orientation\": \"v\", \"showlegend\": true, \"type\": \"scatter\", \"x\": [\"2020-01-26\", \"2020-02-16\", \"2020-03-08\", \"2020-03-15\", \"2020-03-22\", \"2020-03-29\", \"2020-04-05\", \"2020-04-19\", \"2020-04-26\", \"2020-05-03\", \"2020-05-10\", \"2020-05-17\", \"2020-05-24\", \"2020-05-31\"], \"xaxis\": \"x\", \"y\": [0, 0, 2, 2, 1, 0, 0, 0, 1, 8, 8, 5, 0, 0], \"yaxis\": \"y\"}, {\"hovertemplate\": \"County=Klickitat County<br>WeekStartDate=%{x}<br>Age 40-59=%{y}<extra></extra>\", \"legendgroup\": \"Klickitat County\", \"marker\": {\"color\": \"#FF6692\", \"symbol\": \"circle\"}, \"mode\": \"markers\", \"name\": \"Klickitat County\", \"orientation\": \"v\", \"showlegend\": true, \"type\": \"scatter\", \"x\": [\"2020-03-01\", \"2020-03-15\", \"2020-03-22\", \"2020-03-29\", \"2020-04-05\", \"2020-04-19\", \"2020-04-26\", \"2020-05-03\", \"2020-05-10\", \"2020-05-17\", \"2020-05-24\", \"2020-05-31\"], \"xaxis\": \"x\", \"y\": [1, 0, 0, 0, 0, 1, 1, 2, 0, 0, 1, 0], \"yaxis\": \"y\"}, {\"hovertemplate\": \"County=Lewis County<br>WeekStartDate=%{x}<br>Age 40-59=%{y}<extra></extra>\", \"legendgroup\": \"Lewis County\", \"marker\": {\"color\": \"#B6E880\", \"symbol\": \"circle\"}, \"mode\": \"markers\", \"name\": \"Lewis County\", \"orientation\": \"v\", \"showlegend\": true, \"type\": \"scatter\", \"x\": [\"2020-03-08\", \"2020-03-15\", \"2020-03-22\", \"2020-03-29\", \"2020-04-05\", \"2020-04-12\", \"2020-04-19\", \"2020-04-26\", \"2020-05-03\", \"2020-05-10\", \"2020-05-24\"], \"xaxis\": \"x\", \"y\": [1, 2, 0, 1, 1, 0, 2, 1, 1, 3, 1], \"yaxis\": \"y\"}, {\"hovertemplate\": \"County=Mason County<br>WeekStartDate=%{x}<br>Age 40-59=%{y}<extra></extra>\", \"legendgroup\": \"Mason County\", \"marker\": {\"color\": \"#FF97FF\", \"symbol\": \"circle\"}, \"mode\": \"markers\", \"name\": \"Mason County\", \"orientation\": \"v\", \"showlegend\": true, \"type\": \"scatter\", \"x\": [\"2020-03-08\", \"2020-03-15\", \"2020-03-22\", \"2020-03-29\", \"2020-04-12\", \"2020-04-19\", \"2020-04-26\", \"2020-05-03\", \"2020-05-10\", \"2020-05-17\", \"2020-05-24\", \"2020-05-31\"], \"xaxis\": \"x\", \"y\": [0, 1, 1, 6, 1, 0, 1, 0, 2, 0, 1, 1], \"yaxis\": \"y\"}, {\"hovertemplate\": \"County=Okanogan County<br>WeekStartDate=%{x}<br>Age 40-59=%{y}<extra></extra>\", \"legendgroup\": \"Okanogan County\", \"marker\": {\"color\": \"#FECB52\", \"symbol\": \"circle\"}, \"mode\": \"markers\", \"name\": \"Okanogan County\", \"orientation\": \"v\", \"showlegend\": true, \"type\": \"scatter\", \"x\": [\"2020-03-08\", \"2020-03-15\", \"2020-03-22\", \"2020-03-29\", \"2020-04-05\", \"2020-04-12\", \"2020-04-19\", \"2020-04-26\", \"2020-05-03\", \"2020-05-10\", \"2020-05-17\", \"2020-05-24\", \"2020-05-31\"], \"xaxis\": \"x\", \"y\": [2, 0, 1, 1, 1, 2, 2, 0, 3, 1, 0, 1, 2], \"yaxis\": \"y\"}, {\"hovertemplate\": \"County=Pacific County<br>WeekStartDate=%{x}<br>Age 40-59=%{y}<extra></extra>\", \"legendgroup\": \"Pacific County\", \"marker\": {\"color\": \"#636efa\", \"symbol\": \"circle\"}, \"mode\": \"markers\", \"name\": \"Pacific County\", \"orientation\": \"v\", \"showlegend\": true, \"type\": \"scatter\", \"x\": [\"2020-03-29\", \"2020-04-05\", \"2020-04-19\", \"2020-04-26\", \"2020-05-03\"], \"xaxis\": \"x\", \"y\": [0, 1, 0, 2, 2], \"yaxis\": \"y\"}, {\"hovertemplate\": \"County=Pierce County<br>WeekStartDate=%{x}<br>Age 40-59=%{y}<extra></extra>\", \"legendgroup\": \"Pierce County\", \"marker\": {\"color\": \"#EF553B\", \"symbol\": \"circle\"}, \"mode\": \"markers\", \"name\": \"Pierce County\", \"orientation\": \"v\", \"showlegend\": true, \"type\": \"scatter\", \"x\": [\"2020-02-16\", \"2020-02-23\", \"2020-03-01\", \"2020-03-08\", \"2020-03-15\", \"2020-03-22\", \"2020-03-29\", \"2020-04-05\", \"2020-04-12\", \"2020-04-19\", \"2020-04-26\", \"2020-05-03\", \"2020-05-10\", \"2020-05-17\", \"2020-05-24\", \"2020-05-31\"], \"xaxis\": \"x\", \"y\": [0, 6, 14, 37, 86, 100, 91, 72, 87, 63, 56, 51, 30, 19, 20, 19], \"yaxis\": \"y\"}, {\"hovertemplate\": \"County=San Juan County<br>WeekStartDate=%{x}<br>Age 40-59=%{y}<extra></extra>\", \"legendgroup\": \"San Juan County\", \"marker\": {\"color\": \"#00cc96\", \"symbol\": \"circle\"}, \"mode\": \"markers\", \"name\": \"San Juan County\", \"orientation\": \"v\", \"showlegend\": true, \"type\": \"scatter\", \"x\": [\"2020-03-08\", \"2020-03-15\", \"2020-03-22\", \"2020-03-29\", \"2020-04-05\", \"2020-04-12\"], \"xaxis\": \"x\", \"y\": [1, 2, 2, 4, 0, 1], \"yaxis\": \"y\"}, {\"hovertemplate\": \"County=Skagit County<br>WeekStartDate=%{x}<br>Age 40-59=%{y}<extra></extra>\", \"legendgroup\": \"Skagit County\", \"marker\": {\"color\": \"#ab63fa\", \"symbol\": \"circle\"}, \"mode\": \"markers\", \"name\": \"Skagit County\", \"orientation\": \"v\", \"showlegend\": true, \"type\": \"scatter\", \"x\": [\"2020-02-16\", \"2020-02-23\", \"2020-03-01\", \"2020-03-08\", \"2020-03-15\", \"2020-03-22\", \"2020-03-29\", \"2020-04-05\", \"2020-04-12\", \"2020-04-19\", \"2020-04-26\", \"2020-05-03\", \"2020-05-10\", \"2020-05-17\", \"2020-05-24\", \"2020-05-31\"], \"xaxis\": \"x\", \"y\": [1, 0, 2, 11, 20, 14, 11, 21, 12, 25, 13, 15, 3, 0, 5, 2], \"yaxis\": \"y\"}, {\"hovertemplate\": \"County=Snohomish County<br>WeekStartDate=%{x}<br>Age 40-59=%{y}<extra></extra>\", \"legendgroup\": \"Snohomish County\", \"marker\": {\"color\": \"#FFA15A\", \"symbol\": \"circle\"}, \"mode\": \"markers\", \"name\": \"Snohomish County\", \"orientation\": \"v\", \"showlegend\": true, \"type\": \"scatter\", \"x\": [\"2020-01-16\", \"2020-01-26\", \"2020-02-02\", \"2020-02-09\", \"2020-02-16\", \"2020-02-23\", \"2020-03-01\", \"2020-03-08\", \"2020-03-15\", \"2020-03-22\", \"2020-03-29\", \"2020-04-05\", \"2020-04-12\", \"2020-04-19\", \"2020-04-26\", \"2020-05-03\", \"2020-05-10\", \"2020-05-17\", \"2020-05-24\", \"2020-05-31\"], \"xaxis\": \"x\", \"y\": [0, 0, 2, 2, 9, 15, 69, 140, 192, 165, 97, 81, 55, 74, 60, 34, 22, 23, 18, 14], \"yaxis\": \"y\"}, {\"hovertemplate\": \"County=Spokane County<br>WeekStartDate=%{x}<br>Age 40-59=%{y}<extra></extra>\", \"legendgroup\": \"Spokane County\", \"marker\": {\"color\": \"#19d3f3\", \"symbol\": \"circle\"}, \"mode\": \"markers\", \"name\": \"Spokane County\", \"orientation\": \"v\", \"showlegend\": true, \"type\": \"scatter\", \"x\": [\"2020-02-16\", \"2020-02-23\", \"2020-03-01\", \"2020-03-08\", \"2020-03-15\", \"2020-03-22\", \"2020-03-29\", \"2020-04-05\", \"2020-04-12\", \"2020-04-19\", \"2020-04-26\", \"2020-05-03\", \"2020-05-10\", \"2020-05-17\", \"2020-05-24\", \"2020-05-31\"], \"xaxis\": \"x\", \"y\": [0, 0, 3, 12, 39, 24, 13, 7, 10, 8, 4, 3, 17, 22, 17, 16], \"yaxis\": \"y\"}, {\"hovertemplate\": \"County=Stevens County<br>WeekStartDate=%{x}<br>Age 40-59=%{y}<extra></extra>\", \"legendgroup\": \"Stevens County\", \"marker\": {\"color\": \"#FF6692\", \"symbol\": \"circle\"}, \"mode\": \"markers\", \"name\": \"Stevens County\", \"orientation\": \"v\", \"showlegend\": true, \"type\": \"scatter\", \"x\": [\"2020-03-01\", \"2020-03-08\", \"2020-03-15\", \"2020-03-22\", \"2020-03-29\", \"2020-04-12\", \"2020-05-10\", \"2020-05-17\", \"2020-05-24\"], \"xaxis\": \"x\", \"y\": [1, 0, 0, 1, 0, 0, 1, 2, 1], \"yaxis\": \"y\"}, {\"hovertemplate\": \"County=Thurston County<br>WeekStartDate=%{x}<br>Age 40-59=%{y}<extra></extra>\", \"legendgroup\": \"Thurston County\", \"marker\": {\"color\": \"#B6E880\", \"symbol\": \"circle\"}, \"mode\": \"markers\", \"name\": \"Thurston County\", \"orientation\": \"v\", \"showlegend\": true, \"type\": \"scatter\", \"x\": [\"2020-02-23\", \"2020-03-01\", \"2020-03-08\", \"2020-03-15\", \"2020-03-22\", \"2020-03-29\", \"2020-04-05\", \"2020-04-12\", \"2020-04-19\", \"2020-04-26\", \"2020-05-03\", \"2020-05-10\", \"2020-05-17\", \"2020-05-24\", \"2020-05-31\"], \"xaxis\": \"x\", \"y\": [1, 3, 6, 6, 11, 6, 4, 6, 4, 1, 2, 2, 2, 8, 4], \"yaxis\": \"y\"}, {\"hovertemplate\": \"County=Walla Walla County<br>WeekStartDate=%{x}<br>Age 40-59=%{y}<extra></extra>\", \"legendgroup\": \"Walla Walla County\", \"marker\": {\"color\": \"#FF97FF\", \"symbol\": \"circle\"}, \"mode\": \"markers\", \"name\": \"Walla Walla County\", \"orientation\": \"v\", \"showlegend\": true, \"type\": \"scatter\", \"x\": [\"2020-03-08\", \"2020-03-15\", \"2020-03-22\", \"2020-03-29\", \"2020-04-05\", \"2020-04-12\", \"2020-04-19\", \"2020-04-26\", \"2020-05-03\", \"2020-05-10\", \"2020-05-17\", \"2020-05-24\", \"2020-05-31\"], \"xaxis\": \"x\", \"y\": [1, 0, 2, 4, 4, 6, 9, 5, 2, 0, 2, 0, 2], \"yaxis\": \"y\"}, {\"hovertemplate\": \"County=Whatcom County<br>WeekStartDate=%{x}<br>Age 40-59=%{y}<extra></extra>\", \"legendgroup\": \"Whatcom County\", \"marker\": {\"color\": \"#FECB52\", \"symbol\": \"circle\"}, \"mode\": \"markers\", \"name\": \"Whatcom County\", \"orientation\": \"v\", \"showlegend\": true, \"type\": \"scatter\", \"x\": [\"2020-02-16\", \"2020-02-23\", \"2020-03-01\", \"2020-03-08\", \"2020-03-15\", \"2020-03-22\", \"2020-03-29\", \"2020-04-05\", \"2020-04-12\", \"2020-04-19\", \"2020-04-26\", \"2020-05-03\", \"2020-05-10\", \"2020-05-17\", \"2020-05-24\", \"2020-05-31\"], \"xaxis\": \"x\", \"y\": [0, 1, 2, 8, 20, 27, 13, 3, 1, 4, 3, 3, 5, 3, 5, 1], \"yaxis\": \"y\"}, {\"hovertemplate\": \"County=Whitman County<br>WeekStartDate=%{x}<br>Age 40-59=%{y}<extra></extra>\", \"legendgroup\": \"Whitman County\", \"marker\": {\"color\": \"#636efa\", \"symbol\": \"circle\"}, \"mode\": \"markers\", \"name\": \"Whitman County\", \"orientation\": \"v\", \"showlegend\": true, \"type\": \"scatter\", \"x\": [\"2020-03-08\", \"2020-03-15\", \"2020-03-22\", \"2020-03-29\", \"2020-04-12\", \"2020-04-19\", \"2020-05-10\", \"2020-05-17\"], \"xaxis\": \"x\", \"y\": [0, 2, 2, 2, 0, 0, 0, 0], \"yaxis\": \"y\"}, {\"hovertemplate\": \"County=Yakima County<br>WeekStartDate=%{x}<br>Age 40-59=%{y}<extra></extra>\", \"legendgroup\": \"Yakima County\", \"marker\": {\"color\": \"#EF553B\", \"symbol\": \"circle\"}, \"mode\": \"markers\", \"name\": \"Yakima County\", \"orientation\": \"v\", \"showlegend\": true, \"type\": \"scatter\", \"x\": [\"2020-01-16\", \"2020-02-09\", \"2020-02-16\", \"2020-03-01\", \"2020-03-08\", \"2020-03-15\", \"2020-03-22\", \"2020-03-29\", \"2020-04-05\", \"2020-04-12\", \"2020-04-19\", \"2020-04-26\", \"2020-05-03\", \"2020-05-10\", \"2020-05-17\", \"2020-05-24\", \"2020-05-31\"], \"xaxis\": \"x\", \"y\": [0, 1, 2, 4, 6, 23, 54, 73, 81, 71, 103, 134, 167, 206, 185, 171, 141], \"yaxis\": \"y\"}, {\"hovertemplate\": \"County=Unassigned<br>WeekStartDate=%{x}<br>Age 40-59=%{y}<extra></extra>\", \"legendgroup\": \"Unassigned\", \"marker\": {\"color\": \"#00cc96\", \"symbol\": \"circle\"}, \"mode\": \"markers\", \"name\": \"Unassigned\", \"orientation\": \"v\", \"showlegend\": true, \"type\": \"scatter\", \"x\": [\"2020-04-19\", \"2020-05-10\", \"2020-05-17\", \"2020-05-24\", \"2020-05-31\"], \"xaxis\": \"x\", \"y\": [1, 2, 4, 2, 4], \"yaxis\": \"y\"}],\n",
       "                        {\"legend\": {\"title\": {\"text\": \"County\"}, \"tracegroupgap\": 0}, \"margin\": {\"t\": 60}, \"template\": {\"data\": {\"bar\": [{\"error_x\": {\"color\": \"#2a3f5f\"}, \"error_y\": {\"color\": \"#2a3f5f\"}, \"marker\": {\"line\": {\"color\": \"#E5ECF6\", \"width\": 0.5}}, \"type\": \"bar\"}], \"barpolar\": [{\"marker\": {\"line\": {\"color\": \"#E5ECF6\", \"width\": 0.5}}, \"type\": \"barpolar\"}], \"carpet\": [{\"aaxis\": {\"endlinecolor\": \"#2a3f5f\", \"gridcolor\": \"white\", \"linecolor\": \"white\", \"minorgridcolor\": \"white\", \"startlinecolor\": \"#2a3f5f\"}, \"baxis\": {\"endlinecolor\": \"#2a3f5f\", \"gridcolor\": \"white\", \"linecolor\": \"white\", \"minorgridcolor\": \"white\", \"startlinecolor\": \"#2a3f5f\"}, \"type\": \"carpet\"}], \"choropleth\": [{\"colorbar\": {\"outlinewidth\": 0, \"ticks\": \"\"}, \"type\": \"choropleth\"}], \"contour\": [{\"colorbar\": {\"outlinewidth\": 0, \"ticks\": \"\"}, \"colorscale\": [[0.0, \"#0d0887\"], [0.1111111111111111, \"#46039f\"], [0.2222222222222222, \"#7201a8\"], [0.3333333333333333, \"#9c179e\"], [0.4444444444444444, \"#bd3786\"], [0.5555555555555556, \"#d8576b\"], [0.6666666666666666, \"#ed7953\"], [0.7777777777777778, \"#fb9f3a\"], [0.8888888888888888, \"#fdca26\"], [1.0, \"#f0f921\"]], \"type\": \"contour\"}], \"contourcarpet\": [{\"colorbar\": {\"outlinewidth\": 0, \"ticks\": \"\"}, \"type\": \"contourcarpet\"}], \"heatmap\": [{\"colorbar\": {\"outlinewidth\": 0, \"ticks\": \"\"}, \"colorscale\": [[0.0, \"#0d0887\"], [0.1111111111111111, \"#46039f\"], [0.2222222222222222, \"#7201a8\"], [0.3333333333333333, \"#9c179e\"], [0.4444444444444444, \"#bd3786\"], [0.5555555555555556, \"#d8576b\"], [0.6666666666666666, \"#ed7953\"], [0.7777777777777778, \"#fb9f3a\"], [0.8888888888888888, \"#fdca26\"], [1.0, \"#f0f921\"]], \"type\": \"heatmap\"}], \"heatmapgl\": [{\"colorbar\": {\"outlinewidth\": 0, \"ticks\": \"\"}, \"colorscale\": [[0.0, \"#0d0887\"], [0.1111111111111111, \"#46039f\"], [0.2222222222222222, \"#7201a8\"], [0.3333333333333333, \"#9c179e\"], [0.4444444444444444, \"#bd3786\"], [0.5555555555555556, \"#d8576b\"], [0.6666666666666666, \"#ed7953\"], [0.7777777777777778, \"#fb9f3a\"], [0.8888888888888888, \"#fdca26\"], [1.0, \"#f0f921\"]], \"type\": \"heatmapgl\"}], \"histogram\": [{\"marker\": {\"colorbar\": {\"outlinewidth\": 0, \"ticks\": \"\"}}, \"type\": \"histogram\"}], \"histogram2d\": [{\"colorbar\": {\"outlinewidth\": 0, \"ticks\": \"\"}, \"colorscale\": [[0.0, \"#0d0887\"], [0.1111111111111111, \"#46039f\"], [0.2222222222222222, \"#7201a8\"], [0.3333333333333333, \"#9c179e\"], [0.4444444444444444, \"#bd3786\"], [0.5555555555555556, \"#d8576b\"], [0.6666666666666666, \"#ed7953\"], [0.7777777777777778, \"#fb9f3a\"], [0.8888888888888888, \"#fdca26\"], [1.0, \"#f0f921\"]], \"type\": \"histogram2d\"}], \"histogram2dcontour\": [{\"colorbar\": {\"outlinewidth\": 0, \"ticks\": \"\"}, \"colorscale\": [[0.0, \"#0d0887\"], [0.1111111111111111, \"#46039f\"], [0.2222222222222222, \"#7201a8\"], [0.3333333333333333, \"#9c179e\"], [0.4444444444444444, \"#bd3786\"], [0.5555555555555556, \"#d8576b\"], [0.6666666666666666, \"#ed7953\"], [0.7777777777777778, \"#fb9f3a\"], [0.8888888888888888, \"#fdca26\"], [1.0, \"#f0f921\"]], \"type\": \"histogram2dcontour\"}], \"mesh3d\": [{\"colorbar\": {\"outlinewidth\": 0, \"ticks\": \"\"}, \"type\": \"mesh3d\"}], \"parcoords\": [{\"line\": {\"colorbar\": {\"outlinewidth\": 0, \"ticks\": \"\"}}, \"type\": \"parcoords\"}], \"pie\": [{\"automargin\": true, \"type\": \"pie\"}], \"scatter\": [{\"marker\": {\"colorbar\": {\"outlinewidth\": 0, \"ticks\": \"\"}}, \"type\": \"scatter\"}], \"scatter3d\": [{\"line\": {\"colorbar\": {\"outlinewidth\": 0, \"ticks\": \"\"}}, \"marker\": {\"colorbar\": {\"outlinewidth\": 0, \"ticks\": \"\"}}, \"type\": \"scatter3d\"}], \"scattercarpet\": [{\"marker\": {\"colorbar\": {\"outlinewidth\": 0, \"ticks\": \"\"}}, \"type\": \"scattercarpet\"}], \"scattergeo\": [{\"marker\": {\"colorbar\": {\"outlinewidth\": 0, \"ticks\": \"\"}}, \"type\": \"scattergeo\"}], \"scattergl\": [{\"marker\": {\"colorbar\": {\"outlinewidth\": 0, \"ticks\": \"\"}}, \"type\": \"scattergl\"}], \"scattermapbox\": [{\"marker\": {\"colorbar\": {\"outlinewidth\": 0, \"ticks\": \"\"}}, \"type\": \"scattermapbox\"}], \"scatterpolar\": [{\"marker\": {\"colorbar\": {\"outlinewidth\": 0, \"ticks\": \"\"}}, \"type\": \"scatterpolar\"}], \"scatterpolargl\": [{\"marker\": {\"colorbar\": {\"outlinewidth\": 0, \"ticks\": \"\"}}, \"type\": \"scatterpolargl\"}], \"scatterternary\": [{\"marker\": {\"colorbar\": {\"outlinewidth\": 0, \"ticks\": \"\"}}, \"type\": \"scatterternary\"}], \"surface\": [{\"colorbar\": {\"outlinewidth\": 0, \"ticks\": \"\"}, \"colorscale\": [[0.0, \"#0d0887\"], [0.1111111111111111, \"#46039f\"], [0.2222222222222222, \"#7201a8\"], [0.3333333333333333, \"#9c179e\"], [0.4444444444444444, \"#bd3786\"], [0.5555555555555556, \"#d8576b\"], [0.6666666666666666, \"#ed7953\"], [0.7777777777777778, \"#fb9f3a\"], [0.8888888888888888, \"#fdca26\"], [1.0, \"#f0f921\"]], \"type\": \"surface\"}], \"table\": [{\"cells\": {\"fill\": {\"color\": \"#EBF0F8\"}, \"line\": {\"color\": \"white\"}}, \"header\": {\"fill\": {\"color\": \"#C8D4E3\"}, \"line\": {\"color\": \"white\"}}, \"type\": \"table\"}]}, \"layout\": {\"annotationdefaults\": {\"arrowcolor\": \"#2a3f5f\", \"arrowhead\": 0, \"arrowwidth\": 1}, \"coloraxis\": {\"colorbar\": {\"outlinewidth\": 0, \"ticks\": \"\"}}, \"colorscale\": {\"diverging\": [[0, \"#8e0152\"], [0.1, \"#c51b7d\"], [0.2, \"#de77ae\"], [0.3, \"#f1b6da\"], [0.4, \"#fde0ef\"], [0.5, \"#f7f7f7\"], [0.6, \"#e6f5d0\"], [0.7, \"#b8e186\"], [0.8, \"#7fbc41\"], [0.9, \"#4d9221\"], [1, \"#276419\"]], \"sequential\": [[0.0, \"#0d0887\"], [0.1111111111111111, \"#46039f\"], [0.2222222222222222, \"#7201a8\"], [0.3333333333333333, \"#9c179e\"], [0.4444444444444444, \"#bd3786\"], [0.5555555555555556, \"#d8576b\"], [0.6666666666666666, \"#ed7953\"], [0.7777777777777778, \"#fb9f3a\"], [0.8888888888888888, \"#fdca26\"], [1.0, \"#f0f921\"]], \"sequentialminus\": [[0.0, \"#0d0887\"], [0.1111111111111111, \"#46039f\"], [0.2222222222222222, \"#7201a8\"], [0.3333333333333333, \"#9c179e\"], [0.4444444444444444, \"#bd3786\"], [0.5555555555555556, \"#d8576b\"], [0.6666666666666666, \"#ed7953\"], [0.7777777777777778, \"#fb9f3a\"], [0.8888888888888888, \"#fdca26\"], [1.0, \"#f0f921\"]]}, \"colorway\": [\"#636efa\", \"#EF553B\", \"#00cc96\", \"#ab63fa\", \"#FFA15A\", \"#19d3f3\", \"#FF6692\", \"#B6E880\", \"#FF97FF\", \"#FECB52\"], \"font\": {\"color\": \"#2a3f5f\"}, \"geo\": {\"bgcolor\": \"white\", \"lakecolor\": \"white\", \"landcolor\": \"#E5ECF6\", \"showlakes\": true, \"showland\": true, \"subunitcolor\": \"white\"}, \"hoverlabel\": {\"align\": \"left\"}, \"hovermode\": \"closest\", \"mapbox\": {\"style\": \"light\"}, \"paper_bgcolor\": \"white\", \"plot_bgcolor\": \"#E5ECF6\", \"polar\": {\"angularaxis\": {\"gridcolor\": \"white\", \"linecolor\": \"white\", \"ticks\": \"\"}, \"bgcolor\": \"#E5ECF6\", \"radialaxis\": {\"gridcolor\": \"white\", \"linecolor\": \"white\", \"ticks\": \"\"}}, \"scene\": {\"xaxis\": {\"backgroundcolor\": \"#E5ECF6\", \"gridcolor\": \"white\", \"gridwidth\": 2, \"linecolor\": \"white\", \"showbackground\": true, \"ticks\": \"\", \"zerolinecolor\": \"white\"}, \"yaxis\": {\"backgroundcolor\": \"#E5ECF6\", \"gridcolor\": \"white\", \"gridwidth\": 2, \"linecolor\": \"white\", \"showbackground\": true, \"ticks\": \"\", \"zerolinecolor\": \"white\"}, \"zaxis\": {\"backgroundcolor\": \"#E5ECF6\", \"gridcolor\": \"white\", \"gridwidth\": 2, \"linecolor\": \"white\", \"showbackground\": true, \"ticks\": \"\", \"zerolinecolor\": \"white\"}}, \"shapedefaults\": {\"line\": {\"color\": \"#2a3f5f\"}}, \"ternary\": {\"aaxis\": {\"gridcolor\": \"white\", \"linecolor\": \"white\", \"ticks\": \"\"}, \"baxis\": {\"gridcolor\": \"white\", \"linecolor\": \"white\", \"ticks\": \"\"}, \"bgcolor\": \"#E5ECF6\", \"caxis\": {\"gridcolor\": \"white\", \"linecolor\": \"white\", \"ticks\": \"\"}}, \"title\": {\"x\": 0.05}, \"xaxis\": {\"automargin\": true, \"gridcolor\": \"white\", \"linecolor\": \"white\", \"ticks\": \"\", \"title\": {\"standoff\": 15}, \"zerolinecolor\": \"white\", \"zerolinewidth\": 2}, \"yaxis\": {\"automargin\": true, \"gridcolor\": \"white\", \"linecolor\": \"white\", \"ticks\": \"\", \"title\": {\"standoff\": 15}, \"zerolinecolor\": \"white\", \"zerolinewidth\": 2}}}, \"xaxis\": {\"anchor\": \"y\", \"domain\": [0.0, 1.0], \"title\": {\"text\": \"WeekStartDate\"}}, \"yaxis\": {\"anchor\": \"x\", \"domain\": [0.0, 1.0], \"title\": {\"text\": \"Age 40-59\"}}},\n",
       "                        {\"responsive\": true}\n",
       "                    ).then(function(){\n",
       "                            \n",
       "var gd = document.getElementById('b2e24c40-9d0d-4727-90d1-9c3898b2ca12');\n",
       "var x = new MutationObserver(function (mutations, observer) {{\n",
       "        var display = window.getComputedStyle(gd).display;\n",
       "        if (!display || display === 'none') {{\n",
       "            console.log([gd, 'removed!']);\n",
       "            Plotly.purge(gd);\n",
       "            observer.disconnect();\n",
       "        }}\n",
       "}});\n",
       "\n",
       "// Listen for the removal of the full notebook cells\n",
       "var notebookContainer = gd.closest('#notebook-container');\n",
       "if (notebookContainer) {{\n",
       "    x.observe(notebookContainer, {childList: true});\n",
       "}}\n",
       "\n",
       "// Listen for the clearing of the current output cell\n",
       "var outputEl = gd.closest('.output');\n",
       "if (outputEl) {{\n",
       "    x.observe(outputEl, {childList: true});\n",
       "}}\n",
       "\n",
       "                        })\n",
       "                };\n",
       "                });\n",
       "            </script>\n",
       "        </div>"
      ]
     },
     "metadata": {},
     "output_type": "display_data"
    }
   ],
   "source": [
    "px.scatter(df, x=\"WeekStartDate\", y='Age 40-59', color='County')"
   ]
  },
  {
   "cell_type": "code",
   "execution_count": 31,
   "metadata": {},
   "outputs": [
    {
     "data": {
      "application/vnd.plotly.v1+json": {
       "config": {
        "plotlyServerURL": "https://plot.ly"
       },
       "data": [
        {
         "hovertemplate": "County=Adams County<br>WeekStartDate=%{x}<br>Age 60-79=%{y}<extra></extra>",
         "legendgroup": "Adams County",
         "marker": {
          "color": "#636efa",
          "symbol": "circle"
         },
         "mode": "markers",
         "name": "Adams County",
         "orientation": "v",
         "showlegend": true,
         "type": "scatter",
         "x": [
          "2020-03-08",
          "2020-03-15",
          "2020-03-22",
          "2020-03-29",
          "2020-04-05",
          "2020-04-12",
          "2020-04-19",
          "2020-04-26",
          "2020-05-03",
          "2020-05-10",
          "2020-05-17",
          "2020-05-24",
          "2020-05-31"
         ],
         "xaxis": "x",
         "y": [
          2,
          0,
          4,
          3,
          1,
          0,
          0,
          0,
          0,
          0,
          0,
          2,
          0
         ],
         "yaxis": "y"
        },
        {
         "hovertemplate": "County=Asotin County<br>WeekStartDate=%{x}<br>Age 60-79=%{y}<extra></extra>",
         "legendgroup": "Asotin County",
         "marker": {
          "color": "#EF553B",
          "symbol": "circle"
         },
         "mode": "markers",
         "name": "Asotin County",
         "orientation": "v",
         "showlegend": true,
         "type": "scatter",
         "x": [
          "2020-03-15",
          "2020-03-29",
          "2020-04-05",
          "2020-04-12",
          "2020-04-19",
          "2020-05-17"
         ],
         "xaxis": "x",
         "y": [
          2,
          0,
          1,
          0,
          2,
          0
         ],
         "yaxis": "y"
        },
        {
         "hovertemplate": "County=Benton County<br>WeekStartDate=%{x}<br>Age 60-79=%{y}<extra></extra>",
         "legendgroup": "Benton County",
         "marker": {
          "color": "#00cc96",
          "symbol": "circle"
         },
         "mode": "markers",
         "name": "Benton County",
         "orientation": "v",
         "showlegend": true,
         "type": "scatter",
         "x": [
          "2020-02-16",
          "2020-03-01",
          "2020-03-08",
          "2020-03-15",
          "2020-03-22",
          "2020-03-29",
          "2020-04-05",
          "2020-04-12",
          "2020-04-19",
          "2020-04-26",
          "2020-05-03",
          "2020-05-10",
          "2020-05-17",
          "2020-05-24",
          "2020-05-31"
         ],
         "xaxis": "x",
         "y": [
          0,
          2,
          6,
          10,
          26,
          21,
          12,
          9,
          19,
          15,
          9,
          6,
          8,
          15,
          10
         ],
         "yaxis": "y"
        },
        {
         "hovertemplate": "County=Chelan County<br>WeekStartDate=%{x}<br>Age 60-79=%{y}<extra></extra>",
         "legendgroup": "Chelan County",
         "marker": {
          "color": "#ab63fa",
          "symbol": "circle"
         },
         "mode": "markers",
         "name": "Chelan County",
         "orientation": "v",
         "showlegend": true,
         "type": "scatter",
         "x": [
          "2020-02-09",
          "2020-03-08",
          "2020-03-15",
          "2020-03-22",
          "2020-03-29",
          "2020-04-05",
          "2020-04-12",
          "2020-04-19",
          "2020-04-26",
          "2020-05-03",
          "2020-05-10",
          "2020-05-17",
          "2020-05-24",
          "2020-05-31"
         ],
         "xaxis": "x",
         "y": [
          0,
          1,
          2,
          3,
          9,
          1,
          0,
          5,
          6,
          1,
          0,
          3,
          2,
          1
         ],
         "yaxis": "y"
        },
        {
         "hovertemplate": "County=Clallam County<br>WeekStartDate=%{x}<br>Age 60-79=%{y}<extra></extra>",
         "legendgroup": "Clallam County",
         "marker": {
          "color": "#FFA15A",
          "symbol": "circle"
         },
         "mode": "markers",
         "name": "Clallam County",
         "orientation": "v",
         "showlegend": true,
         "type": "scatter",
         "x": [
          "2020-03-01",
          "2020-03-08",
          "2020-03-15",
          "2020-03-29",
          "2020-04-05",
          "2020-04-19",
          "2020-04-26",
          "2020-05-10",
          "2020-05-17",
          "2020-05-24"
         ],
         "xaxis": "x",
         "y": [
          2,
          3,
          1,
          1,
          0,
          0,
          0,
          0,
          0,
          0
         ],
         "yaxis": "y"
        },
        {
         "hovertemplate": "County=Clark County<br>WeekStartDate=%{x}<br>Age 60-79=%{y}<extra></extra>",
         "legendgroup": "Clark County",
         "marker": {
          "color": "#19d3f3",
          "symbol": "circle"
         },
         "mode": "markers",
         "name": "Clark County",
         "orientation": "v",
         "showlegend": true,
         "type": "scatter",
         "x": [
          "2020-02-23",
          "2020-03-01",
          "2020-03-08",
          "2020-03-15",
          "2020-03-22",
          "2020-03-29",
          "2020-04-05",
          "2020-04-12",
          "2020-04-19",
          "2020-04-26",
          "2020-05-03",
          "2020-05-10",
          "2020-05-17",
          "2020-05-24",
          "2020-05-31"
         ],
         "xaxis": "x",
         "y": [
          1,
          0,
          11,
          15,
          18,
          17,
          16,
          12,
          1,
          3,
          1,
          2,
          3,
          5,
          4
         ],
         "yaxis": "y"
        },
        {
         "hovertemplate": "County=Cowlitz County<br>WeekStartDate=%{x}<br>Age 60-79=%{y}<extra></extra>",
         "legendgroup": "Cowlitz County",
         "marker": {
          "color": "#FF6692",
          "symbol": "circle"
         },
         "mode": "markers",
         "name": "Cowlitz County",
         "orientation": "v",
         "showlegend": true,
         "type": "scatter",
         "x": [
          "2020-02-23",
          "2020-03-01",
          "2020-03-08",
          "2020-03-15",
          "2020-03-22",
          "2020-03-29",
          "2020-04-05",
          "2020-04-12",
          "2020-04-19",
          "2020-04-26",
          "2020-05-03",
          "2020-05-10",
          "2020-05-17",
          "2020-05-24",
          "2020-05-31"
         ],
         "xaxis": "x",
         "y": [
          1,
          1,
          5,
          3,
          1,
          3,
          2,
          6,
          0,
          2,
          2,
          0,
          0,
          0,
          0
         ],
         "yaxis": "y"
        },
        {
         "hovertemplate": "County=Douglas County<br>WeekStartDate=%{x}<br>Age 60-79=%{y}<extra></extra>",
         "legendgroup": "Douglas County",
         "marker": {
          "color": "#B6E880",
          "symbol": "circle"
         },
         "mode": "markers",
         "name": "Douglas County",
         "orientation": "v",
         "showlegend": true,
         "type": "scatter",
         "x": [
          "2020-03-01",
          "2020-03-08",
          "2020-03-15",
          "2020-03-22",
          "2020-03-29",
          "2020-04-05",
          "2020-04-12",
          "2020-04-19",
          "2020-04-26",
          "2020-05-03",
          "2020-05-10",
          "2020-05-17",
          "2020-05-24",
          "2020-05-31"
         ],
         "xaxis": "x",
         "y": [
          0,
          0,
          1,
          1,
          0,
          2,
          0,
          2,
          4,
          0,
          4,
          2,
          1,
          0
         ],
         "yaxis": "y"
        },
        {
         "hovertemplate": "County=Franklin County<br>WeekStartDate=%{x}<br>Age 60-79=%{y}<extra></extra>",
         "legendgroup": "Franklin County",
         "marker": {
          "color": "#FF97FF",
          "symbol": "circle"
         },
         "mode": "markers",
         "name": "Franklin County",
         "orientation": "v",
         "showlegend": true,
         "type": "scatter",
         "x": [
          "2020-02-09",
          "2020-02-23",
          "2020-03-01",
          "2020-03-08",
          "2020-03-15",
          "2020-03-22",
          "2020-03-29",
          "2020-04-05",
          "2020-04-12",
          "2020-04-19",
          "2020-04-26",
          "2020-05-03",
          "2020-05-10",
          "2020-05-17",
          "2020-05-24",
          "2020-05-31"
         ],
         "xaxis": "x",
         "y": [
          0,
          1,
          1,
          1,
          1,
          10,
          5,
          14,
          6,
          14,
          8,
          8,
          3,
          7,
          10,
          16
         ],
         "yaxis": "y"
        },
        {
         "hovertemplate": "County=Grant County<br>WeekStartDate=%{x}<br>Age 60-79=%{y}<extra></extra>",
         "legendgroup": "Grant County",
         "marker": {
          "color": "#FECB52",
          "symbol": "circle"
         },
         "mode": "markers",
         "name": "Grant County",
         "orientation": "v",
         "showlegend": true,
         "type": "scatter",
         "x": [
          "2020-02-16",
          "2020-02-23",
          "2020-03-01",
          "2020-03-08",
          "2020-03-15",
          "2020-03-22",
          "2020-03-29",
          "2020-04-05",
          "2020-04-12",
          "2020-04-19",
          "2020-04-26",
          "2020-05-03",
          "2020-05-10",
          "2020-05-17",
          "2020-05-24",
          "2020-05-31"
         ],
         "xaxis": "x",
         "y": [
          0,
          0,
          3,
          7,
          9,
          3,
          1,
          6,
          1,
          0,
          1,
          1,
          0,
          0,
          2,
          0
         ],
         "yaxis": "y"
        },
        {
         "hovertemplate": "County=Grays Harbor County<br>WeekStartDate=%{x}<br>Age 60-79=%{y}<extra></extra>",
         "legendgroup": "Grays Harbor County",
         "marker": {
          "color": "#636efa",
          "symbol": "circle"
         },
         "mode": "markers",
         "name": "Grays Harbor County",
         "orientation": "v",
         "showlegend": true,
         "type": "scatter",
         "x": [
          "2020-02-16",
          "2020-02-23",
          "2020-03-01",
          "2020-03-15",
          "2020-03-22",
          "2020-03-29",
          "2020-04-05",
          "2020-04-26",
          "2020-05-03",
          "2020-05-17",
          "2020-05-24",
          "2020-05-31"
         ],
         "xaxis": "x",
         "y": [
          1,
          1,
          1,
          0,
          0,
          2,
          1,
          0,
          2,
          0,
          0,
          0
         ],
         "yaxis": "y"
        },
        {
         "hovertemplate": "County=Island County<br>WeekStartDate=%{x}<br>Age 60-79=%{y}<extra></extra>",
         "legendgroup": "Island County",
         "marker": {
          "color": "#EF553B",
          "symbol": "circle"
         },
         "mode": "markers",
         "name": "Island County",
         "orientation": "v",
         "showlegend": true,
         "type": "scatter",
         "x": [
          "2020-02-23",
          "2020-03-01",
          "2020-03-08",
          "2020-03-15",
          "2020-03-22",
          "2020-03-29",
          "2020-04-05",
          "2020-04-12",
          "2020-04-19",
          "2020-04-26",
          "2020-05-03",
          "2020-05-10",
          "2020-05-24"
         ],
         "xaxis": "x",
         "y": [
          1,
          5,
          9,
          10,
          14,
          8,
          1,
          0,
          0,
          2,
          0,
          1,
          0
         ],
         "yaxis": "y"
        },
        {
         "hovertemplate": "County=Jefferson County<br>WeekStartDate=%{x}<br>Age 60-79=%{y}<extra></extra>",
         "legendgroup": "Jefferson County",
         "marker": {
          "color": "#00cc96",
          "symbol": "circle"
         },
         "mode": "markers",
         "name": "Jefferson County",
         "orientation": "v",
         "showlegend": true,
         "type": "scatter",
         "x": [
          "2020-02-23",
          "2020-03-01",
          "2020-03-08",
          "2020-03-15",
          "2020-03-22",
          "2020-03-29",
          "2020-05-31"
         ],
         "xaxis": "x",
         "y": [
          1,
          2,
          4,
          5,
          1,
          2,
          0
         ],
         "yaxis": "y"
        },
        {
         "hovertemplate": "County=King County<br>WeekStartDate=%{x}<br>Age 60-79=%{y}<extra></extra>",
         "legendgroup": "King County",
         "marker": {
          "color": "#ab63fa",
          "symbol": "circle"
         },
         "mode": "markers",
         "name": "King County",
         "orientation": "v",
         "showlegend": true,
         "type": "scatter",
         "x": [
          "2020-02-02",
          "2020-02-09",
          "2020-02-16",
          "2020-02-23",
          "2020-03-01",
          "2020-03-08",
          "2020-03-15",
          "2020-03-22",
          "2020-03-29",
          "2020-04-05",
          "2020-04-12",
          "2020-04-19",
          "2020-04-26",
          "2020-05-03",
          "2020-05-10",
          "2020-05-17",
          "2020-05-24",
          "2020-05-31"
         ],
         "xaxis": "x",
         "y": [
          1,
          2,
          19,
          45,
          97,
          233,
          241,
          231,
          226,
          185,
          143,
          126,
          82,
          63,
          62,
          33,
          21,
          21
         ],
         "yaxis": "y"
        },
        {
         "hovertemplate": "County=Kitsap County<br>WeekStartDate=%{x}<br>Age 60-79=%{y}<extra></extra>",
         "legendgroup": "Kitsap County",
         "marker": {
          "color": "#FFA15A",
          "symbol": "circle"
         },
         "mode": "markers",
         "name": "Kitsap County",
         "orientation": "v",
         "showlegend": true,
         "type": "scatter",
         "x": [
          "2020-02-16",
          "2020-02-23",
          "2020-03-01",
          "2020-03-08",
          "2020-03-15",
          "2020-03-22",
          "2020-03-29",
          "2020-04-05",
          "2020-04-12",
          "2020-04-19",
          "2020-04-26",
          "2020-05-03",
          "2020-05-10",
          "2020-05-24",
          "2020-05-31"
         ],
         "xaxis": "x",
         "y": [
          0,
          1,
          0,
          6,
          8,
          6,
          6,
          3,
          0,
          0,
          1,
          1,
          0,
          0,
          0
         ],
         "yaxis": "y"
        },
        {
         "hovertemplate": "County=Kittitas County<br>WeekStartDate=%{x}<br>Age 60-79=%{y}<extra></extra>",
         "legendgroup": "Kittitas County",
         "marker": {
          "color": "#19d3f3",
          "symbol": "circle"
         },
         "mode": "markers",
         "name": "Kittitas County",
         "orientation": "v",
         "showlegend": true,
         "type": "scatter",
         "x": [
          "2020-01-26",
          "2020-02-16",
          "2020-03-08",
          "2020-03-15",
          "2020-03-22",
          "2020-03-29",
          "2020-04-05",
          "2020-04-19",
          "2020-04-26",
          "2020-05-03",
          "2020-05-10",
          "2020-05-17",
          "2020-05-24",
          "2020-05-31"
         ],
         "xaxis": "x",
         "y": [
          1,
          3,
          0,
          1,
          0,
          1,
          1,
          0,
          0,
          4,
          0,
          1,
          1,
          0
         ],
         "yaxis": "y"
        },
        {
         "hovertemplate": "County=Klickitat County<br>WeekStartDate=%{x}<br>Age 60-79=%{y}<extra></extra>",
         "legendgroup": "Klickitat County",
         "marker": {
          "color": "#FF6692",
          "symbol": "circle"
         },
         "mode": "markers",
         "name": "Klickitat County",
         "orientation": "v",
         "showlegend": true,
         "type": "scatter",
         "x": [
          "2020-03-01",
          "2020-03-15",
          "2020-03-22",
          "2020-03-29",
          "2020-04-05",
          "2020-04-19",
          "2020-04-26",
          "2020-05-03",
          "2020-05-10",
          "2020-05-17",
          "2020-05-24",
          "2020-05-31"
         ],
         "xaxis": "x",
         "y": [
          1,
          6,
          0,
          1,
          1,
          1,
          1,
          0,
          1,
          0,
          0,
          3
         ],
         "yaxis": "y"
        },
        {
         "hovertemplate": "County=Lewis County<br>WeekStartDate=%{x}<br>Age 60-79=%{y}<extra></extra>",
         "legendgroup": "Lewis County",
         "marker": {
          "color": "#B6E880",
          "symbol": "circle"
         },
         "mode": "markers",
         "name": "Lewis County",
         "orientation": "v",
         "showlegend": true,
         "type": "scatter",
         "x": [
          "2020-03-08",
          "2020-03-15",
          "2020-03-22",
          "2020-03-29",
          "2020-04-05",
          "2020-04-12",
          "2020-04-19",
          "2020-04-26",
          "2020-05-03",
          "2020-05-10",
          "2020-05-24"
         ],
         "xaxis": "x",
         "y": [
          0,
          4,
          2,
          1,
          1,
          0,
          4,
          0,
          0,
          0,
          0
         ],
         "yaxis": "y"
        },
        {
         "hovertemplate": "County=Mason County<br>WeekStartDate=%{x}<br>Age 60-79=%{y}<extra></extra>",
         "legendgroup": "Mason County",
         "marker": {
          "color": "#FF97FF",
          "symbol": "circle"
         },
         "mode": "markers",
         "name": "Mason County",
         "orientation": "v",
         "showlegend": true,
         "type": "scatter",
         "x": [
          "2020-03-08",
          "2020-03-15",
          "2020-03-22",
          "2020-03-29",
          "2020-04-12",
          "2020-04-19",
          "2020-04-26",
          "2020-05-03",
          "2020-05-10",
          "2020-05-17",
          "2020-05-24",
          "2020-05-31"
         ],
         "xaxis": "x",
         "y": [
          1,
          0,
          4,
          4,
          1,
          0,
          0,
          1,
          0,
          1,
          0,
          0
         ],
         "yaxis": "y"
        },
        {
         "hovertemplate": "County=Okanogan County<br>WeekStartDate=%{x}<br>Age 60-79=%{y}<extra></extra>",
         "legendgroup": "Okanogan County",
         "marker": {
          "color": "#FECB52",
          "symbol": "circle"
         },
         "mode": "markers",
         "name": "Okanogan County",
         "orientation": "v",
         "showlegend": true,
         "type": "scatter",
         "x": [
          "2020-03-08",
          "2020-03-15",
          "2020-03-22",
          "2020-03-29",
          "2020-04-05",
          "2020-04-12",
          "2020-04-19",
          "2020-04-26",
          "2020-05-03",
          "2020-05-10",
          "2020-05-17",
          "2020-05-24",
          "2020-05-31"
         ],
         "xaxis": "x",
         "y": [
          1,
          1,
          2,
          0,
          0,
          1,
          2,
          0,
          1,
          0,
          0,
          0,
          0
         ],
         "yaxis": "y"
        },
        {
         "hovertemplate": "County=Pacific County<br>WeekStartDate=%{x}<br>Age 60-79=%{y}<extra></extra>",
         "legendgroup": "Pacific County",
         "marker": {
          "color": "#636efa",
          "symbol": "circle"
         },
         "mode": "markers",
         "name": "Pacific County",
         "orientation": "v",
         "showlegend": true,
         "type": "scatter",
         "x": [
          "2020-03-29",
          "2020-04-05",
          "2020-04-19",
          "2020-04-26",
          "2020-05-03"
         ],
         "xaxis": "x",
         "y": [
          1,
          0,
          1,
          0,
          0
         ],
         "yaxis": "y"
        },
        {
         "hovertemplate": "County=Pierce County<br>WeekStartDate=%{x}<br>Age 60-79=%{y}<extra></extra>",
         "legendgroup": "Pierce County",
         "marker": {
          "color": "#EF553B",
          "symbol": "circle"
         },
         "mode": "markers",
         "name": "Pierce County",
         "orientation": "v",
         "showlegend": true,
         "type": "scatter",
         "x": [
          "2020-02-16",
          "2020-02-23",
          "2020-03-01",
          "2020-03-08",
          "2020-03-15",
          "2020-03-22",
          "2020-03-29",
          "2020-04-05",
          "2020-04-12",
          "2020-04-19",
          "2020-04-26",
          "2020-05-03",
          "2020-05-10",
          "2020-05-17",
          "2020-05-24",
          "2020-05-31"
         ],
         "xaxis": "x",
         "y": [
          0,
          2,
          16,
          31,
          58,
          62,
          67,
          35,
          47,
          26,
          19,
          24,
          11,
          15,
          7,
          7
         ],
         "yaxis": "y"
        },
        {
         "hovertemplate": "County=San Juan County<br>WeekStartDate=%{x}<br>Age 60-79=%{y}<extra></extra>",
         "legendgroup": "San Juan County",
         "marker": {
          "color": "#00cc96",
          "symbol": "circle"
         },
         "mode": "markers",
         "name": "San Juan County",
         "orientation": "v",
         "showlegend": true,
         "type": "scatter",
         "x": [
          "2020-03-08",
          "2020-03-15",
          "2020-03-22",
          "2020-03-29",
          "2020-04-05",
          "2020-04-12"
         ],
         "xaxis": "x",
         "y": [
          0,
          1,
          0,
          2,
          0,
          0
         ],
         "yaxis": "y"
        },
        {
         "hovertemplate": "County=Skagit County<br>WeekStartDate=%{x}<br>Age 60-79=%{y}<extra></extra>",
         "legendgroup": "Skagit County",
         "marker": {
          "color": "#ab63fa",
          "symbol": "circle"
         },
         "mode": "markers",
         "name": "Skagit County",
         "orientation": "v",
         "showlegend": true,
         "type": "scatter",
         "x": [
          "2020-02-16",
          "2020-02-23",
          "2020-03-01",
          "2020-03-08",
          "2020-03-15",
          "2020-03-22",
          "2020-03-29",
          "2020-04-05",
          "2020-04-12",
          "2020-04-19",
          "2020-04-26",
          "2020-05-03",
          "2020-05-10",
          "2020-05-17",
          "2020-05-24",
          "2020-05-31"
         ],
         "xaxis": "x",
         "y": [
          0,
          0,
          2,
          20,
          13,
          9,
          12,
          7,
          17,
          5,
          3,
          0,
          2,
          0,
          0,
          0
         ],
         "yaxis": "y"
        },
        {
         "hovertemplate": "County=Snohomish County<br>WeekStartDate=%{x}<br>Age 60-79=%{y}<extra></extra>",
         "legendgroup": "Snohomish County",
         "marker": {
          "color": "#FFA15A",
          "symbol": "circle"
         },
         "mode": "markers",
         "name": "Snohomish County",
         "orientation": "v",
         "showlegend": true,
         "type": "scatter",
         "x": [
          "2020-01-16",
          "2020-01-26",
          "2020-02-02",
          "2020-02-09",
          "2020-02-16",
          "2020-02-23",
          "2020-03-01",
          "2020-03-08",
          "2020-03-15",
          "2020-03-22",
          "2020-03-29",
          "2020-04-05",
          "2020-04-12",
          "2020-04-19",
          "2020-04-26",
          "2020-05-03",
          "2020-05-10",
          "2020-05-17",
          "2020-05-24",
          "2020-05-31"
         ],
         "xaxis": "x",
         "y": [
          0,
          0,
          1,
          1,
          6,
          17,
          69,
          85,
          114,
          78,
          53,
          40,
          43,
          29,
          27,
          23,
          11,
          21,
          10,
          6
         ],
         "yaxis": "y"
        },
        {
         "hovertemplate": "County=Spokane County<br>WeekStartDate=%{x}<br>Age 60-79=%{y}<extra></extra>",
         "legendgroup": "Spokane County",
         "marker": {
          "color": "#19d3f3",
          "symbol": "circle"
         },
         "mode": "markers",
         "name": "Spokane County",
         "orientation": "v",
         "showlegend": true,
         "type": "scatter",
         "x": [
          "2020-02-16",
          "2020-02-23",
          "2020-03-01",
          "2020-03-08",
          "2020-03-15",
          "2020-03-22",
          "2020-03-29",
          "2020-04-05",
          "2020-04-12",
          "2020-04-19",
          "2020-04-26",
          "2020-05-03",
          "2020-05-10",
          "2020-05-17",
          "2020-05-24",
          "2020-05-31"
         ],
         "xaxis": "x",
         "y": [
          1,
          0,
          2,
          17,
          26,
          17,
          15,
          7,
          7,
          9,
          6,
          2,
          3,
          12,
          5,
          10
         ],
         "yaxis": "y"
        },
        {
         "hovertemplate": "County=Stevens County<br>WeekStartDate=%{x}<br>Age 60-79=%{y}<extra></extra>",
         "legendgroup": "Stevens County",
         "marker": {
          "color": "#FF6692",
          "symbol": "circle"
         },
         "mode": "markers",
         "name": "Stevens County",
         "orientation": "v",
         "showlegend": true,
         "type": "scatter",
         "x": [
          "2020-03-01",
          "2020-03-08",
          "2020-03-15",
          "2020-03-22",
          "2020-03-29",
          "2020-04-12",
          "2020-05-10",
          "2020-05-17",
          "2020-05-24"
         ],
         "xaxis": "x",
         "y": [
          0,
          1,
          1,
          2,
          1,
          1,
          0,
          0,
          0
         ],
         "yaxis": "y"
        },
        {
         "hovertemplate": "County=Thurston County<br>WeekStartDate=%{x}<br>Age 60-79=%{y}<extra></extra>",
         "legendgroup": "Thurston County",
         "marker": {
          "color": "#B6E880",
          "symbol": "circle"
         },
         "mode": "markers",
         "name": "Thurston County",
         "orientation": "v",
         "showlegend": true,
         "type": "scatter",
         "x": [
          "2020-02-23",
          "2020-03-01",
          "2020-03-08",
          "2020-03-15",
          "2020-03-22",
          "2020-03-29",
          "2020-04-05",
          "2020-04-12",
          "2020-04-19",
          "2020-04-26",
          "2020-05-03",
          "2020-05-10",
          "2020-05-17",
          "2020-05-24",
          "2020-05-31"
         ],
         "xaxis": "x",
         "y": [
          0,
          1,
          6,
          8,
          12,
          3,
          2,
          3,
          0,
          1,
          0,
          1,
          1,
          7,
          4
         ],
         "yaxis": "y"
        },
        {
         "hovertemplate": "County=Walla Walla County<br>WeekStartDate=%{x}<br>Age 60-79=%{y}<extra></extra>",
         "legendgroup": "Walla Walla County",
         "marker": {
          "color": "#FF97FF",
          "symbol": "circle"
         },
         "mode": "markers",
         "name": "Walla Walla County",
         "orientation": "v",
         "showlegend": true,
         "type": "scatter",
         "x": [
          "2020-03-08",
          "2020-03-15",
          "2020-03-22",
          "2020-03-29",
          "2020-04-05",
          "2020-04-12",
          "2020-04-19",
          "2020-04-26",
          "2020-05-03",
          "2020-05-10",
          "2020-05-17",
          "2020-05-24",
          "2020-05-31"
         ],
         "xaxis": "x",
         "y": [
          0,
          1,
          1,
          2,
          4,
          0,
          9,
          0,
          0,
          0,
          0,
          1,
          1
         ],
         "yaxis": "y"
        },
        {
         "hovertemplate": "County=Whatcom County<br>WeekStartDate=%{x}<br>Age 60-79=%{y}<extra></extra>",
         "legendgroup": "Whatcom County",
         "marker": {
          "color": "#FECB52",
          "symbol": "circle"
         },
         "mode": "markers",
         "name": "Whatcom County",
         "orientation": "v",
         "showlegend": true,
         "type": "scatter",
         "x": [
          "2020-02-16",
          "2020-02-23",
          "2020-03-01",
          "2020-03-08",
          "2020-03-15",
          "2020-03-22",
          "2020-03-29",
          "2020-04-05",
          "2020-04-12",
          "2020-04-19",
          "2020-04-26",
          "2020-05-03",
          "2020-05-10",
          "2020-05-17",
          "2020-05-24",
          "2020-05-31"
         ],
         "xaxis": "x",
         "y": [
          1,
          0,
          3,
          5,
          12,
          20,
          10,
          9,
          2,
          2,
          1,
          3,
          2,
          1,
          0,
          1
         ],
         "yaxis": "y"
        },
        {
         "hovertemplate": "County=Whitman County<br>WeekStartDate=%{x}<br>Age 60-79=%{y}<extra></extra>",
         "legendgroup": "Whitman County",
         "marker": {
          "color": "#636efa",
          "symbol": "circle"
         },
         "mode": "markers",
         "name": "Whitman County",
         "orientation": "v",
         "showlegend": true,
         "type": "scatter",
         "x": [
          "2020-03-08",
          "2020-03-15",
          "2020-03-22",
          "2020-03-29",
          "2020-04-12",
          "2020-04-19",
          "2020-05-10",
          "2020-05-17"
         ],
         "xaxis": "x",
         "y": [
          0,
          1,
          0,
          0,
          0,
          0,
          0,
          0
         ],
         "yaxis": "y"
        },
        {
         "hovertemplate": "County=Yakima County<br>WeekStartDate=%{x}<br>Age 60-79=%{y}<extra></extra>",
         "legendgroup": "Yakima County",
         "marker": {
          "color": "#EF553B",
          "symbol": "circle"
         },
         "mode": "markers",
         "name": "Yakima County",
         "orientation": "v",
         "showlegend": true,
         "type": "scatter",
         "x": [
          "2020-01-16",
          "2020-02-09",
          "2020-02-16",
          "2020-03-01",
          "2020-03-08",
          "2020-03-15",
          "2020-03-22",
          "2020-03-29",
          "2020-04-05",
          "2020-04-12",
          "2020-04-19",
          "2020-04-26",
          "2020-05-03",
          "2020-05-10",
          "2020-05-17",
          "2020-05-24",
          "2020-05-31"
         ],
         "xaxis": "x",
         "y": [
          0,
          1,
          0,
          9,
          5,
          12,
          37,
          61,
          48,
          40,
          43,
          58,
          59,
          69,
          77,
          86,
          52
         ],
         "yaxis": "y"
        },
        {
         "hovertemplate": "County=Unassigned<br>WeekStartDate=%{x}<br>Age 60-79=%{y}<extra></extra>",
         "legendgroup": "Unassigned",
         "marker": {
          "color": "#00cc96",
          "symbol": "circle"
         },
         "mode": "markers",
         "name": "Unassigned",
         "orientation": "v",
         "showlegend": true,
         "type": "scatter",
         "x": [
          "2020-04-19",
          "2020-05-10",
          "2020-05-17",
          "2020-05-24",
          "2020-05-31"
         ],
         "xaxis": "x",
         "y": [
          0,
          0,
          0,
          0,
          2
         ],
         "yaxis": "y"
        }
       ],
       "layout": {
        "legend": {
         "title": {
          "text": "County"
         },
         "tracegroupgap": 0
        },
        "margin": {
         "t": 60
        },
        "template": {
         "data": {
          "bar": [
           {
            "error_x": {
             "color": "#2a3f5f"
            },
            "error_y": {
             "color": "#2a3f5f"
            },
            "marker": {
             "line": {
              "color": "#E5ECF6",
              "width": 0.5
             }
            },
            "type": "bar"
           }
          ],
          "barpolar": [
           {
            "marker": {
             "line": {
              "color": "#E5ECF6",
              "width": 0.5
             }
            },
            "type": "barpolar"
           }
          ],
          "carpet": [
           {
            "aaxis": {
             "endlinecolor": "#2a3f5f",
             "gridcolor": "white",
             "linecolor": "white",
             "minorgridcolor": "white",
             "startlinecolor": "#2a3f5f"
            },
            "baxis": {
             "endlinecolor": "#2a3f5f",
             "gridcolor": "white",
             "linecolor": "white",
             "minorgridcolor": "white",
             "startlinecolor": "#2a3f5f"
            },
            "type": "carpet"
           }
          ],
          "choropleth": [
           {
            "colorbar": {
             "outlinewidth": 0,
             "ticks": ""
            },
            "type": "choropleth"
           }
          ],
          "contour": [
           {
            "colorbar": {
             "outlinewidth": 0,
             "ticks": ""
            },
            "colorscale": [
             [
              0,
              "#0d0887"
             ],
             [
              0.1111111111111111,
              "#46039f"
             ],
             [
              0.2222222222222222,
              "#7201a8"
             ],
             [
              0.3333333333333333,
              "#9c179e"
             ],
             [
              0.4444444444444444,
              "#bd3786"
             ],
             [
              0.5555555555555556,
              "#d8576b"
             ],
             [
              0.6666666666666666,
              "#ed7953"
             ],
             [
              0.7777777777777778,
              "#fb9f3a"
             ],
             [
              0.8888888888888888,
              "#fdca26"
             ],
             [
              1,
              "#f0f921"
             ]
            ],
            "type": "contour"
           }
          ],
          "contourcarpet": [
           {
            "colorbar": {
             "outlinewidth": 0,
             "ticks": ""
            },
            "type": "contourcarpet"
           }
          ],
          "heatmap": [
           {
            "colorbar": {
             "outlinewidth": 0,
             "ticks": ""
            },
            "colorscale": [
             [
              0,
              "#0d0887"
             ],
             [
              0.1111111111111111,
              "#46039f"
             ],
             [
              0.2222222222222222,
              "#7201a8"
             ],
             [
              0.3333333333333333,
              "#9c179e"
             ],
             [
              0.4444444444444444,
              "#bd3786"
             ],
             [
              0.5555555555555556,
              "#d8576b"
             ],
             [
              0.6666666666666666,
              "#ed7953"
             ],
             [
              0.7777777777777778,
              "#fb9f3a"
             ],
             [
              0.8888888888888888,
              "#fdca26"
             ],
             [
              1,
              "#f0f921"
             ]
            ],
            "type": "heatmap"
           }
          ],
          "heatmapgl": [
           {
            "colorbar": {
             "outlinewidth": 0,
             "ticks": ""
            },
            "colorscale": [
             [
              0,
              "#0d0887"
             ],
             [
              0.1111111111111111,
              "#46039f"
             ],
             [
              0.2222222222222222,
              "#7201a8"
             ],
             [
              0.3333333333333333,
              "#9c179e"
             ],
             [
              0.4444444444444444,
              "#bd3786"
             ],
             [
              0.5555555555555556,
              "#d8576b"
             ],
             [
              0.6666666666666666,
              "#ed7953"
             ],
             [
              0.7777777777777778,
              "#fb9f3a"
             ],
             [
              0.8888888888888888,
              "#fdca26"
             ],
             [
              1,
              "#f0f921"
             ]
            ],
            "type": "heatmapgl"
           }
          ],
          "histogram": [
           {
            "marker": {
             "colorbar": {
              "outlinewidth": 0,
              "ticks": ""
             }
            },
            "type": "histogram"
           }
          ],
          "histogram2d": [
           {
            "colorbar": {
             "outlinewidth": 0,
             "ticks": ""
            },
            "colorscale": [
             [
              0,
              "#0d0887"
             ],
             [
              0.1111111111111111,
              "#46039f"
             ],
             [
              0.2222222222222222,
              "#7201a8"
             ],
             [
              0.3333333333333333,
              "#9c179e"
             ],
             [
              0.4444444444444444,
              "#bd3786"
             ],
             [
              0.5555555555555556,
              "#d8576b"
             ],
             [
              0.6666666666666666,
              "#ed7953"
             ],
             [
              0.7777777777777778,
              "#fb9f3a"
             ],
             [
              0.8888888888888888,
              "#fdca26"
             ],
             [
              1,
              "#f0f921"
             ]
            ],
            "type": "histogram2d"
           }
          ],
          "histogram2dcontour": [
           {
            "colorbar": {
             "outlinewidth": 0,
             "ticks": ""
            },
            "colorscale": [
             [
              0,
              "#0d0887"
             ],
             [
              0.1111111111111111,
              "#46039f"
             ],
             [
              0.2222222222222222,
              "#7201a8"
             ],
             [
              0.3333333333333333,
              "#9c179e"
             ],
             [
              0.4444444444444444,
              "#bd3786"
             ],
             [
              0.5555555555555556,
              "#d8576b"
             ],
             [
              0.6666666666666666,
              "#ed7953"
             ],
             [
              0.7777777777777778,
              "#fb9f3a"
             ],
             [
              0.8888888888888888,
              "#fdca26"
             ],
             [
              1,
              "#f0f921"
             ]
            ],
            "type": "histogram2dcontour"
           }
          ],
          "mesh3d": [
           {
            "colorbar": {
             "outlinewidth": 0,
             "ticks": ""
            },
            "type": "mesh3d"
           }
          ],
          "parcoords": [
           {
            "line": {
             "colorbar": {
              "outlinewidth": 0,
              "ticks": ""
             }
            },
            "type": "parcoords"
           }
          ],
          "pie": [
           {
            "automargin": true,
            "type": "pie"
           }
          ],
          "scatter": [
           {
            "marker": {
             "colorbar": {
              "outlinewidth": 0,
              "ticks": ""
             }
            },
            "type": "scatter"
           }
          ],
          "scatter3d": [
           {
            "line": {
             "colorbar": {
              "outlinewidth": 0,
              "ticks": ""
             }
            },
            "marker": {
             "colorbar": {
              "outlinewidth": 0,
              "ticks": ""
             }
            },
            "type": "scatter3d"
           }
          ],
          "scattercarpet": [
           {
            "marker": {
             "colorbar": {
              "outlinewidth": 0,
              "ticks": ""
             }
            },
            "type": "scattercarpet"
           }
          ],
          "scattergeo": [
           {
            "marker": {
             "colorbar": {
              "outlinewidth": 0,
              "ticks": ""
             }
            },
            "type": "scattergeo"
           }
          ],
          "scattergl": [
           {
            "marker": {
             "colorbar": {
              "outlinewidth": 0,
              "ticks": ""
             }
            },
            "type": "scattergl"
           }
          ],
          "scattermapbox": [
           {
            "marker": {
             "colorbar": {
              "outlinewidth": 0,
              "ticks": ""
             }
            },
            "type": "scattermapbox"
           }
          ],
          "scatterpolar": [
           {
            "marker": {
             "colorbar": {
              "outlinewidth": 0,
              "ticks": ""
             }
            },
            "type": "scatterpolar"
           }
          ],
          "scatterpolargl": [
           {
            "marker": {
             "colorbar": {
              "outlinewidth": 0,
              "ticks": ""
             }
            },
            "type": "scatterpolargl"
           }
          ],
          "scatterternary": [
           {
            "marker": {
             "colorbar": {
              "outlinewidth": 0,
              "ticks": ""
             }
            },
            "type": "scatterternary"
           }
          ],
          "surface": [
           {
            "colorbar": {
             "outlinewidth": 0,
             "ticks": ""
            },
            "colorscale": [
             [
              0,
              "#0d0887"
             ],
             [
              0.1111111111111111,
              "#46039f"
             ],
             [
              0.2222222222222222,
              "#7201a8"
             ],
             [
              0.3333333333333333,
              "#9c179e"
             ],
             [
              0.4444444444444444,
              "#bd3786"
             ],
             [
              0.5555555555555556,
              "#d8576b"
             ],
             [
              0.6666666666666666,
              "#ed7953"
             ],
             [
              0.7777777777777778,
              "#fb9f3a"
             ],
             [
              0.8888888888888888,
              "#fdca26"
             ],
             [
              1,
              "#f0f921"
             ]
            ],
            "type": "surface"
           }
          ],
          "table": [
           {
            "cells": {
             "fill": {
              "color": "#EBF0F8"
             },
             "line": {
              "color": "white"
             }
            },
            "header": {
             "fill": {
              "color": "#C8D4E3"
             },
             "line": {
              "color": "white"
             }
            },
            "type": "table"
           }
          ]
         },
         "layout": {
          "annotationdefaults": {
           "arrowcolor": "#2a3f5f",
           "arrowhead": 0,
           "arrowwidth": 1
          },
          "coloraxis": {
           "colorbar": {
            "outlinewidth": 0,
            "ticks": ""
           }
          },
          "colorscale": {
           "diverging": [
            [
             0,
             "#8e0152"
            ],
            [
             0.1,
             "#c51b7d"
            ],
            [
             0.2,
             "#de77ae"
            ],
            [
             0.3,
             "#f1b6da"
            ],
            [
             0.4,
             "#fde0ef"
            ],
            [
             0.5,
             "#f7f7f7"
            ],
            [
             0.6,
             "#e6f5d0"
            ],
            [
             0.7,
             "#b8e186"
            ],
            [
             0.8,
             "#7fbc41"
            ],
            [
             0.9,
             "#4d9221"
            ],
            [
             1,
             "#276419"
            ]
           ],
           "sequential": [
            [
             0,
             "#0d0887"
            ],
            [
             0.1111111111111111,
             "#46039f"
            ],
            [
             0.2222222222222222,
             "#7201a8"
            ],
            [
             0.3333333333333333,
             "#9c179e"
            ],
            [
             0.4444444444444444,
             "#bd3786"
            ],
            [
             0.5555555555555556,
             "#d8576b"
            ],
            [
             0.6666666666666666,
             "#ed7953"
            ],
            [
             0.7777777777777778,
             "#fb9f3a"
            ],
            [
             0.8888888888888888,
             "#fdca26"
            ],
            [
             1,
             "#f0f921"
            ]
           ],
           "sequentialminus": [
            [
             0,
             "#0d0887"
            ],
            [
             0.1111111111111111,
             "#46039f"
            ],
            [
             0.2222222222222222,
             "#7201a8"
            ],
            [
             0.3333333333333333,
             "#9c179e"
            ],
            [
             0.4444444444444444,
             "#bd3786"
            ],
            [
             0.5555555555555556,
             "#d8576b"
            ],
            [
             0.6666666666666666,
             "#ed7953"
            ],
            [
             0.7777777777777778,
             "#fb9f3a"
            ],
            [
             0.8888888888888888,
             "#fdca26"
            ],
            [
             1,
             "#f0f921"
            ]
           ]
          },
          "colorway": [
           "#636efa",
           "#EF553B",
           "#00cc96",
           "#ab63fa",
           "#FFA15A",
           "#19d3f3",
           "#FF6692",
           "#B6E880",
           "#FF97FF",
           "#FECB52"
          ],
          "font": {
           "color": "#2a3f5f"
          },
          "geo": {
           "bgcolor": "white",
           "lakecolor": "white",
           "landcolor": "#E5ECF6",
           "showlakes": true,
           "showland": true,
           "subunitcolor": "white"
          },
          "hoverlabel": {
           "align": "left"
          },
          "hovermode": "closest",
          "mapbox": {
           "style": "light"
          },
          "paper_bgcolor": "white",
          "plot_bgcolor": "#E5ECF6",
          "polar": {
           "angularaxis": {
            "gridcolor": "white",
            "linecolor": "white",
            "ticks": ""
           },
           "bgcolor": "#E5ECF6",
           "radialaxis": {
            "gridcolor": "white",
            "linecolor": "white",
            "ticks": ""
           }
          },
          "scene": {
           "xaxis": {
            "backgroundcolor": "#E5ECF6",
            "gridcolor": "white",
            "gridwidth": 2,
            "linecolor": "white",
            "showbackground": true,
            "ticks": "",
            "zerolinecolor": "white"
           },
           "yaxis": {
            "backgroundcolor": "#E5ECF6",
            "gridcolor": "white",
            "gridwidth": 2,
            "linecolor": "white",
            "showbackground": true,
            "ticks": "",
            "zerolinecolor": "white"
           },
           "zaxis": {
            "backgroundcolor": "#E5ECF6",
            "gridcolor": "white",
            "gridwidth": 2,
            "linecolor": "white",
            "showbackground": true,
            "ticks": "",
            "zerolinecolor": "white"
           }
          },
          "shapedefaults": {
           "line": {
            "color": "#2a3f5f"
           }
          },
          "ternary": {
           "aaxis": {
            "gridcolor": "white",
            "linecolor": "white",
            "ticks": ""
           },
           "baxis": {
            "gridcolor": "white",
            "linecolor": "white",
            "ticks": ""
           },
           "bgcolor": "#E5ECF6",
           "caxis": {
            "gridcolor": "white",
            "linecolor": "white",
            "ticks": ""
           }
          },
          "title": {
           "x": 0.05
          },
          "xaxis": {
           "automargin": true,
           "gridcolor": "white",
           "linecolor": "white",
           "ticks": "",
           "title": {
            "standoff": 15
           },
           "zerolinecolor": "white",
           "zerolinewidth": 2
          },
          "yaxis": {
           "automargin": true,
           "gridcolor": "white",
           "linecolor": "white",
           "ticks": "",
           "title": {
            "standoff": 15
           },
           "zerolinecolor": "white",
           "zerolinewidth": 2
          }
         }
        },
        "xaxis": {
         "anchor": "y",
         "domain": [
          0,
          1
         ],
         "title": {
          "text": "WeekStartDate"
         }
        },
        "yaxis": {
         "anchor": "x",
         "domain": [
          0,
          1
         ],
         "title": {
          "text": "Age 60-79"
         }
        }
       }
      },
      "text/html": [
       "<div>\n",
       "        \n",
       "        \n",
       "            <div id=\"40ea0d7d-1b98-4c9f-b031-c26468afe964\" class=\"plotly-graph-div\" style=\"height:525px; width:100%;\"></div>\n",
       "            <script type=\"text/javascript\">\n",
       "                require([\"plotly\"], function(Plotly) {\n",
       "                    window.PLOTLYENV=window.PLOTLYENV || {};\n",
       "                    \n",
       "                if (document.getElementById(\"40ea0d7d-1b98-4c9f-b031-c26468afe964\")) {\n",
       "                    Plotly.newPlot(\n",
       "                        '40ea0d7d-1b98-4c9f-b031-c26468afe964',\n",
       "                        [{\"hovertemplate\": \"County=Adams County<br>WeekStartDate=%{x}<br>Age 60-79=%{y}<extra></extra>\", \"legendgroup\": \"Adams County\", \"marker\": {\"color\": \"#636efa\", \"symbol\": \"circle\"}, \"mode\": \"markers\", \"name\": \"Adams County\", \"orientation\": \"v\", \"showlegend\": true, \"type\": \"scatter\", \"x\": [\"2020-03-08\", \"2020-03-15\", \"2020-03-22\", \"2020-03-29\", \"2020-04-05\", \"2020-04-12\", \"2020-04-19\", \"2020-04-26\", \"2020-05-03\", \"2020-05-10\", \"2020-05-17\", \"2020-05-24\", \"2020-05-31\"], \"xaxis\": \"x\", \"y\": [2, 0, 4, 3, 1, 0, 0, 0, 0, 0, 0, 2, 0], \"yaxis\": \"y\"}, {\"hovertemplate\": \"County=Asotin County<br>WeekStartDate=%{x}<br>Age 60-79=%{y}<extra></extra>\", \"legendgroup\": \"Asotin County\", \"marker\": {\"color\": \"#EF553B\", \"symbol\": \"circle\"}, \"mode\": \"markers\", \"name\": \"Asotin County\", \"orientation\": \"v\", \"showlegend\": true, \"type\": \"scatter\", \"x\": [\"2020-03-15\", \"2020-03-29\", \"2020-04-05\", \"2020-04-12\", \"2020-04-19\", \"2020-05-17\"], \"xaxis\": \"x\", \"y\": [2, 0, 1, 0, 2, 0], \"yaxis\": \"y\"}, {\"hovertemplate\": \"County=Benton County<br>WeekStartDate=%{x}<br>Age 60-79=%{y}<extra></extra>\", \"legendgroup\": \"Benton County\", \"marker\": {\"color\": \"#00cc96\", \"symbol\": \"circle\"}, \"mode\": \"markers\", \"name\": \"Benton County\", \"orientation\": \"v\", \"showlegend\": true, \"type\": \"scatter\", \"x\": [\"2020-02-16\", \"2020-03-01\", \"2020-03-08\", \"2020-03-15\", \"2020-03-22\", \"2020-03-29\", \"2020-04-05\", \"2020-04-12\", \"2020-04-19\", \"2020-04-26\", \"2020-05-03\", \"2020-05-10\", \"2020-05-17\", \"2020-05-24\", \"2020-05-31\"], \"xaxis\": \"x\", \"y\": [0, 2, 6, 10, 26, 21, 12, 9, 19, 15, 9, 6, 8, 15, 10], \"yaxis\": \"y\"}, {\"hovertemplate\": \"County=Chelan County<br>WeekStartDate=%{x}<br>Age 60-79=%{y}<extra></extra>\", \"legendgroup\": \"Chelan County\", \"marker\": {\"color\": \"#ab63fa\", \"symbol\": \"circle\"}, \"mode\": \"markers\", \"name\": \"Chelan County\", \"orientation\": \"v\", \"showlegend\": true, \"type\": \"scatter\", \"x\": [\"2020-02-09\", \"2020-03-08\", \"2020-03-15\", \"2020-03-22\", \"2020-03-29\", \"2020-04-05\", \"2020-04-12\", \"2020-04-19\", \"2020-04-26\", \"2020-05-03\", \"2020-05-10\", \"2020-05-17\", \"2020-05-24\", \"2020-05-31\"], \"xaxis\": \"x\", \"y\": [0, 1, 2, 3, 9, 1, 0, 5, 6, 1, 0, 3, 2, 1], \"yaxis\": \"y\"}, {\"hovertemplate\": \"County=Clallam County<br>WeekStartDate=%{x}<br>Age 60-79=%{y}<extra></extra>\", \"legendgroup\": \"Clallam County\", \"marker\": {\"color\": \"#FFA15A\", \"symbol\": \"circle\"}, \"mode\": \"markers\", \"name\": \"Clallam County\", \"orientation\": \"v\", \"showlegend\": true, \"type\": \"scatter\", \"x\": [\"2020-03-01\", \"2020-03-08\", \"2020-03-15\", \"2020-03-29\", \"2020-04-05\", \"2020-04-19\", \"2020-04-26\", \"2020-05-10\", \"2020-05-17\", \"2020-05-24\"], \"xaxis\": \"x\", \"y\": [2, 3, 1, 1, 0, 0, 0, 0, 0, 0], \"yaxis\": \"y\"}, {\"hovertemplate\": \"County=Clark County<br>WeekStartDate=%{x}<br>Age 60-79=%{y}<extra></extra>\", \"legendgroup\": \"Clark County\", \"marker\": {\"color\": \"#19d3f3\", \"symbol\": \"circle\"}, \"mode\": \"markers\", \"name\": \"Clark County\", \"orientation\": \"v\", \"showlegend\": true, \"type\": \"scatter\", \"x\": [\"2020-02-23\", \"2020-03-01\", \"2020-03-08\", \"2020-03-15\", \"2020-03-22\", \"2020-03-29\", \"2020-04-05\", \"2020-04-12\", \"2020-04-19\", \"2020-04-26\", \"2020-05-03\", \"2020-05-10\", \"2020-05-17\", \"2020-05-24\", \"2020-05-31\"], \"xaxis\": \"x\", \"y\": [1, 0, 11, 15, 18, 17, 16, 12, 1, 3, 1, 2, 3, 5, 4], \"yaxis\": \"y\"}, {\"hovertemplate\": \"County=Cowlitz County<br>WeekStartDate=%{x}<br>Age 60-79=%{y}<extra></extra>\", \"legendgroup\": \"Cowlitz County\", \"marker\": {\"color\": \"#FF6692\", \"symbol\": \"circle\"}, \"mode\": \"markers\", \"name\": \"Cowlitz County\", \"orientation\": \"v\", \"showlegend\": true, \"type\": \"scatter\", \"x\": [\"2020-02-23\", \"2020-03-01\", \"2020-03-08\", \"2020-03-15\", \"2020-03-22\", \"2020-03-29\", \"2020-04-05\", \"2020-04-12\", \"2020-04-19\", \"2020-04-26\", \"2020-05-03\", \"2020-05-10\", \"2020-05-17\", \"2020-05-24\", \"2020-05-31\"], \"xaxis\": \"x\", \"y\": [1, 1, 5, 3, 1, 3, 2, 6, 0, 2, 2, 0, 0, 0, 0], \"yaxis\": \"y\"}, {\"hovertemplate\": \"County=Douglas County<br>WeekStartDate=%{x}<br>Age 60-79=%{y}<extra></extra>\", \"legendgroup\": \"Douglas County\", \"marker\": {\"color\": \"#B6E880\", \"symbol\": \"circle\"}, \"mode\": \"markers\", \"name\": \"Douglas County\", \"orientation\": \"v\", \"showlegend\": true, \"type\": \"scatter\", \"x\": [\"2020-03-01\", \"2020-03-08\", \"2020-03-15\", \"2020-03-22\", \"2020-03-29\", \"2020-04-05\", \"2020-04-12\", \"2020-04-19\", \"2020-04-26\", \"2020-05-03\", \"2020-05-10\", \"2020-05-17\", \"2020-05-24\", \"2020-05-31\"], \"xaxis\": \"x\", \"y\": [0, 0, 1, 1, 0, 2, 0, 2, 4, 0, 4, 2, 1, 0], \"yaxis\": \"y\"}, {\"hovertemplate\": \"County=Franklin County<br>WeekStartDate=%{x}<br>Age 60-79=%{y}<extra></extra>\", \"legendgroup\": \"Franklin County\", \"marker\": {\"color\": \"#FF97FF\", \"symbol\": \"circle\"}, \"mode\": \"markers\", \"name\": \"Franklin County\", \"orientation\": \"v\", \"showlegend\": true, \"type\": \"scatter\", \"x\": [\"2020-02-09\", \"2020-02-23\", \"2020-03-01\", \"2020-03-08\", \"2020-03-15\", \"2020-03-22\", \"2020-03-29\", \"2020-04-05\", \"2020-04-12\", \"2020-04-19\", \"2020-04-26\", \"2020-05-03\", \"2020-05-10\", \"2020-05-17\", \"2020-05-24\", \"2020-05-31\"], \"xaxis\": \"x\", \"y\": [0, 1, 1, 1, 1, 10, 5, 14, 6, 14, 8, 8, 3, 7, 10, 16], \"yaxis\": \"y\"}, {\"hovertemplate\": \"County=Grant County<br>WeekStartDate=%{x}<br>Age 60-79=%{y}<extra></extra>\", \"legendgroup\": \"Grant County\", \"marker\": {\"color\": \"#FECB52\", \"symbol\": \"circle\"}, \"mode\": \"markers\", \"name\": \"Grant County\", \"orientation\": \"v\", \"showlegend\": true, \"type\": \"scatter\", \"x\": [\"2020-02-16\", \"2020-02-23\", \"2020-03-01\", \"2020-03-08\", \"2020-03-15\", \"2020-03-22\", \"2020-03-29\", \"2020-04-05\", \"2020-04-12\", \"2020-04-19\", \"2020-04-26\", \"2020-05-03\", \"2020-05-10\", \"2020-05-17\", \"2020-05-24\", \"2020-05-31\"], \"xaxis\": \"x\", \"y\": [0, 0, 3, 7, 9, 3, 1, 6, 1, 0, 1, 1, 0, 0, 2, 0], \"yaxis\": \"y\"}, {\"hovertemplate\": \"County=Grays Harbor County<br>WeekStartDate=%{x}<br>Age 60-79=%{y}<extra></extra>\", \"legendgroup\": \"Grays Harbor County\", \"marker\": {\"color\": \"#636efa\", \"symbol\": \"circle\"}, \"mode\": \"markers\", \"name\": \"Grays Harbor County\", \"orientation\": \"v\", \"showlegend\": true, \"type\": \"scatter\", \"x\": [\"2020-02-16\", \"2020-02-23\", \"2020-03-01\", \"2020-03-15\", \"2020-03-22\", \"2020-03-29\", \"2020-04-05\", \"2020-04-26\", \"2020-05-03\", \"2020-05-17\", \"2020-05-24\", \"2020-05-31\"], \"xaxis\": \"x\", \"y\": [1, 1, 1, 0, 0, 2, 1, 0, 2, 0, 0, 0], \"yaxis\": \"y\"}, {\"hovertemplate\": \"County=Island County<br>WeekStartDate=%{x}<br>Age 60-79=%{y}<extra></extra>\", \"legendgroup\": \"Island County\", \"marker\": {\"color\": \"#EF553B\", \"symbol\": \"circle\"}, \"mode\": \"markers\", \"name\": \"Island County\", \"orientation\": \"v\", \"showlegend\": true, \"type\": \"scatter\", \"x\": [\"2020-02-23\", \"2020-03-01\", \"2020-03-08\", \"2020-03-15\", \"2020-03-22\", \"2020-03-29\", \"2020-04-05\", \"2020-04-12\", \"2020-04-19\", \"2020-04-26\", \"2020-05-03\", \"2020-05-10\", \"2020-05-24\"], \"xaxis\": \"x\", \"y\": [1, 5, 9, 10, 14, 8, 1, 0, 0, 2, 0, 1, 0], \"yaxis\": \"y\"}, {\"hovertemplate\": \"County=Jefferson County<br>WeekStartDate=%{x}<br>Age 60-79=%{y}<extra></extra>\", \"legendgroup\": \"Jefferson County\", \"marker\": {\"color\": \"#00cc96\", \"symbol\": \"circle\"}, \"mode\": \"markers\", \"name\": \"Jefferson County\", \"orientation\": \"v\", \"showlegend\": true, \"type\": \"scatter\", \"x\": [\"2020-02-23\", \"2020-03-01\", \"2020-03-08\", \"2020-03-15\", \"2020-03-22\", \"2020-03-29\", \"2020-05-31\"], \"xaxis\": \"x\", \"y\": [1, 2, 4, 5, 1, 2, 0], \"yaxis\": \"y\"}, {\"hovertemplate\": \"County=King County<br>WeekStartDate=%{x}<br>Age 60-79=%{y}<extra></extra>\", \"legendgroup\": \"King County\", \"marker\": {\"color\": \"#ab63fa\", \"symbol\": \"circle\"}, \"mode\": \"markers\", \"name\": \"King County\", \"orientation\": \"v\", \"showlegend\": true, \"type\": \"scatter\", \"x\": [\"2020-02-02\", \"2020-02-09\", \"2020-02-16\", \"2020-02-23\", \"2020-03-01\", \"2020-03-08\", \"2020-03-15\", \"2020-03-22\", \"2020-03-29\", \"2020-04-05\", \"2020-04-12\", \"2020-04-19\", \"2020-04-26\", \"2020-05-03\", \"2020-05-10\", \"2020-05-17\", \"2020-05-24\", \"2020-05-31\"], \"xaxis\": \"x\", \"y\": [1, 2, 19, 45, 97, 233, 241, 231, 226, 185, 143, 126, 82, 63, 62, 33, 21, 21], \"yaxis\": \"y\"}, {\"hovertemplate\": \"County=Kitsap County<br>WeekStartDate=%{x}<br>Age 60-79=%{y}<extra></extra>\", \"legendgroup\": \"Kitsap County\", \"marker\": {\"color\": \"#FFA15A\", \"symbol\": \"circle\"}, \"mode\": \"markers\", \"name\": \"Kitsap County\", \"orientation\": \"v\", \"showlegend\": true, \"type\": \"scatter\", \"x\": [\"2020-02-16\", \"2020-02-23\", \"2020-03-01\", \"2020-03-08\", \"2020-03-15\", \"2020-03-22\", \"2020-03-29\", \"2020-04-05\", \"2020-04-12\", \"2020-04-19\", \"2020-04-26\", \"2020-05-03\", \"2020-05-10\", \"2020-05-24\", \"2020-05-31\"], \"xaxis\": \"x\", \"y\": [0, 1, 0, 6, 8, 6, 6, 3, 0, 0, 1, 1, 0, 0, 0], \"yaxis\": \"y\"}, {\"hovertemplate\": \"County=Kittitas County<br>WeekStartDate=%{x}<br>Age 60-79=%{y}<extra></extra>\", \"legendgroup\": \"Kittitas County\", \"marker\": {\"color\": \"#19d3f3\", \"symbol\": \"circle\"}, \"mode\": \"markers\", \"name\": \"Kittitas County\", \"orientation\": \"v\", \"showlegend\": true, \"type\": \"scatter\", \"x\": [\"2020-01-26\", \"2020-02-16\", \"2020-03-08\", \"2020-03-15\", \"2020-03-22\", \"2020-03-29\", \"2020-04-05\", \"2020-04-19\", \"2020-04-26\", \"2020-05-03\", \"2020-05-10\", \"2020-05-17\", \"2020-05-24\", \"2020-05-31\"], \"xaxis\": \"x\", \"y\": [1, 3, 0, 1, 0, 1, 1, 0, 0, 4, 0, 1, 1, 0], \"yaxis\": \"y\"}, {\"hovertemplate\": \"County=Klickitat County<br>WeekStartDate=%{x}<br>Age 60-79=%{y}<extra></extra>\", \"legendgroup\": \"Klickitat County\", \"marker\": {\"color\": \"#FF6692\", \"symbol\": \"circle\"}, \"mode\": \"markers\", \"name\": \"Klickitat County\", \"orientation\": \"v\", \"showlegend\": true, \"type\": \"scatter\", \"x\": [\"2020-03-01\", \"2020-03-15\", \"2020-03-22\", \"2020-03-29\", \"2020-04-05\", \"2020-04-19\", \"2020-04-26\", \"2020-05-03\", \"2020-05-10\", \"2020-05-17\", \"2020-05-24\", \"2020-05-31\"], \"xaxis\": \"x\", \"y\": [1, 6, 0, 1, 1, 1, 1, 0, 1, 0, 0, 3], \"yaxis\": \"y\"}, {\"hovertemplate\": \"County=Lewis County<br>WeekStartDate=%{x}<br>Age 60-79=%{y}<extra></extra>\", \"legendgroup\": \"Lewis County\", \"marker\": {\"color\": \"#B6E880\", \"symbol\": \"circle\"}, \"mode\": \"markers\", \"name\": \"Lewis County\", \"orientation\": \"v\", \"showlegend\": true, \"type\": \"scatter\", \"x\": [\"2020-03-08\", \"2020-03-15\", \"2020-03-22\", \"2020-03-29\", \"2020-04-05\", \"2020-04-12\", \"2020-04-19\", \"2020-04-26\", \"2020-05-03\", \"2020-05-10\", \"2020-05-24\"], \"xaxis\": \"x\", \"y\": [0, 4, 2, 1, 1, 0, 4, 0, 0, 0, 0], \"yaxis\": \"y\"}, {\"hovertemplate\": \"County=Mason County<br>WeekStartDate=%{x}<br>Age 60-79=%{y}<extra></extra>\", \"legendgroup\": \"Mason County\", \"marker\": {\"color\": \"#FF97FF\", \"symbol\": \"circle\"}, \"mode\": \"markers\", \"name\": \"Mason County\", \"orientation\": \"v\", \"showlegend\": true, \"type\": \"scatter\", \"x\": [\"2020-03-08\", \"2020-03-15\", \"2020-03-22\", \"2020-03-29\", \"2020-04-12\", \"2020-04-19\", \"2020-04-26\", \"2020-05-03\", \"2020-05-10\", \"2020-05-17\", \"2020-05-24\", \"2020-05-31\"], \"xaxis\": \"x\", \"y\": [1, 0, 4, 4, 1, 0, 0, 1, 0, 1, 0, 0], \"yaxis\": \"y\"}, {\"hovertemplate\": \"County=Okanogan County<br>WeekStartDate=%{x}<br>Age 60-79=%{y}<extra></extra>\", \"legendgroup\": \"Okanogan County\", \"marker\": {\"color\": \"#FECB52\", \"symbol\": \"circle\"}, \"mode\": \"markers\", \"name\": \"Okanogan County\", \"orientation\": \"v\", \"showlegend\": true, \"type\": \"scatter\", \"x\": [\"2020-03-08\", \"2020-03-15\", \"2020-03-22\", \"2020-03-29\", \"2020-04-05\", \"2020-04-12\", \"2020-04-19\", \"2020-04-26\", \"2020-05-03\", \"2020-05-10\", \"2020-05-17\", \"2020-05-24\", \"2020-05-31\"], \"xaxis\": \"x\", \"y\": [1, 1, 2, 0, 0, 1, 2, 0, 1, 0, 0, 0, 0], \"yaxis\": \"y\"}, {\"hovertemplate\": \"County=Pacific County<br>WeekStartDate=%{x}<br>Age 60-79=%{y}<extra></extra>\", \"legendgroup\": \"Pacific County\", \"marker\": {\"color\": \"#636efa\", \"symbol\": \"circle\"}, \"mode\": \"markers\", \"name\": \"Pacific County\", \"orientation\": \"v\", \"showlegend\": true, \"type\": \"scatter\", \"x\": [\"2020-03-29\", \"2020-04-05\", \"2020-04-19\", \"2020-04-26\", \"2020-05-03\"], \"xaxis\": \"x\", \"y\": [1, 0, 1, 0, 0], \"yaxis\": \"y\"}, {\"hovertemplate\": \"County=Pierce County<br>WeekStartDate=%{x}<br>Age 60-79=%{y}<extra></extra>\", \"legendgroup\": \"Pierce County\", \"marker\": {\"color\": \"#EF553B\", \"symbol\": \"circle\"}, \"mode\": \"markers\", \"name\": \"Pierce County\", \"orientation\": \"v\", \"showlegend\": true, \"type\": \"scatter\", \"x\": [\"2020-02-16\", \"2020-02-23\", \"2020-03-01\", \"2020-03-08\", \"2020-03-15\", \"2020-03-22\", \"2020-03-29\", \"2020-04-05\", \"2020-04-12\", \"2020-04-19\", \"2020-04-26\", \"2020-05-03\", \"2020-05-10\", \"2020-05-17\", \"2020-05-24\", \"2020-05-31\"], \"xaxis\": \"x\", \"y\": [0, 2, 16, 31, 58, 62, 67, 35, 47, 26, 19, 24, 11, 15, 7, 7], \"yaxis\": \"y\"}, {\"hovertemplate\": \"County=San Juan County<br>WeekStartDate=%{x}<br>Age 60-79=%{y}<extra></extra>\", \"legendgroup\": \"San Juan County\", \"marker\": {\"color\": \"#00cc96\", \"symbol\": \"circle\"}, \"mode\": \"markers\", \"name\": \"San Juan County\", \"orientation\": \"v\", \"showlegend\": true, \"type\": \"scatter\", \"x\": [\"2020-03-08\", \"2020-03-15\", \"2020-03-22\", \"2020-03-29\", \"2020-04-05\", \"2020-04-12\"], \"xaxis\": \"x\", \"y\": [0, 1, 0, 2, 0, 0], \"yaxis\": \"y\"}, {\"hovertemplate\": \"County=Skagit County<br>WeekStartDate=%{x}<br>Age 60-79=%{y}<extra></extra>\", \"legendgroup\": \"Skagit County\", \"marker\": {\"color\": \"#ab63fa\", \"symbol\": \"circle\"}, \"mode\": \"markers\", \"name\": \"Skagit County\", \"orientation\": \"v\", \"showlegend\": true, \"type\": \"scatter\", \"x\": [\"2020-02-16\", \"2020-02-23\", \"2020-03-01\", \"2020-03-08\", \"2020-03-15\", \"2020-03-22\", \"2020-03-29\", \"2020-04-05\", \"2020-04-12\", \"2020-04-19\", \"2020-04-26\", \"2020-05-03\", \"2020-05-10\", \"2020-05-17\", \"2020-05-24\", \"2020-05-31\"], \"xaxis\": \"x\", \"y\": [0, 0, 2, 20, 13, 9, 12, 7, 17, 5, 3, 0, 2, 0, 0, 0], \"yaxis\": \"y\"}, {\"hovertemplate\": \"County=Snohomish County<br>WeekStartDate=%{x}<br>Age 60-79=%{y}<extra></extra>\", \"legendgroup\": \"Snohomish County\", \"marker\": {\"color\": \"#FFA15A\", \"symbol\": \"circle\"}, \"mode\": \"markers\", \"name\": \"Snohomish County\", \"orientation\": \"v\", \"showlegend\": true, \"type\": \"scatter\", \"x\": [\"2020-01-16\", \"2020-01-26\", \"2020-02-02\", \"2020-02-09\", \"2020-02-16\", \"2020-02-23\", \"2020-03-01\", \"2020-03-08\", \"2020-03-15\", \"2020-03-22\", \"2020-03-29\", \"2020-04-05\", \"2020-04-12\", \"2020-04-19\", \"2020-04-26\", \"2020-05-03\", \"2020-05-10\", \"2020-05-17\", \"2020-05-24\", \"2020-05-31\"], \"xaxis\": \"x\", \"y\": [0, 0, 1, 1, 6, 17, 69, 85, 114, 78, 53, 40, 43, 29, 27, 23, 11, 21, 10, 6], \"yaxis\": \"y\"}, {\"hovertemplate\": \"County=Spokane County<br>WeekStartDate=%{x}<br>Age 60-79=%{y}<extra></extra>\", \"legendgroup\": \"Spokane County\", \"marker\": {\"color\": \"#19d3f3\", \"symbol\": \"circle\"}, \"mode\": \"markers\", \"name\": \"Spokane County\", \"orientation\": \"v\", \"showlegend\": true, \"type\": \"scatter\", \"x\": [\"2020-02-16\", \"2020-02-23\", \"2020-03-01\", \"2020-03-08\", \"2020-03-15\", \"2020-03-22\", \"2020-03-29\", \"2020-04-05\", \"2020-04-12\", \"2020-04-19\", \"2020-04-26\", \"2020-05-03\", \"2020-05-10\", \"2020-05-17\", \"2020-05-24\", \"2020-05-31\"], \"xaxis\": \"x\", \"y\": [1, 0, 2, 17, 26, 17, 15, 7, 7, 9, 6, 2, 3, 12, 5, 10], \"yaxis\": \"y\"}, {\"hovertemplate\": \"County=Stevens County<br>WeekStartDate=%{x}<br>Age 60-79=%{y}<extra></extra>\", \"legendgroup\": \"Stevens County\", \"marker\": {\"color\": \"#FF6692\", \"symbol\": \"circle\"}, \"mode\": \"markers\", \"name\": \"Stevens County\", \"orientation\": \"v\", \"showlegend\": true, \"type\": \"scatter\", \"x\": [\"2020-03-01\", \"2020-03-08\", \"2020-03-15\", \"2020-03-22\", \"2020-03-29\", \"2020-04-12\", \"2020-05-10\", \"2020-05-17\", \"2020-05-24\"], \"xaxis\": \"x\", \"y\": [0, 1, 1, 2, 1, 1, 0, 0, 0], \"yaxis\": \"y\"}, {\"hovertemplate\": \"County=Thurston County<br>WeekStartDate=%{x}<br>Age 60-79=%{y}<extra></extra>\", \"legendgroup\": \"Thurston County\", \"marker\": {\"color\": \"#B6E880\", \"symbol\": \"circle\"}, \"mode\": \"markers\", \"name\": \"Thurston County\", \"orientation\": \"v\", \"showlegend\": true, \"type\": \"scatter\", \"x\": [\"2020-02-23\", \"2020-03-01\", \"2020-03-08\", \"2020-03-15\", \"2020-03-22\", \"2020-03-29\", \"2020-04-05\", \"2020-04-12\", \"2020-04-19\", \"2020-04-26\", \"2020-05-03\", \"2020-05-10\", \"2020-05-17\", \"2020-05-24\", \"2020-05-31\"], \"xaxis\": \"x\", \"y\": [0, 1, 6, 8, 12, 3, 2, 3, 0, 1, 0, 1, 1, 7, 4], \"yaxis\": \"y\"}, {\"hovertemplate\": \"County=Walla Walla County<br>WeekStartDate=%{x}<br>Age 60-79=%{y}<extra></extra>\", \"legendgroup\": \"Walla Walla County\", \"marker\": {\"color\": \"#FF97FF\", \"symbol\": \"circle\"}, \"mode\": \"markers\", \"name\": \"Walla Walla County\", \"orientation\": \"v\", \"showlegend\": true, \"type\": \"scatter\", \"x\": [\"2020-03-08\", \"2020-03-15\", \"2020-03-22\", \"2020-03-29\", \"2020-04-05\", \"2020-04-12\", \"2020-04-19\", \"2020-04-26\", \"2020-05-03\", \"2020-05-10\", \"2020-05-17\", \"2020-05-24\", \"2020-05-31\"], \"xaxis\": \"x\", \"y\": [0, 1, 1, 2, 4, 0, 9, 0, 0, 0, 0, 1, 1], \"yaxis\": \"y\"}, {\"hovertemplate\": \"County=Whatcom County<br>WeekStartDate=%{x}<br>Age 60-79=%{y}<extra></extra>\", \"legendgroup\": \"Whatcom County\", \"marker\": {\"color\": \"#FECB52\", \"symbol\": \"circle\"}, \"mode\": \"markers\", \"name\": \"Whatcom County\", \"orientation\": \"v\", \"showlegend\": true, \"type\": \"scatter\", \"x\": [\"2020-02-16\", \"2020-02-23\", \"2020-03-01\", \"2020-03-08\", \"2020-03-15\", \"2020-03-22\", \"2020-03-29\", \"2020-04-05\", \"2020-04-12\", \"2020-04-19\", \"2020-04-26\", \"2020-05-03\", \"2020-05-10\", \"2020-05-17\", \"2020-05-24\", \"2020-05-31\"], \"xaxis\": \"x\", \"y\": [1, 0, 3, 5, 12, 20, 10, 9, 2, 2, 1, 3, 2, 1, 0, 1], \"yaxis\": \"y\"}, {\"hovertemplate\": \"County=Whitman County<br>WeekStartDate=%{x}<br>Age 60-79=%{y}<extra></extra>\", \"legendgroup\": \"Whitman County\", \"marker\": {\"color\": \"#636efa\", \"symbol\": \"circle\"}, \"mode\": \"markers\", \"name\": \"Whitman County\", \"orientation\": \"v\", \"showlegend\": true, \"type\": \"scatter\", \"x\": [\"2020-03-08\", \"2020-03-15\", \"2020-03-22\", \"2020-03-29\", \"2020-04-12\", \"2020-04-19\", \"2020-05-10\", \"2020-05-17\"], \"xaxis\": \"x\", \"y\": [0, 1, 0, 0, 0, 0, 0, 0], \"yaxis\": \"y\"}, {\"hovertemplate\": \"County=Yakima County<br>WeekStartDate=%{x}<br>Age 60-79=%{y}<extra></extra>\", \"legendgroup\": \"Yakima County\", \"marker\": {\"color\": \"#EF553B\", \"symbol\": \"circle\"}, \"mode\": \"markers\", \"name\": \"Yakima County\", \"orientation\": \"v\", \"showlegend\": true, \"type\": \"scatter\", \"x\": [\"2020-01-16\", \"2020-02-09\", \"2020-02-16\", \"2020-03-01\", \"2020-03-08\", \"2020-03-15\", \"2020-03-22\", \"2020-03-29\", \"2020-04-05\", \"2020-04-12\", \"2020-04-19\", \"2020-04-26\", \"2020-05-03\", \"2020-05-10\", \"2020-05-17\", \"2020-05-24\", \"2020-05-31\"], \"xaxis\": \"x\", \"y\": [0, 1, 0, 9, 5, 12, 37, 61, 48, 40, 43, 58, 59, 69, 77, 86, 52], \"yaxis\": \"y\"}, {\"hovertemplate\": \"County=Unassigned<br>WeekStartDate=%{x}<br>Age 60-79=%{y}<extra></extra>\", \"legendgroup\": \"Unassigned\", \"marker\": {\"color\": \"#00cc96\", \"symbol\": \"circle\"}, \"mode\": \"markers\", \"name\": \"Unassigned\", \"orientation\": \"v\", \"showlegend\": true, \"type\": \"scatter\", \"x\": [\"2020-04-19\", \"2020-05-10\", \"2020-05-17\", \"2020-05-24\", \"2020-05-31\"], \"xaxis\": \"x\", \"y\": [0, 0, 0, 0, 2], \"yaxis\": \"y\"}],\n",
       "                        {\"legend\": {\"title\": {\"text\": \"County\"}, \"tracegroupgap\": 0}, \"margin\": {\"t\": 60}, \"template\": {\"data\": {\"bar\": [{\"error_x\": {\"color\": \"#2a3f5f\"}, \"error_y\": {\"color\": \"#2a3f5f\"}, \"marker\": {\"line\": {\"color\": \"#E5ECF6\", \"width\": 0.5}}, \"type\": \"bar\"}], \"barpolar\": [{\"marker\": {\"line\": {\"color\": \"#E5ECF6\", \"width\": 0.5}}, \"type\": \"barpolar\"}], \"carpet\": [{\"aaxis\": {\"endlinecolor\": \"#2a3f5f\", \"gridcolor\": \"white\", \"linecolor\": \"white\", \"minorgridcolor\": \"white\", \"startlinecolor\": \"#2a3f5f\"}, \"baxis\": {\"endlinecolor\": \"#2a3f5f\", \"gridcolor\": \"white\", \"linecolor\": \"white\", \"minorgridcolor\": \"white\", \"startlinecolor\": \"#2a3f5f\"}, \"type\": \"carpet\"}], \"choropleth\": [{\"colorbar\": {\"outlinewidth\": 0, \"ticks\": \"\"}, \"type\": \"choropleth\"}], \"contour\": [{\"colorbar\": {\"outlinewidth\": 0, \"ticks\": \"\"}, \"colorscale\": [[0.0, \"#0d0887\"], [0.1111111111111111, \"#46039f\"], [0.2222222222222222, \"#7201a8\"], [0.3333333333333333, \"#9c179e\"], [0.4444444444444444, \"#bd3786\"], [0.5555555555555556, \"#d8576b\"], [0.6666666666666666, \"#ed7953\"], [0.7777777777777778, \"#fb9f3a\"], [0.8888888888888888, \"#fdca26\"], [1.0, \"#f0f921\"]], \"type\": \"contour\"}], \"contourcarpet\": [{\"colorbar\": {\"outlinewidth\": 0, \"ticks\": \"\"}, \"type\": \"contourcarpet\"}], \"heatmap\": [{\"colorbar\": {\"outlinewidth\": 0, \"ticks\": \"\"}, \"colorscale\": [[0.0, \"#0d0887\"], [0.1111111111111111, \"#46039f\"], [0.2222222222222222, \"#7201a8\"], [0.3333333333333333, \"#9c179e\"], [0.4444444444444444, \"#bd3786\"], [0.5555555555555556, \"#d8576b\"], [0.6666666666666666, \"#ed7953\"], [0.7777777777777778, \"#fb9f3a\"], [0.8888888888888888, \"#fdca26\"], [1.0, \"#f0f921\"]], \"type\": \"heatmap\"}], \"heatmapgl\": [{\"colorbar\": {\"outlinewidth\": 0, \"ticks\": \"\"}, \"colorscale\": [[0.0, \"#0d0887\"], [0.1111111111111111, \"#46039f\"], [0.2222222222222222, \"#7201a8\"], [0.3333333333333333, \"#9c179e\"], [0.4444444444444444, \"#bd3786\"], [0.5555555555555556, \"#d8576b\"], [0.6666666666666666, \"#ed7953\"], [0.7777777777777778, \"#fb9f3a\"], [0.8888888888888888, \"#fdca26\"], [1.0, \"#f0f921\"]], \"type\": \"heatmapgl\"}], \"histogram\": [{\"marker\": {\"colorbar\": {\"outlinewidth\": 0, \"ticks\": \"\"}}, \"type\": \"histogram\"}], \"histogram2d\": [{\"colorbar\": {\"outlinewidth\": 0, \"ticks\": \"\"}, \"colorscale\": [[0.0, \"#0d0887\"], [0.1111111111111111, \"#46039f\"], [0.2222222222222222, \"#7201a8\"], [0.3333333333333333, \"#9c179e\"], [0.4444444444444444, \"#bd3786\"], [0.5555555555555556, \"#d8576b\"], [0.6666666666666666, \"#ed7953\"], [0.7777777777777778, \"#fb9f3a\"], [0.8888888888888888, \"#fdca26\"], [1.0, \"#f0f921\"]], \"type\": \"histogram2d\"}], \"histogram2dcontour\": [{\"colorbar\": {\"outlinewidth\": 0, \"ticks\": \"\"}, \"colorscale\": [[0.0, \"#0d0887\"], [0.1111111111111111, \"#46039f\"], [0.2222222222222222, \"#7201a8\"], [0.3333333333333333, \"#9c179e\"], [0.4444444444444444, \"#bd3786\"], [0.5555555555555556, \"#d8576b\"], [0.6666666666666666, \"#ed7953\"], [0.7777777777777778, \"#fb9f3a\"], [0.8888888888888888, \"#fdca26\"], [1.0, \"#f0f921\"]], \"type\": \"histogram2dcontour\"}], \"mesh3d\": [{\"colorbar\": {\"outlinewidth\": 0, \"ticks\": \"\"}, \"type\": \"mesh3d\"}], \"parcoords\": [{\"line\": {\"colorbar\": {\"outlinewidth\": 0, \"ticks\": \"\"}}, \"type\": \"parcoords\"}], \"pie\": [{\"automargin\": true, \"type\": \"pie\"}], \"scatter\": [{\"marker\": {\"colorbar\": {\"outlinewidth\": 0, \"ticks\": \"\"}}, \"type\": \"scatter\"}], \"scatter3d\": [{\"line\": {\"colorbar\": {\"outlinewidth\": 0, \"ticks\": \"\"}}, \"marker\": {\"colorbar\": {\"outlinewidth\": 0, \"ticks\": \"\"}}, \"type\": \"scatter3d\"}], \"scattercarpet\": [{\"marker\": {\"colorbar\": {\"outlinewidth\": 0, \"ticks\": \"\"}}, \"type\": \"scattercarpet\"}], \"scattergeo\": [{\"marker\": {\"colorbar\": {\"outlinewidth\": 0, \"ticks\": \"\"}}, \"type\": \"scattergeo\"}], \"scattergl\": [{\"marker\": {\"colorbar\": {\"outlinewidth\": 0, \"ticks\": \"\"}}, \"type\": \"scattergl\"}], \"scattermapbox\": [{\"marker\": {\"colorbar\": {\"outlinewidth\": 0, \"ticks\": \"\"}}, \"type\": \"scattermapbox\"}], \"scatterpolar\": [{\"marker\": {\"colorbar\": {\"outlinewidth\": 0, \"ticks\": \"\"}}, \"type\": \"scatterpolar\"}], \"scatterpolargl\": [{\"marker\": {\"colorbar\": {\"outlinewidth\": 0, \"ticks\": \"\"}}, \"type\": \"scatterpolargl\"}], \"scatterternary\": [{\"marker\": {\"colorbar\": {\"outlinewidth\": 0, \"ticks\": \"\"}}, \"type\": \"scatterternary\"}], \"surface\": [{\"colorbar\": {\"outlinewidth\": 0, \"ticks\": \"\"}, \"colorscale\": [[0.0, \"#0d0887\"], [0.1111111111111111, \"#46039f\"], [0.2222222222222222, \"#7201a8\"], [0.3333333333333333, \"#9c179e\"], [0.4444444444444444, \"#bd3786\"], [0.5555555555555556, \"#d8576b\"], [0.6666666666666666, \"#ed7953\"], [0.7777777777777778, \"#fb9f3a\"], [0.8888888888888888, \"#fdca26\"], [1.0, \"#f0f921\"]], \"type\": \"surface\"}], \"table\": [{\"cells\": {\"fill\": {\"color\": \"#EBF0F8\"}, \"line\": {\"color\": \"white\"}}, \"header\": {\"fill\": {\"color\": \"#C8D4E3\"}, \"line\": {\"color\": \"white\"}}, \"type\": \"table\"}]}, \"layout\": {\"annotationdefaults\": {\"arrowcolor\": \"#2a3f5f\", \"arrowhead\": 0, \"arrowwidth\": 1}, \"coloraxis\": {\"colorbar\": {\"outlinewidth\": 0, \"ticks\": \"\"}}, \"colorscale\": {\"diverging\": [[0, \"#8e0152\"], [0.1, \"#c51b7d\"], [0.2, \"#de77ae\"], [0.3, \"#f1b6da\"], [0.4, \"#fde0ef\"], [0.5, \"#f7f7f7\"], [0.6, \"#e6f5d0\"], [0.7, \"#b8e186\"], [0.8, \"#7fbc41\"], [0.9, \"#4d9221\"], [1, \"#276419\"]], \"sequential\": [[0.0, \"#0d0887\"], [0.1111111111111111, \"#46039f\"], [0.2222222222222222, \"#7201a8\"], [0.3333333333333333, \"#9c179e\"], [0.4444444444444444, \"#bd3786\"], [0.5555555555555556, \"#d8576b\"], [0.6666666666666666, \"#ed7953\"], [0.7777777777777778, \"#fb9f3a\"], [0.8888888888888888, \"#fdca26\"], [1.0, \"#f0f921\"]], \"sequentialminus\": [[0.0, \"#0d0887\"], [0.1111111111111111, \"#46039f\"], [0.2222222222222222, \"#7201a8\"], [0.3333333333333333, \"#9c179e\"], [0.4444444444444444, \"#bd3786\"], [0.5555555555555556, \"#d8576b\"], [0.6666666666666666, \"#ed7953\"], [0.7777777777777778, \"#fb9f3a\"], [0.8888888888888888, \"#fdca26\"], [1.0, \"#f0f921\"]]}, \"colorway\": [\"#636efa\", \"#EF553B\", \"#00cc96\", \"#ab63fa\", \"#FFA15A\", \"#19d3f3\", \"#FF6692\", \"#B6E880\", \"#FF97FF\", \"#FECB52\"], \"font\": {\"color\": \"#2a3f5f\"}, \"geo\": {\"bgcolor\": \"white\", \"lakecolor\": \"white\", \"landcolor\": \"#E5ECF6\", \"showlakes\": true, \"showland\": true, \"subunitcolor\": \"white\"}, \"hoverlabel\": {\"align\": \"left\"}, \"hovermode\": \"closest\", \"mapbox\": {\"style\": \"light\"}, \"paper_bgcolor\": \"white\", \"plot_bgcolor\": \"#E5ECF6\", \"polar\": {\"angularaxis\": {\"gridcolor\": \"white\", \"linecolor\": \"white\", \"ticks\": \"\"}, \"bgcolor\": \"#E5ECF6\", \"radialaxis\": {\"gridcolor\": \"white\", \"linecolor\": \"white\", \"ticks\": \"\"}}, \"scene\": {\"xaxis\": {\"backgroundcolor\": \"#E5ECF6\", \"gridcolor\": \"white\", \"gridwidth\": 2, \"linecolor\": \"white\", \"showbackground\": true, \"ticks\": \"\", \"zerolinecolor\": \"white\"}, \"yaxis\": {\"backgroundcolor\": \"#E5ECF6\", \"gridcolor\": \"white\", \"gridwidth\": 2, \"linecolor\": \"white\", \"showbackground\": true, \"ticks\": \"\", \"zerolinecolor\": \"white\"}, \"zaxis\": {\"backgroundcolor\": \"#E5ECF6\", \"gridcolor\": \"white\", \"gridwidth\": 2, \"linecolor\": \"white\", \"showbackground\": true, \"ticks\": \"\", \"zerolinecolor\": \"white\"}}, \"shapedefaults\": {\"line\": {\"color\": \"#2a3f5f\"}}, \"ternary\": {\"aaxis\": {\"gridcolor\": \"white\", \"linecolor\": \"white\", \"ticks\": \"\"}, \"baxis\": {\"gridcolor\": \"white\", \"linecolor\": \"white\", \"ticks\": \"\"}, \"bgcolor\": \"#E5ECF6\", \"caxis\": {\"gridcolor\": \"white\", \"linecolor\": \"white\", \"ticks\": \"\"}}, \"title\": {\"x\": 0.05}, \"xaxis\": {\"automargin\": true, \"gridcolor\": \"white\", \"linecolor\": \"white\", \"ticks\": \"\", \"title\": {\"standoff\": 15}, \"zerolinecolor\": \"white\", \"zerolinewidth\": 2}, \"yaxis\": {\"automargin\": true, \"gridcolor\": \"white\", \"linecolor\": \"white\", \"ticks\": \"\", \"title\": {\"standoff\": 15}, \"zerolinecolor\": \"white\", \"zerolinewidth\": 2}}}, \"xaxis\": {\"anchor\": \"y\", \"domain\": [0.0, 1.0], \"title\": {\"text\": \"WeekStartDate\"}}, \"yaxis\": {\"anchor\": \"x\", \"domain\": [0.0, 1.0], \"title\": {\"text\": \"Age 60-79\"}}},\n",
       "                        {\"responsive\": true}\n",
       "                    ).then(function(){\n",
       "                            \n",
       "var gd = document.getElementById('40ea0d7d-1b98-4c9f-b031-c26468afe964');\n",
       "var x = new MutationObserver(function (mutations, observer) {{\n",
       "        var display = window.getComputedStyle(gd).display;\n",
       "        if (!display || display === 'none') {{\n",
       "            console.log([gd, 'removed!']);\n",
       "            Plotly.purge(gd);\n",
       "            observer.disconnect();\n",
       "        }}\n",
       "}});\n",
       "\n",
       "// Listen for the removal of the full notebook cells\n",
       "var notebookContainer = gd.closest('#notebook-container');\n",
       "if (notebookContainer) {{\n",
       "    x.observe(notebookContainer, {childList: true});\n",
       "}}\n",
       "\n",
       "// Listen for the clearing of the current output cell\n",
       "var outputEl = gd.closest('.output');\n",
       "if (outputEl) {{\n",
       "    x.observe(outputEl, {childList: true});\n",
       "}}\n",
       "\n",
       "                        })\n",
       "                };\n",
       "                });\n",
       "            </script>\n",
       "        </div>"
      ]
     },
     "metadata": {},
     "output_type": "display_data"
    }
   ],
   "source": [
    "px.scatter(df, x=\"WeekStartDate\", y='Age 60-79', color='County')"
   ]
  },
  {
   "cell_type": "code",
   "execution_count": 33,
   "metadata": {},
   "outputs": [
    {
     "data": {
      "application/vnd.plotly.v1+json": {
       "config": {
        "plotlyServerURL": "https://plot.ly"
       },
       "data": [
        {
         "hovertemplate": "County=Adams County<br>WeekStartDate=%{x}<br>Age 80+=%{y}<extra></extra>",
         "legendgroup": "Adams County",
         "marker": {
          "color": "#636efa",
          "symbol": "circle"
         },
         "mode": "markers",
         "name": "Adams County",
         "orientation": "v",
         "showlegend": true,
         "type": "scatter",
         "x": [
          "2020-03-08",
          "2020-03-15",
          "2020-03-22",
          "2020-03-29",
          "2020-04-05",
          "2020-04-12",
          "2020-04-19",
          "2020-04-26",
          "2020-05-03",
          "2020-05-10",
          "2020-05-17",
          "2020-05-24",
          "2020-05-31"
         ],
         "xaxis": "x",
         "y": [
          0,
          0,
          0,
          0,
          0,
          0,
          0,
          0,
          0,
          0,
          0,
          0,
          0
         ],
         "yaxis": "y"
        },
        {
         "hovertemplate": "County=Asotin County<br>WeekStartDate=%{x}<br>Age 80+=%{y}<extra></extra>",
         "legendgroup": "Asotin County",
         "marker": {
          "color": "#EF553B",
          "symbol": "circle"
         },
         "mode": "markers",
         "name": "Asotin County",
         "orientation": "v",
         "showlegend": true,
         "type": "scatter",
         "x": [
          "2020-03-15",
          "2020-03-29",
          "2020-04-05",
          "2020-04-12",
          "2020-04-19",
          "2020-05-17"
         ],
         "xaxis": "x",
         "y": [
          0,
          0,
          1,
          0,
          1,
          0
         ],
         "yaxis": "y"
        },
        {
         "hovertemplate": "County=Benton County<br>WeekStartDate=%{x}<br>Age 80+=%{y}<extra></extra>",
         "legendgroup": "Benton County",
         "marker": {
          "color": "#00cc96",
          "symbol": "circle"
         },
         "mode": "markers",
         "name": "Benton County",
         "orientation": "v",
         "showlegend": true,
         "type": "scatter",
         "x": [
          "2020-02-16",
          "2020-03-01",
          "2020-03-08",
          "2020-03-15",
          "2020-03-22",
          "2020-03-29",
          "2020-04-05",
          "2020-04-12",
          "2020-04-19",
          "2020-04-26",
          "2020-05-03",
          "2020-05-10",
          "2020-05-17",
          "2020-05-24",
          "2020-05-31"
         ],
         "xaxis": "x",
         "y": [
          0,
          4,
          4,
          13,
          26,
          12,
          2,
          2,
          13,
          8,
          3,
          1,
          14,
          7,
          2
         ],
         "yaxis": "y"
        },
        {
         "hovertemplate": "County=Chelan County<br>WeekStartDate=%{x}<br>Age 80+=%{y}<extra></extra>",
         "legendgroup": "Chelan County",
         "marker": {
          "color": "#ab63fa",
          "symbol": "circle"
         },
         "mode": "markers",
         "name": "Chelan County",
         "orientation": "v",
         "showlegend": true,
         "type": "scatter",
         "x": [
          "2020-02-09",
          "2020-03-08",
          "2020-03-15",
          "2020-03-22",
          "2020-03-29",
          "2020-04-05",
          "2020-04-12",
          "2020-04-19",
          "2020-04-26",
          "2020-05-03",
          "2020-05-10",
          "2020-05-17",
          "2020-05-24",
          "2020-05-31"
         ],
         "xaxis": "x",
         "y": [
          0,
          1,
          2,
          4,
          1,
          0,
          0,
          0,
          0,
          0,
          1,
          0,
          0,
          0
         ],
         "yaxis": "y"
        },
        {
         "hovertemplate": "County=Clallam County<br>WeekStartDate=%{x}<br>Age 80+=%{y}<extra></extra>",
         "legendgroup": "Clallam County",
         "marker": {
          "color": "#FFA15A",
          "symbol": "circle"
         },
         "mode": "markers",
         "name": "Clallam County",
         "orientation": "v",
         "showlegend": true,
         "type": "scatter",
         "x": [
          "2020-03-01",
          "2020-03-08",
          "2020-03-15",
          "2020-03-29",
          "2020-04-05",
          "2020-04-19",
          "2020-04-26",
          "2020-05-10",
          "2020-05-17",
          "2020-05-24"
         ],
         "xaxis": "x",
         "y": [
          0,
          0,
          0,
          0,
          0,
          1,
          0,
          0,
          0,
          1
         ],
         "yaxis": "y"
        },
        {
         "hovertemplate": "County=Clark County<br>WeekStartDate=%{x}<br>Age 80+=%{y}<extra></extra>",
         "legendgroup": "Clark County",
         "marker": {
          "color": "#19d3f3",
          "symbol": "circle"
         },
         "mode": "markers",
         "name": "Clark County",
         "orientation": "v",
         "showlegend": true,
         "type": "scatter",
         "x": [
          "2020-02-23",
          "2020-03-01",
          "2020-03-08",
          "2020-03-15",
          "2020-03-22",
          "2020-03-29",
          "2020-04-05",
          "2020-04-12",
          "2020-04-19",
          "2020-04-26",
          "2020-05-03",
          "2020-05-10",
          "2020-05-17",
          "2020-05-24",
          "2020-05-31"
         ],
         "xaxis": "x",
         "y": [
          1,
          3,
          0,
          4,
          2,
          3,
          7,
          9,
          8,
          1,
          0,
          0,
          0,
          1,
          0
         ],
         "yaxis": "y"
        },
        {
         "hovertemplate": "County=Cowlitz County<br>WeekStartDate=%{x}<br>Age 80+=%{y}<extra></extra>",
         "legendgroup": "Cowlitz County",
         "marker": {
          "color": "#FF6692",
          "symbol": "circle"
         },
         "mode": "markers",
         "name": "Cowlitz County",
         "orientation": "v",
         "showlegend": true,
         "type": "scatter",
         "x": [
          "2020-02-23",
          "2020-03-01",
          "2020-03-08",
          "2020-03-15",
          "2020-03-22",
          "2020-03-29",
          "2020-04-05",
          "2020-04-12",
          "2020-04-19",
          "2020-04-26",
          "2020-05-03",
          "2020-05-10",
          "2020-05-17",
          "2020-05-24",
          "2020-05-31"
         ],
         "xaxis": "x",
         "y": [
          0,
          0,
          0,
          1,
          0,
          0,
          0,
          0,
          0,
          0,
          0,
          0,
          0,
          0,
          0
         ],
         "yaxis": "y"
        },
        {
         "hovertemplate": "County=Douglas County<br>WeekStartDate=%{x}<br>Age 80+=%{y}<extra></extra>",
         "legendgroup": "Douglas County",
         "marker": {
          "color": "#B6E880",
          "symbol": "circle"
         },
         "mode": "markers",
         "name": "Douglas County",
         "orientation": "v",
         "showlegend": true,
         "type": "scatter",
         "x": [
          "2020-03-01",
          "2020-03-08",
          "2020-03-15",
          "2020-03-22",
          "2020-03-29",
          "2020-04-05",
          "2020-04-12",
          "2020-04-19",
          "2020-04-26",
          "2020-05-03",
          "2020-05-10",
          "2020-05-17",
          "2020-05-24",
          "2020-05-31"
         ],
         "xaxis": "x",
         "y": [
          0,
          1,
          0,
          2,
          0,
          1,
          1,
          0,
          2,
          0,
          0,
          0,
          0,
          0
         ],
         "yaxis": "y"
        },
        {
         "hovertemplate": "County=Franklin County<br>WeekStartDate=%{x}<br>Age 80+=%{y}<extra></extra>",
         "legendgroup": "Franklin County",
         "marker": {
          "color": "#FF97FF",
          "symbol": "circle"
         },
         "mode": "markers",
         "name": "Franklin County",
         "orientation": "v",
         "showlegend": true,
         "type": "scatter",
         "x": [
          "2020-02-09",
          "2020-02-23",
          "2020-03-01",
          "2020-03-08",
          "2020-03-15",
          "2020-03-22",
          "2020-03-29",
          "2020-04-05",
          "2020-04-12",
          "2020-04-19",
          "2020-04-26",
          "2020-05-03",
          "2020-05-10",
          "2020-05-17",
          "2020-05-24",
          "2020-05-31"
         ],
         "xaxis": "x",
         "y": [
          0,
          0,
          0,
          0,
          1,
          0,
          2,
          2,
          7,
          5,
          1,
          3,
          3,
          0,
          1,
          1
         ],
         "yaxis": "y"
        },
        {
         "hovertemplate": "County=Grant County<br>WeekStartDate=%{x}<br>Age 80+=%{y}<extra></extra>",
         "legendgroup": "Grant County",
         "marker": {
          "color": "#FECB52",
          "symbol": "circle"
         },
         "mode": "markers",
         "name": "Grant County",
         "orientation": "v",
         "showlegend": true,
         "type": "scatter",
         "x": [
          "2020-02-16",
          "2020-02-23",
          "2020-03-01",
          "2020-03-08",
          "2020-03-15",
          "2020-03-22",
          "2020-03-29",
          "2020-04-05",
          "2020-04-12",
          "2020-04-19",
          "2020-04-26",
          "2020-05-03",
          "2020-05-10",
          "2020-05-17",
          "2020-05-24",
          "2020-05-31"
         ],
         "xaxis": "x",
         "y": [
          0,
          1,
          0,
          0,
          0,
          0,
          0,
          0,
          0,
          0,
          0,
          0,
          0,
          0,
          2,
          0
         ],
         "yaxis": "y"
        },
        {
         "hovertemplate": "County=Grays Harbor County<br>WeekStartDate=%{x}<br>Age 80+=%{y}<extra></extra>",
         "legendgroup": "Grays Harbor County",
         "marker": {
          "color": "#636efa",
          "symbol": "circle"
         },
         "mode": "markers",
         "name": "Grays Harbor County",
         "orientation": "v",
         "showlegend": true,
         "type": "scatter",
         "x": [
          "2020-02-16",
          "2020-02-23",
          "2020-03-01",
          "2020-03-15",
          "2020-03-22",
          "2020-03-29",
          "2020-04-05",
          "2020-04-26",
          "2020-05-03",
          "2020-05-17",
          "2020-05-24",
          "2020-05-31"
         ],
         "xaxis": "x",
         "y": [
          0,
          0,
          0,
          0,
          0,
          0,
          0,
          1,
          0,
          0,
          0,
          0
         ],
         "yaxis": "y"
        },
        {
         "hovertemplate": "County=Island County<br>WeekStartDate=%{x}<br>Age 80+=%{y}<extra></extra>",
         "legendgroup": "Island County",
         "marker": {
          "color": "#EF553B",
          "symbol": "circle"
         },
         "mode": "markers",
         "name": "Island County",
         "orientation": "v",
         "showlegend": true,
         "type": "scatter",
         "x": [
          "2020-02-23",
          "2020-03-01",
          "2020-03-08",
          "2020-03-15",
          "2020-03-22",
          "2020-03-29",
          "2020-04-05",
          "2020-04-12",
          "2020-04-19",
          "2020-04-26",
          "2020-05-03",
          "2020-05-10",
          "2020-05-24"
         ],
         "xaxis": "x",
         "y": [
          0,
          0,
          2,
          4,
          24,
          4,
          1,
          0,
          3,
          0,
          0,
          0,
          0
         ],
         "yaxis": "y"
        },
        {
         "hovertemplate": "County=Jefferson County<br>WeekStartDate=%{x}<br>Age 80+=%{y}<extra></extra>",
         "legendgroup": "Jefferson County",
         "marker": {
          "color": "#00cc96",
          "symbol": "circle"
         },
         "mode": "markers",
         "name": "Jefferson County",
         "orientation": "v",
         "showlegend": true,
         "type": "scatter",
         "x": [
          "2020-02-23",
          "2020-03-01",
          "2020-03-08",
          "2020-03-15",
          "2020-03-22",
          "2020-03-29",
          "2020-05-31"
         ],
         "xaxis": "x",
         "y": [
          0,
          0,
          0,
          1,
          1,
          0,
          0
         ],
         "yaxis": "y"
        },
        {
         "hovertemplate": "County=King County<br>WeekStartDate=%{x}<br>Age 80+=%{y}<extra></extra>",
         "legendgroup": "King County",
         "marker": {
          "color": "#ab63fa",
          "symbol": "circle"
         },
         "mode": "markers",
         "name": "King County",
         "orientation": "v",
         "showlegend": true,
         "type": "scatter",
         "x": [
          "2020-02-02",
          "2020-02-09",
          "2020-02-16",
          "2020-02-23",
          "2020-03-01",
          "2020-03-08",
          "2020-03-15",
          "2020-03-22",
          "2020-03-29",
          "2020-04-05",
          "2020-04-12",
          "2020-04-19",
          "2020-04-26",
          "2020-05-03",
          "2020-05-10",
          "2020-05-17",
          "2020-05-24",
          "2020-05-31"
         ],
         "xaxis": "x",
         "y": [
          0,
          0,
          6,
          20,
          49,
          109,
          90,
          128,
          94,
          87,
          63,
          43,
          47,
          30,
          24,
          17,
          21,
          3
         ],
         "yaxis": "y"
        },
        {
         "hovertemplate": "County=Kitsap County<br>WeekStartDate=%{x}<br>Age 80+=%{y}<extra></extra>",
         "legendgroup": "Kitsap County",
         "marker": {
          "color": "#FFA15A",
          "symbol": "circle"
         },
         "mode": "markers",
         "name": "Kitsap County",
         "orientation": "v",
         "showlegend": true,
         "type": "scatter",
         "x": [
          "2020-02-16",
          "2020-02-23",
          "2020-03-01",
          "2020-03-08",
          "2020-03-15",
          "2020-03-22",
          "2020-03-29",
          "2020-04-05",
          "2020-04-12",
          "2020-04-19",
          "2020-04-26",
          "2020-05-03",
          "2020-05-10",
          "2020-05-24",
          "2020-05-31"
         ],
         "xaxis": "x",
         "y": [
          0,
          0,
          0,
          0,
          1,
          2,
          2,
          0,
          1,
          0,
          0,
          0,
          0,
          0,
          0
         ],
         "yaxis": "y"
        },
        {
         "hovertemplate": "County=Kittitas County<br>WeekStartDate=%{x}<br>Age 80+=%{y}<extra></extra>",
         "legendgroup": "Kittitas County",
         "marker": {
          "color": "#19d3f3",
          "symbol": "circle"
         },
         "mode": "markers",
         "name": "Kittitas County",
         "orientation": "v",
         "showlegend": true,
         "type": "scatter",
         "x": [
          "2020-01-26",
          "2020-02-16",
          "2020-03-08",
          "2020-03-15",
          "2020-03-22",
          "2020-03-29",
          "2020-04-05",
          "2020-04-19",
          "2020-04-26",
          "2020-05-03",
          "2020-05-10",
          "2020-05-17",
          "2020-05-24",
          "2020-05-31"
         ],
         "xaxis": "x",
         "y": [
          0,
          0,
          0,
          0,
          0,
          0,
          0,
          0,
          0,
          0,
          0,
          0,
          0,
          0
         ],
         "yaxis": "y"
        },
        {
         "hovertemplate": "County=Klickitat County<br>WeekStartDate=%{x}<br>Age 80+=%{y}<extra></extra>",
         "legendgroup": "Klickitat County",
         "marker": {
          "color": "#FF6692",
          "symbol": "circle"
         },
         "mode": "markers",
         "name": "Klickitat County",
         "orientation": "v",
         "showlegend": true,
         "type": "scatter",
         "x": [
          "2020-03-01",
          "2020-03-15",
          "2020-03-22",
          "2020-03-29",
          "2020-04-05",
          "2020-04-19",
          "2020-04-26",
          "2020-05-03",
          "2020-05-10",
          "2020-05-17",
          "2020-05-24",
          "2020-05-31"
         ],
         "xaxis": "x",
         "y": [
          0,
          0,
          1,
          0,
          2,
          0,
          0,
          0,
          0,
          0,
          0,
          0
         ],
         "yaxis": "y"
        },
        {
         "hovertemplate": "County=Lewis County<br>WeekStartDate=%{x}<br>Age 80+=%{y}<extra></extra>",
         "legendgroup": "Lewis County",
         "marker": {
          "color": "#B6E880",
          "symbol": "circle"
         },
         "mode": "markers",
         "name": "Lewis County",
         "orientation": "v",
         "showlegend": true,
         "type": "scatter",
         "x": [
          "2020-03-08",
          "2020-03-15",
          "2020-03-22",
          "2020-03-29",
          "2020-04-05",
          "2020-04-12",
          "2020-04-19",
          "2020-04-26",
          "2020-05-03",
          "2020-05-10",
          "2020-05-24"
         ],
         "xaxis": "x",
         "y": [
          1,
          2,
          1,
          0,
          0,
          0,
          0,
          0,
          0,
          0,
          0
         ],
         "yaxis": "y"
        },
        {
         "hovertemplate": "County=Mason County<br>WeekStartDate=%{x}<br>Age 80+=%{y}<extra></extra>",
         "legendgroup": "Mason County",
         "marker": {
          "color": "#FF97FF",
          "symbol": "circle"
         },
         "mode": "markers",
         "name": "Mason County",
         "orientation": "v",
         "showlegend": true,
         "type": "scatter",
         "x": [
          "2020-03-08",
          "2020-03-15",
          "2020-03-22",
          "2020-03-29",
          "2020-04-12",
          "2020-04-19",
          "2020-04-26",
          "2020-05-03",
          "2020-05-10",
          "2020-05-17",
          "2020-05-24",
          "2020-05-31"
         ],
         "xaxis": "x",
         "y": [
          1,
          0,
          0,
          0,
          0,
          0,
          1,
          0,
          0,
          0,
          0,
          0
         ],
         "yaxis": "y"
        },
        {
         "hovertemplate": "County=Okanogan County<br>WeekStartDate=%{x}<br>Age 80+=%{y}<extra></extra>",
         "legendgroup": "Okanogan County",
         "marker": {
          "color": "#FECB52",
          "symbol": "circle"
         },
         "mode": "markers",
         "name": "Okanogan County",
         "orientation": "v",
         "showlegend": true,
         "type": "scatter",
         "x": [
          "2020-03-08",
          "2020-03-15",
          "2020-03-22",
          "2020-03-29",
          "2020-04-05",
          "2020-04-12",
          "2020-04-19",
          "2020-04-26",
          "2020-05-03",
          "2020-05-10",
          "2020-05-17",
          "2020-05-24",
          "2020-05-31"
         ],
         "xaxis": "x",
         "y": [
          0,
          0,
          0,
          0,
          0,
          0,
          0,
          0,
          0,
          0,
          0,
          0,
          0
         ],
         "yaxis": "y"
        },
        {
         "hovertemplate": "County=Pacific County<br>WeekStartDate=%{x}<br>Age 80+=%{y}<extra></extra>",
         "legendgroup": "Pacific County",
         "marker": {
          "color": "#636efa",
          "symbol": "circle"
         },
         "mode": "markers",
         "name": "Pacific County",
         "orientation": "v",
         "showlegend": true,
         "type": "scatter",
         "x": [
          "2020-03-29",
          "2020-04-05",
          "2020-04-19",
          "2020-04-26",
          "2020-05-03"
         ],
         "xaxis": "x",
         "y": [
          0,
          0,
          0,
          0,
          0
         ],
         "yaxis": "y"
        },
        {
         "hovertemplate": "County=Pierce County<br>WeekStartDate=%{x}<br>Age 80+=%{y}<extra></extra>",
         "legendgroup": "Pierce County",
         "marker": {
          "color": "#EF553B",
          "symbol": "circle"
         },
         "mode": "markers",
         "name": "Pierce County",
         "orientation": "v",
         "showlegend": true,
         "type": "scatter",
         "x": [
          "2020-02-16",
          "2020-02-23",
          "2020-03-01",
          "2020-03-08",
          "2020-03-15",
          "2020-03-22",
          "2020-03-29",
          "2020-04-05",
          "2020-04-12",
          "2020-04-19",
          "2020-04-26",
          "2020-05-03",
          "2020-05-10",
          "2020-05-17",
          "2020-05-24",
          "2020-05-31"
         ],
         "xaxis": "x",
         "y": [
          0,
          0,
          1,
          7,
          6,
          11,
          25,
          13,
          10,
          11,
          6,
          11,
          9,
          7,
          8,
          0
         ],
         "yaxis": "y"
        },
        {
         "hovertemplate": "County=San Juan County<br>WeekStartDate=%{x}<br>Age 80+=%{y}<extra></extra>",
         "legendgroup": "San Juan County",
         "marker": {
          "color": "#00cc96",
          "symbol": "circle"
         },
         "mode": "markers",
         "name": "San Juan County",
         "orientation": "v",
         "showlegend": true,
         "type": "scatter",
         "x": [
          "2020-03-08",
          "2020-03-15",
          "2020-03-22",
          "2020-03-29",
          "2020-04-05",
          "2020-04-12"
         ],
         "xaxis": "x",
         "y": [
          0,
          0,
          0,
          1,
          0,
          0
         ],
         "yaxis": "y"
        },
        {
         "hovertemplate": "County=Skagit County<br>WeekStartDate=%{x}<br>Age 80+=%{y}<extra></extra>",
         "legendgroup": "Skagit County",
         "marker": {
          "color": "#ab63fa",
          "symbol": "circle"
         },
         "mode": "markers",
         "name": "Skagit County",
         "orientation": "v",
         "showlegend": true,
         "type": "scatter",
         "x": [
          "2020-02-16",
          "2020-02-23",
          "2020-03-01",
          "2020-03-08",
          "2020-03-15",
          "2020-03-22",
          "2020-03-29",
          "2020-04-05",
          "2020-04-12",
          "2020-04-19",
          "2020-04-26",
          "2020-05-03",
          "2020-05-10",
          "2020-05-17",
          "2020-05-24",
          "2020-05-31"
         ],
         "xaxis": "x",
         "y": [
          0,
          0,
          1,
          3,
          3,
          5,
          8,
          0,
          5,
          1,
          0,
          1,
          0,
          0,
          0,
          0
         ],
         "yaxis": "y"
        },
        {
         "hovertemplate": "County=Snohomish County<br>WeekStartDate=%{x}<br>Age 80+=%{y}<extra></extra>",
         "legendgroup": "Snohomish County",
         "marker": {
          "color": "#FFA15A",
          "symbol": "circle"
         },
         "mode": "markers",
         "name": "Snohomish County",
         "orientation": "v",
         "showlegend": true,
         "type": "scatter",
         "x": [
          "2020-01-16",
          "2020-01-26",
          "2020-02-02",
          "2020-02-09",
          "2020-02-16",
          "2020-02-23",
          "2020-03-01",
          "2020-03-08",
          "2020-03-15",
          "2020-03-22",
          "2020-03-29",
          "2020-04-05",
          "2020-04-12",
          "2020-04-19",
          "2020-04-26",
          "2020-05-03",
          "2020-05-10",
          "2020-05-17",
          "2020-05-24",
          "2020-05-31"
         ],
         "xaxis": "x",
         "y": [
          0,
          0,
          2,
          0,
          1,
          7,
          22,
          27,
          24,
          22,
          34,
          16,
          26,
          25,
          29,
          6,
          16,
          15,
          0,
          1
         ],
         "yaxis": "y"
        },
        {
         "hovertemplate": "County=Spokane County<br>WeekStartDate=%{x}<br>Age 80+=%{y}<extra></extra>",
         "legendgroup": "Spokane County",
         "marker": {
          "color": "#19d3f3",
          "symbol": "circle"
         },
         "mode": "markers",
         "name": "Spokane County",
         "orientation": "v",
         "showlegend": true,
         "type": "scatter",
         "x": [
          "2020-02-16",
          "2020-02-23",
          "2020-03-01",
          "2020-03-08",
          "2020-03-15",
          "2020-03-22",
          "2020-03-29",
          "2020-04-05",
          "2020-04-12",
          "2020-04-19",
          "2020-04-26",
          "2020-05-03",
          "2020-05-10",
          "2020-05-17",
          "2020-05-24",
          "2020-05-31"
         ],
         "xaxis": "x",
         "y": [
          0,
          1,
          0,
          1,
          4,
          6,
          3,
          11,
          8,
          5,
          5,
          1,
          0,
          3,
          1,
          4
         ],
         "yaxis": "y"
        },
        {
         "hovertemplate": "County=Stevens County<br>WeekStartDate=%{x}<br>Age 80+=%{y}<extra></extra>",
         "legendgroup": "Stevens County",
         "marker": {
          "color": "#FF6692",
          "symbol": "circle"
         },
         "mode": "markers",
         "name": "Stevens County",
         "orientation": "v",
         "showlegend": true,
         "type": "scatter",
         "x": [
          "2020-03-01",
          "2020-03-08",
          "2020-03-15",
          "2020-03-22",
          "2020-03-29",
          "2020-04-12",
          "2020-05-10",
          "2020-05-17",
          "2020-05-24"
         ],
         "xaxis": "x",
         "y": [
          0,
          0,
          0,
          0,
          0,
          0,
          0,
          0,
          0
         ],
         "yaxis": "y"
        },
        {
         "hovertemplate": "County=Thurston County<br>WeekStartDate=%{x}<br>Age 80+=%{y}<extra></extra>",
         "legendgroup": "Thurston County",
         "marker": {
          "color": "#B6E880",
          "symbol": "circle"
         },
         "mode": "markers",
         "name": "Thurston County",
         "orientation": "v",
         "showlegend": true,
         "type": "scatter",
         "x": [
          "2020-02-23",
          "2020-03-01",
          "2020-03-08",
          "2020-03-15",
          "2020-03-22",
          "2020-03-29",
          "2020-04-05",
          "2020-04-12",
          "2020-04-19",
          "2020-04-26",
          "2020-05-03",
          "2020-05-10",
          "2020-05-17",
          "2020-05-24",
          "2020-05-31"
         ],
         "xaxis": "x",
         "y": [
          0,
          0,
          1,
          0,
          1,
          0,
          0,
          0,
          0,
          0,
          1,
          0,
          0,
          6,
          2
         ],
         "yaxis": "y"
        },
        {
         "hovertemplate": "County=Walla Walla County<br>WeekStartDate=%{x}<br>Age 80+=%{y}<extra></extra>",
         "legendgroup": "Walla Walla County",
         "marker": {
          "color": "#FF97FF",
          "symbol": "circle"
         },
         "mode": "markers",
         "name": "Walla Walla County",
         "orientation": "v",
         "showlegend": true,
         "type": "scatter",
         "x": [
          "2020-03-08",
          "2020-03-15",
          "2020-03-22",
          "2020-03-29",
          "2020-04-05",
          "2020-04-12",
          "2020-04-19",
          "2020-04-26",
          "2020-05-03",
          "2020-05-10",
          "2020-05-17",
          "2020-05-24",
          "2020-05-31"
         ],
         "xaxis": "x",
         "y": [
          0,
          0,
          0,
          0,
          0,
          0,
          1,
          0,
          2,
          3,
          0,
          0,
          0
         ],
         "yaxis": "y"
        },
        {
         "hovertemplate": "County=Whatcom County<br>WeekStartDate=%{x}<br>Age 80+=%{y}<extra></extra>",
         "legendgroup": "Whatcom County",
         "marker": {
          "color": "#FECB52",
          "symbol": "circle"
         },
         "mode": "markers",
         "name": "Whatcom County",
         "orientation": "v",
         "showlegend": true,
         "type": "scatter",
         "x": [
          "2020-02-16",
          "2020-02-23",
          "2020-03-01",
          "2020-03-08",
          "2020-03-15",
          "2020-03-22",
          "2020-03-29",
          "2020-04-05",
          "2020-04-12",
          "2020-04-19",
          "2020-04-26",
          "2020-05-03",
          "2020-05-10",
          "2020-05-17",
          "2020-05-24",
          "2020-05-31"
         ],
         "xaxis": "x",
         "y": [
          0,
          0,
          1,
          5,
          17,
          16,
          21,
          5,
          3,
          0,
          2,
          4,
          0,
          1,
          0,
          0
         ],
         "yaxis": "y"
        },
        {
         "hovertemplate": "County=Whitman County<br>WeekStartDate=%{x}<br>Age 80+=%{y}<extra></extra>",
         "legendgroup": "Whitman County",
         "marker": {
          "color": "#636efa",
          "symbol": "circle"
         },
         "mode": "markers",
         "name": "Whitman County",
         "orientation": "v",
         "showlegend": true,
         "type": "scatter",
         "x": [
          "2020-03-08",
          "2020-03-15",
          "2020-03-22",
          "2020-03-29",
          "2020-04-12",
          "2020-04-19",
          "2020-05-10",
          "2020-05-17"
         ],
         "xaxis": "x",
         "y": [
          0,
          0,
          0,
          0,
          1,
          0,
          0,
          0
         ],
         "yaxis": "y"
        },
        {
         "hovertemplate": "County=Yakima County<br>WeekStartDate=%{x}<br>Age 80+=%{y}<extra></extra>",
         "legendgroup": "Yakima County",
         "marker": {
          "color": "#EF553B",
          "symbol": "circle"
         },
         "mode": "markers",
         "name": "Yakima County",
         "orientation": "v",
         "showlegend": true,
         "type": "scatter",
         "x": [
          "2020-01-16",
          "2020-02-09",
          "2020-02-16",
          "2020-03-01",
          "2020-03-08",
          "2020-03-15",
          "2020-03-22",
          "2020-03-29",
          "2020-04-05",
          "2020-04-12",
          "2020-04-19",
          "2020-04-26",
          "2020-05-03",
          "2020-05-10",
          "2020-05-17",
          "2020-05-24",
          "2020-05-31"
         ],
         "xaxis": "x",
         "y": [
          0,
          0,
          0,
          1,
          0,
          4,
          21,
          21,
          14,
          14,
          16,
          33,
          34,
          13,
          10,
          8,
          6
         ],
         "yaxis": "y"
        },
        {
         "hovertemplate": "County=Unassigned<br>WeekStartDate=%{x}<br>Age 80+=%{y}<extra></extra>",
         "legendgroup": "Unassigned",
         "marker": {
          "color": "#00cc96",
          "symbol": "circle"
         },
         "mode": "markers",
         "name": "Unassigned",
         "orientation": "v",
         "showlegend": true,
         "type": "scatter",
         "x": [
          "2020-04-19",
          "2020-05-10",
          "2020-05-17",
          "2020-05-24",
          "2020-05-31"
         ],
         "xaxis": "x",
         "y": [
          0,
          0,
          0,
          0,
          1
         ],
         "yaxis": "y"
        }
       ],
       "layout": {
        "legend": {
         "title": {
          "text": "County"
         },
         "tracegroupgap": 0
        },
        "margin": {
         "t": 60
        },
        "template": {
         "data": {
          "bar": [
           {
            "error_x": {
             "color": "#2a3f5f"
            },
            "error_y": {
             "color": "#2a3f5f"
            },
            "marker": {
             "line": {
              "color": "#E5ECF6",
              "width": 0.5
             }
            },
            "type": "bar"
           }
          ],
          "barpolar": [
           {
            "marker": {
             "line": {
              "color": "#E5ECF6",
              "width": 0.5
             }
            },
            "type": "barpolar"
           }
          ],
          "carpet": [
           {
            "aaxis": {
             "endlinecolor": "#2a3f5f",
             "gridcolor": "white",
             "linecolor": "white",
             "minorgridcolor": "white",
             "startlinecolor": "#2a3f5f"
            },
            "baxis": {
             "endlinecolor": "#2a3f5f",
             "gridcolor": "white",
             "linecolor": "white",
             "minorgridcolor": "white",
             "startlinecolor": "#2a3f5f"
            },
            "type": "carpet"
           }
          ],
          "choropleth": [
           {
            "colorbar": {
             "outlinewidth": 0,
             "ticks": ""
            },
            "type": "choropleth"
           }
          ],
          "contour": [
           {
            "colorbar": {
             "outlinewidth": 0,
             "ticks": ""
            },
            "colorscale": [
             [
              0,
              "#0d0887"
             ],
             [
              0.1111111111111111,
              "#46039f"
             ],
             [
              0.2222222222222222,
              "#7201a8"
             ],
             [
              0.3333333333333333,
              "#9c179e"
             ],
             [
              0.4444444444444444,
              "#bd3786"
             ],
             [
              0.5555555555555556,
              "#d8576b"
             ],
             [
              0.6666666666666666,
              "#ed7953"
             ],
             [
              0.7777777777777778,
              "#fb9f3a"
             ],
             [
              0.8888888888888888,
              "#fdca26"
             ],
             [
              1,
              "#f0f921"
             ]
            ],
            "type": "contour"
           }
          ],
          "contourcarpet": [
           {
            "colorbar": {
             "outlinewidth": 0,
             "ticks": ""
            },
            "type": "contourcarpet"
           }
          ],
          "heatmap": [
           {
            "colorbar": {
             "outlinewidth": 0,
             "ticks": ""
            },
            "colorscale": [
             [
              0,
              "#0d0887"
             ],
             [
              0.1111111111111111,
              "#46039f"
             ],
             [
              0.2222222222222222,
              "#7201a8"
             ],
             [
              0.3333333333333333,
              "#9c179e"
             ],
             [
              0.4444444444444444,
              "#bd3786"
             ],
             [
              0.5555555555555556,
              "#d8576b"
             ],
             [
              0.6666666666666666,
              "#ed7953"
             ],
             [
              0.7777777777777778,
              "#fb9f3a"
             ],
             [
              0.8888888888888888,
              "#fdca26"
             ],
             [
              1,
              "#f0f921"
             ]
            ],
            "type": "heatmap"
           }
          ],
          "heatmapgl": [
           {
            "colorbar": {
             "outlinewidth": 0,
             "ticks": ""
            },
            "colorscale": [
             [
              0,
              "#0d0887"
             ],
             [
              0.1111111111111111,
              "#46039f"
             ],
             [
              0.2222222222222222,
              "#7201a8"
             ],
             [
              0.3333333333333333,
              "#9c179e"
             ],
             [
              0.4444444444444444,
              "#bd3786"
             ],
             [
              0.5555555555555556,
              "#d8576b"
             ],
             [
              0.6666666666666666,
              "#ed7953"
             ],
             [
              0.7777777777777778,
              "#fb9f3a"
             ],
             [
              0.8888888888888888,
              "#fdca26"
             ],
             [
              1,
              "#f0f921"
             ]
            ],
            "type": "heatmapgl"
           }
          ],
          "histogram": [
           {
            "marker": {
             "colorbar": {
              "outlinewidth": 0,
              "ticks": ""
             }
            },
            "type": "histogram"
           }
          ],
          "histogram2d": [
           {
            "colorbar": {
             "outlinewidth": 0,
             "ticks": ""
            },
            "colorscale": [
             [
              0,
              "#0d0887"
             ],
             [
              0.1111111111111111,
              "#46039f"
             ],
             [
              0.2222222222222222,
              "#7201a8"
             ],
             [
              0.3333333333333333,
              "#9c179e"
             ],
             [
              0.4444444444444444,
              "#bd3786"
             ],
             [
              0.5555555555555556,
              "#d8576b"
             ],
             [
              0.6666666666666666,
              "#ed7953"
             ],
             [
              0.7777777777777778,
              "#fb9f3a"
             ],
             [
              0.8888888888888888,
              "#fdca26"
             ],
             [
              1,
              "#f0f921"
             ]
            ],
            "type": "histogram2d"
           }
          ],
          "histogram2dcontour": [
           {
            "colorbar": {
             "outlinewidth": 0,
             "ticks": ""
            },
            "colorscale": [
             [
              0,
              "#0d0887"
             ],
             [
              0.1111111111111111,
              "#46039f"
             ],
             [
              0.2222222222222222,
              "#7201a8"
             ],
             [
              0.3333333333333333,
              "#9c179e"
             ],
             [
              0.4444444444444444,
              "#bd3786"
             ],
             [
              0.5555555555555556,
              "#d8576b"
             ],
             [
              0.6666666666666666,
              "#ed7953"
             ],
             [
              0.7777777777777778,
              "#fb9f3a"
             ],
             [
              0.8888888888888888,
              "#fdca26"
             ],
             [
              1,
              "#f0f921"
             ]
            ],
            "type": "histogram2dcontour"
           }
          ],
          "mesh3d": [
           {
            "colorbar": {
             "outlinewidth": 0,
             "ticks": ""
            },
            "type": "mesh3d"
           }
          ],
          "parcoords": [
           {
            "line": {
             "colorbar": {
              "outlinewidth": 0,
              "ticks": ""
             }
            },
            "type": "parcoords"
           }
          ],
          "pie": [
           {
            "automargin": true,
            "type": "pie"
           }
          ],
          "scatter": [
           {
            "marker": {
             "colorbar": {
              "outlinewidth": 0,
              "ticks": ""
             }
            },
            "type": "scatter"
           }
          ],
          "scatter3d": [
           {
            "line": {
             "colorbar": {
              "outlinewidth": 0,
              "ticks": ""
             }
            },
            "marker": {
             "colorbar": {
              "outlinewidth": 0,
              "ticks": ""
             }
            },
            "type": "scatter3d"
           }
          ],
          "scattercarpet": [
           {
            "marker": {
             "colorbar": {
              "outlinewidth": 0,
              "ticks": ""
             }
            },
            "type": "scattercarpet"
           }
          ],
          "scattergeo": [
           {
            "marker": {
             "colorbar": {
              "outlinewidth": 0,
              "ticks": ""
             }
            },
            "type": "scattergeo"
           }
          ],
          "scattergl": [
           {
            "marker": {
             "colorbar": {
              "outlinewidth": 0,
              "ticks": ""
             }
            },
            "type": "scattergl"
           }
          ],
          "scattermapbox": [
           {
            "marker": {
             "colorbar": {
              "outlinewidth": 0,
              "ticks": ""
             }
            },
            "type": "scattermapbox"
           }
          ],
          "scatterpolar": [
           {
            "marker": {
             "colorbar": {
              "outlinewidth": 0,
              "ticks": ""
             }
            },
            "type": "scatterpolar"
           }
          ],
          "scatterpolargl": [
           {
            "marker": {
             "colorbar": {
              "outlinewidth": 0,
              "ticks": ""
             }
            },
            "type": "scatterpolargl"
           }
          ],
          "scatterternary": [
           {
            "marker": {
             "colorbar": {
              "outlinewidth": 0,
              "ticks": ""
             }
            },
            "type": "scatterternary"
           }
          ],
          "surface": [
           {
            "colorbar": {
             "outlinewidth": 0,
             "ticks": ""
            },
            "colorscale": [
             [
              0,
              "#0d0887"
             ],
             [
              0.1111111111111111,
              "#46039f"
             ],
             [
              0.2222222222222222,
              "#7201a8"
             ],
             [
              0.3333333333333333,
              "#9c179e"
             ],
             [
              0.4444444444444444,
              "#bd3786"
             ],
             [
              0.5555555555555556,
              "#d8576b"
             ],
             [
              0.6666666666666666,
              "#ed7953"
             ],
             [
              0.7777777777777778,
              "#fb9f3a"
             ],
             [
              0.8888888888888888,
              "#fdca26"
             ],
             [
              1,
              "#f0f921"
             ]
            ],
            "type": "surface"
           }
          ],
          "table": [
           {
            "cells": {
             "fill": {
              "color": "#EBF0F8"
             },
             "line": {
              "color": "white"
             }
            },
            "header": {
             "fill": {
              "color": "#C8D4E3"
             },
             "line": {
              "color": "white"
             }
            },
            "type": "table"
           }
          ]
         },
         "layout": {
          "annotationdefaults": {
           "arrowcolor": "#2a3f5f",
           "arrowhead": 0,
           "arrowwidth": 1
          },
          "coloraxis": {
           "colorbar": {
            "outlinewidth": 0,
            "ticks": ""
           }
          },
          "colorscale": {
           "diverging": [
            [
             0,
             "#8e0152"
            ],
            [
             0.1,
             "#c51b7d"
            ],
            [
             0.2,
             "#de77ae"
            ],
            [
             0.3,
             "#f1b6da"
            ],
            [
             0.4,
             "#fde0ef"
            ],
            [
             0.5,
             "#f7f7f7"
            ],
            [
             0.6,
             "#e6f5d0"
            ],
            [
             0.7,
             "#b8e186"
            ],
            [
             0.8,
             "#7fbc41"
            ],
            [
             0.9,
             "#4d9221"
            ],
            [
             1,
             "#276419"
            ]
           ],
           "sequential": [
            [
             0,
             "#0d0887"
            ],
            [
             0.1111111111111111,
             "#46039f"
            ],
            [
             0.2222222222222222,
             "#7201a8"
            ],
            [
             0.3333333333333333,
             "#9c179e"
            ],
            [
             0.4444444444444444,
             "#bd3786"
            ],
            [
             0.5555555555555556,
             "#d8576b"
            ],
            [
             0.6666666666666666,
             "#ed7953"
            ],
            [
             0.7777777777777778,
             "#fb9f3a"
            ],
            [
             0.8888888888888888,
             "#fdca26"
            ],
            [
             1,
             "#f0f921"
            ]
           ],
           "sequentialminus": [
            [
             0,
             "#0d0887"
            ],
            [
             0.1111111111111111,
             "#46039f"
            ],
            [
             0.2222222222222222,
             "#7201a8"
            ],
            [
             0.3333333333333333,
             "#9c179e"
            ],
            [
             0.4444444444444444,
             "#bd3786"
            ],
            [
             0.5555555555555556,
             "#d8576b"
            ],
            [
             0.6666666666666666,
             "#ed7953"
            ],
            [
             0.7777777777777778,
             "#fb9f3a"
            ],
            [
             0.8888888888888888,
             "#fdca26"
            ],
            [
             1,
             "#f0f921"
            ]
           ]
          },
          "colorway": [
           "#636efa",
           "#EF553B",
           "#00cc96",
           "#ab63fa",
           "#FFA15A",
           "#19d3f3",
           "#FF6692",
           "#B6E880",
           "#FF97FF",
           "#FECB52"
          ],
          "font": {
           "color": "#2a3f5f"
          },
          "geo": {
           "bgcolor": "white",
           "lakecolor": "white",
           "landcolor": "#E5ECF6",
           "showlakes": true,
           "showland": true,
           "subunitcolor": "white"
          },
          "hoverlabel": {
           "align": "left"
          },
          "hovermode": "closest",
          "mapbox": {
           "style": "light"
          },
          "paper_bgcolor": "white",
          "plot_bgcolor": "#E5ECF6",
          "polar": {
           "angularaxis": {
            "gridcolor": "white",
            "linecolor": "white",
            "ticks": ""
           },
           "bgcolor": "#E5ECF6",
           "radialaxis": {
            "gridcolor": "white",
            "linecolor": "white",
            "ticks": ""
           }
          },
          "scene": {
           "xaxis": {
            "backgroundcolor": "#E5ECF6",
            "gridcolor": "white",
            "gridwidth": 2,
            "linecolor": "white",
            "showbackground": true,
            "ticks": "",
            "zerolinecolor": "white"
           },
           "yaxis": {
            "backgroundcolor": "#E5ECF6",
            "gridcolor": "white",
            "gridwidth": 2,
            "linecolor": "white",
            "showbackground": true,
            "ticks": "",
            "zerolinecolor": "white"
           },
           "zaxis": {
            "backgroundcolor": "#E5ECF6",
            "gridcolor": "white",
            "gridwidth": 2,
            "linecolor": "white",
            "showbackground": true,
            "ticks": "",
            "zerolinecolor": "white"
           }
          },
          "shapedefaults": {
           "line": {
            "color": "#2a3f5f"
           }
          },
          "ternary": {
           "aaxis": {
            "gridcolor": "white",
            "linecolor": "white",
            "ticks": ""
           },
           "baxis": {
            "gridcolor": "white",
            "linecolor": "white",
            "ticks": ""
           },
           "bgcolor": "#E5ECF6",
           "caxis": {
            "gridcolor": "white",
            "linecolor": "white",
            "ticks": ""
           }
          },
          "title": {
           "x": 0.05
          },
          "xaxis": {
           "automargin": true,
           "gridcolor": "white",
           "linecolor": "white",
           "ticks": "",
           "title": {
            "standoff": 15
           },
           "zerolinecolor": "white",
           "zerolinewidth": 2
          },
          "yaxis": {
           "automargin": true,
           "gridcolor": "white",
           "linecolor": "white",
           "ticks": "",
           "title": {
            "standoff": 15
           },
           "zerolinecolor": "white",
           "zerolinewidth": 2
          }
         }
        },
        "xaxis": {
         "anchor": "y",
         "domain": [
          0,
          1
         ],
         "title": {
          "text": "WeekStartDate"
         }
        },
        "yaxis": {
         "anchor": "x",
         "domain": [
          0,
          1
         ],
         "title": {
          "text": "Age 80+"
         }
        }
       }
      },
      "text/html": [
       "<div>\n",
       "        \n",
       "        \n",
       "            <div id=\"509de773-35b8-47b3-872a-ac3c47f2b969\" class=\"plotly-graph-div\" style=\"height:525px; width:100%;\"></div>\n",
       "            <script type=\"text/javascript\">\n",
       "                require([\"plotly\"], function(Plotly) {\n",
       "                    window.PLOTLYENV=window.PLOTLYENV || {};\n",
       "                    \n",
       "                if (document.getElementById(\"509de773-35b8-47b3-872a-ac3c47f2b969\")) {\n",
       "                    Plotly.newPlot(\n",
       "                        '509de773-35b8-47b3-872a-ac3c47f2b969',\n",
       "                        [{\"hovertemplate\": \"County=Adams County<br>WeekStartDate=%{x}<br>Age 80+=%{y}<extra></extra>\", \"legendgroup\": \"Adams County\", \"marker\": {\"color\": \"#636efa\", \"symbol\": \"circle\"}, \"mode\": \"markers\", \"name\": \"Adams County\", \"orientation\": \"v\", \"showlegend\": true, \"type\": \"scatter\", \"x\": [\"2020-03-08\", \"2020-03-15\", \"2020-03-22\", \"2020-03-29\", \"2020-04-05\", \"2020-04-12\", \"2020-04-19\", \"2020-04-26\", \"2020-05-03\", \"2020-05-10\", \"2020-05-17\", \"2020-05-24\", \"2020-05-31\"], \"xaxis\": \"x\", \"y\": [0, 0, 0, 0, 0, 0, 0, 0, 0, 0, 0, 0, 0], \"yaxis\": \"y\"}, {\"hovertemplate\": \"County=Asotin County<br>WeekStartDate=%{x}<br>Age 80+=%{y}<extra></extra>\", \"legendgroup\": \"Asotin County\", \"marker\": {\"color\": \"#EF553B\", \"symbol\": \"circle\"}, \"mode\": \"markers\", \"name\": \"Asotin County\", \"orientation\": \"v\", \"showlegend\": true, \"type\": \"scatter\", \"x\": [\"2020-03-15\", \"2020-03-29\", \"2020-04-05\", \"2020-04-12\", \"2020-04-19\", \"2020-05-17\"], \"xaxis\": \"x\", \"y\": [0, 0, 1, 0, 1, 0], \"yaxis\": \"y\"}, {\"hovertemplate\": \"County=Benton County<br>WeekStartDate=%{x}<br>Age 80+=%{y}<extra></extra>\", \"legendgroup\": \"Benton County\", \"marker\": {\"color\": \"#00cc96\", \"symbol\": \"circle\"}, \"mode\": \"markers\", \"name\": \"Benton County\", \"orientation\": \"v\", \"showlegend\": true, \"type\": \"scatter\", \"x\": [\"2020-02-16\", \"2020-03-01\", \"2020-03-08\", \"2020-03-15\", \"2020-03-22\", \"2020-03-29\", \"2020-04-05\", \"2020-04-12\", \"2020-04-19\", \"2020-04-26\", \"2020-05-03\", \"2020-05-10\", \"2020-05-17\", \"2020-05-24\", \"2020-05-31\"], \"xaxis\": \"x\", \"y\": [0, 4, 4, 13, 26, 12, 2, 2, 13, 8, 3, 1, 14, 7, 2], \"yaxis\": \"y\"}, {\"hovertemplate\": \"County=Chelan County<br>WeekStartDate=%{x}<br>Age 80+=%{y}<extra></extra>\", \"legendgroup\": \"Chelan County\", \"marker\": {\"color\": \"#ab63fa\", \"symbol\": \"circle\"}, \"mode\": \"markers\", \"name\": \"Chelan County\", \"orientation\": \"v\", \"showlegend\": true, \"type\": \"scatter\", \"x\": [\"2020-02-09\", \"2020-03-08\", \"2020-03-15\", \"2020-03-22\", \"2020-03-29\", \"2020-04-05\", \"2020-04-12\", \"2020-04-19\", \"2020-04-26\", \"2020-05-03\", \"2020-05-10\", \"2020-05-17\", \"2020-05-24\", \"2020-05-31\"], \"xaxis\": \"x\", \"y\": [0, 1, 2, 4, 1, 0, 0, 0, 0, 0, 1, 0, 0, 0], \"yaxis\": \"y\"}, {\"hovertemplate\": \"County=Clallam County<br>WeekStartDate=%{x}<br>Age 80+=%{y}<extra></extra>\", \"legendgroup\": \"Clallam County\", \"marker\": {\"color\": \"#FFA15A\", \"symbol\": \"circle\"}, \"mode\": \"markers\", \"name\": \"Clallam County\", \"orientation\": \"v\", \"showlegend\": true, \"type\": \"scatter\", \"x\": [\"2020-03-01\", \"2020-03-08\", \"2020-03-15\", \"2020-03-29\", \"2020-04-05\", \"2020-04-19\", \"2020-04-26\", \"2020-05-10\", \"2020-05-17\", \"2020-05-24\"], \"xaxis\": \"x\", \"y\": [0, 0, 0, 0, 0, 1, 0, 0, 0, 1], \"yaxis\": \"y\"}, {\"hovertemplate\": \"County=Clark County<br>WeekStartDate=%{x}<br>Age 80+=%{y}<extra></extra>\", \"legendgroup\": \"Clark County\", \"marker\": {\"color\": \"#19d3f3\", \"symbol\": \"circle\"}, \"mode\": \"markers\", \"name\": \"Clark County\", \"orientation\": \"v\", \"showlegend\": true, \"type\": \"scatter\", \"x\": [\"2020-02-23\", \"2020-03-01\", \"2020-03-08\", \"2020-03-15\", \"2020-03-22\", \"2020-03-29\", \"2020-04-05\", \"2020-04-12\", \"2020-04-19\", \"2020-04-26\", \"2020-05-03\", \"2020-05-10\", \"2020-05-17\", \"2020-05-24\", \"2020-05-31\"], \"xaxis\": \"x\", \"y\": [1, 3, 0, 4, 2, 3, 7, 9, 8, 1, 0, 0, 0, 1, 0], \"yaxis\": \"y\"}, {\"hovertemplate\": \"County=Cowlitz County<br>WeekStartDate=%{x}<br>Age 80+=%{y}<extra></extra>\", \"legendgroup\": \"Cowlitz County\", \"marker\": {\"color\": \"#FF6692\", \"symbol\": \"circle\"}, \"mode\": \"markers\", \"name\": \"Cowlitz County\", \"orientation\": \"v\", \"showlegend\": true, \"type\": \"scatter\", \"x\": [\"2020-02-23\", \"2020-03-01\", \"2020-03-08\", \"2020-03-15\", \"2020-03-22\", \"2020-03-29\", \"2020-04-05\", \"2020-04-12\", \"2020-04-19\", \"2020-04-26\", \"2020-05-03\", \"2020-05-10\", \"2020-05-17\", \"2020-05-24\", \"2020-05-31\"], \"xaxis\": \"x\", \"y\": [0, 0, 0, 1, 0, 0, 0, 0, 0, 0, 0, 0, 0, 0, 0], \"yaxis\": \"y\"}, {\"hovertemplate\": \"County=Douglas County<br>WeekStartDate=%{x}<br>Age 80+=%{y}<extra></extra>\", \"legendgroup\": \"Douglas County\", \"marker\": {\"color\": \"#B6E880\", \"symbol\": \"circle\"}, \"mode\": \"markers\", \"name\": \"Douglas County\", \"orientation\": \"v\", \"showlegend\": true, \"type\": \"scatter\", \"x\": [\"2020-03-01\", \"2020-03-08\", \"2020-03-15\", \"2020-03-22\", \"2020-03-29\", \"2020-04-05\", \"2020-04-12\", \"2020-04-19\", \"2020-04-26\", \"2020-05-03\", \"2020-05-10\", \"2020-05-17\", \"2020-05-24\", \"2020-05-31\"], \"xaxis\": \"x\", \"y\": [0, 1, 0, 2, 0, 1, 1, 0, 2, 0, 0, 0, 0, 0], \"yaxis\": \"y\"}, {\"hovertemplate\": \"County=Franklin County<br>WeekStartDate=%{x}<br>Age 80+=%{y}<extra></extra>\", \"legendgroup\": \"Franklin County\", \"marker\": {\"color\": \"#FF97FF\", \"symbol\": \"circle\"}, \"mode\": \"markers\", \"name\": \"Franklin County\", \"orientation\": \"v\", \"showlegend\": true, \"type\": \"scatter\", \"x\": [\"2020-02-09\", \"2020-02-23\", \"2020-03-01\", \"2020-03-08\", \"2020-03-15\", \"2020-03-22\", \"2020-03-29\", \"2020-04-05\", \"2020-04-12\", \"2020-04-19\", \"2020-04-26\", \"2020-05-03\", \"2020-05-10\", \"2020-05-17\", \"2020-05-24\", \"2020-05-31\"], \"xaxis\": \"x\", \"y\": [0, 0, 0, 0, 1, 0, 2, 2, 7, 5, 1, 3, 3, 0, 1, 1], \"yaxis\": \"y\"}, {\"hovertemplate\": \"County=Grant County<br>WeekStartDate=%{x}<br>Age 80+=%{y}<extra></extra>\", \"legendgroup\": \"Grant County\", \"marker\": {\"color\": \"#FECB52\", \"symbol\": \"circle\"}, \"mode\": \"markers\", \"name\": \"Grant County\", \"orientation\": \"v\", \"showlegend\": true, \"type\": \"scatter\", \"x\": [\"2020-02-16\", \"2020-02-23\", \"2020-03-01\", \"2020-03-08\", \"2020-03-15\", \"2020-03-22\", \"2020-03-29\", \"2020-04-05\", \"2020-04-12\", \"2020-04-19\", \"2020-04-26\", \"2020-05-03\", \"2020-05-10\", \"2020-05-17\", \"2020-05-24\", \"2020-05-31\"], \"xaxis\": \"x\", \"y\": [0, 1, 0, 0, 0, 0, 0, 0, 0, 0, 0, 0, 0, 0, 2, 0], \"yaxis\": \"y\"}, {\"hovertemplate\": \"County=Grays Harbor County<br>WeekStartDate=%{x}<br>Age 80+=%{y}<extra></extra>\", \"legendgroup\": \"Grays Harbor County\", \"marker\": {\"color\": \"#636efa\", \"symbol\": \"circle\"}, \"mode\": \"markers\", \"name\": \"Grays Harbor County\", \"orientation\": \"v\", \"showlegend\": true, \"type\": \"scatter\", \"x\": [\"2020-02-16\", \"2020-02-23\", \"2020-03-01\", \"2020-03-15\", \"2020-03-22\", \"2020-03-29\", \"2020-04-05\", \"2020-04-26\", \"2020-05-03\", \"2020-05-17\", \"2020-05-24\", \"2020-05-31\"], \"xaxis\": \"x\", \"y\": [0, 0, 0, 0, 0, 0, 0, 1, 0, 0, 0, 0], \"yaxis\": \"y\"}, {\"hovertemplate\": \"County=Island County<br>WeekStartDate=%{x}<br>Age 80+=%{y}<extra></extra>\", \"legendgroup\": \"Island County\", \"marker\": {\"color\": \"#EF553B\", \"symbol\": \"circle\"}, \"mode\": \"markers\", \"name\": \"Island County\", \"orientation\": \"v\", \"showlegend\": true, \"type\": \"scatter\", \"x\": [\"2020-02-23\", \"2020-03-01\", \"2020-03-08\", \"2020-03-15\", \"2020-03-22\", \"2020-03-29\", \"2020-04-05\", \"2020-04-12\", \"2020-04-19\", \"2020-04-26\", \"2020-05-03\", \"2020-05-10\", \"2020-05-24\"], \"xaxis\": \"x\", \"y\": [0, 0, 2, 4, 24, 4, 1, 0, 3, 0, 0, 0, 0], \"yaxis\": \"y\"}, {\"hovertemplate\": \"County=Jefferson County<br>WeekStartDate=%{x}<br>Age 80+=%{y}<extra></extra>\", \"legendgroup\": \"Jefferson County\", \"marker\": {\"color\": \"#00cc96\", \"symbol\": \"circle\"}, \"mode\": \"markers\", \"name\": \"Jefferson County\", \"orientation\": \"v\", \"showlegend\": true, \"type\": \"scatter\", \"x\": [\"2020-02-23\", \"2020-03-01\", \"2020-03-08\", \"2020-03-15\", \"2020-03-22\", \"2020-03-29\", \"2020-05-31\"], \"xaxis\": \"x\", \"y\": [0, 0, 0, 1, 1, 0, 0], \"yaxis\": \"y\"}, {\"hovertemplate\": \"County=King County<br>WeekStartDate=%{x}<br>Age 80+=%{y}<extra></extra>\", \"legendgroup\": \"King County\", \"marker\": {\"color\": \"#ab63fa\", \"symbol\": \"circle\"}, \"mode\": \"markers\", \"name\": \"King County\", \"orientation\": \"v\", \"showlegend\": true, \"type\": \"scatter\", \"x\": [\"2020-02-02\", \"2020-02-09\", \"2020-02-16\", \"2020-02-23\", \"2020-03-01\", \"2020-03-08\", \"2020-03-15\", \"2020-03-22\", \"2020-03-29\", \"2020-04-05\", \"2020-04-12\", \"2020-04-19\", \"2020-04-26\", \"2020-05-03\", \"2020-05-10\", \"2020-05-17\", \"2020-05-24\", \"2020-05-31\"], \"xaxis\": \"x\", \"y\": [0, 0, 6, 20, 49, 109, 90, 128, 94, 87, 63, 43, 47, 30, 24, 17, 21, 3], \"yaxis\": \"y\"}, {\"hovertemplate\": \"County=Kitsap County<br>WeekStartDate=%{x}<br>Age 80+=%{y}<extra></extra>\", \"legendgroup\": \"Kitsap County\", \"marker\": {\"color\": \"#FFA15A\", \"symbol\": \"circle\"}, \"mode\": \"markers\", \"name\": \"Kitsap County\", \"orientation\": \"v\", \"showlegend\": true, \"type\": \"scatter\", \"x\": [\"2020-02-16\", \"2020-02-23\", \"2020-03-01\", \"2020-03-08\", \"2020-03-15\", \"2020-03-22\", \"2020-03-29\", \"2020-04-05\", \"2020-04-12\", \"2020-04-19\", \"2020-04-26\", \"2020-05-03\", \"2020-05-10\", \"2020-05-24\", \"2020-05-31\"], \"xaxis\": \"x\", \"y\": [0, 0, 0, 0, 1, 2, 2, 0, 1, 0, 0, 0, 0, 0, 0], \"yaxis\": \"y\"}, {\"hovertemplate\": \"County=Kittitas County<br>WeekStartDate=%{x}<br>Age 80+=%{y}<extra></extra>\", \"legendgroup\": \"Kittitas County\", \"marker\": {\"color\": \"#19d3f3\", \"symbol\": \"circle\"}, \"mode\": \"markers\", \"name\": \"Kittitas County\", \"orientation\": \"v\", \"showlegend\": true, \"type\": \"scatter\", \"x\": [\"2020-01-26\", \"2020-02-16\", \"2020-03-08\", \"2020-03-15\", \"2020-03-22\", \"2020-03-29\", \"2020-04-05\", \"2020-04-19\", \"2020-04-26\", \"2020-05-03\", \"2020-05-10\", \"2020-05-17\", \"2020-05-24\", \"2020-05-31\"], \"xaxis\": \"x\", \"y\": [0, 0, 0, 0, 0, 0, 0, 0, 0, 0, 0, 0, 0, 0], \"yaxis\": \"y\"}, {\"hovertemplate\": \"County=Klickitat County<br>WeekStartDate=%{x}<br>Age 80+=%{y}<extra></extra>\", \"legendgroup\": \"Klickitat County\", \"marker\": {\"color\": \"#FF6692\", \"symbol\": \"circle\"}, \"mode\": \"markers\", \"name\": \"Klickitat County\", \"orientation\": \"v\", \"showlegend\": true, \"type\": \"scatter\", \"x\": [\"2020-03-01\", \"2020-03-15\", \"2020-03-22\", \"2020-03-29\", \"2020-04-05\", \"2020-04-19\", \"2020-04-26\", \"2020-05-03\", \"2020-05-10\", \"2020-05-17\", \"2020-05-24\", \"2020-05-31\"], \"xaxis\": \"x\", \"y\": [0, 0, 1, 0, 2, 0, 0, 0, 0, 0, 0, 0], \"yaxis\": \"y\"}, {\"hovertemplate\": \"County=Lewis County<br>WeekStartDate=%{x}<br>Age 80+=%{y}<extra></extra>\", \"legendgroup\": \"Lewis County\", \"marker\": {\"color\": \"#B6E880\", \"symbol\": \"circle\"}, \"mode\": \"markers\", \"name\": \"Lewis County\", \"orientation\": \"v\", \"showlegend\": true, \"type\": \"scatter\", \"x\": [\"2020-03-08\", \"2020-03-15\", \"2020-03-22\", \"2020-03-29\", \"2020-04-05\", \"2020-04-12\", \"2020-04-19\", \"2020-04-26\", \"2020-05-03\", \"2020-05-10\", \"2020-05-24\"], \"xaxis\": \"x\", \"y\": [1, 2, 1, 0, 0, 0, 0, 0, 0, 0, 0], \"yaxis\": \"y\"}, {\"hovertemplate\": \"County=Mason County<br>WeekStartDate=%{x}<br>Age 80+=%{y}<extra></extra>\", \"legendgroup\": \"Mason County\", \"marker\": {\"color\": \"#FF97FF\", \"symbol\": \"circle\"}, \"mode\": \"markers\", \"name\": \"Mason County\", \"orientation\": \"v\", \"showlegend\": true, \"type\": \"scatter\", \"x\": [\"2020-03-08\", \"2020-03-15\", \"2020-03-22\", \"2020-03-29\", \"2020-04-12\", \"2020-04-19\", \"2020-04-26\", \"2020-05-03\", \"2020-05-10\", \"2020-05-17\", \"2020-05-24\", \"2020-05-31\"], \"xaxis\": \"x\", \"y\": [1, 0, 0, 0, 0, 0, 1, 0, 0, 0, 0, 0], \"yaxis\": \"y\"}, {\"hovertemplate\": \"County=Okanogan County<br>WeekStartDate=%{x}<br>Age 80+=%{y}<extra></extra>\", \"legendgroup\": \"Okanogan County\", \"marker\": {\"color\": \"#FECB52\", \"symbol\": \"circle\"}, \"mode\": \"markers\", \"name\": \"Okanogan County\", \"orientation\": \"v\", \"showlegend\": true, \"type\": \"scatter\", \"x\": [\"2020-03-08\", \"2020-03-15\", \"2020-03-22\", \"2020-03-29\", \"2020-04-05\", \"2020-04-12\", \"2020-04-19\", \"2020-04-26\", \"2020-05-03\", \"2020-05-10\", \"2020-05-17\", \"2020-05-24\", \"2020-05-31\"], \"xaxis\": \"x\", \"y\": [0, 0, 0, 0, 0, 0, 0, 0, 0, 0, 0, 0, 0], \"yaxis\": \"y\"}, {\"hovertemplate\": \"County=Pacific County<br>WeekStartDate=%{x}<br>Age 80+=%{y}<extra></extra>\", \"legendgroup\": \"Pacific County\", \"marker\": {\"color\": \"#636efa\", \"symbol\": \"circle\"}, \"mode\": \"markers\", \"name\": \"Pacific County\", \"orientation\": \"v\", \"showlegend\": true, \"type\": \"scatter\", \"x\": [\"2020-03-29\", \"2020-04-05\", \"2020-04-19\", \"2020-04-26\", \"2020-05-03\"], \"xaxis\": \"x\", \"y\": [0, 0, 0, 0, 0], \"yaxis\": \"y\"}, {\"hovertemplate\": \"County=Pierce County<br>WeekStartDate=%{x}<br>Age 80+=%{y}<extra></extra>\", \"legendgroup\": \"Pierce County\", \"marker\": {\"color\": \"#EF553B\", \"symbol\": \"circle\"}, \"mode\": \"markers\", \"name\": \"Pierce County\", \"orientation\": \"v\", \"showlegend\": true, \"type\": \"scatter\", \"x\": [\"2020-02-16\", \"2020-02-23\", \"2020-03-01\", \"2020-03-08\", \"2020-03-15\", \"2020-03-22\", \"2020-03-29\", \"2020-04-05\", \"2020-04-12\", \"2020-04-19\", \"2020-04-26\", \"2020-05-03\", \"2020-05-10\", \"2020-05-17\", \"2020-05-24\", \"2020-05-31\"], \"xaxis\": \"x\", \"y\": [0, 0, 1, 7, 6, 11, 25, 13, 10, 11, 6, 11, 9, 7, 8, 0], \"yaxis\": \"y\"}, {\"hovertemplate\": \"County=San Juan County<br>WeekStartDate=%{x}<br>Age 80+=%{y}<extra></extra>\", \"legendgroup\": \"San Juan County\", \"marker\": {\"color\": \"#00cc96\", \"symbol\": \"circle\"}, \"mode\": \"markers\", \"name\": \"San Juan County\", \"orientation\": \"v\", \"showlegend\": true, \"type\": \"scatter\", \"x\": [\"2020-03-08\", \"2020-03-15\", \"2020-03-22\", \"2020-03-29\", \"2020-04-05\", \"2020-04-12\"], \"xaxis\": \"x\", \"y\": [0, 0, 0, 1, 0, 0], \"yaxis\": \"y\"}, {\"hovertemplate\": \"County=Skagit County<br>WeekStartDate=%{x}<br>Age 80+=%{y}<extra></extra>\", \"legendgroup\": \"Skagit County\", \"marker\": {\"color\": \"#ab63fa\", \"symbol\": \"circle\"}, \"mode\": \"markers\", \"name\": \"Skagit County\", \"orientation\": \"v\", \"showlegend\": true, \"type\": \"scatter\", \"x\": [\"2020-02-16\", \"2020-02-23\", \"2020-03-01\", \"2020-03-08\", \"2020-03-15\", \"2020-03-22\", \"2020-03-29\", \"2020-04-05\", \"2020-04-12\", \"2020-04-19\", \"2020-04-26\", \"2020-05-03\", \"2020-05-10\", \"2020-05-17\", \"2020-05-24\", \"2020-05-31\"], \"xaxis\": \"x\", \"y\": [0, 0, 1, 3, 3, 5, 8, 0, 5, 1, 0, 1, 0, 0, 0, 0], \"yaxis\": \"y\"}, {\"hovertemplate\": \"County=Snohomish County<br>WeekStartDate=%{x}<br>Age 80+=%{y}<extra></extra>\", \"legendgroup\": \"Snohomish County\", \"marker\": {\"color\": \"#FFA15A\", \"symbol\": \"circle\"}, \"mode\": \"markers\", \"name\": \"Snohomish County\", \"orientation\": \"v\", \"showlegend\": true, \"type\": \"scatter\", \"x\": [\"2020-01-16\", \"2020-01-26\", \"2020-02-02\", \"2020-02-09\", \"2020-02-16\", \"2020-02-23\", \"2020-03-01\", \"2020-03-08\", \"2020-03-15\", \"2020-03-22\", \"2020-03-29\", \"2020-04-05\", \"2020-04-12\", \"2020-04-19\", \"2020-04-26\", \"2020-05-03\", \"2020-05-10\", \"2020-05-17\", \"2020-05-24\", \"2020-05-31\"], \"xaxis\": \"x\", \"y\": [0, 0, 2, 0, 1, 7, 22, 27, 24, 22, 34, 16, 26, 25, 29, 6, 16, 15, 0, 1], \"yaxis\": \"y\"}, {\"hovertemplate\": \"County=Spokane County<br>WeekStartDate=%{x}<br>Age 80+=%{y}<extra></extra>\", \"legendgroup\": \"Spokane County\", \"marker\": {\"color\": \"#19d3f3\", \"symbol\": \"circle\"}, \"mode\": \"markers\", \"name\": \"Spokane County\", \"orientation\": \"v\", \"showlegend\": true, \"type\": \"scatter\", \"x\": [\"2020-02-16\", \"2020-02-23\", \"2020-03-01\", \"2020-03-08\", \"2020-03-15\", \"2020-03-22\", \"2020-03-29\", \"2020-04-05\", \"2020-04-12\", \"2020-04-19\", \"2020-04-26\", \"2020-05-03\", \"2020-05-10\", \"2020-05-17\", \"2020-05-24\", \"2020-05-31\"], \"xaxis\": \"x\", \"y\": [0, 1, 0, 1, 4, 6, 3, 11, 8, 5, 5, 1, 0, 3, 1, 4], \"yaxis\": \"y\"}, {\"hovertemplate\": \"County=Stevens County<br>WeekStartDate=%{x}<br>Age 80+=%{y}<extra></extra>\", \"legendgroup\": \"Stevens County\", \"marker\": {\"color\": \"#FF6692\", \"symbol\": \"circle\"}, \"mode\": \"markers\", \"name\": \"Stevens County\", \"orientation\": \"v\", \"showlegend\": true, \"type\": \"scatter\", \"x\": [\"2020-03-01\", \"2020-03-08\", \"2020-03-15\", \"2020-03-22\", \"2020-03-29\", \"2020-04-12\", \"2020-05-10\", \"2020-05-17\", \"2020-05-24\"], \"xaxis\": \"x\", \"y\": [0, 0, 0, 0, 0, 0, 0, 0, 0], \"yaxis\": \"y\"}, {\"hovertemplate\": \"County=Thurston County<br>WeekStartDate=%{x}<br>Age 80+=%{y}<extra></extra>\", \"legendgroup\": \"Thurston County\", \"marker\": {\"color\": \"#B6E880\", \"symbol\": \"circle\"}, \"mode\": \"markers\", \"name\": \"Thurston County\", \"orientation\": \"v\", \"showlegend\": true, \"type\": \"scatter\", \"x\": [\"2020-02-23\", \"2020-03-01\", \"2020-03-08\", \"2020-03-15\", \"2020-03-22\", \"2020-03-29\", \"2020-04-05\", \"2020-04-12\", \"2020-04-19\", \"2020-04-26\", \"2020-05-03\", \"2020-05-10\", \"2020-05-17\", \"2020-05-24\", \"2020-05-31\"], \"xaxis\": \"x\", \"y\": [0, 0, 1, 0, 1, 0, 0, 0, 0, 0, 1, 0, 0, 6, 2], \"yaxis\": \"y\"}, {\"hovertemplate\": \"County=Walla Walla County<br>WeekStartDate=%{x}<br>Age 80+=%{y}<extra></extra>\", \"legendgroup\": \"Walla Walla County\", \"marker\": {\"color\": \"#FF97FF\", \"symbol\": \"circle\"}, \"mode\": \"markers\", \"name\": \"Walla Walla County\", \"orientation\": \"v\", \"showlegend\": true, \"type\": \"scatter\", \"x\": [\"2020-03-08\", \"2020-03-15\", \"2020-03-22\", \"2020-03-29\", \"2020-04-05\", \"2020-04-12\", \"2020-04-19\", \"2020-04-26\", \"2020-05-03\", \"2020-05-10\", \"2020-05-17\", \"2020-05-24\", \"2020-05-31\"], \"xaxis\": \"x\", \"y\": [0, 0, 0, 0, 0, 0, 1, 0, 2, 3, 0, 0, 0], \"yaxis\": \"y\"}, {\"hovertemplate\": \"County=Whatcom County<br>WeekStartDate=%{x}<br>Age 80+=%{y}<extra></extra>\", \"legendgroup\": \"Whatcom County\", \"marker\": {\"color\": \"#FECB52\", \"symbol\": \"circle\"}, \"mode\": \"markers\", \"name\": \"Whatcom County\", \"orientation\": \"v\", \"showlegend\": true, \"type\": \"scatter\", \"x\": [\"2020-02-16\", \"2020-02-23\", \"2020-03-01\", \"2020-03-08\", \"2020-03-15\", \"2020-03-22\", \"2020-03-29\", \"2020-04-05\", \"2020-04-12\", \"2020-04-19\", \"2020-04-26\", \"2020-05-03\", \"2020-05-10\", \"2020-05-17\", \"2020-05-24\", \"2020-05-31\"], \"xaxis\": \"x\", \"y\": [0, 0, 1, 5, 17, 16, 21, 5, 3, 0, 2, 4, 0, 1, 0, 0], \"yaxis\": \"y\"}, {\"hovertemplate\": \"County=Whitman County<br>WeekStartDate=%{x}<br>Age 80+=%{y}<extra></extra>\", \"legendgroup\": \"Whitman County\", \"marker\": {\"color\": \"#636efa\", \"symbol\": \"circle\"}, \"mode\": \"markers\", \"name\": \"Whitman County\", \"orientation\": \"v\", \"showlegend\": true, \"type\": \"scatter\", \"x\": [\"2020-03-08\", \"2020-03-15\", \"2020-03-22\", \"2020-03-29\", \"2020-04-12\", \"2020-04-19\", \"2020-05-10\", \"2020-05-17\"], \"xaxis\": \"x\", \"y\": [0, 0, 0, 0, 1, 0, 0, 0], \"yaxis\": \"y\"}, {\"hovertemplate\": \"County=Yakima County<br>WeekStartDate=%{x}<br>Age 80+=%{y}<extra></extra>\", \"legendgroup\": \"Yakima County\", \"marker\": {\"color\": \"#EF553B\", \"symbol\": \"circle\"}, \"mode\": \"markers\", \"name\": \"Yakima County\", \"orientation\": \"v\", \"showlegend\": true, \"type\": \"scatter\", \"x\": [\"2020-01-16\", \"2020-02-09\", \"2020-02-16\", \"2020-03-01\", \"2020-03-08\", \"2020-03-15\", \"2020-03-22\", \"2020-03-29\", \"2020-04-05\", \"2020-04-12\", \"2020-04-19\", \"2020-04-26\", \"2020-05-03\", \"2020-05-10\", \"2020-05-17\", \"2020-05-24\", \"2020-05-31\"], \"xaxis\": \"x\", \"y\": [0, 0, 0, 1, 0, 4, 21, 21, 14, 14, 16, 33, 34, 13, 10, 8, 6], \"yaxis\": \"y\"}, {\"hovertemplate\": \"County=Unassigned<br>WeekStartDate=%{x}<br>Age 80+=%{y}<extra></extra>\", \"legendgroup\": \"Unassigned\", \"marker\": {\"color\": \"#00cc96\", \"symbol\": \"circle\"}, \"mode\": \"markers\", \"name\": \"Unassigned\", \"orientation\": \"v\", \"showlegend\": true, \"type\": \"scatter\", \"x\": [\"2020-04-19\", \"2020-05-10\", \"2020-05-17\", \"2020-05-24\", \"2020-05-31\"], \"xaxis\": \"x\", \"y\": [0, 0, 0, 0, 1], \"yaxis\": \"y\"}],\n",
       "                        {\"legend\": {\"title\": {\"text\": \"County\"}, \"tracegroupgap\": 0}, \"margin\": {\"t\": 60}, \"template\": {\"data\": {\"bar\": [{\"error_x\": {\"color\": \"#2a3f5f\"}, \"error_y\": {\"color\": \"#2a3f5f\"}, \"marker\": {\"line\": {\"color\": \"#E5ECF6\", \"width\": 0.5}}, \"type\": \"bar\"}], \"barpolar\": [{\"marker\": {\"line\": {\"color\": \"#E5ECF6\", \"width\": 0.5}}, \"type\": \"barpolar\"}], \"carpet\": [{\"aaxis\": {\"endlinecolor\": \"#2a3f5f\", \"gridcolor\": \"white\", \"linecolor\": \"white\", \"minorgridcolor\": \"white\", \"startlinecolor\": \"#2a3f5f\"}, \"baxis\": {\"endlinecolor\": \"#2a3f5f\", \"gridcolor\": \"white\", \"linecolor\": \"white\", \"minorgridcolor\": \"white\", \"startlinecolor\": \"#2a3f5f\"}, \"type\": \"carpet\"}], \"choropleth\": [{\"colorbar\": {\"outlinewidth\": 0, \"ticks\": \"\"}, \"type\": \"choropleth\"}], \"contour\": [{\"colorbar\": {\"outlinewidth\": 0, \"ticks\": \"\"}, \"colorscale\": [[0.0, \"#0d0887\"], [0.1111111111111111, \"#46039f\"], [0.2222222222222222, \"#7201a8\"], [0.3333333333333333, \"#9c179e\"], [0.4444444444444444, \"#bd3786\"], [0.5555555555555556, \"#d8576b\"], [0.6666666666666666, \"#ed7953\"], [0.7777777777777778, \"#fb9f3a\"], [0.8888888888888888, \"#fdca26\"], [1.0, \"#f0f921\"]], \"type\": \"contour\"}], \"contourcarpet\": [{\"colorbar\": {\"outlinewidth\": 0, \"ticks\": \"\"}, \"type\": \"contourcarpet\"}], \"heatmap\": [{\"colorbar\": {\"outlinewidth\": 0, \"ticks\": \"\"}, \"colorscale\": [[0.0, \"#0d0887\"], [0.1111111111111111, \"#46039f\"], [0.2222222222222222, \"#7201a8\"], [0.3333333333333333, \"#9c179e\"], [0.4444444444444444, \"#bd3786\"], [0.5555555555555556, \"#d8576b\"], [0.6666666666666666, \"#ed7953\"], [0.7777777777777778, \"#fb9f3a\"], [0.8888888888888888, \"#fdca26\"], [1.0, \"#f0f921\"]], \"type\": \"heatmap\"}], \"heatmapgl\": [{\"colorbar\": {\"outlinewidth\": 0, \"ticks\": \"\"}, \"colorscale\": [[0.0, \"#0d0887\"], [0.1111111111111111, \"#46039f\"], [0.2222222222222222, \"#7201a8\"], [0.3333333333333333, \"#9c179e\"], [0.4444444444444444, \"#bd3786\"], [0.5555555555555556, \"#d8576b\"], [0.6666666666666666, \"#ed7953\"], [0.7777777777777778, \"#fb9f3a\"], [0.8888888888888888, \"#fdca26\"], [1.0, \"#f0f921\"]], \"type\": \"heatmapgl\"}], \"histogram\": [{\"marker\": {\"colorbar\": {\"outlinewidth\": 0, \"ticks\": \"\"}}, \"type\": \"histogram\"}], \"histogram2d\": [{\"colorbar\": {\"outlinewidth\": 0, \"ticks\": \"\"}, \"colorscale\": [[0.0, \"#0d0887\"], [0.1111111111111111, \"#46039f\"], [0.2222222222222222, \"#7201a8\"], [0.3333333333333333, \"#9c179e\"], [0.4444444444444444, \"#bd3786\"], [0.5555555555555556, \"#d8576b\"], [0.6666666666666666, \"#ed7953\"], [0.7777777777777778, \"#fb9f3a\"], [0.8888888888888888, \"#fdca26\"], [1.0, \"#f0f921\"]], \"type\": \"histogram2d\"}], \"histogram2dcontour\": [{\"colorbar\": {\"outlinewidth\": 0, \"ticks\": \"\"}, \"colorscale\": [[0.0, \"#0d0887\"], [0.1111111111111111, \"#46039f\"], [0.2222222222222222, \"#7201a8\"], [0.3333333333333333, \"#9c179e\"], [0.4444444444444444, \"#bd3786\"], [0.5555555555555556, \"#d8576b\"], [0.6666666666666666, \"#ed7953\"], [0.7777777777777778, \"#fb9f3a\"], [0.8888888888888888, \"#fdca26\"], [1.0, \"#f0f921\"]], \"type\": \"histogram2dcontour\"}], \"mesh3d\": [{\"colorbar\": {\"outlinewidth\": 0, \"ticks\": \"\"}, \"type\": \"mesh3d\"}], \"parcoords\": [{\"line\": {\"colorbar\": {\"outlinewidth\": 0, \"ticks\": \"\"}}, \"type\": \"parcoords\"}], \"pie\": [{\"automargin\": true, \"type\": \"pie\"}], \"scatter\": [{\"marker\": {\"colorbar\": {\"outlinewidth\": 0, \"ticks\": \"\"}}, \"type\": \"scatter\"}], \"scatter3d\": [{\"line\": {\"colorbar\": {\"outlinewidth\": 0, \"ticks\": \"\"}}, \"marker\": {\"colorbar\": {\"outlinewidth\": 0, \"ticks\": \"\"}}, \"type\": \"scatter3d\"}], \"scattercarpet\": [{\"marker\": {\"colorbar\": {\"outlinewidth\": 0, \"ticks\": \"\"}}, \"type\": \"scattercarpet\"}], \"scattergeo\": [{\"marker\": {\"colorbar\": {\"outlinewidth\": 0, \"ticks\": \"\"}}, \"type\": \"scattergeo\"}], \"scattergl\": [{\"marker\": {\"colorbar\": {\"outlinewidth\": 0, \"ticks\": \"\"}}, \"type\": \"scattergl\"}], \"scattermapbox\": [{\"marker\": {\"colorbar\": {\"outlinewidth\": 0, \"ticks\": \"\"}}, \"type\": \"scattermapbox\"}], \"scatterpolar\": [{\"marker\": {\"colorbar\": {\"outlinewidth\": 0, \"ticks\": \"\"}}, \"type\": \"scatterpolar\"}], \"scatterpolargl\": [{\"marker\": {\"colorbar\": {\"outlinewidth\": 0, \"ticks\": \"\"}}, \"type\": \"scatterpolargl\"}], \"scatterternary\": [{\"marker\": {\"colorbar\": {\"outlinewidth\": 0, \"ticks\": \"\"}}, \"type\": \"scatterternary\"}], \"surface\": [{\"colorbar\": {\"outlinewidth\": 0, \"ticks\": \"\"}, \"colorscale\": [[0.0, \"#0d0887\"], [0.1111111111111111, \"#46039f\"], [0.2222222222222222, \"#7201a8\"], [0.3333333333333333, \"#9c179e\"], [0.4444444444444444, \"#bd3786\"], [0.5555555555555556, \"#d8576b\"], [0.6666666666666666, \"#ed7953\"], [0.7777777777777778, \"#fb9f3a\"], [0.8888888888888888, \"#fdca26\"], [1.0, \"#f0f921\"]], \"type\": \"surface\"}], \"table\": [{\"cells\": {\"fill\": {\"color\": \"#EBF0F8\"}, \"line\": {\"color\": \"white\"}}, \"header\": {\"fill\": {\"color\": \"#C8D4E3\"}, \"line\": {\"color\": \"white\"}}, \"type\": \"table\"}]}, \"layout\": {\"annotationdefaults\": {\"arrowcolor\": \"#2a3f5f\", \"arrowhead\": 0, \"arrowwidth\": 1}, \"coloraxis\": {\"colorbar\": {\"outlinewidth\": 0, \"ticks\": \"\"}}, \"colorscale\": {\"diverging\": [[0, \"#8e0152\"], [0.1, \"#c51b7d\"], [0.2, \"#de77ae\"], [0.3, \"#f1b6da\"], [0.4, \"#fde0ef\"], [0.5, \"#f7f7f7\"], [0.6, \"#e6f5d0\"], [0.7, \"#b8e186\"], [0.8, \"#7fbc41\"], [0.9, \"#4d9221\"], [1, \"#276419\"]], \"sequential\": [[0.0, \"#0d0887\"], [0.1111111111111111, \"#46039f\"], [0.2222222222222222, \"#7201a8\"], [0.3333333333333333, \"#9c179e\"], [0.4444444444444444, \"#bd3786\"], [0.5555555555555556, \"#d8576b\"], [0.6666666666666666, \"#ed7953\"], [0.7777777777777778, \"#fb9f3a\"], [0.8888888888888888, \"#fdca26\"], [1.0, \"#f0f921\"]], \"sequentialminus\": [[0.0, \"#0d0887\"], [0.1111111111111111, \"#46039f\"], [0.2222222222222222, \"#7201a8\"], [0.3333333333333333, \"#9c179e\"], [0.4444444444444444, \"#bd3786\"], [0.5555555555555556, \"#d8576b\"], [0.6666666666666666, \"#ed7953\"], [0.7777777777777778, \"#fb9f3a\"], [0.8888888888888888, \"#fdca26\"], [1.0, \"#f0f921\"]]}, \"colorway\": [\"#636efa\", \"#EF553B\", \"#00cc96\", \"#ab63fa\", \"#FFA15A\", \"#19d3f3\", \"#FF6692\", \"#B6E880\", \"#FF97FF\", \"#FECB52\"], \"font\": {\"color\": \"#2a3f5f\"}, \"geo\": {\"bgcolor\": \"white\", \"lakecolor\": \"white\", \"landcolor\": \"#E5ECF6\", \"showlakes\": true, \"showland\": true, \"subunitcolor\": \"white\"}, \"hoverlabel\": {\"align\": \"left\"}, \"hovermode\": \"closest\", \"mapbox\": {\"style\": \"light\"}, \"paper_bgcolor\": \"white\", \"plot_bgcolor\": \"#E5ECF6\", \"polar\": {\"angularaxis\": {\"gridcolor\": \"white\", \"linecolor\": \"white\", \"ticks\": \"\"}, \"bgcolor\": \"#E5ECF6\", \"radialaxis\": {\"gridcolor\": \"white\", \"linecolor\": \"white\", \"ticks\": \"\"}}, \"scene\": {\"xaxis\": {\"backgroundcolor\": \"#E5ECF6\", \"gridcolor\": \"white\", \"gridwidth\": 2, \"linecolor\": \"white\", \"showbackground\": true, \"ticks\": \"\", \"zerolinecolor\": \"white\"}, \"yaxis\": {\"backgroundcolor\": \"#E5ECF6\", \"gridcolor\": \"white\", \"gridwidth\": 2, \"linecolor\": \"white\", \"showbackground\": true, \"ticks\": \"\", \"zerolinecolor\": \"white\"}, \"zaxis\": {\"backgroundcolor\": \"#E5ECF6\", \"gridcolor\": \"white\", \"gridwidth\": 2, \"linecolor\": \"white\", \"showbackground\": true, \"ticks\": \"\", \"zerolinecolor\": \"white\"}}, \"shapedefaults\": {\"line\": {\"color\": \"#2a3f5f\"}}, \"ternary\": {\"aaxis\": {\"gridcolor\": \"white\", \"linecolor\": \"white\", \"ticks\": \"\"}, \"baxis\": {\"gridcolor\": \"white\", \"linecolor\": \"white\", \"ticks\": \"\"}, \"bgcolor\": \"#E5ECF6\", \"caxis\": {\"gridcolor\": \"white\", \"linecolor\": \"white\", \"ticks\": \"\"}}, \"title\": {\"x\": 0.05}, \"xaxis\": {\"automargin\": true, \"gridcolor\": \"white\", \"linecolor\": \"white\", \"ticks\": \"\", \"title\": {\"standoff\": 15}, \"zerolinecolor\": \"white\", \"zerolinewidth\": 2}, \"yaxis\": {\"automargin\": true, \"gridcolor\": \"white\", \"linecolor\": \"white\", \"ticks\": \"\", \"title\": {\"standoff\": 15}, \"zerolinecolor\": \"white\", \"zerolinewidth\": 2}}}, \"xaxis\": {\"anchor\": \"y\", \"domain\": [0.0, 1.0], \"title\": {\"text\": \"WeekStartDate\"}}, \"yaxis\": {\"anchor\": \"x\", \"domain\": [0.0, 1.0], \"title\": {\"text\": \"Age 80+\"}}},\n",
       "                        {\"responsive\": true}\n",
       "                    ).then(function(){\n",
       "                            \n",
       "var gd = document.getElementById('509de773-35b8-47b3-872a-ac3c47f2b969');\n",
       "var x = new MutationObserver(function (mutations, observer) {{\n",
       "        var display = window.getComputedStyle(gd).display;\n",
       "        if (!display || display === 'none') {{\n",
       "            console.log([gd, 'removed!']);\n",
       "            Plotly.purge(gd);\n",
       "            observer.disconnect();\n",
       "        }}\n",
       "}});\n",
       "\n",
       "// Listen for the removal of the full notebook cells\n",
       "var notebookContainer = gd.closest('#notebook-container');\n",
       "if (notebookContainer) {{\n",
       "    x.observe(notebookContainer, {childList: true});\n",
       "}}\n",
       "\n",
       "// Listen for the clearing of the current output cell\n",
       "var outputEl = gd.closest('.output');\n",
       "if (outputEl) {{\n",
       "    x.observe(outputEl, {childList: true});\n",
       "}}\n",
       "\n",
       "                        })\n",
       "                };\n",
       "                });\n",
       "            </script>\n",
       "        </div>"
      ]
     },
     "metadata": {},
     "output_type": "display_data"
    }
   ],
   "source": [
    "px.scatter(df, x=\"WeekStartDate\", y='Age 80+', color='County')"
   ]
  }
 ],
 "metadata": {
  "kernelspec": {
   "display_name": "Python 3",
   "language": "python",
   "name": "python3"
  },
  "language_info": {
   "codemirror_mode": {
    "name": "ipython",
    "version": 3
   },
   "file_extension": ".py",
   "mimetype": "text/x-python",
   "name": "python",
   "nbconvert_exporter": "python",
   "pygments_lexer": "ipython3",
   "version": "3.7.5"
  },
  "toc": {
   "base_numbering": 1,
   "nav_menu": {},
   "number_sections": true,
   "sideBar": true,
   "skip_h1_title": true,
   "title_cell": "Table of Contents",
   "title_sidebar": "Contents",
   "toc_cell": false,
   "toc_position": {},
   "toc_section_display": true,
   "toc_window_display": true
  },
  "varInspector": {
   "cols": {
    "lenName": 16,
    "lenType": 16,
    "lenVar": 40
   },
   "kernels_config": {
    "python": {
     "delete_cmd_postfix": "",
     "delete_cmd_prefix": "del ",
     "library": "var_list.py",
     "varRefreshCmd": "print(var_dic_list())"
    },
    "r": {
     "delete_cmd_postfix": ") ",
     "delete_cmd_prefix": "rm(",
     "library": "var_list.r",
     "varRefreshCmd": "cat(var_dic_list()) "
    }
   },
   "types_to_exclude": [
    "module",
    "function",
    "builtin_function_or_method",
    "instance",
    "_Feature"
   ],
   "window_display": false
  }
 },
 "nbformat": 4,
 "nbformat_minor": 2
}
