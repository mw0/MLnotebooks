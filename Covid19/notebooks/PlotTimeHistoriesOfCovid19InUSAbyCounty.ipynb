{
 "cells": [
  {
   "cell_type": "markdown",
   "metadata": {},
   "source": [
    "# Title\n",
    "\n",
    "\n",
    "### Purpose\n",
    "\n",
    "State the purpose of the notebook.\n",
    "\n",
    "### Results\n",
    "\n",
    "Describe and comment the most important results.\n",
    "\n",
    "#### Note: how to find location of template file used to auto-generate notebook\n",
    "\n",
    "```python\n",
    "import jupytemplate\n",
    "print(jupytemplate.get_template_path())\n",
    "```\n",
    "\n",
    "* after editing the `template.ipynb`, copy it to the path indicated\n",
    "* `$ jupyter nbextension install --py jupytemplate --sys-prefix`\n",
    "* `$ jupyter nbextension enable jupytemplate/main --sys-prefix`"
   ]
  },
  {
   "cell_type": "markdown",
   "metadata": {},
   "source": [
    "## Setup\n",
    "\n",
    "### Library import\n",
    "We import all the required Python libraries"
   ]
  },
  {
   "cell_type": "code",
   "execution_count": null,
   "metadata": {
    "ExecuteTime": {
     "end_time": "2020-10-16T15:59:42.214355Z",
     "start_time": "2020-10-16T15:59:40.788031Z"
    }
   },
   "outputs": [],
   "source": [
    "from time import time, asctime, gmtime, localtime\n",
    "print(asctime(localtime()))\n",
    "\n",
    "t0 = time()\n",
    "\n",
    "# from platform import node\n",
    "# import io\n",
    "import requests\n",
    "import os\n",
    "from os.path import exists\n",
    "from copy import deepcopy\n",
    "# import shutil\n",
    "# from glob import glob\n",
    "from random import random\n",
    "# from collections import Counter, OrderedDict\n",
    "import gc\t\t# garbage collection module\n",
    "# import descartes\n",
    "from pathlib import Path\n",
    "# import pprint\n",
    "# import pickle\n",
    "import timeit\n",
    "import sys\n",
    "from urllib.request import urlopen\n",
    "\n",
    "# chart_studio is part of plotly, but does not have a separate __version__ variable\n",
    "import chart_studio\n",
    "import chart_studio.plotly as py\n",
    "\n",
    "print(\"Python version: \", sys.version_info[:])\n",
    "print(\"Un-versioned imports:\\n\")\n",
    "prefixStr = ''\n",
    "if 'chart_studio' in sys.modules:\n",
    "    print(prefixStr + 'chart_studio', end=\"\")\n",
    "    prefixStr = ', '\n",
    "if 'collections' in sys.modules:\n",
    "    print(prefixStr + 'collections', end=\"\")\n",
    "    prefixStr = ', '\n",
    "if 'copy' in sys.modules:\n",
    "    print(prefixStr + 'copy', end=\"\")\n",
    "    prefixStr = ', '\n",
    "if 'descartes' in sys.modules:\n",
    "    print(prefixStr + 'descartes', end=\"\")\n",
    "    prefixStr = ', '\n",
    "if 'gc' in sys.modules:\n",
    "    print(prefixStr + 'gc', end=\"\")\n",
    "    prefixStr = ', '\n",
    "if 'glob' in sys.modules:\n",
    "    print(prefixStr + 'glob', end=\"\")\n",
    "    prefixStr = ', '\n",
    "if 'io' in sys.modules:\n",
    "    print(prefixStr + 'io', end=\"\")\n",
    "    prefixStr = ', '\n",
    "if 'pathlib' in sys.modules:\n",
    "    print(prefixStr + 'pathlib', end=\"\")\n",
    "    prefixStr = ', '\n",
    "if 'pickle' in sys.modules:\n",
    "    print(prefixStr + 'pickle', end=\"\")\n",
    "    prefixStr = ', '\n",
    "if 'platform' in sys.modules:\n",
    "    print(prefixStr + 'platform', end=\"\")\n",
    "    prefixStr = ', '\n",
    "if 'plotHelpers' in sys.modules:\n",
    "    print(prefixStr + 'plotHelpers', end=\"\")\n",
    "    prefixStr = ', '\n",
    "if 'pprint' in sys.modules:\n",
    "    print(prefixStr + 'pprint', end=\"\")\n",
    "    prefixStr = ', '\n",
    "if 'os' in sys.modules:\n",
    "    print(prefixStr + 'os', end=\"\")\n",
    "    prefixStr = ', '\n",
    "if 'os.path' in sys.modules:\n",
    "    print(prefixStr + 'os.path', end=\"\")\n",
    "    prefixStr = ', '\n",
    "if 'random' in sys.modules:\n",
    "    print(prefixStr + 'random', end=\"\")\n",
    "    prefixStr = ', '\n",
    "if 'shutil' in sys.modules:\n",
    "    print(prefixStr + 'shutil', end=\"\")\n",
    "    prefixStr = ', '\n",
    "if 'sys' in sys.modules:\n",
    "    print(prefixStr + 'sys', end=\"\")\n",
    "    prefixStr = ', '\n",
    "if 'timeit' in sys.modules:\n",
    "    print(prefixStr + 'timeit', end=\"\")\n",
    "    prefixStr = ', '\n",
    "if 'utility' in sys.modules:\n",
    "    print(prefixStr + 'utility', end=\"\")\n",
    "    # prefixStr = ', '\n",
    "\n",
    "duVersion = None\n",
    "from dateutil import __version__ as duVersion\n",
    "from dateutil.parser import parse\n",
    "import urllib3\n",
    "\n",
    "import numpy as np\n",
    "\n",
    "mdVersion = None\n",
    "# from modin import __version__ as mdVersion\n",
    "# import modin.pandas as pd\n",
    "import pandas as pd\n",
    "ppVersion = None\n",
    "# from pandas_profiling import ProfileReport\n",
    "# from pandas_profiling import __version__ as ppVersion\n",
    "\n",
    "import pyreadr\n",
    "import pydot_ng\n",
    "import graphviz\n",
    "\n",
    "# import requests\n",
    "\n",
    "gpdVersion = None\n",
    "# from geopandas import __version__ as gpdVersion\n",
    "# import geopandas as gpd\n",
    "\n",
    "shpVersion = None\n",
    "from shapely import __version__ as shpVersion\n",
    "from shapely.geometry import Point\n",
    "\n",
    "scVersion = None\n",
    "from scipy import __version__ as scVersion\n",
    "import scipy.sparse as sp\n",
    "\n",
    "skVersion = None\n",
    "# from sklearn import __version__ as skVersion\n",
    "# from sklearn.feature_extraction import text\n",
    "# from sklearn.feature_extraction.text import TfidfVectorizer\n",
    "# from sklearn.feature_selection import chi2\n",
    "# from sklearn.linear_model import LogisticRegression\n",
    "# from sklearn.ensemble import RandomForestClassifier\n",
    "# from sklearn.model_selection import cross_val_score\n",
    "# from sklearn.metrics import confusion_matrix\n",
    "# from sklearn.model_selection import train_test_split\n",
    "# from sklearn import metrics\n",
    "# from sklearn.svm import LinearSVC, SVC\n",
    "# from sklearn.naive_bayes import ComplementNB\n",
    "# from sklearn.utils import class_weight\n",
    "\n",
    "tfVersion = None\n",
    "# from tensorflow import __version__ as tfVersion\n",
    "# from tensorflow.keras.preprocessing.text import Tokenizer\n",
    "# from tensorflow.keras.preprocessing.sequence import pad_sequences\n",
    "# from tensorflow.keras import Input\n",
    "# from tensorflow.keras.layers import Dense, Embedding, Bidirectional, LSTM, concatenate\n",
    "# from tensorflow.keras.models import Model\n",
    "# from tensorflow.keras.callbacks import ModelCheckpoint, TensorBoard\n",
    "# from tensorflow.keras.utils import plot_model\n",
    "\n",
    "jlVersion = None\n",
    "# from joblib import __version__ as jlVersion\n",
    "# from joblib import dump, load\n",
    "\n",
    "# Visualizations\n",
    "\n",
    "mpVersion = None\n",
    "from matplotlib import __version__ as mpVersion\n",
    "import matplotlib.pyplot as plt\n",
    "\n",
    "plVersion = None\n",
    "from plotly import __version__ as plVersion\n",
    "from plotly.subplots import make_subplots\n",
    "import plotly.graph_objs as go\n",
    "import plotly.express as px\n",
    "import plotly.io as pio\n",
    "# import plotly.offline as ply\n",
    "# plotly.offline.init_notebook_mode(connected=True)\n",
    "from plotly.offline import download_plotlyjs, init_notebook_mode, plot, iplot\n",
    "import cufflinks as cf\n",
    "# cf.go_offline(connected=True)\n",
    "cf.set_config_file(theme='white')\n",
    "cf.set_config_file(offline=True)\n",
    "\n",
    "import seaborn as sns\n",
    "import colorcet as cc\n",
    "\n",
    "print(\"\\n\")\n",
    "if 'colorcet' in sys.modules:\n",
    "    print(f\"colorcet: {cc.__version__}\", end=\"\\t\")\n",
    "if 'cufflinks' in sys.modules:\n",
    "    print(f\"cufflinks: {cf.__version__}\", end=\"\\t\")\n",
    "if 'dateutil' in sys.modules:\n",
    "    print(f\"dateutil: {duVersion}\", end=\"\\t\")\n",
    "if 'geopandas' in sys.modules:\n",
    "    print(f\"geopandas: {gpdVersion}\", end=\"\\t\")\n",
    "if 'graphviz' in sys.modules:\n",
    "    print(f\"graphviz: {duVersion}\", end=\"\\t\")\n",
    "if 'joblib' in sys.modules:\n",
    "    print(f\"joblib: {jlVersion}\", end=\"\\t\")\n",
    "if 'matplotlib' in sys.modules:\n",
    "    print(f\"matplotlib: {mpVersion}\", end=\"\\t\")\n",
    "if 'modin' in sys.modules:\n",
    "    print(f\"modin: {mdVersion}\", end=\"\\t\")\n",
    "if 'numpy' in sys.modules:\n",
    "    print(f\"numpy: {np.__version__}\", end=\"\\t\")\n",
    "if 'pandas' in sys.modules:\n",
    "    print(f\"pandas: {pd.__version__}\", end=\"\\t\")\n",
    "if 'pandas_profiling' in sys.modules:\n",
    "    print(f\"pandas_profiling: {ppVersion}\", end=\"\\t\")\n",
    "if 'plotly' in sys.modules:\n",
    "    print(f\"plotly: {plVersion}\", end=\"\\t\")\n",
    "if 'pydot' in sys.modules:\n",
    "    print(f\"pydot: {pd.__version__}\", end=\"\\t\")\n",
    "if 'pyreader' in sys.modules:\n",
    "    print(f\"pyreader: {pyreader.__version__}\", end=\"\\t\")\n",
    "if 'requests' in sys.modules:\n",
    "    print(f\"requests: {requests.__version__}\", end=\"\\t\")\n",
    "if 'scipy' in sys.modules:\n",
    "    print(f\"scipy: {scVersion}\", end=\"\\t\")\n",
    "if 'seaborn' in sys.modules:\n",
    "    print(f\"seaborn: {sns.__version__}\", end=\"\\t\")\n",
    "if 'shapely' in sys.modules:\n",
    "    print(f\"shapely: {shpVersion}\", end=\"\\t\")\n",
    "if 'sklearn' in sys.modules:\n",
    "    print(f\"sklearn: {skVersion}\", end=\"\\t\")\n",
    "if 'tensorflow' in sys.modules:\n",
    "    print(f\"tensorflow: {tfVersion}\", end=\"\\t\")\n",
    "if 'urllib3' in sys.modules:\n",
    "    print(f\"urllib3: {urllib3.__version__}\", end=\"\\t\")\n",
    "Δt = time() - t0\n",
    "print(f\"\\n\\nΔt: {Δt: 4.1f}s.\")\n",
    "\n",
    "%matplotlib inline\n",
    "\n",
    "# Options for pandas\n",
    "pd.options.display.max_columns = 30\n",
    "pd.options.display.max_rows = 50\n",
    "\n",
    "# Autoreload extension\n",
    "if 'autoreload' not in get_ipython().extension_manager.loaded:\n",
    "    %load_ext autoreload\n",
    "    \n",
    "%autoreload 2"
   ]
  },
  {
   "cell_type": "markdown",
   "metadata": {},
   "source": [
    "**Next two lines are for pretty output for all prints in a Pandas cell, not just the last**"
   ]
  },
  {
   "cell_type": "code",
   "execution_count": null,
   "metadata": {
    "ExecuteTime": {
     "end_time": "2020-10-16T15:59:42.235619Z",
     "start_time": "2020-10-16T15:59:42.217055Z"
    }
   },
   "outputs": [],
   "source": [
    "from IPython.core.interactiveshell import InteractiveShell\n",
    "InteractiveShell.ast_node_interactivity = \"all\""
   ]
  },
  {
   "cell_type": "markdown",
   "metadata": {},
   "source": [
    "### Helper function\n",
    "\n",
    "#### `choroplethCovidUSA()`\n",
    "\n",
    "Creates choropleths from data in df, using plotly geojson formatted county shapes.\n",
    "\n",
    "Modeled after Plotly's [Choropleth map using GeoJSON](https://plotly.com/python/choropleth-maps/)"
   ]
  },
  {
   "cell_type": "code",
   "execution_count": null,
   "metadata": {
    "ExecuteTime": {
     "end_time": "2020-10-16T15:59:42.259759Z",
     "start_time": "2020-10-16T15:59:42.237315Z"
    }
   },
   "outputs": [],
   "source": [
    "def choroplethCovidUSA(df, myGeoJSON, myDecimalRange, myTopOfRange,\n",
    "                       myAnimationVar=None,\n",
    "                       myLocs='fips',\n",
    "                       myColscaleVar='log10cases',\n",
    "                       myColscale='Portland',\n",
    "                       myScope='usa',\n",
    "                       myZlabel='Total cases',\n",
    "                       myHoverDescription='log10(cases)',\n",
    "                       myHoverVar='cases',\n",
    "                       myTitle='Covid-19 Total Cases to Date'):\n",
    "    \"\"\"\n",
    "    INPUT:\n",
    "        df\t\t\t\t\tpd.DataFrame, containing data to be plotted\n",
    "        myGeoJSON\t\t\tplotly shape file dict containing county shapes\n",
    "        myDecimalRange\t\tlist type(int), containing decimal orders of magnitude\n",
    "                            for color bar range. (E.g., [-3, 4] for 0.001–10000.)\n",
    "        myTopOfRange\t\tfloat, containing 'extra' range on top of decimal\n",
    "                            scale. (E.g. 30000.0 to extend myDecimalRange by less\n",
    "                            than an order of magnitude.) If None, entire range will\n",
    "                            be specified by myDecimalRange.\n",
    "        myAnimationVar\t\tstr, feature to use to select individual animation\n",
    "                            frames (typically a time-based variable, such as\n",
    "                            'weekStr'). If None, no animation, which is the default.\n",
    "        myLocs\t\t\t\tstr, feature used to select shapes from myGeoJSON dict,\n",
    "                            default: 'fips'.\n",
    "        myColscaleVar\t\tstr, column name in df for z-scale, default: 'log10cases'.\n",
    "        myColscale\t\t\tstr, valid Plotly color scale name, default: 'Portland'\n",
    "        myScope\t\t\t\tstr, identifier for geographic range, default: 'usa'\n",
    "        myZlabel\t\t\tstr, label on top of color bar\n",
    "        myHoverDescription\tstr, label, in addition to myLocs, to describe values in\n",
    "                            DataFrame column used for colorbar intensity, default:\n",
    "                            'Total cases'\n",
    "        myHoverVar\t\t\tstr, feature values to be shown when hovering over a\n",
    "                            region.\n",
    "        myTitle\t\t\t\tstr, figure title, default: \"Covid-19 Total Cases to Date\"\n",
    "    \"\"\"\n",
    "\n",
    "    minval = df[myColscaleVar].replace(0, np.nan).min()\n",
    "    maxval = np.max(df[myColscaleVar])\n",
    "    print(f\"minval: {minval}, maxval: {maxval}\")\n",
    "\n",
    "    myBottomOfRange = 10**myDecimalRange[0]\n",
    "    if maxval > myTopOfRange:\n",
    "        print(\"WARNING: maximum value exceeds top of your range.\"\n",
    "              f\" {maxval} > {myTopOfRange}.\")\n",
    "    if minval < 10**myDecimalRange[0]:\n",
    "        print(\"WARNING: minimum value is below bottom of your range.\"\n",
    "              f\" {minval} < {myBottomOfRange}.\")\n",
    "\n",
    "    linVals = np.logspace(myDecimalRange[0], myDecimalRange[1],\n",
    "                          int(myDecimalRange[1] - myDecimalRange[0]) + 1)\n",
    "    if myTopOfRange is not None:\n",
    "        linVals = np.append(linVals, myTopOfRange)\n",
    "    linVals = [round(lv, 4) for lv in linVals]\n",
    "    logVals = [round(lv, 4) for lv in np.log10(linVals)]\n",
    "\n",
    "    # coloraxis_colorbar dict needs ticktext to an array of strings:\n",
    "    linVals = [str(lv) for lv in linVals]\n",
    "    print(linVals)\n",
    "    print(logVals)\n",
    "\n",
    "    fig = px.choropleth(df,\n",
    "                        animation_frame=myAnimationVar,\n",
    "                        geojson=myGeoJSON,\n",
    "                        locations=myLocs,\n",
    "                        color=myColscaleVar,\n",
    "                        color_continuous_scale=myColscale,\n",
    "                        range_color=(logVals[0], logVals[-1]),\n",
    "                        scope=myScope,\n",
    "                        hover_name=myHoverVar,\n",
    "                        labels={myColscaleVar: myHoverDescription}\n",
    "                       )\n",
    "    fig.update_layout(margin={\"r\": 0, \"t\": 0, \"l\": 0, \"b\": 0},\n",
    "                      title={'text': myTitle,\n",
    "                             'x': 0.5, 'xanchor': 'center',\n",
    "                             'y': 0.97, 'yanchor': 'top'},\n",
    "                      coloraxis_colorbar=dict(title=myZlabel,\n",
    "                                              tickvals=logVals,\n",
    "                                              ticktext=linVals)\n",
    "                     )\n",
    "\n",
    "    fig.show(\"notebook\")\n",
    "\n",
    "    return fig"
   ]
  },
  {
   "cell_type": "markdown",
   "metadata": {},
   "source": [
    "## Generate Plots from MungedCovid19 data\n",
    "\n",
    "**<font color=\"darkred\">This uses data created by [NewYorkTimesCovid19DataMunging.ipynb](NewYorkTimesCovid19DataMunging.ipynb)</font>**\n",
    "\n",
    "## Data import\n",
    "\n",
    "### Load munged Covid-19 data\n",
    "\n",
    "* data are stored in feather format"
   ]
  },
  {
   "cell_type": "code",
   "execution_count": null,
   "metadata": {
    "ExecuteTime": {
     "end_time": "2020-10-16T15:59:42.352659Z",
     "start_time": "2020-10-16T15:59:42.261424Z"
    },
    "scrolled": false
   },
   "outputs": [],
   "source": [
    "basePath = Path.cwd()\n",
    "dataPath = basePath.parent / 'data'\n",
    "\n",
    "df = pd.read_feather(dataPath / 'MungedCovid19v1.2.ftr', use_threads=True)\n",
    "df.head().T"
   ]
  },
  {
   "cell_type": "markdown",
   "metadata": {},
   "source": [
    "#### Remove columns not currently needed to reduce the size of data file for web page"
   ]
  },
  {
   "cell_type": "code",
   "execution_count": null,
   "metadata": {
    "ExecuteTime": {
     "end_time": "2020-10-16T15:59:42.386912Z",
     "start_time": "2020-10-16T15:59:42.354732Z"
    }
   },
   "outputs": [],
   "source": [
    "df = df[['fips', 'weekStr', 'cases', 'deaths', 'casesk', 'deathsk',\n",
    "        'log10cases', 'log10deaths', 'log10casesk', 'log10deathsk']]\n",
    "df.info()"
   ]
  },
  {
   "cell_type": "markdown",
   "metadata": {},
   "source": [
    "### Get JSON file from plotly github repo\n",
    "\n",
    "* if first time, fetch and save to disk\n",
    "* else, read file from disk"
   ]
  },
  {
   "cell_type": "code",
   "execution_count": null,
   "metadata": {
    "ExecuteTime": {
     "end_time": "2020-10-16T15:59:42.619915Z",
     "start_time": "2020-10-16T15:59:42.388597Z"
    }
   },
   "outputs": [],
   "source": [
    "commonDataPath = basePath.parent.parent / 'commonData'\n",
    "countyShapesFile = commonDataPath / 'UScountyShapes.json'\n",
    "if countyShapesFile.is_file():\n",
    "    print(f\"Found shape file {countyShapesFile}\")\n",
    "    with open(countyShapesFile, 'r') as shapesHandle:\n",
    "        counties = json.load(shapesHandle)\n",
    "else:\n",
    "    print(f\"Fetching shape file {countyShapesFile}\")\n",
    "    URL = 'https://raw.githubusercontent.com/plotly/datasets/master/geojson-counties-fips.json'\n",
    "    with urlopen(URL) as response:\n",
    "        counties = json.load(response)\n",
    "    with open(countyShapesFile, 'w') as outFile:\n",
    "        json.dump(counties, outFile)"
   ]
  },
  {
   "cell_type": "code",
   "execution_count": null,
   "metadata": {
    "ExecuteTime": {
     "end_time": "2020-10-16T15:59:42.637431Z",
     "start_time": "2020-10-16T15:59:42.621659Z"
    }
   },
   "outputs": [],
   "source": [
    "print(df.columns)"
   ]
  },
  {
   "cell_type": "markdown",
   "metadata": {},
   "source": [
    "## Plots\n",
    "\n",
    "### Credentials for uploading to plotly.com\n",
    "\n",
    "* two values are stored as environment variables that are passed to available to jupyter instance"
   ]
  },
  {
   "cell_type": "code",
   "execution_count": null,
   "metadata": {
    "ExecuteTime": {
     "end_time": "2020-10-16T15:59:42.657870Z",
     "start_time": "2020-10-16T15:59:42.639170Z"
    }
   },
   "outputs": [],
   "source": [
    "username = os.environ['PlotlyUsername']\n",
    "api_key = os.environ['PlotlyAPIkey']\n",
    "chart_studio.tools.set_credentials_file(username=username, api_key=api_key)"
   ]
  },
  {
   "cell_type": "markdown",
   "metadata": {},
   "source": [
    "### Animated all-data plots\n",
    "\n",
    "* Modeled after Plotly's [Choropleth map using GeoJSON](https://plotly.com/python/choropleth-maps/).\n",
    "* Animations are based upon `weekStr` column values, which are strings containing the first Monday of the week plotted. (Typically, the maximum values taken will arrive later in the week.)\n",
    "\n",
    "#### Case counts"
   ]
  },
  {
   "cell_type": "code",
   "execution_count": null,
   "metadata": {
    "ExecuteTime": {
     "end_time": "2020-10-16T16:01:01.431872Z",
     "start_time": "2020-10-16T15:59:42.659490Z"
    },
    "scrolled": false
   },
   "outputs": [],
   "source": [
    "figCaseCts = choroplethCovidUSA(df, counties, [-1, 5], 300000.0,\n",
    "                                myAnimationVar='weekStr',\n",
    "                                myTitle=\"Covid-19 Total Cases\"\n",
    "                               )"
   ]
  },
  {
   "cell_type": "markdown",
   "metadata": {},
   "source": [
    "##### Export HTML w/ JavaScript"
   ]
  },
  {
   "cell_type": "code",
   "execution_count": null,
   "metadata": {
    "ExecuteTime": {
     "start_time": "2020-10-16T16:05:28.435Z"
    }
   },
   "outputs": [],
   "source": [
    "# py.plot(figCaseCts, filename='Covid19CaseCtsUScounties', auto_open=True)\n",
    "pio.write_html(figCaseCts, file='Covid19CaseCtsUScounties.html', auto_open=True)"
   ]
  },
  {
   "cell_type": "markdown",
   "metadata": {},
   "source": [
    "#### Death counts"
   ]
  },
  {
   "cell_type": "code",
   "execution_count": null,
   "metadata": {
    "ExecuteTime": {
     "start_time": "2020-10-16T16:05:30.108Z"
    }
   },
   "outputs": [],
   "source": [
    "figDeathCts = choroplethCovidUSA(df, counties, [-1, 4], 25000.0,\n",
    "                                 myAnimationVar='weekStr',\n",
    "                                 myColscaleVar='log10deaths',\n",
    "                                 myZlabel='Total deaths',\n",
    "                                 myHoverDescription='Total deaths',\n",
    "                                 myHoverVar='deaths',\n",
    "                                 myTitle=\"Covid-19 Total Deaths\"\n",
    "                                )"
   ]
  },
  {
   "cell_type": "code",
   "execution_count": null,
   "metadata": {
    "ExecuteTime": {
     "start_time": "2020-10-16T06:05:01.927Z"
    }
   },
   "outputs": [],
   "source": [
    "# py.plot(figCaseCts, filename='Covid19DeathCtsUScounties', auto_open=True)\n",
    "pio.write_html(figDeathCts, file='Covid19DeathCtsUScounties.html', auto_open=True)"
   ]
  },
  {
   "cell_type": "markdown",
   "metadata": {},
   "source": [
    "#### Cases per thousand"
   ]
  },
  {
   "cell_type": "code",
   "execution_count": null,
   "metadata": {
    "ExecuteTime": {
     "start_time": "2020-10-16T06:05:02.048Z"
    }
   },
   "outputs": [],
   "source": [
    "figCasesPerK = choroplethCovidUSA(df, counties, [0, 2], 170.0,\n",
    "                                  myAnimationVar='weekStr',\n",
    "                                  myColscaleVar='log10casesk',\n",
    "                                  myZlabel='Total cases per 1000',\n",
    "                                  myHoverDescription='Total cases per 1000',\n",
    "                                  myHoverVar='casesk',\n",
    "                                  myTitle=\"Covid-19 Total Cases per 1000\"\n",
    "                                 )"
   ]
  },
  {
   "cell_type": "code",
   "execution_count": null,
   "metadata": {
    "ExecuteTime": {
     "start_time": "2020-10-16T06:05:02.052Z"
    }
   },
   "outputs": [],
   "source": [
    "# py.plot(figCaseCts, filename='Covid19DeathCtsUScounties', auto_open=True)\n",
    "pio.write_html(figCasesPerK, file='Covid19CasesPerThousandUScounties.html', auto_open=True)"
   ]
  },
  {
   "cell_type": "markdown",
   "metadata": {},
   "source": [
    "#### Deaths per thousand"
   ]
  },
  {
   "cell_type": "code",
   "execution_count": null,
   "metadata": {
    "ExecuteTime": {
     "start_time": "2020-10-16T06:05:02.171Z"
    }
   },
   "outputs": [],
   "source": [
    "figDeathsPerK = choroplethCovidUSA(df, counties, [-2, 0], 5.2,\n",
    "                                   myAnimationVar='weekStr',\n",
    "                                   myColscaleVar='log10deathsk',\n",
    "                                   myZlabel='Total deaths per 1000',\n",
    "                                   myHoverDescription='Total deaths per 1000',\n",
    "                                   myHoverVar='deathsk',\n",
    "                                   myTitle=\"Covid-19 Total Deaths per 1000\"\n",
    "                                  )"
   ]
  },
  {
   "cell_type": "code",
   "execution_count": null,
   "metadata": {
    "ExecuteTime": {
     "start_time": "2020-10-16T06:05:02.175Z"
    }
   },
   "outputs": [],
   "source": [
    "# py.plot(figCaseCts, filename='Covid19DeathCtsUScounties', auto_open=True)\n",
    "pio.write_html(figDeathsPerK, file='Covid19DeathsPerThousandUScounties.html', auto_open=True)"
   ]
  }
 ],
 "metadata": {
  "kernelspec": {
   "display_name": "Python 3",
   "language": "python",
   "name": "python3"
  },
  "language_info": {
   "codemirror_mode": {
    "name": "ipython",
    "version": 3
   },
   "file_extension": ".py",
   "mimetype": "text/x-python",
   "name": "python",
   "nbconvert_exporter": "python",
   "pygments_lexer": "ipython3",
   "version": "3.6.9"
  },
  "toc": {
   "base_numbering": 1,
   "nav_menu": {},
   "number_sections": true,
   "sideBar": true,
   "skip_h1_title": true,
   "title_cell": "Table of Contents",
   "title_sidebar": "Contents",
   "toc_cell": false,
   "toc_position": {
    "height": "424.716px",
    "left": "10px",
    "top": "150px",
    "width": "303.267px"
   },
   "toc_section_display": true,
   "toc_window_display": true
  }
 },
 "nbformat": 4,
 "nbformat_minor": 4
}
