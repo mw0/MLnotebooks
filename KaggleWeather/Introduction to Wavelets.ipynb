{
 "cells": [
  {
   "cell_type": "markdown",
   "metadata": {},
   "source": [
    "# Introduction to wavelets\n",
    "\n",
    "This closely follows Alexandre Sauve's [A gentle introduction to wavelet [sic] for data analysis](https://www.kaggle.com/asauve/a-gentle-introduction-to-wavelet-for-data-analysis/comments)\n",
    "\n",
    "\n",
    "<font color='darkgreen'>**As this notebook is lengthy, readers will find it much easier to navigate with [Jupyter Nbextensions](https://github.com/ipython-contrib/jupyter_contrib_nbextensions) installed, and Table of Contents (2) selected:**</font>\n",
    "\n",
    "## Preliminaries\n",
    "\n",
    "### Python imports\n",
    "\n",
    "**Next two lines are for pretty output for all prints in a cell, not just the last.**"
   ]
  },
  {
   "cell_type": "code",
   "execution_count": 1,
   "metadata": {},
   "outputs": [],
   "source": [
    "from IPython.core.interactiveshell import InteractiveShell\n",
    "InteractiveShell.ast_node_interactivity = \"all\""
   ]
  },
  {
   "cell_type": "markdown",
   "metadata": {},
   "source": [
    "**`DataSci` contains generally helpful data science stuff, while `plotHelpers` includes plot functions specifically.**"
   ]
  },
  {
   "cell_type": "code",
   "execution_count": 2,
   "metadata": {},
   "outputs": [],
   "source": [
    "import sys\n",
    "sys.path.append('/home/wilber/work/Mlib')\n",
    "from utility import DataSci as util\n",
    "import plotHelpers as ph"
   ]
  },
  {
   "cell_type": "code",
   "execution_count": 26,
   "metadata": {},
   "outputs": [
    {
     "name": "stdout",
     "output_type": "stream",
     "text": [
      "Tue Sep 17 02:13:18 2019\n",
      "Python version:  (3, 7, 4, 'final', 0)\n",
      "Un-versioned imports:\n",
      "\n",
      "sys, utility, plotHelpers, platform, os, os.path, shutil, glob, random, collections, gc, pprint, pickle, timeit\n",
      "\n",
      "dateutil: None\tnumpy: 1.16.4\tpandas: 0.24.2\tscaleogram: 0.9.5\tpywt: 1.0.3\tscipy: None\tjoblib: None\tseaborn: 0.9.0\tcolorcet: 1.0.0\tmatplotlib: 3.1.0\t\n",
      "\n",
      "Δt:  0.0s.\n"
     ]
    }
   ],
   "source": [
    "from time import time, asctime, gmtime\n",
    "print(asctime(gmtime()))\n",
    "\n",
    "t0 = time()\n",
    "\n",
    "# from platform import node\n",
    "import os\n",
    "# from os.path import exists\n",
    "# import shutil\n",
    "# from glob import glob\n",
    "# from random import random\n",
    "# from collections import Counter, OrderedDict\n",
    "# import gc\t\t# garbage collection module\n",
    "# import pprint\n",
    "# import pickle\n",
    "import timeit\n",
    "\n",
    "print(\"Python version: \", sys.version_info[:])\n",
    "print(\"Un-versioned imports:\\n\")\n",
    "if 'sys' in sys.modules:\n",
    "    print('sys', end=\"\")\n",
    "if 'utility' in sys.modules:\n",
    "    print(', utility', end=\"\")\n",
    "if 'plotHelpers' in sys.modules:\n",
    "    print(', plotHelpers', end=\"\")\n",
    "if 'platform' in sys.modules:\n",
    "    print(', platform', end=\"\")\n",
    "if 'os' in sys.modules:\n",
    "    print(', os', end=\"\")\n",
    "if 'os.path' in sys.modules:\n",
    "    print(', os.path', end=\"\")\n",
    "if 'shutil' in sys.modules:\n",
    "    print(', shutil', end=\"\")\n",
    "if 'glob' in sys.modules:\n",
    "    print(', glob', end=\"\")\n",
    "if 'random' in sys.modules:\n",
    "    print(', random', end=\"\")\n",
    "if 'collections' in sys.modules:\n",
    "    print(', collections', end=\"\")\n",
    "if 'gc' in sys.modules:\n",
    "    print(', gc', end=\"\")\n",
    "if 'pprint' in sys.modules:\n",
    "    print(', pprint', end=\"\")\n",
    "if 'pickle' in sys.modules:\n",
    "    print(', pickle', end=\"\")\n",
    "if 'timeit' in sys.modules:\n",
    "    print(', timeit', end=\"\")\n",
    "\n",
    "duVersion = None\n",
    "# from dateutil import __version__ as duVersion\n",
    "# from dateutil.parser import parse\n",
    "import numpy as np\n",
    "import pandas as pd\n",
    "# import pyreadr\n",
    "import scaleogram as scg\n",
    "import pywt\n",
    "\n",
    "scVersion = None\n",
    "# from scipy import __version__ as scVersion\n",
    "# import scipy.sparse as sp\n",
    "\n",
    "jlVersion = None\n",
    "# from joblib import __version__ as jlVersion\n",
    "# from joblib import dump, load\n",
    "\n",
    "import seaborn as sns\n",
    "import colorcet as cc\n",
    "from matplotlib import __version__ as mpVersion\n",
    "import matplotlib.pyplot as plt\n",
    "\n",
    "print(\"\\n\")\n",
    "if 'dateutil' in sys.modules:\n",
    "    print(f\"dateutil: {duVersion}\", end=\"\\t\")\n",
    "if 'numpy' in sys.modules:\n",
    "    print(f\"numpy: {np.__version__}\", end=\"\\t\")\n",
    "if 'pandas' in sys.modules:\n",
    "    print(f\"pandas: {pd.__version__}\", end=\"\\t\")\n",
    "if 'pyreader' in sys.modules:\n",
    "    print(f\"pyreader: {pyreader.__version__}\", end=\"\\t\")\n",
    "if 'scaleogram' in sys.modules:\n",
    "    print(f\"scaleogram: {scg.__version__}\", end=\"\\t\")\n",
    "if 'pywt' in sys.modules:\n",
    "    print(f\"pywt: {pywt.__version__}\", end=\"\\t\")\n",
    "if 'scipy' in sys.modules:\n",
    "    print(f\"scipy: {scVersion}\", end=\"\\t\")\n",
    "if 'joblib' in sys.modules:\n",
    "    print(f\"joblib: {jlVersion}\", end=\"\\t\")\n",
    "if 'seaborn' in sys.modules:\n",
    "    print(f\"seaborn: {sns.__version__}\", end=\"\\t\")\n",
    "if 'colorcet' in sys.modules:\n",
    "    print(f\"colorcet: {cc.__version__}\", end=\"\\t\")\n",
    "if 'matplotlib' in sys.modules:\n",
    "    print(f\"matplotlib: {mpVersion}\", end=\"\\t\")\n",
    "# if '' in sys.modules:\n",
    "#     print(f\": {.__version__}\", end=\"\\t\")\n",
    "Δt = time() - t0\n",
    "print(f\"\\n\\nΔt: {Δt: 4.1f}s.\")\n",
    "\n",
    "%matplotlib inline"
   ]
  },
  {
   "cell_type": "markdown",
   "metadata": {},
   "source": [
    "### Nino 3 data  set\n",
    "\n",
    "#### Load data"
   ]
  },
  {
   "cell_type": "code",
   "execution_count": 9,
   "metadata": {},
   "outputs": [
    {
     "name": "stderr",
     "output_type": "stream",
     "text": [
      "/usr/local/lib/python3.7/site-packages/ipykernel_launcher.py:2: FutureWarning: read_table is deprecated, use read_csv instead, passing sep='\\t'.\n",
      "  \n"
     ]
    },
    {
     "data": {
      "text/plain": [
       "0   -0.30\n",
       "1   -0.14\n",
       "2   -0.41\n",
       "3   -0.46\n",
       "4   -0.66\n",
       "Name: -0.15, dtype: float64"
      ]
     },
     "execution_count": 9,
     "metadata": {},
     "output_type": "execute_result"
    },
    {
     "data": {
      "text/plain": [
       "498   -0.22\n",
       "499    0.08\n",
       "500   -0.08\n",
       "501   -0.18\n",
       "502   -0.06\n",
       "Name: -0.15, dtype: float64"
      ]
     },
     "execution_count": 9,
     "metadata": {},
     "output_type": "execute_result"
    }
   ],
   "source": [
    "nino3 = \"http://paos.colorado.edu/research/wavelets/wave_idl/sst_nino3.dat\"\n",
    "nino3 = pd.read_table(nino3)\n",
    "nino3 = nino3.squeeze()\n",
    "nino3.head()\n",
    "nino3.tail()"
   ]
  },
  {
   "cell_type": "code",
   "execution_count": 10,
   "metadata": {},
   "outputs": [
    {
     "name": "stdout",
     "output_type": "stream",
     "text": [
      "503\n"
     ]
    }
   ],
   "source": [
    "N = nino3.size\n",
    "print(N)"
   ]
  },
  {
   "cell_type": "markdown",
   "metadata": {},
   "source": [
    "##### Create a time variable\n",
    "\n",
    "* Time series starts in 1871, and intervals are quarterly"
   ]
  },
  {
   "cell_type": "code",
   "execution_count": 11,
   "metadata": {},
   "outputs": [
    {
     "data": {
      "text/plain": [
       "array([1871.  , 1871.25, 1871.5 , 1871.75, 1872.  , 1872.25, 1872.5 ,\n",
       "       1872.75, 1873.  , 1873.25, 1873.5 , 1873.75, 1874.  , 1874.25,\n",
       "       1874.5 , 1874.75, 1875.  , 1875.25, 1875.5 , 1875.75, 1876.  ,\n",
       "       1876.25, 1876.5 , 1876.75, 1877.  , 1877.25, 1877.5 , 1877.75,\n",
       "       1878.  , 1878.25, 1878.5 , 1878.75, 1879.  , 1879.25, 1879.5 ,\n",
       "       1879.75, 1880.  , 1880.25, 1880.5 , 1880.75, 1881.  , 1881.25,\n",
       "       1881.5 , 1881.75, 1882.  , 1882.25, 1882.5 , 1882.75, 1883.  ,\n",
       "       1883.25, 1883.5 , 1883.75, 1884.  , 1884.25, 1884.5 , 1884.75,\n",
       "       1885.  , 1885.25, 1885.5 , 1885.75, 1886.  , 1886.25, 1886.5 ,\n",
       "       1886.75, 1887.  , 1887.25, 1887.5 , 1887.75, 1888.  , 1888.25,\n",
       "       1888.5 , 1888.75, 1889.  , 1889.25, 1889.5 , 1889.75, 1890.  ,\n",
       "       1890.25, 1890.5 , 1890.75, 1891.  , 1891.25, 1891.5 , 1891.75,\n",
       "       1892.  , 1892.25, 1892.5 , 1892.75, 1893.  , 1893.25, 1893.5 ,\n",
       "       1893.75, 1894.  , 1894.25, 1894.5 , 1894.75, 1895.  , 1895.25,\n",
       "       1895.5 , 1895.75, 1896.  , 1896.25, 1896.5 , 1896.75, 1897.  ,\n",
       "       1897.25, 1897.5 , 1897.75, 1898.  , 1898.25, 1898.5 , 1898.75,\n",
       "       1899.  , 1899.25, 1899.5 , 1899.75, 1900.  , 1900.25, 1900.5 ,\n",
       "       1900.75, 1901.  , 1901.25, 1901.5 , 1901.75, 1902.  , 1902.25,\n",
       "       1902.5 , 1902.75, 1903.  , 1903.25, 1903.5 , 1903.75, 1904.  ,\n",
       "       1904.25, 1904.5 , 1904.75, 1905.  , 1905.25, 1905.5 , 1905.75,\n",
       "       1906.  , 1906.25, 1906.5 , 1906.75, 1907.  , 1907.25, 1907.5 ,\n",
       "       1907.75, 1908.  , 1908.25, 1908.5 , 1908.75, 1909.  , 1909.25,\n",
       "       1909.5 , 1909.75, 1910.  , 1910.25, 1910.5 , 1910.75, 1911.  ,\n",
       "       1911.25, 1911.5 , 1911.75, 1912.  , 1912.25, 1912.5 , 1912.75,\n",
       "       1913.  , 1913.25, 1913.5 , 1913.75, 1914.  , 1914.25, 1914.5 ,\n",
       "       1914.75, 1915.  , 1915.25, 1915.5 , 1915.75, 1916.  , 1916.25,\n",
       "       1916.5 , 1916.75, 1917.  , 1917.25, 1917.5 , 1917.75, 1918.  ,\n",
       "       1918.25, 1918.5 , 1918.75, 1919.  , 1919.25, 1919.5 , 1919.75,\n",
       "       1920.  , 1920.25, 1920.5 , 1920.75, 1921.  , 1921.25, 1921.5 ,\n",
       "       1921.75, 1922.  , 1922.25, 1922.5 , 1922.75, 1923.  , 1923.25,\n",
       "       1923.5 , 1923.75, 1924.  , 1924.25, 1924.5 , 1924.75, 1925.  ,\n",
       "       1925.25, 1925.5 , 1925.75, 1926.  , 1926.25, 1926.5 , 1926.75,\n",
       "       1927.  , 1927.25, 1927.5 , 1927.75, 1928.  , 1928.25, 1928.5 ,\n",
       "       1928.75, 1929.  , 1929.25, 1929.5 , 1929.75, 1930.  , 1930.25,\n",
       "       1930.5 , 1930.75, 1931.  , 1931.25, 1931.5 , 1931.75, 1932.  ,\n",
       "       1932.25, 1932.5 , 1932.75, 1933.  , 1933.25, 1933.5 , 1933.75,\n",
       "       1934.  , 1934.25, 1934.5 , 1934.75, 1935.  , 1935.25, 1935.5 ,\n",
       "       1935.75, 1936.  , 1936.25, 1936.5 , 1936.75, 1937.  , 1937.25,\n",
       "       1937.5 , 1937.75, 1938.  , 1938.25, 1938.5 , 1938.75, 1939.  ,\n",
       "       1939.25, 1939.5 , 1939.75, 1940.  , 1940.25, 1940.5 , 1940.75,\n",
       "       1941.  , 1941.25, 1941.5 , 1941.75, 1942.  , 1942.25, 1942.5 ,\n",
       "       1942.75, 1943.  , 1943.25, 1943.5 , 1943.75, 1944.  , 1944.25,\n",
       "       1944.5 , 1944.75, 1945.  , 1945.25, 1945.5 , 1945.75, 1946.  ,\n",
       "       1946.25, 1946.5 , 1946.75, 1947.  , 1947.25, 1947.5 , 1947.75,\n",
       "       1948.  , 1948.25, 1948.5 , 1948.75, 1949.  , 1949.25, 1949.5 ,\n",
       "       1949.75, 1950.  , 1950.25, 1950.5 , 1950.75, 1951.  , 1951.25,\n",
       "       1951.5 , 1951.75, 1952.  , 1952.25, 1952.5 , 1952.75, 1953.  ,\n",
       "       1953.25, 1953.5 , 1953.75, 1954.  , 1954.25, 1954.5 , 1954.75,\n",
       "       1955.  , 1955.25, 1955.5 , 1955.75, 1956.  , 1956.25, 1956.5 ,\n",
       "       1956.75, 1957.  , 1957.25, 1957.5 , 1957.75, 1958.  , 1958.25,\n",
       "       1958.5 , 1958.75, 1959.  , 1959.25, 1959.5 , 1959.75, 1960.  ,\n",
       "       1960.25, 1960.5 , 1960.75, 1961.  , 1961.25, 1961.5 , 1961.75,\n",
       "       1962.  , 1962.25, 1962.5 , 1962.75, 1963.  , 1963.25, 1963.5 ,\n",
       "       1963.75, 1964.  , 1964.25, 1964.5 , 1964.75, 1965.  , 1965.25,\n",
       "       1965.5 , 1965.75, 1966.  , 1966.25, 1966.5 , 1966.75, 1967.  ,\n",
       "       1967.25, 1967.5 , 1967.75, 1968.  , 1968.25, 1968.5 , 1968.75,\n",
       "       1969.  , 1969.25, 1969.5 , 1969.75, 1970.  , 1970.25, 1970.5 ,\n",
       "       1970.75, 1971.  , 1971.25, 1971.5 , 1971.75, 1972.  , 1972.25,\n",
       "       1972.5 , 1972.75, 1973.  , 1973.25, 1973.5 , 1973.75, 1974.  ,\n",
       "       1974.25, 1974.5 , 1974.75, 1975.  , 1975.25, 1975.5 , 1975.75,\n",
       "       1976.  , 1976.25, 1976.5 , 1976.75, 1977.  , 1977.25, 1977.5 ,\n",
       "       1977.75, 1978.  , 1978.25, 1978.5 , 1978.75, 1979.  , 1979.25,\n",
       "       1979.5 , 1979.75, 1980.  , 1980.25, 1980.5 , 1980.75, 1981.  ,\n",
       "       1981.25, 1981.5 , 1981.75, 1982.  , 1982.25, 1982.5 , 1982.75,\n",
       "       1983.  , 1983.25, 1983.5 , 1983.75, 1984.  , 1984.25, 1984.5 ,\n",
       "       1984.75, 1985.  , 1985.25, 1985.5 , 1985.75, 1986.  , 1986.25,\n",
       "       1986.5 , 1986.75, 1987.  , 1987.25, 1987.5 , 1987.75, 1988.  ,\n",
       "       1988.25, 1988.5 , 1988.75, 1989.  , 1989.25, 1989.5 , 1989.75,\n",
       "       1990.  , 1990.25, 1990.5 , 1990.75, 1991.  , 1991.25, 1991.5 ,\n",
       "       1991.75, 1992.  , 1992.25, 1992.5 , 1992.75, 1993.  , 1993.25,\n",
       "       1993.5 , 1993.75, 1994.  , 1994.25, 1994.5 , 1994.75, 1995.  ,\n",
       "       1995.25, 1995.5 , 1995.75, 1996.  , 1996.25, 1996.5 ])"
      ]
     },
     "execution_count": 11,
     "metadata": {},
     "output_type": "execute_result"
    }
   ],
   "source": [
    "t0 = 1871\n",
    "dt = 0.25\n",
    "year = np.arange(0, N) * dt + t0\n",
    "year"
   ]
  },
  {
   "cell_type": "markdown",
   "metadata": {},
   "source": [
    "#### Plot time series"
   ]
  },
  {
   "cell_type": "code",
   "execution_count": 24,
   "metadata": {},
   "outputs": [
    {
     "data": {
      "text/plain": [
       "[<matplotlib.lines.Line2D at 0x7fb7d4246a90>]"
      ]
     },
     "execution_count": 24,
     "metadata": {},
     "output_type": "execute_result"
    },
    {
     "data": {
      "text/plain": [
       "Text(0, 0.5, '$^{\\\\circ}$C')"
      ]
     },
     "execution_count": 24,
     "metadata": {},
     "output_type": "execute_result"
    },
    {
     "data": {
      "text/plain": [
       "Text(0.5, 0, 'year')"
      ]
     },
     "execution_count": 24,
     "metadata": {},
     "output_type": "execute_result"
    },
    {
     "data": {
      "text/plain": [
       "<matplotlib.lines.Line2D at 0x7fb7d423dd50>"
      ]
     },
     "execution_count": 24,
     "metadata": {},
     "output_type": "execute_result"
    },
    {
     "data": {
      "text/plain": [
       "<matplotlib.legend.Legend at 0x7fb7d423df50>"
      ]
     },
     "execution_count": 24,
     "metadata": {},
     "output_type": "execute_result"
    },
    {
     "data": {
      "text/plain": [
       "Text(0.5, 0.98, 'NINO3 SST')"
      ]
     },
     "execution_count": 24,
     "metadata": {},
     "output_type": "execute_result"
    },
    {
     "data": {
      "image/png": "[encoded data removed]",
      "text/plain": [
       "<Figure size 1296x216 with 1 Axes>"
      ]
     },
     "metadata": {
      "needs_background": "light"
     },
     "output_type": "display_data"
    }
   ],
   "source": [
    "units = '$^{\\circ}$C'\n",
    "label = 'NINO3 SST'\n",
    "\n",
    "fig, axis = plt.subplots(1, 1, figsize=(18, 3))\n",
    "axis.plot(year, nino3, label = 'sea surface temperature')\n",
    "axis.set_ylabel(units, rotation=0.0)\n",
    "axis.set_xlabel('year')\n",
    "axis.axhline(y=0.0, linestyle=':')\n",
    "axis.legend()\n",
    "plt.suptitle(label)"
   ]
  },
  {
   "cell_type": "code",
   "execution_count": null,
   "metadata": {},
   "outputs": [],
   "source": []
  }
 ],
 "metadata": {
  "kernelspec": {
   "display_name": "Python 3",
   "language": "python",
   "name": "python3"
  },
  "language_info": {
   "codemirror_mode": {
    "name": "ipython",
    "version": 3
   },
   "file_extension": ".py",
   "mimetype": "text/x-python",
   "name": "python",
   "nbconvert_exporter": "python",
   "pygments_lexer": "ipython3",
   "version": "3.7.4"
  },
  "toc": {
   "base_numbering": 1,
   "nav_menu": {},
   "number_sections": true,
   "sideBar": true,
   "skip_h1_title": true,
   "title_cell": "Table of Contents",
   "title_sidebar": "Contents",
   "toc_cell": false,
   "toc_position": {},
   "toc_section_display": true,
   "toc_window_display": true
  }
 },
 "nbformat": 4,
 "nbformat_minor": 2
}
