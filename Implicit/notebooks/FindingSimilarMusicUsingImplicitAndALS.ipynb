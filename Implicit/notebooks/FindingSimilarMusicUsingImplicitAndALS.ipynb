{
 "cells": [
  {
   "cell_type": "markdown",
   "metadata": {},
   "source": [
    "# Finding Similar Music Using `Implicit` and Alternating Least Squares (ALS) for Matrix Factorization\n",
    "\n",
    "This follow's Ben Frederickson's [Finding Similar Music using Matrix Factorization](https://www.benfrederickson.com/matrix-factorization/)."
   ]
  },
  {
   "cell_type": "markdown",
   "metadata": {},
   "source": [
    "## Preliminaries\n",
    "\n",
    "**Next two lines are for pretty output for all prints in a Pandas cell, not just the last.**"
   ]
  },
  {
   "cell_type": "code",
   "execution_count": 1,
   "metadata": {
    "ExecuteTime": {
     "end_time": "2020-03-20T15:29:54.183122Z",
     "start_time": "2020-03-20T15:29:54.179709Z"
    }
   },
   "outputs": [],
   "source": [
    "from IPython.core.interactiveshell import InteractiveShell\n",
    "InteractiveShell.ast_node_interactivity = \"all\""
   ]
  },
  {
   "cell_type": "markdown",
   "metadata": {},
   "source": [
    "**`DataSci` contains generally helpful data science stuff, while `plotHelpers` includes plot functions specifically.**"
   ]
  },
  {
   "cell_type": "code",
   "execution_count": null,
   "metadata": {},
   "outputs": [],
   "source": [
    "import sys\n",
    "sys.path.append('../../../work/Mlib')\n",
    "from utility import DataSci as util\n",
    "from utility import ModelTrain as mt\n",
    "import plotHelpers as ph"
   ]
  },
  {
   "cell_type": "markdown",
   "metadata": {},
   "source": [
    "### Python imports"
   ]
  },
  {
   "cell_type": "code",
   "execution_count": null,
   "metadata": {},
   "outputs": [],
   "source": [
    "import argparse\n",
    "import codecs\n",
    "import logging\n",
    "import time\n",
    "\n",
    "import numpy as np\n",
    "import tqdm\n",
    "\n",
    "from implicit.als import AlternatingLeastSquares\n",
    "from implicit.approximate_als import (AnnoyAlternatingLeastSquares, FaissAlternatingLeastSquares,\n",
    "                                      NMSLibAlternatingLeastSquares)\n",
    "from implicit.bpr import BayesianPersonalizedRanking\n",
    "from implicit.datasets.lastfm import get_lastfm\n",
    "from implicit.lmf import LogisticMatrixFactorization\n",
    "from implicit.nearest_neighbours import (BM25Recommender, CosineRecommender,\n",
    "                                         TFIDFRecommender, bm25_weight)"
   ]
  },
  {
   "cell_type": "markdown",
   "metadata": {},
   "source": [
    "### Load the datums\n",
    "\n",
    "* read `em in, then create sparse matrices"
   ]
  },
  {
   "cell_type": "code",
   "execution_count": null,
   "metadata": {},
   "outputs": [],
   "source": [
    "data = pd.read_table(\"usersha1-artmbid-artname-plays.tsv\", \n",
    "                     usecols=[0, 2, 3], \n",
    "                     names=['user', 'artist', 'plays'])"
   ]
  },
  {
   "cell_type": "markdown",
   "metadata": {},
   "source": [
    "### map each artist and user to a unique numeric value"
   ]
  },
  {
   "cell_type": "code",
   "execution_count": null,
   "metadata": {},
   "outputs": [],
   "source": [
    "data['user'] = data['user'].astype(\"category\")\n",
    "data['artist'] = data['artist'].astype(\"category\")"
   ]
  },
  {
   "cell_type": "markdown",
   "metadata": {},
   "source": [
    "### create a sparse matrix of all the artist/user/play triples"
   ]
  },
  {
   "cell_type": "code",
   "execution_count": null,
   "metadata": {},
   "outputs": [],
   "source": [
    "plays = coo_matrix((data['plays'].astype(float), \n",
    "                   (data['artist'].cat.codes, \n",
    "                    data['user'].cat.codes)))"
   ]
  },
  {
   "cell_type": "code",
   "execution_count": null,
   "metadata": {},
   "outputs": [],
   "source": [
    "# create a dictionary of artist name to the set of their users\n",
    "artist_sets = dict((artist, set(users)) for artist, users in data.groupby('artist')['user'])\n"
   ]
  },
  {
   "cell_type": "code",
   "execution_count": null,
   "metadata": {},
   "outputs": [],
   "source": []
  },
  {
   "cell_type": "code",
   "execution_count": 1,
   "metadata": {
    "ExecuteTime": {
     "end_time": "2020-04-02T00:48:20.719350Z",
     "start_time": "2020-04-02T00:48:20.165522Z"
    }
   },
   "outputs": [],
   "source": [
    "\"\"\" An example of using this library to calculate related artists\n",
    "from the last.fm dataset. More details can be found\n",
    "at http://www.benfrederickson.com/matrix-factorization/\n",
    "\n",
    "This code will automically download a HDF5 version of the dataset from\n",
    "GitHub when it is first run. The original dataset can also be found at\n",
    "http://www.dtic.upf.edu/~ocelma/MusicRecommendationDataset/lastfm-360K.html.\n",
    "\"\"\"\n",
    "import argparse\n",
    "import codecs\n",
    "import logging\n",
    "import time\n",
    "\n",
    "import numpy as np\n",
    "import pandas as pd\n",
    "import tqdm\n",
    "from scipy.sparse import coo_matrix\n",
    "\n",
    "from implicit.als import AlternatingLeastSquares\n",
    "from implicit.approximate_als import (AnnoyAlternatingLeastSquares, FaissAlternatingLeastSquares,\n",
    "                                      NMSLibAlternatingLeastSquares)\n",
    "from implicit.bpr import BayesianPersonalizedRanking\n",
    "from implicit.datasets.lastfm import get_lastfm\n",
    "from implicit.lmf import LogisticMatrixFactorization\n",
    "from implicit.nearest_neighbours import (BM25Recommender, CosineRecommender,\n",
    "                                         TFIDFRecommender, bm25_weight)\n",
    "\n",
    "# maps command line model argument to class name\n",
    "MODELS = {\"als\":  AlternatingLeastSquares,\n",
    "          \"nmslib_als\": NMSLibAlternatingLeastSquares,\n",
    "          \"annoy_als\": AnnoyAlternatingLeastSquares,\n",
    "          \"faiss_als\": FaissAlternatingLeastSquares,\n",
    "          \"tfidf\": TFIDFRecommender,\n",
    "          \"cosine\": CosineRecommender,\n",
    "          \"bpr\": BayesianPersonalizedRanking,\n",
    "          \"lmf\": LogisticMatrixFactorization,\n",
    "          \"bm25\": BM25Recommender}\n",
    "\n",
    "\n",
    "def get_model(model_name):\n",
    "    print(\"getting model %s\" % model_name)\n",
    "    model_class = MODELS.get(model_name)\n",
    "    if not model_class:\n",
    "        raise ValueError(\"Unknown Model '%s'\" % model_name)\n",
    "\n",
    "    # some default params\n",
    "    if issubclass(model_class, AlternatingLeastSquares):\n",
    "        params = {'factors': 16, 'dtype': np.float32}\n",
    "    elif model_name == \"bm25\":\n",
    "        params = {'K1': 100, 'B': 0.5}\n",
    "    elif model_name == \"bpr\":\n",
    "        params = {'factors': 63}\n",
    "    elif model_name == \"lmf\":\n",
    "        params = {'factors': 30, \"iterations\": 40, \"regularization\": 1.5}\n",
    "    else:\n",
    "        params = {}\n",
    "\n",
    "    return model_class(**params)\n",
    "\n",
    "\n",
    "def calculate_similar_artists(output_filename, model_name=\"als\"):\n",
    "    \"\"\" generates a list of similar artists in lastfm by utilizing the 'similar_items'\n",
    "    api of the models \"\"\"\n",
    "    if smallDataset:\n",
    "      artists, users, plays = get_lastfm()\n",
    "    else:\n",
    "        data = pd.read_table(\"usersha1-artmbid-artname-plays.tsv\", \n",
    "                             usecols=[0, 2, 3], \n",
    "                             names=['user', 'artist', 'plays'])\n",
    "\n",
    "        # map each artist and user to a unique numeric value\n",
    "        data['user'] = data['user'].astype(\"category\")\n",
    "        data['artist'] = data['artist'].astype(\"category\")\n",
    "        users = data['user']\n",
    "        artists = data['artist']\n",
    "        # create a sparse matrix of all the artist/user/play triples\n",
    "        plays = coo_matrix([data['plays'].astype(float), \n",
    "                            data['artist'].cat.codes, \n",
    "                            data['user'].cat.codes])\n",
    "\n",
    "    # create a model from the input data\n",
    "    model = get_model(model_name)\n",
    "\n",
    "    # if we're training an ALS based model, weight input for last.fm\n",
    "    # by bm25\n",
    "    if issubclass(model.__class__, AlternatingLeastSquares):\n",
    "        # lets weight these models by bm25weight.\n",
    "        logging.debug(\"weighting matrix by bm25_weight\")\n",
    "        plays = bm25_weight(plays, K1=100, B=0.8)\n",
    "\n",
    "        # also disable building approximate recommend index\n",
    "        model.approximate_recommend = False\n",
    "\n",
    "    # this is actually disturbingly expensive:\n",
    "    plays = plays.tocsr()\n",
    "\n",
    "    logging.debug(\"training model %s\", model_name)\n",
    "    start = time.time()\n",
    "    model.fit(plays)\n",
    "    logging.debug(\"trained model '%s' in %0.2fs\", model_name, time.time() - start)\n",
    "\n",
    "    # write out similar artists by popularity\n",
    "    start = time.time()\n",
    "    logging.debug(\"calculating top artists\")\n",
    "\n",
    "    user_count = np.ediff1d(plays.indptr)\n",
    "    print(repr(artists))\n",
    "    to_generate = sorted(np.arange(len(artists)), key=lambda x: -user_count[x])\n",
    "\n",
    "    # write out as a TSV of artistid, otherartistid, score\n",
    "    logging.debug(\"writing similar items\")\n",
    "    with tqdm.tqdm(total=len(to_generate)) as progress:\n",
    "        with codecs.open(output_filename, \"w\", \"utf8\") as o:\n",
    "            for artistid in to_generate:\n",
    "                artist = artists[artistid]\n",
    "                for other, score in model.similar_items(artistid, 11):\n",
    "                    o.write(\"%s\\t%s\\t%s\\n\" % (artist, artists[other], score))\n",
    "                progress.update(1)\n",
    "\n",
    "    logging.debug(\"generated similar artists in %0.2fs\",  time.time() - start)\n",
    "\n",
    "\n",
    "def calculate_recommendations(output_filename, model_name=\"als\"):\n",
    "    \"\"\" Generates artist recommendations for each user in the dataset \"\"\"\n",
    "    # train the model based off input params\n",
    "    if smallDataset:\n",
    "      artists, users, plays = get_lastfm()\n",
    "    else:\n",
    "        data = pd.read_table(\"usersha1-artmbid-artname-plays.tsv\", \n",
    "                             usecols=[0, 2, 3], \n",
    "                             names=['user', 'artist', 'plays'])\n",
    "\n",
    "        # map each artist and user to a unique numeric value\n",
    "        data['user'] = data['user'].astype(\"category\")\n",
    "        data['artist'] = data['artist'].astype(\"category\")\n",
    "        users = data['user']\n",
    "        artists = data['artist']\n",
    "        # create a sparse matrix of all the artist/user/play triples\n",
    "        plays = coo_matrix([data['plays'].astype(float), \n",
    "                            data['artist'].cat.codes, \n",
    "                            data['user'].cat.codes])\n",
    "\n",
    "    # create a model from the input data\n",
    "    model = get_model(model_name)\n",
    "\n",
    "    # if we're training an ALS based model, weight input for last.fm\n",
    "    # by bm25\n",
    "    if issubclass(model.__class__, AlternatingLeastSquares):\n",
    "        # lets weight these models by bm25weight.\n",
    "        logging.debug(\"weighting matrix by bm25_weight\")\n",
    "        plays = bm25_weight(plays, K1=100, B=0.8)\n",
    "\n",
    "        # also disable building approximate recommend index\n",
    "        model.approximate_similar_items = False\n",
    "\n",
    "    # this is actually disturbingly expensive:\n",
    "    plays = plays.tocsr()\n",
    "\n",
    "    logging.debug(\"training model %s\", model_name)\n",
    "    start = time.time()\n",
    "    model.fit(plays)\n",
    "    logging.debug(\"trained model '%s' in %0.2fs\", model_name, time.time() - start)\n",
    "\n",
    "    # generate recommendations for each user and write out to a file\n",
    "    start = time.time()\n",
    "    user_plays = plays.T.tocsr()\n",
    "    with tqdm.tqdm(total=len(users)) as progress:\n",
    "        with codecs.open(output_filename, \"w\", \"utf8\") as o:\n",
    "            for userid, username in enumerate(users):\n",
    "                for artistid, score in model.recommend(userid, user_plays):\n",
    "                    o.write(\"%s\\t%s\\t%s\\n\" % (username, artists[artistid], score))\n",
    "                progress.update(1)\n",
    "    logging.debug(\"generated recommendations in %0.2fs\",  time.time() - start)\n",
    "\n"
   ]
  },
  {
   "cell_type": "code",
   "execution_count": 2,
   "metadata": {
    "ExecuteTime": {
     "end_time": "2020-04-02T01:02:41.459427Z",
     "start_time": "2020-04-02T00:48:22.606102Z"
    },
    "code_folding": [
     0
    ],
    "scrolled": false
   },
   "outputs": [
    {
     "name": "stderr",
     "output_type": "stream",
     "text": [
      "WARNING:implicit:GPU training requires factor size to be a multiple of 32. Increasing factors from 16 to 32.\n",
      "WARNING:root:OpenBLAS detected. Its highly recommend to set the environment variable 'export OPENBLAS_NUM_THREADS=1' to disable its internal multithreading\n",
      "DEBUG:root:weighting matrix by bm25_weight\n"
     ]
    },
    {
     "name": "stdout",
     "output_type": "stream",
     "text": [
      "getting model als\n"
     ]
    },
    {
     "name": "stderr",
     "output_type": "stream",
     "text": [
      "DEBUG:root:training model als\n",
      "DEBUG:implicit:Calculated transpose in 0.350s\n",
      "DEBUG:implicit:Initialized factors in 4.252726078033447\n",
      "DEBUG:implicit:Running 15 ALS iterations\n"
     ]
    },
    {
     "data": {
      "application/vnd.jupyter.widget-view+json": {
       "model_id": "21e78e209f2a44439a2924aa1936d321",
       "version_major": 2,
       "version_minor": 0
      },
      "text/plain": [
       "HBox(children=(FloatProgress(value=0.0, max=15.0), HTML(value='')))"
      ]
     },
     "metadata": {},
     "output_type": "display_data"
    },
    {
     "name": "stderr",
     "output_type": "stream",
     "text": [
      "DEBUG:root:trained model 'als' in 827.72s\n",
      "DEBUG:root:calculating top artists\n"
     ]
    },
    {
     "name": "stdout",
     "output_type": "stream",
     "text": [
      "\n",
      "0                betty blowtorch\n",
      "1                      die Ärzte\n",
      "2              melissa etheridge\n",
      "3                      elvenking\n",
      "4           juliette & the licks\n",
      "                    ...         \n",
      "17535650              turbostaat\n",
      "17535651           cuba missouri\n",
      "17535652         little man tate\n",
      "17535653               sigur rós\n",
      "17535654              the smiths\n",
      "Name: artist, Length: 17535655, dtype: category\n",
      "Categories (292363, object): [04)], 2, 58725ab=>, 80lİ yillarin tÜrkÇe sÖzlÜ aŞk Şarkilari, ..., ￼beastie boys, ��|, ��疲暎�, �������]\n"
     ]
    },
    {
     "ename": "IndexError",
     "evalue": "index 3 is out of bounds for axis 0 with size 3",
     "output_type": "error",
     "traceback": [
      "\u001b[0;31m---------------------------------------------------------------------------\u001b[0m",
      "\u001b[0;31mIndexError\u001b[0m                                Traceback (most recent call last)",
      "\u001b[0;32m<ipython-input-2-30feee2a24c7>\u001b[0m in \u001b[0;36m<module>\u001b[0;34m\u001b[0m\n\u001b[1;32m     20\u001b[0m     \u001b[0mcalculate_recommendations\u001b[0m\u001b[0;34m(\u001b[0m\u001b[0margs\u001b[0m\u001b[0;34m.\u001b[0m\u001b[0moutputfile\u001b[0m\u001b[0;34m,\u001b[0m \u001b[0mmodel_name\u001b[0m\u001b[0;34m=\u001b[0m\u001b[0margs\u001b[0m\u001b[0;34m.\u001b[0m\u001b[0mmodel\u001b[0m\u001b[0;34m)\u001b[0m\u001b[0;34m\u001b[0m\u001b[0;34m\u001b[0m\u001b[0m\n\u001b[1;32m     21\u001b[0m \u001b[0;32melse\u001b[0m\u001b[0;34m:\u001b[0m\u001b[0;34m\u001b[0m\u001b[0;34m\u001b[0m\u001b[0m\n\u001b[0;32m---> 22\u001b[0;31m     \u001b[0mcalculate_similar_artists\u001b[0m\u001b[0;34m(\u001b[0m\u001b[0margs\u001b[0m\u001b[0;34m.\u001b[0m\u001b[0moutputfile\u001b[0m\u001b[0;34m,\u001b[0m \u001b[0mmodel_name\u001b[0m\u001b[0;34m=\u001b[0m\u001b[0margs\u001b[0m\u001b[0;34m.\u001b[0m\u001b[0mmodel\u001b[0m\u001b[0;34m)\u001b[0m\u001b[0;34m\u001b[0m\u001b[0;34m\u001b[0m\u001b[0m\n\u001b[0m",
      "\u001b[0;32m<ipython-input-1-50b76c8155bc>\u001b[0m in \u001b[0;36mcalculate_similar_artists\u001b[0;34m(output_filename, model_name)\u001b[0m\n\u001b[1;32m    104\u001b[0m     \u001b[0muser_count\u001b[0m \u001b[0;34m=\u001b[0m \u001b[0mnp\u001b[0m\u001b[0;34m.\u001b[0m\u001b[0mediff1d\u001b[0m\u001b[0;34m(\u001b[0m\u001b[0mplays\u001b[0m\u001b[0;34m.\u001b[0m\u001b[0mindptr\u001b[0m\u001b[0;34m)\u001b[0m\u001b[0;34m\u001b[0m\u001b[0;34m\u001b[0m\u001b[0m\n\u001b[1;32m    105\u001b[0m     \u001b[0mprint\u001b[0m\u001b[0;34m(\u001b[0m\u001b[0mrepr\u001b[0m\u001b[0;34m(\u001b[0m\u001b[0martists\u001b[0m\u001b[0;34m)\u001b[0m\u001b[0;34m)\u001b[0m\u001b[0;34m\u001b[0m\u001b[0;34m\u001b[0m\u001b[0m\n\u001b[0;32m--> 106\u001b[0;31m     \u001b[0mto_generate\u001b[0m \u001b[0;34m=\u001b[0m \u001b[0msorted\u001b[0m\u001b[0;34m(\u001b[0m\u001b[0mnp\u001b[0m\u001b[0;34m.\u001b[0m\u001b[0marange\u001b[0m\u001b[0;34m(\u001b[0m\u001b[0mlen\u001b[0m\u001b[0;34m(\u001b[0m\u001b[0martists\u001b[0m\u001b[0;34m)\u001b[0m\u001b[0;34m)\u001b[0m\u001b[0;34m,\u001b[0m \u001b[0mkey\u001b[0m\u001b[0;34m=\u001b[0m\u001b[0;32mlambda\u001b[0m \u001b[0mx\u001b[0m\u001b[0;34m:\u001b[0m \u001b[0;34m-\u001b[0m\u001b[0muser_count\u001b[0m\u001b[0;34m[\u001b[0m\u001b[0mx\u001b[0m\u001b[0;34m]\u001b[0m\u001b[0;34m)\u001b[0m\u001b[0;34m\u001b[0m\u001b[0;34m\u001b[0m\u001b[0m\n\u001b[0m\u001b[1;32m    107\u001b[0m \u001b[0;34m\u001b[0m\u001b[0m\n\u001b[1;32m    108\u001b[0m     \u001b[0;31m# write out as a TSV of artistid, otherartistid, score\u001b[0m\u001b[0;34m\u001b[0m\u001b[0;34m\u001b[0m\u001b[0;34m\u001b[0m\u001b[0m\n",
      "\u001b[0;32m<ipython-input-1-50b76c8155bc>\u001b[0m in \u001b[0;36m<lambda>\u001b[0;34m(x)\u001b[0m\n\u001b[1;32m    104\u001b[0m     \u001b[0muser_count\u001b[0m \u001b[0;34m=\u001b[0m \u001b[0mnp\u001b[0m\u001b[0;34m.\u001b[0m\u001b[0mediff1d\u001b[0m\u001b[0;34m(\u001b[0m\u001b[0mplays\u001b[0m\u001b[0;34m.\u001b[0m\u001b[0mindptr\u001b[0m\u001b[0;34m)\u001b[0m\u001b[0;34m\u001b[0m\u001b[0;34m\u001b[0m\u001b[0m\n\u001b[1;32m    105\u001b[0m     \u001b[0mprint\u001b[0m\u001b[0;34m(\u001b[0m\u001b[0mrepr\u001b[0m\u001b[0;34m(\u001b[0m\u001b[0martists\u001b[0m\u001b[0;34m)\u001b[0m\u001b[0;34m)\u001b[0m\u001b[0;34m\u001b[0m\u001b[0;34m\u001b[0m\u001b[0m\n\u001b[0;32m--> 106\u001b[0;31m     \u001b[0mto_generate\u001b[0m \u001b[0;34m=\u001b[0m \u001b[0msorted\u001b[0m\u001b[0;34m(\u001b[0m\u001b[0mnp\u001b[0m\u001b[0;34m.\u001b[0m\u001b[0marange\u001b[0m\u001b[0;34m(\u001b[0m\u001b[0mlen\u001b[0m\u001b[0;34m(\u001b[0m\u001b[0martists\u001b[0m\u001b[0;34m)\u001b[0m\u001b[0;34m)\u001b[0m\u001b[0;34m,\u001b[0m \u001b[0mkey\u001b[0m\u001b[0;34m=\u001b[0m\u001b[0;32mlambda\u001b[0m \u001b[0mx\u001b[0m\u001b[0;34m:\u001b[0m \u001b[0;34m-\u001b[0m\u001b[0muser_count\u001b[0m\u001b[0;34m[\u001b[0m\u001b[0mx\u001b[0m\u001b[0;34m]\u001b[0m\u001b[0;34m)\u001b[0m\u001b[0;34m\u001b[0m\u001b[0;34m\u001b[0m\u001b[0m\n\u001b[0m\u001b[1;32m    107\u001b[0m \u001b[0;34m\u001b[0m\u001b[0m\n\u001b[1;32m    108\u001b[0m     \u001b[0;31m# write out as a TSV of artistid, otherartistid, score\u001b[0m\u001b[0;34m\u001b[0m\u001b[0;34m\u001b[0m\u001b[0;34m\u001b[0m\u001b[0m\n",
      "\u001b[0;31mIndexError\u001b[0m: index 3 is out of bounds for axis 0 with size 3"
     ]
    }
   ],
   "source": [
    "# if __name__ == \"__main__\":\n",
    "parser = argparse.ArgumentParser(description=\"Generates similar artists on the last.fm dataset\"\n",
    "                                     \" or generates personalized recommendations for each user\",\n",
    "                                     formatter_class=argparse.ArgumentDefaultsHelpFormatter)\n",
    "parser.add_argument('--output', type=str, default='similar-artists.tsv',\n",
    "                    dest='outputfile', help='output file name')\n",
    "parser.add_argument('--model', type=str, default='als',\n",
    "                    dest='model', help='model to calculate (%s)' % \"/\".join(MODELS.keys()))\n",
    "parser.add_argument('--recommend',\n",
    "                    help='Recommend items for each user rather than calculate similar_items',\n",
    "                    action=\"store_true\")\n",
    "parser.add_argument('--param', action='append',\n",
    "                    help=\"Parameters to pass to the model, formatted as 'KEY=VALUE\")\n",
    "\n",
    "# args = parser.parse_args()\n",
    "args, unknown = parser.parse_known_args()\n",
    "\n",
    "logging.basicConfig(level=logging.DEBUG)\n",
    "\n",
    "if args.recommend:\n",
    "    calculate_recommendations(args.outputfile, model_name=args.model)\n",
    "else:\n",
    "    calculate_similar_artists(args.outputfile, model_name=args.model)"
   ]
  },
  {
   "cell_type": "code",
   "execution_count": null,
   "metadata": {},
   "outputs": [],
   "source": []
  }
 ],
 "metadata": {
  "kernelspec": {
   "display_name": "Python 3",
   "language": "python",
   "name": "python3"
  },
  "language_info": {
   "codemirror_mode": {
    "name": "ipython",
    "version": 3
   },
   "file_extension": ".py",
   "mimetype": "text/x-python",
   "name": "python",
   "nbconvert_exporter": "python",
   "pygments_lexer": "ipython3",
   "version": "3.6.9"
  },
  "toc": {
   "base_numbering": 1,
   "nav_menu": {},
   "number_sections": true,
   "sideBar": true,
   "skip_h1_title": true,
   "title_cell": "Table of Contents",
   "title_sidebar": "Contents",
   "toc_cell": false,
   "toc_position": {},
   "toc_section_display": true,
   "toc_window_display": true
  },
  "varInspector": {
   "cols": {
    "lenName": 16,
    "lenType": 16,
    "lenVar": 40
   },
   "kernels_config": {
    "python": {
     "delete_cmd_postfix": "",
     "delete_cmd_prefix": "del ",
     "library": "var_list.py",
     "varRefreshCmd": "print(var_dic_list())"
    },
    "r": {
     "delete_cmd_postfix": ") ",
     "delete_cmd_prefix": "rm(",
     "library": "var_list.r",
     "varRefreshCmd": "cat(var_dic_list()) "
    }
   },
   "types_to_exclude": [
    "module",
    "function",
    "builtin_function_or_method",
    "instance",
    "_Feature"
   ],
   "window_display": false
  }
 },
 "nbformat": 4,
 "nbformat_minor": 4
}
