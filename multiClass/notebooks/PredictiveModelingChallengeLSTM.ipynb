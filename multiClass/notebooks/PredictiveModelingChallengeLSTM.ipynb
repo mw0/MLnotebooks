{
 "cells": [
  {
   "cell_type": "markdown",
   "metadata": {},
   "source": [
    "# Predictive Modeling Challenge LSTM\n",
    "\n",
    "**Mark Wilber**\n",
    "\n",
    "The challenge here is to build a classifier for 56 FDA food safety violation categories, which are very unbalanced (sizes spanning more than 3 orders of magnitude). There are two components/features:\n",
    "\n",
    "* a boolean, `FDAISCRITICAL`, indicating whether the violation is 'critical' or not\n",
    "* a description of the violation, `VIOCOMMENT`, which can range from 0 to 844 'words'\n",
    "  * (It is shown below, that the two instances with no comments can be safely dropped.)\n",
    "\n",
    "This notebook generates TF-IDF features after extracting unigrams and bigrams, and trains models using logistic regression, random forest, linear SVC and complement Naive Bayes to compare f1 scores and training times.\n",
    "\n",
    "<font color='darkgreen'>**As thise notebook is lengthy, readers will find it much easier to navigate with [Jupyter Nbextensions](https://github.com/ipython-contrib/jupyter_contrib_nbextensions) installed, and Table of Contents (2) selected:**</font>"
   ]
  },
  {
   "cell_type": "markdown",
   "metadata": {},
   "source": [
    "## Preliminaries\n",
    "\n",
    "**Next two lines are useful in the event of external code changes.**"
   ]
  },
  {
   "cell_type": "code",
   "execution_count": 1,
   "metadata": {
    "ExecuteTime": {
     "end_time": "2020-09-17T05:16:51.378910Z",
     "start_time": "2020-09-17T05:16:51.366741Z"
    },
    "scrolled": false
   },
   "outputs": [],
   "source": [
    "%load_ext autoreload\n",
    "%autoreload 2"
   ]
  },
  {
   "cell_type": "markdown",
   "metadata": {},
   "source": [
    "### Python imports\n",
    "\n",
    "**Next two lines are for pretty output for all prints in a Pandas cell, not just the last.**"
   ]
  },
  {
   "cell_type": "code",
   "execution_count": 2,
   "metadata": {
    "ExecuteTime": {
     "end_time": "2020-09-17T05:16:51.447203Z",
     "start_time": "2020-09-17T05:16:51.438684Z"
    }
   },
   "outputs": [],
   "source": [
    "from IPython.core.interactiveshell import InteractiveShell\n",
    "InteractiveShell.ast_node_interactivity = \"all\""
   ]
  },
  {
   "cell_type": "markdown",
   "metadata": {},
   "source": [
    "**`DataSci` contains generally helpful data science stuff, while `plotHelpers` includes plot functions specifically.**"
   ]
  },
  {
   "cell_type": "code",
   "execution_count": 3,
   "metadata": {
    "ExecuteTime": {
     "end_time": "2020-09-17T05:16:52.838628Z",
     "start_time": "2020-09-17T05:16:51.672658Z"
    }
   },
   "outputs": [],
   "source": [
    "import sys\n",
    "# sys.path.append('/home/wilber/work/Mlib')\n",
    "sys.path.append('/home/mark/work/Mlib')\n",
    "from utility import DataSci as util\n",
    "from plotHelpers import plotHelpers as ph"
   ]
  },
  {
   "cell_type": "code",
   "execution_count": 4,
   "metadata": {
    "ExecuteTime": {
     "end_time": "2020-09-17T05:16:54.329631Z",
     "start_time": "2020-09-17T05:16:52.840825Z"
    },
    "code_folding": [],
    "scrolled": true
   },
   "outputs": [
    {
     "name": "stdout",
     "output_type": "stream",
     "text": [
      "Wed Sep 16 22:16:52 2020\n",
      "Python version:  (3, 6, 9, 'final', 0)\n",
      "Un-versioned imports:\n",
      "\n",
      "collections, gc, glob, pickle, platform, plotHelpers, pprint, os, os.path, random, shutil, sys, timeit, utility\n",
      "\n",
      "colorcet: 1.0.0\tdateutil: 2.8.1\tgraphviz: 2.8.1\tjoblib: 0.14.1\tmatplotlib: 3.3.0\tnumpy: 1.18.1\tpandas: 1.0.5\tscipy: 1.4.1\tseaborn: 0.11.0\tsklearn: 0.22.1\ttensorflow: 2.1.0\t\n",
      "\n",
      "Δt:  1.4s.\n"
     ]
    }
   ],
   "source": [
    "from time import time, asctime, gmtime, localtime\n",
    "print(asctime(localtime()))\n",
    "\n",
    "t0 = time()\n",
    "\n",
    "# from platform import node\n",
    "import os\n",
    "from os.path import exists\n",
    "# import shutil\n",
    "# from glob import glob\n",
    "from random import random\n",
    "from collections import Counter, OrderedDict\n",
    "import gc\t\t# garbage collection module\n",
    "import pathlib\n",
    "import pprint\n",
    "# import pickle\n",
    "import timeit\n",
    "\n",
    "print(\"Python version: \", sys.version_info[:])\n",
    "print(\"Un-versioned imports:\\n\")\n",
    "prefixStr = ''\n",
    "if 'collections' in sys.modules:\n",
    "    print(prefixStr + 'collections', end=\"\")\n",
    "    prefixStr = ', '\n",
    "if 'gc' in sys.modules:\n",
    "    print(prefixStr + 'gc', end=\"\")\n",
    "    prefixStr = ', '\n",
    "if 'glob' in sys.modules:\n",
    "    print(prefixStr + 'glob', end=\"\")\n",
    "    prefixStr = ', '\n",
    "if 'pickle' in sys.modules:\n",
    "    print(prefixStr + 'pickle', end=\"\")\n",
    "    prefixStr = ', '\n",
    "if 'platform' in sys.modules:\n",
    "    print(prefixStr + 'platform', end=\"\")\n",
    "    prefixStr = ', '\n",
    "if 'plotHelpers' in sys.modules:\n",
    "    print(prefixStr + 'plotHelpers', end=\"\")\n",
    "    prefixStr = ', '\n",
    "if 'pprint' in sys.modules:\n",
    "    print(prefixStr + 'pprint', end=\"\")\n",
    "    prefixStr = ', '\n",
    "if 'os' in sys.modules:\n",
    "    print(prefixStr + 'os', end=\"\")\n",
    "    prefixStr = ', '\n",
    "if 'os.path' in sys.modules:\n",
    "    print(prefixStr + 'os.path', end=\"\")\n",
    "    prefixStr = ', '\n",
    "if 'random' in sys.modules:\n",
    "    print(prefixStr + 'random', end=\"\")\n",
    "    prefixStr = ', '\n",
    "if 'shutil' in sys.modules:\n",
    "    print(prefixStr + 'shutil', end=\"\")\n",
    "    prefixStr = ', '\n",
    "if 'sys' in sys.modules:\n",
    "    print(prefixStr + 'sys', end=\"\")\n",
    "    prefixStr = ', '\n",
    "if 'timeit' in sys.modules:\n",
    "    print(prefixStr + 'timeit', end=\"\")\n",
    "    prefixStr = ', '\n",
    "if 'utility' in sys.modules:\n",
    "    print(prefixStr + 'utility', end=\"\")\n",
    "    # prefixStr = ', '\n",
    "\n",
    "duVersion = None\n",
    "from dateutil import __version__ as duVersion\n",
    "from dateutil.parser import parse\n",
    "import numpy as np\n",
    "import pandas as pd\n",
    "import pyreadr\n",
    "import pydot_ng\n",
    "import graphviz\n",
    "\n",
    "scVersion = None\n",
    "from scipy import __version__ as scVersion\n",
    "import scipy.sparse as sp\n",
    "\n",
    "skVersion = None\n",
    "from sklearn import __version__ as skVersion\n",
    "from sklearn.feature_extraction import text\n",
    "# from sklearn.feature_extraction.text import TfidfVectorizer\n",
    "# from sklearn.feature_selection import chi2\n",
    "# from sklearn.linear_model import LogisticRegression\n",
    "# from sklearn.ensemble import RandomForestClassifier\n",
    "from sklearn.model_selection import cross_val_score\n",
    "from sklearn.metrics import confusion_matrix\n",
    "from sklearn.model_selection import train_test_split\n",
    "from sklearn import metrics\n",
    "# from sklearn.svm import LinearSVC, SVC\n",
    "# from sklearn.naive_bayes import ComplementNB\n",
    "from sklearn.utils import class_weight\n",
    "\n",
    "tfVersion = None\n",
    "from tensorflow import __version__ as tfVersion\n",
    "from tensorflow.keras.preprocessing.text import Tokenizer\n",
    "from tensorflow.keras.preprocessing.sequence import pad_sequences\n",
    "from tensorflow.keras import Input\n",
    "from tensorflow.keras.layers import Dense, Embedding, Bidirectional, LSTM, concatenate\n",
    "from tensorflow.keras.models import Model\n",
    "from tensorflow.keras.callbacks import ModelCheckpoint, TensorBoard\n",
    "from tensorflow.keras.utils import plot_model\n",
    "\n",
    "jlVersion = None\n",
    "from joblib import __version__ as jlVersion\n",
    "from joblib import dump, load\n",
    "\n",
    "import seaborn as sns\n",
    "import colorcet as cc\n",
    "\n",
    "mpVersion = None\n",
    "from matplotlib import __version__ as mpVersion\n",
    "import matplotlib.pyplot as plt\n",
    "\n",
    "print(\"\\n\")\n",
    "if 'colorcet' in sys.modules:\n",
    "    print(f\"colorcet: {cc.__version__}\", end=\"\\t\")\n",
    "if 'dateutil' in sys.modules:\n",
    "    print(f\"dateutil: {duVersion}\", end=\"\\t\")\n",
    "if 'graphviz' in sys.modules:\n",
    "    print(f\"graphviz: {duVersion}\", end=\"\\t\")\n",
    "if 'joblib' in sys.modules:\n",
    "    print(f\"joblib: {jlVersion}\", end=\"\\t\")\n",
    "if 'matplotlib' in sys.modules:\n",
    "    print(f\"matplotlib: {mpVersion}\", end=\"\\t\")\n",
    "if 'numpy' in sys.modules:\n",
    "    print(f\"numpy: {np.__version__}\", end=\"\\t\")\n",
    "if 'pandas' in sys.modules:\n",
    "    print(f\"pandas: {pd.__version__}\", end=\"\\t\")\n",
    "if 'pydot' in sys.modules:\n",
    "    print(f\"pydot: {pd.__version__}\", end=\"\\t\")\n",
    "if 'pyreader' in sys.modules:\n",
    "    print(f\"pyreader: {pyreader.__version__}\", end=\"\\t\")\n",
    "if 'scipy' in sys.modules:\n",
    "    print(f\"scipy: {scVersion}\", end=\"\\t\")\n",
    "if 'seaborn' in sys.modules:\n",
    "    print(f\"seaborn: {sns.__version__}\", end=\"\\t\")\n",
    "if 'sklearn' in sys.modules:\n",
    "    print(f\"sklearn: {skVersion}\", end=\"\\t\")\n",
    "if 'tensorflow' in sys.modules:\n",
    "    print(f\"tensorflow: {tfVersion}\", end=\"\\t\")\n",
    "# if '' in sys.modules:\n",
    "#     print(f\": {.__version__}\", end=\"\\t\")\n",
    "Δt = time() - t0\n",
    "print(f\"\\n\\nΔt: {Δt: 4.1f}s.\")\n",
    "\n",
    "%matplotlib inline"
   ]
  },
  {
   "cell_type": "markdown",
   "metadata": {},
   "source": [
    "### Helper functions\n",
    "\n",
    "<a id=\"helper-tokenize\"></a>\n",
    "#### `tokenize()`"
   ]
  },
  {
   "cell_type": "code",
   "execution_count": 5,
   "metadata": {
    "ExecuteTime": {
     "end_time": "2020-09-17T05:16:54.362433Z",
     "start_time": "2020-09-17T05:16:54.331415Z"
    },
    "code_folding": []
   },
   "outputs": [],
   "source": [
    "def tokenize(corpus, vocabSz):\n",
    "    \"\"\"\n",
    "    Generates the vocabulary and the list of list of integers for the input corpus\n",
    "\n",
    "    Help from: https://www.tensorflow.org/tutorials/text/nmt_with_attention\n",
    "\n",
    "    INPUTS:\n",
    "        corpus: list, type(str), containing (short) document strings\n",
    "        vocabSz: (int) Maximum number of words to consider in the vocabulary\n",
    "\n",
    "    RETURNS: List of list of indices for each string in the corpus + Keras sentence tokenizer object\n",
    "\n",
    "    Usage:\n",
    "        listOfListsOfIndices, sentenceTokenizer = tokenize(mySentences, maxVocabCt)\n",
    "    \"\"\"\n",
    "\n",
    "    # Define the sentence tokenizer\n",
    "    sentenceTokenizer = Tokenizer(num_words=vocabSz,\n",
    "                                  filters='!#%()*+,./:;<=>?@[\\\\]^_`{|}~\\t\\n',\n",
    "                                  lower=True,\n",
    "                                  split=' ', char_level=False, oov_token=\"<unkwn>\")\n",
    "\n",
    "    # Keep the double quote, dash, and single quote + & (different from word2vec training: didn't keep `&`)\n",
    "    # oov_token: added to word_index & used to replace out-of-vocab words during text_to_sequence calls\n",
    "    # num_words = maximum number of words to keep, dropping least frequent\n",
    "\n",
    "    # Fit the tokenizer on the input corpus\n",
    "    sentenceTokenizer.fit_on_texts(corpus)\n",
    "\n",
    "    # Transform each text in corpus to a sequence of integers\n",
    "    listOfIndexLists = sentenceTokenizer.texts_to_sequences(corpus)\n",
    "\n",
    "    return listOfIndexLists, sentenceTokenizer"
   ]
  },
  {
   "cell_type": "markdown",
   "metadata": {},
   "source": [
    "#### `df2TFdata()`\n",
    "\n",
    "This is modified from [a TensorFlow tutorial](https://www.tensorflow.org/tutorials/structured_data/feature_columns), replacing columnar feature with tokenized text for the inputs."
   ]
  },
  {
   "cell_type": "code",
   "execution_count": 6,
   "metadata": {
    "ExecuteTime": {
     "end_time": "2020-09-17T05:16:54.390852Z",
     "start_time": "2020-09-17T05:16:54.364270Z"
    }
   },
   "outputs": [],
   "source": [
    "# def df2TFdata(dataframe, textCol, targetCol, shuffle=True, batchSz=64):\n",
    "#     \"\"\"\n",
    "#     dataframe\t\tpd.DataFrame, containing a column with text, and a target column with labels\n",
    "#     shuffle\t\t\tbool, indicating whether to shuffle the data, default: True\n",
    "#     batchSz\t\t\tint, indicating batch size, default: 64\n",
    "#     \"\"\"\n",
    "\n",
    "#     dataframe = dataframe.copy()\n",
    "#     labels = dataframe.pop(targetCol)\n",
    "#     ds = tf.data.Dataset.from_tensor_slices((dict(dataframe), labels))\n",
    "#     if shuffle:\n",
    "#         ds = ds.shuffle(buffer_size=len(dataframe))\n",
    "#     ds = ds.batch(batch_size)\n",
    "\n",
    "#     return ds"
   ]
  },
  {
   "cell_type": "markdown",
   "metadata": {},
   "source": [
    "## Handle the data\n",
    "\n",
    "### Read data into a DataFrame\n",
    "\n",
    "* Have a very quick look at DataFrame characteristics"
   ]
  },
  {
   "cell_type": "code",
   "execution_count": 7,
   "metadata": {
    "ExecuteTime": {
     "end_time": "2020-09-17T05:17:02.385155Z",
     "start_time": "2020-09-17T05:16:54.393401Z"
    }
   },
   "outputs": [
    {
     "name": "stdout",
     "output_type": "stream",
     "text": [
      "\n",
      "\n",
      "Δt:  8.0s.\n"
     ]
    },
    {
     "data": {
      "text/plain": [
       "(1307986, 12)"
      ]
     },
     "execution_count": 7,
     "metadata": {},
     "output_type": "execute_result"
    }
   ],
   "source": [
    "cwd = pathlib.Path.cwd()\n",
    "basePath = cwd.parent\n",
    "dataPath = basePath / 'data'\n",
    "dataSourcePath = dataPath / \"SelectedInspectionReportData.rds\"\n",
    "\n",
    "t0 = time()\n",
    "result = pyreadr.read_r(str(dataSourcePath))\n",
    "df = result[None]\n",
    "df.fda_q_fixed = df.fda_q_fixed.astype('int')\n",
    "df.FDAISCRITICAL = df.FDAISCRITICAL.astype('int')\n",
    "Δt = time() - t0\n",
    "print(f\"\\n\\nΔt: {Δt: 4.1f}s.\")\n",
    "\n",
    "df.shape"
   ]
  },
  {
   "cell_type": "code",
   "execution_count": 8,
   "metadata": {
    "ExecuteTime": {
     "end_time": "2020-09-17T05:17:02.437060Z",
     "start_time": "2020-09-17T05:17:02.387147Z"
    },
    "scrolled": false
   },
   "outputs": [
    {
     "data": {
      "text/html": [
       "<div>\n",
       "<style scoped>\n",
       "    .dataframe tbody tr th:only-of-type {\n",
       "        vertical-align: middle;\n",
       "    }\n",
       "\n",
       "    .dataframe tbody tr th {\n",
       "        vertical-align: top;\n",
       "    }\n",
       "\n",
       "    .dataframe thead th {\n",
       "        text-align: right;\n",
       "    }\n",
       "</style>\n",
       "<table border=\"1\" class=\"dataframe\">\n",
       "  <thead>\n",
       "    <tr style=\"text-align: right;\">\n",
       "      <th></th>\n",
       "      <th>0</th>\n",
       "      <th>1</th>\n",
       "      <th>2</th>\n",
       "      <th>3</th>\n",
       "      <th>4</th>\n",
       "      <th>5</th>\n",
       "    </tr>\n",
       "  </thead>\n",
       "  <tbody>\n",
       "    <tr>\n",
       "      <th>HZLVIOLATIONID</th>\n",
       "      <td></td>\n",
       "      <td></td>\n",
       "      <td></td>\n",
       "      <td></td>\n",
       "      <td></td>\n",
       "      <td></td>\n",
       "    </tr>\n",
       "    <tr>\n",
       "      <th>VIOCORRECTBYDATE</th>\n",
       "      <td></td>\n",
       "      <td></td>\n",
       "      <td></td>\n",
       "      <td></td>\n",
       "      <td></td>\n",
       "      <td></td>\n",
       "    </tr>\n",
       "    <tr>\n",
       "      <th>PICKLIST</th>\n",
       "      <td>6-301.11</td>\n",
       "      <td>4-601.11(A)</td>\n",
       "      <td>4-204.112</td>\n",
       "      <td>3-302.12</td>\n",
       "      <td>6-404.11</td>\n",
       "      <td>4-501.11</td>\n",
       "    </tr>\n",
       "    <tr>\n",
       "      <th>VIOCOMMENT</th>\n",
       "      <td>Soap and/or paper towels are not provided for ...</td>\n",
       "      <td>Food contact surfaces and utensils are not cle...</td>\n",
       "      <td>An accurate product temperature-measuring devi...</td>\n",
       "      <td>Bulk containers are not properly labeled. V/C</td>\n",
       "      <td>Food products that are held by the food establ...</td>\n",
       "      <td>Non-food contact equipment is not maintained i...</td>\n",
       "    </tr>\n",
       "    <tr>\n",
       "      <th>FDAQUESTION</th>\n",
       "      <td>8</td>\n",
       "      <td>14</td>\n",
       "      <td>34</td>\n",
       "      <td>35</td>\n",
       "      <td>37</td>\n",
       "      <td>45</td>\n",
       "    </tr>\n",
       "    <tr>\n",
       "      <th>VIOISCOS</th>\n",
       "      <td>1</td>\n",
       "      <td>1</td>\n",
       "      <td>1</td>\n",
       "      <td>1</td>\n",
       "      <td>1</td>\n",
       "      <td>1</td>\n",
       "    </tr>\n",
       "    <tr>\n",
       "      <th>VIOLATIONID</th>\n",
       "      <td></td>\n",
       "      <td></td>\n",
       "      <td></td>\n",
       "      <td></td>\n",
       "      <td></td>\n",
       "      <td></td>\n",
       "    </tr>\n",
       "    <tr>\n",
       "      <th>FDAISCRITICAL</th>\n",
       "      <td>0</td>\n",
       "      <td>0</td>\n",
       "      <td>1</td>\n",
       "      <td>1</td>\n",
       "      <td>1</td>\n",
       "      <td>1</td>\n",
       "    </tr>\n",
       "    <tr>\n",
       "      <th>VIOISRPT</th>\n",
       "      <td></td>\n",
       "      <td></td>\n",
       "      <td></td>\n",
       "      <td></td>\n",
       "      <td></td>\n",
       "      <td></td>\n",
       "    </tr>\n",
       "    <tr>\n",
       "      <th>VIOCODE</th>\n",
       "      <td></td>\n",
       "      <td></td>\n",
       "      <td></td>\n",
       "      <td></td>\n",
       "      <td></td>\n",
       "      <td></td>\n",
       "    </tr>\n",
       "    <tr>\n",
       "      <th>JURISDICTIONID</th>\n",
       "      <td>335</td>\n",
       "      <td>335</td>\n",
       "      <td>335</td>\n",
       "      <td>335</td>\n",
       "      <td>335</td>\n",
       "      <td>335</td>\n",
       "    </tr>\n",
       "    <tr>\n",
       "      <th>fda_q_fixed</th>\n",
       "      <td>10</td>\n",
       "      <td>16</td>\n",
       "      <td>36</td>\n",
       "      <td>37</td>\n",
       "      <td>39</td>\n",
       "      <td>47</td>\n",
       "    </tr>\n",
       "  </tbody>\n",
       "</table>\n",
       "</div>"
      ],
      "text/plain": [
       "                                                                  0  \\\n",
       "HZLVIOLATIONID                                                        \n",
       "VIOCORRECTBYDATE                                                      \n",
       "PICKLIST                                                   6-301.11   \n",
       "VIOCOMMENT        Soap and/or paper towels are not provided for ...   \n",
       "FDAQUESTION                                                       8   \n",
       "VIOISCOS                                                          1   \n",
       "VIOLATIONID                                                           \n",
       "FDAISCRITICAL                                                     0   \n",
       "VIOISRPT                                                              \n",
       "VIOCODE                                                               \n",
       "JURISDICTIONID                                                  335   \n",
       "fda_q_fixed                                                      10   \n",
       "\n",
       "                                                                  1  \\\n",
       "HZLVIOLATIONID                                                        \n",
       "VIOCORRECTBYDATE                                                      \n",
       "PICKLIST                                                4-601.11(A)   \n",
       "VIOCOMMENT        Food contact surfaces and utensils are not cle...   \n",
       "FDAQUESTION                                                      14   \n",
       "VIOISCOS                                                          1   \n",
       "VIOLATIONID                                                           \n",
       "FDAISCRITICAL                                                     0   \n",
       "VIOISRPT                                                              \n",
       "VIOCODE                                                               \n",
       "JURISDICTIONID                                                  335   \n",
       "fda_q_fixed                                                      16   \n",
       "\n",
       "                                                                  2  \\\n",
       "HZLVIOLATIONID                                                        \n",
       "VIOCORRECTBYDATE                                                      \n",
       "PICKLIST                                                  4-204.112   \n",
       "VIOCOMMENT        An accurate product temperature-measuring devi...   \n",
       "FDAQUESTION                                                      34   \n",
       "VIOISCOS                                                          1   \n",
       "VIOLATIONID                                                           \n",
       "FDAISCRITICAL                                                     1   \n",
       "VIOISRPT                                                              \n",
       "VIOCODE                                                               \n",
       "JURISDICTIONID                                                  335   \n",
       "fda_q_fixed                                                      36   \n",
       "\n",
       "                                                              3  \\\n",
       "HZLVIOLATIONID                                                    \n",
       "VIOCORRECTBYDATE                                                  \n",
       "PICKLIST                                               3-302.12   \n",
       "VIOCOMMENT        Bulk containers are not properly labeled. V/C   \n",
       "FDAQUESTION                                                  35   \n",
       "VIOISCOS                                                      1   \n",
       "VIOLATIONID                                                       \n",
       "FDAISCRITICAL                                                 1   \n",
       "VIOISRPT                                                          \n",
       "VIOCODE                                                           \n",
       "JURISDICTIONID                                              335   \n",
       "fda_q_fixed                                                  37   \n",
       "\n",
       "                                                                  4  \\\n",
       "HZLVIOLATIONID                                                        \n",
       "VIOCORRECTBYDATE                                                      \n",
       "PICKLIST                                                   6-404.11   \n",
       "VIOCOMMENT        Food products that are held by the food establ...   \n",
       "FDAQUESTION                                                      37   \n",
       "VIOISCOS                                                          1   \n",
       "VIOLATIONID                                                           \n",
       "FDAISCRITICAL                                                     1   \n",
       "VIOISRPT                                                              \n",
       "VIOCODE                                                               \n",
       "JURISDICTIONID                                                  335   \n",
       "fda_q_fixed                                                      39   \n",
       "\n",
       "                                                                  5  \n",
       "HZLVIOLATIONID                                                       \n",
       "VIOCORRECTBYDATE                                                     \n",
       "PICKLIST                                                   4-501.11  \n",
       "VIOCOMMENT        Non-food contact equipment is not maintained i...  \n",
       "FDAQUESTION                                                      45  \n",
       "VIOISCOS                                                          1  \n",
       "VIOLATIONID                                                          \n",
       "FDAISCRITICAL                                                     1  \n",
       "VIOISRPT                                                             \n",
       "VIOCODE                                                              \n",
       "JURISDICTIONID                                                  335  \n",
       "fda_q_fixed                                                      47  "
      ]
     },
     "execution_count": 8,
     "metadata": {},
     "output_type": "execute_result"
    },
    {
     "data": {
      "text/html": [
       "<div>\n",
       "<style scoped>\n",
       "    .dataframe tbody tr th:only-of-type {\n",
       "        vertical-align: middle;\n",
       "    }\n",
       "\n",
       "    .dataframe tbody tr th {\n",
       "        vertical-align: top;\n",
       "    }\n",
       "\n",
       "    .dataframe thead th {\n",
       "        text-align: right;\n",
       "    }\n",
       "</style>\n",
       "<table border=\"1\" class=\"dataframe\">\n",
       "  <thead>\n",
       "    <tr style=\"text-align: right;\">\n",
       "      <th></th>\n",
       "      <th>1307980</th>\n",
       "      <th>1307981</th>\n",
       "      <th>1307982</th>\n",
       "      <th>1307983</th>\n",
       "      <th>1307984</th>\n",
       "      <th>1307985</th>\n",
       "    </tr>\n",
       "  </thead>\n",
       "  <tbody>\n",
       "    <tr>\n",
       "      <th>HZLVIOLATIONID</th>\n",
       "      <td></td>\n",
       "      <td></td>\n",
       "      <td></td>\n",
       "      <td></td>\n",
       "      <td></td>\n",
       "      <td></td>\n",
       "    </tr>\n",
       "    <tr>\n",
       "      <th>VIOCORRECTBYDATE</th>\n",
       "      <td>January, 01 1900 00:00:00</td>\n",
       "      <td>January, 01 1900 00:00:00</td>\n",
       "      <td>January, 01 1900 00:00:00</td>\n",
       "      <td>January, 01 1900 00:00:00</td>\n",
       "      <td>January, 01 1900 00:00:00</td>\n",
       "      <td>January, 01 1900 00:00:00</td>\n",
       "    </tr>\n",
       "    <tr>\n",
       "      <th>PICKLIST</th>\n",
       "      <td>6-501.11</td>\n",
       "      <td>6-501.12(1)</td>\n",
       "      <td>3-305.11</td>\n",
       "      <td>4-903.11 (42)</td>\n",
       "      <td>4-903.11 (42)</td>\n",
       "      <td>4-501.11</td>\n",
       "    </tr>\n",
       "    <tr>\n",
       "      <th>VIOCOMMENT</th>\n",
       "      <td>Floors, walls, and ceilings not in good repair</td>\n",
       "      <td>Floors, walls, and ceilings not clean</td>\n",
       "      <td>Food was not separated and protected from cont...</td>\n",
       "      <td>Equipment and utensils not properly installed ...</td>\n",
       "      <td>Equipment and utensils not properly stored or ...</td>\n",
       "      <td>Utensils and equipment unapproved or not in go...</td>\n",
       "    </tr>\n",
       "    <tr>\n",
       "      <th>FDAQUESTION</th>\n",
       "      <td>53</td>\n",
       "      <td>53</td>\n",
       "      <td>37</td>\n",
       "      <td>42</td>\n",
       "      <td>42</td>\n",
       "      <td>45</td>\n",
       "    </tr>\n",
       "    <tr>\n",
       "      <th>VIOISCOS</th>\n",
       "      <td>0</td>\n",
       "      <td>0</td>\n",
       "      <td>0</td>\n",
       "      <td>0</td>\n",
       "      <td>0</td>\n",
       "      <td>0</td>\n",
       "    </tr>\n",
       "    <tr>\n",
       "      <th>VIOLATIONID</th>\n",
       "      <td>100960663</td>\n",
       "      <td>100960664</td>\n",
       "      <td>100960679</td>\n",
       "      <td>100960681</td>\n",
       "      <td>100960682</td>\n",
       "      <td>100960680</td>\n",
       "    </tr>\n",
       "    <tr>\n",
       "      <th>FDAISCRITICAL</th>\n",
       "      <td>0</td>\n",
       "      <td>0</td>\n",
       "      <td>0</td>\n",
       "      <td>0</td>\n",
       "      <td>0</td>\n",
       "      <td>0</td>\n",
       "    </tr>\n",
       "    <tr>\n",
       "      <th>VIOISRPT</th>\n",
       "      <td>0</td>\n",
       "      <td>0</td>\n",
       "      <td>0</td>\n",
       "      <td>0</td>\n",
       "      <td>0</td>\n",
       "      <td>0</td>\n",
       "    </tr>\n",
       "    <tr>\n",
       "      <th>VIOCODE</th>\n",
       "      <td>53</td>\n",
       "      <td>53</td>\n",
       "      <td>37</td>\n",
       "      <td>45</td>\n",
       "      <td>42</td>\n",
       "      <td>45</td>\n",
       "    </tr>\n",
       "    <tr>\n",
       "      <th>JURISDICTIONID</th>\n",
       "      <td>863</td>\n",
       "      <td>863</td>\n",
       "      <td>863</td>\n",
       "      <td>863</td>\n",
       "      <td>863</td>\n",
       "      <td>863</td>\n",
       "    </tr>\n",
       "    <tr>\n",
       "      <th>fda_q_fixed</th>\n",
       "      <td>55</td>\n",
       "      <td>55</td>\n",
       "      <td>39</td>\n",
       "      <td>44</td>\n",
       "      <td>44</td>\n",
       "      <td>47</td>\n",
       "    </tr>\n",
       "  </tbody>\n",
       "</table>\n",
       "</div>"
      ],
      "text/plain": [
       "                                                         1307980  \\\n",
       "HZLVIOLATIONID                                                     \n",
       "VIOCORRECTBYDATE                       January, 01 1900 00:00:00   \n",
       "PICKLIST                                                6-501.11   \n",
       "VIOCOMMENT        Floors, walls, and ceilings not in good repair   \n",
       "FDAQUESTION                                                   53   \n",
       "VIOISCOS                                                       0   \n",
       "VIOLATIONID                                            100960663   \n",
       "FDAISCRITICAL                                                  0   \n",
       "VIOISRPT                                                       0   \n",
       "VIOCODE                                                       53   \n",
       "JURISDICTIONID                                               863   \n",
       "fda_q_fixed                                                   55   \n",
       "\n",
       "                                                1307981  \\\n",
       "HZLVIOLATIONID                                            \n",
       "VIOCORRECTBYDATE              January, 01 1900 00:00:00   \n",
       "PICKLIST                                    6-501.12(1)   \n",
       "VIOCOMMENT        Floors, walls, and ceilings not clean   \n",
       "FDAQUESTION                                          53   \n",
       "VIOISCOS                                              0   \n",
       "VIOLATIONID                                   100960664   \n",
       "FDAISCRITICAL                                         0   \n",
       "VIOISRPT                                              0   \n",
       "VIOCODE                                              53   \n",
       "JURISDICTIONID                                      863   \n",
       "fda_q_fixed                                          55   \n",
       "\n",
       "                                                            1307982  \\\n",
       "HZLVIOLATIONID                                                        \n",
       "VIOCORRECTBYDATE                          January, 01 1900 00:00:00   \n",
       "PICKLIST                                                   3-305.11   \n",
       "VIOCOMMENT        Food was not separated and protected from cont...   \n",
       "FDAQUESTION                                                      37   \n",
       "VIOISCOS                                                          0   \n",
       "VIOLATIONID                                               100960679   \n",
       "FDAISCRITICAL                                                     0   \n",
       "VIOISRPT                                                          0   \n",
       "VIOCODE                                                          37   \n",
       "JURISDICTIONID                                                  863   \n",
       "fda_q_fixed                                                      39   \n",
       "\n",
       "                                                            1307983  \\\n",
       "HZLVIOLATIONID                                                        \n",
       "VIOCORRECTBYDATE                          January, 01 1900 00:00:00   \n",
       "PICKLIST                                              4-903.11 (42)   \n",
       "VIOCOMMENT        Equipment and utensils not properly installed ...   \n",
       "FDAQUESTION                                                      42   \n",
       "VIOISCOS                                                          0   \n",
       "VIOLATIONID                                               100960681   \n",
       "FDAISCRITICAL                                                     0   \n",
       "VIOISRPT                                                          0   \n",
       "VIOCODE                                                          45   \n",
       "JURISDICTIONID                                                  863   \n",
       "fda_q_fixed                                                      44   \n",
       "\n",
       "                                                            1307984  \\\n",
       "HZLVIOLATIONID                                                        \n",
       "VIOCORRECTBYDATE                          January, 01 1900 00:00:00   \n",
       "PICKLIST                                              4-903.11 (42)   \n",
       "VIOCOMMENT        Equipment and utensils not properly stored or ...   \n",
       "FDAQUESTION                                                      42   \n",
       "VIOISCOS                                                          0   \n",
       "VIOLATIONID                                               100960682   \n",
       "FDAISCRITICAL                                                     0   \n",
       "VIOISRPT                                                          0   \n",
       "VIOCODE                                                          42   \n",
       "JURISDICTIONID                                                  863   \n",
       "fda_q_fixed                                                      44   \n",
       "\n",
       "                                                            1307985  \n",
       "HZLVIOLATIONID                                                       \n",
       "VIOCORRECTBYDATE                          January, 01 1900 00:00:00  \n",
       "PICKLIST                                                   4-501.11  \n",
       "VIOCOMMENT        Utensils and equipment unapproved or not in go...  \n",
       "FDAQUESTION                                                      45  \n",
       "VIOISCOS                                                          0  \n",
       "VIOLATIONID                                               100960680  \n",
       "FDAISCRITICAL                                                     0  \n",
       "VIOISRPT                                                          0  \n",
       "VIOCODE                                                          45  \n",
       "JURISDICTIONID                                                  863  \n",
       "fda_q_fixed                                                      47  "
      ]
     },
     "execution_count": 8,
     "metadata": {},
     "output_type": "execute_result"
    }
   ],
   "source": [
    "df.head(6).T\n",
    "df.tail(6).T"
   ]
  },
  {
   "cell_type": "markdown",
   "metadata": {},
   "source": [
    "#### Basic summary"
   ]
  },
  {
   "cell_type": "code",
   "execution_count": 9,
   "metadata": {
    "ExecuteTime": {
     "end_time": "2020-09-17T05:17:02.863699Z",
     "start_time": "2020-09-17T05:17:02.438666Z"
    }
   },
   "outputs": [
    {
     "name": "stdout",
     "output_type": "stream",
     "text": [
      "<class 'pandas.core.frame.DataFrame'>\n",
      "RangeIndex: 1307986 entries, 0 to 1307985\n",
      "Data columns (total 12 columns):\n",
      " #   Column            Non-Null Count    Dtype  \n",
      "---  ------            --------------    -----  \n",
      " 0   HZLVIOLATIONID    1307986 non-null  object \n",
      " 1   VIOCORRECTBYDATE  1307986 non-null  object \n",
      " 2   PICKLIST          1307986 non-null  object \n",
      " 3   VIOCOMMENT        1307986 non-null  object \n",
      " 4   FDAQUESTION       1307986 non-null  object \n",
      " 5   VIOISCOS          1307986 non-null  object \n",
      " 6   VIOLATIONID       1307986 non-null  object \n",
      " 7   FDAISCRITICAL     1307986 non-null  int64  \n",
      " 8   VIOISRPT          1307986 non-null  object \n",
      " 9   VIOCODE           1307986 non-null  object \n",
      " 10  JURISDICTIONID    1307986 non-null  float64\n",
      " 11  fda_q_fixed       1307986 non-null  int64  \n",
      "dtypes: float64(1), int64(2), object(9)\n",
      "memory usage: 119.7+ MB\n"
     ]
    }
   ],
   "source": [
    "df.info()"
   ]
  },
  {
   "cell_type": "code",
   "execution_count": 10,
   "metadata": {
    "ExecuteTime": {
     "end_time": "2020-09-17T05:17:03.005412Z",
     "start_time": "2020-09-17T05:17:02.865404Z"
    },
    "scrolled": false
   },
   "outputs": [
    {
     "data": {
      "text/html": [
       "<div>\n",
       "<style scoped>\n",
       "    .dataframe tbody tr th:only-of-type {\n",
       "        vertical-align: middle;\n",
       "    }\n",
       "\n",
       "    .dataframe tbody tr th {\n",
       "        vertical-align: top;\n",
       "    }\n",
       "\n",
       "    .dataframe thead th {\n",
       "        text-align: right;\n",
       "    }\n",
       "</style>\n",
       "<table border=\"1\" class=\"dataframe\">\n",
       "  <thead>\n",
       "    <tr style=\"text-align: right;\">\n",
       "      <th></th>\n",
       "      <th>FDAISCRITICAL</th>\n",
       "      <th>JURISDICTIONID</th>\n",
       "      <th>fda_q_fixed</th>\n",
       "    </tr>\n",
       "  </thead>\n",
       "  <tbody>\n",
       "    <tr>\n",
       "      <th>count</th>\n",
       "      <td>1.307986e+06</td>\n",
       "      <td>1.307986e+06</td>\n",
       "      <td>1.307986e+06</td>\n",
       "    </tr>\n",
       "    <tr>\n",
       "      <th>mean</th>\n",
       "      <td>3.141234e-01</td>\n",
       "      <td>2.818328e+02</td>\n",
       "      <td>3.773050e+01</td>\n",
       "    </tr>\n",
       "    <tr>\n",
       "      <th>std</th>\n",
       "      <td>4.641660e-01</td>\n",
       "      <td>2.400974e+02</td>\n",
       "      <td>1.619210e+01</td>\n",
       "    </tr>\n",
       "    <tr>\n",
       "      <th>min</th>\n",
       "      <td>0.000000e+00</td>\n",
       "      <td>2.000000e+00</td>\n",
       "      <td>1.000000e+00</td>\n",
       "    </tr>\n",
       "    <tr>\n",
       "      <th>25%</th>\n",
       "      <td>0.000000e+00</td>\n",
       "      <td>1.360000e+02</td>\n",
       "      <td>2.200000e+01</td>\n",
       "    </tr>\n",
       "    <tr>\n",
       "      <th>50%</th>\n",
       "      <td>0.000000e+00</td>\n",
       "      <td>1.530000e+02</td>\n",
       "      <td>4.400000e+01</td>\n",
       "    </tr>\n",
       "    <tr>\n",
       "      <th>75%</th>\n",
       "      <td>1.000000e+00</td>\n",
       "      <td>3.880000e+02</td>\n",
       "      <td>5.000000e+01</td>\n",
       "    </tr>\n",
       "    <tr>\n",
       "      <th>max</th>\n",
       "      <td>1.000000e+00</td>\n",
       "      <td>9.730000e+02</td>\n",
       "      <td>5.600000e+01</td>\n",
       "    </tr>\n",
       "  </tbody>\n",
       "</table>\n",
       "</div>"
      ],
      "text/plain": [
       "       FDAISCRITICAL  JURISDICTIONID   fda_q_fixed\n",
       "count   1.307986e+06    1.307986e+06  1.307986e+06\n",
       "mean    3.141234e-01    2.818328e+02  3.773050e+01\n",
       "std     4.641660e-01    2.400974e+02  1.619210e+01\n",
       "min     0.000000e+00    2.000000e+00  1.000000e+00\n",
       "25%     0.000000e+00    1.360000e+02  2.200000e+01\n",
       "50%     0.000000e+00    1.530000e+02  4.400000e+01\n",
       "75%     1.000000e+00    3.880000e+02  5.000000e+01\n",
       "max     1.000000e+00    9.730000e+02  5.600000e+01"
      ]
     },
     "execution_count": 10,
     "metadata": {},
     "output_type": "execute_result"
    }
   ],
   "source": [
    "df.describe()"
   ]
  },
  {
   "cell_type": "markdown",
   "metadata": {},
   "source": [
    "#### Remove columns from DataFrame which we won't need"
   ]
  },
  {
   "cell_type": "code",
   "execution_count": 11,
   "metadata": {
    "ExecuteTime": {
     "end_time": "2020-09-17T05:17:03.203812Z",
     "start_time": "2020-09-17T05:17:03.006999Z"
    },
    "scrolled": true
   },
   "outputs": [
    {
     "name": "stdout",
     "output_type": "stream",
     "text": [
      "<class 'pandas.core.frame.DataFrame'>\n",
      "RangeIndex: 1307986 entries, 0 to 1307985\n",
      "Data columns (total 3 columns):\n",
      " #   Column         Non-Null Count    Dtype \n",
      "---  ------         --------------    ----- \n",
      " 0   fda_q_fixed    1307986 non-null  int64 \n",
      " 1   VIOCOMMENT     1307986 non-null  object\n",
      " 2   FDAISCRITICAL  1307986 non-null  int64 \n",
      "dtypes: int64(2), object(1)\n",
      "memory usage: 29.9+ MB\n"
     ]
    }
   ],
   "source": [
    "df = df[['fda_q_fixed', 'VIOCOMMENT', 'FDAISCRITICAL']]\n",
    "df.info()"
   ]
  },
  {
   "cell_type": "markdown",
   "metadata": {},
   "source": [
    "### Exploratory analysis\n",
    "\n",
    "#### Classes and relative balance\n",
    "\n",
    "* The stuff using patches is for placing counts above each rectangle in the bar plot"
   ]
  },
  {
   "cell_type": "code",
   "execution_count": 12,
   "metadata": {
    "ExecuteTime": {
     "end_time": "2020-09-17T05:17:27.704845Z",
     "start_time": "2020-09-17T05:17:27.515865Z"
    },
    "scrolled": true
   },
   "outputs": [
    {
     "name": "stdout",
     "output_type": "stream",
     "text": [
      "[1, 2, 3, 4, 5, 6, 7, 8, 9, 10, 11, 12, 13, 14, 15, 16, 17, 18, 19, 20, 21, 22, 23, 24, 25, 26, 27, 28, 29, 30, 31, 32, 33, 34, 35, 36, 37, 38, 39, 40, 41, 42, 43, 44, 45, 46, 47, 48, 49, 50, 51, 52, 53, 54, 55, 56]\n"
     ]
    },
    {
     "data": {
      "text/html": [
       "<div>\n",
       "<style scoped>\n",
       "    .dataframe tbody tr th:only-of-type {\n",
       "        vertical-align: middle;\n",
       "    }\n",
       "\n",
       "    .dataframe tbody tr th {\n",
       "        vertical-align: top;\n",
       "    }\n",
       "\n",
       "    .dataframe thead th {\n",
       "        text-align: right;\n",
       "    }\n",
       "</style>\n",
       "<table border=\"1\" class=\"dataframe\">\n",
       "  <thead>\n",
       "    <tr style=\"text-align: right;\">\n",
       "      <th></th>\n",
       "      <th>55</th>\n",
       "      <th>49</th>\n",
       "      <th>47</th>\n",
       "      <th>16</th>\n",
       "      <th>10</th>\n",
       "      <th>22</th>\n",
       "      <th>51</th>\n",
       "      <th>56</th>\n",
       "      <th>39</th>\n",
       "      <th>44</th>\n",
       "      <th>41</th>\n",
       "      <th>38</th>\n",
       "      <th>54</th>\n",
       "      <th>48</th>\n",
       "      <th>43</th>\n",
       "      <th>28</th>\n",
       "      <th>40</th>\n",
       "      <th>45</th>\n",
       "      <th>36</th>\n",
       "      <th>8</th>\n",
       "      <th>21</th>\n",
       "      <th>15</th>\n",
       "      <th>6</th>\n",
       "      <th>24</th>\n",
       "      <th>53</th>\n",
       "      <th>37</th>\n",
       "      <th>23</th>\n",
       "      <th>2</th>\n",
       "      <th>33</th>\n",
       "      <th>1</th>\n",
       "      <th>50</th>\n",
       "      <th>20</th>\n",
       "      <th>13</th>\n",
       "      <th>9</th>\n",
       "      <th>52</th>\n",
       "      <th>35</th>\n",
       "      <th>3</th>\n",
       "      <th>29</th>\n",
       "      <th>18</th>\n",
       "      <th>25</th>\n",
       "      <th>5</th>\n",
       "      <th>11</th>\n",
       "      <th>19</th>\n",
       "      <th>14</th>\n",
       "      <th>4</th>\n",
       "      <th>42</th>\n",
       "      <th>31</th>\n",
       "      <th>46</th>\n",
       "      <th>17</th>\n",
       "      <th>12</th>\n",
       "      <th>32</th>\n",
       "      <th>7</th>\n",
       "      <th>26</th>\n",
       "      <th>30</th>\n",
       "      <th>27</th>\n",
       "      <th>34</th>\n",
       "    </tr>\n",
       "  </thead>\n",
       "  <tbody>\n",
       "    <tr>\n",
       "      <th>fda_q_fixed</th>\n",
       "      <td>171202</td>\n",
       "      <td>122314</td>\n",
       "      <td>121997</td>\n",
       "      <td>103357</td>\n",
       "      <td>69288</td>\n",
       "      <td>57210</td>\n",
       "      <td>56230</td>\n",
       "      <td>51223</td>\n",
       "      <td>46145</td>\n",
       "      <td>45333</td>\n",
       "      <td>42241</td>\n",
       "      <td>37133</td>\n",
       "      <td>30016</td>\n",
       "      <td>27602</td>\n",
       "      <td>26638</td>\n",
       "      <td>24426</td>\n",
       "      <td>24016</td>\n",
       "      <td>22845</td>\n",
       "      <td>21351</td>\n",
       "      <td>20585</td>\n",
       "      <td>18874</td>\n",
       "      <td>18156</td>\n",
       "      <td>15947</td>\n",
       "      <td>15218</td>\n",
       "      <td>13428</td>\n",
       "      <td>13294</td>\n",
       "      <td>12675</td>\n",
       "      <td>12630</td>\n",
       "      <td>11494</td>\n",
       "      <td>7844</td>\n",
       "      <td>7019</td>\n",
       "      <td>5747</td>\n",
       "      <td>5495</td>\n",
       "      <td>4213</td>\n",
       "      <td>3738</td>\n",
       "      <td>3513</td>\n",
       "      <td>2774</td>\n",
       "      <td>1910</td>\n",
       "      <td>1859</td>\n",
       "      <td>1770</td>\n",
       "      <td>1602</td>\n",
       "      <td>1550</td>\n",
       "      <td>1351</td>\n",
       "      <td>933</td>\n",
       "      <td>883</td>\n",
       "      <td>849</td>\n",
       "      <td>492</td>\n",
       "      <td>464</td>\n",
       "      <td>348</td>\n",
       "      <td>225</td>\n",
       "      <td>216</td>\n",
       "      <td>166</td>\n",
       "      <td>63</td>\n",
       "      <td>34</td>\n",
       "      <td>33</td>\n",
       "      <td>27</td>\n",
       "    </tr>\n",
       "  </tbody>\n",
       "</table>\n",
       "</div>"
      ],
      "text/plain": [
       "                 55      49      47      16     10     22     51     56  \\\n",
       "fda_q_fixed  171202  122314  121997  103357  69288  57210  56230  51223   \n",
       "\n",
       "                39     44     41     38     54     48     43     28     40  \\\n",
       "fda_q_fixed  46145  45333  42241  37133  30016  27602  26638  24426  24016   \n",
       "\n",
       "                45     36     8      21     15     6      24     53     37  \\\n",
       "fda_q_fixed  22845  21351  20585  18874  18156  15947  15218  13428  13294   \n",
       "\n",
       "                23     2      33    1     50    20    13    9     52    35  \\\n",
       "fda_q_fixed  12675  12630  11494  7844  7019  5747  5495  4213  3738  3513   \n",
       "\n",
       "               3     29    18    25    5     11    19   14   4    42   31  \\\n",
       "fda_q_fixed  2774  1910  1859  1770  1602  1550  1351  933  883  849  492   \n",
       "\n",
       "              46   17   12   32   7   26  30  27  34  \n",
       "fda_q_fixed  464  348  225  216  166  63  34  33  27  "
      ]
     },
     "metadata": {},
     "output_type": "display_data"
    }
   ],
   "source": [
    "FDAcodes = list(set(df['fda_q_fixed'].values))\n",
    "print(FDAcodes)\n",
    "classCts = pd.DataFrame(df['fda_q_fixed'].value_counts())\n",
    "with pd.option_context(\"display.max_columns\", 60):\n",
    "    display(classCts.T)"
   ]
  },
  {
   "cell_type": "code",
   "execution_count": 13,
   "metadata": {
    "ExecuteTime": {
     "end_time": "2020-09-17T05:17:47.109546Z",
     "start_time": "2020-09-17T05:17:45.874830Z"
    }
   },
   "outputs": [
    {
     "name": "stdout",
     "output_type": "stream",
     "text": [
      "fileNameAugmentString:\n",
      " FdaCodeFrequencies\n",
      "Δt:  0.48s.\n"
     ]
    },
    {
     "data": {
      "image/png": "[encoded data removed]",
      "text/plain": [
       "<Figure size 1152x720 with 1 Axes>"
      ]
     },
     "metadata": {
      "needs_background": "light"
     },
     "output_type": "display_data"
    }
   ],
   "source": [
    "ph.plotValueCounts(df, 'fda_q_fixed', titleText='FDA code frequencies', saveAs='svg', ylim=[0.0, 187500.0])"
   ]
  },
  {
   "cell_type": "markdown",
   "metadata": {},
   "source": [
    "***The class sizes span nearly 4 orders of magnitude!***"
   ]
  },
  {
   "cell_type": "markdown",
   "metadata": {},
   "source": [
    "#### Word frequencies"
   ]
  },
  {
   "cell_type": "code",
   "execution_count": 14,
   "metadata": {
    "ExecuteTime": {
     "end_time": "2020-09-17T05:18:02.201912Z",
     "start_time": "2020-09-17T05:17:54.752139Z"
    }
   },
   "outputs": [
    {
     "name": "stdout",
     "output_type": "stream",
     "text": [
      "Δt:  7.4s.\n"
     ]
    },
    {
     "name": "stderr",
     "output_type": "stream",
     "text": [
      "/usr/local/lib/python3.6/dist-packages/ipykernel_launcher.py:2: SettingWithCopyWarning: \n",
      "A value is trying to be set on a copy of a slice from a DataFrame.\n",
      "Try using .loc[row_indexer,col_indexer] = value instead\n",
      "\n",
      "See the caveats in the documentation: https://pandas.pydata.org/pandas-docs/stable/user_guide/indexing.html#returning-a-view-versus-a-copy\n",
      "  \n"
     ]
    }
   ],
   "source": [
    "t0 = time()\n",
    "df['commentsWords'] = df['VIOCOMMENT'].apply(lambda s: s.split())\n",
    "t1 = time()\n",
    "Δt = t1 - t0\n",
    "print(f\"Δt: {Δt % 60.0:4.1f}s.\")"
   ]
  },
  {
   "cell_type": "code",
   "execution_count": 15,
   "metadata": {
    "ExecuteTime": {
     "end_time": "2020-09-17T05:18:04.521436Z",
     "start_time": "2020-09-17T05:18:04.294976Z"
    }
   },
   "outputs": [
    {
     "name": "stdout",
     "output_type": "stream",
     "text": [
      "['Soap', 'and/or', 'paper', 'towels', 'are', 'not', 'provided', 'for', 'use', 'at', 'the', 'hand', 'wash', 'lavatory.', 'V/C']\n",
      "['Utensils', 'and', 'equipment', 'unapproved', 'or', 'not', 'in', 'good', 'repair']\n"
     ]
    }
   ],
   "source": [
    "comments = list(df['commentsWords'])\n",
    "print(comments[0])\n",
    "print(comments[-1])"
   ]
  },
  {
   "cell_type": "markdown",
   "metadata": {},
   "source": [
    "##### Distribution of comment lengths\n",
    "\n",
    "* Add length of each comment to DataFrame as `wordFreq` column"
   ]
  },
  {
   "cell_type": "code",
   "execution_count": 16,
   "metadata": {
    "ExecuteTime": {
     "end_time": "2020-09-17T05:18:27.896833Z",
     "start_time": "2020-09-17T05:18:27.314945Z"
    }
   },
   "outputs": [
    {
     "name": "stdout",
     "output_type": "stream",
     "text": [
      "smallest word counts:\n",
      " [0, 0, 1, 1, 1, 1, 1, 1, 1, 1, 1, 1, 1, 1, 1, 1, 1, 1, 1, 1, 1, 1, 1, 1, 1, 1, 1, 1, 1, 1, 1, 1, 1, 1, 1, 1, 1, 1, 1, 1, 1, 1, 1, 1, 1, 1, 1, 1, 1, 1, 1, 1, 1, 1, 1, 1, 1, 1, 1, 1, 1, 1, 1, 1, 1, 1, 1, 1, 1, 1, 1, 1, 1, 1, 1, 1, 1, 1, 1, 1, 1, 1, 1, 1, 1, 1, 1, 1, 1, 1, 1, 1, 1, 1, 1, 1, 1, 1, 1, 1]\n",
      "largest word counts:\n",
      " [434, 434, 434, 440, 440, 440, 440, 440, 440, 441, 441, 442, 453, 454, 454, 458, 464, 464, 464, 464, 464, 464, 466, 466, 474, 474, 476, 476, 476, 480, 480, 481, 481, 481, 488, 498, 498, 498, 498, 503, 506, 506, 511, 511, 511, 533, 533, 534, 534, 535, 535, 536, 536, 536, 538, 538, 539, 542, 542, 542, 547, 552, 552, 553, 553, 564, 577, 577, 580, 580, 580, 580, 580, 580, 594, 594, 615, 615, 615, 619, 619, 619, 628, 628, 644, 644, 644, 649, 649, 670, 670, 670, 671, 671, 782, 782, 787, 787, 806, 806]\n"
     ]
    },
    {
     "name": "stderr",
     "output_type": "stream",
     "text": [
      "/usr/local/lib/python3.6/dist-packages/ipykernel_launcher.py:2: SettingWithCopyWarning: \n",
      "A value is trying to be set on a copy of a slice from a DataFrame.\n",
      "Try using .loc[row_indexer,col_indexer] = value instead\n",
      "\n",
      "See the caveats in the documentation: https://pandas.pydata.org/pandas-docs/stable/user_guide/indexing.html#returning-a-view-versus-a-copy\n",
      "  \n"
     ]
    }
   ],
   "source": [
    "wordLens = [len(wordList) for wordList in comments]\n",
    "df['wordFreq'] = wordLens\n",
    "wordFreqMode = df['wordFreq'].mode().values[0]\n",
    "\n",
    "wordCtSorted = sorted(wordLens)\n",
    "print(\"smallest word counts:\\n\", wordCtSorted[:100])\n",
    "print(\"largest word counts:\\n\", wordCtSorted[-101:-1])"
   ]
  },
  {
   "cell_type": "markdown",
   "metadata": {},
   "source": [
    "**Detailed histogram**"
   ]
  },
  {
   "cell_type": "code",
   "execution_count": 17,
   "metadata": {
    "ExecuteTime": {
     "end_time": "2020-09-17T05:18:40.043284Z",
     "start_time": "2020-09-17T05:18:32.359140Z"
    },
    "scrolled": false
   },
   "outputs": [
    {
     "name": "stdout",
     "output_type": "stream",
     "text": [
      "Found  844 bins in data array.\n",
      "fileNameAugmentString:\n",
      " WordCountsMax844Mode8\n",
      "Saving as  ./WordCountsHistWordCountsMax844Mode8.svg .\n",
      "Δt:  6.05s.\n"
     ]
    },
    {
     "data": {
      "image/png": "[encoded data removed]",
      "text/plain": [
       "<Figure size 1296x252 with 1 Axes>"
      ]
     },
     "metadata": {
      "needs_background": "light"
     },
     "output_type": "display_data"
    }
   ],
   "source": [
    "fig, ax = plt.subplots(1, 1, figsize=(18, 3.5))\n",
    "\n",
    "ph.detailedHistogram(wordLens, ylabel='frequency', volubility=2,\n",
    "                     titleText=f\"Word counts (max: {wordCtSorted[-1]}, mode: {wordFreqMode})\",\n",
    "                     figName=\"WordCountsHist\", ax=ax, ylim = [0.5, 100000.0], ylog=True, saveAs='svg')"
   ]
  },
  {
   "cell_type": "markdown",
   "metadata": {},
   "source": [
    "**Make space**"
   ]
  },
  {
   "cell_type": "code",
   "execution_count": 18,
   "metadata": {
    "ExecuteTime": {
     "end_time": "2020-09-17T05:18:52.553752Z",
     "start_time": "2020-09-17T05:18:52.505374Z"
    }
   },
   "outputs": [],
   "source": [
    "del wordLens\n",
    "del wordCtSorted\n",
    "del df['commentsWords']"
   ]
  },
  {
   "cell_type": "markdown",
   "metadata": {},
   "source": [
    "##### What FDA codes correspond to those comments having `wordFreq== 0`?"
   ]
  },
  {
   "cell_type": "code",
   "execution_count": 19,
   "metadata": {
    "ExecuteTime": {
     "end_time": "2020-09-17T05:18:55.008670Z",
     "start_time": "2020-09-17T05:18:54.956098Z"
    }
   },
   "outputs": [
    {
     "data": {
      "text/html": [
       "<div>\n",
       "<style scoped>\n",
       "    .dataframe tbody tr th:only-of-type {\n",
       "        vertical-align: middle;\n",
       "    }\n",
       "\n",
       "    .dataframe tbody tr th {\n",
       "        vertical-align: top;\n",
       "    }\n",
       "\n",
       "    .dataframe thead th {\n",
       "        text-align: right;\n",
       "    }\n",
       "</style>\n",
       "<table border=\"1\" class=\"dataframe\">\n",
       "  <thead>\n",
       "    <tr style=\"text-align: right;\">\n",
       "      <th></th>\n",
       "      <th>fda_q_fixed</th>\n",
       "      <th>VIOCOMMENT</th>\n",
       "      <th>FDAISCRITICAL</th>\n",
       "      <th>wordFreq</th>\n",
       "    </tr>\n",
       "  </thead>\n",
       "  <tbody>\n",
       "    <tr>\n",
       "      <th>610833</th>\n",
       "      <td>49</td>\n",
       "      <td></td>\n",
       "      <td>1</td>\n",
       "      <td>0</td>\n",
       "    </tr>\n",
       "    <tr>\n",
       "      <th>610835</th>\n",
       "      <td>49</td>\n",
       "      <td></td>\n",
       "      <td>1</td>\n",
       "      <td>0</td>\n",
       "    </tr>\n",
       "  </tbody>\n",
       "</table>\n",
       "</div>"
      ],
      "text/plain": [
       "        fda_q_fixed VIOCOMMENT  FDAISCRITICAL  wordFreq\n",
       "610833           49                         1         0\n",
       "610835           49                         1         0"
      ]
     },
     "execution_count": 19,
     "metadata": {},
     "output_type": "execute_result"
    },
    {
     "name": "stdout",
     "output_type": "stream",
     "text": [
      "\n",
      " (1307986, 4)\n"
     ]
    }
   ],
   "source": [
    "df[df['wordFreq']==0]\n",
    "print(\"\\n\", df.shape)"
   ]
  },
  {
   "cell_type": "markdown",
   "metadata": {},
   "source": [
    "**Can safely remove a couple of records from the 2nd-most populated category**\n",
    "\n",
    "* Originally there were 1307986 records in `df`, out of which 122314 were in Class 49"
   ]
  },
  {
   "cell_type": "code",
   "execution_count": 20,
   "metadata": {
    "ExecuteTime": {
     "end_time": "2020-09-17T05:19:03.057905Z",
     "start_time": "2020-09-17T05:19:02.950613Z"
    }
   },
   "outputs": [
    {
     "data": {
      "text/plain": [
       "(1307984, 4)"
      ]
     },
     "execution_count": 20,
     "metadata": {},
     "output_type": "execute_result"
    }
   ],
   "source": [
    "df = df[df['wordFreq']!=0]\n",
    "df.shape"
   ]
  },
  {
   "cell_type": "markdown",
   "metadata": {},
   "source": [
    "##### `wordFreq` percentiles\n",
    "\n",
    "* These show that would get 99% coverage of the comments without truncation if were to use, say, 140-element LSTMs"
   ]
  },
  {
   "cell_type": "code",
   "execution_count": 21,
   "metadata": {
    "ExecuteTime": {
     "end_time": "2020-09-17T05:19:05.801528Z",
     "start_time": "2020-09-17T05:19:05.671133Z"
    },
    "scrolled": false
   },
   "outputs": [
    {
     "data": {
      "text/html": [
       "<div>\n",
       "<style scoped>\n",
       "    .dataframe tbody tr th:only-of-type {\n",
       "        vertical-align: middle;\n",
       "    }\n",
       "\n",
       "    .dataframe tbody tr th {\n",
       "        vertical-align: top;\n",
       "    }\n",
       "\n",
       "    .dataframe thead th {\n",
       "        text-align: right;\n",
       "    }\n",
       "</style>\n",
       "<table border=\"1\" class=\"dataframe\">\n",
       "  <thead>\n",
       "    <tr style=\"text-align: right;\">\n",
       "      <th></th>\n",
       "      <th>fda_q_fixed</th>\n",
       "      <th>FDAISCRITICAL</th>\n",
       "      <th>wordFreq</th>\n",
       "    </tr>\n",
       "  </thead>\n",
       "  <tbody>\n",
       "    <tr>\n",
       "      <th>count</th>\n",
       "      <td>1.307984e+06</td>\n",
       "      <td>1.307984e+06</td>\n",
       "      <td>1.307984e+06</td>\n",
       "    </tr>\n",
       "    <tr>\n",
       "      <th>mean</th>\n",
       "      <td>3.773048e+01</td>\n",
       "      <td>3.141223e-01</td>\n",
       "      <td>2.734516e+01</td>\n",
       "    </tr>\n",
       "    <tr>\n",
       "      <th>std</th>\n",
       "      <td>1.619211e+01</td>\n",
       "      <td>4.641656e-01</td>\n",
       "      <td>2.859241e+01</td>\n",
       "    </tr>\n",
       "    <tr>\n",
       "      <th>min</th>\n",
       "      <td>1.000000e+00</td>\n",
       "      <td>0.000000e+00</td>\n",
       "      <td>1.000000e+00</td>\n",
       "    </tr>\n",
       "    <tr>\n",
       "      <th>1%</th>\n",
       "      <td>2.000000e+00</td>\n",
       "      <td>0.000000e+00</td>\n",
       "      <td>3.000000e+00</td>\n",
       "    </tr>\n",
       "    <tr>\n",
       "      <th>5%</th>\n",
       "      <td>9.000000e+00</td>\n",
       "      <td>0.000000e+00</td>\n",
       "      <td>5.000000e+00</td>\n",
       "    </tr>\n",
       "    <tr>\n",
       "      <th>15%</th>\n",
       "      <td>1.600000e+01</td>\n",
       "      <td>0.000000e+00</td>\n",
       "      <td>7.000000e+00</td>\n",
       "    </tr>\n",
       "    <tr>\n",
       "      <th>25%</th>\n",
       "      <td>2.200000e+01</td>\n",
       "      <td>0.000000e+00</td>\n",
       "      <td>1.000000e+01</td>\n",
       "    </tr>\n",
       "    <tr>\n",
       "      <th>50%</th>\n",
       "      <td>4.400000e+01</td>\n",
       "      <td>0.000000e+00</td>\n",
       "      <td>1.800000e+01</td>\n",
       "    </tr>\n",
       "    <tr>\n",
       "      <th>75%</th>\n",
       "      <td>5.000000e+01</td>\n",
       "      <td>1.000000e+00</td>\n",
       "      <td>3.500000e+01</td>\n",
       "    </tr>\n",
       "    <tr>\n",
       "      <th>85%</th>\n",
       "      <td>5.500000e+01</td>\n",
       "      <td>1.000000e+00</td>\n",
       "      <td>4.700000e+01</td>\n",
       "    </tr>\n",
       "    <tr>\n",
       "      <th>95%</th>\n",
       "      <td>5.500000e+01</td>\n",
       "      <td>1.000000e+00</td>\n",
       "      <td>8.000000e+01</td>\n",
       "    </tr>\n",
       "    <tr>\n",
       "      <th>99%</th>\n",
       "      <td>5.600000e+01</td>\n",
       "      <td>1.000000e+00</td>\n",
       "      <td>1.400000e+02</td>\n",
       "    </tr>\n",
       "    <tr>\n",
       "      <th>max</th>\n",
       "      <td>5.600000e+01</td>\n",
       "      <td>1.000000e+00</td>\n",
       "      <td>8.440000e+02</td>\n",
       "    </tr>\n",
       "  </tbody>\n",
       "</table>\n",
       "</div>"
      ],
      "text/plain": [
       "        fda_q_fixed  FDAISCRITICAL      wordFreq\n",
       "count  1.307984e+06   1.307984e+06  1.307984e+06\n",
       "mean   3.773048e+01   3.141223e-01  2.734516e+01\n",
       "std    1.619211e+01   4.641656e-01  2.859241e+01\n",
       "min    1.000000e+00   0.000000e+00  1.000000e+00\n",
       "1%     2.000000e+00   0.000000e+00  3.000000e+00\n",
       "5%     9.000000e+00   0.000000e+00  5.000000e+00\n",
       "15%    1.600000e+01   0.000000e+00  7.000000e+00\n",
       "25%    2.200000e+01   0.000000e+00  1.000000e+01\n",
       "50%    4.400000e+01   0.000000e+00  1.800000e+01\n",
       "75%    5.000000e+01   1.000000e+00  3.500000e+01\n",
       "85%    5.500000e+01   1.000000e+00  4.700000e+01\n",
       "95%    5.500000e+01   1.000000e+00  8.000000e+01\n",
       "99%    5.600000e+01   1.000000e+00  1.400000e+02\n",
       "max    5.600000e+01   1.000000e+00  8.440000e+02"
      ]
     },
     "execution_count": 21,
     "metadata": {},
     "output_type": "execute_result"
    }
   ],
   "source": [
    "df.describe(percentiles=[0.01, 0.05, 0.15, 0.25, 0.5, 0.75, 0.85, 0.95, 0.99])"
   ]
  },
  {
   "cell_type": "markdown",
   "metadata": {},
   "source": [
    "#### Most-common words"
   ]
  },
  {
   "cell_type": "code",
   "execution_count": 22,
   "metadata": {
    "ExecuteTime": {
     "end_time": "2020-09-17T05:19:08.105091Z",
     "start_time": "2020-09-17T05:19:07.455818Z"
    }
   },
   "outputs": [
    {
     "name": "stdout",
     "output_type": "stream",
     "text": [
      "1307986 35767027\n",
      "[['Soap', 'and/or', 'paper', 'towels', 'are', 'not', 'provided', 'for', 'use', 'at', 'the', 'hand', 'wash', 'lavatory.', 'V/C'], ['Food', 'contact', 'surfaces', 'and', 'utensils', 'are', 'not', 'clean', 'to', 'sight', 'and', 'touch.', 'V/C'], ['An', 'accurate', 'product', 'temperature-measuring', 'device', 'is', 'not', 'provided.', 'V/C'], ['Bulk', 'containers', 'are', 'not', 'properly', 'labeled.', 'V/C'], ['Food', 'products', 'that', 'are', 'held', 'by', 'the', 'food', 'establishment', 'for', 'credit,', 'redemption', 'or', 'return', 'to', 'the', 'distributor', 'are', 'not', 'segregated', 'and', 'held', 'in', 'designated', 'areas', 'that', 'are', 'separated', 'from', 'food,', 'equipment,', 'utensils,', 'linens,', 'and', 'single', 'use', 'utensils/articles.', 'V/C']] \n",
      " ['Soap', 'and/or', 'paper', 'towels', 'are', 'not', 'provided', 'for', 'use', 'at', 'the', 'hand', 'wash', 'lavatory.', 'V/C', 'Food', 'contact', 'surfaces', 'and', 'utensils', 'are', 'not', 'clean', 'to', 'sight']\n"
     ]
    }
   ],
   "source": [
    "allWords = [word for wordList in comments for word in wordList]\t\t# Flatten list of lists of words\n",
    "print(len(comments), len(allWords))\n",
    "\n",
    "print(comments[:5], \"\\n\", allWords[:25])"
   ]
  },
  {
   "cell_type": "code",
   "execution_count": 23,
   "metadata": {
    "ExecuteTime": {
     "end_time": "2020-09-17T05:19:17.387725Z",
     "start_time": "2020-09-17T05:19:13.088251Z"
    }
   },
   "outputs": [
    {
     "name": "stdout",
     "output_type": "stream",
     "text": [
      "Δt:  4.3s.\n"
     ]
    }
   ],
   "source": [
    "t0 = time()\n",
    "wordCtr = Counter(allWords)\n",
    "t1 = time()\n",
    "Δt = t1 - t0\n",
    "print(f\"Δt: {Δt % 60.0:4.1f}s.\")"
   ]
  },
  {
   "cell_type": "markdown",
   "metadata": {},
   "source": [
    "##### Most common words, after removing stop words\n",
    "\n",
    "*Result looks very plausible*"
   ]
  },
  {
   "cell_type": "code",
   "execution_count": 24,
   "metadata": {
    "ExecuteTime": {
     "end_time": "2020-09-17T05:19:49.178981Z",
     "start_time": "2020-09-17T05:19:49.060579Z"
    }
   },
   "outputs": [
    {
     "data": {
      "text/plain": [
       "[('food', 416195),\n",
       " ('Observed', 199727),\n",
       " ('stored', 190927),\n",
       " ('Basic', 172943),\n",
       " ('shall', 164416),\n",
       " ('sink', 135404),\n",
       " ('clean', 134875),\n",
       " ('cooler', 127169),\n",
       " ('equipment', 116502),\n",
       " ('surfaces', 101198),\n",
       " ('ice', 98110),\n",
       " ('properly', 92639),\n",
       " ('floor', 89994),\n",
       " ('area', 89722),\n",
       " ('water', 89455),\n",
       " ('Food', 88648),\n",
       " ('contact', 87364),\n",
       " ('used', 85530),\n",
       " ('hand', 85441),\n",
       " ('temperature', 83565),\n",
       " ('**Warning**', 83220),\n",
       " ('prep', 82074),\n",
       " ('time', 77755),\n",
       " ('observed', 77699),\n",
       " ('storage', 72918),\n",
       " ('utensils', 66834),\n",
       " ('employee', 65779),\n",
       " ('On-Site**', 65728),\n",
       " ('**Corrected', 65545),\n",
       " ('machine', 65157),\n",
       " ('use', 64437),\n",
       " ('area.', 62940),\n",
       " ('Clean', 62534),\n",
       " ('cold', 62019),\n",
       " ('inspection', 61344),\n",
       " ('Correction:', 60798),\n",
       " ('holding', 60728),\n",
       " ('good', 60532),\n",
       " ('line', 60306),\n",
       " ('items', 58171)]"
      ]
     },
     "execution_count": 24,
     "metadata": {},
     "output_type": "execute_result"
    }
   ],
   "source": [
    "stopWords = text.ENGLISH_STOP_WORDS.union(['-'])\n",
    "\n",
    "wcStops = [k for k in wordCtr if k.lower() in stopWords]\n",
    "for k in wcStops:\n",
    "    del wordCtr[k]\n",
    "wordCtr.most_common(40)"
   ]
  },
  {
   "cell_type": "markdown",
   "metadata": {},
   "source": [
    "#### Clean up"
   ]
  },
  {
   "cell_type": "code",
   "execution_count": 25,
   "metadata": {
    "ExecuteTime": {
     "end_time": "2020-09-17T05:19:51.529055Z",
     "start_time": "2020-09-17T05:19:51.288090Z"
    }
   },
   "outputs": [],
   "source": [
    "del allWords\n",
    "del wordCtr"
   ]
  },
  {
   "cell_type": "markdown",
   "metadata": {},
   "source": [
    "#### `fda_q_fixed` vs. `FDAISCRITICAL`\n",
    "\n",
    "What is the relationship between the critical violation boolean and the FDA code?"
   ]
  },
  {
   "cell_type": "code",
   "execution_count": 26,
   "metadata": {
    "ExecuteTime": {
     "end_time": "2020-09-17T05:19:53.494183Z",
     "start_time": "2020-09-17T05:19:53.229018Z"
    }
   },
   "outputs": [
    {
     "data": {
      "text/html": [
       "<div>\n",
       "<style scoped>\n",
       "    .dataframe tbody tr th:only-of-type {\n",
       "        vertical-align: middle;\n",
       "    }\n",
       "\n",
       "    .dataframe tbody tr th {\n",
       "        vertical-align: top;\n",
       "    }\n",
       "\n",
       "    .dataframe thead th {\n",
       "        text-align: right;\n",
       "    }\n",
       "</style>\n",
       "<table border=\"1\" class=\"dataframe\">\n",
       "  <thead>\n",
       "    <tr style=\"text-align: right;\">\n",
       "      <th></th>\n",
       "      <th></th>\n",
       "    </tr>\n",
       "    <tr>\n",
       "      <th>fda_q_fixed</th>\n",
       "      <th>FDAISCRITICAL</th>\n",
       "    </tr>\n",
       "  </thead>\n",
       "  <tbody>\n",
       "    <tr>\n",
       "      <th rowspan=\"2\" valign=\"top\">1</th>\n",
       "      <th>0</th>\n",
       "    </tr>\n",
       "    <tr>\n",
       "      <th>1</th>\n",
       "    </tr>\n",
       "    <tr>\n",
       "      <th rowspan=\"2\" valign=\"top\">2</th>\n",
       "      <th>0</th>\n",
       "    </tr>\n",
       "    <tr>\n",
       "      <th>1</th>\n",
       "    </tr>\n",
       "    <tr>\n",
       "      <th rowspan=\"2\" valign=\"top\">3</th>\n",
       "      <th>0</th>\n",
       "    </tr>\n",
       "    <tr>\n",
       "      <th>1</th>\n",
       "    </tr>\n",
       "    <tr>\n",
       "      <th rowspan=\"2\" valign=\"top\">4</th>\n",
       "      <th>0</th>\n",
       "    </tr>\n",
       "    <tr>\n",
       "      <th>1</th>\n",
       "    </tr>\n",
       "    <tr>\n",
       "      <th rowspan=\"2\" valign=\"top\">5</th>\n",
       "      <th>0</th>\n",
       "    </tr>\n",
       "    <tr>\n",
       "      <th>1</th>\n",
       "    </tr>\n",
       "    <tr>\n",
       "      <th rowspan=\"2\" valign=\"top\">6</th>\n",
       "      <th>0</th>\n",
       "    </tr>\n",
       "    <tr>\n",
       "      <th>1</th>\n",
       "    </tr>\n",
       "    <tr>\n",
       "      <th>7</th>\n",
       "      <th>1</th>\n",
       "    </tr>\n",
       "    <tr>\n",
       "      <th rowspan=\"2\" valign=\"top\">8</th>\n",
       "      <th>0</th>\n",
       "    </tr>\n",
       "    <tr>\n",
       "      <th>1</th>\n",
       "    </tr>\n",
       "    <tr>\n",
       "      <th rowspan=\"2\" valign=\"top\">9</th>\n",
       "      <th>0</th>\n",
       "    </tr>\n",
       "    <tr>\n",
       "      <th>1</th>\n",
       "    </tr>\n",
       "    <tr>\n",
       "      <th rowspan=\"2\" valign=\"top\">10</th>\n",
       "      <th>0</th>\n",
       "    </tr>\n",
       "    <tr>\n",
       "      <th>1</th>\n",
       "    </tr>\n",
       "    <tr>\n",
       "      <th>11</th>\n",
       "      <th>0</th>\n",
       "    </tr>\n",
       "  </tbody>\n",
       "</table>\n",
       "</div>"
      ],
      "text/plain": [
       "Empty DataFrame\n",
       "Columns: []\n",
       "Index: [(1, 0), (1, 1), (2, 0), (2, 1), (3, 0), (3, 1), (4, 0), (4, 1), (5, 0), (5, 1), (6, 0), (6, 1), (7, 1), (8, 0), (8, 1), (9, 0), (9, 1), (10, 0), (10, 1), (11, 0)]"
      ]
     },
     "execution_count": 26,
     "metadata": {},
     "output_type": "execute_result"
    },
    {
     "data": {
      "text/html": [
       "<div>\n",
       "<style scoped>\n",
       "    .dataframe tbody tr th:only-of-type {\n",
       "        vertical-align: middle;\n",
       "    }\n",
       "\n",
       "    .dataframe tbody tr th {\n",
       "        vertical-align: top;\n",
       "    }\n",
       "\n",
       "    .dataframe thead th {\n",
       "        text-align: right;\n",
       "    }\n",
       "</style>\n",
       "<table border=\"1\" class=\"dataframe\">\n",
       "  <thead>\n",
       "    <tr style=\"text-align: right;\">\n",
       "      <th></th>\n",
       "      <th>fda_q_fixed</th>\n",
       "      <th>FDAISCRITICAL</th>\n",
       "    </tr>\n",
       "  </thead>\n",
       "  <tbody>\n",
       "    <tr>\n",
       "      <th>0</th>\n",
       "      <td>1</td>\n",
       "      <td>0</td>\n",
       "    </tr>\n",
       "    <tr>\n",
       "      <th>1</th>\n",
       "      <td>1</td>\n",
       "      <td>1</td>\n",
       "    </tr>\n",
       "    <tr>\n",
       "      <th>2</th>\n",
       "      <td>2</td>\n",
       "      <td>0</td>\n",
       "    </tr>\n",
       "    <tr>\n",
       "      <th>3</th>\n",
       "      <td>2</td>\n",
       "      <td>1</td>\n",
       "    </tr>\n",
       "    <tr>\n",
       "      <th>4</th>\n",
       "      <td>3</td>\n",
       "      <td>0</td>\n",
       "    </tr>\n",
       "    <tr>\n",
       "      <th>5</th>\n",
       "      <td>3</td>\n",
       "      <td>1</td>\n",
       "    </tr>\n",
       "    <tr>\n",
       "      <th>6</th>\n",
       "      <td>4</td>\n",
       "      <td>0</td>\n",
       "    </tr>\n",
       "    <tr>\n",
       "      <th>7</th>\n",
       "      <td>4</td>\n",
       "      <td>1</td>\n",
       "    </tr>\n",
       "    <tr>\n",
       "      <th>8</th>\n",
       "      <td>5</td>\n",
       "      <td>0</td>\n",
       "    </tr>\n",
       "    <tr>\n",
       "      <th>9</th>\n",
       "      <td>5</td>\n",
       "      <td>1</td>\n",
       "    </tr>\n",
       "    <tr>\n",
       "      <th>10</th>\n",
       "      <td>6</td>\n",
       "      <td>0</td>\n",
       "    </tr>\n",
       "    <tr>\n",
       "      <th>11</th>\n",
       "      <td>6</td>\n",
       "      <td>1</td>\n",
       "    </tr>\n",
       "    <tr>\n",
       "      <th>12</th>\n",
       "      <td>7</td>\n",
       "      <td>1</td>\n",
       "    </tr>\n",
       "    <tr>\n",
       "      <th>13</th>\n",
       "      <td>8</td>\n",
       "      <td>0</td>\n",
       "    </tr>\n",
       "    <tr>\n",
       "      <th>14</th>\n",
       "      <td>8</td>\n",
       "      <td>1</td>\n",
       "    </tr>\n",
       "    <tr>\n",
       "      <th>15</th>\n",
       "      <td>9</td>\n",
       "      <td>0</td>\n",
       "    </tr>\n",
       "    <tr>\n",
       "      <th>16</th>\n",
       "      <td>9</td>\n",
       "      <td>1</td>\n",
       "    </tr>\n",
       "    <tr>\n",
       "      <th>17</th>\n",
       "      <td>10</td>\n",
       "      <td>0</td>\n",
       "    </tr>\n",
       "    <tr>\n",
       "      <th>18</th>\n",
       "      <td>10</td>\n",
       "      <td>1</td>\n",
       "    </tr>\n",
       "    <tr>\n",
       "      <th>19</th>\n",
       "      <td>11</td>\n",
       "      <td>0</td>\n",
       "    </tr>\n",
       "  </tbody>\n",
       "</table>\n",
       "</div>"
      ],
      "text/plain": [
       "    fda_q_fixed  FDAISCRITICAL\n",
       "0             1              0\n",
       "1             1              1\n",
       "2             2              0\n",
       "3             2              1\n",
       "4             3              0\n",
       "5             3              1\n",
       "6             4              0\n",
       "7             4              1\n",
       "8             5              0\n",
       "9             5              1\n",
       "10            6              0\n",
       "11            6              1\n",
       "12            7              1\n",
       "13            8              0\n",
       "14            8              1\n",
       "15            9              0\n",
       "16            9              1\n",
       "17           10              0\n",
       "18           10              1\n",
       "19           11              0"
      ]
     },
     "execution_count": 26,
     "metadata": {},
     "output_type": "execute_result"
    }
   ],
   "source": [
    "dfCrit = df.groupby(['fda_q_fixed', 'FDAISCRITICAL']).count()\n",
    "del dfCrit['VIOCOMMENT']\n",
    "del dfCrit['wordFreq']\n",
    "dfCrit.head(20)\n",
    "\n",
    "dfCrit.reset_index(inplace=True)\n",
    "dfCrit.head(20)"
   ]
  },
  {
   "cell_type": "code",
   "execution_count": 27,
   "metadata": {
    "ExecuteTime": {
     "end_time": "2020-09-17T05:21:00.105281Z",
     "start_time": "2020-09-17T05:20:59.731004Z"
    },
    "scrolled": false
   },
   "outputs": [
    {
     "data": {
      "text/plain": [
       "<AxesSubplot:xlabel='fda_q_fixed', ylabel='FDAISCRITICAL'>"
      ]
     },
     "execution_count": 27,
     "metadata": {},
     "output_type": "execute_result"
    },
    {
     "data": {
      "text/plain": [
       "Text(0.5, 0.98, 'Critical violations vs FDA code')"
      ]
     },
     "execution_count": 27,
     "metadata": {},
     "output_type": "execute_result"
    },
    {
     "data": {
      "text/plain": [
       "(0.5, 56.5)"
      ]
     },
     "execution_count": 27,
     "metadata": {},
     "output_type": "execute_result"
    },
    {
     "data": {
      "image/png": "[encoded data removed]",
      "text/plain": [
       "<Figure size 864x288 with 1 Axes>"
      ]
     },
     "metadata": {
      "needs_background": "light"
     },
     "output_type": "display_data"
    }
   ],
   "source": [
    "plt.rcParams['xtick.top'] = True\n",
    "plt.rcParams['xtick.labeltop'] = True\n",
    "\n",
    "fig, ax = plt.subplots(1, 1, figsize=(12, 4))\n",
    "dfCrit.plot.scatter('fda_q_fixed', 'FDAISCRITICAL', s=4, c='black', ax=ax)\n",
    "for xv in np.linspace(0.5, 56.5, 57):\n",
    "    _ = plt.axvline(x=xv, c=\"#FFB0FF\", linewidth=1)\n",
    "plt.suptitle('Critical violations vs FDA code')\n",
    "ax.set_xlim([0.5, 56.5])\n",
    "plt.tight_layout(rect=[0, 0.03, 1, 0.97])\n",
    "plt.savefig('CriticalViolationVsFDAcode.svg')"
   ]
  },
  {
   "cell_type": "markdown",
   "metadata": {},
   "source": [
    "**The critical violations plot shows that `FDAISCRITICAL` should be predictive (and certainly should be included in the model):**\n",
    "\n",
    "* **<font color=\"darkgreen\">classes 30, 32, 34 &amp; 46 *never* have critical violations</font>**\n",
    "* **<font color=\"darkgreen\">classes 7, 26, 27 &amp; 29 *only* have critical violations</font>**"
   ]
  },
  {
   "cell_type": "markdown",
   "metadata": {},
   "source": [
    "## Model Parameters\n",
    "\n",
    "* testFrac\t\t\t\tfraction of data set withheld\n",
    "* maxVocabCt\t\t\tvocabulary size to be returned by Tokenizer, dropping least frequent\n",
    "* LSTMlayerUnits\t\t# units within each activation unit in LSTMs]\n",
    "* embeddingDim\t\t\tsize of dimension for generated embeddings\n",
    "* auxFeaturesCt\t\t\t# of features in auxiliary data\n",
    "* classCt\t\t\t\t# classes (softmax output dim)\n",
    "* dropoutFrac\t\t\tdropout fraction\n",
    "* LSTMdropoutFrac\t\tdropout fraction within LSTMs\n",
    "* batchSz\t\t\t\tsize of batches\n",
    "* epochCt\t\t\t\tnumber of epochs to run"
   ]
  },
  {
   "cell_type": "code",
   "execution_count": 28,
   "metadata": {
    "ExecuteTime": {
     "end_time": "2020-09-17T05:21:08.218940Z",
     "start_time": "2020-09-17T05:21:08.186542Z"
    }
   },
   "outputs": [],
   "source": [
    "testFrac = 0.4\n",
    "maxVocabCt = 80000\n",
    "maxCommentWords = 140\n",
    "LSTMlayerUnits = 64\n",
    "embeddingDim = 64\n",
    "auxFeaturesCt = 1\n",
    "classCt = 56\n",
    "dropoutFrac = 0.15\n",
    "LSTMdropoutFrac = 0.5\n",
    "batchSz = 64\n",
    "epochCt = 10"
   ]
  },
  {
   "cell_type": "markdown",
   "metadata": {},
   "source": [
    "## Pre-process data\n",
    "\n",
    "* Split data into train / test sets\n",
    "* Use [helper function `tokenize()`](#helper-tokenize), which invokes Keras Tokenizer, to tokenize sentences\n",
    "  * This will return a list of lists, with each of the latter containing an index for each word in a comment\n",
    "* Finally the input text, `XcommentsTr`, is created by padding / truncating each comment index list to a length of 140.\n",
    "\n",
    "### Split DataFrame by classes\n",
    "\n",
    "* create a `numpy.random.RandomState` instance to keep track of the random number initializer, in order to ensure consistent results throughout\n",
    "\n",
    "* Splitting is done on a per-class basis, so that random selection will not, by chance, yield huge imbalances in train-test splits of tiny classes\n",
    "\n",
    "`splitDataFrameByClasses()` will create two new DataFrames, dfTr, dfTe, according to the desired splits.\n",
    "\n",
    "<font color='darkgreen'><b>Note that if you just want to do stratified sampling on a numpy array of</b> `X` <b>values,</b> `splitDataFramByClasses()` <b>is not needed.</b> `train_test_split()` <b>accepts the keyword</b> `stratify=myTargetVariable`.</b></font>"
   ]
  },
  {
   "cell_type": "code",
   "execution_count": 29,
   "metadata": {
    "ExecuteTime": {
     "end_time": "2020-09-17T05:21:34.254998Z",
     "start_time": "2020-09-17T05:21:34.223177Z"
    }
   },
   "outputs": [],
   "source": [
    "randomState=0\n",
    "myRandomState = np.random.RandomState(randomState)"
   ]
  },
  {
   "cell_type": "code",
   "execution_count": 30,
   "metadata": {
    "ExecuteTime": {
     "end_time": "2020-09-17T05:22:15.034155Z",
     "start_time": "2020-09-17T05:22:13.109623Z"
    },
    "scrolled": false
   },
   "outputs": [
    {
     "name": "stdout",
     "output_type": "stream",
     "text": [
      "Consider whether sklearn's built-in method would work instead:\n",
      "\n",
      "    from sklearn.model_selection import     train_test_split\n",
      "                  .\n",
      "                  .\n",
      "                  .\n",
      "    Xtrain, Xtest, yTrain, yTest = \\\n",
      "        train_test_split(X, y, stratify=y)\n",
      "df.shape: (1307984, 4)\n",
      "dfTrain.shape: (784767, 4)\tdfTest.shape: (523217, 4)\n",
      "Δt:  1.88s.\n"
     ]
    },
    {
     "data": {
      "text/plain": [
       "((784767, 4), (523217, 4))"
      ]
     },
     "execution_count": 30,
     "metadata": {},
     "output_type": "execute_result"
    },
    {
     "data": {
      "text/html": [
       "<div>\n",
       "<style scoped>\n",
       "    .dataframe tbody tr th:only-of-type {\n",
       "        vertical-align: middle;\n",
       "    }\n",
       "\n",
       "    .dataframe tbody tr th {\n",
       "        vertical-align: top;\n",
       "    }\n",
       "\n",
       "    .dataframe thead th {\n",
       "        text-align: right;\n",
       "    }\n",
       "</style>\n",
       "<table border=\"1\" class=\"dataframe\">\n",
       "  <thead>\n",
       "    <tr style=\"text-align: right;\">\n",
       "      <th></th>\n",
       "      <th>fda_q_fixed</th>\n",
       "      <th>VIOCOMMENT</th>\n",
       "      <th>FDAISCRITICAL</th>\n",
       "      <th>wordFreq</th>\n",
       "    </tr>\n",
       "  </thead>\n",
       "  <tbody>\n",
       "    <tr>\n",
       "      <th>0</th>\n",
       "      <td>41</td>\n",
       "      <td>Wiping cloths; propelry used and stored</td>\n",
       "      <td>0</td>\n",
       "      <td>6</td>\n",
       "    </tr>\n",
       "    <tr>\n",
       "      <th>1</th>\n",
       "      <td>41</td>\n",
       "      <td>Wiping cloths observed lying on counters inste...</td>\n",
       "      <td>0</td>\n",
       "      <td>39</td>\n",
       "    </tr>\n",
       "    <tr>\n",
       "      <th>2</th>\n",
       "      <td>49</td>\n",
       "      <td>Food and nonfood contact surfaces properly des...</td>\n",
       "      <td>0</td>\n",
       "      <td>45</td>\n",
       "    </tr>\n",
       "    <tr>\n",
       "      <th>3</th>\n",
       "      <td>47</td>\n",
       "      <td>Remove plastic</td>\n",
       "      <td>0</td>\n",
       "      <td>2</td>\n",
       "    </tr>\n",
       "    <tr>\n",
       "      <th>4</th>\n",
       "      <td>10</td>\n",
       "      <td>Observed that paper towels were not provided a...</td>\n",
       "      <td>1</td>\n",
       "      <td>38</td>\n",
       "    </tr>\n",
       "  </tbody>\n",
       "</table>\n",
       "</div>"
      ],
      "text/plain": [
       "   fda_q_fixed                                         VIOCOMMENT  \\\n",
       "0           41            Wiping cloths; propelry used and stored   \n",
       "1           41  Wiping cloths observed lying on counters inste...   \n",
       "2           49  Food and nonfood contact surfaces properly des...   \n",
       "3           47                                     Remove plastic   \n",
       "4           10  Observed that paper towels were not provided a...   \n",
       "\n",
       "   FDAISCRITICAL  wordFreq  \n",
       "0              0         6  \n",
       "1              0        39  \n",
       "2              0        45  \n",
       "3              0         2  \n",
       "4              1        38  "
      ]
     },
     "execution_count": 30,
     "metadata": {},
     "output_type": "execute_result"
    },
    {
     "data": {
      "text/html": [
       "<div>\n",
       "<style scoped>\n",
       "    .dataframe tbody tr th:only-of-type {\n",
       "        vertical-align: middle;\n",
       "    }\n",
       "\n",
       "    .dataframe tbody tr th {\n",
       "        vertical-align: top;\n",
       "    }\n",
       "\n",
       "    .dataframe thead th {\n",
       "        text-align: right;\n",
       "    }\n",
       "</style>\n",
       "<table border=\"1\" class=\"dataframe\">\n",
       "  <thead>\n",
       "    <tr style=\"text-align: right;\">\n",
       "      <th></th>\n",
       "      <th>fda_q_fixed</th>\n",
       "      <th>VIOCOMMENT</th>\n",
       "      <th>FDAISCRITICAL</th>\n",
       "      <th>wordFreq</th>\n",
       "    </tr>\n",
       "  </thead>\n",
       "  <tbody>\n",
       "    <tr>\n",
       "      <th>0</th>\n",
       "      <td>41</td>\n",
       "      <td>CONTAMINATION FROM WIPING CLOTHS - Clean, prop...</td>\n",
       "      <td>0</td>\n",
       "      <td>48</td>\n",
       "    </tr>\n",
       "    <tr>\n",
       "      <th>1</th>\n",
       "      <td>3</td>\n",
       "      <td>Facility had no employee health agreements on ...</td>\n",
       "      <td>1</td>\n",
       "      <td>43</td>\n",
       "    </tr>\n",
       "    <tr>\n",
       "      <th>2</th>\n",
       "      <td>21</td>\n",
       "      <td>French onion soup at table-top hot holding uni...</td>\n",
       "      <td>1</td>\n",
       "      <td>22</td>\n",
       "    </tr>\n",
       "    <tr>\n",
       "      <th>3</th>\n",
       "      <td>47</td>\n",
       "      <td>The caulking at the front cook line ventilatio...</td>\n",
       "      <td>0</td>\n",
       "      <td>12</td>\n",
       "    </tr>\n",
       "    <tr>\n",
       "      <th>4</th>\n",
       "      <td>15</td>\n",
       "      <td>2-301.11 Keep hands and arms clean. -P Observe...</td>\n",
       "      <td>1</td>\n",
       "      <td>51</td>\n",
       "    </tr>\n",
       "  </tbody>\n",
       "</table>\n",
       "</div>"
      ],
      "text/plain": [
       "   fda_q_fixed                                         VIOCOMMENT  \\\n",
       "0           41  CONTAMINATION FROM WIPING CLOTHS - Clean, prop...   \n",
       "1            3  Facility had no employee health agreements on ...   \n",
       "2           21  French onion soup at table-top hot holding uni...   \n",
       "3           47  The caulking at the front cook line ventilatio...   \n",
       "4           15  2-301.11 Keep hands and arms clean. -P Observe...   \n",
       "\n",
       "   FDAISCRITICAL  wordFreq  \n",
       "0              0        48  \n",
       "1              1        43  \n",
       "2              1        22  \n",
       "3              0        12  \n",
       "4              1        51  "
      ]
     },
     "execution_count": 30,
     "metadata": {},
     "output_type": "execute_result"
    }
   ],
   "source": [
    "classColumn = 'fda_q_fixed'\n",
    "dfTr, dfTe = util.splitDataFrameByClasses(df, classColumn,\n",
    "                                          testFrac=testFrac,\n",
    "                                          myRandomState=myRandomState)\n",
    "dfTr.shape, dfTe.shape\n",
    "dfTr.head()\n",
    "dfTe.head()"
   ]
  },
  {
   "cell_type": "markdown",
   "metadata": {},
   "source": [
    "**As intended, `splitBalancedDataFrameClasses()` created new test and train DataFrames, each with ~ 1307984/2 = 653992 rows.**\n",
    "\n",
    "*The test DataFrame is not an exactly split of the original, since the splitting is done by class and unioned. For a 50% split, sci-kit learn's* `train_test_split()` gives the extra instance in each odd-sized class to the test set.*"
   ]
  },
  {
   "cell_type": "markdown",
   "metadata": {},
   "source": [
    "### Create list of lists of word indices, and TensorFlow sentence tokenizer object\n",
    "\n",
    "Use comment strings from `dfTrain` to create vocabulary indices.\n",
    "\n",
    "See [helper function `tokenize()`](#helper-tokenize)"
   ]
  },
  {
   "cell_type": "code",
   "execution_count": 31,
   "metadata": {
    "ExecuteTime": {
     "end_time": "2020-09-17T05:23:14.099325Z",
     "start_time": "2020-09-17T05:22:42.292065Z"
    }
   },
   "outputs": [],
   "source": [
    "ListOfCommentsTr = list(dfTr.VIOCOMMENT)\n",
    "\n",
    "listOfListsOfWordIndicesTr, sentenceTokenizer = tokenize(ListOfCommentsTr, maxVocabCt)"
   ]
  },
  {
   "cell_type": "markdown",
   "metadata": {},
   "source": [
    "### Pre-pad short comment lists, truncate the ends of long comments"
   ]
  },
  {
   "cell_type": "code",
   "execution_count": 32,
   "metadata": {
    "ExecuteTime": {
     "end_time": "2020-09-17T05:23:17.505297Z",
     "start_time": "2020-09-17T05:23:14.100971Z"
    }
   },
   "outputs": [],
   "source": [
    "# padValue = max(max(listOfListsOfWordIndices)) + 1\n",
    "padValue = 0\n",
    "XcommentsTr = pad_sequences(listOfListsOfWordIndicesTr,\n",
    "                            maxlen=maxCommentWords,\n",
    "                            dtype='int32', padding='pre',\n",
    "                            truncating='post', value=padValue)"
   ]
  },
  {
   "cell_type": "code",
   "execution_count": 33,
   "metadata": {
    "ExecuteTime": {
     "end_time": "2020-09-17T05:27:43.269176Z",
     "start_time": "2020-09-17T05:27:43.235552Z"
    },
    "scrolled": true
   },
   "outputs": [
    {
     "data": {
      "text/plain": [
       "'Wiping cloths; propelry used and stored'"
      ]
     },
     "execution_count": 33,
     "metadata": {},
     "output_type": "execute_result"
    },
    {
     "data": {
      "text/plain": [
       "[111, 166, 1636, 56, 3, 21]"
      ]
     },
     "execution_count": 33,
     "metadata": {},
     "output_type": "execute_result"
    },
    {
     "data": {
      "text/plain": [
       "array([   0,    0,    0,    0,    0,    0,    0,    0,    0,    0,    0,\n",
       "          0,    0,    0,    0,    0,    0,    0,    0,    0,    0,    0,\n",
       "          0,    0,    0,    0,    0,    0,    0,    0,    0,    0,    0,\n",
       "          0,    0,    0,    0,    0,    0,    0,    0,    0,    0,    0,\n",
       "          0,    0,    0,    0,    0,    0,    0,    0,    0,    0,    0,\n",
       "          0,    0,    0,    0,    0,    0,    0,    0,    0,    0,    0,\n",
       "          0,    0,    0,    0,    0,    0,    0,    0,    0,    0,    0,\n",
       "          0,    0,    0,    0,    0,    0,    0,    0,    0,    0,    0,\n",
       "          0,    0,    0,    0,    0,    0,    0,    0,    0,    0,    0,\n",
       "          0,    0,    0,    0,    0,    0,    0,    0,    0,    0,    0,\n",
       "          0,    0,    0,    0,    0,    0,    0,    0,    0,    0,    0,\n",
       "          0,    0,    0,    0,    0,    0,    0,    0,    0,    0,    0,\n",
       "          0,    0,  111,  166, 1636,   56,    3,   21], dtype=int32)"
      ]
     },
     "execution_count": 33,
     "metadata": {},
     "output_type": "execute_result"
    }
   ],
   "source": [
    "ListOfCommentsTr[0]\n",
    "listOfListsOfWordIndicesTr[0]\n",
    "XcommentsTr[0]"
   ]
  },
  {
   "cell_type": "markdown",
   "metadata": {},
   "source": [
    "### Auxiliary (side) data need to be shaped\n",
    "\n",
    "* creates a row vector"
   ]
  },
  {
   "cell_type": "code",
   "execution_count": 34,
   "metadata": {
    "ExecuteTime": {
     "end_time": "2020-09-17T05:27:56.489571Z",
     "start_time": "2020-09-17T05:27:56.456101Z"
    }
   },
   "outputs": [
    {
     "data": {
      "text/plain": [
       "(784767, 1)"
      ]
     },
     "execution_count": 34,
     "metadata": {},
     "output_type": "execute_result"
    }
   ],
   "source": [
    "XauxTr = dfTr.FDAISCRITICAL.values.reshape(dfTr.shape[0], 1)\n",
    "XauxTr.shape"
   ]
  },
  {
   "cell_type": "markdown",
   "metadata": {},
   "source": [
    "### Train target data"
   ]
  },
  {
   "cell_type": "code",
   "execution_count": 35,
   "metadata": {
    "ExecuteTime": {
     "end_time": "2020-09-17T05:28:32.328310Z",
     "start_time": "2020-09-17T05:28:32.251981Z"
    }
   },
   "outputs": [
    {
     "name": "stdout",
     "output_type": "stream",
     "text": [
      "{0, 1, 2, 3, 4, 5, 6, 7, 8, 9, 10, 11, 12, 13, 14, 15, 16, 17, 18, 19, 20, 21, 22, 23, 24, 25, 26, 27, 28, 29, 30, 31, 32, 33, 34, 35, 36, 37, 38, 39, 40, 41, 42, 43, 44, 45, 46, 47, 48, 49, 50, 51, 52, 53, 54, 55}\n"
     ]
    }
   ],
   "source": [
    "FDAcodesTr = dfTr.fda_q_fixed - 1\n",
    "print(set(FDAcodesTr))"
   ]
  },
  {
   "cell_type": "markdown",
   "metadata": {},
   "source": [
    "### Tensor of word indices for test"
   ]
  },
  {
   "cell_type": "code",
   "execution_count": 36,
   "metadata": {
    "ExecuteTime": {
     "end_time": "2020-09-17T05:29:07.110523Z",
     "start_time": "2020-09-17T05:28:54.559912Z"
    }
   },
   "outputs": [],
   "source": [
    "ListOfCommentsTe = list(dfTe.VIOCOMMENT)\n",
    "listOfListsOfWordIndicesTe = sentenceTokenizer.texts_to_sequences(ListOfCommentsTe)\n",
    "XcommentsTe = pad_sequences(listOfListsOfWordIndicesTe,\n",
    "                            maxlen=maxCommentWords,\n",
    "                            dtype='int32', padding='pre',\n",
    "                            truncating='post', value=padValue)"
   ]
  },
  {
   "cell_type": "markdown",
   "metadata": {},
   "source": [
    "### Auxiliary test data"
   ]
  },
  {
   "cell_type": "code",
   "execution_count": 37,
   "metadata": {
    "ExecuteTime": {
     "end_time": "2020-09-17T05:29:11.029390Z",
     "start_time": "2020-09-17T05:29:10.995940Z"
    }
   },
   "outputs": [
    {
     "data": {
      "text/plain": [
       "(523217, 1)"
      ]
     },
     "execution_count": 37,
     "metadata": {},
     "output_type": "execute_result"
    }
   ],
   "source": [
    "XauxTe = dfTe.FDAISCRITICAL.values.reshape(dfTe.shape[0], 1)\n",
    "XauxTe.shape"
   ]
  },
  {
   "cell_type": "markdown",
   "metadata": {},
   "source": [
    "### Test target data"
   ]
  },
  {
   "cell_type": "code",
   "execution_count": 38,
   "metadata": {
    "ExecuteTime": {
     "end_time": "2020-09-17T05:29:16.286698Z",
     "start_time": "2020-09-17T05:29:16.226367Z"
    }
   },
   "outputs": [
    {
     "name": "stdout",
     "output_type": "stream",
     "text": [
      "{0, 1, 2, 3, 4, 5, 6, 7, 8, 9, 10, 11, 12, 13, 14, 15, 16, 17, 18, 19, 20, 21, 22, 23, 24, 25, 26, 27, 28, 29, 30, 31, 32, 33, 34, 35, 36, 37, 38, 39, 40, 41, 42, 43, 44, 45, 46, 47, 48, 49, 50, 51, 52, 53, 54, 55}\n"
     ]
    }
   ],
   "source": [
    "FDAcodesTe = dfTe.fda_q_fixed - 1\n",
    "print(set(FDAcodesTe))"
   ]
  },
  {
   "cell_type": "markdown",
   "metadata": {},
   "source": [
    "## Model time\n",
    "\n",
    "### Define the model\n",
    "\n",
    "This follows, to some degree, [Keras Multi-Input and multi-output models](https://keras.io/getting-started/functional-api-guide/#multi-input-and-multi-output-models)\n",
    "\n",
    "* In this case, we only have a single output\n",
    "* Here, Bidirectional LSTMs are used"
   ]
  },
  {
   "cell_type": "code",
   "execution_count": 39,
   "metadata": {
    "ExecuteTime": {
     "end_time": "2020-09-17T05:32:47.616805Z",
     "start_time": "2020-09-17T05:32:47.580825Z"
    }
   },
   "outputs": [],
   "source": [
    "def buildModel(sequence_length, vocabSz, auxFeatureCount, LSTMinternalLayerSz,\n",
    "               embedLayerDim, densLayerDim=64, softMaxCt=16, dropoutFrac=0.15,\n",
    "               LSTMdropoutFrac=0.40):\n",
    "\n",
    "    \"\"\"\n",
    "    INPUTS:\n",
    "    sequence_length\t\t\tint, number of LSTM units\n",
    "    vocabSz\t\t\t\t\tint, size of vocabulary\n",
    "    auxFeatureCount\t\t\tint, count of auxiliary (side) features\n",
    "    LSTMinternalLayerSz\t\tint, size of layers within LSTM units\n",
    "    embedLayerDim\t\t\tint, dimension of embedding layer\n",
    "    densLayerDim\t\t\tint, dimension of dense layers, default: 64\n",
    "    softMaxCt\t\t\t\tint, dimension of softmax output, default: 16\n",
    "    dropoutFrac\t\t\t\tint, dropout rate, default: 0.15\n",
    "    LSTMdropoutFrac\t\t\tint, dropout rate for LSTMs, default: 0.40\n",
    "    \"\"\"\n",
    "\n",
    "    # Headline input: meant to receive sequences of *sequence_length* integers, between 1 and *vocabSz*.\n",
    "    # Note that we can name any layer by passing it a \"name\" argument.\n",
    "    main_input = Input(shape=(sequence_length,), dtype='int32', name='main_input')\n",
    "\n",
    "    # This embedding layer will encode the input sequence\n",
    "    # into a sequence of dense 64-dimensional vectors.\n",
    "    x = Embedding(output_dim=embedLayerDim, input_dim=vocabSz,\n",
    "                  input_length=sequence_length, trainable=True, name=\"embed_layer\")(main_input)\n",
    "\n",
    "    # A LSTM will transform the vector sequence into a single vector,\n",
    "    # containing information about the entire sequence\n",
    "    lstm_out_1 = Bidirectional(LSTM(LSTMinternalLayerSz,\n",
    "                                    dropout=dropoutFrac,\n",
    "                                    recurrent_dropout=LSTMdropoutFrac,\n",
    "                                    return_sequences=True))(x)\n",
    "    lstm_out = LSTM(LSTMinternalLayerSz,\n",
    "                    dropout=dropoutFrac,\n",
    "                    recurrent_dropout=LSTMdropoutFrac)(lstm_out_1)\n",
    "\n",
    "    auxiliary_input = Input(shape=(auxFeatureCount,), name='numerical_input')\n",
    "    x = concatenate([lstm_out, auxiliary_input])\n",
    "\n",
    "    # We stack a deep densely-connected network on top\n",
    "    x = Dense(densLayerDim, activation='relu')(x)\n",
    "    x = Dense(densLayerDim, activation='relu')(x)\n",
    "\n",
    "    # And finally we add the main logistic regression layer\n",
    "    main_output = Dense(56, activation='softmax', name='main_output')(x)\n",
    "    model = Model(inputs=[main_input, auxiliary_input], outputs=main_output)\n",
    "    \n",
    "    return model"
   ]
  },
  {
   "cell_type": "markdown",
   "metadata": {},
   "source": [
    "### Instantiate the model"
   ]
  },
  {
   "cell_type": "code",
   "execution_count": 40,
   "metadata": {
    "ExecuteTime": {
     "end_time": "2020-09-17T05:32:49.827248Z",
     "start_time": "2020-09-17T05:32:49.013639Z"
    }
   },
   "outputs": [
    {
     "name": "stdout",
     "output_type": "stream",
     "text": [
      "Model: \"model\"\n",
      "__________________________________________________________________________________________________\n",
      "Layer (type)                    Output Shape         Param #     Connected to                     \n",
      "==================================================================================================\n",
      "main_input (InputLayer)         [(None, 140)]        0                                            \n",
      "__________________________________________________________________________________________________\n",
      "embed_layer (Embedding)         (None, 140, 64)      5120000     main_input[0][0]                 \n",
      "__________________________________________________________________________________________________\n",
      "bidirectional (Bidirectional)   (None, 140, 128)     66048       embed_layer[0][0]                \n",
      "__________________________________________________________________________________________________\n",
      "lstm_1 (LSTM)                   (None, 64)           49408       bidirectional[0][0]              \n",
      "__________________________________________________________________________________________________\n",
      "numerical_input (InputLayer)    [(None, 1)]          0                                            \n",
      "__________________________________________________________________________________________________\n",
      "concatenate (Concatenate)       (None, 65)           0           lstm_1[0][0]                     \n",
      "                                                                 numerical_input[0][0]            \n",
      "__________________________________________________________________________________________________\n",
      "dense (Dense)                   (None, 64)           4224        concatenate[0][0]                \n",
      "__________________________________________________________________________________________________\n",
      "dense_1 (Dense)                 (None, 64)           4160        dense[0][0]                      \n",
      "__________________________________________________________________________________________________\n",
      "main_output (Dense)             (None, 56)           3640        dense_1[0][0]                    \n",
      "==================================================================================================\n",
      "Total params: 5,247,480\n",
      "Trainable params: 5,247,480\n",
      "Non-trainable params: 0\n",
      "__________________________________________________________________________________________________\n"
     ]
    }
   ],
   "source": [
    "np.random.seed(0)  # Set a random seed for reproducibility\n",
    "modelLSTM = buildModel(maxCommentWords, maxVocabCt, auxFeaturesCt,\n",
    "                       LSTMlayerUnits, embeddingDim, softMaxCt=classCt)\n",
    "modelLSTM.summary()"
   ]
  },
  {
   "cell_type": "markdown",
   "metadata": {},
   "source": [
    "### Compute weights for each class"
   ]
  },
  {
   "cell_type": "code",
   "execution_count": 41,
   "metadata": {
    "ExecuteTime": {
     "end_time": "2020-09-17T05:32:53.040895Z",
     "start_time": "2020-09-17T05:32:53.005505Z"
    }
   },
   "outputs": [
    {
     "data": {
      "text/plain": [
       "array([40, 48, 46,  9, 54, 37, 21, 15, 52, 38, 50, 14, 49, 51,  5, 20, 43,\n",
       "       55, 27, 36,  1, 53, 22, 47, 35, 17, 23, 32, 44, 42, 30, 19,  4, 25,\n",
       "       39,  8, 16, 28, 12,  7,  2, 34, 18,  3,  0, 10, 41, 24, 33, 45, 13,\n",
       "       31,  6, 11, 26, 29])"
      ]
     },
     "execution_count": 41,
     "metadata": {},
     "output_type": "execute_result"
    }
   ],
   "source": [
    "dfTr.fda_q_fixed.unique() - 1"
   ]
  },
  {
   "cell_type": "code",
   "execution_count": 42,
   "metadata": {
    "ExecuteTime": {
     "end_time": "2020-09-17T05:33:01.832293Z",
     "start_time": "2020-09-17T05:33:01.711023Z"
    }
   },
   "outputs": [
    {
     "name": "stdout",
     "output_type": "stream",
     "text": [
      "classWeights:\n",
      " [5.52939411e-01 1.90956115e-01 1.91449171e-01 3.37094593e-01\n",
      " 1.36424844e-01 6.29009221e-01 4.08253115e-01 2.25976335e-01\n",
      " 1.73953531e+00 5.06147160e-01 4.15368321e-01 1.28648641e+00\n",
      " 3.32787852e+00 6.25053364e+00 1.46464219e+00 1.23752176e+00\n",
      " 5.15228370e-01 4.55982053e-01 9.56239947e-01 1.75698300e+00\n",
      " 1.84926055e+00 7.78149616e-01 1.84269513e+00 8.46186609e-01\n",
      " 1.09396537e+00 1.25683376e+01 1.53490651e+00 2.03214855e+00\n",
      " 1.02237517e+00 8.76842475e-01 4.75040557e+01 4.06429711e+00\n",
      " 1.45824104e+01 3.78748552e+02 9.72565510e-01 5.54558624e+00\n",
      " 6.73735405e+01 1.22283564e+01 4.25043871e+00 1.13462039e+00\n",
      " 8.42169257e+00 6.65101871e+00 1.73008598e+01 2.64909195e+01\n",
      " 2.97783605e+00 1.50684908e+01 2.75318201e+01 1.31955710e+01\n",
      " 8.75856027e+02 5.04089800e+01 2.50692244e+01 1.08633306e+02\n",
      " 1.41552489e+02 1.03805159e+02 7.37562970e+02 7.00684821e+02]\n"
     ]
    }
   ],
   "source": [
    "classWeights = class_weight.compute_class_weight('balanced',\n",
    "                                                 dfTr.fda_q_fixed.unique() - 1,\n",
    "                                                 dfTr.fda_q_fixed - 1)\n",
    "print(\"classWeights:\\n\", classWeights)"
   ]
  },
  {
   "cell_type": "markdown",
   "metadata": {},
   "source": [
    "### Define callbacks for model checkpoints and TensorBoard"
   ]
  },
  {
   "cell_type": "code",
   "execution_count": 43,
   "metadata": {
    "ExecuteTime": {
     "end_time": "2020-09-17T05:33:49.463122Z",
     "start_time": "2020-09-17T05:33:49.429692Z"
    }
   },
   "outputs": [],
   "source": [
    "modelInstanceDir = (f\"vocabCt{maxVocabCt:06d}maxCommentLen{maxCommentWords:03d}\"\n",
    "                    + f\"auxFeaturesCt{auxFeaturesCt:02d}classCt{classCt:02d}\"\n",
    "                    + f\"embedDim{embeddingDim:03d}\"\n",
    "                    + f\"LSTMlayerSz{LSTMlayerUnits:03d}batchSz{batchSz:03d}\"\n",
    "                    + f\"dropoutFrac{dropoutFrac:4.2f}\"\n",
    "                    + f\"LSTMdropoutFrac{dropoutFrac:4.2f}\")\n",
    "\n",
    "checkpointDir = './checkpoints'\n",
    "\n",
    "checkpointPrefix = os.path.join(checkpointDir, modelInstanceDir,\n",
    "                                \"ckpt{epoch:03d}\")\n",
    "checkpointCallback=ModelCheckpoint(filepath=checkpointPrefix,\n",
    "                                   save_weights_only=True)\n",
    "\n",
    "tensorBoardLogDir = './tensorBoardLogs'\n",
    "os.makedirs(tensorBoardLogDir, exist_ok=True)                       \n",
    "\n",
    "logsDir = os.path.join(tensorBoardLogDir, modelInstanceDir)\n",
    "\n",
    "os.makedirs(logsDir, exist_ok=True)\n",
    "tensorboardCallback = TensorBoard(log_dir=logsDir, histogram_freq=1)"
   ]
  },
  {
   "cell_type": "markdown",
   "metadata": {},
   "source": [
    "#### Where to stuff plots"
   ]
  },
  {
   "cell_type": "code",
   "execution_count": 44,
   "metadata": {
    "ExecuteTime": {
     "end_time": "2020-09-17T05:33:51.604830Z",
     "start_time": "2020-09-17T05:33:51.573060Z"
    },
    "scrolled": true
   },
   "outputs": [
    {
     "name": "stdout",
     "output_type": "stream",
     "text": [
      "./tensorBoardLogs/vocabCt080000maxCommentLen140auxFeaturesCt01classCt56embedDim064LSTMlayerSz064batchSz064dropoutFrac0.15LSTMdropoutFrac0.15\n"
     ]
    }
   ],
   "source": [
    "plotDir = logsDir\n",
    "print(plotDir)"
   ]
  },
  {
   "cell_type": "markdown",
   "metadata": {},
   "source": [
    "#### Create model graph plot"
   ]
  },
  {
   "cell_type": "code",
   "execution_count": 45,
   "metadata": {
    "ExecuteTime": {
     "end_time": "2020-09-17T05:33:55.315762Z",
     "start_time": "2020-09-17T05:33:55.061976Z"
    }
   },
   "outputs": [
    {
     "data": {
      "image/png": "[encoded data removed]",
      "text/plain": [
       "<IPython.core.display.Image object>"
      ]
     },
     "execution_count": 45,
     "metadata": {},
     "output_type": "execute_result"
    }
   ],
   "source": [
    "plot_model(modelLSTM, to_file=os.path.join(plotDir, 'modelGraph.png'))"
   ]
  },
  {
   "cell_type": "markdown",
   "metadata": {},
   "source": [
    "### Compile the model"
   ]
  },
  {
   "cell_type": "code",
   "execution_count": 47,
   "metadata": {
    "ExecuteTime": {
     "end_time": "2020-09-17T05:34:47.656293Z",
     "start_time": "2020-09-17T05:34:47.585949Z"
    }
   },
   "outputs": [],
   "source": [
    "modelLSTM.compile(optimizer='rmsprop',\n",
    "                  loss='sparse_categorical_crossentropy',\n",
    "                  metrics = ['accuracy', 'categorical_crossentropy'])"
   ]
  },
  {
   "cell_type": "markdown",
   "metadata": {},
   "source": [
    "### Run the model"
   ]
  },
  {
   "cell_type": "code",
   "execution_count": 48,
   "metadata": {
    "ExecuteTime": {
     "end_time": "2020-09-17T19:00:05.039787Z",
     "start_time": "2020-09-17T05:34:49.463990Z"
    },
    "code_folding": []
   },
   "outputs": [
    {
     "name": "stdout",
     "output_type": "stream",
     "text": [
      "Train on 627813 samples, validate on 156954 samples\n",
      "Epoch 1/10\n",
      "627813/627813 [==============================] - 4871s 8ms/sample - loss: 0.9144 - accuracy: 0.7543 - categorical_crossentropy: 30645.9434 - val_loss: 0.6714 - val_accuracy: 0.8234 - val_categorical_crossentropy: 34656.4102\n",
      "Epoch 2/10\n",
      "627813/627813 [==============================] - 4835s 8ms/sample - loss: 0.6649 - accuracy: 0.8265 - categorical_crossentropy: 35773.9531 - val_loss: 0.6353 - val_accuracy: 0.8314 - val_categorical_crossentropy: 40730.8945\n",
      "Epoch 3/10\n",
      "627813/627813 [==============================] - 4826s 8ms/sample - loss: 0.6554 - accuracy: 0.8302 - categorical_crossentropy: 38358.8008 - val_loss: 0.6240 - val_accuracy: 0.8352 - val_categorical_crossentropy: 36479.6250\n",
      "Epoch 4/10\n",
      "627813/627813 [==============================] - 4826s 8ms/sample - loss: 0.6546 - accuracy: 0.8320 - categorical_crossentropy: 40501.5312 - val_loss: 0.6214 - val_accuracy: 0.8345 - val_categorical_crossentropy: 39873.3945\n",
      "Epoch 5/10\n",
      "627813/627813 [==============================] - 4826s 8ms/sample - loss: 0.6531 - accuracy: 0.8334 - categorical_crossentropy: 42246.1875 - val_loss: 0.6180 - val_accuracy: 0.8384 - val_categorical_crossentropy: 40611.6367\n",
      "Epoch 6/10\n",
      "627813/627813 [==============================] - 4828s 8ms/sample - loss: 0.6554 - accuracy: 0.8340 - categorical_crossentropy: 43585.5703 - val_loss: 0.6256 - val_accuracy: 0.8367 - val_categorical_crossentropy: 46814.0117\n",
      "Epoch 7/10\n",
      "627813/627813 [==============================] - 4828s 8ms/sample - loss: 0.6591 - accuracy: 0.8341 - categorical_crossentropy: 46298.2539 - val_loss: 0.6209 - val_accuracy: 0.8388 - val_categorical_crossentropy: 46469.6797\n",
      "Epoch 8/10\n",
      "627813/627813 [==============================] - 4826s 8ms/sample - loss: 0.6624 - accuracy: 0.8349 - categorical_crossentropy: 47618.8320 - val_loss: 0.6349 - val_accuracy: 0.8368 - val_categorical_crossentropy: 43600.2070\n",
      "Epoch 9/10\n",
      "627813/627813 [==============================] - 4826s 8ms/sample - loss: 0.6670 - accuracy: 0.8350 - categorical_crossentropy: 50291.3047 - val_loss: 0.6222 - val_accuracy: 0.8363 - val_categorical_crossentropy: 45570.2031\n",
      "Epoch 10/10\n",
      "627813/627813 [==============================] - 4824s 8ms/sample - loss: 0.6826 - accuracy: 0.8346 - categorical_crossentropy: 53736.9141 - val_loss: 0.6209 - val_accuracy: 0.8406 - val_categorical_crossentropy: 50008.3711\n"
     ]
    }
   ],
   "source": [
    "history = modelLSTM.fit(x=[XcommentsTr, XauxTr],\n",
    "                        y= FDAcodesTr,\n",
    "                        epochs=epochCt, batch_size=batchSz,\n",
    "                        shuffle=True,\n",
    "                        class_weight=classWeights,\n",
    "                        validation_split=0.2,\n",
    "                        callbacks=[checkpointCallback, tensorboardCallback], verbose=1)"
   ]
  },
  {
   "cell_type": "code",
   "execution_count": null,
   "metadata": {
    "ExecuteTime": {
     "end_time": "2020-04-08T21:14:28.762526Z",
     "start_time": "2020-04-08T21:14:28.733192Z"
    },
    "code_folding": [],
    "scrolled": false
   },
   "outputs": [],
   "source": [
    "# history = modelLSTM.fit({'main_input': paddedSequences, 'numerical_input': bools},\n",
    "#                         {'main_output': FDAcodes}, epochs=5, batch_size=batchSz)"
   ]
  },
  {
   "cell_type": "code",
   "execution_count": null,
   "metadata": {
    "ExecuteTime": {
     "end_time": "2020-04-08T21:14:28.844522Z",
     "start_time": "2020-04-08T21:14:28.764290Z"
    }
   },
   "outputs": [],
   "source": [
    "modelLSTM.save(logsDir + '/save.h5', save_format='tf')"
   ]
  },
  {
   "cell_type": "markdown",
   "metadata": {},
   "source": [
    "### Do inference on test"
   ]
  },
  {
   "cell_type": "code",
   "execution_count": null,
   "metadata": {
    "ExecuteTime": {
     "end_time": "2020-04-08T21:29:52.979453Z",
     "start_time": "2020-04-08T21:14:28.846137Z"
    }
   },
   "outputs": [],
   "source": [
    "softmaxOut = modelLSTM.predict(x=[XcommentsTe, XauxTe])"
   ]
  },
  {
   "cell_type": "code",
   "execution_count": null,
   "metadata": {
    "ExecuteTime": {
     "end_time": "2020-04-08T21:29:53.052348Z",
     "start_time": "2020-04-08T21:29:52.981023Z"
    }
   },
   "outputs": [],
   "source": [
    "yPred = np.argmax(softmaxOut, axis=1) + 1"
   ]
  },
  {
   "cell_type": "code",
   "execution_count": null,
   "metadata": {
    "ExecuteTime": {
     "end_time": "2020-04-08T21:29:53.084091Z",
     "start_time": "2020-04-08T21:29:53.053556Z"
    }
   },
   "outputs": [],
   "source": [
    "dfTe.head(3)\n",
    "dfTe.shape"
   ]
  },
  {
   "cell_type": "markdown",
   "metadata": {},
   "source": [
    "#### Overall accuracy, precision, recall"
   ]
  },
  {
   "cell_type": "code",
   "execution_count": null,
   "metadata": {
    "ExecuteTime": {
     "end_time": "2020-04-08T21:29:53.460828Z",
     "start_time": "2020-04-08T21:29:53.085220Z"
    }
   },
   "outputs": [],
   "source": [
    "yTe = dfTe.fda_q_fixed\n",
    "confusionMat = confusion_matrix(yTe, yPred)\n",
    "print(confusionMat)"
   ]
  },
  {
   "cell_type": "code",
   "execution_count": null,
   "metadata": {
    "ExecuteTime": {
     "end_time": "2020-04-08T21:29:53.491092Z",
     "start_time": "2020-04-08T21:29:53.461993Z"
    }
   },
   "outputs": [],
   "source": [
    "np.where(np.sum(confusionMat, axis=0) == 0)"
   ]
  },
  {
   "cell_type": "code",
   "execution_count": null,
   "metadata": {
    "ExecuteTime": {
     "end_time": "2020-04-08T21:29:53.522391Z",
     "start_time": "2020-04-08T21:29:53.492327Z"
    }
   },
   "outputs": [],
   "source": [
    "accuracy = np.trace(confusionMat)/np.sum(confusionMat)\n",
    "recall = np.diag(confusionMat)/np.sum(confusionMat, axis=1)\n",
    "precision = np.diag(confusionMat)/np.sum(confusionMat, axis=0)\n",
    "print(f\"accuracy: {accuracy:0.3f}, \"\n",
    "      f\"<precision>: {np.mean(precision):0.3f}, \"\n",
    "      f\"<recall>: {np.mean(recall):0.3f}\")"
   ]
  },
  {
   "cell_type": "markdown",
   "metadata": {},
   "source": [
    "##### Recall, precision by class\n",
    "\n",
    "Note:\n",
    "\n",
    "* `macro avg`: $\\frac{1}{K}\\sum_k m_k$, where $K$ is count of classes and $m_k$ is a given metric for class $k$\n",
    "* `weighted avg`: $\\frac{1}{N}\\sum_k n_k \\cdot m_k$, where $N$ is count of data instance, $n_k$ is the count of points in class $k$ and $m_k$ is a given metric for class $k$."
   ]
  },
  {
   "cell_type": "code",
   "execution_count": null,
   "metadata": {
    "ExecuteTime": {
     "end_time": "2020-04-08T21:29:54.501549Z",
     "start_time": "2020-04-08T21:29:53.523468Z"
    }
   },
   "outputs": [],
   "source": [
    "print(metrics.classification_report(yTe, yPred, target_names=[str(c)for c in FDAcodes]))"
   ]
  },
  {
   "cell_type": "code",
   "execution_count": null,
   "metadata": {
    "ExecuteTime": {
     "end_time": "2020-04-08T21:29:54.537245Z",
     "start_time": "2020-04-08T21:29:54.502688Z"
    },
    "scrolled": false
   },
   "outputs": [],
   "source": [
    "classCts = dfTe['fda_q_fixed'].value_counts()\n",
    "\n",
    "recall = np.diag(confusionMat)/np.sum(confusionMat, axis = 1)\n",
    "precision = np.diag(confusionMat)/np.sum(confusionMat, axis = 0)\n",
    "f1 = 2.0*precision*recall/(precision + recall)\n",
    "print(\"class\\tprecision\\trecall\\tf1\\tsize\")\n",
    "\n",
    "for FDAcode, classCt in classCts.iteritems():\n",
    "    print(f\"{FDAcode}\\t{precision[FDAcode - 1]:0.3f}\\t\\t{recall[FDAcode - 1]:0.3f}\\t{f1[FDAcode - 1]:0.3f}\\t\\t{classCt:d}\")"
   ]
  },
  {
   "cell_type": "markdown",
   "metadata": {},
   "source": [
    "### Confusion matrix plots"
   ]
  },
  {
   "cell_type": "markdown",
   "metadata": {},
   "source": [
    "#### Plot confusion matrix\n",
    "\n",
    "* As this is a straight confusion matrix, diagonal elements mostly reflect class size in test set\n",
    "* *This is hard to interpret by visual inspection alone*"
   ]
  },
  {
   "cell_type": "code",
   "execution_count": null,
   "metadata": {
    "ExecuteTime": {
     "end_time": "2020-04-08T21:29:54.567240Z",
     "start_time": "2020-04-08T21:29:54.539859Z"
    }
   },
   "outputs": [],
   "source": [
    "labelFontSz = 16\n",
    "tickFontSz = 13\n",
    "titleFontSz = 20"
   ]
  },
  {
   "cell_type": "code",
   "execution_count": null,
   "metadata": {
    "ExecuteTime": {
     "end_time": "2020-04-08T21:30:07.010581Z",
     "start_time": "2020-04-08T21:29:54.568435Z"
    },
    "scrolled": false
   },
   "outputs": [],
   "source": [
    "fig, ax = plt.subplots(1, 1, figsize=(25, 25))\n",
    "ph.plotConfusionMatrix(confusionMat, saveAs='pdf', xlabels=FDAcodes,\n",
    "                       ylabels=FDAcodes, titleText = 'Logistic Regression',\n",
    "                       ax = ax,  xlabelFontSz=labelFontSz, dir=plotDir,\n",
    "                       ylabelFontSz=labelFontSz, xtickFontSz=tickFontSz,\n",
    "                       ytickFontSz=tickFontSz, titleFontSz=titleFontSz)"
   ]
  },
  {
   "cell_type": "markdown",
   "metadata": {},
   "source": [
    "#### Plot recall confusion matrix (normalized by row)\n",
    "\n",
    "* diagonal elements now represent the *recall* for each class"
   ]
  },
  {
   "cell_type": "code",
   "execution_count": null,
   "metadata": {
    "ExecuteTime": {
     "end_time": "2020-04-08T21:30:20.373500Z",
     "start_time": "2020-04-08T21:30:07.011932Z"
    }
   },
   "outputs": [],
   "source": [
    "fig, ax = plt.subplots(1, 1, figsize=(25, 25))\n",
    "ph.plotConfusionMatrix(confusionMat, saveAs='pdf', xlabels=FDAcodes, type='recall',\n",
    "                       ylabels=FDAcodes, titleText = 'Logistic Regression',\n",
    "                       ax = ax,  xlabelFontSz=labelFontSz, dir=plotDir,\n",
    "                       ylabelFontSz=labelFontSz, xtickFontSz=tickFontSz,\n",
    "                       ytickFontSz=tickFontSz, titleFontSz=titleFontSz)"
   ]
  },
  {
   "cell_type": "markdown",
   "metadata": {},
   "source": [
    "#### Plot precision confusion matrix (normalized by column)\n",
    "\n",
    "* diagonal elements now represent the *precision* for each class"
   ]
  },
  {
   "cell_type": "code",
   "execution_count": null,
   "metadata": {
    "ExecuteTime": {
     "end_time": "2020-04-08T21:30:33.929934Z",
     "start_time": "2020-04-08T21:30:20.374617Z"
    }
   },
   "outputs": [],
   "source": [
    "fig, ax = plt.subplots(1, 1, figsize=(25, 25))\n",
    "ph.plotConfusionMatrix(confusionMat, saveAs='pdf', xlabels=FDAcodes, type='precision',\n",
    "                       ylabels=FDAcodes, titleText = 'Logistic Regression',\n",
    "                       ax = ax,  xlabelFontSz=labelFontSz, dir=plotDir,\n",
    "                       ylabelFontSz=labelFontSz, xtickFontSz=tickFontSz,\n",
    "                       ytickFontSz=tickFontSz, titleFontSz=titleFontSz)"
   ]
  }
 ],
 "metadata": {
  "kernelspec": {
   "display_name": "Python 3",
   "language": "python",
   "name": "python3"
  },
  "language_info": {
   "codemirror_mode": {
    "name": "ipython",
    "version": 3
   },
   "file_extension": ".py",
   "mimetype": "text/x-python",
   "name": "python",
   "nbconvert_exporter": "python",
   "pygments_lexer": "ipython3",
   "version": "3.6.9"
  },
  "toc": {
   "base_numbering": 1,
   "nav_menu": {},
   "number_sections": true,
   "sideBar": true,
   "skip_h1_title": true,
   "title_cell": "Table of Contents",
   "title_sidebar": "Contents",
   "toc_cell": false,
   "toc_position": {
    "height": "calc(100% - 180px)",
    "left": "10px",
    "top": "150px",
    "width": "253.797px"
   },
   "toc_section_display": true,
   "toc_window_display": true
  },
  "varInspector": {
   "cols": {
    "lenName": 16,
    "lenType": 16,
    "lenVar": 40
   },
   "kernels_config": {
    "python": {
     "delete_cmd_postfix": "",
     "delete_cmd_prefix": "del ",
     "library": "var_list.py",
     "varRefreshCmd": "print(var_dic_list())"
    },
    "r": {
     "delete_cmd_postfix": ") ",
     "delete_cmd_prefix": "rm(",
     "library": "var_list.r",
     "varRefreshCmd": "cat(var_dic_list()) "
    }
   },
   "types_to_exclude": [
    "module",
    "function",
    "builtin_function_or_method",
    "instance",
    "_Feature"
   ],
   "window_display": false
  }
 },
 "nbformat": 4,
 "nbformat_minor": 2
}
